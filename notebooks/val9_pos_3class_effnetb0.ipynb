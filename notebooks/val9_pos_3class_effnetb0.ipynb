{
 "cells": [
  {
   "cell_type": "markdown",
   "id": "8551e842",
   "metadata": {
    "papermill": {
     "duration": 0.01434,
     "end_time": "2024-08-03T11:27:24.716749",
     "exception": false,
     "start_time": "2024-08-03T11:27:24.702409",
     "status": "completed"
    },
    "tags": []
   },
   "source": [
    "# Import Required Libraries"
   ]
  },
  {
   "cell_type": "code",
   "execution_count": 1,
   "id": "17d5195f",
   "metadata": {
    "execution": {
     "iopub.execute_input": "2024-08-03T11:27:24.747014Z",
     "iopub.status.busy": "2024-08-03T11:27:24.746246Z",
     "iopub.status.idle": "2024-08-03T11:27:41.324384Z",
     "shell.execute_reply": "2024-08-03T11:27:41.323551Z"
    },
    "papermill": {
     "duration": 16.595521,
     "end_time": "2024-08-03T11:27:41.326792",
     "exception": false,
     "start_time": "2024-08-03T11:27:24.731271",
     "status": "completed"
    },
    "tags": []
   },
   "outputs": [],
   "source": [
    "WANDB = False\n",
    "EXP_NAME = \"val9_effnetb0_pos_3class\"\n",
    "# EXP_NAME = \"try\"\n",
    "\n",
    "if WANDB:\n",
    "    # !pip install wandb\n",
    "    import wandb\n",
    "    import os\n",
    "    from dotenv import load_dotenv\n",
    "    load_dotenv()\n",
    "    wandb.login(key=os.environ.get(\"WANDB_API_KEY\"))"
   ]
  },
  {
   "cell_type": "code",
   "execution_count": 2,
   "id": "0b352d5a",
   "metadata": {
    "execution": {
     "iopub.execute_input": "2024-08-03T11:27:41.395258Z",
     "iopub.status.busy": "2024-08-03T11:27:41.394999Z",
     "iopub.status.idle": "2024-08-03T11:27:49.379635Z",
     "shell.execute_reply": "2024-08-03T11:27:49.378849Z"
    },
    "papermill": {
     "duration": 8.002336,
     "end_time": "2024-08-03T11:27:49.382001",
     "exception": false,
     "start_time": "2024-08-03T11:27:41.379665",
     "status": "completed"
    },
    "tags": []
   },
   "outputs": [],
   "source": [
    "import os\n",
    "import gc\n",
    "import cv2\n",
    "import math\n",
    "import copy\n",
    "import time\n",
    "import random\n",
    "import glob\n",
    "from matplotlib import pyplot as plt\n",
    "import seaborn as sns\n",
    "from PIL import Image\n",
    "\n",
    "# For data manipulation\n",
    "import numpy as np\n",
    "import pandas as pd\n",
    "\n",
    "# Pytorch Imports\n",
    "import torch\n",
    "import torch.nn as nn\n",
    "import torch.optim as optim\n",
    "import torch.nn.functional as F\n",
    "from torch.optim import lr_scheduler\n",
    "from torch.utils.data import Dataset, DataLoader\n",
    "from torch.cuda import amp\n",
    "import torchvision\n",
    "# from torcheval.metrics.functional import binary_auroc\n",
    "\n",
    "# Utils\n",
    "import joblib\n",
    "from tqdm import tqdm\n",
    "from collections import defaultdict\n",
    "\n",
    "# Sklearn Imports\n",
    "from sklearn.preprocessing import LabelEncoder\n",
    "from sklearn.model_selection import StratifiedKFold, StratifiedGroupKFold \n",
    "from sklearn.metrics import roc_auc_score\n",
    "\n",
    "# For Image Models\n",
    "import timm\n",
    "\n",
    "# Albumentations for augmentations\n",
    "import albumentations as A\n",
    "from albumentations.pytorch import ToTensorV2\n",
    "\n",
    "# For colored terminal text\n",
    "from colorama import Fore, Back, Style\n",
    "b_ = Fore.BLUE\n",
    "sr_ = Style.RESET_ALL\n",
    "\n",
    "import warnings\n",
    "warnings.filterwarnings(\"ignore\")\n",
    "\n",
    "# For descriptive error messages\n",
    "os.environ['CUDA_LAUNCH_BLOCKING'] = \"1\""
   ]
  },
  {
   "cell_type": "markdown",
   "id": "903db01e",
   "metadata": {
    "papermill": {
     "duration": 0.014258,
     "end_time": "2024-08-03T11:27:49.411099",
     "exception": false,
     "start_time": "2024-08-03T11:27:49.396841",
     "status": "completed"
    },
    "tags": []
   },
   "source": [
    "# Training Configuration"
   ]
  },
  {
   "cell_type": "code",
   "execution_count": 3,
   "id": "2b8c5e68",
   "metadata": {
    "execution": {
     "iopub.execute_input": "2024-08-03T11:27:49.441606Z",
     "iopub.status.busy": "2024-08-03T11:27:49.440684Z",
     "iopub.status.idle": "2024-08-03T11:27:49.500885Z",
     "shell.execute_reply": "2024-08-03T11:27:49.499892Z"
    },
    "papermill": {
     "duration": 0.077554,
     "end_time": "2024-08-03T11:27:49.502883",
     "exception": false,
     "start_time": "2024-08-03T11:27:49.425329",
     "status": "completed"
    },
    "tags": []
   },
   "outputs": [],
   "source": [
    "CONFIG = {\n",
    "    \"seed\": 42,\n",
    "    \"epochs\": 50,\n",
    "    # \"epochs\": 3, #######　後でなおすこと\n",
    "    \"img_size\": 384,\n",
    "    \"model_name\": \"tf_efficientnet_b0_ns\",\n",
    "    \"checkpoint_path\" : \"/kaggle/input/tf-efficientnet/pytorch/tf-efficientnet-b0/1/tf_efficientnet_b0_aa-827b6e33.pth\",\n",
    "    \"train_batch_size\": 64,\n",
    "    \"valid_batch_size\": 128,\n",
    "    \"learning_rate\": 1e-3,\n",
    "    \"scheduler\": 'CosineAnnealingLR',\n",
    "    \"min_lr\": 1e-8,\n",
    "#     \"T_max\": 10316,\n",
    "    \"weight_decay\": 1e-5,\n",
    "    \"fold\" : 0,\n",
    "    \"n_fold\": 5,\n",
    "    \"n_accumulate\": 1,\n",
    "    \"device\": torch.device(\"cuda:0\" if torch.cuda.is_available() else \"cpu\"),\n",
    "    \"save_dir\": \"../proc/val3\",\n",
    "    \"save_preds\": False,\n",
    "    \"save_dir_preds\": \"../proc/preds\",\n",
    "    \"use_tta\": False,\n",
    "    \"mixup_alpha\": 0.35,  # 既存のMixupのパラメータ\n",
    "    \"mixup_epochs\": -999,  # Mixupを適用するエポック数を追加\n",
    "}"
   ]
  },
  {
   "cell_type": "markdown",
   "id": "cddc65ff",
   "metadata": {
    "papermill": {
     "duration": 0.014141,
     "end_time": "2024-08-03T11:27:49.531761",
     "exception": false,
     "start_time": "2024-08-03T11:27:49.517620",
     "status": "completed"
    },
    "tags": []
   },
   "source": [
    "# Set Seed for Reproducibility"
   ]
  },
  {
   "cell_type": "code",
   "execution_count": 4,
   "id": "98b9513a",
   "metadata": {
    "execution": {
     "iopub.execute_input": "2024-08-03T11:27:49.562058Z",
     "iopub.status.busy": "2024-08-03T11:27:49.561688Z",
     "iopub.status.idle": "2024-08-03T11:27:49.570471Z",
     "shell.execute_reply": "2024-08-03T11:27:49.569784Z"
    },
    "papermill": {
     "duration": 0.026141,
     "end_time": "2024-08-03T11:27:49.572357",
     "exception": false,
     "start_time": "2024-08-03T11:27:49.546216",
     "status": "completed"
    },
    "tags": []
   },
   "outputs": [],
   "source": [
    "def set_seed(seed=42):\n",
    "    '''Sets the seed of the entire notebook so results are the same every time we run.\n",
    "    This is for REPRODUCIBILITY.'''\n",
    "    np.random.seed(seed)\n",
    "    torch.manual_seed(seed)\n",
    "    torch.cuda.manual_seed(seed)\n",
    "    # When running on the CuDNN backend, two further options must be set\n",
    "    torch.backends.cudnn.deterministic = True\n",
    "    torch.backends.cudnn.benchmark = False\n",
    "    # Set a fixed value for the hash seed\n",
    "    os.environ['PYTHONHASHSEED'] = str(seed)\n",
    "    \n",
    "set_seed(CONFIG['seed'])"
   ]
  },
  {
   "cell_type": "code",
   "execution_count": 5,
   "id": "d7c70b6f",
   "metadata": {
    "execution": {
     "iopub.execute_input": "2024-08-03T11:27:49.602533Z",
     "iopub.status.busy": "2024-08-03T11:27:49.601829Z",
     "iopub.status.idle": "2024-08-03T11:27:49.605780Z",
     "shell.execute_reply": "2024-08-03T11:27:49.604966Z"
    },
    "papermill": {
     "duration": 0.020996,
     "end_time": "2024-08-03T11:27:49.607665",
     "exception": false,
     "start_time": "2024-08-03T11:27:49.586669",
     "status": "completed"
    },
    "tags": []
   },
   "outputs": [],
   "source": [
    "ROOT_DIR = \"../raw\"\n",
    "TRAIN_DIR = f'{ROOT_DIR}/train-image/image'"
   ]
  },
  {
   "cell_type": "code",
   "execution_count": 6,
   "id": "a11c344b",
   "metadata": {
    "execution": {
     "iopub.execute_input": "2024-08-03T11:27:49.637452Z",
     "iopub.status.busy": "2024-08-03T11:27:49.637203Z",
     "iopub.status.idle": "2024-08-03T11:27:49.641108Z",
     "shell.execute_reply": "2024-08-03T11:27:49.640269Z"
    },
    "papermill": {
     "duration": 0.020939,
     "end_time": "2024-08-03T11:27:49.642937",
     "exception": false,
     "start_time": "2024-08-03T11:27:49.621998",
     "status": "completed"
    },
    "tags": []
   },
   "outputs": [],
   "source": [
    "def get_train_file_path(image_id):\n",
    "    return f\"{TRAIN_DIR}/{image_id}.jpg\""
   ]
  },
  {
   "cell_type": "markdown",
   "id": "4660cf08",
   "metadata": {
    "papermill": {
     "duration": 0.014646,
     "end_time": "2024-08-03T11:27:49.672275",
     "exception": false,
     "start_time": "2024-08-03T11:27:49.657629",
     "status": "completed"
    },
    "tags": []
   },
   "source": [
    "# Read the Data"
   ]
  },
  {
   "cell_type": "code",
   "execution_count": 7,
   "id": "bcaf087a",
   "metadata": {
    "execution": {
     "iopub.execute_input": "2024-08-03T11:27:49.703417Z",
     "iopub.status.busy": "2024-08-03T11:27:49.703087Z",
     "iopub.status.idle": "2024-08-03T11:27:53.557484Z",
     "shell.execute_reply": "2024-08-03T11:27:53.556536Z"
    },
    "papermill": {
     "duration": 3.872522,
     "end_time": "2024-08-03T11:27:53.559821",
     "exception": false,
     "start_time": "2024-08-03T11:27:49.687299",
     "status": "completed"
    },
    "tags": []
   },
   "outputs": [],
   "source": [
    "train_images = sorted(glob.glob(f\"{TRAIN_DIR}/*.jpg\"))"
   ]
  },
  {
   "cell_type": "code",
   "execution_count": 8,
   "id": "b07f48bc",
   "metadata": {
    "execution": {
     "iopub.execute_input": "2024-08-03T11:27:53.590652Z",
     "iopub.status.busy": "2024-08-03T11:27:53.590323Z",
     "iopub.status.idle": "2024-08-03T11:28:01.727632Z",
     "shell.execute_reply": "2024-08-03T11:28:01.726742Z"
    },
    "papermill": {
     "duration": 8.155275,
     "end_time": "2024-08-03T11:28:01.730168",
     "exception": false,
     "start_time": "2024-08-03T11:27:53.574893",
     "status": "completed"
    },
    "tags": []
   },
   "outputs": [
    {
     "name": "stdout",
     "output_type": "stream",
     "text": [
      "(401059, 55)\n"
     ]
    },
    {
     "data": {
      "text/html": [
       "<div>\n",
       "<style scoped>\n",
       "    .dataframe tbody tr th:only-of-type {\n",
       "        vertical-align: middle;\n",
       "    }\n",
       "\n",
       "    .dataframe tbody tr th {\n",
       "        vertical-align: top;\n",
       "    }\n",
       "\n",
       "    .dataframe thead th {\n",
       "        text-align: right;\n",
       "    }\n",
       "</style>\n",
       "<table border=\"1\" class=\"dataframe\">\n",
       "  <thead>\n",
       "    <tr style=\"text-align: right;\">\n",
       "      <th></th>\n",
       "      <th>isic_id</th>\n",
       "      <th>target</th>\n",
       "      <th>patient_id</th>\n",
       "      <th>age_approx</th>\n",
       "      <th>sex</th>\n",
       "      <th>anatom_site_general</th>\n",
       "      <th>clin_size_long_diam_mm</th>\n",
       "      <th>image_type</th>\n",
       "      <th>tbp_tile_type</th>\n",
       "      <th>tbp_lv_A</th>\n",
       "      <th>...</th>\n",
       "      <th>iddx_full</th>\n",
       "      <th>iddx_1</th>\n",
       "      <th>iddx_2</th>\n",
       "      <th>iddx_3</th>\n",
       "      <th>iddx_4</th>\n",
       "      <th>iddx_5</th>\n",
       "      <th>mel_mitotic_index</th>\n",
       "      <th>mel_thick_mm</th>\n",
       "      <th>tbp_lv_dnn_lesion_confidence</th>\n",
       "      <th>file_path</th>\n",
       "    </tr>\n",
       "  </thead>\n",
       "  <tbody>\n",
       "    <tr>\n",
       "      <th>0</th>\n",
       "      <td>ISIC_0015670</td>\n",
       "      <td>0</td>\n",
       "      <td>IP_1235828</td>\n",
       "      <td>60.0</td>\n",
       "      <td>male</td>\n",
       "      <td>lower extremity</td>\n",
       "      <td>3.04</td>\n",
       "      <td>TBP tile: close-up</td>\n",
       "      <td>3D: white</td>\n",
       "      <td>20.244422</td>\n",
       "      <td>...</td>\n",
       "      <td>Benign</td>\n",
       "      <td>Benign</td>\n",
       "      <td>NaN</td>\n",
       "      <td>NaN</td>\n",
       "      <td>NaN</td>\n",
       "      <td>NaN</td>\n",
       "      <td>NaN</td>\n",
       "      <td>NaN</td>\n",
       "      <td>97.517282</td>\n",
       "      <td>../raw/train-image/image/ISIC_0015670.jpg</td>\n",
       "    </tr>\n",
       "    <tr>\n",
       "      <th>1</th>\n",
       "      <td>ISIC_0015845</td>\n",
       "      <td>0</td>\n",
       "      <td>IP_8170065</td>\n",
       "      <td>60.0</td>\n",
       "      <td>male</td>\n",
       "      <td>head/neck</td>\n",
       "      <td>1.10</td>\n",
       "      <td>TBP tile: close-up</td>\n",
       "      <td>3D: white</td>\n",
       "      <td>31.712570</td>\n",
       "      <td>...</td>\n",
       "      <td>Benign</td>\n",
       "      <td>Benign</td>\n",
       "      <td>NaN</td>\n",
       "      <td>NaN</td>\n",
       "      <td>NaN</td>\n",
       "      <td>NaN</td>\n",
       "      <td>NaN</td>\n",
       "      <td>NaN</td>\n",
       "      <td>3.141455</td>\n",
       "      <td>../raw/train-image/image/ISIC_0015845.jpg</td>\n",
       "    </tr>\n",
       "    <tr>\n",
       "      <th>2</th>\n",
       "      <td>ISIC_0015864</td>\n",
       "      <td>0</td>\n",
       "      <td>IP_6724798</td>\n",
       "      <td>60.0</td>\n",
       "      <td>male</td>\n",
       "      <td>posterior torso</td>\n",
       "      <td>3.40</td>\n",
       "      <td>TBP tile: close-up</td>\n",
       "      <td>3D: XP</td>\n",
       "      <td>22.575830</td>\n",
       "      <td>...</td>\n",
       "      <td>Benign</td>\n",
       "      <td>Benign</td>\n",
       "      <td>NaN</td>\n",
       "      <td>NaN</td>\n",
       "      <td>NaN</td>\n",
       "      <td>NaN</td>\n",
       "      <td>NaN</td>\n",
       "      <td>NaN</td>\n",
       "      <td>99.804040</td>\n",
       "      <td>../raw/train-image/image/ISIC_0015864.jpg</td>\n",
       "    </tr>\n",
       "    <tr>\n",
       "      <th>3</th>\n",
       "      <td>ISIC_0015902</td>\n",
       "      <td>0</td>\n",
       "      <td>IP_4111386</td>\n",
       "      <td>65.0</td>\n",
       "      <td>male</td>\n",
       "      <td>anterior torso</td>\n",
       "      <td>3.22</td>\n",
       "      <td>TBP tile: close-up</td>\n",
       "      <td>3D: XP</td>\n",
       "      <td>14.242329</td>\n",
       "      <td>...</td>\n",
       "      <td>Benign</td>\n",
       "      <td>Benign</td>\n",
       "      <td>NaN</td>\n",
       "      <td>NaN</td>\n",
       "      <td>NaN</td>\n",
       "      <td>NaN</td>\n",
       "      <td>NaN</td>\n",
       "      <td>NaN</td>\n",
       "      <td>99.989998</td>\n",
       "      <td>../raw/train-image/image/ISIC_0015902.jpg</td>\n",
       "    </tr>\n",
       "    <tr>\n",
       "      <th>4</th>\n",
       "      <td>ISIC_0024200</td>\n",
       "      <td>0</td>\n",
       "      <td>IP_8313778</td>\n",
       "      <td>55.0</td>\n",
       "      <td>male</td>\n",
       "      <td>anterior torso</td>\n",
       "      <td>2.73</td>\n",
       "      <td>TBP tile: close-up</td>\n",
       "      <td>3D: white</td>\n",
       "      <td>24.725520</td>\n",
       "      <td>...</td>\n",
       "      <td>Benign</td>\n",
       "      <td>Benign</td>\n",
       "      <td>NaN</td>\n",
       "      <td>NaN</td>\n",
       "      <td>NaN</td>\n",
       "      <td>NaN</td>\n",
       "      <td>NaN</td>\n",
       "      <td>NaN</td>\n",
       "      <td>70.442510</td>\n",
       "      <td>../raw/train-image/image/ISIC_0024200.jpg</td>\n",
       "    </tr>\n",
       "    <tr>\n",
       "      <th>...</th>\n",
       "      <td>...</td>\n",
       "      <td>...</td>\n",
       "      <td>...</td>\n",
       "      <td>...</td>\n",
       "      <td>...</td>\n",
       "      <td>...</td>\n",
       "      <td>...</td>\n",
       "      <td>...</td>\n",
       "      <td>...</td>\n",
       "      <td>...</td>\n",
       "      <td>...</td>\n",
       "      <td>...</td>\n",
       "      <td>...</td>\n",
       "      <td>...</td>\n",
       "      <td>...</td>\n",
       "      <td>...</td>\n",
       "      <td>...</td>\n",
       "      <td>...</td>\n",
       "      <td>...</td>\n",
       "      <td>...</td>\n",
       "      <td>...</td>\n",
       "    </tr>\n",
       "    <tr>\n",
       "      <th>401054</th>\n",
       "      <td>ISIC_9999937</td>\n",
       "      <td>0</td>\n",
       "      <td>IP_1140263</td>\n",
       "      <td>70.0</td>\n",
       "      <td>male</td>\n",
       "      <td>anterior torso</td>\n",
       "      <td>6.80</td>\n",
       "      <td>TBP tile: close-up</td>\n",
       "      <td>3D: XP</td>\n",
       "      <td>22.574335</td>\n",
       "      <td>...</td>\n",
       "      <td>Benign</td>\n",
       "      <td>Benign</td>\n",
       "      <td>NaN</td>\n",
       "      <td>NaN</td>\n",
       "      <td>NaN</td>\n",
       "      <td>NaN</td>\n",
       "      <td>NaN</td>\n",
       "      <td>NaN</td>\n",
       "      <td>99.999988</td>\n",
       "      <td>../raw/train-image/image/ISIC_9999937.jpg</td>\n",
       "    </tr>\n",
       "    <tr>\n",
       "      <th>401055</th>\n",
       "      <td>ISIC_9999951</td>\n",
       "      <td>0</td>\n",
       "      <td>IP_5678181</td>\n",
       "      <td>60.0</td>\n",
       "      <td>male</td>\n",
       "      <td>posterior torso</td>\n",
       "      <td>3.11</td>\n",
       "      <td>TBP tile: close-up</td>\n",
       "      <td>3D: white</td>\n",
       "      <td>19.977640</td>\n",
       "      <td>...</td>\n",
       "      <td>Benign</td>\n",
       "      <td>Benign</td>\n",
       "      <td>NaN</td>\n",
       "      <td>NaN</td>\n",
       "      <td>NaN</td>\n",
       "      <td>NaN</td>\n",
       "      <td>NaN</td>\n",
       "      <td>NaN</td>\n",
       "      <td>99.999820</td>\n",
       "      <td>../raw/train-image/image/ISIC_9999951.jpg</td>\n",
       "    </tr>\n",
       "    <tr>\n",
       "      <th>401056</th>\n",
       "      <td>ISIC_9999960</td>\n",
       "      <td>0</td>\n",
       "      <td>IP_0076153</td>\n",
       "      <td>65.0</td>\n",
       "      <td>female</td>\n",
       "      <td>anterior torso</td>\n",
       "      <td>2.05</td>\n",
       "      <td>TBP tile: close-up</td>\n",
       "      <td>3D: XP</td>\n",
       "      <td>17.332567</td>\n",
       "      <td>...</td>\n",
       "      <td>Benign</td>\n",
       "      <td>Benign</td>\n",
       "      <td>NaN</td>\n",
       "      <td>NaN</td>\n",
       "      <td>NaN</td>\n",
       "      <td>NaN</td>\n",
       "      <td>NaN</td>\n",
       "      <td>NaN</td>\n",
       "      <td>99.999416</td>\n",
       "      <td>../raw/train-image/image/ISIC_9999960.jpg</td>\n",
       "    </tr>\n",
       "    <tr>\n",
       "      <th>401057</th>\n",
       "      <td>ISIC_9999964</td>\n",
       "      <td>0</td>\n",
       "      <td>IP_5231513</td>\n",
       "      <td>30.0</td>\n",
       "      <td>female</td>\n",
       "      <td>anterior torso</td>\n",
       "      <td>2.80</td>\n",
       "      <td>TBP tile: close-up</td>\n",
       "      <td>3D: XP</td>\n",
       "      <td>22.288570</td>\n",
       "      <td>...</td>\n",
       "      <td>Benign</td>\n",
       "      <td>Benign</td>\n",
       "      <td>NaN</td>\n",
       "      <td>NaN</td>\n",
       "      <td>NaN</td>\n",
       "      <td>NaN</td>\n",
       "      <td>NaN</td>\n",
       "      <td>NaN</td>\n",
       "      <td>100.000000</td>\n",
       "      <td>../raw/train-image/image/ISIC_9999964.jpg</td>\n",
       "    </tr>\n",
       "    <tr>\n",
       "      <th>401058</th>\n",
       "      <td>ISIC_9999967</td>\n",
       "      <td>0</td>\n",
       "      <td>IP_6426047</td>\n",
       "      <td>50.0</td>\n",
       "      <td>male</td>\n",
       "      <td>lower extremity</td>\n",
       "      <td>3.30</td>\n",
       "      <td>TBP tile: close-up</td>\n",
       "      <td>3D: XP</td>\n",
       "      <td>16.792900</td>\n",
       "      <td>...</td>\n",
       "      <td>Benign</td>\n",
       "      <td>Benign</td>\n",
       "      <td>NaN</td>\n",
       "      <td>NaN</td>\n",
       "      <td>NaN</td>\n",
       "      <td>NaN</td>\n",
       "      <td>NaN</td>\n",
       "      <td>NaN</td>\n",
       "      <td>99.999960</td>\n",
       "      <td>../raw/train-image/image/ISIC_9999967.jpg</td>\n",
       "    </tr>\n",
       "  </tbody>\n",
       "</table>\n",
       "<p>401059 rows × 56 columns</p>\n",
       "</div>"
      ],
      "text/plain": [
       "             isic_id  target  patient_id  age_approx     sex  \\\n",
       "0       ISIC_0015670       0  IP_1235828        60.0    male   \n",
       "1       ISIC_0015845       0  IP_8170065        60.0    male   \n",
       "2       ISIC_0015864       0  IP_6724798        60.0    male   \n",
       "3       ISIC_0015902       0  IP_4111386        65.0    male   \n",
       "4       ISIC_0024200       0  IP_8313778        55.0    male   \n",
       "...              ...     ...         ...         ...     ...   \n",
       "401054  ISIC_9999937       0  IP_1140263        70.0    male   \n",
       "401055  ISIC_9999951       0  IP_5678181        60.0    male   \n",
       "401056  ISIC_9999960       0  IP_0076153        65.0  female   \n",
       "401057  ISIC_9999964       0  IP_5231513        30.0  female   \n",
       "401058  ISIC_9999967       0  IP_6426047        50.0    male   \n",
       "\n",
       "       anatom_site_general  clin_size_long_diam_mm          image_type  \\\n",
       "0          lower extremity                    3.04  TBP tile: close-up   \n",
       "1                head/neck                    1.10  TBP tile: close-up   \n",
       "2          posterior torso                    3.40  TBP tile: close-up   \n",
       "3           anterior torso                    3.22  TBP tile: close-up   \n",
       "4           anterior torso                    2.73  TBP tile: close-up   \n",
       "...                    ...                     ...                 ...   \n",
       "401054      anterior torso                    6.80  TBP tile: close-up   \n",
       "401055     posterior torso                    3.11  TBP tile: close-up   \n",
       "401056      anterior torso                    2.05  TBP tile: close-up   \n",
       "401057      anterior torso                    2.80  TBP tile: close-up   \n",
       "401058     lower extremity                    3.30  TBP tile: close-up   \n",
       "\n",
       "       tbp_tile_type   tbp_lv_A  ...  iddx_full  iddx_1  iddx_2  iddx_3  \\\n",
       "0          3D: white  20.244422  ...     Benign  Benign     NaN     NaN   \n",
       "1          3D: white  31.712570  ...     Benign  Benign     NaN     NaN   \n",
       "2             3D: XP  22.575830  ...     Benign  Benign     NaN     NaN   \n",
       "3             3D: XP  14.242329  ...     Benign  Benign     NaN     NaN   \n",
       "4          3D: white  24.725520  ...     Benign  Benign     NaN     NaN   \n",
       "...              ...        ...  ...        ...     ...     ...     ...   \n",
       "401054        3D: XP  22.574335  ...     Benign  Benign     NaN     NaN   \n",
       "401055     3D: white  19.977640  ...     Benign  Benign     NaN     NaN   \n",
       "401056        3D: XP  17.332567  ...     Benign  Benign     NaN     NaN   \n",
       "401057        3D: XP  22.288570  ...     Benign  Benign     NaN     NaN   \n",
       "401058        3D: XP  16.792900  ...     Benign  Benign     NaN     NaN   \n",
       "\n",
       "        iddx_4  iddx_5  mel_mitotic_index  mel_thick_mm  \\\n",
       "0          NaN     NaN                NaN           NaN   \n",
       "1          NaN     NaN                NaN           NaN   \n",
       "2          NaN     NaN                NaN           NaN   \n",
       "3          NaN     NaN                NaN           NaN   \n",
       "4          NaN     NaN                NaN           NaN   \n",
       "...        ...     ...                ...           ...   \n",
       "401054     NaN     NaN                NaN           NaN   \n",
       "401055     NaN     NaN                NaN           NaN   \n",
       "401056     NaN     NaN                NaN           NaN   \n",
       "401057     NaN     NaN                NaN           NaN   \n",
       "401058     NaN     NaN                NaN           NaN   \n",
       "\n",
       "        tbp_lv_dnn_lesion_confidence  \\\n",
       "0                          97.517282   \n",
       "1                           3.141455   \n",
       "2                          99.804040   \n",
       "3                          99.989998   \n",
       "4                          70.442510   \n",
       "...                              ...   \n",
       "401054                     99.999988   \n",
       "401055                     99.999820   \n",
       "401056                     99.999416   \n",
       "401057                    100.000000   \n",
       "401058                     99.999960   \n",
       "\n",
       "                                        file_path  \n",
       "0       ../raw/train-image/image/ISIC_0015670.jpg  \n",
       "1       ../raw/train-image/image/ISIC_0015845.jpg  \n",
       "2       ../raw/train-image/image/ISIC_0015864.jpg  \n",
       "3       ../raw/train-image/image/ISIC_0015902.jpg  \n",
       "4       ../raw/train-image/image/ISIC_0024200.jpg  \n",
       "...                                           ...  \n",
       "401054  ../raw/train-image/image/ISIC_9999937.jpg  \n",
       "401055  ../raw/train-image/image/ISIC_9999951.jpg  \n",
       "401056  ../raw/train-image/image/ISIC_9999960.jpg  \n",
       "401057  ../raw/train-image/image/ISIC_9999964.jpg  \n",
       "401058  ../raw/train-image/image/ISIC_9999967.jpg  \n",
       "\n",
       "[401059 rows x 56 columns]"
      ]
     },
     "execution_count": 8,
     "metadata": {},
     "output_type": "execute_result"
    }
   ],
   "source": [
    "df = pd.read_csv(f\"{ROOT_DIR}/train-metadata.csv\")\n",
    "print(df.shape)\n",
    "df['file_path'] = df['isic_id'].apply(get_train_file_path)\n",
    "df = df[ df[\"file_path\"].isin(train_images) ].reset_index(drop=True)\n",
    "df"
   ]
  },
  {
   "cell_type": "code",
   "execution_count": 9,
   "id": "8b41035a",
   "metadata": {},
   "outputs": [
    {
     "data": {
      "text/plain": [
       "target_mod\n",
       "0    400666\n",
       "1       236\n",
       "2       157\n",
       "Name: count, dtype: int64"
      ]
     },
     "execution_count": 9,
     "metadata": {},
     "output_type": "execute_result"
    }
   ],
   "source": [
    "def get_target_mod(x):\n",
    "    if \"Melanoma\" in x:\n",
    "        return 2\n",
    "    else:\n",
    "        return 1\n",
    "\n",
    "# targetを0,1,2に変換\n",
    "df[\"target_mod\"] = df[\"target\"]\n",
    "df.loc[df[\"target\"]==1, \"target_mod\"] = df.loc[df[\"target\"]==1, \"iddx_full\"].apply(get_target_mod)\n",
    "\n",
    "df[\"target_mod\"].value_counts()"
   ]
  },
  {
   "cell_type": "code",
   "execution_count": 10,
   "id": "013cd69c",
   "metadata": {
    "execution": {
     "iopub.execute_input": "2024-08-03T11:28:01.762226Z",
     "iopub.status.busy": "2024-08-03T11:28:01.761517Z",
     "iopub.status.idle": "2024-08-03T11:28:01.767649Z",
     "shell.execute_reply": "2024-08-03T11:28:01.766935Z"
    },
    "papermill": {
     "duration": 0.023878,
     "end_time": "2024-08-03T11:28:01.769506",
     "exception": false,
     "start_time": "2024-08-03T11:28:01.745628",
     "status": "completed"
    },
    "tags": []
   },
   "outputs": [
    {
     "data": {
      "text/plain": [
       "(401059, 393)"
      ]
     },
     "execution_count": 10,
     "metadata": {},
     "output_type": "execute_result"
    }
   ],
   "source": [
    "df.shape[0], df.target.sum()"
   ]
  },
  {
   "cell_type": "markdown",
   "id": "561d0151",
   "metadata": {
    "papermill": {
     "duration": 0.014872,
     "end_time": "2024-08-03T11:28:01.835619",
     "exception": false,
     "start_time": "2024-08-03T11:28:01.820747",
     "status": "completed"
    },
    "tags": []
   },
   "source": [
    "# <span><h1 style = \"font-family: garamond; font-size: 40px; font-style: normal; letter-spcaing: 3px; background-color: #f6f5f5; color :#fe346e; border-radius: 100px 100px; text-align:center\">Create Folds</h1></span>"
   ]
  },
  {
   "cell_type": "code",
   "execution_count": 11,
   "id": "84a1417e",
   "metadata": {
    "execution": {
     "iopub.execute_input": "2024-08-03T11:28:01.866585Z",
     "iopub.status.busy": "2024-08-03T11:28:01.866313Z",
     "iopub.status.idle": "2024-08-03T11:28:04.760208Z",
     "shell.execute_reply": "2024-08-03T11:28:04.759287Z"
    },
    "papermill": {
     "duration": 2.911893,
     "end_time": "2024-08-03T11:28:04.762481",
     "exception": false,
     "start_time": "2024-08-03T11:28:01.850588",
     "status": "completed"
    },
    "tags": []
   },
   "outputs": [
    {
     "data": {
      "text/html": [
       "<div>\n",
       "<style scoped>\n",
       "    .dataframe tbody tr th:only-of-type {\n",
       "        vertical-align: middle;\n",
       "    }\n",
       "\n",
       "    .dataframe tbody tr th {\n",
       "        vertical-align: top;\n",
       "    }\n",
       "\n",
       "    .dataframe thead th {\n",
       "        text-align: right;\n",
       "    }\n",
       "</style>\n",
       "<table border=\"1\" class=\"dataframe\">\n",
       "  <thead>\n",
       "    <tr style=\"text-align: right;\">\n",
       "      <th></th>\n",
       "      <th>isic_id</th>\n",
       "      <th>kfold</th>\n",
       "    </tr>\n",
       "  </thead>\n",
       "  <tbody>\n",
       "    <tr>\n",
       "      <th>0</th>\n",
       "      <td>ISIC_0015670</td>\n",
       "      <td>3.0</td>\n",
       "    </tr>\n",
       "    <tr>\n",
       "      <th>1</th>\n",
       "      <td>ISIC_0015845</td>\n",
       "      <td>1.0</td>\n",
       "    </tr>\n",
       "    <tr>\n",
       "      <th>2</th>\n",
       "      <td>ISIC_0015864</td>\n",
       "      <td>0.0</td>\n",
       "    </tr>\n",
       "    <tr>\n",
       "      <th>3</th>\n",
       "      <td>ISIC_0015902</td>\n",
       "      <td>2.0</td>\n",
       "    </tr>\n",
       "    <tr>\n",
       "      <th>4</th>\n",
       "      <td>ISIC_0024200</td>\n",
       "      <td>1.0</td>\n",
       "    </tr>\n",
       "    <tr>\n",
       "      <th>...</th>\n",
       "      <td>...</td>\n",
       "      <td>...</td>\n",
       "    </tr>\n",
       "    <tr>\n",
       "      <th>401054</th>\n",
       "      <td>ISIC_9999937</td>\n",
       "      <td>1.0</td>\n",
       "    </tr>\n",
       "    <tr>\n",
       "      <th>401055</th>\n",
       "      <td>ISIC_9999951</td>\n",
       "      <td>1.0</td>\n",
       "    </tr>\n",
       "    <tr>\n",
       "      <th>401056</th>\n",
       "      <td>ISIC_9999960</td>\n",
       "      <td>0.0</td>\n",
       "    </tr>\n",
       "    <tr>\n",
       "      <th>401057</th>\n",
       "      <td>ISIC_9999964</td>\n",
       "      <td>2.0</td>\n",
       "    </tr>\n",
       "    <tr>\n",
       "      <th>401058</th>\n",
       "      <td>ISIC_9999967</td>\n",
       "      <td>2.0</td>\n",
       "    </tr>\n",
       "  </tbody>\n",
       "</table>\n",
       "<p>401059 rows × 2 columns</p>\n",
       "</div>"
      ],
      "text/plain": [
       "             isic_id  kfold\n",
       "0       ISIC_0015670    3.0\n",
       "1       ISIC_0015845    1.0\n",
       "2       ISIC_0015864    0.0\n",
       "3       ISIC_0015902    2.0\n",
       "4       ISIC_0024200    1.0\n",
       "...              ...    ...\n",
       "401054  ISIC_9999937    1.0\n",
       "401055  ISIC_9999951    1.0\n",
       "401056  ISIC_9999960    0.0\n",
       "401057  ISIC_9999964    2.0\n",
       "401058  ISIC_9999967    2.0\n",
       "\n",
       "[401059 rows x 2 columns]"
      ]
     },
     "execution_count": 11,
     "metadata": {},
     "output_type": "execute_result"
    }
   ],
   "source": [
    "sgkf = StratifiedGroupKFold(n_splits=CONFIG['n_fold'], shuffle=True, random_state=0)\n",
    "\n",
    "for fold, ( _, val_) in enumerate(sgkf.split(df, df.target_mod, df.patient_id)):\n",
    "      df.loc[val_ , \"kfold\"] = int(fold)\n",
    "        \n",
    "# df[[\"isic_id\", \"kfold\"]].to_csv(\"df_fold.csv\", index=False)\n",
    "df[[\"isic_id\", \"kfold\"]]"
   ]
  },
  {
   "cell_type": "code",
   "execution_count": 12,
   "id": "591e1b29",
   "metadata": {},
   "outputs": [
    {
     "name": "stdout",
     "output_type": "stream",
     "text": [
      "0\n",
      "target_mod\n",
      "0    79099\n",
      "2       31\n",
      "1       30\n",
      "Name: count, dtype: int64\n",
      "1\n",
      "target_mod\n",
      "0    82555\n",
      "1       50\n",
      "2       34\n",
      "Name: count, dtype: int64\n",
      "2\n",
      "target_mod\n",
      "0    83356\n",
      "1       60\n",
      "2       27\n",
      "Name: count, dtype: int64\n",
      "3\n",
      "target_mod\n",
      "0    67974\n",
      "1       38\n",
      "2       21\n",
      "Name: count, dtype: int64\n",
      "4\n",
      "target_mod\n",
      "0    87682\n",
      "1       58\n",
      "2       44\n",
      "Name: count, dtype: int64\n"
     ]
    }
   ],
   "source": [
    "for fold in range(5):\n",
    "    print(fold)\n",
    "    print(df.loc[df[\"kfold\"]==fold, \"target_mod\"].value_counts())"
   ]
  },
  {
   "cell_type": "markdown",
   "id": "bb8dc293",
   "metadata": {
    "papermill": {
     "duration": 0.015096,
     "end_time": "2024-08-03T11:28:04.793797",
     "exception": false,
     "start_time": "2024-08-03T11:28:04.778701",
     "status": "completed"
    },
    "tags": []
   },
   "source": [
    "# <span><h1 style = \"font-family: garamond; font-size: 40px; font-style: normal; letter-spcaing: 3px; background-color: #f6f5f5; color :#fe346e; border-radius: 100px 100px; text-align:center\">Dataset Class</h1></span>"
   ]
  },
  {
   "cell_type": "code",
   "execution_count": 13,
   "id": "375a56c1",
   "metadata": {
    "execution": {
     "iopub.execute_input": "2024-08-03T11:28:04.825932Z",
     "iopub.status.busy": "2024-08-03T11:28:04.825247Z",
     "iopub.status.idle": "2024-08-03T11:28:04.837789Z",
     "shell.execute_reply": "2024-08-03T11:28:04.836967Z"
    },
    "papermill": {
     "duration": 0.030647,
     "end_time": "2024-08-03T11:28:04.839661",
     "exception": false,
     "start_time": "2024-08-03T11:28:04.809014",
     "status": "completed"
    },
    "tags": []
   },
   "outputs": [],
   "source": [
    "class ISICDataset_for_Train(Dataset):\n",
    "    def __init__(self, df, transforms=None):\n",
    "        self.df_positive = df[df[\"target_mod\"] == 1].reset_index()\n",
    "        self.df_negative = df[df[\"target_mod\"] == 0].reset_index()\n",
    "        self.df_positive2 = df[df[\"target_mod\"] == 2].reset_index()\n",
    "        self.file_names_positive = self.df_positive['file_path'].values\n",
    "        self.file_names_negative = self.df_negative['file_path'].values\n",
    "        self.file_names_positive2 = self.df_positive2['file_path'].values\n",
    "        self.targets_positive = self.df_positive['target_mod'].values\n",
    "        self.targets_negative = self.df_negative['target_mod'].values\n",
    "        self.targets_positive2 = self.df_positive2['target_mod'].values\n",
    "        self.transforms = transforms\n",
    "        \n",
    "    def __len__(self):\n",
    "        return (len(self.df_positive) + len(self.df_positive2)) * 2\n",
    "    \n",
    "    def __getitem__(self, index):\n",
    "        random_num = random.random()\n",
    "        if random_num > 0.66667:\n",
    "            df = self.df_positive\n",
    "            file_names = self.file_names_positive\n",
    "            targets = self.targets_positive\n",
    "        elif random_num > 0.33333:\n",
    "            df = self.df_positive2\n",
    "            file_names = self.file_names_positive2\n",
    "            targets = self.targets_positive2\n",
    "        else:\n",
    "            df = self.df_negative\n",
    "            file_names = self.file_names_negative\n",
    "            targets = self.targets_negative\n",
    "        index = index % df.shape[0]\n",
    "        \n",
    "        img_path = file_names[index]\n",
    "        img = cv2.imread(img_path)\n",
    "        img = cv2.cvtColor(img, cv2.COLOR_BGR2RGB)\n",
    "        target = targets[index]\n",
    "        \n",
    "        if self.transforms:\n",
    "            img = self.transforms(image=img)[\"image\"]\n",
    "            \n",
    "        return {\n",
    "            'image': img,\n",
    "            'target': target\n",
    "        }\n",
    "\n",
    "class ISICDataset(Dataset):\n",
    "    def __init__(self, df, transforms=None):\n",
    "        self.df = df\n",
    "        self.file_names = df['file_path'].values\n",
    "        self.targets = df['target_mod'].values\n",
    "        self.transforms = transforms\n",
    "        \n",
    "    def __len__(self):\n",
    "        return len(self.df)\n",
    "    \n",
    "    def __getitem__(self, index):\n",
    "        img_path = self.file_names[index]\n",
    "        img = cv2.imread(img_path)\n",
    "        img = cv2.cvtColor(img, cv2.COLOR_BGR2RGB)\n",
    "        target = self.targets[index]\n",
    "        \n",
    "        if self.transforms:\n",
    "            img = self.transforms(image=img)[\"image\"]\n",
    "            \n",
    "        return {\n",
    "            'image': img,\n",
    "            'target': target\n",
    "        }"
   ]
  },
  {
   "cell_type": "markdown",
   "id": "d34a7709",
   "metadata": {
    "papermill": {
     "duration": 0.015241,
     "end_time": "2024-08-03T11:28:04.870256",
     "exception": false,
     "start_time": "2024-08-03T11:28:04.855015",
     "status": "completed"
    },
    "tags": []
   },
   "source": [
    "# <span><h1 style = \"font-family: garamond; font-size: 40px; font-style: normal; letter-spcaing: 3px; background-color: #f6f5f5; color :#fe346e; border-radius: 100px 100px; text-align:center\">Augmentations</h1></span>"
   ]
  },
  {
   "cell_type": "code",
   "execution_count": 14,
   "id": "d21d5001",
   "metadata": {},
   "outputs": [],
   "source": [
    "# Mixupを行う関数を追加\n",
    "def mixup(x: torch.Tensor, y: torch.Tensor, alpha: float = 0.4):\n",
    "    assert alpha > 0, \"alpha should be larger than 0\"\n",
    "    assert x.size(0) > 1, \"Batch size should be larger than 1\"\n",
    "\n",
    "    lam = np.random.beta(alpha, alpha)\n",
    "    rand_index = torch.randperm(x.size()[0])\n",
    "    mixed_x = lam * x + (1 - lam) * x[rand_index, :]\n",
    "    target_a, target_b = y, y[rand_index]\n",
    "    return mixed_x, target_a, target_b, lam"
   ]
  },
  {
   "cell_type": "code",
   "execution_count": 15,
   "id": "0d4c8098",
   "metadata": {
    "execution": {
     "iopub.execute_input": "2024-08-03T11:28:04.902245Z",
     "iopub.status.busy": "2024-08-03T11:28:04.901951Z",
     "iopub.status.idle": "2024-08-03T11:28:04.910761Z",
     "shell.execute_reply": "2024-08-03T11:28:04.909940Z"
    },
    "papermill": {
     "duration": 0.026706,
     "end_time": "2024-08-03T11:28:04.912624",
     "exception": false,
     "start_time": "2024-08-03T11:28:04.885918",
     "status": "completed"
    },
    "tags": []
   },
   "outputs": [],
   "source": [
    "data_transforms = {\n",
    "    \"train\": A.Compose([\n",
    "        A.Resize(CONFIG['img_size'], CONFIG['img_size']),\n",
    "        A.RandomRotate90(p=0.5),\n",
    "        A.Flip(p=0.5),\n",
    "        A.Downscale(p=0.25),\n",
    "        A.ShiftScaleRotate(shift_limit=0.1, \n",
    "                           scale_limit=0.15, \n",
    "                           rotate_limit=60, \n",
    "                           p=0.5),\n",
    "        A.HueSaturationValue(\n",
    "                hue_shift_limit=0.2, \n",
    "                sat_shift_limit=0.2, \n",
    "                val_shift_limit=0.2, \n",
    "                p=0.5\n",
    "            ),\n",
    "        A.RandomBrightnessContrast(\n",
    "                brightness_limit=(-0.1,0.1), \n",
    "                contrast_limit=(-0.1, 0.1), \n",
    "                p=0.5\n",
    "            ),\n",
    "        A.Normalize(\n",
    "                mean=[0.485, 0.456, 0.406], \n",
    "                std=[0.229, 0.224, 0.225], \n",
    "                max_pixel_value=255.0, \n",
    "                p=1.0\n",
    "            ),\n",
    "        ToTensorV2()], p=1.),\n",
    "    \n",
    "    \"valid\": A.Compose([\n",
    "        A.Resize(CONFIG['img_size'], CONFIG['img_size']),\n",
    "        A.Normalize(\n",
    "                mean=[0.485, 0.456, 0.406], \n",
    "                std=[0.229, 0.224, 0.225], \n",
    "                max_pixel_value=255.0, \n",
    "                p=1.0\n",
    "            ),\n",
    "        ToTensorV2()], p=1.)\n",
    "}"
   ]
  },
  {
   "cell_type": "markdown",
   "id": "66346540",
   "metadata": {
    "papermill": {
     "duration": 0.054133,
     "end_time": "2024-08-03T11:28:04.982208",
     "exception": false,
     "start_time": "2024-08-03T11:28:04.928075",
     "status": "completed"
    },
    "tags": []
   },
   "source": [
    "# <span><h1 style = \"font-family: garamond; font-size: 40px; font-style: normal; letter-spcaing: 3px; background-color: #f6f5f5; color :#fe346e; border-radius: 100px 100px; text-align:center\">GeM Pooling</h1></span>"
   ]
  },
  {
   "cell_type": "code",
   "execution_count": 16,
   "id": "47d952e1",
   "metadata": {
    "execution": {
     "iopub.execute_input": "2024-08-03T11:28:05.014269Z",
     "iopub.status.busy": "2024-08-03T11:28:05.013910Z",
     "iopub.status.idle": "2024-08-03T11:28:05.021473Z",
     "shell.execute_reply": "2024-08-03T11:28:05.020611Z"
    },
    "papermill": {
     "duration": 0.02579,
     "end_time": "2024-08-03T11:28:05.023334",
     "exception": false,
     "start_time": "2024-08-03T11:28:04.997544",
     "status": "completed"
    },
    "tags": []
   },
   "outputs": [],
   "source": [
    "class GeM(nn.Module):\n",
    "    def __init__(self, p=3, eps=1e-6):\n",
    "        super(GeM, self).__init__()\n",
    "        self.p = nn.Parameter(torch.ones(1)*p)\n",
    "        self.eps = eps\n",
    "\n",
    "    def forward(self, x):\n",
    "        return self.gem(x, p=self.p, eps=self.eps)\n",
    "        \n",
    "    def gem(self, x, p=3, eps=1e-6):\n",
    "        return F.avg_pool2d(x.clamp(min=eps).pow(p), (x.size(-2), x.size(-1))).pow(1./p)\n",
    "        \n",
    "    def __repr__(self):\n",
    "        return self.__class__.__name__ + \\\n",
    "                '(' + 'p=' + '{:.4f}'.format(self.p.data.tolist()[0]) + \\\n",
    "                ', ' + 'eps=' + str(self.eps) + ')'"
   ]
  },
  {
   "cell_type": "markdown",
   "id": "c6f8a4bf",
   "metadata": {
    "papermill": {
     "duration": 0.015161,
     "end_time": "2024-08-03T11:28:05.053813",
     "exception": false,
     "start_time": "2024-08-03T11:28:05.038652",
     "status": "completed"
    },
    "tags": []
   },
   "source": [
    "# <span><h1 style = \"font-family: garamond; font-size: 40px; font-style: normal; letter-spcaing: 3px; background-color: #f6f5f5; color :#fe346e; border-radius: 100px 100px; text-align:center\">Create Model</h1></span>"
   ]
  },
  {
   "cell_type": "code",
   "execution_count": 17,
   "id": "52e19a9b",
   "metadata": {
    "execution": {
     "iopub.execute_input": "2024-08-03T11:28:05.085426Z",
     "iopub.status.busy": "2024-08-03T11:28:05.085174Z",
     "iopub.status.idle": "2024-08-03T11:28:05.092235Z",
     "shell.execute_reply": "2024-08-03T11:28:05.091434Z"
    },
    "papermill": {
     "duration": 0.025077,
     "end_time": "2024-08-03T11:28:05.094158",
     "exception": false,
     "start_time": "2024-08-03T11:28:05.069081",
     "status": "completed"
    },
    "tags": []
   },
   "outputs": [],
   "source": [
    "class ISICModel(nn.Module):\n",
    "    def __init__(self, model_name, num_classes=3, pretrained=True, checkpoint_path=None):\n",
    "        super(ISICModel, self).__init__()\n",
    "        self.model = timm.create_model(model_name, pretrained=pretrained, checkpoint_path=checkpoint_path)\n",
    "\n",
    "        in_features = self.model.classifier.in_features\n",
    "        self.model.classifier = nn.Identity()\n",
    "        self.model.global_pool = nn.Identity()\n",
    "        self.pooling = GeM()\n",
    "        self.linear = nn.Linear(in_features, num_classes)\n",
    "        # self.softmax = nn.Softmax(dim=1)  # シグモイドの代わりにソフトマックスを使用\n",
    "\n",
    "    def forward(self, images):\n",
    "        features = self.model(images)\n",
    "        pooled_features = self.pooling(features).flatten(1)\n",
    "        output = self.linear(pooled_features)  # softmaxを適用しない\n",
    "        return output"
   ]
  },
  {
   "cell_type": "markdown",
   "id": "cdf5204a",
   "metadata": {
    "papermill": {
     "duration": 0.015472,
     "end_time": "2024-08-03T11:28:05.124849",
     "exception": false,
     "start_time": "2024-08-03T11:28:05.109377",
     "status": "completed"
    },
    "tags": []
   },
   "source": [
    "# <span><h1 style = \"font-family: garamond; font-size: 40px; font-style: normal; letter-spcaing: 3px; background-color: #f6f5f5; color :#fe346e; border-radius: 100px 100px; text-align:center\">Loss Function</h1></span>"
   ]
  },
  {
   "cell_type": "code",
   "execution_count": 18,
   "id": "c25f4ac6",
   "metadata": {
    "execution": {
     "iopub.execute_input": "2024-08-03T11:28:05.156842Z",
     "iopub.status.busy": "2024-08-03T11:28:05.156560Z",
     "iopub.status.idle": "2024-08-03T11:28:05.160848Z",
     "shell.execute_reply": "2024-08-03T11:28:05.159769Z"
    },
    "papermill": {
     "duration": 0.022538,
     "end_time": "2024-08-03T11:28:05.162710",
     "exception": false,
     "start_time": "2024-08-03T11:28:05.140172",
     "status": "completed"
    },
    "tags": []
   },
   "outputs": [],
   "source": [
    "def criterion(outputs, targets):\n",
    "    # return nn.BCELoss()(outputs, targets)\n",
    "    return nn.CrossEntropyLoss()(outputs, targets) "
   ]
  },
  {
   "cell_type": "markdown",
   "id": "03ac7888",
   "metadata": {
    "papermill": {
     "duration": 0.015327,
     "end_time": "2024-08-03T11:28:05.193462",
     "exception": false,
     "start_time": "2024-08-03T11:28:05.178135",
     "status": "completed"
    },
    "tags": []
   },
   "source": [
    "# <span><h1 style = \"font-family: garamond; font-size: 40px; font-style: normal; letter-spcaing: 3px; background-color: #f6f5f5; color :#fe346e; border-radius: 100px 100px; text-align:center\">Training Function</h1></span>"
   ]
  },
  {
   "cell_type": "code",
   "execution_count": 19,
   "id": "d663497f",
   "metadata": {
    "execution": {
     "iopub.execute_input": "2024-08-03T11:28:05.225013Z",
     "iopub.status.busy": "2024-08-03T11:28:05.224714Z",
     "iopub.status.idle": "2024-08-03T11:28:05.230523Z",
     "shell.execute_reply": "2024-08-03T11:28:05.229673Z"
    },
    "papermill": {
     "duration": 0.023777,
     "end_time": "2024-08-03T11:28:05.232475",
     "exception": false,
     "start_time": "2024-08-03T11:28:05.208698",
     "status": "completed"
    },
    "tags": []
   },
   "outputs": [],
   "source": [
    "def comp_score_list(solution: list, submission: list, min_tpr: float=0.80):\n",
    "    v_gt = np.abs(np.array(solution)-1)\n",
    "    v_pred = np.array([1.0 - x for x in submission])\n",
    "    max_fpr = abs(1-min_tpr)\n",
    "    partial_auc_scaled = roc_auc_score(v_gt, v_pred, max_fpr=max_fpr)\n",
    "    # change scale from [0.5, 1.0] to [0.5 * max_fpr**2, max_fpr]\n",
    "    # https://math.stackexchange.com/questions/914823/shift-numbers-into-a-different-range\n",
    "    partial_auc = 0.5 * max_fpr**2 + (max_fpr - 0.5 * max_fpr**2) / (1.0 - 0.5) * (partial_auc_scaled - 0.5)\n",
    "    return partial_auc\n",
    "\n",
    "def softmax(x, axis=1):\n",
    "    # expのoverflowを防ぐ，定数項を引いても値は変わらない\n",
    "    # keepdims: 次元を合わせる，max関数を使うと次元が減る（shapeが変わる）のでそれを避ける．\n",
    "    x -= x.max(axis, keepdims=True)\n",
    "    x_exp = np.exp(x)\n",
    "    return x_exp / x_exp.sum(axis, keepdims=True)"
   ]
  },
  {
   "cell_type": "code",
   "execution_count": 20,
   "id": "80d1c10f",
   "metadata": {
    "execution": {
     "iopub.execute_input": "2024-08-03T11:28:05.264227Z",
     "iopub.status.busy": "2024-08-03T11:28:05.263976Z",
     "iopub.status.idle": "2024-08-03T11:28:05.274188Z",
     "shell.execute_reply": "2024-08-03T11:28:05.273355Z"
    },
    "papermill": {
     "duration": 0.028273,
     "end_time": "2024-08-03T11:28:05.276048",
     "exception": false,
     "start_time": "2024-08-03T11:28:05.247775",
     "status": "completed"
    },
    "tags": []
   },
   "outputs": [],
   "source": [
    "def train_one_epoch(model, optimizer, scheduler, dataloader, device, epoch):\n",
    "    model.train()\n",
    "    \n",
    "    dataset_size = 0\n",
    "    running_loss = 0.0\n",
    "    \n",
    "    bar = tqdm(enumerate(dataloader), total=len(dataloader))\n",
    "    for step, data in bar:\n",
    "        images = data['image'].to(device, dtype=torch.float)\n",
    "        targets = data['target'].to(device, dtype=torch.long)\n",
    "        \n",
    "        batch_size = images.size(0)\n",
    "        \n",
    "        # Mixupを設定されたエポック数まで適用\n",
    "        if epoch <= CONFIG['mixup_epochs']:\n",
    "            mixed_images, targets_a, targets_b, lam = mixup(images, targets, alpha=CONFIG['mixup_alpha'])\n",
    "            outputs = model(mixed_images).squeeze()\n",
    "            loss = lam * criterion(outputs, targets_a) + (1 - lam) * criterion(outputs, targets_b)\n",
    "        else:\n",
    "            outputs = model(images).squeeze()\n",
    "            loss = criterion(outputs, targets)\n",
    "            \n",
    "        loss = loss / CONFIG['n_accumulate']\n",
    "            \n",
    "        loss.backward()\n",
    "    \n",
    "        if (step + 1) % CONFIG['n_accumulate'] == 0:\n",
    "            optimizer.step()\n",
    "\n",
    "            # zero the parameter gradients\n",
    "            optimizer.zero_grad()\n",
    "\n",
    "            if scheduler is not None:\n",
    "                scheduler.step()\n",
    "        \n",
    "        running_loss += (loss.item() * batch_size)\n",
    "        dataset_size += batch_size\n",
    "        \n",
    "        epoch_loss = running_loss / dataset_size\n",
    "        \n",
    "        bar.set_postfix(Epoch=epoch, Train_Loss=epoch_loss,\n",
    "                        LR=optimizer.param_groups[0]['lr'])\n",
    "    \n",
    "    gc.collect()\n",
    "    \n",
    "    return epoch_loss"
   ]
  },
  {
   "cell_type": "markdown",
   "id": "46689b26",
   "metadata": {
    "papermill": {
     "duration": 0.015334,
     "end_time": "2024-08-03T11:28:05.306685",
     "exception": false,
     "start_time": "2024-08-03T11:28:05.291351",
     "status": "completed"
    },
    "tags": []
   },
   "source": [
    "# <span><h1 style = \"font-family: garamond; font-size: 40px; font-style: normal; letter-spcaing: 3px; background-color: #f6f5f5; color :#fe346e; border-radius: 100px 100px; text-align:center\">Validation Function</h1></span>"
   ]
  },
  {
   "cell_type": "code",
   "execution_count": 21,
   "id": "3db198c8",
   "metadata": {
    "execution": {
     "iopub.execute_input": "2024-08-03T11:28:05.339023Z",
     "iopub.status.busy": "2024-08-03T11:28:05.338480Z",
     "iopub.status.idle": "2024-08-03T11:28:05.347576Z",
     "shell.execute_reply": "2024-08-03T11:28:05.346751Z"
    },
    "papermill": {
     "duration": 0.027246,
     "end_time": "2024-08-03T11:28:05.349380",
     "exception": false,
     "start_time": "2024-08-03T11:28:05.322134",
     "status": "completed"
    },
    "tags": []
   },
   "outputs": [],
   "source": [
    "@torch.inference_mode()\n",
    "def valid_one_epoch(model, dataloader, device, epoch):\n",
    "    model.eval()\n",
    "    \n",
    "    dataset_size = 0\n",
    "    running_loss = 0.0\n",
    "    running_auroc = 0.0\n",
    "    \n",
    "    # TTAのためのカウンター\n",
    "    tta_counter = 0\n",
    "    \n",
    "    # TTAのための関数を定義\n",
    "    def apply_tta(model, image):\n",
    "        outputs = []\n",
    "        \n",
    "        # オリジナル画像\n",
    "        outputs.append(model(image).squeeze())\n",
    "        \n",
    "        # 水平フリップ\n",
    "        outputs.append(model(torch.flip(image, dims=[3])).squeeze())\n",
    "        \n",
    "        # 垂直フリップ\n",
    "        outputs.append(model(torch.flip(image, dims=[2])).squeeze())\n",
    "        \n",
    "        # 90度、180度、270度回転\n",
    "        for k in [1, 2, 3]:\n",
    "            outputs.append(model(torch.rot90(image, k, dims=[2,3])).squeeze())\n",
    "        \n",
    "        return torch.stack(outputs).mean(dim=0)\n",
    "    \n",
    "    all_outputs = []\n",
    "    all_targets = []\n",
    "    \n",
    "    bar = tqdm(enumerate(dataloader), total=len(dataloader))\n",
    "    for step, data in bar:        \n",
    "        images = data['image'].to(device, dtype=torch.float)\n",
    "        targets = data['target'].to(device, dtype=torch.long)\n",
    "        \n",
    "        batch_size = images.size(0)\n",
    "\n",
    "        if CONFIG['use_tta']:\n",
    "            outputs = apply_tta(model, images).squeeze()\n",
    "        else:\n",
    "            outputs = model(images).squeeze()\n",
    "\n",
    "        # outputsが1次元の場合、2次元に変換\n",
    "        if outputs.ndim == 1:\n",
    "            outputs = outputs.view(-1, 3)\n",
    "\n",
    "        loss = criterion(outputs, targets)\n",
    "        \n",
    "        all_outputs.extend(outputs.detach().cpu().numpy())  # 確率に変換して蓄積\n",
    "        all_targets.extend(targets.detach().cpu().numpy())  # ラベルを蓄積\n",
    "\n",
    "#         auroc = binary_auroc(input=outputs.squeeze(), target=targets).item()\n",
    "        running_loss += (loss.item() * batch_size)\n",
    "#         running_auroc  += (auroc * batch_size)\n",
    "        dataset_size += batch_size\n",
    "        \n",
    "        epoch_loss = running_loss / dataset_size\n",
    "#         epoch_auroc = running_auroc / dataset_size\n",
    "        \n",
    "        bar.set_postfix(Epoch=epoch, Valid_Loss=epoch_loss, \n",
    "                        LR=optimizer.param_groups[0]['lr'])   \n",
    "    \n",
    "    # マルチクラス用のpAUC計算\n",
    "    all_outputs = softmax(np.array(all_outputs))\n",
    "    all_targets = np.array(all_targets)\n",
    "    class_targets = (all_targets != 0).astype(int).tolist()\n",
    "    class_outputs = (1 - all_outputs[:, 0]).tolist()\n",
    "    epoch_pauc = comp_score_list(class_targets, class_outputs)\n",
    "    \n",
    "    gc.collect()\n",
    "    \n",
    "    return epoch_loss, epoch_pauc, all_outputs"
   ]
  },
  {
   "cell_type": "markdown",
   "id": "a8da5eda",
   "metadata": {
    "papermill": {
     "duration": 0.015163,
     "end_time": "2024-08-03T11:28:05.379846",
     "exception": false,
     "start_time": "2024-08-03T11:28:05.364683",
     "status": "completed"
    },
    "tags": []
   },
   "source": [
    "# <span><h1 style = \"font-family: garamond; font-size: 40px; font-style: normal; letter-spcaing: 3px; background-color: #f6f5f5; color :#fe346e; border-radius: 100px 100px; text-align:center\">Run Training</h1></span>"
   ]
  },
  {
   "cell_type": "code",
   "execution_count": 22,
   "id": "aeeaf279",
   "metadata": {
    "execution": {
     "iopub.execute_input": "2024-08-03T11:28:05.412103Z",
     "iopub.status.busy": "2024-08-03T11:28:05.411666Z",
     "iopub.status.idle": "2024-08-03T11:28:05.424650Z",
     "shell.execute_reply": "2024-08-03T11:28:05.423825Z"
    },
    "papermill": {
     "duration": 0.031221,
     "end_time": "2024-08-03T11:28:05.426654",
     "exception": false,
     "start_time": "2024-08-03T11:28:05.395433",
     "status": "completed"
    },
    "tags": []
   },
   "outputs": [],
   "source": [
    "def run_training(model, optimizer, scheduler, device, num_epochs, fold):\n",
    "    if torch.cuda.is_available():\n",
    "        print(\"[INFO] Using GPU: {}\\n\".format(torch.cuda.get_device_name()))\n",
    "    \n",
    "    start = time.time()\n",
    "    best_model_wts = copy.deepcopy(model.state_dict())\n",
    "    best_epoch_auroc = -np.inf\n",
    "    history = defaultdict(list)\n",
    "    save_dir = f\"training_fold{fold}\"\n",
    "    # if not os.path.exists(save_dir):\n",
    "    #     os.mkdir(save_dir)\n",
    "    df_best_pred = df.loc[df[\"kfold\"]==fold, [\"isic_id\", \"target\"]]\n",
    "    \n",
    "    for epoch in range(1, num_epochs + 1): \n",
    "        gc.collect()\n",
    "        train_epoch_loss = train_one_epoch(model, optimizer, scheduler, \n",
    "                                           dataloader=train_loader, \n",
    "                                           device=CONFIG['device'], epoch=epoch)\n",
    "        \n",
    "        val_epoch_loss, val_epoch_auroc, outputs_np = valid_one_epoch(\n",
    "            model, \n",
    "            valid_loader, \n",
    "            device=CONFIG['device'], \n",
    "            epoch=epoch\n",
    "        )\n",
    "    \n",
    "        history['Train Loss'].append(train_epoch_loss)\n",
    "        history['Valid Loss'].append(val_epoch_loss)\n",
    "        history['Valid AUROC'].append(val_epoch_auroc)\n",
    "        history['lr'].append( scheduler.get_lr()[0] )\n",
    "        \n",
    "        # deep copy the model\n",
    "        if best_epoch_auroc <= val_epoch_auroc:\n",
    "            print(f\"{b_}Validation AUROC Improved ({best_epoch_auroc} ---> {val_epoch_auroc})\")\n",
    "            best_epoch_auroc = val_epoch_auroc\n",
    "            best_model_wts = copy.deepcopy(model.state_dict())\n",
    "            # 過去のベストモデルを削除\n",
    "#             if 'PATH' in locals():\n",
    "#                 os.remove(PATH)\n",
    "            PATH = \"training_fold{}/AUROC{:.4f}_Loss{:.4f}_epoch{:.0f}.bin\".format(fold, val_epoch_auroc, val_epoch_loss, epoch)\n",
    "        print()\n",
    "    \n",
    "    end = time.time()\n",
    "    time_elapsed = end - start\n",
    "    print('Training complete in {:.0f}h {:.0f}m {:.0f}s'.format(\n",
    "        time_elapsed // 3600, (time_elapsed % 3600) // 60, (time_elapsed % 3600) % 60))\n",
    "    print(\"Best AUROC: {:.4f}\".format(best_epoch_auroc))\n",
    "    \n",
    "    # torch.save(best_model_wts, PATH)\n",
    "    # Save a model file from the current directory\n",
    "    # print(f\"Best Model Saved{sr_}\")\n",
    "    \n",
    "    # load best model weights\n",
    "    # model.load_state_dict(best_model_wts)\n",
    "    \n",
    "    return model, history"
   ]
  },
  {
   "cell_type": "code",
   "execution_count": 23,
   "id": "4c894488",
   "metadata": {
    "execution": {
     "iopub.execute_input": "2024-08-03T11:28:05.458938Z",
     "iopub.status.busy": "2024-08-03T11:28:05.458291Z",
     "iopub.status.idle": "2024-08-03T11:28:05.463712Z",
     "shell.execute_reply": "2024-08-03T11:28:05.462920Z"
    },
    "papermill": {
     "duration": 0.023591,
     "end_time": "2024-08-03T11:28:05.465446",
     "exception": false,
     "start_time": "2024-08-03T11:28:05.441855",
     "status": "completed"
    },
    "tags": []
   },
   "outputs": [],
   "source": [
    "def fetch_scheduler(optimizer, T_max):\n",
    "    if CONFIG['scheduler'] == 'CosineAnnealingLR':\n",
    "        scheduler = lr_scheduler.CosineAnnealingLR(optimizer,T_max=T_max, \n",
    "                                                   eta_min=CONFIG['min_lr'])\n",
    "    elif CONFIG['scheduler'] == 'CosineAnnealingWarmRestarts':\n",
    "        scheduler = lr_scheduler.CosineAnnealingWarmRestarts(optimizer,T_0=CONFIG['T_0'], \n",
    "                                                             eta_min=CONFIG['min_lr'])\n",
    "    elif CONFIG['scheduler'] == None:\n",
    "        return None\n",
    "        \n",
    "    return scheduler"
   ]
  },
  {
   "cell_type": "code",
   "execution_count": 24,
   "id": "8d53d7a3",
   "metadata": {
    "execution": {
     "iopub.execute_input": "2024-08-03T11:28:05.497363Z",
     "iopub.status.busy": "2024-08-03T11:28:05.497124Z",
     "iopub.status.idle": "2024-08-03T11:28:05.503173Z",
     "shell.execute_reply": "2024-08-03T11:28:05.502432Z"
    },
    "papermill": {
     "duration": 0.024204,
     "end_time": "2024-08-03T11:28:05.504940",
     "exception": false,
     "start_time": "2024-08-03T11:28:05.480736",
     "status": "completed"
    },
    "tags": []
   },
   "outputs": [],
   "source": [
    "def prepare_loaders(df, fold):\n",
    "    df_train = df[df.kfold != fold].reset_index(drop=True)\n",
    "    df_valid = df[df.kfold == fold].reset_index(drop=True)\n",
    "    \n",
    "    train_dataset = ISICDataset_for_Train(df_train, transforms=data_transforms[\"train\"])\n",
    "    valid_dataset = ISICDataset(df_valid, transforms=data_transforms[\"valid\"])\n",
    "\n",
    "    train_loader = DataLoader(train_dataset, batch_size=CONFIG['train_batch_size'], \n",
    "                              num_workers=2, shuffle=True, pin_memory=True, drop_last=True)\n",
    "    valid_loader = DataLoader(valid_dataset, batch_size=CONFIG['valid_batch_size'], \n",
    "                              num_workers=2, shuffle=False, pin_memory=True)\n",
    "    \n",
    "    return train_loader, valid_loader"
   ]
  },
  {
   "cell_type": "markdown",
   "id": "dac15007",
   "metadata": {
    "papermill": {
     "duration": 0.015388,
     "end_time": "2024-08-03T11:28:05.535742",
     "exception": false,
     "start_time": "2024-08-03T11:28:05.520354",
     "status": "completed"
    },
    "tags": []
   },
   "source": [
    "# CV"
   ]
  },
  {
   "cell_type": "code",
   "execution_count": 25,
   "id": "e9855d2c",
   "metadata": {
    "execution": {
     "iopub.execute_input": "2024-08-03T11:28:05.567513Z",
     "iopub.status.busy": "2024-08-03T11:28:05.567243Z",
     "iopub.status.idle": "2024-08-03T11:28:22.193655Z",
     "shell.execute_reply": "2024-08-03T11:28:22.192720Z"
    },
    "papermill": {
     "duration": 16.644865,
     "end_time": "2024-08-03T11:28:22.195974",
     "exception": false,
     "start_time": "2024-08-03T11:28:05.551109",
     "status": "completed"
    },
    "tags": []
   },
   "outputs": [],
   "source": [
    "# wandbの初期化\n",
    "if WANDB:\n",
    "    wandb_config = {\n",
    "        # ... 既存の設定 ...\n",
    "        \"epochs\": CONFIG['epochs'],\n",
    "        \"learning_rate\": CONFIG['learning_rate'],\n",
    "        \"min_lr\": CONFIG[\"min_lr\"],\n",
    "        \"weight_decay\": CONFIG[\"weight_decay\"],\n",
    "        \"mixup_alpha\": CONFIG[\"mixup_alpha\"],\n",
    "        \"mixup_epochs\": CONFIG[\"mixup_epochs\"],  # 新しく追加\n",
    "    }\n",
    "    wandb.init(project=\"ISIC2024_images2\", name=EXP_NAME, config=wandb_config)"
   ]
  },
  {
   "cell_type": "code",
   "execution_count": 26,
   "id": "6aa10e24",
   "metadata": {
    "execution": {
     "iopub.execute_input": "2024-08-03T11:28:22.229731Z",
     "iopub.status.busy": "2024-08-03T11:28:22.229444Z",
     "iopub.status.idle": "2024-08-03T12:31:30.939006Z",
     "shell.execute_reply": "2024-08-03T12:31:30.937574Z"
    },
    "papermill": {
     "duration": 3788.728657,
     "end_time": "2024-08-03T12:31:30.941160",
     "exception": false,
     "start_time": "2024-08-03T11:28:22.212503",
     "status": "completed"
    },
    "tags": []
   },
   "outputs": [
    {
     "name": "stdout",
     "output_type": "stream",
     "text": [
      "==============================\n",
      "fold 0\n",
      "==============================\n",
      "●train\n",
      "original> (321899, 58) 332 (835,)\n",
      "filtered> (6972, 58) 332 (764,)\n",
      "●val\n",
      "original> (79160, 58) 61 (207,)\n",
      "filtered> (1281, 58) 61 (177,)\n",
      "[INFO] Using GPU: NVIDIA GeForce RTX 4090\n",
      "\n"
     ]
    },
    {
     "name": "stderr",
     "output_type": "stream",
     "text": [
      "100%|██████████| 10/10 [00:03<00:00,  2.76it/s, Epoch=1, LR=0.000999, Train_Loss=1.22]\n",
      "100%|██████████| 11/11 [00:03<00:00,  3.57it/s, Epoch=1, LR=0.000999, Valid_Loss=0.508]\n"
     ]
    },
    {
     "name": "stdout",
     "output_type": "stream",
     "text": [
      "\u001b[34mValidation AUROC Improved (-inf ---> 0.05066648750335928)\n",
      "\n"
     ]
    },
    {
     "name": "stderr",
     "output_type": "stream",
     "text": [
      "100%|██████████| 10/10 [00:02<00:00,  3.57it/s, Epoch=2, LR=0.000996, Train_Loss=0.75]\n",
      "100%|██████████| 11/11 [00:02<00:00,  4.70it/s, Epoch=2, LR=0.000996, Valid_Loss=0.674]\n"
     ]
    },
    {
     "name": "stdout",
     "output_type": "stream",
     "text": [
      "\u001b[34mValidation AUROC Improved (0.05066648750335928 ---> 0.11528083848427836)\n",
      "\n"
     ]
    },
    {
     "name": "stderr",
     "output_type": "stream",
     "text": [
      "100%|██████████| 10/10 [00:02<00:00,  3.62it/s, Epoch=3, LR=0.000991, Train_Loss=0.689]\n",
      "100%|██████████| 11/11 [00:02<00:00,  4.53it/s, Epoch=3, LR=0.000991, Valid_Loss=0.649]\n"
     ]
    },
    {
     "name": "stdout",
     "output_type": "stream",
     "text": [
      "\n"
     ]
    },
    {
     "name": "stderr",
     "output_type": "stream",
     "text": [
      "100%|██████████| 10/10 [00:02<00:00,  3.63it/s, Epoch=4, LR=0.000984, Train_Loss=0.54]\n",
      "100%|██████████| 11/11 [00:02<00:00,  4.81it/s, Epoch=4, LR=0.000984, Valid_Loss=0.36] \n"
     ]
    },
    {
     "name": "stdout",
     "output_type": "stream",
     "text": [
      "\n"
     ]
    },
    {
     "name": "stderr",
     "output_type": "stream",
     "text": [
      "100%|██████████| 10/10 [00:02<00:00,  3.68it/s, Epoch=5, LR=0.000976, Train_Loss=0.528]\n",
      "100%|██████████| 11/11 [00:02<00:00,  4.75it/s, Epoch=5, LR=0.000976, Valid_Loss=0.496]\n"
     ]
    },
    {
     "name": "stdout",
     "output_type": "stream",
     "text": [
      "\n"
     ]
    },
    {
     "name": "stderr",
     "output_type": "stream",
     "text": [
      "100%|██████████| 10/10 [00:02<00:00,  3.64it/s, Epoch=6, LR=0.000965, Train_Loss=0.459]\n",
      "100%|██████████| 11/11 [00:02<00:00,  4.47it/s, Epoch=6, LR=0.000965, Valid_Loss=0.58]\n"
     ]
    },
    {
     "name": "stdout",
     "output_type": "stream",
     "text": [
      "\u001b[34mValidation AUROC Improved (0.11528083848427836 ---> 0.12298844396667559)\n",
      "\n"
     ]
    },
    {
     "name": "stderr",
     "output_type": "stream",
     "text": [
      "100%|██████████| 10/10 [00:02<00:00,  3.52it/s, Epoch=7, LR=0.000952, Train_Loss=0.413]\n",
      "100%|██████████| 11/11 [00:02<00:00,  4.47it/s, Epoch=7, LR=0.000952, Valid_Loss=0.222]\n"
     ]
    },
    {
     "name": "stdout",
     "output_type": "stream",
     "text": [
      "\u001b[34mValidation AUROC Improved (0.12298844396667559 ---> 0.13591776404192418)\n",
      "\n"
     ]
    },
    {
     "name": "stderr",
     "output_type": "stream",
     "text": [
      "100%|██████████| 10/10 [00:02<00:00,  3.69it/s, Epoch=8, LR=0.000938, Train_Loss=0.427]\n",
      "100%|██████████| 11/11 [00:02<00:00,  4.63it/s, Epoch=8, LR=0.000938, Valid_Loss=0.581]\n"
     ]
    },
    {
     "name": "stdout",
     "output_type": "stream",
     "text": [
      "\n"
     ]
    },
    {
     "name": "stderr",
     "output_type": "stream",
     "text": [
      "100%|██████████| 10/10 [00:02<00:00,  3.66it/s, Epoch=9, LR=0.000922, Train_Loss=0.358]\n",
      "100%|██████████| 11/11 [00:02<00:00,  4.55it/s, Epoch=9, LR=0.000922, Valid_Loss=0.445]\n"
     ]
    },
    {
     "name": "stdout",
     "output_type": "stream",
     "text": [
      "\u001b[34mValidation AUROC Improved (0.13591776404192418 ---> 0.13853533996237566)\n",
      "\n"
     ]
    },
    {
     "name": "stderr",
     "output_type": "stream",
     "text": [
      "100%|██████████| 10/10 [00:02<00:00,  3.61it/s, Epoch=10, LR=0.000905, Train_Loss=0.316]\n",
      "100%|██████████| 11/11 [00:02<00:00,  4.73it/s, Epoch=10, LR=0.000905, Valid_Loss=0.553]\n"
     ]
    },
    {
     "name": "stdout",
     "output_type": "stream",
     "text": [
      "\n"
     ]
    },
    {
     "name": "stderr",
     "output_type": "stream",
     "text": [
      "100%|██████████| 10/10 [00:02<00:00,  3.66it/s, Epoch=11, LR=0.000885, Train_Loss=0.313]\n",
      "100%|██████████| 11/11 [00:02<00:00,  4.53it/s, Epoch=11, LR=0.000885, Valid_Loss=0.296]\n"
     ]
    },
    {
     "name": "stdout",
     "output_type": "stream",
     "text": [
      "\n"
     ]
    },
    {
     "name": "stderr",
     "output_type": "stream",
     "text": [
      "100%|██████████| 10/10 [00:02<00:00,  3.64it/s, Epoch=12, LR=0.000864, Train_Loss=0.324]\n",
      "100%|██████████| 11/11 [00:02<00:00,  4.54it/s, Epoch=12, LR=0.000864, Valid_Loss=0.36] \n"
     ]
    },
    {
     "name": "stdout",
     "output_type": "stream",
     "text": [
      "\n"
     ]
    },
    {
     "name": "stderr",
     "output_type": "stream",
     "text": [
      "100%|██████████| 10/10 [00:02<00:00,  3.71it/s, Epoch=13, LR=0.000842, Train_Loss=0.23]\n",
      "100%|██████████| 11/11 [00:02<00:00,  4.58it/s, Epoch=13, LR=0.000842, Valid_Loss=0.575]\n"
     ]
    },
    {
     "name": "stdout",
     "output_type": "stream",
     "text": [
      "\n"
     ]
    },
    {
     "name": "stderr",
     "output_type": "stream",
     "text": [
      "100%|██████████| 10/10 [00:02<00:00,  3.60it/s, Epoch=14, LR=0.000819, Train_Loss=0.255]\n",
      "100%|██████████| 11/11 [00:02<00:00,  4.53it/s, Epoch=14, LR=0.000819, Valid_Loss=0.323]\n"
     ]
    },
    {
     "name": "stdout",
     "output_type": "stream",
     "text": [
      "\n"
     ]
    },
    {
     "name": "stderr",
     "output_type": "stream",
     "text": [
      "100%|██████████| 10/10 [00:02<00:00,  3.61it/s, Epoch=15, LR=0.000794, Train_Loss=0.232]\n",
      "100%|██████████| 11/11 [00:02<00:00,  4.75it/s, Epoch=15, LR=0.000794, Valid_Loss=0.311]\n"
     ]
    },
    {
     "name": "stdout",
     "output_type": "stream",
     "text": [
      "\n"
     ]
    },
    {
     "name": "stderr",
     "output_type": "stream",
     "text": [
      "100%|██████████| 10/10 [00:02<00:00,  3.64it/s, Epoch=16, LR=0.000768, Train_Loss=0.182]\n",
      "100%|██████████| 11/11 [00:02<00:00,  4.66it/s, Epoch=16, LR=0.000768, Valid_Loss=0.453]\n"
     ]
    },
    {
     "name": "stdout",
     "output_type": "stream",
     "text": [
      "\n"
     ]
    },
    {
     "name": "stderr",
     "output_type": "stream",
     "text": [
      "100%|██████████| 10/10 [00:02<00:00,  3.57it/s, Epoch=17, LR=0.000741, Train_Loss=0.191]\n",
      "100%|██████████| 11/11 [00:02<00:00,  4.54it/s, Epoch=17, LR=0.000741, Valid_Loss=0.375]\n"
     ]
    },
    {
     "name": "stdout",
     "output_type": "stream",
     "text": [
      "\u001b[34mValidation AUROC Improved (0.13853533996237566 ---> 0.15318194033861862)\n",
      "\n"
     ]
    },
    {
     "name": "stderr",
     "output_type": "stream",
     "text": [
      "100%|██████████| 10/10 [00:02<00:00,  3.72it/s, Epoch=18, LR=0.000713, Train_Loss=0.161]\n",
      "100%|██████████| 11/11 [00:02<00:00,  4.64it/s, Epoch=18, LR=0.000713, Valid_Loss=0.417]\n"
     ]
    },
    {
     "name": "stdout",
     "output_type": "stream",
     "text": [
      "\n"
     ]
    },
    {
     "name": "stderr",
     "output_type": "stream",
     "text": [
      "100%|██████████| 10/10 [00:02<00:00,  3.69it/s, Epoch=19, LR=0.000684, Train_Loss=0.14]\n",
      "100%|██████████| 11/11 [00:02<00:00,  4.54it/s, Epoch=19, LR=0.000684, Valid_Loss=0.414]\n"
     ]
    },
    {
     "name": "stdout",
     "output_type": "stream",
     "text": [
      "\n"
     ]
    },
    {
     "name": "stderr",
     "output_type": "stream",
     "text": [
      "100%|██████████| 10/10 [00:02<00:00,  3.64it/s, Epoch=20, LR=0.000655, Train_Loss=0.134]\n",
      "100%|██████████| 11/11 [00:02<00:00,  4.53it/s, Epoch=20, LR=0.000655, Valid_Loss=0.337]\n"
     ]
    },
    {
     "name": "stdout",
     "output_type": "stream",
     "text": [
      "\n"
     ]
    },
    {
     "name": "stderr",
     "output_type": "stream",
     "text": [
      "100%|██████████| 10/10 [00:02<00:00,  3.76it/s, Epoch=21, LR=0.000624, Train_Loss=0.132]\n",
      "100%|██████████| 11/11 [00:02<00:00,  4.32it/s, Epoch=21, LR=0.000624, Valid_Loss=0.341]\n"
     ]
    },
    {
     "name": "stdout",
     "output_type": "stream",
     "text": [
      "\n"
     ]
    },
    {
     "name": "stderr",
     "output_type": "stream",
     "text": [
      "100%|██████████| 10/10 [00:03<00:00,  3.29it/s, Epoch=22, LR=0.000594, Train_Loss=0.132]\n",
      "100%|██████████| 11/11 [00:02<00:00,  4.73it/s, Epoch=22, LR=0.000594, Valid_Loss=0.246]\n"
     ]
    },
    {
     "name": "stdout",
     "output_type": "stream",
     "text": [
      "\n"
     ]
    },
    {
     "name": "stderr",
     "output_type": "stream",
     "text": [
      "100%|██████████| 10/10 [00:02<00:00,  3.68it/s, Epoch=23, LR=0.000563, Train_Loss=0.15] \n",
      "100%|██████████| 11/11 [00:02<00:00,  4.69it/s, Epoch=23, LR=0.000563, Valid_Loss=0.852]\n"
     ]
    },
    {
     "name": "stdout",
     "output_type": "stream",
     "text": [
      "\n"
     ]
    },
    {
     "name": "stderr",
     "output_type": "stream",
     "text": [
      "100%|██████████| 10/10 [00:02<00:00,  3.68it/s, Epoch=24, LR=0.000531, Train_Loss=0.164]\n",
      "100%|██████████| 11/11 [00:02<00:00,  4.76it/s, Epoch=24, LR=0.000531, Valid_Loss=0.271]\n"
     ]
    },
    {
     "name": "stdout",
     "output_type": "stream",
     "text": [
      "\n"
     ]
    },
    {
     "name": "stderr",
     "output_type": "stream",
     "text": [
      "100%|██████████| 10/10 [00:02<00:00,  3.68it/s, Epoch=25, LR=0.0005, Train_Loss=0.148]  \n",
      "100%|██████████| 11/11 [00:02<00:00,  4.50it/s, Epoch=25, LR=0.0005, Valid_Loss=0.443]\n"
     ]
    },
    {
     "name": "stdout",
     "output_type": "stream",
     "text": [
      "\n"
     ]
    },
    {
     "name": "stderr",
     "output_type": "stream",
     "text": [
      "100%|██████████| 10/10 [00:02<00:00,  3.67it/s, Epoch=26, LR=0.000469, Train_Loss=0.0955]\n",
      "100%|██████████| 11/11 [00:02<00:00,  4.70it/s, Epoch=26, LR=0.000469, Valid_Loss=0.367]\n"
     ]
    },
    {
     "name": "stdout",
     "output_type": "stream",
     "text": [
      "\n"
     ]
    },
    {
     "name": "stderr",
     "output_type": "stream",
     "text": [
      "100%|██████████| 10/10 [00:02<00:00,  3.69it/s, Epoch=27, LR=0.000437, Train_Loss=0.0901]\n",
      "100%|██████████| 11/11 [00:02<00:00,  4.62it/s, Epoch=27, LR=0.000437, Valid_Loss=0.28] \n"
     ]
    },
    {
     "name": "stdout",
     "output_type": "stream",
     "text": [
      "\n"
     ]
    },
    {
     "name": "stderr",
     "output_type": "stream",
     "text": [
      "100%|██████████| 10/10 [00:02<00:00,  3.69it/s, Epoch=28, LR=0.000406, Train_Loss=0.0634]\n",
      "100%|██████████| 11/11 [00:02<00:00,  4.56it/s, Epoch=28, LR=0.000406, Valid_Loss=0.316]\n"
     ]
    },
    {
     "name": "stdout",
     "output_type": "stream",
     "text": [
      "\n"
     ]
    },
    {
     "name": "stderr",
     "output_type": "stream",
     "text": [
      "100%|██████████| 10/10 [00:02<00:00,  3.69it/s, Epoch=29, LR=0.000376, Train_Loss=0.0747]\n",
      "100%|██████████| 11/11 [00:02<00:00,  4.50it/s, Epoch=29, LR=0.000376, Valid_Loss=0.33] \n"
     ]
    },
    {
     "name": "stdout",
     "output_type": "stream",
     "text": [
      "\n"
     ]
    },
    {
     "name": "stderr",
     "output_type": "stream",
     "text": [
      "100%|██████████| 10/10 [00:02<00:00,  3.63it/s, Epoch=30, LR=0.000345, Train_Loss=0.0656]\n",
      "100%|██████████| 11/11 [00:02<00:00,  4.71it/s, Epoch=30, LR=0.000345, Valid_Loss=0.333]\n"
     ]
    },
    {
     "name": "stdout",
     "output_type": "stream",
     "text": [
      "\n"
     ]
    },
    {
     "name": "stderr",
     "output_type": "stream",
     "text": [
      "100%|██████████| 10/10 [00:02<00:00,  3.72it/s, Epoch=31, LR=0.000316, Train_Loss=0.0562]\n",
      "100%|██████████| 11/11 [00:02<00:00,  4.65it/s, Epoch=31, LR=0.000316, Valid_Loss=0.323]\n"
     ]
    },
    {
     "name": "stdout",
     "output_type": "stream",
     "text": [
      "\n"
     ]
    },
    {
     "name": "stderr",
     "output_type": "stream",
     "text": [
      "100%|██████████| 10/10 [00:02<00:00,  3.65it/s, Epoch=32, LR=0.000287, Train_Loss=0.0576]\n",
      "100%|██████████| 11/11 [00:02<00:00,  4.77it/s, Epoch=32, LR=0.000287, Valid_Loss=0.338]\n"
     ]
    },
    {
     "name": "stdout",
     "output_type": "stream",
     "text": [
      "\n"
     ]
    },
    {
     "name": "stderr",
     "output_type": "stream",
     "text": [
      "100%|██████████| 10/10 [00:02<00:00,  3.60it/s, Epoch=33, LR=0.000259, Train_Loss=0.067]\n",
      "100%|██████████| 11/11 [00:02<00:00,  4.76it/s, Epoch=33, LR=0.000259, Valid_Loss=0.367]\n"
     ]
    },
    {
     "name": "stdout",
     "output_type": "stream",
     "text": [
      "\n"
     ]
    },
    {
     "name": "stderr",
     "output_type": "stream",
     "text": [
      "100%|██████████| 10/10 [00:02<00:00,  3.69it/s, Epoch=34, LR=0.000232, Train_Loss=0.0446]\n",
      "100%|██████████| 11/11 [00:02<00:00,  4.46it/s, Epoch=34, LR=0.000232, Valid_Loss=0.348]\n"
     ]
    },
    {
     "name": "stdout",
     "output_type": "stream",
     "text": [
      "\n"
     ]
    },
    {
     "name": "stderr",
     "output_type": "stream",
     "text": [
      "100%|██████████| 10/10 [00:02<00:00,  3.63it/s, Epoch=35, LR=0.000206, Train_Loss=0.0404]\n",
      "100%|██████████| 11/11 [00:02<00:00,  4.51it/s, Epoch=35, LR=0.000206, Valid_Loss=0.308]\n"
     ]
    },
    {
     "name": "stdout",
     "output_type": "stream",
     "text": [
      "\n"
     ]
    },
    {
     "name": "stderr",
     "output_type": "stream",
     "text": [
      "100%|██████████| 10/10 [00:02<00:00,  3.70it/s, Epoch=36, LR=0.000181, Train_Loss=0.0359]\n",
      "100%|██████████| 11/11 [00:02<00:00,  4.63it/s, Epoch=36, LR=0.000181, Valid_Loss=0.316]\n"
     ]
    },
    {
     "name": "stdout",
     "output_type": "stream",
     "text": [
      "\n"
     ]
    },
    {
     "name": "stderr",
     "output_type": "stream",
     "text": [
      "100%|██████████| 10/10 [00:02<00:00,  3.76it/s, Epoch=37, LR=0.000158, Train_Loss=0.0309]\n",
      "100%|██████████| 11/11 [00:02<00:00,  4.39it/s, Epoch=37, LR=0.000158, Valid_Loss=0.336]\n"
     ]
    },
    {
     "name": "stdout",
     "output_type": "stream",
     "text": [
      "\n"
     ]
    },
    {
     "name": "stderr",
     "output_type": "stream",
     "text": [
      "100%|██████████| 10/10 [00:02<00:00,  3.67it/s, Epoch=38, LR=0.000136, Train_Loss=0.0217]\n",
      "100%|██████████| 11/11 [00:02<00:00,  4.60it/s, Epoch=38, LR=0.000136, Valid_Loss=0.366]\n"
     ]
    },
    {
     "name": "stdout",
     "output_type": "stream",
     "text": [
      "\n"
     ]
    },
    {
     "name": "stderr",
     "output_type": "stream",
     "text": [
      "100%|██████████| 10/10 [00:02<00:00,  3.65it/s, Epoch=39, LR=0.000115, Train_Loss=0.045]\n",
      "100%|██████████| 11/11 [00:02<00:00,  4.64it/s, Epoch=39, LR=0.000115, Valid_Loss=0.348]\n"
     ]
    },
    {
     "name": "stdout",
     "output_type": "stream",
     "text": [
      "\n"
     ]
    },
    {
     "name": "stderr",
     "output_type": "stream",
     "text": [
      "100%|██████████| 10/10 [00:02<00:00,  3.63it/s, Epoch=40, LR=9.55e-5, Train_Loss=0.0344]\n",
      "100%|██████████| 11/11 [00:02<00:00,  4.65it/s, Epoch=40, LR=9.55e-5, Valid_Loss=0.343]\n"
     ]
    },
    {
     "name": "stdout",
     "output_type": "stream",
     "text": [
      "\n"
     ]
    },
    {
     "name": "stderr",
     "output_type": "stream",
     "text": [
      "100%|██████████| 10/10 [00:02<00:00,  3.66it/s, Epoch=41, LR=7.78e-5, Train_Loss=0.0346]\n",
      "100%|██████████| 11/11 [00:02<00:00,  4.36it/s, Epoch=41, LR=7.78e-5, Valid_Loss=0.361]\n"
     ]
    },
    {
     "name": "stdout",
     "output_type": "stream",
     "text": [
      "\n"
     ]
    },
    {
     "name": "stderr",
     "output_type": "stream",
     "text": [
      "100%|██████████| 10/10 [00:02<00:00,  3.60it/s, Epoch=42, LR=6.19e-5, Train_Loss=0.0302]\n",
      "100%|██████████| 11/11 [00:02<00:00,  4.61it/s, Epoch=42, LR=6.19e-5, Valid_Loss=0.381]\n"
     ]
    },
    {
     "name": "stdout",
     "output_type": "stream",
     "text": [
      "\n"
     ]
    },
    {
     "name": "stderr",
     "output_type": "stream",
     "text": [
      "100%|██████████| 10/10 [00:02<00:00,  3.66it/s, Epoch=43, LR=4.76e-5, Train_Loss=0.0265]\n",
      "100%|██████████| 11/11 [00:02<00:00,  4.74it/s, Epoch=43, LR=4.76e-5, Valid_Loss=0.358]\n"
     ]
    },
    {
     "name": "stdout",
     "output_type": "stream",
     "text": [
      "\n"
     ]
    },
    {
     "name": "stderr",
     "output_type": "stream",
     "text": [
      "100%|██████████| 10/10 [00:02<00:00,  3.65it/s, Epoch=44, LR=3.51e-5, Train_Loss=0.0274]\n",
      "100%|██████████| 11/11 [00:02<00:00,  4.77it/s, Epoch=44, LR=3.51e-5, Valid_Loss=0.363]\n"
     ]
    },
    {
     "name": "stdout",
     "output_type": "stream",
     "text": [
      "\n"
     ]
    },
    {
     "name": "stderr",
     "output_type": "stream",
     "text": [
      "100%|██████████| 10/10 [00:02<00:00,  3.65it/s, Epoch=45, LR=2.45e-5, Train_Loss=0.0243]\n",
      "100%|██████████| 11/11 [00:02<00:00,  4.69it/s, Epoch=45, LR=2.45e-5, Valid_Loss=0.387]\n"
     ]
    },
    {
     "name": "stdout",
     "output_type": "stream",
     "text": [
      "\n"
     ]
    },
    {
     "name": "stderr",
     "output_type": "stream",
     "text": [
      "100%|██████████| 10/10 [00:02<00:00,  3.63it/s, Epoch=46, LR=1.57e-5, Train_Loss=0.0277]\n",
      "100%|██████████| 11/11 [00:02<00:00,  4.72it/s, Epoch=46, LR=1.57e-5, Valid_Loss=0.39] \n"
     ]
    },
    {
     "name": "stdout",
     "output_type": "stream",
     "text": [
      "\n"
     ]
    },
    {
     "name": "stderr",
     "output_type": "stream",
     "text": [
      "100%|██████████| 10/10 [00:02<00:00,  3.60it/s, Epoch=47, LR=8.87e-6, Train_Loss=0.0284]\n",
      "100%|██████████| 11/11 [00:02<00:00,  4.45it/s, Epoch=47, LR=8.87e-6, Valid_Loss=0.372]\n"
     ]
    },
    {
     "name": "stdout",
     "output_type": "stream",
     "text": [
      "\n"
     ]
    },
    {
     "name": "stderr",
     "output_type": "stream",
     "text": [
      "100%|██████████| 10/10 [00:02<00:00,  3.66it/s, Epoch=48, LR=3.95e-6, Train_Loss=0.0312]\n",
      "100%|██████████| 11/11 [00:02<00:00,  4.48it/s, Epoch=48, LR=3.95e-6, Valid_Loss=0.388]\n"
     ]
    },
    {
     "name": "stdout",
     "output_type": "stream",
     "text": [
      "\n"
     ]
    },
    {
     "name": "stderr",
     "output_type": "stream",
     "text": [
      "100%|██████████| 10/10 [00:02<00:00,  3.70it/s, Epoch=49, LR=9.97e-7, Train_Loss=0.0252]\n",
      "100%|██████████| 11/11 [00:02<00:00,  4.24it/s, Epoch=49, LR=9.97e-7, Valid_Loss=0.357]\n"
     ]
    },
    {
     "name": "stdout",
     "output_type": "stream",
     "text": [
      "\n"
     ]
    },
    {
     "name": "stderr",
     "output_type": "stream",
     "text": [
      "100%|██████████| 10/10 [00:02<00:00,  3.61it/s, Epoch=50, LR=1e-8, Train_Loss=0.033]   \n",
      "100%|██████████| 11/11 [00:02<00:00,  4.53it/s, Epoch=50, LR=1e-8, Valid_Loss=0.36]\n"
     ]
    },
    {
     "name": "stdout",
     "output_type": "stream",
     "text": [
      "\n",
      "Training complete in 0h 5m 3s\n",
      "Best AUROC: 0.1532\n"
     ]
    },
    {
     "name": "stderr",
     "output_type": "stream",
     "text": [
      "100%|██████████| 619/619 [02:01<00:00,  5.09it/s]\n"
     ]
    },
    {
     "name": "stdout",
     "output_type": "stream",
     "text": [
      "fold0_pAUC (not filtered): 0.1277\n",
      "==============================\n",
      "fold 1\n",
      "==============================\n",
      "●train\n",
      "original> (318420, 58) 309 (833,)\n",
      "filtered> (6489, 58) 309 (743,)\n",
      "●val\n",
      "original> (82639, 58) 84 (209,)\n",
      "filtered> (1764, 58) 84 (198,)\n",
      "[INFO] Using GPU: NVIDIA GeForce RTX 4090\n",
      "\n"
     ]
    },
    {
     "name": "stderr",
     "output_type": "stream",
     "text": [
      "100%|██████████| 9/9 [00:02<00:00,  3.53it/s, Epoch=1, LR=0.000999, Train_Loss=1.41]\n",
      "100%|██████████| 14/14 [00:03<00:00,  4.40it/s, Epoch=1, LR=0.000999, Valid_Loss=0.819]\n"
     ]
    },
    {
     "name": "stdout",
     "output_type": "stream",
     "text": [
      "\u001b[34mValidation AUROC Improved (-inf ---> 0.040993480725623574)\n",
      "\n"
     ]
    },
    {
     "name": "stderr",
     "output_type": "stream",
     "text": [
      "100%|██████████| 9/9 [00:02<00:00,  3.58it/s, Epoch=2, LR=0.000996, Train_Loss=1.03]\n",
      "100%|██████████| 14/14 [00:03<00:00,  4.60it/s, Epoch=2, LR=0.000996, Valid_Loss=1.08]\n"
     ]
    },
    {
     "name": "stdout",
     "output_type": "stream",
     "text": [
      "\u001b[34mValidation AUROC Improved (0.040993480725623574 ---> 0.11356575963718818)\n",
      "\n"
     ]
    },
    {
     "name": "stderr",
     "output_type": "stream",
     "text": [
      "100%|██████████| 9/9 [00:02<00:00,  3.53it/s, Epoch=3, LR=0.000991, Train_Loss=0.855]\n",
      "100%|██████████| 14/14 [00:03<00:00,  4.53it/s, Epoch=3, LR=0.000991, Valid_Loss=0.511]\n"
     ]
    },
    {
     "name": "stdout",
     "output_type": "stream",
     "text": [
      "\u001b[34mValidation AUROC Improved (0.11356575963718818 ---> 0.1305994897959183)\n",
      "\n"
     ]
    },
    {
     "name": "stderr",
     "output_type": "stream",
     "text": [
      "100%|██████████| 9/9 [00:02<00:00,  3.59it/s, Epoch=4, LR=0.000984, Train_Loss=0.757]\n",
      "100%|██████████| 14/14 [00:03<00:00,  4.50it/s, Epoch=4, LR=0.000984, Valid_Loss=0.562]\n"
     ]
    },
    {
     "name": "stdout",
     "output_type": "stream",
     "text": [
      "\n"
     ]
    },
    {
     "name": "stderr",
     "output_type": "stream",
     "text": [
      "100%|██████████| 9/9 [00:02<00:00,  3.59it/s, Epoch=5, LR=0.000976, Train_Loss=0.672]\n",
      "100%|██████████| 14/14 [00:03<00:00,  4.55it/s, Epoch=5, LR=0.000976, Valid_Loss=0.759]\n"
     ]
    },
    {
     "name": "stdout",
     "output_type": "stream",
     "text": [
      "\u001b[34mValidation AUROC Improved (0.1305994897959183 ---> 0.14363378684807254)\n",
      "\n"
     ]
    },
    {
     "name": "stderr",
     "output_type": "stream",
     "text": [
      "100%|██████████| 9/9 [00:02<00:00,  3.60it/s, Epoch=6, LR=0.000965, Train_Loss=0.608]\n",
      "100%|██████████| 14/14 [00:03<00:00,  4.61it/s, Epoch=6, LR=0.000965, Valid_Loss=0.736]\n"
     ]
    },
    {
     "name": "stdout",
     "output_type": "stream",
     "text": [
      "\n"
     ]
    },
    {
     "name": "stderr",
     "output_type": "stream",
     "text": [
      "100%|██████████| 9/9 [00:02<00:00,  3.58it/s, Epoch=7, LR=0.000952, Train_Loss=0.536]\n",
      "100%|██████████| 14/14 [00:03<00:00,  4.60it/s, Epoch=7, LR=0.000952, Valid_Loss=0.74] \n"
     ]
    },
    {
     "name": "stdout",
     "output_type": "stream",
     "text": [
      "\n"
     ]
    },
    {
     "name": "stderr",
     "output_type": "stream",
     "text": [
      "100%|██████████| 9/9 [00:02<00:00,  3.63it/s, Epoch=8, LR=0.000938, Train_Loss=0.489]\n",
      "100%|██████████| 14/14 [00:03<00:00,  4.54it/s, Epoch=8, LR=0.000938, Valid_Loss=0.358]\n"
     ]
    },
    {
     "name": "stdout",
     "output_type": "stream",
     "text": [
      "\u001b[34mValidation AUROC Improved (0.14363378684807254 ---> 0.14936366213151925)\n",
      "\n"
     ]
    },
    {
     "name": "stderr",
     "output_type": "stream",
     "text": [
      "100%|██████████| 9/9 [00:02<00:00,  3.67it/s, Epoch=9, LR=0.000922, Train_Loss=0.529]\n",
      "100%|██████████| 14/14 [00:03<00:00,  4.30it/s, Epoch=9, LR=0.000922, Valid_Loss=0.901]\n"
     ]
    },
    {
     "name": "stdout",
     "output_type": "stream",
     "text": [
      "\n"
     ]
    },
    {
     "name": "stderr",
     "output_type": "stream",
     "text": [
      "100%|██████████| 9/9 [00:02<00:00,  3.64it/s, Epoch=10, LR=0.000905, Train_Loss=0.44] \n",
      "100%|██████████| 14/14 [00:02<00:00,  4.68it/s, Epoch=10, LR=0.000905, Valid_Loss=0.488]\n"
     ]
    },
    {
     "name": "stdout",
     "output_type": "stream",
     "text": [
      "\n"
     ]
    },
    {
     "name": "stderr",
     "output_type": "stream",
     "text": [
      "100%|██████████| 9/9 [00:02<00:00,  3.62it/s, Epoch=11, LR=0.000885, Train_Loss=0.464]\n",
      "100%|██████████| 14/14 [00:03<00:00,  4.51it/s, Epoch=11, LR=0.000885, Valid_Loss=0.264]\n"
     ]
    },
    {
     "name": "stdout",
     "output_type": "stream",
     "text": [
      "\u001b[34mValidation AUROC Improved (0.14936366213151925 ---> 0.15248724489795912)\n",
      "\n"
     ]
    },
    {
     "name": "stderr",
     "output_type": "stream",
     "text": [
      "100%|██████████| 9/9 [00:02<00:00,  3.61it/s, Epoch=12, LR=0.000864, Train_Loss=0.37] \n",
      "100%|██████████| 14/14 [00:03<00:00,  4.35it/s, Epoch=12, LR=0.000864, Valid_Loss=0.515]\n"
     ]
    },
    {
     "name": "stdout",
     "output_type": "stream",
     "text": [
      "\u001b[34mValidation AUROC Improved (0.15248724489795912 ---> 0.15837585034013604)\n",
      "\n"
     ]
    },
    {
     "name": "stderr",
     "output_type": "stream",
     "text": [
      "100%|██████████| 9/9 [00:02<00:00,  3.62it/s, Epoch=13, LR=0.000842, Train_Loss=0.305]\n",
      "100%|██████████| 14/14 [00:03<00:00,  4.60it/s, Epoch=13, LR=0.000842, Valid_Loss=0.336]\n"
     ]
    },
    {
     "name": "stdout",
     "output_type": "stream",
     "text": [
      "\n"
     ]
    },
    {
     "name": "stderr",
     "output_type": "stream",
     "text": [
      "100%|██████████| 9/9 [00:02<00:00,  3.54it/s, Epoch=14, LR=0.000819, Train_Loss=0.304]\n",
      "100%|██████████| 14/14 [00:03<00:00,  4.39it/s, Epoch=14, LR=0.000819, Valid_Loss=0.348]\n"
     ]
    },
    {
     "name": "stdout",
     "output_type": "stream",
     "text": [
      "\n"
     ]
    },
    {
     "name": "stderr",
     "output_type": "stream",
     "text": [
      "100%|██████████| 9/9 [00:02<00:00,  3.54it/s, Epoch=15, LR=0.000794, Train_Loss=0.273]\n",
      "100%|██████████| 14/14 [00:03<00:00,  4.54it/s, Epoch=15, LR=0.000794, Valid_Loss=0.416]\n"
     ]
    },
    {
     "name": "stdout",
     "output_type": "stream",
     "text": [
      "\n"
     ]
    },
    {
     "name": "stderr",
     "output_type": "stream",
     "text": [
      "100%|██████████| 9/9 [00:02<00:00,  3.71it/s, Epoch=16, LR=0.000768, Train_Loss=0.222]\n",
      "100%|██████████| 14/14 [00:03<00:00,  4.54it/s, Epoch=16, LR=0.000768, Valid_Loss=0.341]\n"
     ]
    },
    {
     "name": "stdout",
     "output_type": "stream",
     "text": [
      "\n"
     ]
    },
    {
     "name": "stderr",
     "output_type": "stream",
     "text": [
      "100%|██████████| 9/9 [00:02<00:00,  3.64it/s, Epoch=17, LR=0.000741, Train_Loss=0.175]\n",
      "100%|██████████| 14/14 [00:03<00:00,  4.56it/s, Epoch=17, LR=0.000741, Valid_Loss=0.608]\n"
     ]
    },
    {
     "name": "stdout",
     "output_type": "stream",
     "text": [
      "\n"
     ]
    },
    {
     "name": "stderr",
     "output_type": "stream",
     "text": [
      "100%|██████████| 9/9 [00:02<00:00,  3.61it/s, Epoch=18, LR=0.000713, Train_Loss=0.266]\n",
      "100%|██████████| 14/14 [00:03<00:00,  4.60it/s, Epoch=18, LR=0.000713, Valid_Loss=0.395]\n"
     ]
    },
    {
     "name": "stdout",
     "output_type": "stream",
     "text": [
      "\n"
     ]
    },
    {
     "name": "stderr",
     "output_type": "stream",
     "text": [
      "100%|██████████| 9/9 [00:02<00:00,  3.59it/s, Epoch=19, LR=0.000684, Train_Loss=0.222]\n",
      "100%|██████████| 14/14 [00:03<00:00,  4.62it/s, Epoch=19, LR=0.000684, Valid_Loss=0.22] \n"
     ]
    },
    {
     "name": "stdout",
     "output_type": "stream",
     "text": [
      "\n"
     ]
    },
    {
     "name": "stderr",
     "output_type": "stream",
     "text": [
      "100%|██████████| 9/9 [00:02<00:00,  3.57it/s, Epoch=20, LR=0.000655, Train_Loss=0.175]\n",
      "100%|██████████| 14/14 [00:03<00:00,  4.53it/s, Epoch=20, LR=0.000655, Valid_Loss=0.547]\n"
     ]
    },
    {
     "name": "stdout",
     "output_type": "stream",
     "text": [
      "\n"
     ]
    },
    {
     "name": "stderr",
     "output_type": "stream",
     "text": [
      "100%|██████████| 9/9 [00:02<00:00,  3.67it/s, Epoch=21, LR=0.000624, Train_Loss=0.163]\n",
      "100%|██████████| 14/14 [00:03<00:00,  4.54it/s, Epoch=21, LR=0.000624, Valid_Loss=0.332]\n"
     ]
    },
    {
     "name": "stdout",
     "output_type": "stream",
     "text": [
      "\n"
     ]
    },
    {
     "name": "stderr",
     "output_type": "stream",
     "text": [
      "100%|██████████| 9/9 [00:02<00:00,  3.64it/s, Epoch=22, LR=0.000594, Train_Loss=0.167]\n",
      "100%|██████████| 14/14 [00:03<00:00,  4.60it/s, Epoch=22, LR=0.000594, Valid_Loss=0.345]\n"
     ]
    },
    {
     "name": "stdout",
     "output_type": "stream",
     "text": [
      "\n"
     ]
    },
    {
     "name": "stderr",
     "output_type": "stream",
     "text": [
      "100%|██████████| 9/9 [00:02<00:00,  3.61it/s, Epoch=23, LR=0.000563, Train_Loss=0.142]\n",
      "100%|██████████| 14/14 [00:03<00:00,  4.51it/s, Epoch=23, LR=0.000563, Valid_Loss=0.374]\n"
     ]
    },
    {
     "name": "stdout",
     "output_type": "stream",
     "text": [
      "\n"
     ]
    },
    {
     "name": "stderr",
     "output_type": "stream",
     "text": [
      "100%|██████████| 9/9 [00:02<00:00,  3.55it/s, Epoch=24, LR=0.000531, Train_Loss=0.126] \n",
      "100%|██████████| 14/14 [00:03<00:00,  4.37it/s, Epoch=24, LR=0.000531, Valid_Loss=0.521]\n"
     ]
    },
    {
     "name": "stdout",
     "output_type": "stream",
     "text": [
      "\n"
     ]
    },
    {
     "name": "stderr",
     "output_type": "stream",
     "text": [
      "100%|██████████| 9/9 [00:02<00:00,  3.55it/s, Epoch=25, LR=0.0005, Train_Loss=0.131]   \n",
      "100%|██████████| 14/14 [00:03<00:00,  4.51it/s, Epoch=25, LR=0.0005, Valid_Loss=0.338]\n"
     ]
    },
    {
     "name": "stdout",
     "output_type": "stream",
     "text": [
      "\n"
     ]
    },
    {
     "name": "stderr",
     "output_type": "stream",
     "text": [
      "100%|██████████| 9/9 [00:02<00:00,  3.54it/s, Epoch=26, LR=0.000469, Train_Loss=0.107]\n",
      "100%|██████████| 14/14 [00:03<00:00,  4.32it/s, Epoch=26, LR=0.000469, Valid_Loss=0.493]\n"
     ]
    },
    {
     "name": "stdout",
     "output_type": "stream",
     "text": [
      "\n"
     ]
    },
    {
     "name": "stderr",
     "output_type": "stream",
     "text": [
      "100%|██████████| 9/9 [00:02<00:00,  3.55it/s, Epoch=27, LR=0.000437, Train_Loss=0.123]\n",
      "100%|██████████| 14/14 [00:03<00:00,  4.59it/s, Epoch=27, LR=0.000437, Valid_Loss=0.41] \n"
     ]
    },
    {
     "name": "stdout",
     "output_type": "stream",
     "text": [
      "\n"
     ]
    },
    {
     "name": "stderr",
     "output_type": "stream",
     "text": [
      "100%|██████████| 9/9 [00:02<00:00,  3.56it/s, Epoch=28, LR=0.000406, Train_Loss=0.0923]\n",
      "100%|██████████| 14/14 [00:03<00:00,  4.65it/s, Epoch=28, LR=0.000406, Valid_Loss=0.444]\n"
     ]
    },
    {
     "name": "stdout",
     "output_type": "stream",
     "text": [
      "\n"
     ]
    },
    {
     "name": "stderr",
     "output_type": "stream",
     "text": [
      "100%|██████████| 9/9 [00:02<00:00,  3.64it/s, Epoch=29, LR=0.000376, Train_Loss=0.0971]\n",
      "100%|██████████| 14/14 [00:03<00:00,  4.54it/s, Epoch=29, LR=0.000376, Valid_Loss=0.408]\n"
     ]
    },
    {
     "name": "stdout",
     "output_type": "stream",
     "text": [
      "\n"
     ]
    },
    {
     "name": "stderr",
     "output_type": "stream",
     "text": [
      "100%|██████████| 9/9 [00:02<00:00,  3.58it/s, Epoch=30, LR=0.000345, Train_Loss=0.0569]\n",
      "100%|██████████| 14/14 [00:03<00:00,  4.48it/s, Epoch=30, LR=0.000345, Valid_Loss=0.488]\n"
     ]
    },
    {
     "name": "stdout",
     "output_type": "stream",
     "text": [
      "\n"
     ]
    },
    {
     "name": "stderr",
     "output_type": "stream",
     "text": [
      "100%|██████████| 9/9 [00:02<00:00,  3.58it/s, Epoch=31, LR=0.000316, Train_Loss=0.0876]\n",
      "100%|██████████| 14/14 [00:03<00:00,  4.54it/s, Epoch=31, LR=0.000316, Valid_Loss=0.377]\n"
     ]
    },
    {
     "name": "stdout",
     "output_type": "stream",
     "text": [
      "\n"
     ]
    },
    {
     "name": "stderr",
     "output_type": "stream",
     "text": [
      "100%|██████████| 9/9 [00:02<00:00,  3.55it/s, Epoch=32, LR=0.000287, Train_Loss=0.0979]\n",
      "100%|██████████| 14/14 [00:03<00:00,  4.29it/s, Epoch=32, LR=0.000287, Valid_Loss=0.392]\n"
     ]
    },
    {
     "name": "stdout",
     "output_type": "stream",
     "text": [
      "\n"
     ]
    },
    {
     "name": "stderr",
     "output_type": "stream",
     "text": [
      "100%|██████████| 9/9 [00:02<00:00,  3.09it/s, Epoch=33, LR=0.000259, Train_Loss=0.0955]\n",
      "100%|██████████| 14/14 [00:03<00:00,  4.47it/s, Epoch=33, LR=0.000259, Valid_Loss=0.404]\n"
     ]
    },
    {
     "name": "stdout",
     "output_type": "stream",
     "text": [
      "\n"
     ]
    },
    {
     "name": "stderr",
     "output_type": "stream",
     "text": [
      "100%|██████████| 9/9 [00:02<00:00,  3.67it/s, Epoch=34, LR=0.000232, Train_Loss=0.08]  \n",
      "100%|██████████| 14/14 [00:03<00:00,  4.51it/s, Epoch=34, LR=0.000232, Valid_Loss=0.419]\n"
     ]
    },
    {
     "name": "stdout",
     "output_type": "stream",
     "text": [
      "\u001b[34mValidation AUROC Improved (0.15837585034013604 ---> 0.15876558956916098)\n",
      "\n"
     ]
    },
    {
     "name": "stderr",
     "output_type": "stream",
     "text": [
      "100%|██████████| 9/9 [00:02<00:00,  3.51it/s, Epoch=35, LR=0.000206, Train_Loss=0.0531]\n",
      "100%|██████████| 14/14 [00:03<00:00,  4.50it/s, Epoch=35, LR=0.000206, Valid_Loss=0.45] \n"
     ]
    },
    {
     "name": "stdout",
     "output_type": "stream",
     "text": [
      "\u001b[34mValidation AUROC Improved (0.15876558956916098 ---> 0.15992630385487527)\n",
      "\n"
     ]
    },
    {
     "name": "stderr",
     "output_type": "stream",
     "text": [
      "100%|██████████| 9/9 [00:02<00:00,  3.61it/s, Epoch=36, LR=0.000181, Train_Loss=0.0551]\n",
      "100%|██████████| 14/14 [00:03<00:00,  4.48it/s, Epoch=36, LR=0.000181, Valid_Loss=0.44] \n"
     ]
    },
    {
     "name": "stdout",
     "output_type": "stream",
     "text": [
      "\n"
     ]
    },
    {
     "name": "stderr",
     "output_type": "stream",
     "text": [
      "100%|██████████| 9/9 [00:02<00:00,  3.57it/s, Epoch=37, LR=0.000158, Train_Loss=0.0776]\n",
      "100%|██████████| 14/14 [00:03<00:00,  4.66it/s, Epoch=37, LR=0.000158, Valid_Loss=0.355]\n"
     ]
    },
    {
     "name": "stdout",
     "output_type": "stream",
     "text": [
      "\n"
     ]
    },
    {
     "name": "stderr",
     "output_type": "stream",
     "text": [
      "100%|██████████| 9/9 [00:02<00:00,  3.63it/s, Epoch=38, LR=0.000136, Train_Loss=0.0583]\n",
      "100%|██████████| 14/14 [00:03<00:00,  4.58it/s, Epoch=38, LR=0.000136, Valid_Loss=0.32] \n"
     ]
    },
    {
     "name": "stdout",
     "output_type": "stream",
     "text": [
      "\n"
     ]
    },
    {
     "name": "stderr",
     "output_type": "stream",
     "text": [
      "100%|██████████| 9/9 [00:02<00:00,  3.60it/s, Epoch=39, LR=0.000115, Train_Loss=0.0532]\n",
      "100%|██████████| 14/14 [00:03<00:00,  4.56it/s, Epoch=39, LR=0.000115, Valid_Loss=0.303]\n"
     ]
    },
    {
     "name": "stdout",
     "output_type": "stream",
     "text": [
      "\n"
     ]
    },
    {
     "name": "stderr",
     "output_type": "stream",
     "text": [
      "100%|██████████| 9/9 [00:02<00:00,  3.63it/s, Epoch=40, LR=9.55e-5, Train_Loss=0.034]  \n",
      "100%|██████████| 14/14 [00:03<00:00,  4.53it/s, Epoch=40, LR=9.55e-5, Valid_Loss=0.349]\n"
     ]
    },
    {
     "name": "stdout",
     "output_type": "stream",
     "text": [
      "\n"
     ]
    },
    {
     "name": "stderr",
     "output_type": "stream",
     "text": [
      "100%|██████████| 9/9 [00:02<00:00,  3.55it/s, Epoch=41, LR=7.78e-5, Train_Loss=0.0298]\n",
      "100%|██████████| 14/14 [00:03<00:00,  4.66it/s, Epoch=41, LR=7.78e-5, Valid_Loss=0.384]\n"
     ]
    },
    {
     "name": "stdout",
     "output_type": "stream",
     "text": [
      "\n"
     ]
    },
    {
     "name": "stderr",
     "output_type": "stream",
     "text": [
      "100%|██████████| 9/9 [00:02<00:00,  3.61it/s, Epoch=42, LR=6.19e-5, Train_Loss=0.0451]\n",
      "100%|██████████| 14/14 [00:03<00:00,  4.53it/s, Epoch=42, LR=6.19e-5, Valid_Loss=0.397]\n"
     ]
    },
    {
     "name": "stdout",
     "output_type": "stream",
     "text": [
      "\n"
     ]
    },
    {
     "name": "stderr",
     "output_type": "stream",
     "text": [
      "100%|██████████| 9/9 [00:02<00:00,  3.59it/s, Epoch=43, LR=4.76e-5, Train_Loss=0.0667]\n",
      "100%|██████████| 14/14 [00:03<00:00,  4.56it/s, Epoch=43, LR=4.76e-5, Valid_Loss=0.374]\n"
     ]
    },
    {
     "name": "stdout",
     "output_type": "stream",
     "text": [
      "\n"
     ]
    },
    {
     "name": "stderr",
     "output_type": "stream",
     "text": [
      "100%|██████████| 9/9 [00:02<00:00,  3.70it/s, Epoch=44, LR=3.51e-5, Train_Loss=0.0568]\n",
      "100%|██████████| 14/14 [00:03<00:00,  4.56it/s, Epoch=44, LR=3.51e-5, Valid_Loss=0.346]\n"
     ]
    },
    {
     "name": "stdout",
     "output_type": "stream",
     "text": [
      "\n"
     ]
    },
    {
     "name": "stderr",
     "output_type": "stream",
     "text": [
      "100%|██████████| 9/9 [00:02<00:00,  3.59it/s, Epoch=45, LR=2.45e-5, Train_Loss=0.0475]\n",
      "100%|██████████| 14/14 [00:03<00:00,  4.47it/s, Epoch=45, LR=2.45e-5, Valid_Loss=0.341]\n"
     ]
    },
    {
     "name": "stdout",
     "output_type": "stream",
     "text": [
      "\n"
     ]
    },
    {
     "name": "stderr",
     "output_type": "stream",
     "text": [
      "100%|██████████| 9/9 [00:02<00:00,  3.58it/s, Epoch=46, LR=1.57e-5, Train_Loss=0.0445]\n",
      "100%|██████████| 14/14 [00:03<00:00,  4.53it/s, Epoch=46, LR=1.57e-5, Valid_Loss=0.346]\n"
     ]
    },
    {
     "name": "stdout",
     "output_type": "stream",
     "text": [
      "\n"
     ]
    },
    {
     "name": "stderr",
     "output_type": "stream",
     "text": [
      "100%|██████████| 9/9 [00:02<00:00,  3.57it/s, Epoch=47, LR=8.87e-6, Train_Loss=0.0359]\n",
      "100%|██████████| 14/14 [00:03<00:00,  4.60it/s, Epoch=47, LR=8.87e-6, Valid_Loss=0.356]\n"
     ]
    },
    {
     "name": "stdout",
     "output_type": "stream",
     "text": [
      "\n"
     ]
    },
    {
     "name": "stderr",
     "output_type": "stream",
     "text": [
      "100%|██████████| 9/9 [00:02<00:00,  3.63it/s, Epoch=48, LR=3.95e-6, Train_Loss=0.0495]\n",
      "100%|██████████| 14/14 [00:03<00:00,  4.25it/s, Epoch=48, LR=3.95e-6, Valid_Loss=0.316]\n"
     ]
    },
    {
     "name": "stdout",
     "output_type": "stream",
     "text": [
      "\n"
     ]
    },
    {
     "name": "stderr",
     "output_type": "stream",
     "text": [
      "100%|██████████| 9/9 [00:02<00:00,  3.59it/s, Epoch=49, LR=9.97e-7, Train_Loss=0.0328]\n",
      "100%|██████████| 14/14 [00:03<00:00,  4.36it/s, Epoch=49, LR=9.97e-7, Valid_Loss=0.327]\n"
     ]
    },
    {
     "name": "stdout",
     "output_type": "stream",
     "text": [
      "\n"
     ]
    },
    {
     "name": "stderr",
     "output_type": "stream",
     "text": [
      "100%|██████████| 9/9 [00:02<00:00,  3.59it/s, Epoch=50, LR=1e-8, Train_Loss=0.0415]   \n",
      "100%|██████████| 14/14 [00:03<00:00,  4.61it/s, Epoch=50, LR=1e-8, Valid_Loss=0.358]\n"
     ]
    },
    {
     "name": "stdout",
     "output_type": "stream",
     "text": [
      "\n",
      "Training complete in 0h 5m 18s\n",
      "Best AUROC: 0.1599\n"
     ]
    },
    {
     "name": "stderr",
     "output_type": "stream",
     "text": [
      "100%|██████████| 646/646 [02:04<00:00,  5.18it/s]\n"
     ]
    },
    {
     "name": "stdout",
     "output_type": "stream",
     "text": [
      "fold1_pAUC (not filtered): 0.1505\n",
      "==============================\n",
      "fold 2\n",
      "==============================\n",
      "●train\n",
      "original> (317616, 58) 306 (833,)\n",
      "filtered> (6426, 58) 306 (755,)\n",
      "●val\n",
      "original> (83443, 58) 87 (209,)\n",
      "filtered> (1827, 58) 87 (194,)\n",
      "[INFO] Using GPU: NVIDIA GeForce RTX 4090\n",
      "\n"
     ]
    },
    {
     "name": "stderr",
     "output_type": "stream",
     "text": [
      "100%|██████████| 9/9 [00:02<00:00,  3.50it/s, Epoch=1, LR=0.000999, Train_Loss=1.32]\n",
      "100%|██████████| 15/15 [00:03<00:00,  4.58it/s, Epoch=1, LR=0.000999, Valid_Loss=1.31]\n"
     ]
    },
    {
     "name": "stdout",
     "output_type": "stream",
     "text": [
      "\u001b[34mValidation AUROC Improved (-inf ---> 0.04527546571541813)\n",
      "\n"
     ]
    },
    {
     "name": "stderr",
     "output_type": "stream",
     "text": [
      "100%|██████████| 9/9 [00:02<00:00,  3.39it/s, Epoch=2, LR=0.000996, Train_Loss=0.75] \n",
      "100%|██████████| 15/15 [00:03<00:00,  4.49it/s, Epoch=2, LR=0.000996, Valid_Loss=1.33]\n"
     ]
    },
    {
     "name": "stdout",
     "output_type": "stream",
     "text": [
      "\u001b[34mValidation AUROC Improved (0.04527546571541813 ---> 0.08807636411679215)\n",
      "\n"
     ]
    },
    {
     "name": "stderr",
     "output_type": "stream",
     "text": [
      "100%|██████████| 9/9 [00:02<00:00,  3.47it/s, Epoch=3, LR=0.000991, Train_Loss=0.733]\n",
      "100%|██████████| 15/15 [00:03<00:00,  4.53it/s, Epoch=3, LR=0.000991, Valid_Loss=0.874]\n"
     ]
    },
    {
     "name": "stdout",
     "output_type": "stream",
     "text": [
      "\u001b[34mValidation AUROC Improved (0.08807636411679215 ---> 0.09389483419209929)\n",
      "\n"
     ]
    },
    {
     "name": "stderr",
     "output_type": "stream",
     "text": [
      "100%|██████████| 9/9 [00:02<00:00,  3.46it/s, Epoch=4, LR=0.000984, Train_Loss=0.561]\n",
      "100%|██████████| 15/15 [00:03<00:00,  4.60it/s, Epoch=4, LR=0.000984, Valid_Loss=0.411]\n"
     ]
    },
    {
     "name": "stdout",
     "output_type": "stream",
     "text": [
      "\u001b[34mValidation AUROC Improved (0.09389483419209929 ---> 0.11588320782137661)\n",
      "\n"
     ]
    },
    {
     "name": "stderr",
     "output_type": "stream",
     "text": [
      "100%|██████████| 9/9 [00:02<00:00,  3.58it/s, Epoch=5, LR=0.000976, Train_Loss=0.519]\n",
      "100%|██████████| 15/15 [00:03<00:00,  4.60it/s, Epoch=5, LR=0.000976, Valid_Loss=0.393]\n"
     ]
    },
    {
     "name": "stdout",
     "output_type": "stream",
     "text": [
      "\u001b[34mValidation AUROC Improved (0.11588320782137661 ---> 0.11863918615404935)\n",
      "\n"
     ]
    },
    {
     "name": "stderr",
     "output_type": "stream",
     "text": [
      "100%|██████████| 9/9 [00:02<00:00,  3.52it/s, Epoch=6, LR=0.000965, Train_Loss=0.505]\n",
      "100%|██████████| 15/15 [00:03<00:00,  4.64it/s, Epoch=6, LR=0.000965, Valid_Loss=0.374]\n"
     ]
    },
    {
     "name": "stdout",
     "output_type": "stream",
     "text": [
      "\u001b[34mValidation AUROC Improved (0.11863918615404935 ---> 0.13088651076760466)\n",
      "\n"
     ]
    },
    {
     "name": "stderr",
     "output_type": "stream",
     "text": [
      "100%|██████████| 9/9 [00:02<00:00,  3.64it/s, Epoch=7, LR=0.000952, Train_Loss=0.434]\n",
      "100%|██████████| 15/15 [00:03<00:00,  4.54it/s, Epoch=7, LR=0.000952, Valid_Loss=0.61] \n"
     ]
    },
    {
     "name": "stdout",
     "output_type": "stream",
     "text": [
      "\u001b[34mValidation AUROC Improved (0.13088651076760466 ---> 0.13529131985731266)\n",
      "\n"
     ]
    },
    {
     "name": "stderr",
     "output_type": "stream",
     "text": [
      "100%|██████████| 9/9 [00:02<00:00,  3.51it/s, Epoch=8, LR=0.000938, Train_Loss=0.378]\n",
      "100%|██████████| 15/15 [00:03<00:00,  4.60it/s, Epoch=8, LR=0.000938, Valid_Loss=0.39] \n"
     ]
    },
    {
     "name": "stdout",
     "output_type": "stream",
     "text": [
      "\u001b[34mValidation AUROC Improved (0.13529131985731266 ---> 0.14200819130664546)\n",
      "\n"
     ]
    },
    {
     "name": "stderr",
     "output_type": "stream",
     "text": [
      "100%|██████████| 9/9 [00:02<00:00,  3.44it/s, Epoch=9, LR=0.000922, Train_Loss=0.331]\n",
      "100%|██████████| 15/15 [00:03<00:00,  4.49it/s, Epoch=9, LR=0.000922, Valid_Loss=0.614]\n"
     ]
    },
    {
     "name": "stdout",
     "output_type": "stream",
     "text": [
      "\u001b[34mValidation AUROC Improved (0.14200819130664546 ---> 0.15530453164222485)\n",
      "\n"
     ]
    },
    {
     "name": "stderr",
     "output_type": "stream",
     "text": [
      "100%|██████████| 9/9 [00:02<00:00,  3.54it/s, Epoch=10, LR=0.000905, Train_Loss=0.346]\n",
      "100%|██████████| 15/15 [00:03<00:00,  4.60it/s, Epoch=10, LR=0.000905, Valid_Loss=0.426]\n"
     ]
    },
    {
     "name": "stdout",
     "output_type": "stream",
     "text": [
      "\u001b[34mValidation AUROC Improved (0.15530453164222485 ---> 0.16397146254458972)\n",
      "\n"
     ]
    },
    {
     "name": "stderr",
     "output_type": "stream",
     "text": [
      "100%|██████████| 9/9 [00:02<00:00,  3.47it/s, Epoch=11, LR=0.000885, Train_Loss=0.283]\n",
      "100%|██████████| 15/15 [00:03<00:00,  4.64it/s, Epoch=11, LR=0.000885, Valid_Loss=0.624]\n"
     ]
    },
    {
     "name": "stdout",
     "output_type": "stream",
     "text": [
      "\n"
     ]
    },
    {
     "name": "stderr",
     "output_type": "stream",
     "text": [
      "100%|██████████| 9/9 [00:02<00:00,  3.43it/s, Epoch=12, LR=0.000864, Train_Loss=0.31] \n",
      "100%|██████████| 15/15 [00:03<00:00,  4.63it/s, Epoch=12, LR=0.000864, Valid_Loss=0.478]\n"
     ]
    },
    {
     "name": "stdout",
     "output_type": "stream",
     "text": [
      "\n"
     ]
    },
    {
     "name": "stderr",
     "output_type": "stream",
     "text": [
      "100%|██████████| 9/9 [00:02<00:00,  3.45it/s, Epoch=13, LR=0.000842, Train_Loss=0.302]\n",
      "100%|██████████| 15/15 [00:03<00:00,  4.70it/s, Epoch=13, LR=0.000842, Valid_Loss=0.544]\n"
     ]
    },
    {
     "name": "stdout",
     "output_type": "stream",
     "text": [
      "\n"
     ]
    },
    {
     "name": "stderr",
     "output_type": "stream",
     "text": [
      "100%|██████████| 9/9 [00:02<00:00,  3.52it/s, Epoch=14, LR=0.000819, Train_Loss=0.23] \n",
      "100%|██████████| 15/15 [00:03<00:00,  4.74it/s, Epoch=14, LR=0.000819, Valid_Loss=0.42] \n"
     ]
    },
    {
     "name": "stdout",
     "output_type": "stream",
     "text": [
      "\n"
     ]
    },
    {
     "name": "stderr",
     "output_type": "stream",
     "text": [
      "100%|██████████| 9/9 [00:02<00:00,  3.45it/s, Epoch=15, LR=0.000794, Train_Loss=0.179]\n",
      "100%|██████████| 15/15 [00:03<00:00,  4.51it/s, Epoch=15, LR=0.000794, Valid_Loss=0.364]\n"
     ]
    },
    {
     "name": "stdout",
     "output_type": "stream",
     "text": [
      "\n"
     ]
    },
    {
     "name": "stderr",
     "output_type": "stream",
     "text": [
      "100%|██████████| 9/9 [00:02<00:00,  3.54it/s, Epoch=16, LR=0.000768, Train_Loss=0.243]\n",
      "100%|██████████| 15/15 [00:03<00:00,  4.75it/s, Epoch=16, LR=0.000768, Valid_Loss=0.669]\n"
     ]
    },
    {
     "name": "stdout",
     "output_type": "stream",
     "text": [
      "\n"
     ]
    },
    {
     "name": "stderr",
     "output_type": "stream",
     "text": [
      "100%|██████████| 9/9 [00:02<00:00,  3.55it/s, Epoch=17, LR=0.000741, Train_Loss=0.246]\n",
      "100%|██████████| 15/15 [00:03<00:00,  4.50it/s, Epoch=17, LR=0.000741, Valid_Loss=0.43] \n"
     ]
    },
    {
     "name": "stdout",
     "output_type": "stream",
     "text": [
      "\n"
     ]
    },
    {
     "name": "stderr",
     "output_type": "stream",
     "text": [
      "100%|██████████| 9/9 [00:02<00:00,  3.51it/s, Epoch=18, LR=0.000713, Train_Loss=0.232]\n",
      "100%|██████████| 15/15 [00:03<00:00,  4.59it/s, Epoch=18, LR=0.000713, Valid_Loss=0.338]\n"
     ]
    },
    {
     "name": "stdout",
     "output_type": "stream",
     "text": [
      "\n"
     ]
    },
    {
     "name": "stderr",
     "output_type": "stream",
     "text": [
      "100%|██████████| 9/9 [00:02<00:00,  3.69it/s, Epoch=19, LR=0.000684, Train_Loss=0.214]\n",
      "100%|██████████| 15/15 [00:03<00:00,  4.55it/s, Epoch=19, LR=0.000684, Valid_Loss=0.416]\n"
     ]
    },
    {
     "name": "stdout",
     "output_type": "stream",
     "text": [
      "\n"
     ]
    },
    {
     "name": "stderr",
     "output_type": "stream",
     "text": [
      "100%|██████████| 9/9 [00:02<00:00,  3.51it/s, Epoch=20, LR=0.000655, Train_Loss=0.144]\n",
      "100%|██████████| 15/15 [00:03<00:00,  4.69it/s, Epoch=20, LR=0.000655, Valid_Loss=0.345]\n"
     ]
    },
    {
     "name": "stdout",
     "output_type": "stream",
     "text": [
      "\n"
     ]
    },
    {
     "name": "stderr",
     "output_type": "stream",
     "text": [
      "100%|██████████| 9/9 [00:02<00:00,  3.61it/s, Epoch=21, LR=0.000624, Train_Loss=0.175]\n",
      "100%|██████████| 15/15 [00:03<00:00,  4.48it/s, Epoch=21, LR=0.000624, Valid_Loss=0.564]\n"
     ]
    },
    {
     "name": "stdout",
     "output_type": "stream",
     "text": [
      "\n"
     ]
    },
    {
     "name": "stderr",
     "output_type": "stream",
     "text": [
      "100%|██████████| 9/9 [00:02<00:00,  3.04it/s, Epoch=22, LR=0.000594, Train_Loss=0.121] \n",
      "100%|██████████| 15/15 [00:03<00:00,  4.31it/s, Epoch=22, LR=0.000594, Valid_Loss=0.415]\n"
     ]
    },
    {
     "name": "stdout",
     "output_type": "stream",
     "text": [
      "\n"
     ]
    },
    {
     "name": "stderr",
     "output_type": "stream",
     "text": [
      "100%|██████████| 9/9 [00:02<00:00,  3.48it/s, Epoch=23, LR=0.000563, Train_Loss=0.103] \n",
      "100%|██████████| 15/15 [00:03<00:00,  4.45it/s, Epoch=23, LR=0.000563, Valid_Loss=0.491]\n"
     ]
    },
    {
     "name": "stdout",
     "output_type": "stream",
     "text": [
      "\n"
     ]
    },
    {
     "name": "stderr",
     "output_type": "stream",
     "text": [
      "100%|██████████| 9/9 [00:02<00:00,  3.52it/s, Epoch=24, LR=0.000531, Train_Loss=0.0935]\n",
      "100%|██████████| 15/15 [00:03<00:00,  4.53it/s, Epoch=24, LR=0.000531, Valid_Loss=0.443]\n"
     ]
    },
    {
     "name": "stdout",
     "output_type": "stream",
     "text": [
      "\n"
     ]
    },
    {
     "name": "stderr",
     "output_type": "stream",
     "text": [
      "100%|██████████| 9/9 [00:02<00:00,  3.51it/s, Epoch=25, LR=0.0005, Train_Loss=0.0825]  \n",
      "100%|██████████| 15/15 [00:03<00:00,  4.59it/s, Epoch=25, LR=0.0005, Valid_Loss=0.382]\n"
     ]
    },
    {
     "name": "stdout",
     "output_type": "stream",
     "text": [
      "\n"
     ]
    },
    {
     "name": "stderr",
     "output_type": "stream",
     "text": [
      "100%|██████████| 9/9 [00:02<00:00,  3.50it/s, Epoch=26, LR=0.000469, Train_Loss=0.0886]\n",
      "100%|██████████| 15/15 [00:03<00:00,  4.68it/s, Epoch=26, LR=0.000469, Valid_Loss=0.459]\n"
     ]
    },
    {
     "name": "stdout",
     "output_type": "stream",
     "text": [
      "\n"
     ]
    },
    {
     "name": "stderr",
     "output_type": "stream",
     "text": [
      "100%|██████████| 9/9 [00:02<00:00,  3.65it/s, Epoch=27, LR=0.000437, Train_Loss=0.0823]\n",
      "100%|██████████| 15/15 [00:03<00:00,  4.64it/s, Epoch=27, LR=0.000437, Valid_Loss=0.324]\n"
     ]
    },
    {
     "name": "stdout",
     "output_type": "stream",
     "text": [
      "\n"
     ]
    },
    {
     "name": "stderr",
     "output_type": "stream",
     "text": [
      "100%|██████████| 9/9 [00:02<00:00,  3.39it/s, Epoch=28, LR=0.000406, Train_Loss=0.106] \n",
      "100%|██████████| 15/15 [00:03<00:00,  4.67it/s, Epoch=28, LR=0.000406, Valid_Loss=0.487]\n"
     ]
    },
    {
     "name": "stdout",
     "output_type": "stream",
     "text": [
      "\n"
     ]
    },
    {
     "name": "stderr",
     "output_type": "stream",
     "text": [
      "100%|██████████| 9/9 [00:02<00:00,  3.45it/s, Epoch=29, LR=0.000376, Train_Loss=0.113] \n",
      "100%|██████████| 15/15 [00:03<00:00,  4.62it/s, Epoch=29, LR=0.000376, Valid_Loss=0.296]\n"
     ]
    },
    {
     "name": "stdout",
     "output_type": "stream",
     "text": [
      "\n"
     ]
    },
    {
     "name": "stderr",
     "output_type": "stream",
     "text": [
      "100%|██████████| 9/9 [00:02<00:00,  3.53it/s, Epoch=30, LR=0.000345, Train_Loss=0.0496]\n",
      "100%|██████████| 15/15 [00:03<00:00,  4.68it/s, Epoch=30, LR=0.000345, Valid_Loss=0.538]\n"
     ]
    },
    {
     "name": "stdout",
     "output_type": "stream",
     "text": [
      "\n"
     ]
    },
    {
     "name": "stderr",
     "output_type": "stream",
     "text": [
      "100%|██████████| 9/9 [00:02<00:00,  3.53it/s, Epoch=31, LR=0.000316, Train_Loss=0.058] \n",
      "100%|██████████| 15/15 [00:03<00:00,  4.66it/s, Epoch=31, LR=0.000316, Valid_Loss=0.491]\n"
     ]
    },
    {
     "name": "stdout",
     "output_type": "stream",
     "text": [
      "\n"
     ]
    },
    {
     "name": "stderr",
     "output_type": "stream",
     "text": [
      "100%|██████████| 9/9 [00:02<00:00,  3.48it/s, Epoch=32, LR=0.000287, Train_Loss=0.0755]\n",
      "100%|██████████| 15/15 [00:03<00:00,  4.53it/s, Epoch=32, LR=0.000287, Valid_Loss=0.46] \n"
     ]
    },
    {
     "name": "stdout",
     "output_type": "stream",
     "text": [
      "\n"
     ]
    },
    {
     "name": "stderr",
     "output_type": "stream",
     "text": [
      "100%|██████████| 9/9 [00:02<00:00,  3.42it/s, Epoch=33, LR=0.000259, Train_Loss=0.0585]\n",
      "100%|██████████| 15/15 [00:03<00:00,  4.70it/s, Epoch=33, LR=0.000259, Valid_Loss=0.441]\n"
     ]
    },
    {
     "name": "stdout",
     "output_type": "stream",
     "text": [
      "\n"
     ]
    },
    {
     "name": "stderr",
     "output_type": "stream",
     "text": [
      "100%|██████████| 9/9 [00:02<00:00,  3.58it/s, Epoch=34, LR=0.000232, Train_Loss=0.087] \n",
      "100%|██████████| 15/15 [00:03<00:00,  4.64it/s, Epoch=34, LR=0.000232, Valid_Loss=0.323]\n"
     ]
    },
    {
     "name": "stdout",
     "output_type": "stream",
     "text": [
      "\n"
     ]
    },
    {
     "name": "stderr",
     "output_type": "stream",
     "text": [
      "100%|██████████| 9/9 [00:02<00:00,  3.50it/s, Epoch=35, LR=0.000206, Train_Loss=0.0497]\n",
      "100%|██████████| 15/15 [00:03<00:00,  4.62it/s, Epoch=35, LR=0.000206, Valid_Loss=0.357]\n"
     ]
    },
    {
     "name": "stdout",
     "output_type": "stream",
     "text": [
      "\n"
     ]
    },
    {
     "name": "stderr",
     "output_type": "stream",
     "text": [
      "100%|██████████| 9/9 [00:02<00:00,  3.52it/s, Epoch=36, LR=0.000181, Train_Loss=0.0612]\n",
      "100%|██████████| 15/15 [00:03<00:00,  4.56it/s, Epoch=36, LR=0.000181, Valid_Loss=0.329]\n"
     ]
    },
    {
     "name": "stdout",
     "output_type": "stream",
     "text": [
      "\n"
     ]
    },
    {
     "name": "stderr",
     "output_type": "stream",
     "text": [
      "100%|██████████| 9/9 [00:02<00:00,  3.52it/s, Epoch=37, LR=0.000158, Train_Loss=0.0261]\n",
      "100%|██████████| 15/15 [00:03<00:00,  4.75it/s, Epoch=37, LR=0.000158, Valid_Loss=0.354]\n"
     ]
    },
    {
     "name": "stdout",
     "output_type": "stream",
     "text": [
      "\n"
     ]
    },
    {
     "name": "stderr",
     "output_type": "stream",
     "text": [
      "100%|██████████| 9/9 [00:02<00:00,  3.58it/s, Epoch=38, LR=0.000136, Train_Loss=0.0406]\n",
      "100%|██████████| 15/15 [00:03<00:00,  4.64it/s, Epoch=38, LR=0.000136, Valid_Loss=0.383]\n"
     ]
    },
    {
     "name": "stdout",
     "output_type": "stream",
     "text": [
      "\n"
     ]
    },
    {
     "name": "stderr",
     "output_type": "stream",
     "text": [
      "100%|██████████| 9/9 [00:02<00:00,  3.35it/s, Epoch=39, LR=0.000115, Train_Loss=0.0223]\n",
      "100%|██████████| 15/15 [00:03<00:00,  4.38it/s, Epoch=39, LR=0.000115, Valid_Loss=0.382]\n"
     ]
    },
    {
     "name": "stdout",
     "output_type": "stream",
     "text": [
      "\n"
     ]
    },
    {
     "name": "stderr",
     "output_type": "stream",
     "text": [
      "100%|██████████| 9/9 [00:02<00:00,  3.15it/s, Epoch=40, LR=9.55e-5, Train_Loss=0.0265] \n",
      "100%|██████████| 15/15 [00:03<00:00,  4.66it/s, Epoch=40, LR=9.55e-5, Valid_Loss=0.39] \n"
     ]
    },
    {
     "name": "stdout",
     "output_type": "stream",
     "text": [
      "\n"
     ]
    },
    {
     "name": "stderr",
     "output_type": "stream",
     "text": [
      "100%|██████████| 9/9 [00:02<00:00,  3.48it/s, Epoch=41, LR=7.78e-5, Train_Loss=0.0438]\n",
      "100%|██████████| 15/15 [00:03<00:00,  4.74it/s, Epoch=41, LR=7.78e-5, Valid_Loss=0.382]\n"
     ]
    },
    {
     "name": "stdout",
     "output_type": "stream",
     "text": [
      "\n"
     ]
    },
    {
     "name": "stderr",
     "output_type": "stream",
     "text": [
      "100%|██████████| 9/9 [00:02<00:00,  3.57it/s, Epoch=42, LR=6.19e-5, Train_Loss=0.0266]\n",
      "100%|██████████| 15/15 [00:03<00:00,  4.49it/s, Epoch=42, LR=6.19e-5, Valid_Loss=0.378]\n"
     ]
    },
    {
     "name": "stdout",
     "output_type": "stream",
     "text": [
      "\n"
     ]
    },
    {
     "name": "stderr",
     "output_type": "stream",
     "text": [
      "100%|██████████| 9/9 [00:02<00:00,  3.60it/s, Epoch=43, LR=4.76e-5, Train_Loss=0.028] \n",
      "100%|██████████| 15/15 [00:03<00:00,  4.52it/s, Epoch=43, LR=4.76e-5, Valid_Loss=0.383]\n"
     ]
    },
    {
     "name": "stdout",
     "output_type": "stream",
     "text": [
      "\n"
     ]
    },
    {
     "name": "stderr",
     "output_type": "stream",
     "text": [
      "100%|██████████| 9/9 [00:02<00:00,  3.49it/s, Epoch=44, LR=3.51e-5, Train_Loss=0.0424]\n",
      "100%|██████████| 15/15 [00:03<00:00,  4.51it/s, Epoch=44, LR=3.51e-5, Valid_Loss=0.382]\n"
     ]
    },
    {
     "name": "stdout",
     "output_type": "stream",
     "text": [
      "\n"
     ]
    },
    {
     "name": "stderr",
     "output_type": "stream",
     "text": [
      "100%|██████████| 9/9 [00:02<00:00,  3.54it/s, Epoch=45, LR=2.45e-5, Train_Loss=0.0419]\n",
      "100%|██████████| 15/15 [00:03<00:00,  4.57it/s, Epoch=45, LR=2.45e-5, Valid_Loss=0.396]\n"
     ]
    },
    {
     "name": "stdout",
     "output_type": "stream",
     "text": [
      "\n"
     ]
    },
    {
     "name": "stderr",
     "output_type": "stream",
     "text": [
      "100%|██████████| 9/9 [00:02<00:00,  3.45it/s, Epoch=46, LR=1.57e-5, Train_Loss=0.0423]\n",
      "100%|██████████| 15/15 [00:03<00:00,  4.53it/s, Epoch=46, LR=1.57e-5, Valid_Loss=0.379]\n"
     ]
    },
    {
     "name": "stdout",
     "output_type": "stream",
     "text": [
      "\n"
     ]
    },
    {
     "name": "stderr",
     "output_type": "stream",
     "text": [
      "100%|██████████| 9/9 [00:02<00:00,  3.51it/s, Epoch=47, LR=8.87e-6, Train_Loss=0.0331]\n",
      "100%|██████████| 15/15 [00:03<00:00,  4.71it/s, Epoch=47, LR=8.87e-6, Valid_Loss=0.368]\n"
     ]
    },
    {
     "name": "stdout",
     "output_type": "stream",
     "text": [
      "\n"
     ]
    },
    {
     "name": "stderr",
     "output_type": "stream",
     "text": [
      "100%|██████████| 9/9 [00:02<00:00,  3.43it/s, Epoch=48, LR=3.95e-6, Train_Loss=0.0302]\n",
      "100%|██████████| 15/15 [00:03<00:00,  4.66it/s, Epoch=48, LR=3.95e-6, Valid_Loss=0.362]\n"
     ]
    },
    {
     "name": "stdout",
     "output_type": "stream",
     "text": [
      "\n"
     ]
    },
    {
     "name": "stderr",
     "output_type": "stream",
     "text": [
      "100%|██████████| 9/9 [00:02<00:00,  3.57it/s, Epoch=49, LR=9.97e-7, Train_Loss=0.0238]\n",
      "100%|██████████| 15/15 [00:03<00:00,  4.54it/s, Epoch=49, LR=9.97e-7, Valid_Loss=0.361]\n"
     ]
    },
    {
     "name": "stdout",
     "output_type": "stream",
     "text": [
      "\n"
     ]
    },
    {
     "name": "stderr",
     "output_type": "stream",
     "text": [
      "100%|██████████| 9/9 [00:02<00:00,  3.48it/s, Epoch=50, LR=1e-8, Train_Loss=0.035]    \n",
      "100%|██████████| 15/15 [00:03<00:00,  4.53it/s, Epoch=50, LR=1e-8, Valid_Loss=0.369]\n"
     ]
    },
    {
     "name": "stdout",
     "output_type": "stream",
     "text": [
      "\n",
      "Training complete in 0h 5m 34s\n",
      "Best AUROC: 0.1640\n"
     ]
    },
    {
     "name": "stderr",
     "output_type": "stream",
     "text": [
      "100%|██████████| 652/652 [02:13<00:00,  4.87it/s]\n"
     ]
    },
    {
     "name": "stdout",
     "output_type": "stream",
     "text": [
      "fold2_pAUC (not filtered): 0.1560\n",
      "==============================\n",
      "fold 3\n",
      "==============================\n",
      "●train\n",
      "original> (333026, 58) 334 (833,)\n",
      "filtered> (7014, 58) 334 (754,)\n",
      "●val\n",
      "original> (68033, 58) 59 (209,)\n",
      "filtered> (1239, 58) 59 (187,)\n",
      "[INFO] Using GPU: NVIDIA GeForce RTX 4090\n",
      "\n"
     ]
    },
    {
     "name": "stderr",
     "output_type": "stream",
     "text": [
      "100%|██████████| 10/10 [00:02<00:00,  3.57it/s, Epoch=1, LR=0.000999, Train_Loss=1.52]\n",
      "100%|██████████| 10/10 [00:02<00:00,  4.35it/s, Epoch=1, LR=0.000999, Valid_Loss=0.876]\n"
     ]
    },
    {
     "name": "stdout",
     "output_type": "stream",
     "text": [
      "\u001b[34mValidation AUROC Improved (-inf ---> 0.02729962654409653)\n",
      "\n"
     ]
    },
    {
     "name": "stderr",
     "output_type": "stream",
     "text": [
      "100%|██████████| 10/10 [00:02<00:00,  3.57it/s, Epoch=2, LR=0.000996, Train_Loss=0.868]\n",
      "100%|██████████| 10/10 [00:02<00:00,  4.40it/s, Epoch=2, LR=0.000996, Valid_Loss=0.792]\n"
     ]
    },
    {
     "name": "stdout",
     "output_type": "stream",
     "text": [
      "\u001b[34mValidation AUROC Improved (0.02729962654409653 ---> 0.09002010916403327)\n",
      "\n"
     ]
    },
    {
     "name": "stderr",
     "output_type": "stream",
     "text": [
      "100%|██████████| 10/10 [00:02<00:00,  3.56it/s, Epoch=3, LR=0.000991, Train_Loss=0.694]\n",
      "100%|██████████| 10/10 [00:02<00:00,  4.25it/s, Epoch=3, LR=0.000991, Valid_Loss=0.61]\n"
     ]
    },
    {
     "name": "stdout",
     "output_type": "stream",
     "text": [
      "\u001b[34mValidation AUROC Improved (0.09002010916403327 ---> 0.09418845159436941)\n",
      "\n"
     ]
    },
    {
     "name": "stderr",
     "output_type": "stream",
     "text": [
      "100%|██████████| 10/10 [00:02<00:00,  3.41it/s, Epoch=4, LR=0.000984, Train_Loss=0.564]\n",
      "100%|██████████| 10/10 [00:02<00:00,  4.43it/s, Epoch=4, LR=0.000984, Valid_Loss=1.18]\n"
     ]
    },
    {
     "name": "stdout",
     "output_type": "stream",
     "text": [
      "\u001b[34mValidation AUROC Improved (0.09418845159436941 ---> 0.11825912094225793)\n",
      "\n"
     ]
    },
    {
     "name": "stderr",
     "output_type": "stream",
     "text": [
      "100%|██████████| 10/10 [00:02<00:00,  3.52it/s, Epoch=5, LR=0.000976, Train_Loss=0.481]\n",
      "100%|██████████| 10/10 [00:02<00:00,  4.37it/s, Epoch=5, LR=0.000976, Valid_Loss=1.07]\n"
     ]
    },
    {
     "name": "stdout",
     "output_type": "stream",
     "text": [
      "\u001b[34mValidation AUROC Improved (0.11825912094225793 ---> 0.1261447859810399)\n",
      "\n"
     ]
    },
    {
     "name": "stderr",
     "output_type": "stream",
     "text": [
      "100%|██████████| 10/10 [00:02<00:00,  3.57it/s, Epoch=6, LR=0.000965, Train_Loss=0.474]\n",
      "100%|██████████| 10/10 [00:02<00:00,  4.36it/s, Epoch=6, LR=0.000965, Valid_Loss=0.667]\n"
     ]
    },
    {
     "name": "stdout",
     "output_type": "stream",
     "text": [
      "\n"
     ]
    },
    {
     "name": "stderr",
     "output_type": "stream",
     "text": [
      "100%|██████████| 10/10 [00:02<00:00,  3.52it/s, Epoch=7, LR=0.000952, Train_Loss=0.413]\n",
      "100%|██████████| 10/10 [00:02<00:00,  4.46it/s, Epoch=7, LR=0.000952, Valid_Loss=0.715]\n"
     ]
    },
    {
     "name": "stdout",
     "output_type": "stream",
     "text": [
      "\n"
     ]
    },
    {
     "name": "stderr",
     "output_type": "stream",
     "text": [
      "100%|██████████| 10/10 [00:02<00:00,  3.57it/s, Epoch=8, LR=0.000938, Train_Loss=0.396]\n",
      "100%|██████████| 10/10 [00:02<00:00,  4.43it/s, Epoch=8, LR=0.000938, Valid_Loss=0.469]\n"
     ]
    },
    {
     "name": "stdout",
     "output_type": "stream",
     "text": [
      "\n"
     ]
    },
    {
     "name": "stderr",
     "output_type": "stream",
     "text": [
      "100%|██████████| 10/10 [00:02<00:00,  3.58it/s, Epoch=9, LR=0.000922, Train_Loss=0.395]\n",
      "100%|██████████| 10/10 [00:02<00:00,  4.28it/s, Epoch=9, LR=0.000922, Valid_Loss=0.51]\n"
     ]
    },
    {
     "name": "stdout",
     "output_type": "stream",
     "text": [
      "\u001b[34mValidation AUROC Improved (0.1261447859810399 ---> 0.13243033611031307)\n",
      "\n"
     ]
    },
    {
     "name": "stderr",
     "output_type": "stream",
     "text": [
      "100%|██████████| 10/10 [00:02<00:00,  3.56it/s, Epoch=10, LR=0.000905, Train_Loss=0.336]\n",
      "100%|██████████| 10/10 [00:02<00:00,  4.50it/s, Epoch=10, LR=0.000905, Valid_Loss=0.665]\n"
     ]
    },
    {
     "name": "stdout",
     "output_type": "stream",
     "text": [
      "\u001b[34mValidation AUROC Improved (0.13243033611031307 ---> 0.13496409077851187)\n",
      "\n"
     ]
    },
    {
     "name": "stderr",
     "output_type": "stream",
     "text": [
      "100%|██████████| 10/10 [00:02<00:00,  3.52it/s, Epoch=11, LR=0.000885, Train_Loss=0.26]\n",
      "100%|██████████| 10/10 [00:02<00:00,  4.32it/s, Epoch=11, LR=0.000885, Valid_Loss=0.295]\n"
     ]
    },
    {
     "name": "stdout",
     "output_type": "stream",
     "text": [
      "\n"
     ]
    },
    {
     "name": "stderr",
     "output_type": "stream",
     "text": [
      "100%|██████████| 10/10 [00:02<00:00,  3.56it/s, Epoch=12, LR=0.000864, Train_Loss=0.287]\n",
      "100%|██████████| 10/10 [00:02<00:00,  4.32it/s, Epoch=12, LR=0.000864, Valid_Loss=0.995]\n"
     ]
    },
    {
     "name": "stdout",
     "output_type": "stream",
     "text": [
      "\n"
     ]
    },
    {
     "name": "stderr",
     "output_type": "stream",
     "text": [
      "100%|██████████| 10/10 [00:02<00:00,  3.62it/s, Epoch=13, LR=0.000842, Train_Loss=0.268]\n",
      "100%|██████████| 10/10 [00:02<00:00,  4.39it/s, Epoch=13, LR=0.000842, Valid_Loss=0.675]\n"
     ]
    },
    {
     "name": "stdout",
     "output_type": "stream",
     "text": [
      "\n"
     ]
    },
    {
     "name": "stderr",
     "output_type": "stream",
     "text": [
      "100%|██████████| 10/10 [00:02<00:00,  3.53it/s, Epoch=14, LR=0.000819, Train_Loss=0.221]\n",
      "100%|██████████| 10/10 [00:02<00:00,  4.23it/s, Epoch=14, LR=0.000819, Valid_Loss=0.843]\n"
     ]
    },
    {
     "name": "stdout",
     "output_type": "stream",
     "text": [
      "\n"
     ]
    },
    {
     "name": "stderr",
     "output_type": "stream",
     "text": [
      "100%|██████████| 10/10 [00:02<00:00,  3.58it/s, Epoch=15, LR=0.000794, Train_Loss=0.255]\n",
      "100%|██████████| 10/10 [00:02<00:00,  4.39it/s, Epoch=15, LR=0.000794, Valid_Loss=0.493]\n"
     ]
    },
    {
     "name": "stdout",
     "output_type": "stream",
     "text": [
      "\u001b[34mValidation AUROC Improved (0.13496409077851187 ---> 0.14166331513932773)\n",
      "\n"
     ]
    },
    {
     "name": "stderr",
     "output_type": "stream",
     "text": [
      "100%|██████████| 10/10 [00:02<00:00,  3.57it/s, Epoch=16, LR=0.000768, Train_Loss=0.219]\n",
      "100%|██████████| 10/10 [00:02<00:00,  4.31it/s, Epoch=16, LR=0.000768, Valid_Loss=0.645]\n"
     ]
    },
    {
     "name": "stdout",
     "output_type": "stream",
     "text": [
      "\n"
     ]
    },
    {
     "name": "stderr",
     "output_type": "stream",
     "text": [
      "100%|██████████| 10/10 [00:02<00:00,  3.60it/s, Epoch=17, LR=0.000741, Train_Loss=0.199]\n",
      "100%|██████████| 10/10 [00:02<00:00,  4.32it/s, Epoch=17, LR=0.000741, Valid_Loss=0.646]\n"
     ]
    },
    {
     "name": "stdout",
     "output_type": "stream",
     "text": [
      "\n"
     ]
    },
    {
     "name": "stderr",
     "output_type": "stream",
     "text": [
      "100%|██████████| 10/10 [00:02<00:00,  3.57it/s, Epoch=18, LR=0.000713, Train_Loss=0.196]\n",
      "100%|██████████| 10/10 [00:02<00:00,  4.48it/s, Epoch=18, LR=0.000713, Valid_Loss=0.495]\n"
     ]
    },
    {
     "name": "stdout",
     "output_type": "stream",
     "text": [
      "\n"
     ]
    },
    {
     "name": "stderr",
     "output_type": "stream",
     "text": [
      "100%|██████████| 10/10 [00:02<00:00,  3.56it/s, Epoch=19, LR=0.000684, Train_Loss=0.166]\n",
      "100%|██████████| 10/10 [00:02<00:00,  4.31it/s, Epoch=19, LR=0.000684, Valid_Loss=0.56]\n"
     ]
    },
    {
     "name": "stdout",
     "output_type": "stream",
     "text": [
      "\n"
     ]
    },
    {
     "name": "stderr",
     "output_type": "stream",
     "text": [
      "100%|██████████| 10/10 [00:02<00:00,  3.64it/s, Epoch=20, LR=0.000655, Train_Loss=0.132]\n",
      "100%|██████████| 10/10 [00:02<00:00,  4.42it/s, Epoch=20, LR=0.000655, Valid_Loss=0.421]\n"
     ]
    },
    {
     "name": "stdout",
     "output_type": "stream",
     "text": [
      "\n"
     ]
    },
    {
     "name": "stderr",
     "output_type": "stream",
     "text": [
      "100%|██████████| 10/10 [00:02<00:00,  3.51it/s, Epoch=21, LR=0.000624, Train_Loss=0.147]\n",
      "100%|██████████| 10/10 [00:02<00:00,  4.18it/s, Epoch=21, LR=0.000624, Valid_Loss=0.558]\n"
     ]
    },
    {
     "name": "stdout",
     "output_type": "stream",
     "text": [
      "\n"
     ]
    },
    {
     "name": "stderr",
     "output_type": "stream",
     "text": [
      "100%|██████████| 10/10 [00:02<00:00,  3.51it/s, Epoch=22, LR=0.000594, Train_Loss=0.111]\n",
      "100%|██████████| 10/10 [00:02<00:00,  4.30it/s, Epoch=22, LR=0.000594, Valid_Loss=0.483]\n"
     ]
    },
    {
     "name": "stdout",
     "output_type": "stream",
     "text": [
      "\n"
     ]
    },
    {
     "name": "stderr",
     "output_type": "stream",
     "text": [
      "100%|██████████| 10/10 [00:02<00:00,  3.58it/s, Epoch=23, LR=0.000563, Train_Loss=0.1]  \n",
      "100%|██████████| 10/10 [00:02<00:00,  4.45it/s, Epoch=23, LR=0.000563, Valid_Loss=0.65]\n"
     ]
    },
    {
     "name": "stdout",
     "output_type": "stream",
     "text": [
      "\n"
     ]
    },
    {
     "name": "stderr",
     "output_type": "stream",
     "text": [
      "100%|██████████| 10/10 [00:02<00:00,  3.59it/s, Epoch=24, LR=0.000531, Train_Loss=0.129]\n",
      "100%|██████████| 10/10 [00:02<00:00,  4.02it/s, Epoch=24, LR=0.000531, Valid_Loss=0.479]\n"
     ]
    },
    {
     "name": "stdout",
     "output_type": "stream",
     "text": [
      "\u001b[34mValidation AUROC Improved (0.14166331513932773 ---> 0.1423958632576845)\n",
      "\n"
     ]
    },
    {
     "name": "stderr",
     "output_type": "stream",
     "text": [
      "100%|██████████| 10/10 [00:02<00:00,  3.57it/s, Epoch=25, LR=0.0005, Train_Loss=0.105]  \n",
      "100%|██████████| 10/10 [00:02<00:00,  4.25it/s, Epoch=25, LR=0.0005, Valid_Loss=0.586]\n"
     ]
    },
    {
     "name": "stdout",
     "output_type": "stream",
     "text": [
      "\n"
     ]
    },
    {
     "name": "stderr",
     "output_type": "stream",
     "text": [
      "100%|██████████| 10/10 [00:02<00:00,  3.60it/s, Epoch=26, LR=0.000469, Train_Loss=0.0757]\n",
      "100%|██████████| 10/10 [00:02<00:00,  4.36it/s, Epoch=26, LR=0.000469, Valid_Loss=0.512]\n"
     ]
    },
    {
     "name": "stdout",
     "output_type": "stream",
     "text": [
      "\n"
     ]
    },
    {
     "name": "stderr",
     "output_type": "stream",
     "text": [
      "100%|██████████| 10/10 [00:02<00:00,  3.46it/s, Epoch=27, LR=0.000437, Train_Loss=0.0758]\n",
      "100%|██████████| 10/10 [00:02<00:00,  4.33it/s, Epoch=27, LR=0.000437, Valid_Loss=0.543]\n"
     ]
    },
    {
     "name": "stdout",
     "output_type": "stream",
     "text": [
      "\n"
     ]
    },
    {
     "name": "stderr",
     "output_type": "stream",
     "text": [
      "100%|██████████| 10/10 [00:02<00:00,  3.46it/s, Epoch=28, LR=0.000406, Train_Loss=0.0603]\n",
      "100%|██████████| 10/10 [00:02<00:00,  4.34it/s, Epoch=28, LR=0.000406, Valid_Loss=0.495]\n"
     ]
    },
    {
     "name": "stdout",
     "output_type": "stream",
     "text": [
      "\n"
     ]
    },
    {
     "name": "stderr",
     "output_type": "stream",
     "text": [
      "100%|██████████| 10/10 [00:02<00:00,  3.58it/s, Epoch=29, LR=0.000376, Train_Loss=0.0769]\n",
      "100%|██████████| 10/10 [00:02<00:00,  4.26it/s, Epoch=29, LR=0.000376, Valid_Loss=0.503]\n"
     ]
    },
    {
     "name": "stdout",
     "output_type": "stream",
     "text": [
      "\n"
     ]
    },
    {
     "name": "stderr",
     "output_type": "stream",
     "text": [
      "100%|██████████| 10/10 [00:02<00:00,  3.62it/s, Epoch=30, LR=0.000345, Train_Loss=0.0615]\n",
      "100%|██████████| 10/10 [00:02<00:00,  4.29it/s, Epoch=30, LR=0.000345, Valid_Loss=0.5] \n"
     ]
    },
    {
     "name": "stdout",
     "output_type": "stream",
     "text": [
      "\n"
     ]
    },
    {
     "name": "stderr",
     "output_type": "stream",
     "text": [
      "100%|██████████| 10/10 [00:02<00:00,  3.65it/s, Epoch=31, LR=0.000316, Train_Loss=0.053]\n",
      "100%|██████████| 10/10 [00:02<00:00,  4.37it/s, Epoch=31, LR=0.000316, Valid_Loss=0.553]\n"
     ]
    },
    {
     "name": "stdout",
     "output_type": "stream",
     "text": [
      "\u001b[34mValidation AUROC Improved (0.1423958632576845 ---> 0.14387819592071244)\n",
      "\n"
     ]
    },
    {
     "name": "stderr",
     "output_type": "stream",
     "text": [
      "100%|██████████| 10/10 [00:02<00:00,  3.61it/s, Epoch=32, LR=0.000287, Train_Loss=0.0471]\n",
      "100%|██████████| 10/10 [00:02<00:00,  4.42it/s, Epoch=32, LR=0.000287, Valid_Loss=0.541]\n"
     ]
    },
    {
     "name": "stdout",
     "output_type": "stream",
     "text": [
      "\n"
     ]
    },
    {
     "name": "stderr",
     "output_type": "stream",
     "text": [
      "100%|██████████| 10/10 [00:02<00:00,  3.60it/s, Epoch=33, LR=0.000259, Train_Loss=0.0391]\n",
      "100%|██████████| 10/10 [00:02<00:00,  4.29it/s, Epoch=33, LR=0.000259, Valid_Loss=0.498]\n"
     ]
    },
    {
     "name": "stdout",
     "output_type": "stream",
     "text": [
      "\n"
     ]
    },
    {
     "name": "stderr",
     "output_type": "stream",
     "text": [
      "100%|██████████| 10/10 [00:02<00:00,  3.63it/s, Epoch=34, LR=0.000232, Train_Loss=0.0411]\n",
      "100%|██████████| 10/10 [00:02<00:00,  4.21it/s, Epoch=34, LR=0.000232, Valid_Loss=0.476]\n"
     ]
    },
    {
     "name": "stdout",
     "output_type": "stream",
     "text": [
      "\n"
     ]
    },
    {
     "name": "stderr",
     "output_type": "stream",
     "text": [
      "100%|██████████| 10/10 [00:02<00:00,  3.59it/s, Epoch=35, LR=0.000206, Train_Loss=0.0373]\n",
      "100%|██████████| 10/10 [00:02<00:00,  4.28it/s, Epoch=35, LR=0.000206, Valid_Loss=0.535]\n"
     ]
    },
    {
     "name": "stdout",
     "output_type": "stream",
     "text": [
      "\n"
     ]
    },
    {
     "name": "stderr",
     "output_type": "stream",
     "text": [
      "100%|██████████| 10/10 [00:02<00:00,  3.59it/s, Epoch=36, LR=0.000181, Train_Loss=0.0453]\n",
      "100%|██████████| 10/10 [00:02<00:00,  4.31it/s, Epoch=36, LR=0.000181, Valid_Loss=0.586]\n"
     ]
    },
    {
     "name": "stdout",
     "output_type": "stream",
     "text": [
      "\u001b[34mValidation AUROC Improved (0.14387819592071244 ---> 0.1445288710140764)\n",
      "\n"
     ]
    },
    {
     "name": "stderr",
     "output_type": "stream",
     "text": [
      "100%|██████████| 10/10 [00:02<00:00,  3.60it/s, Epoch=37, LR=0.000158, Train_Loss=0.0225]\n",
      "100%|██████████| 10/10 [00:02<00:00,  4.31it/s, Epoch=37, LR=0.000158, Valid_Loss=0.6] \n"
     ]
    },
    {
     "name": "stdout",
     "output_type": "stream",
     "text": [
      "\u001b[34mValidation AUROC Improved (0.1445288710140764 ---> 0.14471990807239296)\n",
      "\n"
     ]
    },
    {
     "name": "stderr",
     "output_type": "stream",
     "text": [
      "100%|██████████| 10/10 [00:02<00:00,  3.51it/s, Epoch=38, LR=0.000136, Train_Loss=0.0418]\n",
      "100%|██████████| 10/10 [00:02<00:00,  4.28it/s, Epoch=38, LR=0.000136, Valid_Loss=0.586]\n"
     ]
    },
    {
     "name": "stdout",
     "output_type": "stream",
     "text": [
      "\u001b[34mValidation AUROC Improved (0.14471990807239296 ---> 0.14684573398448716)\n",
      "\n"
     ]
    },
    {
     "name": "stderr",
     "output_type": "stream",
     "text": [
      "100%|██████████| 10/10 [00:02<00:00,  3.57it/s, Epoch=39, LR=0.000115, Train_Loss=0.0256]\n",
      "100%|██████████| 10/10 [00:02<00:00,  4.39it/s, Epoch=39, LR=0.000115, Valid_Loss=0.587]\n"
     ]
    },
    {
     "name": "stdout",
     "output_type": "stream",
     "text": [
      "\n"
     ]
    },
    {
     "name": "stderr",
     "output_type": "stream",
     "text": [
      "100%|██████████| 10/10 [00:02<00:00,  3.64it/s, Epoch=40, LR=9.55e-5, Train_Loss=0.0326] \n",
      "100%|██████████| 10/10 [00:02<00:00,  4.31it/s, Epoch=40, LR=9.55e-5, Valid_Loss=0.577]\n"
     ]
    },
    {
     "name": "stdout",
     "output_type": "stream",
     "text": [
      "\n"
     ]
    },
    {
     "name": "stderr",
     "output_type": "stream",
     "text": [
      "100%|██████████| 10/10 [00:02<00:00,  3.61it/s, Epoch=41, LR=7.78e-5, Train_Loss=0.0391]\n",
      "100%|██████████| 10/10 [00:02<00:00,  4.42it/s, Epoch=41, LR=7.78e-5, Valid_Loss=0.55]\n"
     ]
    },
    {
     "name": "stdout",
     "output_type": "stream",
     "text": [
      "\n"
     ]
    },
    {
     "name": "stderr",
     "output_type": "stream",
     "text": [
      "100%|██████████| 10/10 [00:02<00:00,  3.49it/s, Epoch=42, LR=6.19e-5, Train_Loss=0.0239]\n",
      "100%|██████████| 10/10 [00:02<00:00,  4.23it/s, Epoch=42, LR=6.19e-5, Valid_Loss=0.544]\n"
     ]
    },
    {
     "name": "stdout",
     "output_type": "stream",
     "text": [
      "\n"
     ]
    },
    {
     "name": "stderr",
     "output_type": "stream",
     "text": [
      "100%|██████████| 10/10 [00:02<00:00,  3.60it/s, Epoch=43, LR=4.76e-5, Train_Loss=0.0235]\n",
      "100%|██████████| 10/10 [00:02<00:00,  4.29it/s, Epoch=43, LR=4.76e-5, Valid_Loss=0.549]\n"
     ]
    },
    {
     "name": "stdout",
     "output_type": "stream",
     "text": [
      "\n"
     ]
    },
    {
     "name": "stderr",
     "output_type": "stream",
     "text": [
      "100%|██████████| 10/10 [00:02<00:00,  3.51it/s, Epoch=44, LR=3.51e-5, Train_Loss=0.0238]\n",
      "100%|██████████| 10/10 [00:02<00:00,  4.32it/s, Epoch=44, LR=3.51e-5, Valid_Loss=0.542]\n"
     ]
    },
    {
     "name": "stdout",
     "output_type": "stream",
     "text": [
      "\n"
     ]
    },
    {
     "name": "stderr",
     "output_type": "stream",
     "text": [
      "100%|██████████| 10/10 [00:02<00:00,  3.48it/s, Epoch=45, LR=2.45e-5, Train_Loss=0.0141]\n",
      "100%|██████████| 10/10 [00:02<00:00,  4.40it/s, Epoch=45, LR=2.45e-5, Valid_Loss=0.56]\n"
     ]
    },
    {
     "name": "stdout",
     "output_type": "stream",
     "text": [
      "\n"
     ]
    },
    {
     "name": "stderr",
     "output_type": "stream",
     "text": [
      "100%|██████████| 10/10 [00:02<00:00,  3.66it/s, Epoch=46, LR=1.57e-5, Train_Loss=0.0213]\n",
      "100%|██████████| 10/10 [00:02<00:00,  4.27it/s, Epoch=46, LR=1.57e-5, Valid_Loss=0.567]\n"
     ]
    },
    {
     "name": "stdout",
     "output_type": "stream",
     "text": [
      "\n"
     ]
    },
    {
     "name": "stderr",
     "output_type": "stream",
     "text": [
      "100%|██████████| 10/10 [00:02<00:00,  3.66it/s, Epoch=47, LR=8.87e-6, Train_Loss=0.0161]\n",
      "100%|██████████| 10/10 [00:02<00:00,  4.51it/s, Epoch=47, LR=8.87e-6, Valid_Loss=0.618]\n"
     ]
    },
    {
     "name": "stdout",
     "output_type": "stream",
     "text": [
      "\n"
     ]
    },
    {
     "name": "stderr",
     "output_type": "stream",
     "text": [
      "100%|██████████| 10/10 [00:02<00:00,  3.72it/s, Epoch=48, LR=3.95e-6, Train_Loss=0.0243]\n",
      "100%|██████████| 10/10 [00:02<00:00,  4.46it/s, Epoch=48, LR=3.95e-6, Valid_Loss=0.586]\n"
     ]
    },
    {
     "name": "stdout",
     "output_type": "stream",
     "text": [
      "\n"
     ]
    },
    {
     "name": "stderr",
     "output_type": "stream",
     "text": [
      "100%|██████████| 10/10 [00:03<00:00,  3.02it/s, Epoch=49, LR=9.97e-7, Train_Loss=0.0206]\n",
      "100%|██████████| 10/10 [00:02<00:00,  4.09it/s, Epoch=49, LR=9.97e-7, Valid_Loss=0.602]\n"
     ]
    },
    {
     "name": "stdout",
     "output_type": "stream",
     "text": [
      "\n"
     ]
    },
    {
     "name": "stderr",
     "output_type": "stream",
     "text": [
      "100%|██████████| 10/10 [00:03<00:00,  3.30it/s, Epoch=50, LR=1e-8, Train_Loss=0.0232]   \n",
      "100%|██████████| 10/10 [00:02<00:00,  4.27it/s, Epoch=50, LR=1e-8, Valid_Loss=0.574]\n"
     ]
    },
    {
     "name": "stdout",
     "output_type": "stream",
     "text": [
      "\n",
      "Training complete in 0h 4m 60s\n",
      "Best AUROC: 0.1468\n"
     ]
    },
    {
     "name": "stderr",
     "output_type": "stream",
     "text": [
      "100%|██████████| 532/532 [01:43<00:00,  5.16it/s]\n"
     ]
    },
    {
     "name": "stdout",
     "output_type": "stream",
     "text": [
      "fold3_pAUC (not filtered): 0.1463\n",
      "==============================\n",
      "fold 4\n",
      "==============================\n",
      "●train\n",
      "original> (313275, 58) 291 (834,)\n",
      "filtered> (6111, 58) 291 (730,)\n",
      "●val\n",
      "original> (87784, 58) 102 (208,)\n",
      "filtered> (2142, 58) 102 (198,)\n",
      "[INFO] Using GPU: NVIDIA GeForce RTX 4090\n",
      "\n"
     ]
    },
    {
     "name": "stderr",
     "output_type": "stream",
     "text": [
      "100%|██████████| 9/9 [00:02<00:00,  3.54it/s, Epoch=1, LR=0.000999, Train_Loss=1.33]\n",
      "100%|██████████| 17/17 [00:04<00:00,  4.10it/s, Epoch=1, LR=0.000999, Valid_Loss=0.771]\n"
     ]
    },
    {
     "name": "stdout",
     "output_type": "stream",
     "text": [
      "\u001b[34mValidation AUROC Improved (-inf ---> 0.03917243367935408)\n",
      "\n"
     ]
    },
    {
     "name": "stderr",
     "output_type": "stream",
     "text": [
      "100%|██████████| 9/9 [00:02<00:00,  3.16it/s, Epoch=2, LR=0.000996, Train_Loss=0.763]\n",
      "100%|██████████| 17/17 [00:03<00:00,  4.33it/s, Epoch=2, LR=0.000996, Valid_Loss=0.326]\n"
     ]
    },
    {
     "name": "stdout",
     "output_type": "stream",
     "text": [
      "\u001b[34mValidation AUROC Improved (0.03917243367935408 ---> 0.061041906958861955)\n",
      "\n"
     ]
    },
    {
     "name": "stderr",
     "output_type": "stream",
     "text": [
      "100%|██████████| 9/9 [00:02<00:00,  3.37it/s, Epoch=3, LR=0.000991, Train_Loss=0.658]\n",
      "100%|██████████| 17/17 [00:03<00:00,  4.38it/s, Epoch=3, LR=0.000991, Valid_Loss=0.553]\n"
     ]
    },
    {
     "name": "stdout",
     "output_type": "stream",
     "text": [
      "\u001b[34mValidation AUROC Improved (0.061041906958861955 ---> 0.13714532871972318)\n",
      "\n"
     ]
    },
    {
     "name": "stderr",
     "output_type": "stream",
     "text": [
      "100%|██████████| 9/9 [00:02<00:00,  3.29it/s, Epoch=4, LR=0.000984, Train_Loss=0.579]\n",
      "100%|██████████| 17/17 [00:03<00:00,  4.73it/s, Epoch=4, LR=0.000984, Valid_Loss=0.593]\n"
     ]
    },
    {
     "name": "stdout",
     "output_type": "stream",
     "text": [
      "\u001b[34mValidation AUROC Improved (0.13714532871972318 ---> 0.14193098808150706)\n",
      "\n"
     ]
    },
    {
     "name": "stderr",
     "output_type": "stream",
     "text": [
      "100%|██████████| 9/9 [00:02<00:00,  3.63it/s, Epoch=5, LR=0.000976, Train_Loss=0.481]\n",
      "100%|██████████| 17/17 [00:03<00:00,  4.53it/s, Epoch=5, LR=0.000976, Valid_Loss=0.361]\n"
     ]
    },
    {
     "name": "stdout",
     "output_type": "stream",
     "text": [
      "\u001b[34mValidation AUROC Improved (0.14193098808150706 ---> 0.14443579392541323)\n",
      "\n"
     ]
    },
    {
     "name": "stderr",
     "output_type": "stream",
     "text": [
      "100%|██████████| 9/9 [00:02<00:00,  3.69it/s, Epoch=6, LR=0.000965, Train_Loss=0.419]\n",
      "100%|██████████| 17/17 [00:03<00:00,  4.66it/s, Epoch=6, LR=0.000965, Valid_Loss=0.484]\n"
     ]
    },
    {
     "name": "stdout",
     "output_type": "stream",
     "text": [
      "\n"
     ]
    },
    {
     "name": "stderr",
     "output_type": "stream",
     "text": [
      "100%|██████████| 9/9 [00:02<00:00,  3.69it/s, Epoch=7, LR=0.000952, Train_Loss=0.428]\n",
      "100%|██████████| 17/17 [00:03<00:00,  4.63it/s, Epoch=7, LR=0.000952, Valid_Loss=0.748]\n"
     ]
    },
    {
     "name": "stdout",
     "output_type": "stream",
     "text": [
      "\u001b[34mValidation AUROC Improved (0.14443579392541323 ---> 0.1493829296424452)\n",
      "\n"
     ]
    },
    {
     "name": "stderr",
     "output_type": "stream",
     "text": [
      "100%|██████████| 9/9 [00:02<00:00,  3.62it/s, Epoch=8, LR=0.000938, Train_Loss=0.351]\n",
      "100%|██████████| 17/17 [00:03<00:00,  4.59it/s, Epoch=8, LR=0.000938, Valid_Loss=0.408]\n"
     ]
    },
    {
     "name": "stdout",
     "output_type": "stream",
     "text": [
      "\n"
     ]
    },
    {
     "name": "stderr",
     "output_type": "stream",
     "text": [
      "100%|██████████| 9/9 [00:02<00:00,  3.10it/s, Epoch=9, LR=0.000922, Train_Loss=0.345]\n",
      "100%|██████████| 17/17 [00:03<00:00,  4.34it/s, Epoch=9, LR=0.000922, Valid_Loss=0.624]\n"
     ]
    },
    {
     "name": "stdout",
     "output_type": "stream",
     "text": [
      "\u001b[34mValidation AUROC Improved (0.1493829296424452 ---> 0.15260572856593613)\n",
      "\n"
     ]
    },
    {
     "name": "stderr",
     "output_type": "stream",
     "text": [
      "100%|██████████| 9/9 [00:02<00:00,  3.48it/s, Epoch=10, LR=0.000905, Train_Loss=0.291]\n",
      "100%|██████████| 17/17 [00:03<00:00,  4.69it/s, Epoch=10, LR=0.000905, Valid_Loss=0.487]\n"
     ]
    },
    {
     "name": "stdout",
     "output_type": "stream",
     "text": [
      "\n"
     ]
    },
    {
     "name": "stderr",
     "output_type": "stream",
     "text": [
      "100%|██████████| 9/9 [00:02<00:00,  3.59it/s, Epoch=11, LR=0.000885, Train_Loss=0.272]\n",
      "100%|██████████| 17/17 [00:03<00:00,  4.46it/s, Epoch=11, LR=0.000885, Valid_Loss=0.533]\n"
     ]
    },
    {
     "name": "stdout",
     "output_type": "stream",
     "text": [
      "\n"
     ]
    },
    {
     "name": "stderr",
     "output_type": "stream",
     "text": [
      "100%|██████████| 9/9 [00:02<00:00,  3.59it/s, Epoch=12, LR=0.000864, Train_Loss=0.242]\n",
      "100%|██████████| 17/17 [00:03<00:00,  4.56it/s, Epoch=12, LR=0.000864, Valid_Loss=0.553]\n"
     ]
    },
    {
     "name": "stdout",
     "output_type": "stream",
     "text": [
      "\n"
     ]
    },
    {
     "name": "stderr",
     "output_type": "stream",
     "text": [
      "100%|██████████| 9/9 [00:02<00:00,  3.57it/s, Epoch=13, LR=0.000842, Train_Loss=0.255]\n",
      "100%|██████████| 17/17 [00:03<00:00,  4.68it/s, Epoch=13, LR=0.000842, Valid_Loss=0.422]\n"
     ]
    },
    {
     "name": "stdout",
     "output_type": "stream",
     "text": [
      "\n"
     ]
    },
    {
     "name": "stderr",
     "output_type": "stream",
     "text": [
      "100%|██████████| 9/9 [00:02<00:00,  3.67it/s, Epoch=14, LR=0.000819, Train_Loss=0.206]\n",
      "100%|██████████| 17/17 [00:03<00:00,  4.47it/s, Epoch=14, LR=0.000819, Valid_Loss=0.53] \n"
     ]
    },
    {
     "name": "stdout",
     "output_type": "stream",
     "text": [
      "\n"
     ]
    },
    {
     "name": "stderr",
     "output_type": "stream",
     "text": [
      "100%|██████████| 9/9 [00:02<00:00,  3.07it/s, Epoch=15, LR=0.000794, Train_Loss=0.189]\n",
      "100%|██████████| 17/17 [00:03<00:00,  4.37it/s, Epoch=15, LR=0.000794, Valid_Loss=0.789]\n"
     ]
    },
    {
     "name": "stdout",
     "output_type": "stream",
     "text": [
      "\n"
     ]
    },
    {
     "name": "stderr",
     "output_type": "stream",
     "text": [
      "100%|██████████| 9/9 [00:02<00:00,  3.46it/s, Epoch=16, LR=0.000768, Train_Loss=0.192] \n",
      "100%|██████████| 17/17 [00:03<00:00,  4.72it/s, Epoch=16, LR=0.000768, Valid_Loss=0.459]\n"
     ]
    },
    {
     "name": "stdout",
     "output_type": "stream",
     "text": [
      "\n"
     ]
    },
    {
     "name": "stderr",
     "output_type": "stream",
     "text": [
      "100%|██████████| 9/9 [00:02<00:00,  3.44it/s, Epoch=17, LR=0.000741, Train_Loss=0.208]\n",
      "100%|██████████| 17/17 [00:03<00:00,  4.83it/s, Epoch=17, LR=0.000741, Valid_Loss=0.785]\n"
     ]
    },
    {
     "name": "stdout",
     "output_type": "stream",
     "text": [
      "\u001b[34mValidation AUROC Improved (0.15260572856593613 ---> 0.15937331795463278)\n",
      "\n"
     ]
    },
    {
     "name": "stderr",
     "output_type": "stream",
     "text": [
      "100%|██████████| 9/9 [00:02<00:00,  3.56it/s, Epoch=18, LR=0.000713, Train_Loss=0.169]\n",
      "100%|██████████| 17/17 [00:03<00:00,  4.61it/s, Epoch=18, LR=0.000713, Valid_Loss=0.613]\n"
     ]
    },
    {
     "name": "stdout",
     "output_type": "stream",
     "text": [
      "\n"
     ]
    },
    {
     "name": "stderr",
     "output_type": "stream",
     "text": [
      "100%|██████████| 9/9 [00:02<00:00,  3.55it/s, Epoch=19, LR=0.000684, Train_Loss=0.158]\n",
      "100%|██████████| 17/17 [00:03<00:00,  4.63it/s, Epoch=19, LR=0.000684, Valid_Loss=0.43] \n"
     ]
    },
    {
     "name": "stdout",
     "output_type": "stream",
     "text": [
      "\n"
     ]
    },
    {
     "name": "stderr",
     "output_type": "stream",
     "text": [
      "100%|██████████| 9/9 [00:02<00:00,  3.56it/s, Epoch=20, LR=0.000655, Train_Loss=0.18]  \n",
      "100%|██████████| 17/17 [00:03<00:00,  4.58it/s, Epoch=20, LR=0.000655, Valid_Loss=0.471]\n"
     ]
    },
    {
     "name": "stdout",
     "output_type": "stream",
     "text": [
      "\n"
     ]
    },
    {
     "name": "stderr",
     "output_type": "stream",
     "text": [
      "100%|██████████| 9/9 [00:03<00:00,  2.99it/s, Epoch=21, LR=0.000624, Train_Loss=0.141] \n",
      "100%|██████████| 17/17 [00:03<00:00,  4.32it/s, Epoch=21, LR=0.000624, Valid_Loss=0.524]\n"
     ]
    },
    {
     "name": "stdout",
     "output_type": "stream",
     "text": [
      "\n"
     ]
    },
    {
     "name": "stderr",
     "output_type": "stream",
     "text": [
      "100%|██████████| 9/9 [00:02<00:00,  3.50it/s, Epoch=22, LR=0.000594, Train_Loss=0.112]\n",
      "100%|██████████| 17/17 [00:03<00:00,  4.56it/s, Epoch=22, LR=0.000594, Valid_Loss=0.515]\n"
     ]
    },
    {
     "name": "stdout",
     "output_type": "stream",
     "text": [
      "\n"
     ]
    },
    {
     "name": "stderr",
     "output_type": "stream",
     "text": [
      "100%|██████████| 9/9 [00:02<00:00,  3.60it/s, Epoch=23, LR=0.000563, Train_Loss=0.0964]\n",
      "100%|██████████| 17/17 [00:03<00:00,  4.60it/s, Epoch=23, LR=0.000563, Valid_Loss=0.515]\n"
     ]
    },
    {
     "name": "stdout",
     "output_type": "stream",
     "text": [
      "\n"
     ]
    },
    {
     "name": "stderr",
     "output_type": "stream",
     "text": [
      "100%|██████████| 9/9 [00:02<00:00,  3.65it/s, Epoch=24, LR=0.000531, Train_Loss=0.0895]\n",
      "100%|██████████| 17/17 [00:03<00:00,  4.65it/s, Epoch=24, LR=0.000531, Valid_Loss=0.504]\n"
     ]
    },
    {
     "name": "stdout",
     "output_type": "stream",
     "text": [
      "\n"
     ]
    },
    {
     "name": "stderr",
     "output_type": "stream",
     "text": [
      "100%|██████████| 9/9 [00:02<00:00,  3.50it/s, Epoch=25, LR=0.0005, Train_Loss=0.119]   \n",
      "100%|██████████| 17/17 [00:03<00:00,  4.55it/s, Epoch=25, LR=0.0005, Valid_Loss=0.437]\n"
     ]
    },
    {
     "name": "stdout",
     "output_type": "stream",
     "text": [
      "\n"
     ]
    },
    {
     "name": "stderr",
     "output_type": "stream",
     "text": [
      "100%|██████████| 9/9 [00:02<00:00,  3.46it/s, Epoch=26, LR=0.000469, Train_Loss=0.0973]\n",
      "100%|██████████| 17/17 [00:03<00:00,  4.35it/s, Epoch=26, LR=0.000469, Valid_Loss=0.5]  \n"
     ]
    },
    {
     "name": "stdout",
     "output_type": "stream",
     "text": [
      "\n"
     ]
    },
    {
     "name": "stderr",
     "output_type": "stream",
     "text": [
      "100%|██████████| 9/9 [00:02<00:00,  3.15it/s, Epoch=27, LR=0.000437, Train_Loss=0.0531]\n",
      "100%|██████████| 17/17 [00:03<00:00,  4.50it/s, Epoch=27, LR=0.000437, Valid_Loss=0.456]\n"
     ]
    },
    {
     "name": "stdout",
     "output_type": "stream",
     "text": [
      "\n"
     ]
    },
    {
     "name": "stderr",
     "output_type": "stream",
     "text": [
      "100%|██████████| 9/9 [00:02<00:00,  3.55it/s, Epoch=28, LR=0.000406, Train_Loss=0.0652]\n",
      "100%|██████████| 17/17 [00:03<00:00,  4.70it/s, Epoch=28, LR=0.000406, Valid_Loss=0.67] \n"
     ]
    },
    {
     "name": "stdout",
     "output_type": "stream",
     "text": [
      "\n"
     ]
    },
    {
     "name": "stderr",
     "output_type": "stream",
     "text": [
      "100%|██████████| 9/9 [00:02<00:00,  3.53it/s, Epoch=29, LR=0.000376, Train_Loss=0.0734]\n",
      "100%|██████████| 17/17 [00:03<00:00,  4.73it/s, Epoch=29, LR=0.000376, Valid_Loss=0.671]\n"
     ]
    },
    {
     "name": "stdout",
     "output_type": "stream",
     "text": [
      "\n"
     ]
    },
    {
     "name": "stderr",
     "output_type": "stream",
     "text": [
      "100%|██████████| 9/9 [00:02<00:00,  3.47it/s, Epoch=30, LR=0.000345, Train_Loss=0.0808]\n",
      "100%|██████████| 17/17 [00:03<00:00,  4.75it/s, Epoch=30, LR=0.000345, Valid_Loss=0.489]\n"
     ]
    },
    {
     "name": "stdout",
     "output_type": "stream",
     "text": [
      "\n"
     ]
    },
    {
     "name": "stderr",
     "output_type": "stream",
     "text": [
      "100%|██████████| 9/9 [00:02<00:00,  3.52it/s, Epoch=31, LR=0.000316, Train_Loss=0.0511]\n",
      "100%|██████████| 17/17 [00:03<00:00,  4.80it/s, Epoch=31, LR=0.000316, Valid_Loss=0.572]\n"
     ]
    },
    {
     "name": "stdout",
     "output_type": "stream",
     "text": [
      "\n"
     ]
    },
    {
     "name": "stderr",
     "output_type": "stream",
     "text": [
      "100%|██████████| 9/9 [00:02<00:00,  3.27it/s, Epoch=32, LR=0.000287, Train_Loss=0.0715]\n",
      "100%|██████████| 17/17 [00:03<00:00,  4.39it/s, Epoch=32, LR=0.000287, Valid_Loss=0.501]\n"
     ]
    },
    {
     "name": "stdout",
     "output_type": "stream",
     "text": [
      "\n"
     ]
    },
    {
     "name": "stderr",
     "output_type": "stream",
     "text": [
      "100%|██████████| 9/9 [00:02<00:00,  3.39it/s, Epoch=33, LR=0.000259, Train_Loss=0.0599]\n",
      "100%|██████████| 17/17 [00:03<00:00,  4.70it/s, Epoch=33, LR=0.000259, Valid_Loss=0.504]\n"
     ]
    },
    {
     "name": "stdout",
     "output_type": "stream",
     "text": [
      "\n"
     ]
    },
    {
     "name": "stderr",
     "output_type": "stream",
     "text": [
      "100%|██████████| 9/9 [00:02<00:00,  3.61it/s, Epoch=34, LR=0.000232, Train_Loss=0.0555]\n",
      "100%|██████████| 17/17 [00:03<00:00,  4.69it/s, Epoch=34, LR=0.000232, Valid_Loss=0.539]\n"
     ]
    },
    {
     "name": "stdout",
     "output_type": "stream",
     "text": [
      "\n"
     ]
    },
    {
     "name": "stderr",
     "output_type": "stream",
     "text": [
      "100%|██████████| 9/9 [00:02<00:00,  3.60it/s, Epoch=35, LR=0.000206, Train_Loss=0.0385]\n",
      "100%|██████████| 17/17 [00:03<00:00,  4.72it/s, Epoch=35, LR=0.000206, Valid_Loss=0.456]\n"
     ]
    },
    {
     "name": "stdout",
     "output_type": "stream",
     "text": [
      "\n"
     ]
    },
    {
     "name": "stderr",
     "output_type": "stream",
     "text": [
      "100%|██████████| 9/9 [00:02<00:00,  3.50it/s, Epoch=36, LR=0.000181, Train_Loss=0.0535]\n",
      "100%|██████████| 17/17 [00:03<00:00,  4.64it/s, Epoch=36, LR=0.000181, Valid_Loss=0.476]\n"
     ]
    },
    {
     "name": "stdout",
     "output_type": "stream",
     "text": [
      "\n"
     ]
    },
    {
     "name": "stderr",
     "output_type": "stream",
     "text": [
      "100%|██████████| 9/9 [00:02<00:00,  3.50it/s, Epoch=37, LR=0.000158, Train_Loss=0.0418]\n",
      "100%|██████████| 17/17 [00:03<00:00,  4.39it/s, Epoch=37, LR=0.000158, Valid_Loss=0.594]\n"
     ]
    },
    {
     "name": "stdout",
     "output_type": "stream",
     "text": [
      "\n"
     ]
    },
    {
     "name": "stderr",
     "output_type": "stream",
     "text": [
      "100%|██████████| 9/9 [00:02<00:00,  3.12it/s, Epoch=38, LR=0.000136, Train_Loss=0.038] \n",
      "100%|██████████| 17/17 [00:03<00:00,  4.52it/s, Epoch=38, LR=0.000136, Valid_Loss=0.512]\n"
     ]
    },
    {
     "name": "stdout",
     "output_type": "stream",
     "text": [
      "\n"
     ]
    },
    {
     "name": "stderr",
     "output_type": "stream",
     "text": [
      "100%|██████████| 9/9 [00:02<00:00,  3.57it/s, Epoch=39, LR=0.000115, Train_Loss=0.0503]\n",
      "100%|██████████| 17/17 [00:03<00:00,  4.80it/s, Epoch=39, LR=0.000115, Valid_Loss=0.496]\n"
     ]
    },
    {
     "name": "stdout",
     "output_type": "stream",
     "text": [
      "\n"
     ]
    },
    {
     "name": "stderr",
     "output_type": "stream",
     "text": [
      "100%|██████████| 9/9 [00:02<00:00,  3.44it/s, Epoch=40, LR=9.55e-5, Train_Loss=0.028]  \n",
      "100%|██████████| 17/17 [00:03<00:00,  4.63it/s, Epoch=40, LR=9.55e-5, Valid_Loss=0.563]\n"
     ]
    },
    {
     "name": "stdout",
     "output_type": "stream",
     "text": [
      "\n"
     ]
    },
    {
     "name": "stderr",
     "output_type": "stream",
     "text": [
      "100%|██████████| 9/9 [00:02<00:00,  3.52it/s, Epoch=41, LR=7.78e-5, Train_Loss=0.0485]\n",
      "100%|██████████| 17/17 [00:03<00:00,  4.74it/s, Epoch=41, LR=7.78e-5, Valid_Loss=0.593]\n"
     ]
    },
    {
     "name": "stdout",
     "output_type": "stream",
     "text": [
      "\n"
     ]
    },
    {
     "name": "stderr",
     "output_type": "stream",
     "text": [
      "100%|██████████| 9/9 [00:02<00:00,  3.51it/s, Epoch=42, LR=6.19e-5, Train_Loss=0.0506]\n",
      "100%|██████████| 17/17 [00:03<00:00,  4.64it/s, Epoch=42, LR=6.19e-5, Valid_Loss=0.5]  \n"
     ]
    },
    {
     "name": "stdout",
     "output_type": "stream",
     "text": [
      "\n"
     ]
    },
    {
     "name": "stderr",
     "output_type": "stream",
     "text": [
      "100%|██████████| 9/9 [00:02<00:00,  3.50it/s, Epoch=43, LR=4.76e-5, Train_Loss=0.0207]\n",
      "100%|██████████| 17/17 [00:03<00:00,  4.53it/s, Epoch=43, LR=4.76e-5, Valid_Loss=0.511]\n"
     ]
    },
    {
     "name": "stdout",
     "output_type": "stream",
     "text": [
      "\n"
     ]
    },
    {
     "name": "stderr",
     "output_type": "stream",
     "text": [
      "100%|██████████| 9/9 [00:02<00:00,  3.13it/s, Epoch=44, LR=3.51e-5, Train_Loss=0.0424]\n",
      "100%|██████████| 17/17 [00:03<00:00,  4.69it/s, Epoch=44, LR=3.51e-5, Valid_Loss=0.515]\n"
     ]
    },
    {
     "name": "stdout",
     "output_type": "stream",
     "text": [
      "\n"
     ]
    },
    {
     "name": "stderr",
     "output_type": "stream",
     "text": [
      "100%|██████████| 9/9 [00:02<00:00,  3.60it/s, Epoch=45, LR=2.45e-5, Train_Loss=0.0395]\n",
      "100%|██████████| 17/17 [00:03<00:00,  4.80it/s, Epoch=45, LR=2.45e-5, Valid_Loss=0.477]\n"
     ]
    },
    {
     "name": "stdout",
     "output_type": "stream",
     "text": [
      "\n"
     ]
    },
    {
     "name": "stderr",
     "output_type": "stream",
     "text": [
      "100%|██████████| 9/9 [00:02<00:00,  3.59it/s, Epoch=46, LR=1.57e-5, Train_Loss=0.0166] \n",
      "100%|██████████| 17/17 [00:03<00:00,  4.73it/s, Epoch=46, LR=1.57e-5, Valid_Loss=0.488]\n"
     ]
    },
    {
     "name": "stdout",
     "output_type": "stream",
     "text": [
      "\n"
     ]
    },
    {
     "name": "stderr",
     "output_type": "stream",
     "text": [
      "100%|██████████| 9/9 [00:02<00:00,  3.56it/s, Epoch=47, LR=8.87e-6, Train_Loss=0.0414]\n",
      "100%|██████████| 17/17 [00:03<00:00,  4.64it/s, Epoch=47, LR=8.87e-6, Valid_Loss=0.515]\n"
     ]
    },
    {
     "name": "stdout",
     "output_type": "stream",
     "text": [
      "\n"
     ]
    },
    {
     "name": "stderr",
     "output_type": "stream",
     "text": [
      "100%|██████████| 9/9 [00:02<00:00,  3.57it/s, Epoch=48, LR=3.95e-6, Train_Loss=0.0233]\n",
      "100%|██████████| 17/17 [00:03<00:00,  4.60it/s, Epoch=48, LR=3.95e-6, Valid_Loss=0.487]\n"
     ]
    },
    {
     "name": "stdout",
     "output_type": "stream",
     "text": [
      "\n"
     ]
    },
    {
     "name": "stderr",
     "output_type": "stream",
     "text": [
      "100%|██████████| 9/9 [00:02<00:00,  3.61it/s, Epoch=49, LR=9.97e-7, Train_Loss=0.0409] \n",
      "100%|██████████| 17/17 [00:03<00:00,  4.47it/s, Epoch=49, LR=9.97e-7, Valid_Loss=0.469]\n"
     ]
    },
    {
     "name": "stdout",
     "output_type": "stream",
     "text": [
      "\n"
     ]
    },
    {
     "name": "stderr",
     "output_type": "stream",
     "text": [
      "100%|██████████| 9/9 [00:02<00:00,  3.16it/s, Epoch=50, LR=1e-8, Train_Loss=0.0159]   \n",
      "100%|██████████| 17/17 [00:03<00:00,  4.47it/s, Epoch=50, LR=1e-8, Valid_Loss=0.496]\n"
     ]
    },
    {
     "name": "stdout",
     "output_type": "stream",
     "text": [
      "\n",
      "Training complete in 0h 6m 7s\n",
      "Best AUROC: 0.1594\n"
     ]
    },
    {
     "name": "stderr",
     "output_type": "stream",
     "text": [
      "100%|██████████| 686/686 [02:11<00:00,  5.21it/s]\n"
     ]
    },
    {
     "name": "stdout",
     "output_type": "stream",
     "text": [
      "fold4_pAUC (not filtered): 0.1466\n"
     ]
    }
   ],
   "source": [
    "list_score_notFiltered = []\n",
    "list_df_preds = []\n",
    "for fold in range(CONFIG[\"n_fold\"]):\n",
    "    print(\"===\"*10)\n",
    "    print(f\"fold {fold}\")\n",
    "    print(\"===\"*10)\n",
    "    \n",
    "    df_train = df[df[\"kfold\"]!=fold]\n",
    "    df_val = df[df[\"kfold\"]==fold]\n",
    "    \n",
    "    # trainのダウンサンプリング\n",
    "    print(\"●train\")\n",
    "    print(\"original>\", df_train.shape, df_train.target.sum(), df_train[\"patient_id\"].unique().shape)\n",
    "    df_positive = df_train[df_train[\"target_mod\"] == 1].reset_index(drop=True)\n",
    "    df_positive2 = df_train[df_train[\"target_mod\"] == 2].reset_index(drop=True)\n",
    "    df_negative = df_train[df_train[\"target_mod\"] == 0].sample(n=(len(df_positive)+len(df_positive2))*20, random_state=0) # ランダムに抽出\n",
    "    df_train = pd.concat([df_positive, df_positive2, df_negative])  # positive:negative = 1:20\n",
    "    del df_positive, df_positive2, df_negative  \n",
    "    print(\"filtered>\", df_train.shape, df_train.target.sum(), df_train[\"patient_id\"].unique().shape)\n",
    "    \n",
    "    # valのダウンサンプリングhttps://wandb.ai/trira7503/ISIC2024_images/sweeps\n",
    "    # valにはnegative2を無理に入れない\n",
    "    print(\"●val\")\n",
    "    print(\"original>\", df_val.shape, df_val.target.sum(), df_val[\"patient_id\"].unique().shape)\n",
    "    df_positive = df_val[df_val[\"target_mod\"] != 0].reset_index(drop=True)\n",
    "    df_negative = df_val[df_val[\"target_mod\"] == 0].sample(n=df_positive.shape[0]*20, random_state=0) # ランダムに抽出\n",
    "    # df_negative2 = df_val[df_val[\"target_mod\"] == 2].reset_index(drop=True)\n",
    "    df_val = pd.concat([df_positive, df_negative])  # positive:negative = 1:20\n",
    "    del df_positive, df_negative\n",
    "    print(\"filtered>\", df_val.shape, df_val.target.sum(), df_val[\"patient_id\"].unique().shape)\n",
    "    \n",
    "    # いったん全データ結合\n",
    "    df_fold = pd.concat((df_train, df_val)).reset_index(drop=True)\n",
    "    del df_train, df_val\n",
    "    \n",
    "    model = ISICModel(CONFIG['model_name'], pretrained=True)\n",
    "    model.to(CONFIG['device']);\n",
    "    \n",
    "    # 最後のfoldだけ勾配を記録する うまく行ってるのかよくわからん\n",
    "#     if fold==4 and WANDB:\n",
    "#         wandb.watch(model, log=\"all\", log_freq=1)\n",
    "    \n",
    "    train_loader, valid_loader = prepare_loaders(df_fold, fold=fold)\n",
    "    # optimizer = optim.AdamW(model.parameters(), lr=CONFIG['learning_rate'], \n",
    "    #                         weight_decay=CONFIG['weight_decay'])\n",
    "    optimizer = optim.Adam(model.parameters(), lr=CONFIG['learning_rate'], \n",
    "                           weight_decay=CONFIG['weight_decay'])\n",
    "    T_max = len(train_loader) * CONFIG[\"epochs\"]\n",
    "    scheduler = fetch_scheduler(optimizer, T_max=T_max)\n",
    "    \n",
    "    model, history = run_training(model, optimizer, scheduler,\n",
    "                                  device=CONFIG['device'],\n",
    "                                  num_epochs=CONFIG['epochs'],\n",
    "                                  fold=fold)\n",
    "    \n",
    "    history = pd.DataFrame.from_dict(history)\n",
    "    history.to_csv(f\"{CONFIG['save_dir']}/history_fold{fold}.csv\", index=False)\n",
    "\n",
    "    #########################\n",
    "    # valの全データでスコア確認\n",
    "    #########################\n",
    "    df_val = df[df[\"kfold\"]==fold]\n",
    "    df_val_pred = df_val[[\"isic_id\", \"kfold\"]]\n",
    "    \n",
    "    valid_dataset = ISICDataset(df_val, transforms=data_transforms[\"valid\"])\n",
    "    valid_loader = DataLoader(valid_dataset, batch_size=CONFIG['valid_batch_size'], \n",
    "                              num_workers=2, shuffle=False, pin_memory=True)\n",
    "    \n",
    "    preds = []\n",
    "    with torch.no_grad():\n",
    "        bar = tqdm(enumerate(valid_loader), total=len(valid_loader))\n",
    "        for step, data in bar:        \n",
    "            images = data['image'].to(CONFIG[\"device\"], dtype=torch.float)        \n",
    "            batch_size = images.size(0)\n",
    "            outputs = model(images).squeeze()\n",
    "            preds.extend(outputs.detach().cpu().numpy())\n",
    "\n",
    "    # マルチクラス用のpAUC計算\n",
    "    all_outputs = softmax(np.array(preds))\n",
    "    class_targets = (df_val[\"target\"].values==1).astype(int).tolist()\n",
    "    class_outputs = (1 - all_outputs[:, 0]).tolist()\n",
    "    epoch_pauc = comp_score_list(class_targets, class_outputs)\n",
    "    print(f\"fold{fold}_pAUC (not filtered): {epoch_pauc:.4f}\")\n",
    "    list_score_notFiltered.append(epoch_pauc)\n",
    "\n",
    "    df_outputs = pd.DataFrame(preds, columns=[\"prob_0\", \"prob_1\", \"prob_2\"])\n",
    "    df_val_pred = pd.concat([df_val_pred, df_outputs], axis=1)\n",
    "    list_df_preds.append(df_val_pred)\n",
    "\n",
    "    # 不要なメモリを開放\n",
    "    del model, optimizer, scheduler, train_loader, valid_loader, history\n",
    "    torch.cuda.empty_cache()"
   ]
  },
  {
   "cell_type": "code",
   "execution_count": 27,
   "id": "39089ee4",
   "metadata": {},
   "outputs": [],
   "source": [
    "if CONFIG[\"save_preds\"]:\n",
    "    df_preds = pd.concat(list_df_preds)\n",
    "    display(df_preds.head(2))\n",
    "    df_preds.to_csv(f\"{CONFIG['save_dir_preds']}/preds_{EXP_NAME}.csv\", index=False)"
   ]
  },
  {
   "cell_type": "markdown",
   "id": "62360601",
   "metadata": {
    "papermill": {
     "duration": 2.046424,
     "end_time": "2024-08-03T12:31:35.026915",
     "exception": false,
     "start_time": "2024-08-03T12:31:32.980491",
     "status": "completed"
    },
    "tags": []
   },
   "source": [
    "# <span><h1 style = \"font-family: garamond; font-size: 40px; font-style: normal; letter-spcaing: 3px; background-color: #f6f5f5; color :#fe346e; border-radius: 100px 100px; text-align:center\">Logs</h1></span>"
   ]
  },
  {
   "cell_type": "code",
   "execution_count": 28,
   "id": "d5fc75d8",
   "metadata": {
    "execution": {
     "iopub.execute_input": "2024-08-03T12:31:39.064592Z",
     "iopub.status.busy": "2024-08-03T12:31:39.064224Z",
     "iopub.status.idle": "2024-08-03T12:31:39.084141Z",
     "shell.execute_reply": "2024-08-03T12:31:39.083247Z"
    },
    "papermill": {
     "duration": 2.039168,
     "end_time": "2024-08-03T12:31:39.086114",
     "exception": false,
     "start_time": "2024-08-03T12:31:37.046946",
     "status": "completed"
    },
    "tags": []
   },
   "outputs": [
    {
     "data": {
      "text/html": [
       "<div>\n",
       "<style scoped>\n",
       "    .dataframe tbody tr th:only-of-type {\n",
       "        vertical-align: middle;\n",
       "    }\n",
       "\n",
       "    .dataframe tbody tr th {\n",
       "        vertical-align: top;\n",
       "    }\n",
       "\n",
       "    .dataframe thead th {\n",
       "        text-align: right;\n",
       "    }\n",
       "</style>\n",
       "<table border=\"1\" class=\"dataframe\">\n",
       "  <thead>\n",
       "    <tr style=\"text-align: right;\">\n",
       "      <th></th>\n",
       "      <th>Train Loss</th>\n",
       "      <th>Valid Loss</th>\n",
       "      <th>Valid AUROC</th>\n",
       "      <th>lr</th>\n",
       "    </tr>\n",
       "  </thead>\n",
       "  <tbody>\n",
       "    <tr>\n",
       "      <th>0</th>\n",
       "      <td>1.219662</td>\n",
       "      <td>0.507983</td>\n",
       "      <td>0.050666</td>\n",
       "      <td>0.000999</td>\n",
       "    </tr>\n",
       "    <tr>\n",
       "      <th>1</th>\n",
       "      <td>0.749782</td>\n",
       "      <td>0.673535</td>\n",
       "      <td>0.115281</td>\n",
       "      <td>0.000996</td>\n",
       "    </tr>\n",
       "    <tr>\n",
       "      <th>2</th>\n",
       "      <td>0.688863</td>\n",
       "      <td>0.649225</td>\n",
       "      <td>0.090183</td>\n",
       "      <td>0.000991</td>\n",
       "    </tr>\n",
       "    <tr>\n",
       "      <th>3</th>\n",
       "      <td>0.539766</td>\n",
       "      <td>0.359589</td>\n",
       "      <td>0.103469</td>\n",
       "      <td>0.000984</td>\n",
       "    </tr>\n",
       "    <tr>\n",
       "      <th>4</th>\n",
       "      <td>0.527768</td>\n",
       "      <td>0.495885</td>\n",
       "      <td>0.101658</td>\n",
       "      <td>0.000975</td>\n",
       "    </tr>\n",
       "  </tbody>\n",
       "</table>\n",
       "</div>"
      ],
      "text/plain": [
       "   Train Loss  Valid Loss  Valid AUROC        lr\n",
       "0    1.219662    0.507983     0.050666  0.000999\n",
       "1    0.749782    0.673535     0.115281  0.000996\n",
       "2    0.688863    0.649225     0.090183  0.000991\n",
       "3    0.539766    0.359589     0.103469  0.000984\n",
       "4    0.527768    0.495885     0.101658  0.000975"
      ]
     },
     "execution_count": 28,
     "metadata": {},
     "output_type": "execute_result"
    }
   ],
   "source": [
    "history0 = pd.read_csv(f\"{CONFIG['save_dir']}/history_fold0.csv\")\n",
    "history1 = pd.read_csv(f\"{CONFIG['save_dir']}/history_fold1.csv\")\n",
    "history2 = pd.read_csv(f\"{CONFIG['save_dir']}/history_fold2.csv\")\n",
    "history3 = pd.read_csv(f\"{CONFIG['save_dir']}/history_fold3.csv\")\n",
    "history4 = pd.read_csv(f\"{CONFIG['save_dir']}/history_fold4.csv\")\n",
    "\n",
    "list_history = [\n",
    "    history0,\n",
    "    history1,\n",
    "    history2,\n",
    "    history3,\n",
    "    history4\n",
    "]\n",
    "\n",
    "history0.head()"
   ]
  },
  {
   "cell_type": "code",
   "execution_count": 29,
   "id": "07eebad7",
   "metadata": {
    "execution": {
     "iopub.execute_input": "2024-08-03T12:31:43.123350Z",
     "iopub.status.busy": "2024-08-03T12:31:43.122985Z",
     "iopub.status.idle": "2024-08-03T12:31:43.730109Z",
     "shell.execute_reply": "2024-08-03T12:31:43.729211Z"
    },
    "papermill": {
     "duration": 2.611967,
     "end_time": "2024-08-03T12:31:43.732974",
     "exception": false,
     "start_time": "2024-08-03T12:31:41.121007",
     "status": "completed"
    },
    "tags": []
   },
   "outputs": [
    {
     "data": {
      "image/png": "[encoded data removed]",
      "text/plain": [
       "<Figure size 1500x500 with 2 Axes>"
      ]
     },
     "metadata": {},
     "output_type": "display_data"
    }
   ],
   "source": [
    "fig, axes = plt.subplots(1, 2, figsize=(15, 5))  # 1行2列のサブプロットを作成\n",
    "\n",
    "for i, his in enumerate(list_history):\n",
    "    axes[0].plot(his[\"Train Loss\"], label=f\"fold_{i}\")  # 1つ目のサブプロットにTrain Lossを描画\n",
    "    axes[1].plot(his[\"Valid Loss\"], label=f\"fold_{i}\")  # 2つ目のサブプロットにValid Lossを描画\n",
    "\n",
    "axes[0].set_title(\"Learning Curve (Train Loss)\")\n",
    "axes[0].set_ylabel(\"Loss\")\n",
    "axes[0].set_xlabel(\"epochs\")\n",
    "axes[0].legend()\n",
    "axes[0].grid(alpha=0.2)\n",
    "# axes[0].set_ylim([0, 1])\n",
    "\n",
    "axes[1].set_title(\"Learning Curve (Valid Loss)\")\n",
    "axes[1].set_ylabel(\"Loss\")\n",
    "axes[1].set_xlabel(\"epochs\")\n",
    "axes[1].legend()\n",
    "axes[1].grid(alpha=0.2)\n",
    "# axes[1].set_ylim([0, 1])\n",
    "\n",
    "\n",
    "# PillowのImageオブジェクトに変換\n",
    "# img = Image.frombytes('RGB', fig.canvas.get_width_height(), fig.canvas.tostring_rgb())\n",
    "\n",
    "# wandbに記録\n",
    "# wandb.log({\"learning_curve_loss\": wandb.Image(img)})\n",
    "\n",
    "plt.show()"
   ]
  },
  {
   "cell_type": "code",
   "execution_count": 30,
   "id": "744ca6ad",
   "metadata": {
    "execution": {
     "iopub.execute_input": "2024-08-03T12:31:47.691678Z",
     "iopub.status.busy": "2024-08-03T12:31:47.690793Z",
     "iopub.status.idle": "2024-08-03T12:31:48.252804Z",
     "shell.execute_reply": "2024-08-03T12:31:48.251966Z"
    },
    "papermill": {
     "duration": 2.582422,
     "end_time": "2024-08-03T12:31:48.255925",
     "exception": false,
     "start_time": "2024-08-03T12:31:45.673503",
     "status": "completed"
    },
    "tags": []
   },
   "outputs": [
    {
     "data": {
      "image/png": "[encoded data removed]",
      "text/plain": [
       "<Figure size 700x500 with 1 Axes>"
      ]
     },
     "metadata": {},
     "output_type": "display_data"
    }
   ],
   "source": [
    "fig, ax = plt.subplots(figsize=(7, 5))  # 1列のサブプロットを作成\n",
    "\n",
    "for i, his in enumerate(list_history):\n",
    "    ax.plot(his[\"Valid AUROC\"], label=f\"fold_{i}\")  # Valid AUROCのみを描画\n",
    "\n",
    "ax.set_title(\"Learning Curve (Valid pAUC80)\")\n",
    "ax.set_ylabel(\"pAUC80\")\n",
    "ax.set_xlabel(\"epochs\")\n",
    "ax.legend()\n",
    "ax.grid(alpha=0.2)\n",
    "ax.set_ylim([0, 0.2])\n",
    "\n",
    "# PillowのImageオブジェクトに変換\n",
    "# img = Image.frombytes('RGB', fig.canvas.get_width_height(), fig.canvas.tostring_rgb())\n",
    "\n",
    "# # wandbに記録\n",
    "# wandb.log({\"learning_curve_pAUC80\": wandb.Image(img)})\n",
    "\n",
    "plt.show()"
   ]
  },
  {
   "cell_type": "code",
   "execution_count": 31,
   "id": "de0a4831",
   "metadata": {},
   "outputs": [],
   "source": [
    "if WANDB:\n",
    "    data = [[x, y] for (x, y) in zip(range(len(his[\"Valid AUROC\"].values)), his[\"Valid AUROC\"].values)]\n",
    "    table = wandb.Table(data=data, columns=[\"x\", \"y\"])\n",
    "    wandb.log(\n",
    "        {\n",
    "            \"learning_curve_pAUC80\": wandb.plot.line(\n",
    "                table, \"x\", \"y\", title=\"Learning Curve (Valid pAUC80)\"\n",
    "            )\n",
    "        }\n",
    "    )"
   ]
  },
  {
   "cell_type": "code",
   "execution_count": 32,
   "id": "3ddfe8b3",
   "metadata": {
    "execution": {
     "iopub.execute_input": "2024-08-03T12:31:52.287731Z",
     "iopub.status.busy": "2024-08-03T12:31:52.287389Z",
     "iopub.status.idle": "2024-08-03T12:31:52.590722Z",
     "shell.execute_reply": "2024-08-03T12:31:52.589875Z"
    },
    "papermill": {
     "duration": 2.331263,
     "end_time": "2024-08-03T12:31:52.592665",
     "exception": false,
     "start_time": "2024-08-03T12:31:50.261402",
     "status": "completed"
    },
    "tags": []
   },
   "outputs": [
    {
     "data": {
      "image/png": "[encoded data removed]",
      "text/plain": [
       "<Figure size 700x500 with 1 Axes>"
      ]
     },
     "metadata": {},
     "output_type": "display_data"
    }
   ],
   "source": [
    "fig, ax = plt.subplots(figsize=(7, 5))\n",
    "ax.grid(alpha=0.2)\n",
    "for i, his in enumerate(list_history):\n",
    "    ax.plot(his[\"lr\"], label=f\"fold_{i}\")  # 1つ目のサブプロットにTrain Lossを描画\n",
    "\n",
    "ax.set_title(\"Learning Rate\")\n",
    "ax.set_ylabel(\"lr\")\n",
    "ax.set_xlabel(\"epochs\")\n",
    "ax.legend()\n",
    "\n",
    "plt.show()"
   ]
  },
  {
   "cell_type": "code",
   "execution_count": 33,
   "id": "7fc12965",
   "metadata": {
    "execution": {
     "iopub.execute_input": "2024-08-03T12:31:56.633047Z",
     "iopub.status.busy": "2024-08-03T12:31:56.632181Z",
     "iopub.status.idle": "2024-08-03T12:31:56.647971Z",
     "shell.execute_reply": "2024-08-03T12:31:56.647054Z"
    },
    "papermill": {
     "duration": 1.953919,
     "end_time": "2024-08-03T12:31:56.649765",
     "exception": false,
     "start_time": "2024-08-03T12:31:54.695846",
     "status": "completed"
    },
    "tags": []
   },
   "outputs": [
    {
     "data": {
      "text/html": [
       "<div>\n",
       "<style scoped>\n",
       "    .dataframe tbody tr th:only-of-type {\n",
       "        vertical-align: middle;\n",
       "    }\n",
       "\n",
       "    .dataframe tbody tr th {\n",
       "        vertical-align: top;\n",
       "    }\n",
       "\n",
       "    .dataframe thead th {\n",
       "        text-align: right;\n",
       "    }\n",
       "</style>\n",
       "<table border=\"1\" class=\"dataframe\">\n",
       "  <thead>\n",
       "    <tr style=\"text-align: right;\">\n",
       "      <th></th>\n",
       "      <th>pAUC80</th>\n",
       "      <th>pAUC80_notFiltered</th>\n",
       "    </tr>\n",
       "  </thead>\n",
       "  <tbody>\n",
       "    <tr>\n",
       "      <th>fold_0</th>\n",
       "      <td>0.1325</td>\n",
       "      <td>0.1277</td>\n",
       "    </tr>\n",
       "    <tr>\n",
       "      <th>fold_1</th>\n",
       "      <td>0.1507</td>\n",
       "      <td>0.1505</td>\n",
       "    </tr>\n",
       "    <tr>\n",
       "      <th>fold_2</th>\n",
       "      <td>0.1578</td>\n",
       "      <td>0.1560</td>\n",
       "    </tr>\n",
       "    <tr>\n",
       "      <th>fold_3</th>\n",
       "      <td>0.145</td>\n",
       "      <td>0.1463</td>\n",
       "    </tr>\n",
       "    <tr>\n",
       "      <th>fold_4</th>\n",
       "      <td>0.1443</td>\n",
       "      <td>0.1466</td>\n",
       "    </tr>\n",
       "    <tr>\n",
       "      <th>mean</th>\n",
       "      <td>0.1461</td>\n",
       "      <td>0.1454</td>\n",
       "    </tr>\n",
       "    <tr>\n",
       "      <th>std</th>\n",
       "      <td>0.0076</td>\n",
       "      <td>0.0087</td>\n",
       "    </tr>\n",
       "  </tbody>\n",
       "</table>\n",
       "</div>"
      ],
      "text/plain": [
       "        pAUC80  pAUC80_notFiltered\n",
       "fold_0  0.1325              0.1277\n",
       "fold_1  0.1507              0.1505\n",
       "fold_2  0.1578              0.1560\n",
       "fold_3   0.145              0.1463\n",
       "fold_4  0.1443              0.1466\n",
       "mean    0.1461              0.1454\n",
       "std     0.0076              0.0087"
      ]
     },
     "execution_count": 33,
     "metadata": {},
     "output_type": "execute_result"
    }
   ],
   "source": [
    "pd.options.display.precision = 4\n",
    "\n",
    "df_pauc = pd.DataFrame(columns=[\"pAUC80\"])\n",
    "for i, his in enumerate(list_history):\n",
    "    df_pauc.loc[f\"fold_{i}\", \"pAUC80\"] = his[\"Valid AUROC\"].values[-1]\n",
    "\n",
    "df_pauc[\"pAUC80_notFiltered\"] = list_score_notFiltered\n",
    "df_pauc.loc[\"mean\", \"pAUC80\"] = np.mean(df_pauc[\"pAUC80\"])\n",
    "df_pauc.loc[\"std\", \"pAUC80\"] = np.std(df_pauc[\"pAUC80\"])\n",
    "df_pauc.loc[\"mean\", \"pAUC80_notFiltered\"] = np.mean(df_pauc[\"pAUC80_notFiltered\"])\n",
    "df_pauc.loc[\"std\", \"pAUC80_notFiltered\"] = np.std(df_pauc[\"pAUC80_notFiltered\"])\n",
    "df_pauc"
   ]
  },
  {
   "cell_type": "code",
   "execution_count": 34,
   "id": "f078b046",
   "metadata": {
    "execution": {
     "iopub.execute_input": "2024-08-03T12:32:00.693866Z",
     "iopub.status.busy": "2024-08-03T12:32:00.693178Z",
     "iopub.status.idle": "2024-08-03T12:32:07.647772Z",
     "shell.execute_reply": "2024-08-03T12:32:07.647070Z"
    },
    "papermill": {
     "duration": 8.989213,
     "end_time": "2024-08-03T12:32:07.649713",
     "exception": false,
     "start_time": "2024-08-03T12:31:58.660500",
     "status": "completed"
    },
    "tags": []
   },
   "outputs": [],
   "source": [
    "if WANDB:\n",
    "    wandb.log({\"pAUC80_fold0\": df_pauc.loc[\"fold_0\", \"pAUC80\"]})\n",
    "    wandb.log({\"pAUC80_fold1\": df_pauc.loc[\"fold_1\", \"pAUC80\"]})\n",
    "    wandb.log({\"pAUC80_fold2\": df_pauc.loc[\"fold_2\", \"pAUC80\"]})\n",
    "    wandb.log({\"pAUC80_fold3\": df_pauc.loc[\"fold_3\", \"pAUC80\"]})\n",
    "    wandb.log({\"pAUC80_fold4\": df_pauc.loc[\"fold_4\", \"pAUC80\"]})\n",
    "    wandb.log({\"pAUC80_mean\": df_pauc.loc[\"mean\", \"pAUC80\"]})\n",
    "\n",
    "    wandb.log({\"pAUC80_fold0_notFiltered\": df_pauc.loc[\"fold_0\", \"pAUC80_notFiltered\"]})\n",
    "    wandb.log({\"pAUC80_fold1_notFiltered\": df_pauc.loc[\"fold_1\", \"pAUC80_notFiltered\"]})\n",
    "    wandb.log({\"pAUC80_fold2_notFiltered\": df_pauc.loc[\"fold_2\", \"pAUC80_notFiltered\"]})\n",
    "    wandb.log({\"pAUC80_fold3_notFiltered\": df_pauc.loc[\"fold_3\", \"pAUC80_notFiltered\"]})\n",
    "    wandb.log({\"pAUC80_fold4_notFiltered\": df_pauc.loc[\"fold_4\", \"pAUC80_notFiltered\"]})\n",
    "    wandb.log({\"pAUC80_mean_notFiltered\": df_pauc.loc[\"mean\", \"pAUC80_notFiltered\"]})\n",
    "    \n",
    "\n",
    "\n",
    "    wandb.finish()"
   ]
  },
  {
   "cell_type": "code",
   "execution_count": 35,
   "id": "ca5a4d27",
   "metadata": {
    "execution": {
     "iopub.execute_input": "2024-08-03T12:32:11.682771Z",
     "iopub.status.busy": "2024-08-03T12:32:11.681932Z",
     "iopub.status.idle": "2024-08-03T12:32:11.686148Z",
     "shell.execute_reply": "2024-08-03T12:32:11.685273Z"
    },
    "papermill": {
     "duration": 2.031107,
     "end_time": "2024-08-03T12:32:11.688087",
     "exception": false,
     "start_time": "2024-08-03T12:32:09.656980",
     "status": "completed"
    },
    "tags": []
   },
   "outputs": [],
   "source": [
    "# wandb.finish()"
   ]
  },
  {
   "cell_type": "code",
   "execution_count": null,
   "id": "e2f7a26e",
   "metadata": {},
   "outputs": [],
   "source": []
  }
 ],
 "metadata": {
  "kaggle": {
   "accelerator": "gpu",
   "dataSources": [
    {
     "databundleVersionId": 9094797,
     "sourceId": 63056,
     "sourceType": "competition"
    },
    {
     "modelId": 312,
     "modelInstanceId": 2656,
     "sourceId": 3729,
     "sourceType": "modelInstanceVersion"
    }
   ],
   "isGpuEnabled": true,
   "isInternetEnabled": true,
   "language": "python",
   "sourceType": "notebook"
  },
  "kernelspec": {
   "display_name": "Python 3",
   "language": "python",
   "name": "python3"
  },
  "language_info": {
   "codemirror_mode": {
    "name": "ipython",
    "version": 3
   },
   "file_extension": ".py",
   "mimetype": "text/x-python",
   "name": "python",
   "nbconvert_exporter": "python",
   "pygments_lexer": "ipython3",
   "version": "3.10.12"
  },
  "papermill": {
   "default_parameters": {},
   "duration": 3899.537456,
   "end_time": "2024-08-03T12:32:21.533444",
   "environment_variables": {},
   "exception": null,
   "input_path": "__notebook__.ipynb",
   "output_path": "__notebook__.ipynb",
   "parameters": {},
   "start_time": "2024-08-03T11:27:21.995988",
   "version": "2.5.0"
  },
  "widgets": {
   "application/vnd.jupyter.widget-state+json": {
    "state": {
     "01955731ce0a4145820f7e5314bda573": {
      "model_module": "@jupyter-widgets/controls",
      "model_module_version": "1.5.0",
      "model_name": "DescriptionStyleModel",
      "state": {
       "_model_module": "@jupyter-widgets/controls",
       "_model_module_version": "1.5.0",
       "_model_name": "DescriptionStyleModel",
       "_view_count": null,
       "_view_module": "@jupyter-widgets/base",
       "_view_module_version": "1.2.0",
       "_view_name": "StyleView",
       "description_width": ""
      }
     },
     "0a6edeed0a0f4523b95ce9b8414dd124": {
      "model_module": "@jupyter-widgets/controls",
      "model_module_version": "1.5.0",
      "model_name": "HTMLModel",
      "state": {
       "_dom_classes": [],
       "_model_module": "@jupyter-widgets/controls",
       "_model_module_version": "1.5.0",
       "_model_name": "HTMLModel",
       "_view_count": null,
       "_view_module": "@jupyter-widgets/controls",
       "_view_module_version": "1.5.0",
       "_view_name": "HTMLView",
       "description": "",
       "description_tooltip": null,
       "layout": "IPY_MODEL_c078f8b3f54d44d1ba4f55e0abee593c",
       "placeholder": "​",
       "style": "IPY_MODEL_01955731ce0a4145820f7e5314bda573",
       "value": "model.safetensors: 100%"
      }
     },
     "3872e74bfc1a4da2bcc871a9a3c7b366": {
      "model_module": "@jupyter-widgets/controls",
      "model_module_version": "1.5.0",
      "model_name": "FloatProgressModel",
      "state": {
       "_dom_classes": [],
       "_model_module": "@jupyter-widgets/controls",
       "_model_module_version": "1.5.0",
       "_model_name": "FloatProgressModel",
       "_view_count": null,
       "_view_module": "@jupyter-widgets/controls",
       "_view_module_version": "1.5.0",
       "_view_name": "ProgressView",
       "bar_style": "success",
       "description": "",
       "description_tooltip": null,
       "layout": "IPY_MODEL_ee121baa37c04a78ac880ef46d5f2567",
       "max": 21355344,
       "min": 0,
       "orientation": "horizontal",
       "style": "IPY_MODEL_de6cd1dd72c44157a9b1bf360752f134",
       "value": 21355344
      }
     },
     "4671fd1e411b4e109f5dbf6c3d4b2bdc": {
      "model_module": "@jupyter-widgets/base",
      "model_module_version": "1.2.0",
      "model_name": "LayoutModel",
      "state": {
       "_model_module": "@jupyter-widgets/base",
       "_model_module_version": "1.2.0",
       "_model_name": "LayoutModel",
       "_view_count": null,
       "_view_module": "@jupyter-widgets/base",
       "_view_module_version": "1.2.0",
       "_view_name": "LayoutView",
       "align_content": null,
       "align_items": null,
       "align_self": null,
       "border": null,
       "bottom": null,
       "display": null,
       "flex": null,
       "flex_flow": null,
       "grid_area": null,
       "grid_auto_columns": null,
       "grid_auto_flow": null,
       "grid_auto_rows": null,
       "grid_column": null,
       "grid_gap": null,
       "grid_row": null,
       "grid_template_areas": null,
       "grid_template_columns": null,
       "grid_template_rows": null,
       "height": null,
       "justify_content": null,
       "justify_items": null,
       "left": null,
       "margin": null,
       "max_height": null,
       "max_width": null,
       "min_height": null,
       "min_width": null,
       "object_fit": null,
       "object_position": null,
       "order": null,
       "overflow": null,
       "overflow_x": null,
       "overflow_y": null,
       "padding": null,
       "right": null,
       "top": null,
       "visibility": null,
       "width": null
      }
     },
     "b3dd3ee3a65d4ff28540603be012cb38": {
      "model_module": "@jupyter-widgets/controls",
      "model_module_version": "1.5.0",
      "model_name": "DescriptionStyleModel",
      "state": {
       "_model_module": "@jupyter-widgets/controls",
       "_model_module_version": "1.5.0",
       "_model_name": "DescriptionStyleModel",
       "_view_count": null,
       "_view_module": "@jupyter-widgets/base",
       "_view_module_version": "1.2.0",
       "_view_name": "StyleView",
       "description_width": ""
      }
     },
     "c078f8b3f54d44d1ba4f55e0abee593c": {
      "model_module": "@jupyter-widgets/base",
      "model_module_version": "1.2.0",
      "model_name": "LayoutModel",
      "state": {
       "_model_module": "@jupyter-widgets/base",
       "_model_module_version": "1.2.0",
       "_model_name": "LayoutModel",
       "_view_count": null,
       "_view_module": "@jupyter-widgets/base",
       "_view_module_version": "1.2.0",
       "_view_name": "LayoutView",
       "align_content": null,
       "align_items": null,
       "align_self": null,
       "border": null,
       "bottom": null,
       "display": null,
       "flex": null,
       "flex_flow": null,
       "grid_area": null,
       "grid_auto_columns": null,
       "grid_auto_flow": null,
       "grid_auto_rows": null,
       "grid_column": null,
       "grid_gap": null,
       "grid_row": null,
       "grid_template_areas": null,
       "grid_template_columns": null,
       "grid_template_rows": null,
       "height": null,
       "justify_content": null,
       "justify_items": null,
       "left": null,
       "margin": null,
       "max_height": null,
       "max_width": null,
       "min_height": null,
       "min_width": null,
       "object_fit": null,
       "object_position": null,
       "order": null,
       "overflow": null,
       "overflow_x": null,
       "overflow_y": null,
       "padding": null,
       "right": null,
       "top": null,
       "visibility": null,
       "width": null
      }
     },
     "cbdde796332549c3873d4c27de89feca": {
      "model_module": "@jupyter-widgets/base",
      "model_module_version": "1.2.0",
      "model_name": "LayoutModel",
      "state": {
       "_model_module": "@jupyter-widgets/base",
       "_model_module_version": "1.2.0",
       "_model_name": "LayoutModel",
       "_view_count": null,
       "_view_module": "@jupyter-widgets/base",
       "_view_module_version": "1.2.0",
       "_view_name": "LayoutView",
       "align_content": null,
       "align_items": null,
       "align_self": null,
       "border": null,
       "bottom": null,
       "display": null,
       "flex": null,
       "flex_flow": null,
       "grid_area": null,
       "grid_auto_columns": null,
       "grid_auto_flow": null,
       "grid_auto_rows": null,
       "grid_column": null,
       "grid_gap": null,
       "grid_row": null,
       "grid_template_areas": null,
       "grid_template_columns": null,
       "grid_template_rows": null,
       "height": null,
       "justify_content": null,
       "justify_items": null,
       "left": null,
       "margin": null,
       "max_height": null,
       "max_width": null,
       "min_height": null,
       "min_width": null,
       "object_fit": null,
       "object_position": null,
       "order": null,
       "overflow": null,
       "overflow_x": null,
       "overflow_y": null,
       "padding": null,
       "right": null,
       "top": null,
       "visibility": null,
       "width": null
      }
     },
     "de6cd1dd72c44157a9b1bf360752f134": {
      "model_module": "@jupyter-widgets/controls",
      "model_module_version": "1.5.0",
      "model_name": "ProgressStyleModel",
      "state": {
       "_model_module": "@jupyter-widgets/controls",
       "_model_module_version": "1.5.0",
       "_model_name": "ProgressStyleModel",
       "_view_count": null,
       "_view_module": "@jupyter-widgets/base",
       "_view_module_version": "1.2.0",
       "_view_name": "StyleView",
       "bar_color": null,
       "description_width": ""
      }
     },
     "ee121baa37c04a78ac880ef46d5f2567": {
      "model_module": "@jupyter-widgets/base",
      "model_module_version": "1.2.0",
      "model_name": "LayoutModel",
      "state": {
       "_model_module": "@jupyter-widgets/base",
       "_model_module_version": "1.2.0",
       "_model_name": "LayoutModel",
       "_view_count": null,
       "_view_module": "@jupyter-widgets/base",
       "_view_module_version": "1.2.0",
       "_view_name": "LayoutView",
       "align_content": null,
       "align_items": null,
       "align_self": null,
       "border": null,
       "bottom": null,
       "display": null,
       "flex": null,
       "flex_flow": null,
       "grid_area": null,
       "grid_auto_columns": null,
       "grid_auto_flow": null,
       "grid_auto_rows": null,
       "grid_column": null,
       "grid_gap": null,
       "grid_row": null,
       "grid_template_areas": null,
       "grid_template_columns": null,
       "grid_template_rows": null,
       "height": null,
       "justify_content": null,
       "justify_items": null,
       "left": null,
       "margin": null,
       "max_height": null,
       "max_width": null,
       "min_height": null,
       "min_width": null,
       "object_fit": null,
       "object_position": null,
       "order": null,
       "overflow": null,
       "overflow_x": null,
       "overflow_y": null,
       "padding": null,
       "right": null,
       "top": null,
       "visibility": null,
       "width": null
      }
     },
     "f05b1c9300e8444387feae26fb5e35ca": {
      "model_module": "@jupyter-widgets/controls",
      "model_module_version": "1.5.0",
      "model_name": "HBoxModel",
      "state": {
       "_dom_classes": [],
       "_model_module": "@jupyter-widgets/controls",
       "_model_module_version": "1.5.0",
       "_model_name": "HBoxModel",
       "_view_count": null,
       "_view_module": "@jupyter-widgets/controls",
       "_view_module_version": "1.5.0",
       "_view_name": "HBoxView",
       "box_style": "",
       "children": [
        "IPY_MODEL_0a6edeed0a0f4523b95ce9b8414dd124",
        "IPY_MODEL_3872e74bfc1a4da2bcc871a9a3c7b366",
        "IPY_MODEL_f66e046f739440aeb3ceb3daa9565dc6"
       ],
       "layout": "IPY_MODEL_cbdde796332549c3873d4c27de89feca"
      }
     },
     "f66e046f739440aeb3ceb3daa9565dc6": {
      "model_module": "@jupyter-widgets/controls",
      "model_module_version": "1.5.0",
      "model_name": "HTMLModel",
      "state": {
       "_dom_classes": [],
       "_model_module": "@jupyter-widgets/controls",
       "_model_module_version": "1.5.0",
       "_model_name": "HTMLModel",
       "_view_count": null,
       "_view_module": "@jupyter-widgets/controls",
       "_view_module_version": "1.5.0",
       "_view_name": "HTMLView",
       "description": "",
       "description_tooltip": null,
       "layout": "IPY_MODEL_4671fd1e411b4e109f5dbf6c3d4b2bdc",
       "placeholder": "​",
       "style": "IPY_MODEL_b3dd3ee3a65d4ff28540603be012cb38",
       "value": " 21.4M/21.4M [00:00&lt;00:00, 69.5MB/s]"
      }
     }
    },
    "version_major": 2,
    "version_minor": 0
   }
  }
 },
 "nbformat": 4,
 "nbformat_minor": 5
}
