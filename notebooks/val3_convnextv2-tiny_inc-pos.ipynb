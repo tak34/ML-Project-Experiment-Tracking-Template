{
 "cells": [
  {
   "cell_type": "markdown",
   "id": "8551e842",
   "metadata": {
    "papermill": {
     "duration": 0.01434,
     "end_time": "2024-08-03T11:27:24.716749",
     "exception": false,
     "start_time": "2024-08-03T11:27:24.702409",
     "status": "completed"
    },
    "tags": []
   },
   "source": [
    "# Import Required Libraries"
   ]
  },
  {
   "cell_type": "code",
   "execution_count": 1,
   "id": "17d5195f",
   "metadata": {
    "execution": {
     "iopub.execute_input": "2024-08-03T11:27:24.747014Z",
     "iopub.status.busy": "2024-08-03T11:27:24.746246Z",
     "iopub.status.idle": "2024-08-03T11:27:41.324384Z",
     "shell.execute_reply": "2024-08-03T11:27:41.323551Z"
    },
    "papermill": {
     "duration": 16.595521,
     "end_time": "2024-08-03T11:27:41.326792",
     "exception": false,
     "start_time": "2024-08-03T11:27:24.731271",
     "status": "completed"
    },
    "tags": []
   },
   "outputs": [],
   "source": [
    "WANDB = False\n",
    "EXP_NAME = \"val3_convnextv2-tiny_inc-pos40_best_epoch\"\n",
    "# EXP_NAME = \"try\"\n",
    "\n",
    "if WANDB:\n",
    "    # !pip install wandb\n",
    "    import wandb\n",
    "    import os\n",
    "    from dotenv import load_dotenv\n",
    "    load_dotenv()\n",
    "    wandb.login(key=os.environ.get(\"WANDB_API_KEY\"))"
   ]
  },
  {
   "cell_type": "code",
   "execution_count": 2,
   "id": "0b352d5a",
   "metadata": {
    "execution": {
     "iopub.execute_input": "2024-08-03T11:27:41.395258Z",
     "iopub.status.busy": "2024-08-03T11:27:41.394999Z",
     "iopub.status.idle": "2024-08-03T11:27:49.379635Z",
     "shell.execute_reply": "2024-08-03T11:27:49.378849Z"
    },
    "papermill": {
     "duration": 8.002336,
     "end_time": "2024-08-03T11:27:49.382001",
     "exception": false,
     "start_time": "2024-08-03T11:27:41.379665",
     "status": "completed"
    },
    "tags": []
   },
   "outputs": [],
   "source": [
    "import os\n",
    "import gc\n",
    "import cv2\n",
    "import math\n",
    "import copy\n",
    "import time\n",
    "import random\n",
    "import glob\n",
    "from matplotlib import pyplot as plt\n",
    "import seaborn as sns\n",
    "from PIL import Image\n",
    "\n",
    "# For data manipulation\n",
    "import numpy as np\n",
    "import pandas as pd\n",
    "\n",
    "# Pytorch Imports\n",
    "import torch\n",
    "import torch.nn as nn\n",
    "import torch.optim as optim\n",
    "import torch.nn.functional as F\n",
    "from torch.optim import lr_scheduler\n",
    "from torch.utils.data import Dataset, DataLoader\n",
    "from torch.cuda import amp\n",
    "import torchvision\n",
    "# from torcheval.metrics.functional import binary_auroc\n",
    "\n",
    "# Utils\n",
    "import joblib\n",
    "from tqdm import tqdm\n",
    "from collections import defaultdict\n",
    "\n",
    "# Sklearn Imports\n",
    "from sklearn.preprocessing import LabelEncoder\n",
    "from sklearn.model_selection import StratifiedKFold, StratifiedGroupKFold \n",
    "from sklearn.metrics import roc_auc_score\n",
    "\n",
    "# For Image Models\n",
    "import timm\n",
    "\n",
    "# Albumentations for augmentations\n",
    "import albumentations as A\n",
    "from albumentations.pytorch import ToTensorV2\n",
    "\n",
    "# For colored terminal text\n",
    "from colorama import Fore, Back, Style\n",
    "b_ = Fore.BLUE\n",
    "sr_ = Style.RESET_ALL\n",
    "\n",
    "import warnings\n",
    "warnings.filterwarnings(\"ignore\")\n",
    "\n",
    "# For descriptive error messages\n",
    "os.environ['CUDA_LAUNCH_BLOCKING'] = \"1\""
   ]
  },
  {
   "cell_type": "markdown",
   "id": "903db01e",
   "metadata": {
    "papermill": {
     "duration": 0.014258,
     "end_time": "2024-08-03T11:27:49.411099",
     "exception": false,
     "start_time": "2024-08-03T11:27:49.396841",
     "status": "completed"
    },
    "tags": []
   },
   "source": [
    "# Training Configuration"
   ]
  },
  {
   "cell_type": "code",
   "execution_count": 3,
   "id": "2b8c5e68",
   "metadata": {
    "execution": {
     "iopub.execute_input": "2024-08-03T11:27:49.441606Z",
     "iopub.status.busy": "2024-08-03T11:27:49.440684Z",
     "iopub.status.idle": "2024-08-03T11:27:49.500885Z",
     "shell.execute_reply": "2024-08-03T11:27:49.499892Z"
    },
    "papermill": {
     "duration": 0.077554,
     "end_time": "2024-08-03T11:27:49.502883",
     "exception": false,
     "start_time": "2024-08-03T11:27:49.425329",
     "status": "completed"
    },
    "tags": []
   },
   "outputs": [],
   "source": [
    "CONFIG = {\n",
    "    \"seed\": 42,\n",
    "    \"epochs\": 30,\n",
    "    # \"epochs\": 3, #######　後でなおすこと\n",
    "    \"img_size\": 224,\n",
    "    \"model_name\": \"convnextv2_tiny\",\n",
    "    \"checkpoint_path\" : \"/kaggle/input/tf-efficientnet/pytorch/tf-efficientnet-b0/1/tf_efficientnet_b0_aa-827b6e33.pth\",\n",
    "    \"train_batch_size\": 64,\n",
    "    \"valid_batch_size\": 128,\n",
    "    \"learning_rate\": 4e-5,\n",
    "    \"scheduler\": 'CosineAnnealingLR',\n",
    "    \"min_lr\": 1e-9,\n",
    "#     \"T_max\": 10316,\n",
    "    \"weight_decay\": 1e-5,\n",
    "    \"fold\" : 0,\n",
    "    \"n_fold\": 5,\n",
    "    \"n_accumulate\": 1,\n",
    "    \"device\": torch.device(\"cuda:0\" if torch.cuda.is_available() else \"cpu\"),\n",
    "    \"use_tta\": False,\n",
    "    \"mixup_alpha\": 0.4,  # 既存のMixupのパラメータ\n",
    "    \"mixup_epochs\": 22,  # Mixupを適用するエポック数を追加\n",
    "    \"dropout_rate\": 0.2,\n",
    "    \"warmup_steps\": 60,  # Warmupのステップ数を追加\n",
    "    \"warmup_factor\": 0.02,  # 初期学習率の倍率\n",
    "    \"save_preds\": True,\n",
    "    \"save_dir\": \"../proc/preds\",\n",
    "    \"save_model\": True,\n",
    "    \"save_model_dir\": f\"../proc/models/{EXP_NAME}\",\n",
    "}"
   ]
  },
  {
   "cell_type": "code",
   "execution_count": 4,
   "id": "4ecbf770",
   "metadata": {},
   "outputs": [],
   "source": [
    "if CONFIG[\"save_model\"]:\n",
    "    if not os.path.exists(CONFIG[\"save_model_dir\"]):\n",
    "        os.mkdir(CONFIG[\"save_model_dir\"])"
   ]
  },
  {
   "cell_type": "markdown",
   "id": "cddc65ff",
   "metadata": {
    "papermill": {
     "duration": 0.014141,
     "end_time": "2024-08-03T11:27:49.531761",
     "exception": false,
     "start_time": "2024-08-03T11:27:49.517620",
     "status": "completed"
    },
    "tags": []
   },
   "source": [
    "# Set Seed for Reproducibility"
   ]
  },
  {
   "cell_type": "code",
   "execution_count": 5,
   "id": "98b9513a",
   "metadata": {
    "execution": {
     "iopub.execute_input": "2024-08-03T11:27:49.562058Z",
     "iopub.status.busy": "2024-08-03T11:27:49.561688Z",
     "iopub.status.idle": "2024-08-03T11:27:49.570471Z",
     "shell.execute_reply": "2024-08-03T11:27:49.569784Z"
    },
    "papermill": {
     "duration": 0.026141,
     "end_time": "2024-08-03T11:27:49.572357",
     "exception": false,
     "start_time": "2024-08-03T11:27:49.546216",
     "status": "completed"
    },
    "tags": []
   },
   "outputs": [],
   "source": [
    "def set_seed(seed=42):\n",
    "    '''Sets the seed of the entire notebook so results are the same every time we run.\n",
    "    This is for REPRODUCIBILITY.'''\n",
    "    np.random.seed(seed)\n",
    "    torch.manual_seed(seed)\n",
    "    torch.cuda.manual_seed(seed)\n",
    "    # When running on the CuDNN backend, two further options must be set\n",
    "    torch.backends.cudnn.deterministic = True\n",
    "    torch.backends.cudnn.benchmark = False\n",
    "    # Set a fixed value for the hash seed\n",
    "    os.environ['PYTHONHASHSEED'] = str(seed)\n",
    "    \n",
    "set_seed(CONFIG['seed'])"
   ]
  },
  {
   "cell_type": "code",
   "execution_count": 6,
   "id": "d7c70b6f",
   "metadata": {
    "execution": {
     "iopub.execute_input": "2024-08-03T11:27:49.602533Z",
     "iopub.status.busy": "2024-08-03T11:27:49.601829Z",
     "iopub.status.idle": "2024-08-03T11:27:49.605780Z",
     "shell.execute_reply": "2024-08-03T11:27:49.604966Z"
    },
    "papermill": {
     "duration": 0.020996,
     "end_time": "2024-08-03T11:27:49.607665",
     "exception": false,
     "start_time": "2024-08-03T11:27:49.586669",
     "status": "completed"
    },
    "tags": []
   },
   "outputs": [],
   "source": [
    "ROOT_DIR = \"../raw\"\n",
    "TRAIN_DIR = f'{ROOT_DIR}/train-image/image'"
   ]
  },
  {
   "cell_type": "code",
   "execution_count": 7,
   "id": "a11c344b",
   "metadata": {
    "execution": {
     "iopub.execute_input": "2024-08-03T11:27:49.637452Z",
     "iopub.status.busy": "2024-08-03T11:27:49.637203Z",
     "iopub.status.idle": "2024-08-03T11:27:49.641108Z",
     "shell.execute_reply": "2024-08-03T11:27:49.640269Z"
    },
    "papermill": {
     "duration": 0.020939,
     "end_time": "2024-08-03T11:27:49.642937",
     "exception": false,
     "start_time": "2024-08-03T11:27:49.621998",
     "status": "completed"
    },
    "tags": []
   },
   "outputs": [],
   "source": [
    "def get_train_file_path(image_id):\n",
    "    return f\"{TRAIN_DIR}/{image_id}.jpg\""
   ]
  },
  {
   "cell_type": "markdown",
   "id": "4660cf08",
   "metadata": {
    "papermill": {
     "duration": 0.014646,
     "end_time": "2024-08-03T11:27:49.672275",
     "exception": false,
     "start_time": "2024-08-03T11:27:49.657629",
     "status": "completed"
    },
    "tags": []
   },
   "source": [
    "# Read the Data"
   ]
  },
  {
   "cell_type": "code",
   "execution_count": 8,
   "id": "bcaf087a",
   "metadata": {
    "execution": {
     "iopub.execute_input": "2024-08-03T11:27:49.703417Z",
     "iopub.status.busy": "2024-08-03T11:27:49.703087Z",
     "iopub.status.idle": "2024-08-03T11:27:53.557484Z",
     "shell.execute_reply": "2024-08-03T11:27:53.556536Z"
    },
    "papermill": {
     "duration": 3.872522,
     "end_time": "2024-08-03T11:27:53.559821",
     "exception": false,
     "start_time": "2024-08-03T11:27:49.687299",
     "status": "completed"
    },
    "tags": []
   },
   "outputs": [],
   "source": [
    "train_images = sorted(glob.glob(f\"{TRAIN_DIR}/*.jpg\"))"
   ]
  },
  {
   "cell_type": "code",
   "execution_count": 9,
   "id": "b07f48bc",
   "metadata": {
    "execution": {
     "iopub.execute_input": "2024-08-03T11:27:53.590652Z",
     "iopub.status.busy": "2024-08-03T11:27:53.590323Z",
     "iopub.status.idle": "2024-08-03T11:28:01.727632Z",
     "shell.execute_reply": "2024-08-03T11:28:01.726742Z"
    },
    "papermill": {
     "duration": 8.155275,
     "end_time": "2024-08-03T11:28:01.730168",
     "exception": false,
     "start_time": "2024-08-03T11:27:53.574893",
     "status": "completed"
    },
    "tags": []
   },
   "outputs": [
    {
     "name": "stdout",
     "output_type": "stream",
     "text": [
      "(401059, 55)\n"
     ]
    },
    {
     "data": {
      "text/html": [
       "<div>\n",
       "<style scoped>\n",
       "    .dataframe tbody tr th:only-of-type {\n",
       "        vertical-align: middle;\n",
       "    }\n",
       "\n",
       "    .dataframe tbody tr th {\n",
       "        vertical-align: top;\n",
       "    }\n",
       "\n",
       "    .dataframe thead th {\n",
       "        text-align: right;\n",
       "    }\n",
       "</style>\n",
       "<table border=\"1\" class=\"dataframe\">\n",
       "  <thead>\n",
       "    <tr style=\"text-align: right;\">\n",
       "      <th></th>\n",
       "      <th>isic_id</th>\n",
       "      <th>target</th>\n",
       "      <th>patient_id</th>\n",
       "      <th>age_approx</th>\n",
       "      <th>sex</th>\n",
       "      <th>anatom_site_general</th>\n",
       "      <th>clin_size_long_diam_mm</th>\n",
       "      <th>image_type</th>\n",
       "      <th>tbp_tile_type</th>\n",
       "      <th>tbp_lv_A</th>\n",
       "      <th>...</th>\n",
       "      <th>iddx_full</th>\n",
       "      <th>iddx_1</th>\n",
       "      <th>iddx_2</th>\n",
       "      <th>iddx_3</th>\n",
       "      <th>iddx_4</th>\n",
       "      <th>iddx_5</th>\n",
       "      <th>mel_mitotic_index</th>\n",
       "      <th>mel_thick_mm</th>\n",
       "      <th>tbp_lv_dnn_lesion_confidence</th>\n",
       "      <th>file_path</th>\n",
       "    </tr>\n",
       "  </thead>\n",
       "  <tbody>\n",
       "    <tr>\n",
       "      <th>0</th>\n",
       "      <td>ISIC_0015670</td>\n",
       "      <td>0</td>\n",
       "      <td>IP_1235828</td>\n",
       "      <td>60.0</td>\n",
       "      <td>male</td>\n",
       "      <td>lower extremity</td>\n",
       "      <td>3.04</td>\n",
       "      <td>TBP tile: close-up</td>\n",
       "      <td>3D: white</td>\n",
       "      <td>20.244422</td>\n",
       "      <td>...</td>\n",
       "      <td>Benign</td>\n",
       "      <td>Benign</td>\n",
       "      <td>NaN</td>\n",
       "      <td>NaN</td>\n",
       "      <td>NaN</td>\n",
       "      <td>NaN</td>\n",
       "      <td>NaN</td>\n",
       "      <td>NaN</td>\n",
       "      <td>97.517282</td>\n",
       "      <td>../raw/train-image/image/ISIC_0015670.jpg</td>\n",
       "    </tr>\n",
       "    <tr>\n",
       "      <th>1</th>\n",
       "      <td>ISIC_0015845</td>\n",
       "      <td>0</td>\n",
       "      <td>IP_8170065</td>\n",
       "      <td>60.0</td>\n",
       "      <td>male</td>\n",
       "      <td>head/neck</td>\n",
       "      <td>1.10</td>\n",
       "      <td>TBP tile: close-up</td>\n",
       "      <td>3D: white</td>\n",
       "      <td>31.712570</td>\n",
       "      <td>...</td>\n",
       "      <td>Benign</td>\n",
       "      <td>Benign</td>\n",
       "      <td>NaN</td>\n",
       "      <td>NaN</td>\n",
       "      <td>NaN</td>\n",
       "      <td>NaN</td>\n",
       "      <td>NaN</td>\n",
       "      <td>NaN</td>\n",
       "      <td>3.141455</td>\n",
       "      <td>../raw/train-image/image/ISIC_0015845.jpg</td>\n",
       "    </tr>\n",
       "    <tr>\n",
       "      <th>2</th>\n",
       "      <td>ISIC_0015864</td>\n",
       "      <td>0</td>\n",
       "      <td>IP_6724798</td>\n",
       "      <td>60.0</td>\n",
       "      <td>male</td>\n",
       "      <td>posterior torso</td>\n",
       "      <td>3.40</td>\n",
       "      <td>TBP tile: close-up</td>\n",
       "      <td>3D: XP</td>\n",
       "      <td>22.575830</td>\n",
       "      <td>...</td>\n",
       "      <td>Benign</td>\n",
       "      <td>Benign</td>\n",
       "      <td>NaN</td>\n",
       "      <td>NaN</td>\n",
       "      <td>NaN</td>\n",
       "      <td>NaN</td>\n",
       "      <td>NaN</td>\n",
       "      <td>NaN</td>\n",
       "      <td>99.804040</td>\n",
       "      <td>../raw/train-image/image/ISIC_0015864.jpg</td>\n",
       "    </tr>\n",
       "    <tr>\n",
       "      <th>3</th>\n",
       "      <td>ISIC_0015902</td>\n",
       "      <td>0</td>\n",
       "      <td>IP_4111386</td>\n",
       "      <td>65.0</td>\n",
       "      <td>male</td>\n",
       "      <td>anterior torso</td>\n",
       "      <td>3.22</td>\n",
       "      <td>TBP tile: close-up</td>\n",
       "      <td>3D: XP</td>\n",
       "      <td>14.242329</td>\n",
       "      <td>...</td>\n",
       "      <td>Benign</td>\n",
       "      <td>Benign</td>\n",
       "      <td>NaN</td>\n",
       "      <td>NaN</td>\n",
       "      <td>NaN</td>\n",
       "      <td>NaN</td>\n",
       "      <td>NaN</td>\n",
       "      <td>NaN</td>\n",
       "      <td>99.989998</td>\n",
       "      <td>../raw/train-image/image/ISIC_0015902.jpg</td>\n",
       "    </tr>\n",
       "    <tr>\n",
       "      <th>4</th>\n",
       "      <td>ISIC_0024200</td>\n",
       "      <td>0</td>\n",
       "      <td>IP_8313778</td>\n",
       "      <td>55.0</td>\n",
       "      <td>male</td>\n",
       "      <td>anterior torso</td>\n",
       "      <td>2.73</td>\n",
       "      <td>TBP tile: close-up</td>\n",
       "      <td>3D: white</td>\n",
       "      <td>24.725520</td>\n",
       "      <td>...</td>\n",
       "      <td>Benign</td>\n",
       "      <td>Benign</td>\n",
       "      <td>NaN</td>\n",
       "      <td>NaN</td>\n",
       "      <td>NaN</td>\n",
       "      <td>NaN</td>\n",
       "      <td>NaN</td>\n",
       "      <td>NaN</td>\n",
       "      <td>70.442510</td>\n",
       "      <td>../raw/train-image/image/ISIC_0024200.jpg</td>\n",
       "    </tr>\n",
       "    <tr>\n",
       "      <th>...</th>\n",
       "      <td>...</td>\n",
       "      <td>...</td>\n",
       "      <td>...</td>\n",
       "      <td>...</td>\n",
       "      <td>...</td>\n",
       "      <td>...</td>\n",
       "      <td>...</td>\n",
       "      <td>...</td>\n",
       "      <td>...</td>\n",
       "      <td>...</td>\n",
       "      <td>...</td>\n",
       "      <td>...</td>\n",
       "      <td>...</td>\n",
       "      <td>...</td>\n",
       "      <td>...</td>\n",
       "      <td>...</td>\n",
       "      <td>...</td>\n",
       "      <td>...</td>\n",
       "      <td>...</td>\n",
       "      <td>...</td>\n",
       "      <td>...</td>\n",
       "    </tr>\n",
       "    <tr>\n",
       "      <th>401054</th>\n",
       "      <td>ISIC_9999937</td>\n",
       "      <td>0</td>\n",
       "      <td>IP_1140263</td>\n",
       "      <td>70.0</td>\n",
       "      <td>male</td>\n",
       "      <td>anterior torso</td>\n",
       "      <td>6.80</td>\n",
       "      <td>TBP tile: close-up</td>\n",
       "      <td>3D: XP</td>\n",
       "      <td>22.574335</td>\n",
       "      <td>...</td>\n",
       "      <td>Benign</td>\n",
       "      <td>Benign</td>\n",
       "      <td>NaN</td>\n",
       "      <td>NaN</td>\n",
       "      <td>NaN</td>\n",
       "      <td>NaN</td>\n",
       "      <td>NaN</td>\n",
       "      <td>NaN</td>\n",
       "      <td>99.999988</td>\n",
       "      <td>../raw/train-image/image/ISIC_9999937.jpg</td>\n",
       "    </tr>\n",
       "    <tr>\n",
       "      <th>401055</th>\n",
       "      <td>ISIC_9999951</td>\n",
       "      <td>0</td>\n",
       "      <td>IP_5678181</td>\n",
       "      <td>60.0</td>\n",
       "      <td>male</td>\n",
       "      <td>posterior torso</td>\n",
       "      <td>3.11</td>\n",
       "      <td>TBP tile: close-up</td>\n",
       "      <td>3D: white</td>\n",
       "      <td>19.977640</td>\n",
       "      <td>...</td>\n",
       "      <td>Benign</td>\n",
       "      <td>Benign</td>\n",
       "      <td>NaN</td>\n",
       "      <td>NaN</td>\n",
       "      <td>NaN</td>\n",
       "      <td>NaN</td>\n",
       "      <td>NaN</td>\n",
       "      <td>NaN</td>\n",
       "      <td>99.999820</td>\n",
       "      <td>../raw/train-image/image/ISIC_9999951.jpg</td>\n",
       "    </tr>\n",
       "    <tr>\n",
       "      <th>401056</th>\n",
       "      <td>ISIC_9999960</td>\n",
       "      <td>0</td>\n",
       "      <td>IP_0076153</td>\n",
       "      <td>65.0</td>\n",
       "      <td>female</td>\n",
       "      <td>anterior torso</td>\n",
       "      <td>2.05</td>\n",
       "      <td>TBP tile: close-up</td>\n",
       "      <td>3D: XP</td>\n",
       "      <td>17.332567</td>\n",
       "      <td>...</td>\n",
       "      <td>Benign</td>\n",
       "      <td>Benign</td>\n",
       "      <td>NaN</td>\n",
       "      <td>NaN</td>\n",
       "      <td>NaN</td>\n",
       "      <td>NaN</td>\n",
       "      <td>NaN</td>\n",
       "      <td>NaN</td>\n",
       "      <td>99.999416</td>\n",
       "      <td>../raw/train-image/image/ISIC_9999960.jpg</td>\n",
       "    </tr>\n",
       "    <tr>\n",
       "      <th>401057</th>\n",
       "      <td>ISIC_9999964</td>\n",
       "      <td>0</td>\n",
       "      <td>IP_5231513</td>\n",
       "      <td>30.0</td>\n",
       "      <td>female</td>\n",
       "      <td>anterior torso</td>\n",
       "      <td>2.80</td>\n",
       "      <td>TBP tile: close-up</td>\n",
       "      <td>3D: XP</td>\n",
       "      <td>22.288570</td>\n",
       "      <td>...</td>\n",
       "      <td>Benign</td>\n",
       "      <td>Benign</td>\n",
       "      <td>NaN</td>\n",
       "      <td>NaN</td>\n",
       "      <td>NaN</td>\n",
       "      <td>NaN</td>\n",
       "      <td>NaN</td>\n",
       "      <td>NaN</td>\n",
       "      <td>100.000000</td>\n",
       "      <td>../raw/train-image/image/ISIC_9999964.jpg</td>\n",
       "    </tr>\n",
       "    <tr>\n",
       "      <th>401058</th>\n",
       "      <td>ISIC_9999967</td>\n",
       "      <td>0</td>\n",
       "      <td>IP_6426047</td>\n",
       "      <td>50.0</td>\n",
       "      <td>male</td>\n",
       "      <td>lower extremity</td>\n",
       "      <td>3.30</td>\n",
       "      <td>TBP tile: close-up</td>\n",
       "      <td>3D: XP</td>\n",
       "      <td>16.792900</td>\n",
       "      <td>...</td>\n",
       "      <td>Benign</td>\n",
       "      <td>Benign</td>\n",
       "      <td>NaN</td>\n",
       "      <td>NaN</td>\n",
       "      <td>NaN</td>\n",
       "      <td>NaN</td>\n",
       "      <td>NaN</td>\n",
       "      <td>NaN</td>\n",
       "      <td>99.999960</td>\n",
       "      <td>../raw/train-image/image/ISIC_9999967.jpg</td>\n",
       "    </tr>\n",
       "  </tbody>\n",
       "</table>\n",
       "<p>401059 rows × 56 columns</p>\n",
       "</div>"
      ],
      "text/plain": [
       "             isic_id  target  patient_id  age_approx     sex  \\\n",
       "0       ISIC_0015670       0  IP_1235828        60.0    male   \n",
       "1       ISIC_0015845       0  IP_8170065        60.0    male   \n",
       "2       ISIC_0015864       0  IP_6724798        60.0    male   \n",
       "3       ISIC_0015902       0  IP_4111386        65.0    male   \n",
       "4       ISIC_0024200       0  IP_8313778        55.0    male   \n",
       "...              ...     ...         ...         ...     ...   \n",
       "401054  ISIC_9999937       0  IP_1140263        70.0    male   \n",
       "401055  ISIC_9999951       0  IP_5678181        60.0    male   \n",
       "401056  ISIC_9999960       0  IP_0076153        65.0  female   \n",
       "401057  ISIC_9999964       0  IP_5231513        30.0  female   \n",
       "401058  ISIC_9999967       0  IP_6426047        50.0    male   \n",
       "\n",
       "       anatom_site_general  clin_size_long_diam_mm          image_type  \\\n",
       "0          lower extremity                    3.04  TBP tile: close-up   \n",
       "1                head/neck                    1.10  TBP tile: close-up   \n",
       "2          posterior torso                    3.40  TBP tile: close-up   \n",
       "3           anterior torso                    3.22  TBP tile: close-up   \n",
       "4           anterior torso                    2.73  TBP tile: close-up   \n",
       "...                    ...                     ...                 ...   \n",
       "401054      anterior torso                    6.80  TBP tile: close-up   \n",
       "401055     posterior torso                    3.11  TBP tile: close-up   \n",
       "401056      anterior torso                    2.05  TBP tile: close-up   \n",
       "401057      anterior torso                    2.80  TBP tile: close-up   \n",
       "401058     lower extremity                    3.30  TBP tile: close-up   \n",
       "\n",
       "       tbp_tile_type   tbp_lv_A  ...  iddx_full  iddx_1  iddx_2  iddx_3  \\\n",
       "0          3D: white  20.244422  ...     Benign  Benign     NaN     NaN   \n",
       "1          3D: white  31.712570  ...     Benign  Benign     NaN     NaN   \n",
       "2             3D: XP  22.575830  ...     Benign  Benign     NaN     NaN   \n",
       "3             3D: XP  14.242329  ...     Benign  Benign     NaN     NaN   \n",
       "4          3D: white  24.725520  ...     Benign  Benign     NaN     NaN   \n",
       "...              ...        ...  ...        ...     ...     ...     ...   \n",
       "401054        3D: XP  22.574335  ...     Benign  Benign     NaN     NaN   \n",
       "401055     3D: white  19.977640  ...     Benign  Benign     NaN     NaN   \n",
       "401056        3D: XP  17.332567  ...     Benign  Benign     NaN     NaN   \n",
       "401057        3D: XP  22.288570  ...     Benign  Benign     NaN     NaN   \n",
       "401058        3D: XP  16.792900  ...     Benign  Benign     NaN     NaN   \n",
       "\n",
       "        iddx_4  iddx_5  mel_mitotic_index  mel_thick_mm  \\\n",
       "0          NaN     NaN                NaN           NaN   \n",
       "1          NaN     NaN                NaN           NaN   \n",
       "2          NaN     NaN                NaN           NaN   \n",
       "3          NaN     NaN                NaN           NaN   \n",
       "4          NaN     NaN                NaN           NaN   \n",
       "...        ...     ...                ...           ...   \n",
       "401054     NaN     NaN                NaN           NaN   \n",
       "401055     NaN     NaN                NaN           NaN   \n",
       "401056     NaN     NaN                NaN           NaN   \n",
       "401057     NaN     NaN                NaN           NaN   \n",
       "401058     NaN     NaN                NaN           NaN   \n",
       "\n",
       "        tbp_lv_dnn_lesion_confidence  \\\n",
       "0                          97.517282   \n",
       "1                           3.141455   \n",
       "2                          99.804040   \n",
       "3                          99.989998   \n",
       "4                          70.442510   \n",
       "...                              ...   \n",
       "401054                     99.999988   \n",
       "401055                     99.999820   \n",
       "401056                     99.999416   \n",
       "401057                    100.000000   \n",
       "401058                     99.999960   \n",
       "\n",
       "                                        file_path  \n",
       "0       ../raw/train-image/image/ISIC_0015670.jpg  \n",
       "1       ../raw/train-image/image/ISIC_0015845.jpg  \n",
       "2       ../raw/train-image/image/ISIC_0015864.jpg  \n",
       "3       ../raw/train-image/image/ISIC_0015902.jpg  \n",
       "4       ../raw/train-image/image/ISIC_0024200.jpg  \n",
       "...                                           ...  \n",
       "401054  ../raw/train-image/image/ISIC_9999937.jpg  \n",
       "401055  ../raw/train-image/image/ISIC_9999951.jpg  \n",
       "401056  ../raw/train-image/image/ISIC_9999960.jpg  \n",
       "401057  ../raw/train-image/image/ISIC_9999964.jpg  \n",
       "401058  ../raw/train-image/image/ISIC_9999967.jpg  \n",
       "\n",
       "[401059 rows x 56 columns]"
      ]
     },
     "execution_count": 9,
     "metadata": {},
     "output_type": "execute_result"
    }
   ],
   "source": [
    "df = pd.read_csv(f\"{ROOT_DIR}/train-metadata.csv\")\n",
    "print(df.shape)\n",
    "df['file_path'] = df['isic_id'].apply(get_train_file_path)\n",
    "df = df[ df[\"file_path\"].isin(train_images) ].reset_index(drop=True)\n",
    "df"
   ]
  },
  {
   "cell_type": "code",
   "execution_count": 10,
   "id": "6db9a0ba",
   "metadata": {},
   "outputs": [
    {
     "data": {
      "text/html": [
       "<div>\n",
       "<style scoped>\n",
       "    .dataframe tbody tr th:only-of-type {\n",
       "        vertical-align: middle;\n",
       "    }\n",
       "\n",
       "    .dataframe tbody tr th {\n",
       "        vertical-align: top;\n",
       "    }\n",
       "\n",
       "    .dataframe thead th {\n",
       "        text-align: right;\n",
       "    }\n",
       "</style>\n",
       "<table border=\"1\" class=\"dataframe\">\n",
       "  <thead>\n",
       "    <tr style=\"text-align: right;\">\n",
       "      <th></th>\n",
       "      <th>patient_id</th>\n",
       "      <th>count_per_patient</th>\n",
       "    </tr>\n",
       "  </thead>\n",
       "  <tbody>\n",
       "    <tr>\n",
       "      <th>0</th>\n",
       "      <td>IP_5792391</td>\n",
       "      <td>1</td>\n",
       "    </tr>\n",
       "    <tr>\n",
       "      <th>1</th>\n",
       "      <td>IP_1487179</td>\n",
       "      <td>1</td>\n",
       "    </tr>\n",
       "  </tbody>\n",
       "</table>\n",
       "</div>"
      ],
      "text/plain": [
       "   patient_id  count_per_patient\n",
       "0  IP_5792391                  1\n",
       "1  IP_1487179                  1"
      ]
     },
     "execution_count": 10,
     "metadata": {},
     "output_type": "execute_result"
    }
   ],
   "source": [
    "df_patient = df.groupby(\"patient_id\")[[\"isic_id\"]].agg(\n",
    "    count_per_patient=(\"isic_id\", \"count\"), \n",
    ").sort_values(by=\"count_per_patient\").reset_index()\n",
    "df_patient.head(2)"
   ]
  },
  {
   "cell_type": "code",
   "execution_count": 11,
   "id": "c5b786f4",
   "metadata": {},
   "outputs": [
    {
     "data": {
      "text/plain": [
       "(401059, 393)"
      ]
     },
     "execution_count": 11,
     "metadata": {},
     "output_type": "execute_result"
    }
   ],
   "source": [
    "df = df.merge(df_patient, on=\"patient_id\", how=\"left\")\n",
    "df.shape[0], df.target.sum()"
   ]
  },
  {
   "cell_type": "code",
   "execution_count": 12,
   "id": "013cd69c",
   "metadata": {
    "execution": {
     "iopub.execute_input": "2024-08-03T11:28:01.762226Z",
     "iopub.status.busy": "2024-08-03T11:28:01.761517Z",
     "iopub.status.idle": "2024-08-03T11:28:01.767649Z",
     "shell.execute_reply": "2024-08-03T11:28:01.766935Z"
    },
    "papermill": {
     "duration": 0.023878,
     "end_time": "2024-08-03T11:28:01.769506",
     "exception": false,
     "start_time": "2024-08-03T11:28:01.745628",
     "status": "completed"
    },
    "tags": []
   },
   "outputs": [
    {
     "data": {
      "text/plain": [
       "(401059, 393)"
      ]
     },
     "execution_count": 12,
     "metadata": {},
     "output_type": "execute_result"
    }
   ],
   "source": [
    "df.shape[0], df.target.sum()"
   ]
  },
  {
   "cell_type": "markdown",
   "id": "561d0151",
   "metadata": {
    "papermill": {
     "duration": 0.014872,
     "end_time": "2024-08-03T11:28:01.835619",
     "exception": false,
     "start_time": "2024-08-03T11:28:01.820747",
     "status": "completed"
    },
    "tags": []
   },
   "source": [
    "# <span><h1 style = \"font-family: garamond; font-size: 40px; font-style: normal; letter-spcaing: 3px; background-color: #f6f5f5; color :#fe346e; border-radius: 100px 100px; text-align:center\">Create Folds</h1></span>"
   ]
  },
  {
   "cell_type": "code",
   "execution_count": 13,
   "id": "84a1417e",
   "metadata": {
    "execution": {
     "iopub.execute_input": "2024-08-03T11:28:01.866585Z",
     "iopub.status.busy": "2024-08-03T11:28:01.866313Z",
     "iopub.status.idle": "2024-08-03T11:28:04.760208Z",
     "shell.execute_reply": "2024-08-03T11:28:04.759287Z"
    },
    "papermill": {
     "duration": 2.911893,
     "end_time": "2024-08-03T11:28:04.762481",
     "exception": false,
     "start_time": "2024-08-03T11:28:01.850588",
     "status": "completed"
    },
    "tags": []
   },
   "outputs": [
    {
     "data": {
      "text/html": [
       "<div>\n",
       "<style scoped>\n",
       "    .dataframe tbody tr th:only-of-type {\n",
       "        vertical-align: middle;\n",
       "    }\n",
       "\n",
       "    .dataframe tbody tr th {\n",
       "        vertical-align: top;\n",
       "    }\n",
       "\n",
       "    .dataframe thead th {\n",
       "        text-align: right;\n",
       "    }\n",
       "</style>\n",
       "<table border=\"1\" class=\"dataframe\">\n",
       "  <thead>\n",
       "    <tr style=\"text-align: right;\">\n",
       "      <th></th>\n",
       "      <th>isic_id</th>\n",
       "      <th>kfold</th>\n",
       "    </tr>\n",
       "  </thead>\n",
       "  <tbody>\n",
       "    <tr>\n",
       "      <th>0</th>\n",
       "      <td>ISIC_0015670</td>\n",
       "      <td>4.0</td>\n",
       "    </tr>\n",
       "    <tr>\n",
       "      <th>1</th>\n",
       "      <td>ISIC_0015845</td>\n",
       "      <td>2.0</td>\n",
       "    </tr>\n",
       "    <tr>\n",
       "      <th>2</th>\n",
       "      <td>ISIC_0015864</td>\n",
       "      <td>1.0</td>\n",
       "    </tr>\n",
       "    <tr>\n",
       "      <th>3</th>\n",
       "      <td>ISIC_0015902</td>\n",
       "      <td>2.0</td>\n",
       "    </tr>\n",
       "    <tr>\n",
       "      <th>4</th>\n",
       "      <td>ISIC_0024200</td>\n",
       "      <td>1.0</td>\n",
       "    </tr>\n",
       "    <tr>\n",
       "      <th>...</th>\n",
       "      <td>...</td>\n",
       "      <td>...</td>\n",
       "    </tr>\n",
       "    <tr>\n",
       "      <th>401054</th>\n",
       "      <td>ISIC_9999937</td>\n",
       "      <td>1.0</td>\n",
       "    </tr>\n",
       "    <tr>\n",
       "      <th>401055</th>\n",
       "      <td>ISIC_9999951</td>\n",
       "      <td>3.0</td>\n",
       "    </tr>\n",
       "    <tr>\n",
       "      <th>401056</th>\n",
       "      <td>ISIC_9999960</td>\n",
       "      <td>0.0</td>\n",
       "    </tr>\n",
       "    <tr>\n",
       "      <th>401057</th>\n",
       "      <td>ISIC_9999964</td>\n",
       "      <td>2.0</td>\n",
       "    </tr>\n",
       "    <tr>\n",
       "      <th>401058</th>\n",
       "      <td>ISIC_9999967</td>\n",
       "      <td>3.0</td>\n",
       "    </tr>\n",
       "  </tbody>\n",
       "</table>\n",
       "<p>401059 rows × 2 columns</p>\n",
       "</div>"
      ],
      "text/plain": [
       "             isic_id  kfold\n",
       "0       ISIC_0015670    4.0\n",
       "1       ISIC_0015845    2.0\n",
       "2       ISIC_0015864    1.0\n",
       "3       ISIC_0015902    2.0\n",
       "4       ISIC_0024200    1.0\n",
       "...              ...    ...\n",
       "401054  ISIC_9999937    1.0\n",
       "401055  ISIC_9999951    3.0\n",
       "401056  ISIC_9999960    0.0\n",
       "401057  ISIC_9999964    2.0\n",
       "401058  ISIC_9999967    3.0\n",
       "\n",
       "[401059 rows x 2 columns]"
      ]
     },
     "execution_count": 13,
     "metadata": {},
     "output_type": "execute_result"
    }
   ],
   "source": [
    "sgkf = StratifiedGroupKFold(n_splits=CONFIG['n_fold'], shuffle=True, random_state=0)\n",
    "\n",
    "for fold, ( _, val_) in enumerate(sgkf.split(df, df.target, df.patient_id)):\n",
    "      df.loc[val_ , \"kfold\"] = int(fold)\n",
    "        \n",
    "# df[[\"isic_id\", \"kfold\"]].to_csv(\"df_fold.csv\", index=False)\n",
    "df[[\"isic_id\", \"kfold\"]]"
   ]
  },
  {
   "cell_type": "code",
   "execution_count": 14,
   "id": "c3f2b0ef",
   "metadata": {},
   "outputs": [
    {
     "name": "stdout",
     "output_type": "stream",
     "text": [
      "393\n",
      "593\n"
     ]
    }
   ],
   "source": [
    "print(df[\"target\"].sum())\n",
    "cols_pos = [\n",
    "    'ISIC_5518264',\n",
    "    'ISIC_2008771',\n",
    "    'ISIC_0107943',\n",
    "    'ISIC_3400253',\n",
    "    'ISIC_6468722',\n",
    "    'ISIC_0940056',\n",
    "    'ISIC_8626891',\n",
    "    'ISIC_2122753',\n",
    "    'ISIC_4173597',\n",
    "    'ISIC_5219286',\n",
    "    'ISIC_4087330',\n",
    "    'ISIC_8849663',\n",
    "    'ISIC_0173889',\n",
    "    'ISIC_9203388',\n",
    "    'ISIC_6507009',\n",
    "    'ISIC_7590216',\n",
    "    'ISIC_7032512',\n",
    "    'ISIC_7561558',\n",
    "    'ISIC_7257077',\n",
    "    'ISIC_8481333',\n",
    "    'ISIC_0718349',\n",
    "    'ISIC_7073762',\n",
    "    'ISIC_4559359',\n",
    "    'ISIC_1879424',\n",
    "    'ISIC_6402332',\n",
    "    'ISIC_4966073',\n",
    "    'ISIC_7453281',\n",
    "    'ISIC_8176994',\n",
    "    'ISIC_1753955',\n",
    "    'ISIC_7406213',\n",
    "    'ISIC_5885005',\n",
    "    'ISIC_3506622',\n",
    "    'ISIC_4180089',\n",
    "    'ISIC_6058837',\n",
    "    'ISIC_8503864',\n",
    "    'ISIC_7681571',\n",
    "    'ISIC_3678352',\n",
    "    'ISIC_2716711',\n",
    "    'ISIC_1795825',\n",
    "    'ISIC_1636324',\n",
    "    'ISIC_6782197',\n",
    "    'ISIC_3902575',\n",
    "    'ISIC_7086834',\n",
    "    'ISIC_7050655',\n",
    "    'ISIC_0472484',\n",
    "    'ISIC_9689059',\n",
    "    'ISIC_7801895',\n",
    "    'ISIC_2085558',\n",
    "    'ISIC_1828316',\n",
    "    'ISIC_6240034',\n",
    "    'ISIC_9146872',\n",
    "    'ISIC_5361150',\n",
    "    'ISIC_7436637',\n",
    "    'ISIC_1948223',\n",
    "    'ISIC_0932118',\n",
    "    'ISIC_8277996',\n",
    "    'ISIC_8939581',\n",
    "    'ISIC_0967190',\n",
    "    'ISIC_2221374',\n",
    "    'ISIC_6931419',\n",
    "    'ISIC_5678980',\n",
    "    'ISIC_6348374',\n",
    "    'ISIC_8696844',\n",
    "    'ISIC_9368520',\n",
    "    'ISIC_6087072',\n",
    "    'ISIC_5940288',\n",
    "    'ISIC_4616252',\n",
    "    'ISIC_8820942',\n",
    "    'ISIC_5056174',\n",
    "    'ISIC_8996327',\n",
    "    'ISIC_5574285',\n",
    "    'ISIC_3418189',\n",
    "    'ISIC_8516842',\n",
    "    'ISIC_5734453',\n",
    "    'ISIC_5444768',\n",
    "    'ISIC_4944542',\n",
    "    'ISIC_8688899',\n",
    "    'ISIC_3530806',\n",
    "    'ISIC_4224542',\n",
    "    'ISIC_9720183',\n",
    "    'ISIC_7114844',\n",
    "    'ISIC_1459374',\n",
    "    'ISIC_1752095',\n",
    "    'ISIC_8797926',\n",
    "    'ISIC_5301714',\n",
    "    'ISIC_4629715',\n",
    "    'ISIC_2972523',\n",
    "    'ISIC_6163825',\n",
    "    'ISIC_3976425',\n",
    "    'ISIC_7611479',\n",
    "    'ISIC_2871853',\n",
    "    'ISIC_6800695',\n",
    "    'ISIC_9081793',\n",
    "    'ISIC_2933421',\n",
    "    'ISIC_8695576',\n",
    "    'ISIC_0704755',\n",
    "    'ISIC_3815659',\n",
    "    'ISIC_9834289',\n",
    "    'ISIC_0377274',\n",
    "    'ISIC_4526825',\n",
    "    'ISIC_8297496',\n",
    "    'ISIC_5456926',\n",
    "    'ISIC_2444245',\n",
    "    'ISIC_6346300',\n",
    "    'ISIC_4478794',\n",
    "    'ISIC_4581581',\n",
    "    'ISIC_6913761',\n",
    "    'ISIC_3420650',\n",
    "    'ISIC_8659663',\n",
    "    'ISIC_9783183',\n",
    "    'ISIC_1967528',\n",
    "    'ISIC_9015553',\n",
    "    'ISIC_1825785',\n",
    "    'ISIC_9873073',\n",
    "    'ISIC_3408909',\n",
    "    'ISIC_2194880',\n",
    "    'ISIC_4563936',\n",
    "    'ISIC_9758154',\n",
    "    'ISIC_9325482',\n",
    "    'ISIC_5033087',\n",
    "    'ISIC_6658007',\n",
    "    'ISIC_4597546',\n",
    "    'ISIC_3427672',\n",
    "    'ISIC_5896728',\n",
    "    'ISIC_2510305',\n",
    "    'ISIC_4465292',\n",
    "    'ISIC_9923515',\n",
    "    'ISIC_8744037',\n",
    "    'ISIC_5756321',\n",
    "    'ISIC_5820851',\n",
    "    'ISIC_4685649',\n",
    "    'ISIC_7686886',\n",
    "    'ISIC_2624879',\n",
    "    'ISIC_1215450',\n",
    "    'ISIC_1110208',\n",
    "    'ISIC_3327285',\n",
    "    'ISIC_8013573',\n",
    "    'ISIC_9034396',\n",
    "    'ISIC_2174953',\n",
    "    'ISIC_2938080',\n",
    "    'ISIC_1504781',\n",
    "    'ISIC_7009513',\n",
    "    'ISIC_0493373',\n",
    "    'ISIC_1764886',\n",
    "    'ISIC_1464154',\n",
    "    'ISIC_0392047',\n",
    "    'ISIC_3086424',\n",
    "    'ISIC_1535063',\n",
    "    'ISIC_3388796',\n",
    "    'ISIC_8031362',\n",
    "    'ISIC_2036691',\n",
    "    'ISIC_8290600',\n",
    "    'ISIC_7208251',\n",
    "    'ISIC_3539750',\n",
    "    'ISIC_2920305',\n",
    "    'ISIC_5061228',\n",
    "    'ISIC_4905269',\n",
    "    'ISIC_6678031',\n",
    "    'ISIC_7343022',\n",
    "    'ISIC_7769815',\n",
    "    'ISIC_1976646',\n",
    "    'ISIC_1483099',\n",
    "    'ISIC_1862557',\n",
    "    'ISIC_7058606',\n",
    "    'ISIC_6618102',\n",
    "    'ISIC_8612102',\n",
    "    'ISIC_9246981',\n",
    "    'ISIC_9828567',\n",
    "    'ISIC_2116022',\n",
    "    'ISIC_4259356',\n",
    "    'ISIC_4322900',\n",
    "    'ISIC_0584682',\n",
    "    'ISIC_8230285',\n",
    "    'ISIC_0432088',\n",
    "    'ISIC_1411822',\n",
    "    'ISIC_0824663',\n",
    "    'ISIC_2347724',\n",
    "    'ISIC_7922458',\n",
    "    'ISIC_9664961',\n",
    "    'ISIC_2516455',\n",
    "    'ISIC_9389521',\n",
    "    'ISIC_1262019',\n",
    "    'ISIC_1862475',\n",
    "    'ISIC_8167488',\n",
    "    'ISIC_4126899',\n",
    "    'ISIC_8979666',\n",
    "    'ISIC_7992260',\n",
    "    'ISIC_2865725',\n",
    "    'ISIC_1583457',\n",
    "    'ISIC_9066911',\n",
    "    'ISIC_2295901',\n",
    "    'ISIC_4187658',\n",
    "    'ISIC_9195989',\n",
    "    'ISIC_6563912',\n",
    "    'ISIC_0809631',\n",
    "    'ISIC_2470540',\n",
    "    'ISIC_4932158',\n",
    "    'ISIC_5353496',\n",
    "    'ISIC_1471931',\n",
    "    'ISIC_7806351'\n",
    "]\n",
    "\n",
    "df[\"target_original\"] = df[\"target\"]\n",
    "df.loc[df[\"isic_id\"].isin(cols_pos), \"target\"] = 1\n",
    "print(df[\"target\"].sum())"
   ]
  },
  {
   "cell_type": "markdown",
   "id": "bb8dc293",
   "metadata": {
    "papermill": {
     "duration": 0.015096,
     "end_time": "2024-08-03T11:28:04.793797",
     "exception": false,
     "start_time": "2024-08-03T11:28:04.778701",
     "status": "completed"
    },
    "tags": []
   },
   "source": [
    "# <span><h1 style = \"font-family: garamond; font-size: 40px; font-style: normal; letter-spcaing: 3px; background-color: #f6f5f5; color :#fe346e; border-radius: 100px 100px; text-align:center\">Dataset Class</h1></span>"
   ]
  },
  {
   "cell_type": "code",
   "execution_count": 15,
   "id": "375a56c1",
   "metadata": {
    "execution": {
     "iopub.execute_input": "2024-08-03T11:28:04.825932Z",
     "iopub.status.busy": "2024-08-03T11:28:04.825247Z",
     "iopub.status.idle": "2024-08-03T11:28:04.837789Z",
     "shell.execute_reply": "2024-08-03T11:28:04.836967Z"
    },
    "papermill": {
     "duration": 0.030647,
     "end_time": "2024-08-03T11:28:04.839661",
     "exception": false,
     "start_time": "2024-08-03T11:28:04.809014",
     "status": "completed"
    },
    "tags": []
   },
   "outputs": [],
   "source": [
    "class ISICDataset_for_Train(Dataset):\n",
    "    def __init__(self, df, transforms=None):\n",
    "        self.df_positive = df[df[\"target\"] == 1].reset_index()\n",
    "        self.df_negative = df[df[\"target\"] == 0].reset_index()\n",
    "        self.file_names_positive = self.df_positive['file_path'].values\n",
    "        self.file_names_negative = self.df_negative['file_path'].values\n",
    "        self.targets_positive = self.df_positive['target'].values\n",
    "        self.targets_negative = self.df_negative['target'].values\n",
    "        self.transforms = transforms\n",
    "        \n",
    "    def __len__(self):\n",
    "        return len(self.df_positive) * 2\n",
    "    \n",
    "    def __getitem__(self, index):\n",
    "        if random.random() >= 0.5:\n",
    "            df = self.df_positive\n",
    "            file_names = self.file_names_positive\n",
    "            targets = self.targets_positive\n",
    "        else:\n",
    "            df = self.df_negative\n",
    "            file_names = self.file_names_negative\n",
    "            targets = self.targets_negative\n",
    "        index = index % df.shape[0]\n",
    "        \n",
    "        img_path = file_names[index]\n",
    "        img = cv2.imread(img_path)\n",
    "        img = cv2.cvtColor(img, cv2.COLOR_BGR2RGB)\n",
    "        target = targets[index]\n",
    "        \n",
    "        if self.transforms:\n",
    "            img = self.transforms(image=img)[\"image\"]\n",
    "            \n",
    "        return {\n",
    "            'image': img,\n",
    "            'target': target\n",
    "        }\n",
    "\n",
    "class ISICDataset(Dataset):\n",
    "    def __init__(self, df, transforms=None):\n",
    "        self.df = df\n",
    "        self.file_names = df['file_path'].values\n",
    "        self.targets = df['target'].values\n",
    "        self.transforms = transforms\n",
    "        \n",
    "    def __len__(self):\n",
    "        return len(self.df)\n",
    "    \n",
    "    def __getitem__(self, index):\n",
    "        img_path = self.file_names[index]\n",
    "        img = cv2.imread(img_path)\n",
    "        img = cv2.cvtColor(img, cv2.COLOR_BGR2RGB)\n",
    "        target = self.targets[index]\n",
    "        \n",
    "        if self.transforms:\n",
    "            img = self.transforms(image=img)[\"image\"]\n",
    "            \n",
    "        return {\n",
    "            'image': img,\n",
    "            'target': target\n",
    "        }"
   ]
  },
  {
   "cell_type": "markdown",
   "id": "d34a7709",
   "metadata": {
    "papermill": {
     "duration": 0.015241,
     "end_time": "2024-08-03T11:28:04.870256",
     "exception": false,
     "start_time": "2024-08-03T11:28:04.855015",
     "status": "completed"
    },
    "tags": []
   },
   "source": [
    "# <span><h1 style = \"font-family: garamond; font-size: 40px; font-style: normal; letter-spcaing: 3px; background-color: #f6f5f5; color :#fe346e; border-radius: 100px 100px; text-align:center\">Augmentations</h1></span>"
   ]
  },
  {
   "cell_type": "code",
   "execution_count": 16,
   "id": "d21d5001",
   "metadata": {},
   "outputs": [],
   "source": [
    "# Mixupを行う関数を追加\n",
    "def mixup(x: torch.Tensor, y: torch.Tensor, alpha: float = 0.4):\n",
    "    assert alpha > 0, \"alpha should be larger than 0\"\n",
    "    assert x.size(0) > 1, \"Batch size should be larger than 1\"\n",
    "\n",
    "    lam = np.random.beta(alpha, alpha)\n",
    "    rand_index = torch.randperm(x.size()[0])\n",
    "    mixed_x = lam * x + (1 - lam) * x[rand_index, :]\n",
    "    target_a, target_b = y, y[rand_index]\n",
    "    return mixed_x, target_a, target_b, lam"
   ]
  },
  {
   "cell_type": "code",
   "execution_count": 17,
   "id": "0d4c8098",
   "metadata": {
    "execution": {
     "iopub.execute_input": "2024-08-03T11:28:04.902245Z",
     "iopub.status.busy": "2024-08-03T11:28:04.901951Z",
     "iopub.status.idle": "2024-08-03T11:28:04.910761Z",
     "shell.execute_reply": "2024-08-03T11:28:04.909940Z"
    },
    "papermill": {
     "duration": 0.026706,
     "end_time": "2024-08-03T11:28:04.912624",
     "exception": false,
     "start_time": "2024-08-03T11:28:04.885918",
     "status": "completed"
    },
    "tags": []
   },
   "outputs": [],
   "source": [
    "data_transforms = {\n",
    "    \"train\": A.Compose([\n",
    "        A.Resize(CONFIG['img_size'], CONFIG['img_size']),\n",
    "        A.RandomRotate90(p=0.5),\n",
    "        A.Flip(p=0.5),\n",
    "        A.Downscale(p=0.25),\n",
    "        A.ShiftScaleRotate(shift_limit=0.1, \n",
    "                           scale_limit=0.15, \n",
    "                           rotate_limit=60, \n",
    "                           p=0.5),\n",
    "        A.HueSaturationValue(\n",
    "                hue_shift_limit=0.2, \n",
    "                sat_shift_limit=0.2, \n",
    "                val_shift_limit=0.2, \n",
    "                p=0.5\n",
    "            ),\n",
    "        A.RandomBrightnessContrast(\n",
    "                brightness_limit=(-0.1,0.1), \n",
    "                contrast_limit=(-0.1, 0.1), \n",
    "                p=0.5\n",
    "            ),\n",
    "        A.Normalize(\n",
    "                mean=[0.485, 0.456, 0.406], \n",
    "                std=[0.229, 0.224, 0.225], \n",
    "                max_pixel_value=255.0, \n",
    "                p=1.0\n",
    "            ),\n",
    "        ToTensorV2()], p=1.),\n",
    "    \n",
    "    \"valid\": A.Compose([\n",
    "        A.Resize(CONFIG['img_size'], CONFIG['img_size']),\n",
    "        A.Normalize(\n",
    "                mean=[0.485, 0.456, 0.406], \n",
    "                std=[0.229, 0.224, 0.225], \n",
    "                max_pixel_value=255.0, \n",
    "                p=1.0\n",
    "            ),\n",
    "        ToTensorV2()], p=1.)\n",
    "}"
   ]
  },
  {
   "cell_type": "markdown",
   "id": "66346540",
   "metadata": {
    "papermill": {
     "duration": 0.054133,
     "end_time": "2024-08-03T11:28:04.982208",
     "exception": false,
     "start_time": "2024-08-03T11:28:04.928075",
     "status": "completed"
    },
    "tags": []
   },
   "source": [
    "# <span><h1 style = \"font-family: garamond; font-size: 40px; font-style: normal; letter-spcaing: 3px; background-color: #f6f5f5; color :#fe346e; border-radius: 100px 100px; text-align:center\">GeM Pooling</h1></span>"
   ]
  },
  {
   "cell_type": "code",
   "execution_count": 18,
   "id": "47d952e1",
   "metadata": {
    "execution": {
     "iopub.execute_input": "2024-08-03T11:28:05.014269Z",
     "iopub.status.busy": "2024-08-03T11:28:05.013910Z",
     "iopub.status.idle": "2024-08-03T11:28:05.021473Z",
     "shell.execute_reply": "2024-08-03T11:28:05.020611Z"
    },
    "papermill": {
     "duration": 0.02579,
     "end_time": "2024-08-03T11:28:05.023334",
     "exception": false,
     "start_time": "2024-08-03T11:28:04.997544",
     "status": "completed"
    },
    "tags": []
   },
   "outputs": [],
   "source": [
    "class GeM(nn.Module):\n",
    "    def __init__(self, p=3, eps=1e-6):\n",
    "        super(GeM, self).__init__()\n",
    "        self.p = nn.Parameter(torch.ones(1)*p)\n",
    "        self.eps = eps\n",
    "\n",
    "    def forward(self, x):\n",
    "        # xの次元数が4（バッチ、チャネル、高さ、幅）であることを確認\n",
    "        if x.dim() != 4:\n",
    "            raise ValueError(f'Expected 4D input (got {x.dim()}D input)')\n",
    "        return self.gem(x, p=self.p, eps=self.eps)\n",
    "        \n",
    "    def gem(self, x, p=3, eps=1e-6):\n",
    "        return F.avg_pool2d(x.clamp(min=eps).pow(p), (x.size(-2), x.size(-1))).pow(1./p)\n",
    "        \n",
    "    def __repr__(self):\n",
    "        return self.__class__.__name__ + \\\n",
    "                '(' + 'p=' + '{:.4f}'.format(self.p.data.tolist()[0]) + \\\n",
    "                ', ' + 'eps=' + str(self.eps) + ')'"
   ]
  },
  {
   "cell_type": "markdown",
   "id": "c6f8a4bf",
   "metadata": {
    "papermill": {
     "duration": 0.015161,
     "end_time": "2024-08-03T11:28:05.053813",
     "exception": false,
     "start_time": "2024-08-03T11:28:05.038652",
     "status": "completed"
    },
    "tags": []
   },
   "source": [
    "# <span><h1 style = \"font-family: garamond; font-size: 40px; font-style: normal; letter-spcaing: 3px; background-color: #f6f5f5; color :#fe346e; border-radius: 100px 100px; text-align:center\">Create Model</h1></span>"
   ]
  },
  {
   "cell_type": "code",
   "execution_count": 19,
   "id": "52e19a9b",
   "metadata": {
    "execution": {
     "iopub.execute_input": "2024-08-03T11:28:05.085426Z",
     "iopub.status.busy": "2024-08-03T11:28:05.085174Z",
     "iopub.status.idle": "2024-08-03T11:28:05.092235Z",
     "shell.execute_reply": "2024-08-03T11:28:05.091434Z"
    },
    "papermill": {
     "duration": 0.025077,
     "end_time": "2024-08-03T11:28:05.094158",
     "exception": false,
     "start_time": "2024-08-03T11:28:05.069081",
     "status": "completed"
    },
    "tags": []
   },
   "outputs": [],
   "source": [
    "class ISICModel(nn.Module):\n",
    "    def __init__(self, model_name, num_classes=1, pretrained=True, checkpoint_path=None, dropout_rate=CONFIG['dropout_rate']):\n",
    "        super(ISICModel, self).__init__()\n",
    "        self.model = timm.create_model(model_name, pretrained=pretrained, num_classes=num_classes)\n",
    "\n",
    "        # モデルの出力サイズを取得\n",
    "        if hasattr(self.model, 'num_features'):\n",
    "            in_features = self.model.num_features  # num_featuresで取得するモデルが多い\n",
    "        elif hasattr(self.model, 'classifier') and hasattr(self.model.classifier, 'in_features'):\n",
    "            in_features = self.model.classifier.in_features  # classifierが存在する場合\n",
    "        elif hasattr(self.model, 'fc') and hasattr(self.model.fc, 'in_features'):\n",
    "            in_features = self.model.fc.in_features  # fcが存在する場合\n",
    "        else:\n",
    "            raise AttributeError(\"Could not find the output feature size.\")\n",
    "\n",
    "        # モデルのヘッド部分をIdentityで置き換え\n",
    "        self.model.reset_classifier(0)  # timmで全結合層をリセットする簡単な方法\n",
    "\n",
    "        # カスタム層\n",
    "        self.pooling = GeM()\n",
    "        self.dropout = nn.Dropout(dropout_rate)\n",
    "        self.linear = nn.Linear(in_features, num_classes)\n",
    "        self.sigmoid = nn.Sigmoid()\n",
    "\n",
    "    def forward(self, images):\n",
    "        features = self.model.forward_features(images)  # ここを変更\n",
    "        pooled_features = self.pooling(features).flatten(1)\n",
    "        dropped_features = self.dropout(pooled_features)\n",
    "        output = self.sigmoid(self.linear(dropped_features))\n",
    "        return output\n"
   ]
  },
  {
   "cell_type": "markdown",
   "id": "cdf5204a",
   "metadata": {
    "papermill": {
     "duration": 0.015472,
     "end_time": "2024-08-03T11:28:05.124849",
     "exception": false,
     "start_time": "2024-08-03T11:28:05.109377",
     "status": "completed"
    },
    "tags": []
   },
   "source": [
    "# <span><h1 style = \"font-family: garamond; font-size: 40px; font-style: normal; letter-spcaing: 3px; background-color: #f6f5f5; color :#fe346e; border-radius: 100px 100px; text-align:center\">Loss Function</h1></span>"
   ]
  },
  {
   "cell_type": "code",
   "execution_count": 20,
   "id": "c25f4ac6",
   "metadata": {
    "execution": {
     "iopub.execute_input": "2024-08-03T11:28:05.156842Z",
     "iopub.status.busy": "2024-08-03T11:28:05.156560Z",
     "iopub.status.idle": "2024-08-03T11:28:05.160848Z",
     "shell.execute_reply": "2024-08-03T11:28:05.159769Z"
    },
    "papermill": {
     "duration": 0.022538,
     "end_time": "2024-08-03T11:28:05.162710",
     "exception": false,
     "start_time": "2024-08-03T11:28:05.140172",
     "status": "completed"
    },
    "tags": []
   },
   "outputs": [],
   "source": [
    "def criterion(outputs, targets):\n",
    "    return nn.BCELoss()(outputs, targets)\n",
    "#     return nn.CrossEntropyLoss()(outputs, targets) "
   ]
  },
  {
   "cell_type": "markdown",
   "id": "03ac7888",
   "metadata": {
    "papermill": {
     "duration": 0.015327,
     "end_time": "2024-08-03T11:28:05.193462",
     "exception": false,
     "start_time": "2024-08-03T11:28:05.178135",
     "status": "completed"
    },
    "tags": []
   },
   "source": [
    "# <span><h1 style = \"font-family: garamond; font-size: 40px; font-style: normal; letter-spcaing: 3px; background-color: #f6f5f5; color :#fe346e; border-radius: 100px 100px; text-align:center\">Training Function</h1></span>"
   ]
  },
  {
   "cell_type": "code",
   "execution_count": 21,
   "id": "d663497f",
   "metadata": {
    "execution": {
     "iopub.execute_input": "2024-08-03T11:28:05.225013Z",
     "iopub.status.busy": "2024-08-03T11:28:05.224714Z",
     "iopub.status.idle": "2024-08-03T11:28:05.230523Z",
     "shell.execute_reply": "2024-08-03T11:28:05.229673Z"
    },
    "papermill": {
     "duration": 0.023777,
     "end_time": "2024-08-03T11:28:05.232475",
     "exception": false,
     "start_time": "2024-08-03T11:28:05.208698",
     "status": "completed"
    },
    "tags": []
   },
   "outputs": [],
   "source": [
    "def comp_score_list(solution: list, submission: list, min_tpr: float=0.80):\n",
    "    v_gt = np.abs(np.array(solution)-1)\n",
    "    v_pred = np.array([1.0 - x for x in submission])\n",
    "    max_fpr = abs(1-min_tpr)\n",
    "    partial_auc_scaled = roc_auc_score(v_gt, v_pred, max_fpr=max_fpr)\n",
    "    # change scale from [0.5, 1.0] to [0.5 * max_fpr**2, max_fpr]\n",
    "    # https://math.stackexchange.com/questions/914823/shift-numbers-into-a-different-range\n",
    "    partial_auc = 0.5 * max_fpr**2 + (max_fpr - 0.5 * max_fpr**2) / (1.0 - 0.5) * (partial_auc_scaled - 0.5)\n",
    "    return partial_auc"
   ]
  },
  {
   "cell_type": "code",
   "execution_count": 22,
   "id": "80d1c10f",
   "metadata": {
    "execution": {
     "iopub.execute_input": "2024-08-03T11:28:05.264227Z",
     "iopub.status.busy": "2024-08-03T11:28:05.263976Z",
     "iopub.status.idle": "2024-08-03T11:28:05.274188Z",
     "shell.execute_reply": "2024-08-03T11:28:05.273355Z"
    },
    "papermill": {
     "duration": 0.028273,
     "end_time": "2024-08-03T11:28:05.276048",
     "exception": false,
     "start_time": "2024-08-03T11:28:05.247775",
     "status": "completed"
    },
    "tags": []
   },
   "outputs": [],
   "source": [
    "def train_one_epoch(model, optimizer, scheduler, dataloader, device, epoch):\n",
    "    model.train()\n",
    "    \n",
    "    dataset_size = 0\n",
    "    running_loss = 0.0\n",
    "    \n",
    "    bar = tqdm(enumerate(dataloader), total=len(dataloader))\n",
    "    for step, data in bar:\n",
    "        images = data['image'].to(device, dtype=torch.float)\n",
    "        targets = data['target'].to(device, dtype=torch.float)\n",
    "        \n",
    "        batch_size = images.size(0)\n",
    "        \n",
    "        # Mixupを設定されたエポック数まで適用\n",
    "        if epoch <= CONFIG['mixup_epochs']:\n",
    "            mixed_images, targets_a, targets_b, lam = mixup(images, targets, alpha=CONFIG['mixup_alpha'])\n",
    "            outputs = model(mixed_images).squeeze()\n",
    "            loss = lam * criterion(outputs, targets_a) + (1 - lam) * criterion(outputs, targets_b)\n",
    "        else:\n",
    "            outputs = model(images).squeeze()\n",
    "            loss = criterion(outputs, targets)\n",
    "            \n",
    "        loss = loss / CONFIG['n_accumulate']\n",
    "            \n",
    "        loss.backward()\n",
    "    \n",
    "        if (step + 1) % CONFIG['n_accumulate'] == 0:\n",
    "            optimizer.step()\n",
    "\n",
    "            # zero the parameter gradients\n",
    "            optimizer.zero_grad()\n",
    "\n",
    "            if scheduler is not None:\n",
    "                scheduler.step()\n",
    "        \n",
    "        running_loss += (loss.item() * batch_size)\n",
    "        dataset_size += batch_size\n",
    "        \n",
    "        epoch_loss = running_loss / dataset_size\n",
    "        \n",
    "        bar.set_postfix(Epoch=epoch, Train_Loss=epoch_loss,\n",
    "                        LR=optimizer.param_groups[0]['lr'])\n",
    "    \n",
    "    gc.collect()\n",
    "    \n",
    "    return epoch_loss"
   ]
  },
  {
   "cell_type": "markdown",
   "id": "46689b26",
   "metadata": {
    "papermill": {
     "duration": 0.015334,
     "end_time": "2024-08-03T11:28:05.306685",
     "exception": false,
     "start_time": "2024-08-03T11:28:05.291351",
     "status": "completed"
    },
    "tags": []
   },
   "source": [
    "# <span><h1 style = \"font-family: garamond; font-size: 40px; font-style: normal; letter-spcaing: 3px; background-color: #f6f5f5; color :#fe346e; border-radius: 100px 100px; text-align:center\">Validation Function</h1></span>"
   ]
  },
  {
   "cell_type": "code",
   "execution_count": 23,
   "id": "3db198c8",
   "metadata": {
    "execution": {
     "iopub.execute_input": "2024-08-03T11:28:05.339023Z",
     "iopub.status.busy": "2024-08-03T11:28:05.338480Z",
     "iopub.status.idle": "2024-08-03T11:28:05.347576Z",
     "shell.execute_reply": "2024-08-03T11:28:05.346751Z"
    },
    "papermill": {
     "duration": 0.027246,
     "end_time": "2024-08-03T11:28:05.349380",
     "exception": false,
     "start_time": "2024-08-03T11:28:05.322134",
     "status": "completed"
    },
    "tags": []
   },
   "outputs": [],
   "source": [
    "@torch.inference_mode()\n",
    "def valid_one_epoch(model, dataloader, device, epoch):\n",
    "    model.eval()\n",
    "    \n",
    "    dataset_size = 0\n",
    "    running_loss = 0.0\n",
    "    running_auroc = 0.0\n",
    "    \n",
    "    # TTAのためのカウンター\n",
    "    tta_counter = 0\n",
    "    \n",
    "    # TTAのための関数を定義\n",
    "    def apply_tta(model, image):\n",
    "        outputs = []\n",
    "        \n",
    "        # オリジナル画像\n",
    "        outputs.append(model(image).squeeze())\n",
    "        \n",
    "        # 水平フリップ\n",
    "        outputs.append(model(torch.flip(image, dims=[3])).squeeze())\n",
    "        \n",
    "        # 垂直フリップ\n",
    "        outputs.append(model(torch.flip(image, dims=[2])).squeeze())\n",
    "        \n",
    "        # 90度、180度、270度回転\n",
    "        for k in [1, 2, 3]:\n",
    "            outputs.append(model(torch.rot90(image, k, dims=[2,3])).squeeze())\n",
    "        \n",
    "        return torch.stack(outputs).mean(dim=0)\n",
    "    \n",
    "    all_outputs = []\n",
    "    all_targets = []\n",
    "    \n",
    "    bar = tqdm(enumerate(dataloader), total=len(dataloader))\n",
    "    for step, data in bar:        \n",
    "        images = data['image'].to(device, dtype=torch.float)\n",
    "        targets = data['target'].to(device, dtype=torch.float)\n",
    "        \n",
    "        batch_size = images.size(0)\n",
    "\n",
    "        if CONFIG['use_tta']:\n",
    "            outputs = apply_tta(model, images).squeeze()\n",
    "        else:\n",
    "            outputs = model(images).squeeze()\n",
    "        loss = criterion(outputs, targets)\n",
    "        \n",
    "        all_outputs.extend(outputs.detach().cpu().numpy().flatten())  # 確率に変換して蓄積\n",
    "        all_targets.extend(targets.detach().cpu().numpy().flatten())  # ラベルを蓄積\n",
    "\n",
    "#         auroc = binary_auroc(input=outputs.squeeze(), target=targets).item()\n",
    "        running_loss += (loss.item() * batch_size)\n",
    "#         running_auroc  += (auroc * batch_size)\n",
    "        dataset_size += batch_size\n",
    "        \n",
    "        epoch_loss = running_loss / dataset_size\n",
    "#         epoch_auroc = running_auroc / dataset_size\n",
    "        \n",
    "        bar.set_postfix(Epoch=epoch, Valid_Loss=epoch_loss, \n",
    "                        LR=optimizer.param_groups[0]['lr'])   \n",
    "    \n",
    "    # epoch毎にauroc算出\n",
    "    epoch_auroc = comp_score_list(all_targets, all_outputs)\n",
    "    \n",
    "    gc.collect()\n",
    "    \n",
    "    return epoch_loss, epoch_auroc, all_outputs"
   ]
  },
  {
   "cell_type": "markdown",
   "id": "a8da5eda",
   "metadata": {
    "papermill": {
     "duration": 0.015163,
     "end_time": "2024-08-03T11:28:05.379846",
     "exception": false,
     "start_time": "2024-08-03T11:28:05.364683",
     "status": "completed"
    },
    "tags": []
   },
   "source": [
    "# <span><h1 style = \"font-family: garamond; font-size: 40px; font-style: normal; letter-spcaing: 3px; background-color: #f6f5f5; color :#fe346e; border-radius: 100px 100px; text-align:center\">Run Training</h1></span>"
   ]
  },
  {
   "cell_type": "code",
   "execution_count": 24,
   "id": "aeeaf279",
   "metadata": {
    "execution": {
     "iopub.execute_input": "2024-08-03T11:28:05.412103Z",
     "iopub.status.busy": "2024-08-03T11:28:05.411666Z",
     "iopub.status.idle": "2024-08-03T11:28:05.424650Z",
     "shell.execute_reply": "2024-08-03T11:28:05.423825Z"
    },
    "papermill": {
     "duration": 0.031221,
     "end_time": "2024-08-03T11:28:05.426654",
     "exception": false,
     "start_time": "2024-08-03T11:28:05.395433",
     "status": "completed"
    },
    "tags": []
   },
   "outputs": [],
   "source": [
    "def run_training(model, optimizer, scheduler, device, num_epochs, fold):\n",
    "    if torch.cuda.is_available():\n",
    "        print(\"[INFO] Using GPU: {}\\n\".format(torch.cuda.get_device_name()))\n",
    "    \n",
    "    start = time.time()\n",
    "    best_model_wts = copy.deepcopy(model.state_dict())\n",
    "    best_epoch_auroc = -np.inf\n",
    "    history = defaultdict(list)\n",
    "    save_dir = CONFIG[\"save_model_dir\"]\n",
    "    df_best_pred = df.loc[df[\"kfold\"]==fold, [\"isic_id\", \"target\"]]\n",
    "    PATH_BEST = None\n",
    "    \n",
    "    for epoch in range(1, num_epochs + 1): \n",
    "        gc.collect()\n",
    "        train_epoch_loss = train_one_epoch(model, optimizer, scheduler, \n",
    "                                           dataloader=train_loader, \n",
    "                                           device=CONFIG['device'], epoch=epoch)\n",
    "        \n",
    "        val_epoch_loss, val_epoch_auroc, outputs_np = valid_one_epoch(\n",
    "            model, \n",
    "            valid_loader, \n",
    "            device=CONFIG['device'], \n",
    "            epoch=epoch\n",
    "        )\n",
    "    \n",
    "        history['Train Loss'].append(train_epoch_loss)\n",
    "        history['Valid Loss'].append(val_epoch_loss)\n",
    "        history['Valid AUROC'].append(val_epoch_auroc)\n",
    "        history['lr'].append(scheduler.get_last_lr()[0])\n",
    "        \n",
    "        # deep copy the model\n",
    "        if best_epoch_auroc <= val_epoch_auroc:\n",
    "            print(f\"{b_}Validation AUROC Improved ({best_epoch_auroc:.5f} ---> {val_epoch_auroc:.5f})\")\n",
    "            best_epoch_auroc = val_epoch_auroc\n",
    "            best_model_wts = copy.deepcopy(model.state_dict())\n",
    "            PATH_BEST = \"{}/fold{}_pAUC{:.4f}_epoch{:.0f}.bin\".format(CONFIG[\"save_model_dir\"], fold, val_epoch_auroc, epoch)\n",
    "\n",
    "        else:\n",
    "            print(f\"Validation pAUC80 not Improved ({val_epoch_auroc:.5f})\")\n",
    "\n",
    "        print()\n",
    "    \n",
    "    end = time.time()\n",
    "    time_elapsed = end - start\n",
    "    print('Training complete in {:.0f}h {:.0f}m {:.0f}s'.format(\n",
    "        time_elapsed // 3600, (time_elapsed % 3600) // 60, (time_elapsed % 3600) % 60))\n",
    "    print(\"Best AUROC: {:.4f}\".format(best_epoch_auroc))\n",
    "    \n",
    "    if CONFIG['save_model']:\n",
    "        # ベストのモデルを保存する\n",
    "        if PATH_BEST is not None:\n",
    "            torch.save(best_model_wts, PATH_BEST)\n",
    "    \n",
    "        # 最後のモデルを保存する\n",
    "        # PATH = \"{}/pAUC{:.4f}_Loss{:.4f}_epoch{:.0f}.bin\".format(CONFIG[\"save_model_dir\"], val_epoch_auroc, val_epoch_loss, epoch)\n",
    "        # torch.save(model.state_dict(), PATH)\n",
    "    \n",
    "    return model, history"
   ]
  },
  {
   "cell_type": "code",
   "execution_count": 25,
   "id": "4c894488",
   "metadata": {
    "execution": {
     "iopub.execute_input": "2024-08-03T11:28:05.458938Z",
     "iopub.status.busy": "2024-08-03T11:28:05.458291Z",
     "iopub.status.idle": "2024-08-03T11:28:05.463712Z",
     "shell.execute_reply": "2024-08-03T11:28:05.462920Z"
    },
    "papermill": {
     "duration": 0.023591,
     "end_time": "2024-08-03T11:28:05.465446",
     "exception": false,
     "start_time": "2024-08-03T11:28:05.441855",
     "status": "completed"
    },
    "tags": []
   },
   "outputs": [],
   "source": [
    "class WarmupScheduler:\n",
    "    def __init__(self, optimizer, warmup_steps, warmup_factor, base_scheduler):\n",
    "        self.optimizer = optimizer\n",
    "        self.warmup_steps = warmup_steps\n",
    "        self.warmup_factor = warmup_factor\n",
    "        self.base_scheduler = base_scheduler\n",
    "        self.current_step = 0\n",
    "\n",
    "    def step(self):\n",
    "        self.current_step += 1\n",
    "        if self.current_step < self.warmup_steps:\n",
    "            lr_scale = self.warmup_factor + (1 - self.warmup_factor) * (self.current_step / self.warmup_steps)\n",
    "            for param_group in self.optimizer.param_groups:\n",
    "                param_group['lr'] = lr_scale * param_group['initial_lr']\n",
    "        else:\n",
    "            self.base_scheduler.step()\n",
    "\n",
    "    def get_last_lr(self):\n",
    "        if self.current_step < self.warmup_steps:\n",
    "            lr_scale = self.warmup_factor + (1 - self.warmup_factor) * (self.current_step / self.warmup_steps)\n",
    "            return [lr_scale * param_group['initial_lr'] for param_group in self.optimizer.param_groups]\n",
    "        else:\n",
    "            return self.base_scheduler.get_last_lr()\n",
    "\n",
    "def fetch_scheduler(optimizer, T_max=None):\n",
    "    if CONFIG['scheduler'] == 'CosineAnnealingLR':\n",
    "        base_scheduler = lr_scheduler.CosineAnnealingLR(optimizer, T_max=T_max, eta_min=CONFIG['min_lr'])\n",
    "    elif CONFIG['scheduler'] == 'CosineAnnealingWarmRestarts':\n",
    "        base_scheduler = lr_scheduler.CosineAnnealingWarmRestarts(optimizer, T_0=CONFIG['T_0'], eta_min=CONFIG['min_lr'])\n",
    "    elif CONFIG['scheduler'] == None:\n",
    "        return None\n",
    "\n",
    "    return WarmupScheduler(optimizer, CONFIG['warmup_steps'], CONFIG['warmup_factor'], base_scheduler)\n"
   ]
  },
  {
   "cell_type": "code",
   "execution_count": 26,
   "id": "8d53d7a3",
   "metadata": {
    "execution": {
     "iopub.execute_input": "2024-08-03T11:28:05.497363Z",
     "iopub.status.busy": "2024-08-03T11:28:05.497124Z",
     "iopub.status.idle": "2024-08-03T11:28:05.503173Z",
     "shell.execute_reply": "2024-08-03T11:28:05.502432Z"
    },
    "papermill": {
     "duration": 0.024204,
     "end_time": "2024-08-03T11:28:05.504940",
     "exception": false,
     "start_time": "2024-08-03T11:28:05.480736",
     "status": "completed"
    },
    "tags": []
   },
   "outputs": [],
   "source": [
    "def prepare_loaders(df, fold):\n",
    "    df_train = df[df.kfold != fold].reset_index(drop=True)\n",
    "    df_valid = df[df.kfold == fold].reset_index(drop=True)\n",
    "    \n",
    "    train_dataset = ISICDataset_for_Train(df_train, transforms=data_transforms[\"train\"])\n",
    "    valid_dataset = ISICDataset(df_valid, transforms=data_transforms[\"valid\"])\n",
    "\n",
    "    train_loader = DataLoader(train_dataset, batch_size=CONFIG['train_batch_size'], \n",
    "                              num_workers=2, shuffle=True, pin_memory=True, drop_last=True)\n",
    "    valid_loader = DataLoader(valid_dataset, batch_size=CONFIG['valid_batch_size'], \n",
    "                              num_workers=2, shuffle=False, pin_memory=True)\n",
    "    \n",
    "    return train_loader, valid_loader"
   ]
  },
  {
   "cell_type": "markdown",
   "id": "dac15007",
   "metadata": {
    "papermill": {
     "duration": 0.015388,
     "end_time": "2024-08-03T11:28:05.535742",
     "exception": false,
     "start_time": "2024-08-03T11:28:05.520354",
     "status": "completed"
    },
    "tags": []
   },
   "source": [
    "# CV"
   ]
  },
  {
   "cell_type": "code",
   "execution_count": 27,
   "id": "e9855d2c",
   "metadata": {
    "execution": {
     "iopub.execute_input": "2024-08-03T11:28:05.567513Z",
     "iopub.status.busy": "2024-08-03T11:28:05.567243Z",
     "iopub.status.idle": "2024-08-03T11:28:22.193655Z",
     "shell.execute_reply": "2024-08-03T11:28:22.192720Z"
    },
    "papermill": {
     "duration": 16.644865,
     "end_time": "2024-08-03T11:28:22.195974",
     "exception": false,
     "start_time": "2024-08-03T11:28:05.551109",
     "status": "completed"
    },
    "tags": []
   },
   "outputs": [],
   "source": [
    "# wandbの初期化\n",
    "if WANDB:\n",
    "    wandb_config = {\n",
    "        # ... 既存の設定 ...\n",
    "        \"epochs\": CONFIG['epochs'],\n",
    "        \"learning_rate\": CONFIG['learning_rate'],\n",
    "        \"min_lr\": CONFIG[\"min_lr\"],\n",
    "        \"weight_decay\": CONFIG[\"weight_decay\"],\n",
    "        \"mixup_alpha\": CONFIG[\"mixup_alpha\"],\n",
    "        \"mixup_epochs\": CONFIG[\"mixup_epochs\"],  # 新しく追加\n",
    "    }\n",
    "    wandb.init(project=\"ISIC2024_images\", name=EXP_NAME, config=wandb_config)"
   ]
  },
  {
   "cell_type": "code",
   "execution_count": 28,
   "id": "6aa10e24",
   "metadata": {
    "execution": {
     "iopub.execute_input": "2024-08-03T11:28:22.229731Z",
     "iopub.status.busy": "2024-08-03T11:28:22.229444Z",
     "iopub.status.idle": "2024-08-03T12:31:30.939006Z",
     "shell.execute_reply": "2024-08-03T12:31:30.937574Z"
    },
    "papermill": {
     "duration": 3788.728657,
     "end_time": "2024-08-03T12:31:30.941160",
     "exception": false,
     "start_time": "2024-08-03T11:28:22.212503",
     "status": "completed"
    },
    "tags": []
   },
   "outputs": [
    {
     "name": "stdout",
     "output_type": "stream",
     "text": [
      "==============================\n",
      "fold 0\n",
      "==============================\n"
     ]
    },
    {
     "name": "stdout",
     "output_type": "stream",
     "text": [
      "●train\n",
      "original> (306580, 59) 480 (835,)\n",
      "filtered> (10080, 59) 480 (792,)\n",
      "●val\n",
      "original> (94479, 59) 73 (207,)\n",
      "filtered> (1533, 59) 73 (180,)\n",
      "[INFO] Using GPU: NVIDIA GeForce RTX 4090\n",
      "\n"
     ]
    },
    {
     "name": "stderr",
     "output_type": "stream",
     "text": [
      "100%|██████████| 15/15 [00:05<00:00,  2.87it/s, Epoch=1, LR=1.06e-5, Train_Loss=0.885]\n",
      "100%|██████████| 12/12 [00:01<00:00,  6.07it/s, Epoch=1, LR=1.06e-5, Valid_Loss=0.698]\n"
     ]
    },
    {
     "name": "stdout",
     "output_type": "stream",
     "text": [
      "\u001b[34mValidation AUROC Improved (-inf ---> 0.04130)\n",
      "\n"
     ]
    },
    {
     "name": "stderr",
     "output_type": "stream",
     "text": [
      "100%|██████████| 15/15 [00:04<00:00,  3.29it/s, Epoch=2, LR=2.04e-5, Train_Loss=0.705]\n",
      "100%|██████████| 12/12 [00:01<00:00,  7.15it/s, Epoch=2, LR=2.04e-5, Valid_Loss=0.474]\n"
     ]
    },
    {
     "name": "stdout",
     "output_type": "stream",
     "text": [
      "\u001b[34mValidation AUROC Improved (0.04130 ---> 0.06947)\n",
      "\n"
     ]
    },
    {
     "name": "stderr",
     "output_type": "stream",
     "text": [
      "100%|██████████| 15/15 [00:04<00:00,  3.28it/s, Epoch=3, LR=3.02e-5, Train_Loss=0.61] \n",
      "100%|██████████| 12/12 [00:01<00:00,  7.12it/s, Epoch=3, LR=3.02e-5, Valid_Loss=0.292]\n"
     ]
    },
    {
     "name": "stdout",
     "output_type": "stream",
     "text": [
      "\u001b[34mValidation AUROC Improved (0.06947 ---> 0.09137)\n",
      "\n"
     ]
    },
    {
     "name": "stderr",
     "output_type": "stream",
     "text": [
      "100%|██████████| 15/15 [00:04<00:00,  3.26it/s, Epoch=4, LR=3.93e-5, Train_Loss=0.503]\n",
      "100%|██████████| 12/12 [00:01<00:00,  7.15it/s, Epoch=4, LR=3.93e-5, Valid_Loss=0.486]\n"
     ]
    },
    {
     "name": "stdout",
     "output_type": "stream",
     "text": [
      "\u001b[34mValidation AUROC Improved (0.09137 ---> 0.10362)\n",
      "\n"
     ]
    },
    {
     "name": "stderr",
     "output_type": "stream",
     "text": [
      "100%|██████████| 15/15 [00:04<00:00,  3.27it/s, Epoch=5, LR=3.92e-5, Train_Loss=0.52] \n",
      "100%|██████████| 12/12 [00:01<00:00,  7.13it/s, Epoch=5, LR=3.92e-5, Valid_Loss=0.386]\n"
     ]
    },
    {
     "name": "stdout",
     "output_type": "stream",
     "text": [
      "\u001b[34mValidation AUROC Improved (0.10362 ---> 0.11974)\n",
      "\n"
     ]
    },
    {
     "name": "stderr",
     "output_type": "stream",
     "text": [
      "100%|██████████| 15/15 [00:04<00:00,  3.33it/s, Epoch=6, LR=3.87e-5, Train_Loss=0.396]\n",
      "100%|██████████| 12/12 [00:01<00:00,  7.20it/s, Epoch=6, LR=3.87e-5, Valid_Loss=0.347]\n"
     ]
    },
    {
     "name": "stdout",
     "output_type": "stream",
     "text": [
      "\u001b[34mValidation AUROC Improved (0.11974 ---> 0.12780)\n",
      "\n"
     ]
    },
    {
     "name": "stderr",
     "output_type": "stream",
     "text": [
      "100%|██████████| 15/15 [00:04<00:00,  3.29it/s, Epoch=7, LR=3.8e-5, Train_Loss=0.43]  \n",
      "100%|██████████| 12/12 [00:01<00:00,  7.10it/s, Epoch=7, LR=3.8e-5, Valid_Loss=0.294]\n"
     ]
    },
    {
     "name": "stdout",
     "output_type": "stream",
     "text": [
      "\u001b[34mValidation AUROC Improved (0.12780 ---> 0.13002)\n",
      "\n"
     ]
    },
    {
     "name": "stderr",
     "output_type": "stream",
     "text": [
      "100%|██████████| 15/15 [00:04<00:00,  3.26it/s, Epoch=8, LR=3.7e-5, Train_Loss=0.46]  \n",
      "100%|██████████| 12/12 [00:01<00:00,  7.08it/s, Epoch=8, LR=3.7e-5, Valid_Loss=0.369]\n"
     ]
    },
    {
     "name": "stdout",
     "output_type": "stream",
     "text": [
      "\u001b[34mValidation AUROC Improved (0.13002 ---> 0.13479)\n",
      "\n"
     ]
    },
    {
     "name": "stderr",
     "output_type": "stream",
     "text": [
      "100%|██████████| 15/15 [00:04<00:00,  3.25it/s, Epoch=9, LR=3.58e-5, Train_Loss=0.41] \n",
      "100%|██████████| 12/12 [00:01<00:00,  7.22it/s, Epoch=9, LR=3.58e-5, Valid_Loss=0.254]\n"
     ]
    },
    {
     "name": "stdout",
     "output_type": "stream",
     "text": [
      "Validation pAUC80 not Improved (0.13349)\n",
      "\n"
     ]
    },
    {
     "name": "stderr",
     "output_type": "stream",
     "text": [
      "100%|██████████| 15/15 [00:04<00:00,  3.26it/s, Epoch=10, LR=3.43e-5, Train_Loss=0.414]\n",
      "100%|██████████| 12/12 [00:01<00:00,  7.23it/s, Epoch=10, LR=3.43e-5, Valid_Loss=0.202]\n"
     ]
    },
    {
     "name": "stdout",
     "output_type": "stream",
     "text": [
      "Validation pAUC80 not Improved (0.12691)\n",
      "\n"
     ]
    },
    {
     "name": "stderr",
     "output_type": "stream",
     "text": [
      "100%|██████████| 15/15 [00:04<00:00,  3.28it/s, Epoch=11, LR=3.26e-5, Train_Loss=0.393]\n",
      "100%|██████████| 12/12 [00:01<00:00,  7.12it/s, Epoch=11, LR=3.26e-5, Valid_Loss=0.287]\n"
     ]
    },
    {
     "name": "stdout",
     "output_type": "stream",
     "text": [
      "\u001b[34mValidation AUROC Improved (0.13479 ---> 0.13569)\n",
      "\n"
     ]
    },
    {
     "name": "stderr",
     "output_type": "stream",
     "text": [
      "100%|██████████| 15/15 [00:04<00:00,  3.24it/s, Epoch=12, LR=3.07e-5, Train_Loss=0.364]\n",
      "100%|██████████| 12/12 [00:01<00:00,  7.26it/s, Epoch=12, LR=3.07e-5, Valid_Loss=0.194]\n"
     ]
    },
    {
     "name": "stdout",
     "output_type": "stream",
     "text": [
      "\u001b[34mValidation AUROC Improved (0.13569 ---> 0.14248)\n",
      "\n"
     ]
    },
    {
     "name": "stderr",
     "output_type": "stream",
     "text": [
      "100%|██████████| 15/15 [00:04<00:00,  3.29it/s, Epoch=13, LR=2.87e-5, Train_Loss=0.334]\n",
      "100%|██████████| 12/12 [00:01<00:00,  7.11it/s, Epoch=13, LR=2.87e-5, Valid_Loss=0.189]\n"
     ]
    },
    {
     "name": "stdout",
     "output_type": "stream",
     "text": [
      "Validation pAUC80 not Improved (0.13408)\n",
      "\n"
     ]
    },
    {
     "name": "stderr",
     "output_type": "stream",
     "text": [
      "100%|██████████| 15/15 [00:04<00:00,  3.31it/s, Epoch=14, LR=2.65e-5, Train_Loss=0.369]\n",
      "100%|██████████| 12/12 [00:01<00:00,  7.23it/s, Epoch=14, LR=2.65e-5, Valid_Loss=0.286]\n"
     ]
    },
    {
     "name": "stdout",
     "output_type": "stream",
     "text": [
      "\u001b[34mValidation AUROC Improved (0.14248 ---> 0.14508)\n",
      "\n"
     ]
    },
    {
     "name": "stderr",
     "output_type": "stream",
     "text": [
      "100%|██████████| 15/15 [00:04<00:00,  3.30it/s, Epoch=15, LR=2.42e-5, Train_Loss=0.365]\n",
      "100%|██████████| 12/12 [00:01<00:00,  7.08it/s, Epoch=15, LR=2.42e-5, Valid_Loss=0.222]\n"
     ]
    },
    {
     "name": "stdout",
     "output_type": "stream",
     "text": [
      "Validation pAUC80 not Improved (0.14248)\n",
      "\n"
     ]
    },
    {
     "name": "stderr",
     "output_type": "stream",
     "text": [
      "100%|██████████| 15/15 [00:04<00:00,  3.30it/s, Epoch=16, LR=2.19e-5, Train_Loss=0.386]\n",
      "100%|██████████| 12/12 [00:01<00:00,  7.14it/s, Epoch=16, LR=2.19e-5, Valid_Loss=0.247]\n"
     ]
    },
    {
     "name": "stdout",
     "output_type": "stream",
     "text": [
      "\u001b[34mValidation AUROC Improved (0.14508 ---> 0.15331)\n",
      "\n"
     ]
    },
    {
     "name": "stderr",
     "output_type": "stream",
     "text": [
      "100%|██████████| 15/15 [00:04<00:00,  3.29it/s, Epoch=17, LR=1.95e-5, Train_Loss=0.331]\n",
      "100%|██████████| 12/12 [00:01<00:00,  7.21it/s, Epoch=17, LR=1.95e-5, Valid_Loss=0.219]\n"
     ]
    },
    {
     "name": "stdout",
     "output_type": "stream",
     "text": [
      "Validation pAUC80 not Improved (0.14877)\n",
      "\n"
     ]
    },
    {
     "name": "stderr",
     "output_type": "stream",
     "text": [
      "100%|██████████| 15/15 [00:04<00:00,  3.26it/s, Epoch=18, LR=1.71e-5, Train_Loss=0.403]\n",
      "100%|██████████| 12/12 [00:01<00:00,  7.12it/s, Epoch=18, LR=1.71e-5, Valid_Loss=0.306]\n"
     ]
    },
    {
     "name": "stdout",
     "output_type": "stream",
     "text": [
      "Validation pAUC80 not Improved (0.15080)\n",
      "\n"
     ]
    },
    {
     "name": "stderr",
     "output_type": "stream",
     "text": [
      "100%|██████████| 15/15 [00:04<00:00,  3.29it/s, Epoch=19, LR=1.48e-5, Train_Loss=0.375]\n",
      "100%|██████████| 12/12 [00:01<00:00,  7.12it/s, Epoch=19, LR=1.48e-5, Valid_Loss=0.23] \n"
     ]
    },
    {
     "name": "stdout",
     "output_type": "stream",
     "text": [
      "Validation pAUC80 not Improved (0.14787)\n",
      "\n"
     ]
    },
    {
     "name": "stderr",
     "output_type": "stream",
     "text": [
      "100%|██████████| 15/15 [00:04<00:00,  3.26it/s, Epoch=20, LR=1.25e-5, Train_Loss=0.312]\n",
      "100%|██████████| 12/12 [00:01<00:00,  7.08it/s, Epoch=20, LR=1.25e-5, Valid_Loss=0.209]\n"
     ]
    },
    {
     "name": "stdout",
     "output_type": "stream",
     "text": [
      "Validation pAUC80 not Improved (0.14977)\n",
      "\n"
     ]
    },
    {
     "name": "stderr",
     "output_type": "stream",
     "text": [
      "100%|██████████| 15/15 [00:04<00:00,  3.29it/s, Epoch=21, LR=1.04e-5, Train_Loss=0.386]\n",
      "100%|██████████| 12/12 [00:01<00:00,  7.15it/s, Epoch=21, LR=1.04e-5, Valid_Loss=0.264]\n"
     ]
    },
    {
     "name": "stdout",
     "output_type": "stream",
     "text": [
      "Validation pAUC80 not Improved (0.15271)\n",
      "\n"
     ]
    },
    {
     "name": "stderr",
     "output_type": "stream",
     "text": [
      "100%|██████████| 15/15 [00:04<00:00,  3.29it/s, Epoch=22, LR=8.37e-6, Train_Loss=0.332]\n",
      "100%|██████████| 12/12 [00:01<00:00,  7.05it/s, Epoch=22, LR=8.37e-6, Valid_Loss=0.21] \n"
     ]
    },
    {
     "name": "stdout",
     "output_type": "stream",
     "text": [
      "Validation pAUC80 not Improved (0.15168)\n",
      "\n"
     ]
    },
    {
     "name": "stderr",
     "output_type": "stream",
     "text": [
      "100%|██████████| 15/15 [00:04<00:00,  3.29it/s, Epoch=23, LR=6.51e-6, Train_Loss=0.154]\n",
      "100%|██████████| 12/12 [00:01<00:00,  7.17it/s, Epoch=23, LR=6.51e-6, Valid_Loss=0.232]\n"
     ]
    },
    {
     "name": "stdout",
     "output_type": "stream",
     "text": [
      "Validation pAUC80 not Improved (0.15047)\n",
      "\n"
     ]
    },
    {
     "name": "stderr",
     "output_type": "stream",
     "text": [
      "100%|██████████| 15/15 [00:04<00:00,  3.29it/s, Epoch=24, LR=4.84e-6, Train_Loss=0.157]\n",
      "100%|██████████| 12/12 [00:01<00:00,  7.09it/s, Epoch=24, LR=4.84e-6, Valid_Loss=0.249]\n"
     ]
    },
    {
     "name": "stdout",
     "output_type": "stream",
     "text": [
      "Validation pAUC80 not Improved (0.14758)\n",
      "\n"
     ]
    },
    {
     "name": "stderr",
     "output_type": "stream",
     "text": [
      "100%|██████████| 15/15 [00:04<00:00,  3.28it/s, Epoch=25, LR=3.39e-6, Train_Loss=0.156]\n",
      "100%|██████████| 12/12 [00:01<00:00,  7.25it/s, Epoch=25, LR=3.39e-6, Valid_Loss=0.196]\n"
     ]
    },
    {
     "name": "stdout",
     "output_type": "stream",
     "text": [
      "Validation pAUC80 not Improved (0.14790)\n",
      "\n"
     ]
    },
    {
     "name": "stderr",
     "output_type": "stream",
     "text": [
      "100%|██████████| 15/15 [00:04<00:00,  3.28it/s, Epoch=26, LR=2.18e-6, Train_Loss=0.152]\n",
      "100%|██████████| 12/12 [00:01<00:00,  7.14it/s, Epoch=26, LR=2.18e-6, Valid_Loss=0.216]\n"
     ]
    },
    {
     "name": "stdout",
     "output_type": "stream",
     "text": [
      "Validation pAUC80 not Improved (0.15052)\n",
      "\n"
     ]
    },
    {
     "name": "stderr",
     "output_type": "stream",
     "text": [
      "100%|██████████| 15/15 [00:04<00:00,  3.30it/s, Epoch=27, LR=1.22e-6, Train_Loss=0.138]\n",
      "100%|██████████| 12/12 [00:01<00:00,  7.26it/s, Epoch=27, LR=1.22e-6, Valid_Loss=0.231]\n"
     ]
    },
    {
     "name": "stdout",
     "output_type": "stream",
     "text": [
      "Validation pAUC80 not Improved (0.14964)\n",
      "\n"
     ]
    },
    {
     "name": "stderr",
     "output_type": "stream",
     "text": [
      "100%|██████████| 15/15 [00:04<00:00,  3.30it/s, Epoch=28, LR=5.35e-7, Train_Loss=0.124]\n",
      "100%|██████████| 12/12 [00:01<00:00,  7.14it/s, Epoch=28, LR=5.35e-7, Valid_Loss=0.221]\n"
     ]
    },
    {
     "name": "stdout",
     "output_type": "stream",
     "text": [
      "Validation pAUC80 not Improved (0.15044)\n",
      "\n"
     ]
    },
    {
     "name": "stderr",
     "output_type": "stream",
     "text": [
      "100%|██████████| 15/15 [00:04<00:00,  3.30it/s, Epoch=29, LR=1.26e-7, Train_Loss=0.138]\n",
      "100%|██████████| 12/12 [00:01<00:00,  7.25it/s, Epoch=29, LR=1.26e-7, Valid_Loss=0.214]\n"
     ]
    },
    {
     "name": "stdout",
     "output_type": "stream",
     "text": [
      "Validation pAUC80 not Improved (0.15041)\n",
      "\n"
     ]
    },
    {
     "name": "stderr",
     "output_type": "stream",
     "text": [
      "100%|██████████| 15/15 [00:04<00:00,  3.29it/s, Epoch=30, LR=1.65e-9, Train_Loss=0.129]\n",
      "100%|██████████| 12/12 [00:01<00:00,  7.10it/s, Epoch=30, LR=1.65e-9, Valid_Loss=0.214]\n"
     ]
    },
    {
     "name": "stdout",
     "output_type": "stream",
     "text": [
      "Validation pAUC80 not Improved (0.15041)\n",
      "\n",
      "Training complete in 0h 3m 28s\n",
      "Best AUROC: 0.1533\n"
     ]
    },
    {
     "name": "stderr",
     "output_type": "stream",
     "text": [
      "100%|██████████| 739/739 [01:24<00:00,  8.73it/s]\n"
     ]
    },
    {
     "name": "stdout",
     "output_type": "stream",
     "text": [
      "fold0_pAUC (not filtered): 0.1502\n",
      "==============================\n",
      "fold 1\n",
      "==============================\n",
      "●train\n",
      "original> (315046, 59) 457 (833,)\n",
      "filtered> (9597, 59) 457 (783,)\n",
      "●val\n",
      "original> (86013, 59) 96 (209,)\n",
      "filtered> (2016, 59) 96 (195,)\n",
      "[INFO] Using GPU: NVIDIA GeForce RTX 4090\n",
      "\n"
     ]
    },
    {
     "name": "stderr",
     "output_type": "stream",
     "text": [
      "100%|██████████| 14/14 [00:04<00:00,  3.26it/s, Epoch=1, LR=9.95e-6, Train_Loss=1.08]\n",
      "100%|██████████| 16/16 [00:02<00:00,  7.28it/s, Epoch=1, LR=9.95e-6, Valid_Loss=0.732]\n"
     ]
    },
    {
     "name": "stdout",
     "output_type": "stream",
     "text": [
      "\u001b[34mValidation AUROC Improved (-inf ---> 0.00598)\n",
      "\n"
     ]
    },
    {
     "name": "stderr",
     "output_type": "stream",
     "text": [
      "100%|██████████| 14/14 [00:04<00:00,  3.28it/s, Epoch=2, LR=1.91e-5, Train_Loss=0.782]\n",
      "100%|██████████| 16/16 [00:02<00:00,  7.52it/s, Epoch=2, LR=1.91e-5, Valid_Loss=0.74] \n"
     ]
    },
    {
     "name": "stdout",
     "output_type": "stream",
     "text": [
      "\u001b[34mValidation AUROC Improved (0.00598 ---> 0.05104)\n",
      "\n"
     ]
    },
    {
     "name": "stderr",
     "output_type": "stream",
     "text": [
      "100%|██████████| 14/14 [00:04<00:00,  3.26it/s, Epoch=3, LR=2.82e-5, Train_Loss=0.639]\n",
      "100%|██████████| 16/16 [00:02<00:00,  7.48it/s, Epoch=3, LR=2.82e-5, Valid_Loss=0.541]\n"
     ]
    },
    {
     "name": "stdout",
     "output_type": "stream",
     "text": [
      "\u001b[34mValidation AUROC Improved (0.05104 ---> 0.09336)\n",
      "\n"
     ]
    },
    {
     "name": "stderr",
     "output_type": "stream",
     "text": [
      "100%|██████████| 14/14 [00:04<00:00,  3.28it/s, Epoch=4, LR=3.74e-5, Train_Loss=0.559]\n",
      "100%|██████████| 16/16 [00:02<00:00,  7.52it/s, Epoch=4, LR=3.74e-5, Valid_Loss=0.612]\n"
     ]
    },
    {
     "name": "stdout",
     "output_type": "stream",
     "text": [
      "\u001b[34mValidation AUROC Improved (0.09336 ---> 0.12048)\n",
      "\n"
     ]
    },
    {
     "name": "stderr",
     "output_type": "stream",
     "text": [
      "100%|██████████| 14/14 [00:04<00:00,  3.27it/s, Epoch=5, LR=3.93e-5, Train_Loss=0.491]\n",
      "100%|██████████| 16/16 [00:02<00:00,  7.59it/s, Epoch=5, LR=3.93e-5, Valid_Loss=0.325]\n"
     ]
    },
    {
     "name": "stdout",
     "output_type": "stream",
     "text": [
      "\u001b[34mValidation AUROC Improved (0.12048 ---> 0.14700)\n",
      "\n"
     ]
    },
    {
     "name": "stderr",
     "output_type": "stream",
     "text": [
      "100%|██████████| 14/14 [00:04<00:00,  3.29it/s, Epoch=6, LR=3.89e-5, Train_Loss=0.494]\n",
      "100%|██████████| 16/16 [00:02<00:00,  7.49it/s, Epoch=6, LR=3.89e-5, Valid_Loss=0.321]\n"
     ]
    },
    {
     "name": "stdout",
     "output_type": "stream",
     "text": [
      "\u001b[34mValidation AUROC Improved (0.14700 ---> 0.14738)\n",
      "\n"
     ]
    },
    {
     "name": "stderr",
     "output_type": "stream",
     "text": [
      "100%|██████████| 14/14 [00:04<00:00,  3.27it/s, Epoch=7, LR=3.82e-5, Train_Loss=0.477]\n",
      "100%|██████████| 16/16 [00:02<00:00,  7.68it/s, Epoch=7, LR=3.82e-5, Valid_Loss=0.33] \n"
     ]
    },
    {
     "name": "stdout",
     "output_type": "stream",
     "text": [
      "\u001b[34mValidation AUROC Improved (0.14738 ---> 0.15120)\n",
      "\n"
     ]
    },
    {
     "name": "stderr",
     "output_type": "stream",
     "text": [
      "100%|██████████| 14/14 [00:04<00:00,  3.27it/s, Epoch=8, LR=3.73e-5, Train_Loss=0.397]\n",
      "100%|██████████| 16/16 [00:02<00:00,  7.47it/s, Epoch=8, LR=3.73e-5, Valid_Loss=0.218]\n"
     ]
    },
    {
     "name": "stdout",
     "output_type": "stream",
     "text": [
      "\u001b[34mValidation AUROC Improved (0.15120 ---> 0.15613)\n",
      "\n"
     ]
    },
    {
     "name": "stderr",
     "output_type": "stream",
     "text": [
      "100%|██████████| 14/14 [00:04<00:00,  3.25it/s, Epoch=9, LR=3.61e-5, Train_Loss=0.464]\n",
      "100%|██████████| 16/16 [00:02<00:00,  7.50it/s, Epoch=9, LR=3.61e-5, Valid_Loss=0.381]\n"
     ]
    },
    {
     "name": "stdout",
     "output_type": "stream",
     "text": [
      "Validation pAUC80 not Improved (0.15245)\n",
      "\n"
     ]
    },
    {
     "name": "stderr",
     "output_type": "stream",
     "text": [
      "100%|██████████| 14/14 [00:04<00:00,  3.27it/s, Epoch=10, LR=3.46e-5, Train_Loss=0.402]\n",
      "100%|██████████| 16/16 [00:02<00:00,  7.49it/s, Epoch=10, LR=3.46e-5, Valid_Loss=0.339]\n"
     ]
    },
    {
     "name": "stdout",
     "output_type": "stream",
     "text": [
      "\u001b[34mValidation AUROC Improved (0.15613 ---> 0.16138)\n",
      "\n"
     ]
    },
    {
     "name": "stderr",
     "output_type": "stream",
     "text": [
      "100%|██████████| 14/14 [00:04<00:00,  3.26it/s, Epoch=11, LR=3.3e-5, Train_Loss=0.457] \n",
      "100%|██████████| 16/16 [00:02<00:00,  7.49it/s, Epoch=11, LR=3.3e-5, Valid_Loss=0.272]\n"
     ]
    },
    {
     "name": "stdout",
     "output_type": "stream",
     "text": [
      "Validation pAUC80 not Improved (0.15652)\n",
      "\n"
     ]
    },
    {
     "name": "stderr",
     "output_type": "stream",
     "text": [
      "100%|██████████| 14/14 [00:04<00:00,  3.27it/s, Epoch=12, LR=3.11e-5, Train_Loss=0.369]\n",
      "100%|██████████| 16/16 [00:02<00:00,  7.45it/s, Epoch=12, LR=3.11e-5, Valid_Loss=0.203]\n"
     ]
    },
    {
     "name": "stdout",
     "output_type": "stream",
     "text": [
      "Validation pAUC80 not Improved (0.15760)\n",
      "\n"
     ]
    },
    {
     "name": "stderr",
     "output_type": "stream",
     "text": [
      "100%|██████████| 14/14 [00:04<00:00,  3.27it/s, Epoch=13, LR=2.91e-5, Train_Loss=0.338]\n",
      "100%|██████████| 16/16 [00:02<00:00,  7.45it/s, Epoch=13, LR=2.91e-5, Valid_Loss=0.325]\n"
     ]
    },
    {
     "name": "stdout",
     "output_type": "stream",
     "text": [
      "\u001b[34mValidation AUROC Improved (0.16138 ---> 0.16244)\n",
      "\n"
     ]
    },
    {
     "name": "stderr",
     "output_type": "stream",
     "text": [
      "100%|██████████| 14/14 [00:04<00:00,  3.26it/s, Epoch=14, LR=2.69e-5, Train_Loss=0.422]\n",
      "100%|██████████| 16/16 [00:02<00:00,  7.59it/s, Epoch=14, LR=2.69e-5, Valid_Loss=0.327]\n"
     ]
    },
    {
     "name": "stdout",
     "output_type": "stream",
     "text": [
      "Validation pAUC80 not Improved (0.16147)\n",
      "\n"
     ]
    },
    {
     "name": "stderr",
     "output_type": "stream",
     "text": [
      "100%|██████████| 14/14 [00:04<00:00,  3.27it/s, Epoch=15, LR=2.46e-5, Train_Loss=0.345]\n",
      "100%|██████████| 16/16 [00:02<00:00,  7.48it/s, Epoch=15, LR=2.46e-5, Valid_Loss=0.364]\n"
     ]
    },
    {
     "name": "stdout",
     "output_type": "stream",
     "text": [
      "Validation pAUC80 not Improved (0.15953)\n",
      "\n"
     ]
    },
    {
     "name": "stderr",
     "output_type": "stream",
     "text": [
      "100%|██████████| 14/14 [00:04<00:00,  3.27it/s, Epoch=16, LR=2.22e-5, Train_Loss=0.417]\n",
      "100%|██████████| 16/16 [00:02<00:00,  7.75it/s, Epoch=16, LR=2.22e-5, Valid_Loss=0.274]\n"
     ]
    },
    {
     "name": "stdout",
     "output_type": "stream",
     "text": [
      "\u001b[34mValidation AUROC Improved (0.16244 ---> 0.16413)\n",
      "\n"
     ]
    },
    {
     "name": "stderr",
     "output_type": "stream",
     "text": [
      "100%|██████████| 14/14 [00:04<00:00,  3.27it/s, Epoch=17, LR=1.98e-5, Train_Loss=0.417]\n",
      "100%|██████████| 16/16 [00:02<00:00,  7.46it/s, Epoch=17, LR=1.98e-5, Valid_Loss=0.332]\n"
     ]
    },
    {
     "name": "stdout",
     "output_type": "stream",
     "text": [
      "\u001b[34mValidation AUROC Improved (0.16413 ---> 0.16627)\n",
      "\n"
     ]
    },
    {
     "name": "stderr",
     "output_type": "stream",
     "text": [
      "100%|██████████| 14/14 [00:04<00:00,  3.31it/s, Epoch=18, LR=1.74e-5, Train_Loss=0.391]\n",
      "100%|██████████| 16/16 [00:02<00:00,  7.48it/s, Epoch=18, LR=1.74e-5, Valid_Loss=0.317]\n"
     ]
    },
    {
     "name": "stdout",
     "output_type": "stream",
     "text": [
      "Validation pAUC80 not Improved (0.16603)\n",
      "\n"
     ]
    },
    {
     "name": "stderr",
     "output_type": "stream",
     "text": [
      "100%|██████████| 14/14 [00:04<00:00,  3.32it/s, Epoch=19, LR=1.51e-5, Train_Loss=0.375]\n",
      "100%|██████████| 16/16 [00:02<00:00,  7.50it/s, Epoch=19, LR=1.51e-5, Valid_Loss=0.207]\n"
     ]
    },
    {
     "name": "stdout",
     "output_type": "stream",
     "text": [
      "Validation pAUC80 not Improved (0.16354)\n",
      "\n"
     ]
    },
    {
     "name": "stderr",
     "output_type": "stream",
     "text": [
      "100%|██████████| 14/14 [00:04<00:00,  3.31it/s, Epoch=20, LR=1.28e-5, Train_Loss=0.375]\n",
      "100%|██████████| 16/16 [00:02<00:00,  7.51it/s, Epoch=20, LR=1.28e-5, Valid_Loss=0.225]\n"
     ]
    },
    {
     "name": "stdout",
     "output_type": "stream",
     "text": [
      "Validation pAUC80 not Improved (0.16589)\n",
      "\n"
     ]
    },
    {
     "name": "stderr",
     "output_type": "stream",
     "text": [
      "100%|██████████| 14/14 [00:04<00:00,  3.32it/s, Epoch=21, LR=1.06e-5, Train_Loss=0.382]\n",
      "100%|██████████| 16/16 [00:02<00:00,  7.52it/s, Epoch=21, LR=1.06e-5, Valid_Loss=0.255]\n"
     ]
    },
    {
     "name": "stdout",
     "output_type": "stream",
     "text": [
      "Validation pAUC80 not Improved (0.16503)\n",
      "\n"
     ]
    },
    {
     "name": "stderr",
     "output_type": "stream",
     "text": [
      "100%|██████████| 14/14 [00:04<00:00,  3.27it/s, Epoch=22, LR=8.53e-6, Train_Loss=0.387]\n",
      "100%|██████████| 16/16 [00:02<00:00,  7.46it/s, Epoch=22, LR=8.53e-6, Valid_Loss=0.289]\n"
     ]
    },
    {
     "name": "stdout",
     "output_type": "stream",
     "text": [
      "Validation pAUC80 not Improved (0.16584)\n",
      "\n"
     ]
    },
    {
     "name": "stderr",
     "output_type": "stream",
     "text": [
      "100%|██████████| 14/14 [00:04<00:00,  3.29it/s, Epoch=23, LR=6.64e-6, Train_Loss=0.232]\n",
      "100%|██████████| 16/16 [00:02<00:00,  7.59it/s, Epoch=23, LR=6.64e-6, Valid_Loss=0.251]\n"
     ]
    },
    {
     "name": "stdout",
     "output_type": "stream",
     "text": [
      "Validation pAUC80 not Improved (0.16506)\n",
      "\n"
     ]
    },
    {
     "name": "stderr",
     "output_type": "stream",
     "text": [
      "100%|██████████| 14/14 [00:04<00:00,  3.29it/s, Epoch=24, LR=4.94e-6, Train_Loss=0.191]\n",
      "100%|██████████| 16/16 [00:02<00:00,  7.52it/s, Epoch=24, LR=4.94e-6, Valid_Loss=0.22] \n"
     ]
    },
    {
     "name": "stdout",
     "output_type": "stream",
     "text": [
      "Validation pAUC80 not Improved (0.16392)\n",
      "\n"
     ]
    },
    {
     "name": "stderr",
     "output_type": "stream",
     "text": [
      "100%|██████████| 14/14 [00:04<00:00,  3.28it/s, Epoch=25, LR=3.46e-6, Train_Loss=0.18] \n",
      "100%|██████████| 16/16 [00:02<00:00,  7.42it/s, Epoch=25, LR=3.46e-6, Valid_Loss=0.209]\n"
     ]
    },
    {
     "name": "stdout",
     "output_type": "stream",
     "text": [
      "Validation pAUC80 not Improved (0.16433)\n",
      "\n"
     ]
    },
    {
     "name": "stderr",
     "output_type": "stream",
     "text": [
      "100%|██████████| 14/14 [00:04<00:00,  3.32it/s, Epoch=26, LR=2.22e-6, Train_Loss=0.17] \n",
      "100%|██████████| 16/16 [00:02<00:00,  7.54it/s, Epoch=26, LR=2.22e-6, Valid_Loss=0.263]\n"
     ]
    },
    {
     "name": "stdout",
     "output_type": "stream",
     "text": [
      "\u001b[34mValidation AUROC Improved (0.16627 ---> 0.16677)\n",
      "\n"
     ]
    },
    {
     "name": "stderr",
     "output_type": "stream",
     "text": [
      "100%|██████████| 14/14 [00:04<00:00,  3.24it/s, Epoch=27, LR=1.25e-6, Train_Loss=0.191]\n",
      "100%|██████████| 16/16 [00:02<00:00,  7.37it/s, Epoch=27, LR=1.25e-6, Valid_Loss=0.257]\n"
     ]
    },
    {
     "name": "stdout",
     "output_type": "stream",
     "text": [
      "\u001b[34mValidation AUROC Improved (0.16677 ---> 0.16691)\n",
      "\n"
     ]
    },
    {
     "name": "stderr",
     "output_type": "stream",
     "text": [
      "100%|██████████| 14/14 [00:04<00:00,  3.28it/s, Epoch=28, LR=5.45e-7, Train_Loss=0.177]\n",
      "100%|██████████| 16/16 [00:02<00:00,  7.46it/s, Epoch=28, LR=5.45e-7, Valid_Loss=0.238]\n"
     ]
    },
    {
     "name": "stdout",
     "output_type": "stream",
     "text": [
      "Validation pAUC80 not Improved (0.16570)\n",
      "\n"
     ]
    },
    {
     "name": "stderr",
     "output_type": "stream",
     "text": [
      "100%|██████████| 14/14 [00:04<00:00,  3.30it/s, Epoch=29, LR=1.27e-7, Train_Loss=0.19] \n",
      "100%|██████████| 16/16 [00:02<00:00,  7.51it/s, Epoch=29, LR=1.27e-7, Valid_Loss=0.231]\n"
     ]
    },
    {
     "name": "stdout",
     "output_type": "stream",
     "text": [
      "Validation pAUC80 not Improved (0.16558)\n",
      "\n"
     ]
    },
    {
     "name": "stderr",
     "output_type": "stream",
     "text": [
      "100%|██████████| 14/14 [00:04<00:00,  3.25it/s, Epoch=30, LR=1.76e-9, Train_Loss=0.182]\n",
      "100%|██████████| 16/16 [00:02<00:00,  7.45it/s, Epoch=30, LR=1.76e-9, Valid_Loss=0.231]\n"
     ]
    },
    {
     "name": "stdout",
     "output_type": "stream",
     "text": [
      "Validation pAUC80 not Improved (0.16558)\n",
      "\n",
      "Training complete in 0h 3m 32s\n",
      "Best AUROC: 0.1669\n"
     ]
    },
    {
     "name": "stderr",
     "output_type": "stream",
     "text": [
      "100%|██████████| 672/672 [01:17<00:00,  8.70it/s]\n"
     ]
    },
    {
     "name": "stdout",
     "output_type": "stream",
     "text": [
      "fold1_pAUC (not filtered): 0.1650\n",
      "==============================\n",
      "fold 2\n",
      "==============================\n",
      "●train\n",
      "original> (326063, 59) 495 (833,)\n",
      "filtered> (10395, 59) 495 (792,)\n",
      "●val\n",
      "original> (74996, 59) 58 (209,)\n",
      "filtered> (1218, 59) 58 (186,)\n",
      "[INFO] Using GPU: NVIDIA GeForce RTX 4090\n",
      "\n"
     ]
    },
    {
     "name": "stderr",
     "output_type": "stream",
     "text": [
      "100%|██████████| 15/15 [00:04<00:00,  3.28it/s, Epoch=1, LR=1.06e-5, Train_Loss=0.808]\n",
      "100%|██████████| 10/10 [00:01<00:00,  6.26it/s, Epoch=1, LR=1.06e-5, Valid_Loss=0.596]\n"
     ]
    },
    {
     "name": "stdout",
     "output_type": "stream",
     "text": [
      "\u001b[34mValidation AUROC Improved (-inf ---> 0.05510)\n",
      "\n"
     ]
    },
    {
     "name": "stderr",
     "output_type": "stream",
     "text": [
      "100%|██████████| 15/15 [00:04<00:00,  3.28it/s, Epoch=2, LR=2.04e-5, Train_Loss=0.672]\n",
      "100%|██████████| 10/10 [00:01<00:00,  7.13it/s, Epoch=2, LR=2.04e-5, Valid_Loss=0.642]\n"
     ]
    },
    {
     "name": "stdout",
     "output_type": "stream",
     "text": [
      "\u001b[34mValidation AUROC Improved (0.05510 ---> 0.09477)\n",
      "\n"
     ]
    },
    {
     "name": "stderr",
     "output_type": "stream",
     "text": [
      "100%|██████████| 15/15 [00:04<00:00,  3.28it/s, Epoch=3, LR=3.02e-5, Train_Loss=0.57] \n",
      "100%|██████████| 10/10 [00:01<00:00,  7.02it/s, Epoch=3, LR=3.02e-5, Valid_Loss=0.418]\n"
     ]
    },
    {
     "name": "stdout",
     "output_type": "stream",
     "text": [
      "\u001b[34mValidation AUROC Improved (0.09477 ---> 0.10365)\n",
      "\n"
     ]
    },
    {
     "name": "stderr",
     "output_type": "stream",
     "text": [
      "100%|██████████| 15/15 [00:04<00:00,  3.26it/s, Epoch=4, LR=3.93e-5, Train_Loss=0.526]\n",
      "100%|██████████| 10/10 [00:01<00:00,  7.01it/s, Epoch=4, LR=3.93e-5, Valid_Loss=0.463]\n"
     ]
    },
    {
     "name": "stdout",
     "output_type": "stream",
     "text": [
      "\u001b[34mValidation AUROC Improved (0.10365 ---> 0.13393)\n",
      "\n"
     ]
    },
    {
     "name": "stderr",
     "output_type": "stream",
     "text": [
      "100%|██████████| 15/15 [00:04<00:00,  3.31it/s, Epoch=5, LR=3.92e-5, Train_Loss=0.423]\n",
      "100%|██████████| 10/10 [00:01<00:00,  6.89it/s, Epoch=5, LR=3.92e-5, Valid_Loss=0.288]\n"
     ]
    },
    {
     "name": "stdout",
     "output_type": "stream",
     "text": [
      "\u001b[34mValidation AUROC Improved (0.13393 ---> 0.13741)\n",
      "\n"
     ]
    },
    {
     "name": "stderr",
     "output_type": "stream",
     "text": [
      "100%|██████████| 15/15 [00:04<00:00,  3.26it/s, Epoch=6, LR=3.87e-5, Train_Loss=0.461]\n",
      "100%|██████████| 10/10 [00:01<00:00,  6.99it/s, Epoch=6, LR=3.87e-5, Valid_Loss=0.444]\n"
     ]
    },
    {
     "name": "stdout",
     "output_type": "stream",
     "text": [
      "\u001b[34mValidation AUROC Improved (0.13741 ---> 0.14697)\n",
      "\n"
     ]
    },
    {
     "name": "stderr",
     "output_type": "stream",
     "text": [
      "100%|██████████| 15/15 [00:04<00:00,  3.26it/s, Epoch=7, LR=3.8e-5, Train_Loss=0.435] \n",
      "100%|██████████| 10/10 [00:01<00:00,  7.05it/s, Epoch=7, LR=3.8e-5, Valid_Loss=0.341]\n"
     ]
    },
    {
     "name": "stdout",
     "output_type": "stream",
     "text": [
      "\u001b[34mValidation AUROC Improved (0.14697 ---> 0.15020)\n",
      "\n"
     ]
    },
    {
     "name": "stderr",
     "output_type": "stream",
     "text": [
      "100%|██████████| 15/15 [00:04<00:00,  3.30it/s, Epoch=8, LR=3.7e-5, Train_Loss=0.431] \n",
      "100%|██████████| 10/10 [00:01<00:00,  7.15it/s, Epoch=8, LR=3.7e-5, Valid_Loss=0.343]\n"
     ]
    },
    {
     "name": "stdout",
     "output_type": "stream",
     "text": [
      "Validation pAUC80 not Improved (0.14522)\n",
      "\n"
     ]
    },
    {
     "name": "stderr",
     "output_type": "stream",
     "text": [
      "100%|██████████| 15/15 [00:04<00:00,  3.30it/s, Epoch=9, LR=3.58e-5, Train_Loss=0.425]\n",
      "100%|██████████| 10/10 [00:01<00:00,  7.10it/s, Epoch=9, LR=3.58e-5, Valid_Loss=0.383]\n"
     ]
    },
    {
     "name": "stdout",
     "output_type": "stream",
     "text": [
      "Validation pAUC80 not Improved (0.14758)\n",
      "\n"
     ]
    },
    {
     "name": "stderr",
     "output_type": "stream",
     "text": [
      "100%|██████████| 15/15 [00:04<00:00,  3.28it/s, Epoch=10, LR=3.43e-5, Train_Loss=0.418]\n",
      "100%|██████████| 10/10 [00:01<00:00,  6.98it/s, Epoch=10, LR=3.43e-5, Valid_Loss=0.44]\n"
     ]
    },
    {
     "name": "stdout",
     "output_type": "stream",
     "text": [
      "Validation pAUC80 not Improved (0.14665)\n",
      "\n"
     ]
    },
    {
     "name": "stderr",
     "output_type": "stream",
     "text": [
      "100%|██████████| 15/15 [00:04<00:00,  3.28it/s, Epoch=11, LR=3.26e-5, Train_Loss=0.39] \n",
      "100%|██████████| 10/10 [00:01<00:00,  6.91it/s, Epoch=11, LR=3.26e-5, Valid_Loss=0.442]\n"
     ]
    },
    {
     "name": "stdout",
     "output_type": "stream",
     "text": [
      "\u001b[34mValidation AUROC Improved (0.15020 ---> 0.15295)\n",
      "\n"
     ]
    },
    {
     "name": "stderr",
     "output_type": "stream",
     "text": [
      "100%|██████████| 15/15 [00:04<00:00,  3.27it/s, Epoch=12, LR=3.07e-5, Train_Loss=0.415]\n",
      "100%|██████████| 10/10 [00:01<00:00,  6.91it/s, Epoch=12, LR=3.07e-5, Valid_Loss=0.457]\n"
     ]
    },
    {
     "name": "stdout",
     "output_type": "stream",
     "text": [
      "\u001b[34mValidation AUROC Improved (0.15295 ---> 0.15603)\n",
      "\n"
     ]
    },
    {
     "name": "stderr",
     "output_type": "stream",
     "text": [
      "100%|██████████| 15/15 [00:04<00:00,  3.28it/s, Epoch=13, LR=2.87e-5, Train_Loss=0.421]\n",
      "100%|██████████| 10/10 [00:01<00:00,  7.01it/s, Epoch=13, LR=2.87e-5, Valid_Loss=0.291]\n"
     ]
    },
    {
     "name": "stdout",
     "output_type": "stream",
     "text": [
      "Validation pAUC80 not Improved (0.15434)\n",
      "\n"
     ]
    },
    {
     "name": "stderr",
     "output_type": "stream",
     "text": [
      "100%|██████████| 15/15 [00:04<00:00,  3.30it/s, Epoch=14, LR=2.65e-5, Train_Loss=0.382]\n",
      "100%|██████████| 10/10 [00:01<00:00,  7.09it/s, Epoch=14, LR=2.65e-5, Valid_Loss=0.287]\n"
     ]
    },
    {
     "name": "stdout",
     "output_type": "stream",
     "text": [
      "Validation pAUC80 not Improved (0.15589)\n",
      "\n"
     ]
    },
    {
     "name": "stderr",
     "output_type": "stream",
     "text": [
      "100%|██████████| 15/15 [00:04<00:00,  3.27it/s, Epoch=15, LR=2.42e-5, Train_Loss=0.377]\n",
      "100%|██████████| 10/10 [00:01<00:00,  7.06it/s, Epoch=15, LR=2.42e-5, Valid_Loss=0.418]\n"
     ]
    },
    {
     "name": "stdout",
     "output_type": "stream",
     "text": [
      "\u001b[34mValidation AUROC Improved (0.15603 ---> 0.15701)\n",
      "\n"
     ]
    },
    {
     "name": "stderr",
     "output_type": "stream",
     "text": [
      "100%|██████████| 15/15 [00:04<00:00,  3.28it/s, Epoch=16, LR=2.19e-5, Train_Loss=0.395]\n",
      "100%|██████████| 10/10 [00:01<00:00,  7.19it/s, Epoch=16, LR=2.19e-5, Valid_Loss=0.515]\n"
     ]
    },
    {
     "name": "stdout",
     "output_type": "stream",
     "text": [
      "Validation pAUC80 not Improved (0.15620)\n",
      "\n"
     ]
    },
    {
     "name": "stderr",
     "output_type": "stream",
     "text": [
      "100%|██████████| 15/15 [00:04<00:00,  3.26it/s, Epoch=17, LR=1.95e-5, Train_Loss=0.367]\n",
      "100%|██████████| 10/10 [00:01<00:00,  6.99it/s, Epoch=17, LR=1.95e-5, Valid_Loss=0.359]\n"
     ]
    },
    {
     "name": "stdout",
     "output_type": "stream",
     "text": [
      "\u001b[34mValidation AUROC Improved (0.15701 ---> 0.15828)\n",
      "\n"
     ]
    },
    {
     "name": "stderr",
     "output_type": "stream",
     "text": [
      "100%|██████████| 15/15 [00:04<00:00,  3.28it/s, Epoch=18, LR=1.71e-5, Train_Loss=0.365]\n",
      "100%|██████████| 10/10 [00:01<00:00,  7.24it/s, Epoch=18, LR=1.71e-5, Valid_Loss=0.414]\n"
     ]
    },
    {
     "name": "stdout",
     "output_type": "stream",
     "text": [
      "Validation pAUC80 not Improved (0.15731)\n",
      "\n"
     ]
    },
    {
     "name": "stderr",
     "output_type": "stream",
     "text": [
      "100%|██████████| 15/15 [00:04<00:00,  3.28it/s, Epoch=19, LR=1.48e-5, Train_Loss=0.361]\n",
      "100%|██████████| 10/10 [00:01<00:00,  7.05it/s, Epoch=19, LR=1.48e-5, Valid_Loss=0.337]\n"
     ]
    },
    {
     "name": "stdout",
     "output_type": "stream",
     "text": [
      "Validation pAUC80 not Improved (0.15795)\n",
      "\n"
     ]
    },
    {
     "name": "stderr",
     "output_type": "stream",
     "text": [
      "100%|██████████| 15/15 [00:04<00:00,  3.29it/s, Epoch=20, LR=1.25e-5, Train_Loss=0.322]\n",
      "100%|██████████| 10/10 [00:01<00:00,  7.11it/s, Epoch=20, LR=1.25e-5, Valid_Loss=0.274]\n"
     ]
    },
    {
     "name": "stdout",
     "output_type": "stream",
     "text": [
      "Validation pAUC80 not Improved (0.15729)\n",
      "\n"
     ]
    },
    {
     "name": "stderr",
     "output_type": "stream",
     "text": [
      "100%|██████████| 15/15 [00:04<00:00,  3.26it/s, Epoch=21, LR=1.04e-5, Train_Loss=0.362]\n",
      "100%|██████████| 10/10 [00:01<00:00,  6.77it/s, Epoch=21, LR=1.04e-5, Valid_Loss=0.281]\n"
     ]
    },
    {
     "name": "stdout",
     "output_type": "stream",
     "text": [
      "\u001b[34mValidation AUROC Improved (0.15828 ---> 0.15964)\n",
      "\n"
     ]
    },
    {
     "name": "stderr",
     "output_type": "stream",
     "text": [
      "100%|██████████| 15/15 [00:04<00:00,  3.27it/s, Epoch=22, LR=8.37e-6, Train_Loss=0.365]\n",
      "100%|██████████| 10/10 [00:01<00:00,  7.02it/s, Epoch=22, LR=8.37e-6, Valid_Loss=0.307]\n"
     ]
    },
    {
     "name": "stdout",
     "output_type": "stream",
     "text": [
      "\u001b[34mValidation AUROC Improved (0.15964 ---> 0.16081)\n",
      "\n"
     ]
    },
    {
     "name": "stderr",
     "output_type": "stream",
     "text": [
      "100%|██████████| 15/15 [00:04<00:00,  3.30it/s, Epoch=23, LR=6.51e-6, Train_Loss=0.18] \n",
      "100%|██████████| 10/10 [00:01<00:00,  7.26it/s, Epoch=23, LR=6.51e-6, Valid_Loss=0.253]\n"
     ]
    },
    {
     "name": "stdout",
     "output_type": "stream",
     "text": [
      "Validation pAUC80 not Improved (0.15863)\n",
      "\n"
     ]
    },
    {
     "name": "stderr",
     "output_type": "stream",
     "text": [
      "100%|██████████| 15/15 [00:04<00:00,  3.27it/s, Epoch=24, LR=4.84e-6, Train_Loss=0.173]\n",
      "100%|██████████| 10/10 [00:01<00:00,  6.97it/s, Epoch=24, LR=4.84e-6, Valid_Loss=0.338]\n"
     ]
    },
    {
     "name": "stdout",
     "output_type": "stream",
     "text": [
      "Validation pAUC80 not Improved (0.15850)\n",
      "\n"
     ]
    },
    {
     "name": "stderr",
     "output_type": "stream",
     "text": [
      "100%|██████████| 15/15 [00:04<00:00,  3.30it/s, Epoch=25, LR=3.39e-6, Train_Loss=0.177]\n",
      "100%|██████████| 10/10 [00:01<00:00,  7.07it/s, Epoch=25, LR=3.39e-6, Valid_Loss=0.333]\n"
     ]
    },
    {
     "name": "stdout",
     "output_type": "stream",
     "text": [
      "Validation pAUC80 not Improved (0.15927)\n",
      "\n"
     ]
    },
    {
     "name": "stderr",
     "output_type": "stream",
     "text": [
      "100%|██████████| 15/15 [00:04<00:00,  3.26it/s, Epoch=26, LR=2.18e-6, Train_Loss=0.153]\n",
      "100%|██████████| 10/10 [00:01<00:00,  7.16it/s, Epoch=26, LR=2.18e-6, Valid_Loss=0.284]\n"
     ]
    },
    {
     "name": "stdout",
     "output_type": "stream",
     "text": [
      "Validation pAUC80 not Improved (0.15825)\n",
      "\n"
     ]
    },
    {
     "name": "stderr",
     "output_type": "stream",
     "text": [
      "100%|██████████| 15/15 [00:04<00:00,  3.26it/s, Epoch=27, LR=1.22e-6, Train_Loss=0.166]\n",
      "100%|██████████| 10/10 [00:01<00:00,  7.18it/s, Epoch=27, LR=1.22e-6, Valid_Loss=0.308]\n"
     ]
    },
    {
     "name": "stdout",
     "output_type": "stream",
     "text": [
      "Validation pAUC80 not Improved (0.15727)\n",
      "\n"
     ]
    },
    {
     "name": "stderr",
     "output_type": "stream",
     "text": [
      "100%|██████████| 15/15 [00:04<00:00,  3.27it/s, Epoch=28, LR=5.35e-7, Train_Loss=0.147]\n",
      "100%|██████████| 10/10 [00:01<00:00,  7.01it/s, Epoch=28, LR=5.35e-7, Valid_Loss=0.283]\n"
     ]
    },
    {
     "name": "stdout",
     "output_type": "stream",
     "text": [
      "Validation pAUC80 not Improved (0.15706)\n",
      "\n"
     ]
    },
    {
     "name": "stderr",
     "output_type": "stream",
     "text": [
      "100%|██████████| 15/15 [00:04<00:00,  3.27it/s, Epoch=29, LR=1.26e-7, Train_Loss=0.152]\n",
      "100%|██████████| 10/10 [00:01<00:00,  7.16it/s, Epoch=29, LR=1.26e-7, Valid_Loss=0.283]\n"
     ]
    },
    {
     "name": "stdout",
     "output_type": "stream",
     "text": [
      "Validation pAUC80 not Improved (0.15718)\n",
      "\n"
     ]
    },
    {
     "name": "stderr",
     "output_type": "stream",
     "text": [
      "100%|██████████| 15/15 [00:04<00:00,  3.27it/s, Epoch=30, LR=1.65e-9, Train_Loss=0.154]\n",
      "100%|██████████| 10/10 [00:01<00:00,  7.07it/s, Epoch=30, LR=1.65e-9, Valid_Loss=0.285]\n"
     ]
    },
    {
     "name": "stdout",
     "output_type": "stream",
     "text": [
      "Validation pAUC80 not Improved (0.15723)\n",
      "\n",
      "Training complete in 0h 3m 20s\n",
      "Best AUROC: 0.1608\n"
     ]
    },
    {
     "name": "stderr",
     "output_type": "stream",
     "text": [
      "100%|██████████| 586/586 [01:07<00:00,  8.65it/s]\n"
     ]
    },
    {
     "name": "stdout",
     "output_type": "stream",
     "text": [
      "fold2_pAUC (not filtered): 0.1582\n",
      "==============================\n",
      "fold 3\n",
      "==============================\n",
      "●train\n",
      "original> (325562, 59) 485 (833,)\n",
      "filtered> (10185, 59) 485 (782,)\n",
      "●val\n",
      "original> (75497, 59) 68 (209,)\n",
      "filtered> (1428, 59) 68 (190,)\n",
      "[INFO] Using GPU: NVIDIA GeForce RTX 4090\n",
      "\n"
     ]
    },
    {
     "name": "stderr",
     "output_type": "stream",
     "text": [
      "100%|██████████| 15/15 [00:04<00:00,  3.26it/s, Epoch=1, LR=1.06e-5, Train_Loss=0.845]\n",
      "100%|██████████| 12/12 [00:01<00:00,  7.36it/s, Epoch=1, LR=1.06e-5, Valid_Loss=0.703]\n"
     ]
    },
    {
     "name": "stdout",
     "output_type": "stream",
     "text": [
      "\u001b[34mValidation AUROC Improved (-inf ---> 0.05927)\n",
      "\n"
     ]
    },
    {
     "name": "stderr",
     "output_type": "stream",
     "text": [
      "100%|██████████| 15/15 [00:04<00:00,  3.31it/s, Epoch=2, LR=2.04e-5, Train_Loss=0.687]\n",
      "100%|██████████| 12/12 [00:01<00:00,  7.42it/s, Epoch=2, LR=2.04e-5, Valid_Loss=0.472]\n"
     ]
    },
    {
     "name": "stdout",
     "output_type": "stream",
     "text": [
      "\u001b[34mValidation AUROC Improved (0.05927 ---> 0.11517)\n",
      "\n"
     ]
    },
    {
     "name": "stderr",
     "output_type": "stream",
     "text": [
      "100%|██████████| 15/15 [00:04<00:00,  3.28it/s, Epoch=3, LR=3.02e-5, Train_Loss=0.601]\n",
      "100%|██████████| 12/12 [00:01<00:00,  7.65it/s, Epoch=3, LR=3.02e-5, Valid_Loss=0.481]\n"
     ]
    },
    {
     "name": "stdout",
     "output_type": "stream",
     "text": [
      "\u001b[34mValidation AUROC Improved (0.11517 ---> 0.13850)\n",
      "\n"
     ]
    },
    {
     "name": "stderr",
     "output_type": "stream",
     "text": [
      "100%|██████████| 15/15 [00:04<00:00,  3.27it/s, Epoch=4, LR=3.93e-5, Train_Loss=0.519]\n",
      "100%|██████████| 12/12 [00:01<00:00,  7.43it/s, Epoch=4, LR=3.93e-5, Valid_Loss=0.54] \n"
     ]
    },
    {
     "name": "stdout",
     "output_type": "stream",
     "text": [
      "\u001b[34mValidation AUROC Improved (0.13850 ---> 0.15260)\n",
      "\n"
     ]
    },
    {
     "name": "stderr",
     "output_type": "stream",
     "text": [
      "100%|██████████| 15/15 [00:04<00:00,  3.30it/s, Epoch=5, LR=3.92e-5, Train_Loss=0.526]\n",
      "100%|██████████| 12/12 [00:01<00:00,  7.44it/s, Epoch=5, LR=3.92e-5, Valid_Loss=0.546]\n"
     ]
    },
    {
     "name": "stdout",
     "output_type": "stream",
     "text": [
      "\u001b[34mValidation AUROC Improved (0.15260 ---> 0.15857)\n",
      "\n"
     ]
    },
    {
     "name": "stderr",
     "output_type": "stream",
     "text": [
      "100%|██████████| 15/15 [00:04<00:00,  3.24it/s, Epoch=6, LR=3.87e-5, Train_Loss=0.477]\n",
      "100%|██████████| 12/12 [00:01<00:00,  7.33it/s, Epoch=6, LR=3.87e-5, Valid_Loss=0.452]\n"
     ]
    },
    {
     "name": "stdout",
     "output_type": "stream",
     "text": [
      "\u001b[34mValidation AUROC Improved (0.15857 ---> 0.16152)\n",
      "\n"
     ]
    },
    {
     "name": "stderr",
     "output_type": "stream",
     "text": [
      "100%|██████████| 15/15 [00:04<00:00,  3.28it/s, Epoch=7, LR=3.8e-5, Train_Loss=0.426] \n",
      "100%|██████████| 12/12 [00:01<00:00,  7.35it/s, Epoch=7, LR=3.8e-5, Valid_Loss=0.245]\n"
     ]
    },
    {
     "name": "stdout",
     "output_type": "stream",
     "text": [
      "\u001b[34mValidation AUROC Improved (0.16152 ---> 0.16296)\n",
      "\n"
     ]
    },
    {
     "name": "stderr",
     "output_type": "stream",
     "text": [
      "100%|██████████| 15/15 [00:04<00:00,  3.33it/s, Epoch=8, LR=3.7e-5, Train_Loss=0.462] \n",
      "100%|██████████| 12/12 [00:01<00:00,  7.45it/s, Epoch=8, LR=3.7e-5, Valid_Loss=0.436]\n"
     ]
    },
    {
     "name": "stdout",
     "output_type": "stream",
     "text": [
      "Validation pAUC80 not Improved (0.16113)\n",
      "\n"
     ]
    },
    {
     "name": "stderr",
     "output_type": "stream",
     "text": [
      "100%|██████████| 15/15 [00:04<00:00,  3.33it/s, Epoch=9, LR=3.58e-5, Train_Loss=0.381]\n",
      "100%|██████████| 12/12 [00:01<00:00,  7.42it/s, Epoch=9, LR=3.58e-5, Valid_Loss=0.292]\n"
     ]
    },
    {
     "name": "stdout",
     "output_type": "stream",
     "text": [
      "Validation pAUC80 not Improved (0.15310)\n",
      "\n"
     ]
    },
    {
     "name": "stderr",
     "output_type": "stream",
     "text": [
      "100%|██████████| 15/15 [00:04<00:00,  3.28it/s, Epoch=10, LR=3.43e-5, Train_Loss=0.472]\n",
      "100%|██████████| 12/12 [00:01<00:00,  7.28it/s, Epoch=10, LR=3.43e-5, Valid_Loss=0.277]\n"
     ]
    },
    {
     "name": "stdout",
     "output_type": "stream",
     "text": [
      "\u001b[34mValidation AUROC Improved (0.16296 ---> 0.16351)\n",
      "\n"
     ]
    },
    {
     "name": "stderr",
     "output_type": "stream",
     "text": [
      "100%|██████████| 15/15 [00:04<00:00,  3.29it/s, Epoch=11, LR=3.26e-5, Train_Loss=0.358]\n",
      "100%|██████████| 12/12 [00:01<00:00,  7.43it/s, Epoch=11, LR=3.26e-5, Valid_Loss=0.396]\n"
     ]
    },
    {
     "name": "stdout",
     "output_type": "stream",
     "text": [
      "Validation pAUC80 not Improved (0.16230)\n",
      "\n"
     ]
    },
    {
     "name": "stderr",
     "output_type": "stream",
     "text": [
      "100%|██████████| 15/15 [00:04<00:00,  3.30it/s, Epoch=12, LR=3.07e-5, Train_Loss=0.452]\n",
      "100%|██████████| 12/12 [00:01<00:00,  7.45it/s, Epoch=12, LR=3.07e-5, Valid_Loss=0.355]\n"
     ]
    },
    {
     "name": "stdout",
     "output_type": "stream",
     "text": [
      "Validation pAUC80 not Improved (0.16106)\n",
      "\n"
     ]
    },
    {
     "name": "stderr",
     "output_type": "stream",
     "text": [
      "100%|██████████| 15/15 [00:04<00:00,  3.31it/s, Epoch=13, LR=2.87e-5, Train_Loss=0.408]\n",
      "100%|██████████| 12/12 [00:01<00:00,  7.41it/s, Epoch=13, LR=2.87e-5, Valid_Loss=0.241]\n"
     ]
    },
    {
     "name": "stdout",
     "output_type": "stream",
     "text": [
      "\u001b[34mValidation AUROC Improved (0.16351 ---> 0.16426)\n",
      "\n"
     ]
    },
    {
     "name": "stderr",
     "output_type": "stream",
     "text": [
      "100%|██████████| 15/15 [00:04<00:00,  3.29it/s, Epoch=14, LR=2.65e-5, Train_Loss=0.367]\n",
      "100%|██████████| 12/12 [00:01<00:00,  7.43it/s, Epoch=14, LR=2.65e-5, Valid_Loss=0.271]\n"
     ]
    },
    {
     "name": "stdout",
     "output_type": "stream",
     "text": [
      "Validation pAUC80 not Improved (0.15853)\n",
      "\n"
     ]
    },
    {
     "name": "stderr",
     "output_type": "stream",
     "text": [
      "100%|██████████| 15/15 [00:04<00:00,  3.30it/s, Epoch=15, LR=2.42e-5, Train_Loss=0.345]\n",
      "100%|██████████| 12/12 [00:01<00:00,  7.54it/s, Epoch=15, LR=2.42e-5, Valid_Loss=0.351]\n"
     ]
    },
    {
     "name": "stdout",
     "output_type": "stream",
     "text": [
      "\u001b[34mValidation AUROC Improved (0.16426 ---> 0.16692)\n",
      "\n"
     ]
    },
    {
     "name": "stderr",
     "output_type": "stream",
     "text": [
      "100%|██████████| 15/15 [00:04<00:00,  3.30it/s, Epoch=16, LR=2.19e-5, Train_Loss=0.371]\n",
      "100%|██████████| 12/12 [00:01<00:00,  7.42it/s, Epoch=16, LR=2.19e-5, Valid_Loss=0.223]\n"
     ]
    },
    {
     "name": "stdout",
     "output_type": "stream",
     "text": [
      "Validation pAUC80 not Improved (0.16682)\n",
      "\n"
     ]
    },
    {
     "name": "stderr",
     "output_type": "stream",
     "text": [
      "100%|██████████| 15/15 [00:04<00:00,  3.25it/s, Epoch=17, LR=1.95e-5, Train_Loss=0.36] \n",
      "100%|██████████| 12/12 [00:01<00:00,  7.36it/s, Epoch=17, LR=1.95e-5, Valid_Loss=0.218]\n"
     ]
    },
    {
     "name": "stdout",
     "output_type": "stream",
     "text": [
      "\u001b[34mValidation AUROC Improved (0.16692 ---> 0.16924)\n",
      "\n"
     ]
    },
    {
     "name": "stderr",
     "output_type": "stream",
     "text": [
      "100%|██████████| 15/15 [00:04<00:00,  3.27it/s, Epoch=18, LR=1.71e-5, Train_Loss=0.355]\n",
      "100%|██████████| 12/12 [00:01<00:00,  7.41it/s, Epoch=18, LR=1.71e-5, Valid_Loss=0.271]\n"
     ]
    },
    {
     "name": "stdout",
     "output_type": "stream",
     "text": [
      "Validation pAUC80 not Improved (0.16553)\n",
      "\n"
     ]
    },
    {
     "name": "stderr",
     "output_type": "stream",
     "text": [
      "100%|██████████| 15/15 [00:04<00:00,  3.28it/s, Epoch=19, LR=1.48e-5, Train_Loss=0.348]\n",
      "100%|██████████| 12/12 [00:01<00:00,  7.64it/s, Epoch=19, LR=1.48e-5, Valid_Loss=0.269]\n"
     ]
    },
    {
     "name": "stdout",
     "output_type": "stream",
     "text": [
      "Validation pAUC80 not Improved (0.16625)\n",
      "\n"
     ]
    },
    {
     "name": "stderr",
     "output_type": "stream",
     "text": [
      "100%|██████████| 15/15 [00:04<00:00,  3.26it/s, Epoch=20, LR=1.25e-5, Train_Loss=0.389]\n",
      "100%|██████████| 12/12 [00:01<00:00,  7.41it/s, Epoch=20, LR=1.25e-5, Valid_Loss=0.287]\n"
     ]
    },
    {
     "name": "stdout",
     "output_type": "stream",
     "text": [
      "Validation pAUC80 not Improved (0.16418)\n",
      "\n"
     ]
    },
    {
     "name": "stderr",
     "output_type": "stream",
     "text": [
      "100%|██████████| 15/15 [00:04<00:00,  3.29it/s, Epoch=21, LR=1.04e-5, Train_Loss=0.386]\n",
      "100%|██████████| 12/12 [00:01<00:00,  7.40it/s, Epoch=21, LR=1.04e-5, Valid_Loss=0.308]\n"
     ]
    },
    {
     "name": "stdout",
     "output_type": "stream",
     "text": [
      "Validation pAUC80 not Improved (0.16801)\n",
      "\n"
     ]
    },
    {
     "name": "stderr",
     "output_type": "stream",
     "text": [
      "100%|██████████| 15/15 [00:04<00:00,  3.28it/s, Epoch=22, LR=8.37e-6, Train_Loss=0.338]\n",
      "100%|██████████| 12/12 [00:01<00:00,  7.71it/s, Epoch=22, LR=8.37e-6, Valid_Loss=0.267]\n"
     ]
    },
    {
     "name": "stdout",
     "output_type": "stream",
     "text": [
      "Validation pAUC80 not Improved (0.16882)\n",
      "\n"
     ]
    },
    {
     "name": "stderr",
     "output_type": "stream",
     "text": [
      "100%|██████████| 15/15 [00:04<00:00,  3.27it/s, Epoch=23, LR=6.51e-6, Train_Loss=0.192]\n",
      "100%|██████████| 12/12 [00:01<00:00,  7.40it/s, Epoch=23, LR=6.51e-6, Valid_Loss=0.234]\n"
     ]
    },
    {
     "name": "stdout",
     "output_type": "stream",
     "text": [
      "Validation pAUC80 not Improved (0.16417)\n",
      "\n"
     ]
    },
    {
     "name": "stderr",
     "output_type": "stream",
     "text": [
      "100%|██████████| 15/15 [00:04<00:00,  3.28it/s, Epoch=24, LR=4.84e-6, Train_Loss=0.201]\n",
      "100%|██████████| 12/12 [00:01<00:00,  7.37it/s, Epoch=24, LR=4.84e-6, Valid_Loss=0.305]\n"
     ]
    },
    {
     "name": "stdout",
     "output_type": "stream",
     "text": [
      "Validation pAUC80 not Improved (0.16893)\n",
      "\n"
     ]
    },
    {
     "name": "stderr",
     "output_type": "stream",
     "text": [
      "100%|██████████| 15/15 [00:04<00:00,  3.25it/s, Epoch=25, LR=3.39e-6, Train_Loss=0.17] \n",
      "100%|██████████| 12/12 [00:01<00:00,  7.41it/s, Epoch=25, LR=3.39e-6, Valid_Loss=0.293]\n"
     ]
    },
    {
     "name": "stdout",
     "output_type": "stream",
     "text": [
      "\u001b[34mValidation AUROC Improved (0.16924 ---> 0.16940)\n",
      "\n"
     ]
    },
    {
     "name": "stderr",
     "output_type": "stream",
     "text": [
      "100%|██████████| 15/15 [00:04<00:00,  3.29it/s, Epoch=26, LR=2.18e-6, Train_Loss=0.181]\n",
      "100%|██████████| 12/12 [00:01<00:00,  7.69it/s, Epoch=26, LR=2.18e-6, Valid_Loss=0.272]\n"
     ]
    },
    {
     "name": "stdout",
     "output_type": "stream",
     "text": [
      "Validation pAUC80 not Improved (0.16745)\n",
      "\n"
     ]
    },
    {
     "name": "stderr",
     "output_type": "stream",
     "text": [
      "100%|██████████| 15/15 [00:04<00:00,  3.28it/s, Epoch=27, LR=1.22e-6, Train_Loss=0.196]\n",
      "100%|██████████| 12/12 [00:01<00:00,  7.31it/s, Epoch=27, LR=1.22e-6, Valid_Loss=0.27] \n"
     ]
    },
    {
     "name": "stdout",
     "output_type": "stream",
     "text": [
      "Validation pAUC80 not Improved (0.16926)\n",
      "\n"
     ]
    },
    {
     "name": "stderr",
     "output_type": "stream",
     "text": [
      "100%|██████████| 15/15 [00:04<00:00,  3.29it/s, Epoch=28, LR=5.35e-7, Train_Loss=0.159]\n",
      "100%|██████████| 12/12 [00:01<00:00,  7.52it/s, Epoch=28, LR=5.35e-7, Valid_Loss=0.249]\n"
     ]
    },
    {
     "name": "stdout",
     "output_type": "stream",
     "text": [
      "Validation pAUC80 not Improved (0.16918)\n",
      "\n"
     ]
    },
    {
     "name": "stderr",
     "output_type": "stream",
     "text": [
      "100%|██████████| 15/15 [00:04<00:00,  3.29it/s, Epoch=29, LR=1.26e-7, Train_Loss=0.188]\n",
      "100%|██████████| 12/12 [00:01<00:00,  7.46it/s, Epoch=29, LR=1.26e-7, Valid_Loss=0.255]\n"
     ]
    },
    {
     "name": "stdout",
     "output_type": "stream",
     "text": [
      "\u001b[34mValidation AUROC Improved (0.16940 ---> 0.16941)\n",
      "\n"
     ]
    },
    {
     "name": "stderr",
     "output_type": "stream",
     "text": [
      "100%|██████████| 15/15 [00:04<00:00,  3.29it/s, Epoch=30, LR=1.65e-9, Train_Loss=0.173]\n",
      "100%|██████████| 12/12 [00:01<00:00,  7.43it/s, Epoch=30, LR=1.65e-9, Valid_Loss=0.254]\n"
     ]
    },
    {
     "name": "stdout",
     "output_type": "stream",
     "text": [
      "\u001b[34mValidation AUROC Improved (0.16941 ---> 0.16942)\n",
      "\n",
      "Training complete in 0h 3m 26s\n",
      "Best AUROC: 0.1694\n"
     ]
    },
    {
     "name": "stderr",
     "output_type": "stream",
     "text": [
      "100%|██████████| 590/590 [01:07<00:00,  8.71it/s]\n"
     ]
    },
    {
     "name": "stdout",
     "output_type": "stream",
     "text": [
      "fold3_pAUC (not filtered): 0.1685\n",
      "==============================\n",
      "fold 4\n",
      "==============================\n",
      "●train\n",
      "original> (330985, 59) 455 (834,)\n",
      "filtered> (9555, 59) 455 (784,)\n",
      "●val\n",
      "original> (70074, 59) 98 (208,)\n",
      "filtered> (2058, 59) 98 (196,)\n",
      "[INFO] Using GPU: NVIDIA GeForce RTX 4090\n",
      "\n"
     ]
    },
    {
     "name": "stderr",
     "output_type": "stream",
     "text": [
      "100%|██████████| 14/14 [00:04<00:00,  3.25it/s, Epoch=1, LR=9.95e-6, Train_Loss=0.976]\n",
      "100%|██████████| 17/17 [00:02<00:00,  7.73it/s, Epoch=1, LR=9.95e-6, Valid_Loss=0.674]\n"
     ]
    },
    {
     "name": "stdout",
     "output_type": "stream",
     "text": [
      "\u001b[34mValidation AUROC Improved (-inf ---> 0.04363)\n",
      "\n"
     ]
    },
    {
     "name": "stderr",
     "output_type": "stream",
     "text": [
      "100%|██████████| 14/14 [00:04<00:00,  3.26it/s, Epoch=2, LR=1.91e-5, Train_Loss=0.753]\n",
      "100%|██████████| 17/17 [00:02<00:00,  7.78it/s, Epoch=2, LR=1.91e-5, Valid_Loss=0.645]\n"
     ]
    },
    {
     "name": "stdout",
     "output_type": "stream",
     "text": [
      "\u001b[34mValidation AUROC Improved (0.04363 ---> 0.07007)\n",
      "\n"
     ]
    },
    {
     "name": "stderr",
     "output_type": "stream",
     "text": [
      "100%|██████████| 14/14 [00:04<00:00,  3.25it/s, Epoch=3, LR=2.82e-5, Train_Loss=0.627]\n",
      "100%|██████████| 17/17 [00:02<00:00,  7.71it/s, Epoch=3, LR=2.82e-5, Valid_Loss=0.469]\n"
     ]
    },
    {
     "name": "stdout",
     "output_type": "stream",
     "text": [
      "\u001b[34mValidation AUROC Improved (0.07007 ---> 0.12185)\n",
      "\n"
     ]
    },
    {
     "name": "stderr",
     "output_type": "stream",
     "text": [
      "100%|██████████| 14/14 [00:04<00:00,  3.27it/s, Epoch=4, LR=3.74e-5, Train_Loss=0.533]\n",
      "100%|██████████| 17/17 [00:02<00:00,  7.74it/s, Epoch=4, LR=3.74e-5, Valid_Loss=0.577]\n"
     ]
    },
    {
     "name": "stdout",
     "output_type": "stream",
     "text": [
      "\u001b[34mValidation AUROC Improved (0.12185 ---> 0.13724)\n",
      "\n"
     ]
    },
    {
     "name": "stderr",
     "output_type": "stream",
     "text": [
      "100%|██████████| 14/14 [00:04<00:00,  3.26it/s, Epoch=5, LR=3.93e-5, Train_Loss=0.506]\n",
      "100%|██████████| 17/17 [00:02<00:00,  7.84it/s, Epoch=5, LR=3.93e-5, Valid_Loss=0.442]\n"
     ]
    },
    {
     "name": "stdout",
     "output_type": "stream",
     "text": [
      "\u001b[34mValidation AUROC Improved (0.13724 ---> 0.14582)\n",
      "\n"
     ]
    },
    {
     "name": "stderr",
     "output_type": "stream",
     "text": [
      "100%|██████████| 14/14 [00:04<00:00,  3.27it/s, Epoch=6, LR=3.89e-5, Train_Loss=0.459]\n",
      "100%|██████████| 17/17 [00:02<00:00,  7.77it/s, Epoch=6, LR=3.89e-5, Valid_Loss=0.417]\n"
     ]
    },
    {
     "name": "stdout",
     "output_type": "stream",
     "text": [
      "\u001b[34mValidation AUROC Improved (0.14582 ---> 0.15721)\n",
      "\n"
     ]
    },
    {
     "name": "stderr",
     "output_type": "stream",
     "text": [
      "100%|██████████| 14/14 [00:04<00:00,  3.27it/s, Epoch=7, LR=3.82e-5, Train_Loss=0.4]  \n",
      "100%|██████████| 17/17 [00:02<00:00,  7.72it/s, Epoch=7, LR=3.82e-5, Valid_Loss=0.263]\n"
     ]
    },
    {
     "name": "stdout",
     "output_type": "stream",
     "text": [
      "\u001b[34mValidation AUROC Improved (0.15721 ---> 0.15889)\n",
      "\n"
     ]
    },
    {
     "name": "stderr",
     "output_type": "stream",
     "text": [
      "100%|██████████| 14/14 [00:04<00:00,  3.23it/s, Epoch=8, LR=3.73e-5, Train_Loss=0.496]\n",
      "100%|██████████| 17/17 [00:02<00:00,  7.73it/s, Epoch=8, LR=3.73e-5, Valid_Loss=0.722]\n"
     ]
    },
    {
     "name": "stdout",
     "output_type": "stream",
     "text": [
      "Validation pAUC80 not Improved (0.15876)\n",
      "\n"
     ]
    },
    {
     "name": "stderr",
     "output_type": "stream",
     "text": [
      "100%|██████████| 14/14 [00:04<00:00,  3.29it/s, Epoch=9, LR=3.61e-5, Train_Loss=0.433]\n",
      "100%|██████████| 17/17 [00:02<00:00,  7.80it/s, Epoch=9, LR=3.61e-5, Valid_Loss=0.324]\n"
     ]
    },
    {
     "name": "stdout",
     "output_type": "stream",
     "text": [
      "\u001b[34mValidation AUROC Improved (0.15889 ---> 0.15896)\n",
      "\n"
     ]
    },
    {
     "name": "stderr",
     "output_type": "stream",
     "text": [
      "100%|██████████| 14/14 [00:04<00:00,  3.28it/s, Epoch=10, LR=3.46e-5, Train_Loss=0.384]\n",
      "100%|██████████| 17/17 [00:02<00:00,  7.69it/s, Epoch=10, LR=3.46e-5, Valid_Loss=0.352]\n"
     ]
    },
    {
     "name": "stdout",
     "output_type": "stream",
     "text": [
      "\u001b[34mValidation AUROC Improved (0.15896 ---> 0.16637)\n",
      "\n"
     ]
    },
    {
     "name": "stderr",
     "output_type": "stream",
     "text": [
      "100%|██████████| 14/14 [00:04<00:00,  3.26it/s, Epoch=11, LR=3.3e-5, Train_Loss=0.437] \n",
      "100%|██████████| 17/17 [00:02<00:00,  7.80it/s, Epoch=11, LR=3.3e-5, Valid_Loss=0.374]\n"
     ]
    },
    {
     "name": "stdout",
     "output_type": "stream",
     "text": [
      "Validation pAUC80 not Improved (0.16561)\n",
      "\n"
     ]
    },
    {
     "name": "stderr",
     "output_type": "stream",
     "text": [
      "100%|██████████| 14/14 [00:04<00:00,  3.27it/s, Epoch=12, LR=3.11e-5, Train_Loss=0.416]\n",
      "100%|██████████| 17/17 [00:02<00:00,  7.75it/s, Epoch=12, LR=3.11e-5, Valid_Loss=0.398]\n"
     ]
    },
    {
     "name": "stdout",
     "output_type": "stream",
     "text": [
      "Validation pAUC80 not Improved (0.16445)\n",
      "\n"
     ]
    },
    {
     "name": "stderr",
     "output_type": "stream",
     "text": [
      "100%|██████████| 14/14 [00:04<00:00,  3.23it/s, Epoch=13, LR=2.91e-5, Train_Loss=0.351]\n",
      "100%|██████████| 17/17 [00:02<00:00,  7.87it/s, Epoch=13, LR=2.91e-5, Valid_Loss=0.356]\n"
     ]
    },
    {
     "name": "stdout",
     "output_type": "stream",
     "text": [
      "Validation pAUC80 not Improved (0.16312)\n",
      "\n"
     ]
    },
    {
     "name": "stderr",
     "output_type": "stream",
     "text": [
      "100%|██████████| 14/14 [00:04<00:00,  3.29it/s, Epoch=14, LR=2.69e-5, Train_Loss=0.345]\n",
      "100%|██████████| 17/17 [00:02<00:00,  7.77it/s, Epoch=14, LR=2.69e-5, Valid_Loss=0.357]\n"
     ]
    },
    {
     "name": "stdout",
     "output_type": "stream",
     "text": [
      "Validation pAUC80 not Improved (0.16491)\n",
      "\n"
     ]
    },
    {
     "name": "stderr",
     "output_type": "stream",
     "text": [
      "100%|██████████| 14/14 [00:04<00:00,  3.28it/s, Epoch=15, LR=2.46e-5, Train_Loss=0.457]\n",
      "100%|██████████| 17/17 [00:02<00:00,  7.70it/s, Epoch=15, LR=2.46e-5, Valid_Loss=0.331]\n"
     ]
    },
    {
     "name": "stdout",
     "output_type": "stream",
     "text": [
      "\u001b[34mValidation AUROC Improved (0.16637 ---> 0.16674)\n",
      "\n"
     ]
    },
    {
     "name": "stderr",
     "output_type": "stream",
     "text": [
      "100%|██████████| 14/14 [00:04<00:00,  3.26it/s, Epoch=16, LR=2.22e-5, Train_Loss=0.367]\n",
      "100%|██████████| 17/17 [00:02<00:00,  7.74it/s, Epoch=16, LR=2.22e-5, Valid_Loss=0.242]\n"
     ]
    },
    {
     "name": "stdout",
     "output_type": "stream",
     "text": [
      "Validation pAUC80 not Improved (0.16588)\n",
      "\n"
     ]
    },
    {
     "name": "stderr",
     "output_type": "stream",
     "text": [
      "100%|██████████| 14/14 [00:04<00:00,  3.27it/s, Epoch=17, LR=1.98e-5, Train_Loss=0.388]\n",
      "100%|██████████| 17/17 [00:02<00:00,  7.75it/s, Epoch=17, LR=1.98e-5, Valid_Loss=0.293]\n"
     ]
    },
    {
     "name": "stdout",
     "output_type": "stream",
     "text": [
      "\u001b[34mValidation AUROC Improved (0.16674 ---> 0.16858)\n",
      "\n"
     ]
    },
    {
     "name": "stderr",
     "output_type": "stream",
     "text": [
      "100%|██████████| 14/14 [00:04<00:00,  3.26it/s, Epoch=18, LR=1.74e-5, Train_Loss=0.38] \n",
      "100%|██████████| 17/17 [00:02<00:00,  7.79it/s, Epoch=18, LR=1.74e-5, Valid_Loss=0.323]\n"
     ]
    },
    {
     "name": "stdout",
     "output_type": "stream",
     "text": [
      "\u001b[34mValidation AUROC Improved (0.16858 ---> 0.17027)\n",
      "\n"
     ]
    },
    {
     "name": "stderr",
     "output_type": "stream",
     "text": [
      "100%|██████████| 14/14 [00:04<00:00,  3.23it/s, Epoch=19, LR=1.51e-5, Train_Loss=0.359]\n",
      "100%|██████████| 17/17 [00:02<00:00,  7.73it/s, Epoch=19, LR=1.51e-5, Valid_Loss=0.271]\n"
     ]
    },
    {
     "name": "stdout",
     "output_type": "stream",
     "text": [
      "Validation pAUC80 not Improved (0.16738)\n",
      "\n"
     ]
    },
    {
     "name": "stderr",
     "output_type": "stream",
     "text": [
      "100%|██████████| 14/14 [00:04<00:00,  3.25it/s, Epoch=20, LR=1.28e-5, Train_Loss=0.357]\n",
      "100%|██████████| 17/17 [00:02<00:00,  7.66it/s, Epoch=20, LR=1.28e-5, Valid_Loss=0.34] \n"
     ]
    },
    {
     "name": "stdout",
     "output_type": "stream",
     "text": [
      "Validation pAUC80 not Improved (0.16774)\n",
      "\n"
     ]
    },
    {
     "name": "stderr",
     "output_type": "stream",
     "text": [
      "100%|██████████| 14/14 [00:04<00:00,  3.29it/s, Epoch=21, LR=1.06e-5, Train_Loss=0.396]\n",
      "100%|██████████| 17/17 [00:02<00:00,  7.73it/s, Epoch=21, LR=1.06e-5, Valid_Loss=0.296]\n"
     ]
    },
    {
     "name": "stdout",
     "output_type": "stream",
     "text": [
      "\u001b[34mValidation AUROC Improved (0.17027 ---> 0.17091)\n",
      "\n"
     ]
    },
    {
     "name": "stderr",
     "output_type": "stream",
     "text": [
      "100%|██████████| 14/14 [00:04<00:00,  3.24it/s, Epoch=22, LR=8.53e-6, Train_Loss=0.336]\n",
      "100%|██████████| 17/17 [00:02<00:00,  7.70it/s, Epoch=22, LR=8.53e-6, Valid_Loss=0.297]\n"
     ]
    },
    {
     "name": "stdout",
     "output_type": "stream",
     "text": [
      "\u001b[34mValidation AUROC Improved (0.17091 ---> 0.17177)\n",
      "\n"
     ]
    },
    {
     "name": "stderr",
     "output_type": "stream",
     "text": [
      "100%|██████████| 14/14 [00:04<00:00,  3.27it/s, Epoch=23, LR=6.64e-6, Train_Loss=0.191]\n",
      "100%|██████████| 17/17 [00:02<00:00,  7.82it/s, Epoch=23, LR=6.64e-6, Valid_Loss=0.242]\n"
     ]
    },
    {
     "name": "stdout",
     "output_type": "stream",
     "text": [
      "Validation pAUC80 not Improved (0.17149)\n",
      "\n"
     ]
    },
    {
     "name": "stderr",
     "output_type": "stream",
     "text": [
      "100%|██████████| 14/14 [00:04<00:00,  3.28it/s, Epoch=24, LR=4.94e-6, Train_Loss=0.169]\n",
      "100%|██████████| 17/17 [00:02<00:00,  7.84it/s, Epoch=24, LR=4.94e-6, Valid_Loss=0.237]\n"
     ]
    },
    {
     "name": "stdout",
     "output_type": "stream",
     "text": [
      "Validation pAUC80 not Improved (0.17014)\n",
      "\n"
     ]
    },
    {
     "name": "stderr",
     "output_type": "stream",
     "text": [
      "100%|██████████| 14/14 [00:04<00:00,  3.28it/s, Epoch=25, LR=3.46e-6, Train_Loss=0.183]\n",
      "100%|██████████| 17/17 [00:02<00:00,  7.75it/s, Epoch=25, LR=3.46e-6, Valid_Loss=0.263]\n"
     ]
    },
    {
     "name": "stdout",
     "output_type": "stream",
     "text": [
      "Validation pAUC80 not Improved (0.17047)\n",
      "\n"
     ]
    },
    {
     "name": "stderr",
     "output_type": "stream",
     "text": [
      "100%|██████████| 14/14 [00:04<00:00,  3.30it/s, Epoch=26, LR=2.22e-6, Train_Loss=0.175]\n",
      "100%|██████████| 17/17 [00:02<00:00,  7.83it/s, Epoch=26, LR=2.22e-6, Valid_Loss=0.257]\n"
     ]
    },
    {
     "name": "stdout",
     "output_type": "stream",
     "text": [
      "Validation pAUC80 not Improved (0.17164)\n",
      "\n"
     ]
    },
    {
     "name": "stderr",
     "output_type": "stream",
     "text": [
      "100%|██████████| 14/14 [00:04<00:00,  3.28it/s, Epoch=27, LR=1.25e-6, Train_Loss=0.166]\n",
      "100%|██████████| 17/17 [00:02<00:00,  7.63it/s, Epoch=27, LR=1.25e-6, Valid_Loss=0.243]\n"
     ]
    },
    {
     "name": "stdout",
     "output_type": "stream",
     "text": [
      "Validation pAUC80 not Improved (0.17157)\n",
      "\n"
     ]
    },
    {
     "name": "stderr",
     "output_type": "stream",
     "text": [
      "100%|██████████| 14/14 [00:04<00:00,  3.26it/s, Epoch=28, LR=5.45e-7, Train_Loss=0.181]\n",
      "100%|██████████| 17/17 [00:02<00:00,  7.82it/s, Epoch=28, LR=5.45e-7, Valid_Loss=0.246]\n"
     ]
    },
    {
     "name": "stdout",
     "output_type": "stream",
     "text": [
      "Validation pAUC80 not Improved (0.17125)\n",
      "\n"
     ]
    },
    {
     "name": "stderr",
     "output_type": "stream",
     "text": [
      "100%|██████████| 14/14 [00:04<00:00,  3.27it/s, Epoch=29, LR=1.27e-7, Train_Loss=0.156]\n",
      "100%|██████████| 17/17 [00:02<00:00,  7.66it/s, Epoch=29, LR=1.27e-7, Valid_Loss=0.254]\n"
     ]
    },
    {
     "name": "stdout",
     "output_type": "stream",
     "text": [
      "Validation pAUC80 not Improved (0.17124)\n",
      "\n"
     ]
    },
    {
     "name": "stderr",
     "output_type": "stream",
     "text": [
      "100%|██████████| 14/14 [00:04<00:00,  3.27it/s, Epoch=30, LR=1.76e-9, Train_Loss=0.161]\n",
      "100%|██████████| 17/17 [00:02<00:00,  7.83it/s, Epoch=30, LR=1.76e-9, Valid_Loss=0.253]\n"
     ]
    },
    {
     "name": "stdout",
     "output_type": "stream",
     "text": [
      "Validation pAUC80 not Improved (0.17121)\n",
      "\n",
      "Training complete in 0h 3m 35s\n",
      "Best AUROC: 0.1718\n"
     ]
    },
    {
     "name": "stderr",
     "output_type": "stream",
     "text": [
      "100%|██████████| 548/548 [01:03<00:00,  8.67it/s]\n"
     ]
    },
    {
     "name": "stdout",
     "output_type": "stream",
     "text": [
      "fold4_pAUC (not filtered): 0.1692\n"
     ]
    }
   ],
   "source": [
    "list_score_notFiltered = []\n",
    "list_preds = []\n",
    "for fold in range(CONFIG[\"n_fold\"]):\n",
    "    print(\"===\"*10)\n",
    "    print(f\"fold {fold}\")\n",
    "    print(\"===\"*10)\n",
    "    \n",
    "    df_train = df[df[\"kfold\"]!=fold]\n",
    "    df_val = df[df[\"kfold\"]==fold]\n",
    "    df_val[\"target\"] = df_val[\"target_original\"]\n",
    "\n",
    "    # trainのダウンサンプリング\n",
    "    print(\"●train\")\n",
    "    print(\"original>\", df_train.shape, df_train.target.sum(), df_train[\"patient_id\"].unique().shape)\n",
    "    df_positive = df_train[df_train[\"target\"] == 1].reset_index(drop=True)\n",
    "    df_negative = df_train[df_train[\"target\"] == 0].sample(n=df_positive.shape[0]*20, random_state=0) # ランダムに抽出\n",
    "    df_train = pd.concat([df_positive, df_negative])  # positive:negative = 1:20\n",
    "    del df_positive, df_negative\n",
    "    print(\"filtered>\", df_train.shape, df_train.target.sum(), df_train[\"patient_id\"].unique().shape)\n",
    "    \n",
    "    # valのダウンサンプリング\n",
    "    print(\"●val\")\n",
    "    print(\"original>\", df_val.shape, df_val.target.sum(), df_val[\"patient_id\"].unique().shape)\n",
    "    df_positive = df_val[df_val[\"target\"] == 1].reset_index(drop=True)\n",
    "    df_negative = df_val[df_val[\"target\"] == 0].sample(n=df_positive.shape[0]*20, random_state=0) # ランダムに抽出\n",
    "    df_val = pd.concat([df_positive, df_negative])  # positive:negative = 1:20\n",
    "    del df_positive, df_negative\n",
    "    print(\"filtered>\", df_val.shape, df_val.target.sum(), df_val[\"patient_id\"].unique().shape)\n",
    "    \n",
    "    # いったん全データ結合\n",
    "    df_fold = pd.concat((df_train, df_val)).reset_index(drop=True)\n",
    "    del df_train, df_val\n",
    "    \n",
    "    model = ISICModel(CONFIG['model_name'], pretrained=True)\n",
    "    model.to(CONFIG['device']);\n",
    "    \n",
    "    # 最後のfoldだけ勾配を記録する うまく行ってるのかよくわからん\n",
    "#     if fold==4 and WANDB:\n",
    "#         wandb.watch(model, log=\"all\", log_freq=1)\n",
    "    \n",
    "    train_loader, valid_loader = prepare_loaders(df_fold, fold=fold)\n",
    "    # optimizer = optim.AdamW(model.parameters(), lr=CONFIG['learning_rate'], \n",
    "    #                         weight_decay=CONFIG['weight_decay'])\n",
    "    optimizer = optim.Adam(model.parameters(), lr=CONFIG['learning_rate'], \n",
    "                           weight_decay=CONFIG['weight_decay'])\n",
    "    T_max = len(train_loader) * CONFIG[\"epochs\"] - CONFIG[\"warmup_steps\"]\n",
    "    scheduler = fetch_scheduler(optimizer, T_max=T_max)\n",
    "    \n",
    "    model, history = run_training(model, optimizer, scheduler,\n",
    "                                  device=CONFIG['device'],\n",
    "                                  num_epochs=CONFIG['epochs'],\n",
    "                                  fold=fold)\n",
    "    \n",
    "    history = pd.DataFrame.from_dict(history)\n",
    "    history.to_csv(f\"{CONFIG['save_dir']}/history_fold{fold}.csv\", index=False)\n",
    "\n",
    "    #########################\n",
    "    # valの全データでスコア確認\n",
    "    #########################\n",
    "    df_val = df[df[\"kfold\"]==fold]\n",
    "    df_val[\"target\"] = df_val[\"target_original\"]\n",
    "    df_val_pred = df_val[[\"isic_id\", \"kfold\", \"target\"]]\n",
    "    \n",
    "    valid_dataset = ISICDataset(df_val, transforms=data_transforms[\"valid\"])\n",
    "    valid_loader = DataLoader(valid_dataset, batch_size=CONFIG['valid_batch_size'], \n",
    "                              num_workers=2, shuffle=False, pin_memory=True)\n",
    "    \n",
    "    preds = []\n",
    "    with torch.no_grad():\n",
    "        bar = tqdm(enumerate(valid_loader), total=len(valid_loader))\n",
    "        for step, data in bar:        \n",
    "            images = data['image'].to(CONFIG[\"device\"], dtype=torch.float)        \n",
    "            batch_size = images.size(0)\n",
    "            outputs = model(images).squeeze()\n",
    "            preds.extend(outputs.detach().cpu().numpy().flatten())\n",
    "    \n",
    "    df_val_pred[\"preds\"] = preds\n",
    "    list_preds.append(df_val_pred)\n",
    "\n",
    "    # マルチクラス用のpAUC計算\n",
    "    epoch_pauc = comp_score_list(df_val[\"target\"].to_list(), preds)\n",
    "    print(f\"fold{fold}_pAUC (not filtered): {epoch_pauc:.4f}\")\n",
    "    list_score_notFiltered.append(epoch_pauc)\n",
    "    \n",
    "    # 不要なメモリを開放\n",
    "    del model, optimizer, scheduler, train_loader, valid_loader, history\n",
    "    torch.cuda.empty_cache()"
   ]
  },
  {
   "cell_type": "markdown",
   "id": "62360601",
   "metadata": {
    "papermill": {
     "duration": 2.046424,
     "end_time": "2024-08-03T12:31:35.026915",
     "exception": false,
     "start_time": "2024-08-03T12:31:32.980491",
     "status": "completed"
    },
    "tags": []
   },
   "source": [
    "# <span><h1 style = \"font-family: garamond; font-size: 40px; font-style: normal; letter-spcaing: 3px; background-color: #f6f5f5; color :#fe346e; border-radius: 100px 100px; text-align:center\">Logs</h1></span>"
   ]
  },
  {
   "cell_type": "code",
   "execution_count": 29,
   "id": "d5fc75d8",
   "metadata": {
    "execution": {
     "iopub.execute_input": "2024-08-03T12:31:39.064592Z",
     "iopub.status.busy": "2024-08-03T12:31:39.064224Z",
     "iopub.status.idle": "2024-08-03T12:31:39.084141Z",
     "shell.execute_reply": "2024-08-03T12:31:39.083247Z"
    },
    "papermill": {
     "duration": 2.039168,
     "end_time": "2024-08-03T12:31:39.086114",
     "exception": false,
     "start_time": "2024-08-03T12:31:37.046946",
     "status": "completed"
    },
    "tags": []
   },
   "outputs": [
    {
     "data": {
      "text/html": [
       "<div>\n",
       "<style scoped>\n",
       "    .dataframe tbody tr th:only-of-type {\n",
       "        vertical-align: middle;\n",
       "    }\n",
       "\n",
       "    .dataframe tbody tr th {\n",
       "        vertical-align: top;\n",
       "    }\n",
       "\n",
       "    .dataframe thead th {\n",
       "        text-align: right;\n",
       "    }\n",
       "</style>\n",
       "<table border=\"1\" class=\"dataframe\">\n",
       "  <thead>\n",
       "    <tr style=\"text-align: right;\">\n",
       "      <th></th>\n",
       "      <th>Train Loss</th>\n",
       "      <th>Valid Loss</th>\n",
       "      <th>Valid AUROC</th>\n",
       "      <th>lr</th>\n",
       "    </tr>\n",
       "  </thead>\n",
       "  <tbody>\n",
       "    <tr>\n",
       "      <th>0</th>\n",
       "      <td>0.885160</td>\n",
       "      <td>0.698318</td>\n",
       "      <td>0.041302</td>\n",
       "      <td>0.000011</td>\n",
       "    </tr>\n",
       "    <tr>\n",
       "      <th>1</th>\n",
       "      <td>0.705034</td>\n",
       "      <td>0.473875</td>\n",
       "      <td>0.069467</td>\n",
       "      <td>0.000020</td>\n",
       "    </tr>\n",
       "    <tr>\n",
       "      <th>2</th>\n",
       "      <td>0.610054</td>\n",
       "      <td>0.291914</td>\n",
       "      <td>0.091368</td>\n",
       "      <td>0.000030</td>\n",
       "    </tr>\n",
       "    <tr>\n",
       "      <th>3</th>\n",
       "      <td>0.503392</td>\n",
       "      <td>0.485989</td>\n",
       "      <td>0.103616</td>\n",
       "      <td>0.000039</td>\n",
       "    </tr>\n",
       "    <tr>\n",
       "      <th>4</th>\n",
       "      <td>0.520056</td>\n",
       "      <td>0.385501</td>\n",
       "      <td>0.119737</td>\n",
       "      <td>0.000039</td>\n",
       "    </tr>\n",
       "  </tbody>\n",
       "</table>\n",
       "</div>"
      ],
      "text/plain": [
       "   Train Loss  Valid Loss  Valid AUROC        lr\n",
       "0    0.885160    0.698318     0.041302  0.000011\n",
       "1    0.705034    0.473875     0.069467  0.000020\n",
       "2    0.610054    0.291914     0.091368  0.000030\n",
       "3    0.503392    0.485989     0.103616  0.000039\n",
       "4    0.520056    0.385501     0.119737  0.000039"
      ]
     },
     "execution_count": 29,
     "metadata": {},
     "output_type": "execute_result"
    }
   ],
   "source": [
    "history0 = pd.read_csv(f\"{CONFIG['save_dir']}/history_fold0.csv\")\n",
    "history1 = pd.read_csv(f\"{CONFIG['save_dir']}/history_fold1.csv\")\n",
    "history2 = pd.read_csv(f\"{CONFIG['save_dir']}/history_fold2.csv\")\n",
    "history3 = pd.read_csv(f\"{CONFIG['save_dir']}/history_fold3.csv\")\n",
    "history4 = pd.read_csv(f\"{CONFIG['save_dir']}/history_fold4.csv\")\n",
    "\n",
    "list_history = [\n",
    "    history0,\n",
    "    history1,\n",
    "    history2,\n",
    "    history3,\n",
    "    history4\n",
    "]\n",
    "\n",
    "history0.head()"
   ]
  },
  {
   "cell_type": "code",
   "execution_count": 30,
   "id": "07eebad7",
   "metadata": {
    "execution": {
     "iopub.execute_input": "2024-08-03T12:31:43.123350Z",
     "iopub.status.busy": "2024-08-03T12:31:43.122985Z",
     "iopub.status.idle": "2024-08-03T12:31:43.730109Z",
     "shell.execute_reply": "2024-08-03T12:31:43.729211Z"
    },
    "papermill": {
     "duration": 2.611967,
     "end_time": "2024-08-03T12:31:43.732974",
     "exception": false,
     "start_time": "2024-08-03T12:31:41.121007",
     "status": "completed"
    },
    "tags": []
   },
   "outputs": [
    {
     "data": {
      "image/png": "[encoded data removed]",
      "text/plain": [
       "<Figure size 1500x500 with 2 Axes>"
      ]
     },
     "metadata": {},
     "output_type": "display_data"
    }
   ],
   "source": [
    "fig, axes = plt.subplots(1, 2, figsize=(15, 5))  # 1行2列のサブプロットを作成\n",
    "\n",
    "for i, his in enumerate(list_history):\n",
    "    axes[0].plot(his[\"Train Loss\"], label=f\"fold_{i}\")  # 1つ目のサブプロットにTrain Lossを描画\n",
    "    axes[1].plot(his[\"Valid Loss\"], label=f\"fold_{i}\")  # 2つ目のサブプロットにValid Lossを描画\n",
    "\n",
    "axes[0].set_title(\"Learning Curve (Train Loss)\")\n",
    "axes[0].set_ylabel(\"Loss\")\n",
    "axes[0].set_xlabel(\"epochs\")\n",
    "axes[0].legend()\n",
    "axes[0].grid(alpha=0.2)\n",
    "# axes[0].set_ylim([0, 1])\n",
    "\n",
    "axes[1].set_title(\"Learning Curve (Valid Loss)\")\n",
    "axes[1].set_ylabel(\"Loss\")\n",
    "axes[1].set_xlabel(\"epochs\")\n",
    "axes[1].legend()\n",
    "axes[1].grid(alpha=0.2)\n",
    "# axes[1].set_ylim([0, 1])\n",
    "\n",
    "\n",
    "# PillowのImageオブジェクトに変換\n",
    "# img = Image.frombytes('RGB', fig.canvas.get_width_height(), fig.canvas.tostring_rgb())\n",
    "\n",
    "# wandbに記録\n",
    "# wandb.log({\"learning_curve_loss\": wandb.Image(img)})\n",
    "\n",
    "plt.show()"
   ]
  },
  {
   "cell_type": "code",
   "execution_count": 31,
   "id": "744ca6ad",
   "metadata": {
    "execution": {
     "iopub.execute_input": "2024-08-03T12:31:47.691678Z",
     "iopub.status.busy": "2024-08-03T12:31:47.690793Z",
     "iopub.status.idle": "2024-08-03T12:31:48.252804Z",
     "shell.execute_reply": "2024-08-03T12:31:48.251966Z"
    },
    "papermill": {
     "duration": 2.582422,
     "end_time": "2024-08-03T12:31:48.255925",
     "exception": false,
     "start_time": "2024-08-03T12:31:45.673503",
     "status": "completed"
    },
    "tags": []
   },
   "outputs": [
    {
     "data": {
      "image/png": "[encoded data removed]",
      "text/plain": [
       "<Figure size 700x500 with 1 Axes>"
      ]
     },
     "metadata": {},
     "output_type": "display_data"
    }
   ],
   "source": [
    "fig, ax = plt.subplots(figsize=(7, 5))  # 1列のサブプロットを作成\n",
    "\n",
    "for i, his in enumerate(list_history):\n",
    "    ax.plot(his[\"Valid AUROC\"], label=f\"fold_{i}\")  # Valid AUROCのみを描画\n",
    "\n",
    "ax.set_title(\"Learning Curve (Valid pAUC80)\")\n",
    "ax.set_ylabel(\"pAUC80\")\n",
    "ax.set_xlabel(\"epochs\")\n",
    "ax.legend()\n",
    "ax.grid(alpha=0.2)\n",
    "ax.set_ylim([0, 0.2])\n",
    "\n",
    "# PillowのImageオブジェクトに変換\n",
    "# img = Image.frombytes('RGB', fig.canvas.get_width_height(), fig.canvas.tostring_rgb())\n",
    "\n",
    "# # wandbに記録\n",
    "# wandb.log({\"learning_curve_pAUC80\": wandb.Image(img)})\n",
    "\n",
    "plt.show()"
   ]
  },
  {
   "cell_type": "code",
   "execution_count": 32,
   "id": "de0a4831",
   "metadata": {},
   "outputs": [],
   "source": [
    "# data = [[x, y] for (x, y) in zip(range(len(his[\"Valid AUROC\"].values)), his[\"Valid AUROC\"].values)]\n",
    "# table = wandb.Table(data=data, columns=[\"x\", \"y\"])\n",
    "# wandb.log(\n",
    "#     {\n",
    "#         \"learning_curve_pAUC80\": wandb.plot.line(\n",
    "#             table, \"x\", \"y\", title=\"Learning Curve (Valid pAUC80)\"\n",
    "#         )\n",
    "#     }\n",
    "# )"
   ]
  },
  {
   "cell_type": "code",
   "execution_count": 33,
   "id": "3ddfe8b3",
   "metadata": {
    "execution": {
     "iopub.execute_input": "2024-08-03T12:31:52.287731Z",
     "iopub.status.busy": "2024-08-03T12:31:52.287389Z",
     "iopub.status.idle": "2024-08-03T12:31:52.590722Z",
     "shell.execute_reply": "2024-08-03T12:31:52.589875Z"
    },
    "papermill": {
     "duration": 2.331263,
     "end_time": "2024-08-03T12:31:52.592665",
     "exception": false,
     "start_time": "2024-08-03T12:31:50.261402",
     "status": "completed"
    },
    "tags": []
   },
   "outputs": [
    {
     "data": {
      "image/png": "[encoded data removed]",
      "text/plain": [
       "<Figure size 700x500 with 1 Axes>"
      ]
     },
     "metadata": {},
     "output_type": "display_data"
    }
   ],
   "source": [
    "fig, ax = plt.subplots(figsize=(7, 5))\n",
    "ax.grid(alpha=0.2)\n",
    "for i, his in enumerate(list_history):\n",
    "    ax.plot(his[\"lr\"], label=f\"fold_{i}\")  # 1つ目のサブプロットにTrain Lossを描画\n",
    "\n",
    "ax.set_title(\"Learning Rate\")\n",
    "ax.set_ylabel(\"lr\")\n",
    "ax.set_xlabel(\"epochs\")\n",
    "ax.legend()\n",
    "\n",
    "plt.show()"
   ]
  },
  {
   "cell_type": "code",
   "execution_count": 34,
   "id": "f03a29e7",
   "metadata": {},
   "outputs": [],
   "source": [
    "if CONFIG[\"save_preds\"]:\n",
    "    df_pred = pd.concat(list_preds)\n",
    "    df_pred.to_csv(f\"{CONFIG['save_model_dir']}/df_preds_{EXP_NAME}.csv\", index=False)"
   ]
  },
  {
   "cell_type": "code",
   "execution_count": 35,
   "id": "7fc12965",
   "metadata": {
    "execution": {
     "iopub.execute_input": "2024-08-03T12:31:56.633047Z",
     "iopub.status.busy": "2024-08-03T12:31:56.632181Z",
     "iopub.status.idle": "2024-08-03T12:31:56.647971Z",
     "shell.execute_reply": "2024-08-03T12:31:56.647054Z"
    },
    "papermill": {
     "duration": 1.953919,
     "end_time": "2024-08-03T12:31:56.649765",
     "exception": false,
     "start_time": "2024-08-03T12:31:54.695846",
     "status": "completed"
    },
    "tags": []
   },
   "outputs": [
    {
     "data": {
      "text/html": [
       "<div>\n",
       "<style scoped>\n",
       "    .dataframe tbody tr th:only-of-type {\n",
       "        vertical-align: middle;\n",
       "    }\n",
       "\n",
       "    .dataframe tbody tr th {\n",
       "        vertical-align: top;\n",
       "    }\n",
       "\n",
       "    .dataframe thead th {\n",
       "        text-align: right;\n",
       "    }\n",
       "</style>\n",
       "<table border=\"1\" class=\"dataframe\">\n",
       "  <thead>\n",
       "    <tr style=\"text-align: right;\">\n",
       "      <th></th>\n",
       "      <th>pAUC80</th>\n",
       "      <th>pAUC80_notFiltered</th>\n",
       "    </tr>\n",
       "  </thead>\n",
       "  <tbody>\n",
       "    <tr>\n",
       "      <th>fold_0</th>\n",
       "      <td>0.1504</td>\n",
       "      <td>0.1502</td>\n",
       "    </tr>\n",
       "    <tr>\n",
       "      <th>fold_1</th>\n",
       "      <td>0.1656</td>\n",
       "      <td>0.1650</td>\n",
       "    </tr>\n",
       "    <tr>\n",
       "      <th>fold_2</th>\n",
       "      <td>0.1572</td>\n",
       "      <td>0.1582</td>\n",
       "    </tr>\n",
       "    <tr>\n",
       "      <th>fold_3</th>\n",
       "      <td>0.1694</td>\n",
       "      <td>0.1685</td>\n",
       "    </tr>\n",
       "    <tr>\n",
       "      <th>fold_4</th>\n",
       "      <td>0.1712</td>\n",
       "      <td>0.1692</td>\n",
       "    </tr>\n",
       "    <tr>\n",
       "      <th>mean</th>\n",
       "      <td>0.1628</td>\n",
       "      <td>0.1622</td>\n",
       "    </tr>\n",
       "    <tr>\n",
       "      <th>std</th>\n",
       "      <td>0.0072</td>\n",
       "      <td>0.0065</td>\n",
       "    </tr>\n",
       "  </tbody>\n",
       "</table>\n",
       "</div>"
      ],
      "text/plain": [
       "        pAUC80  pAUC80_notFiltered\n",
       "fold_0  0.1504              0.1502\n",
       "fold_1  0.1656              0.1650\n",
       "fold_2  0.1572              0.1582\n",
       "fold_3  0.1694              0.1685\n",
       "fold_4  0.1712              0.1692\n",
       "mean    0.1628              0.1622\n",
       "std     0.0072              0.0065"
      ]
     },
     "execution_count": 35,
     "metadata": {},
     "output_type": "execute_result"
    }
   ],
   "source": [
    "pd.options.display.precision = 4\n",
    "\n",
    "df_pauc = pd.DataFrame(columns=[\"pAUC80\"])\n",
    "for i, his in enumerate(list_history):\n",
    "    df_pauc.loc[f\"fold_{i}\", \"pAUC80\"] = his[\"Valid AUROC\"].values[-1]\n",
    "\n",
    "df_pauc[\"pAUC80_notFiltered\"] = list_score_notFiltered\n",
    "df_pauc.loc[\"mean\", \"pAUC80_notFiltered\"] = np.mean(df_pauc[\"pAUC80_notFiltered\"])\n",
    "df_pauc.loc[\"std\", \"pAUC80_notFiltered\"] = np.std(df_pauc[\"pAUC80_notFiltered\"])\n",
    "df_pauc.loc[\"mean\", \"pAUC80\"] = np.mean(df_pauc[\"pAUC80\"])\n",
    "df_pauc.loc[\"std\", \"pAUC80\"] = np.std(df_pauc[\"pAUC80\"])\n",
    "df_pauc"
   ]
  },
  {
   "cell_type": "code",
   "execution_count": 36,
   "id": "f078b046",
   "metadata": {
    "execution": {
     "iopub.execute_input": "2024-08-03T12:32:00.693866Z",
     "iopub.status.busy": "2024-08-03T12:32:00.693178Z",
     "iopub.status.idle": "2024-08-03T12:32:07.647772Z",
     "shell.execute_reply": "2024-08-03T12:32:07.647070Z"
    },
    "papermill": {
     "duration": 8.989213,
     "end_time": "2024-08-03T12:32:07.649713",
     "exception": false,
     "start_time": "2024-08-03T12:31:58.660500",
     "status": "completed"
    },
    "tags": []
   },
   "outputs": [],
   "source": [
    "if WANDB:\n",
    "    wandb.log({\"pAUC80_fold0\": df_pauc.loc[\"fold_0\", \"pAUC80\"]})\n",
    "    wandb.log({\"pAUC80_fold1\": df_pauc.loc[\"fold_1\", \"pAUC80\"]})\n",
    "    wandb.log({\"pAUC80_fold2\": df_pauc.loc[\"fold_2\", \"pAUC80\"]})\n",
    "    wandb.log({\"pAUC80_fold3\": df_pauc.loc[\"fold_3\", \"pAUC80\"]})\n",
    "    wandb.log({\"pAUC80_fold4\": df_pauc.loc[\"fold_4\", \"pAUC80\"]})\n",
    "    wandb.log({\"pAUC80_mean\": df_pauc.loc[\"mean\", \"pAUC80\"]})\n",
    "\n",
    "    wandb.finish()"
   ]
  },
  {
   "cell_type": "code",
   "execution_count": 37,
   "id": "ca5a4d27",
   "metadata": {
    "execution": {
     "iopub.execute_input": "2024-08-03T12:32:11.682771Z",
     "iopub.status.busy": "2024-08-03T12:32:11.681932Z",
     "iopub.status.idle": "2024-08-03T12:32:11.686148Z",
     "shell.execute_reply": "2024-08-03T12:32:11.685273Z"
    },
    "papermill": {
     "duration": 2.031107,
     "end_time": "2024-08-03T12:32:11.688087",
     "exception": false,
     "start_time": "2024-08-03T12:32:09.656980",
     "status": "completed"
    },
    "tags": []
   },
   "outputs": [],
   "source": [
    "# wandb.finish()"
   ]
  }
 ],
 "metadata": {
  "kaggle": {
   "accelerator": "gpu",
   "dataSources": [
    {
     "databundleVersionId": 9094797,
     "sourceId": 63056,
     "sourceType": "competition"
    },
    {
     "modelId": 312,
     "modelInstanceId": 2656,
     "sourceId": 3729,
     "sourceType": "modelInstanceVersion"
    }
   ],
   "isGpuEnabled": true,
   "isInternetEnabled": true,
   "language": "python",
   "sourceType": "notebook"
  },
  "kernelspec": {
   "display_name": "Python 3",
   "language": "python",
   "name": "python3"
  },
  "language_info": {
   "codemirror_mode": {
    "name": "ipython",
    "version": 3
   },
   "file_extension": ".py",
   "mimetype": "text/x-python",
   "name": "python",
   "nbconvert_exporter": "python",
   "pygments_lexer": "ipython3",
   "version": "3.10.12"
  },
  "papermill": {
   "default_parameters": {},
   "duration": 3899.537456,
   "end_time": "2024-08-03T12:32:21.533444",
   "environment_variables": {},
   "exception": null,
   "input_path": "__notebook__.ipynb",
   "output_path": "__notebook__.ipynb",
   "parameters": {},
   "start_time": "2024-08-03T11:27:21.995988",
   "version": "2.5.0"
  },
  "widgets": {
   "application/vnd.jupyter.widget-state+json": {
    "state": {
     "01955731ce0a4145820f7e5314bda573": {
      "model_module": "@jupyter-widgets/controls",
      "model_module_version": "1.5.0",
      "model_name": "DescriptionStyleModel",
      "state": {
       "_model_module": "@jupyter-widgets/controls",
       "_model_module_version": "1.5.0",
       "_model_name": "DescriptionStyleModel",
       "_view_count": null,
       "_view_module": "@jupyter-widgets/base",
       "_view_module_version": "1.2.0",
       "_view_name": "StyleView",
       "description_width": ""
      }
     },
     "0a6edeed0a0f4523b95ce9b8414dd124": {
      "model_module": "@jupyter-widgets/controls",
      "model_module_version": "1.5.0",
      "model_name": "HTMLModel",
      "state": {
       "_dom_classes": [],
       "_model_module": "@jupyter-widgets/controls",
       "_model_module_version": "1.5.0",
       "_model_name": "HTMLModel",
       "_view_count": null,
       "_view_module": "@jupyter-widgets/controls",
       "_view_module_version": "1.5.0",
       "_view_name": "HTMLView",
       "description": "",
       "description_tooltip": null,
       "layout": "IPY_MODEL_c078f8b3f54d44d1ba4f55e0abee593c",
       "placeholder": "​",
       "style": "IPY_MODEL_01955731ce0a4145820f7e5314bda573",
       "value": "model.safetensors: 100%"
      }
     },
     "3872e74bfc1a4da2bcc871a9a3c7b366": {
      "model_module": "@jupyter-widgets/controls",
      "model_module_version": "1.5.0",
      "model_name": "FloatProgressModel",
      "state": {
       "_dom_classes": [],
       "_model_module": "@jupyter-widgets/controls",
       "_model_module_version": "1.5.0",
       "_model_name": "FloatProgressModel",
       "_view_count": null,
       "_view_module": "@jupyter-widgets/controls",
       "_view_module_version": "1.5.0",
       "_view_name": "ProgressView",
       "bar_style": "success",
       "description": "",
       "description_tooltip": null,
       "layout": "IPY_MODEL_ee121baa37c04a78ac880ef46d5f2567",
       "max": 21355344,
       "min": 0,
       "orientation": "horizontal",
       "style": "IPY_MODEL_de6cd1dd72c44157a9b1bf360752f134",
       "value": 21355344
      }
     },
     "4671fd1e411b4e109f5dbf6c3d4b2bdc": {
      "model_module": "@jupyter-widgets/base",
      "model_module_version": "1.2.0",
      "model_name": "LayoutModel",
      "state": {
       "_model_module": "@jupyter-widgets/base",
       "_model_module_version": "1.2.0",
       "_model_name": "LayoutModel",
       "_view_count": null,
       "_view_module": "@jupyter-widgets/base",
       "_view_module_version": "1.2.0",
       "_view_name": "LayoutView",
       "align_content": null,
       "align_items": null,
       "align_self": null,
       "border": null,
       "bottom": null,
       "display": null,
       "flex": null,
       "flex_flow": null,
       "grid_area": null,
       "grid_auto_columns": null,
       "grid_auto_flow": null,
       "grid_auto_rows": null,
       "grid_column": null,
       "grid_gap": null,
       "grid_row": null,
       "grid_template_areas": null,
       "grid_template_columns": null,
       "grid_template_rows": null,
       "height": null,
       "justify_content": null,
       "justify_items": null,
       "left": null,
       "margin": null,
       "max_height": null,
       "max_width": null,
       "min_height": null,
       "min_width": null,
       "object_fit": null,
       "object_position": null,
       "order": null,
       "overflow": null,
       "overflow_x": null,
       "overflow_y": null,
       "padding": null,
       "right": null,
       "top": null,
       "visibility": null,
       "width": null
      }
     },
     "b3dd3ee3a65d4ff28540603be012cb38": {
      "model_module": "@jupyter-widgets/controls",
      "model_module_version": "1.5.0",
      "model_name": "DescriptionStyleModel",
      "state": {
       "_model_module": "@jupyter-widgets/controls",
       "_model_module_version": "1.5.0",
       "_model_name": "DescriptionStyleModel",
       "_view_count": null,
       "_view_module": "@jupyter-widgets/base",
       "_view_module_version": "1.2.0",
       "_view_name": "StyleView",
       "description_width": ""
      }
     },
     "c078f8b3f54d44d1ba4f55e0abee593c": {
      "model_module": "@jupyter-widgets/base",
      "model_module_version": "1.2.0",
      "model_name": "LayoutModel",
      "state": {
       "_model_module": "@jupyter-widgets/base",
       "_model_module_version": "1.2.0",
       "_model_name": "LayoutModel",
       "_view_count": null,
       "_view_module": "@jupyter-widgets/base",
       "_view_module_version": "1.2.0",
       "_view_name": "LayoutView",
       "align_content": null,
       "align_items": null,
       "align_self": null,
       "border": null,
       "bottom": null,
       "display": null,
       "flex": null,
       "flex_flow": null,
       "grid_area": null,
       "grid_auto_columns": null,
       "grid_auto_flow": null,
       "grid_auto_rows": null,
       "grid_column": null,
       "grid_gap": null,
       "grid_row": null,
       "grid_template_areas": null,
       "grid_template_columns": null,
       "grid_template_rows": null,
       "height": null,
       "justify_content": null,
       "justify_items": null,
       "left": null,
       "margin": null,
       "max_height": null,
       "max_width": null,
       "min_height": null,
       "min_width": null,
       "object_fit": null,
       "object_position": null,
       "order": null,
       "overflow": null,
       "overflow_x": null,
       "overflow_y": null,
       "padding": null,
       "right": null,
       "top": null,
       "visibility": null,
       "width": null
      }
     },
     "cbdde796332549c3873d4c27de89feca": {
      "model_module": "@jupyter-widgets/base",
      "model_module_version": "1.2.0",
      "model_name": "LayoutModel",
      "state": {
       "_model_module": "@jupyter-widgets/base",
       "_model_module_version": "1.2.0",
       "_model_name": "LayoutModel",
       "_view_count": null,
       "_view_module": "@jupyter-widgets/base",
       "_view_module_version": "1.2.0",
       "_view_name": "LayoutView",
       "align_content": null,
       "align_items": null,
       "align_self": null,
       "border": null,
       "bottom": null,
       "display": null,
       "flex": null,
       "flex_flow": null,
       "grid_area": null,
       "grid_auto_columns": null,
       "grid_auto_flow": null,
       "grid_auto_rows": null,
       "grid_column": null,
       "grid_gap": null,
       "grid_row": null,
       "grid_template_areas": null,
       "grid_template_columns": null,
       "grid_template_rows": null,
       "height": null,
       "justify_content": null,
       "justify_items": null,
       "left": null,
       "margin": null,
       "max_height": null,
       "max_width": null,
       "min_height": null,
       "min_width": null,
       "object_fit": null,
       "object_position": null,
       "order": null,
       "overflow": null,
       "overflow_x": null,
       "overflow_y": null,
       "padding": null,
       "right": null,
       "top": null,
       "visibility": null,
       "width": null
      }
     },
     "de6cd1dd72c44157a9b1bf360752f134": {
      "model_module": "@jupyter-widgets/controls",
      "model_module_version": "1.5.0",
      "model_name": "ProgressStyleModel",
      "state": {
       "_model_module": "@jupyter-widgets/controls",
       "_model_module_version": "1.5.0",
       "_model_name": "ProgressStyleModel",
       "_view_count": null,
       "_view_module": "@jupyter-widgets/base",
       "_view_module_version": "1.2.0",
       "_view_name": "StyleView",
       "bar_color": null,
       "description_width": ""
      }
     },
     "ee121baa37c04a78ac880ef46d5f2567": {
      "model_module": "@jupyter-widgets/base",
      "model_module_version": "1.2.0",
      "model_name": "LayoutModel",
      "state": {
       "_model_module": "@jupyter-widgets/base",
       "_model_module_version": "1.2.0",
       "_model_name": "LayoutModel",
       "_view_count": null,
       "_view_module": "@jupyter-widgets/base",
       "_view_module_version": "1.2.0",
       "_view_name": "LayoutView",
       "align_content": null,
       "align_items": null,
       "align_self": null,
       "border": null,
       "bottom": null,
       "display": null,
       "flex": null,
       "flex_flow": null,
       "grid_area": null,
       "grid_auto_columns": null,
       "grid_auto_flow": null,
       "grid_auto_rows": null,
       "grid_column": null,
       "grid_gap": null,
       "grid_row": null,
       "grid_template_areas": null,
       "grid_template_columns": null,
       "grid_template_rows": null,
       "height": null,
       "justify_content": null,
       "justify_items": null,
       "left": null,
       "margin": null,
       "max_height": null,
       "max_width": null,
       "min_height": null,
       "min_width": null,
       "object_fit": null,
       "object_position": null,
       "order": null,
       "overflow": null,
       "overflow_x": null,
       "overflow_y": null,
       "padding": null,
       "right": null,
       "top": null,
       "visibility": null,
       "width": null
      }
     },
     "f05b1c9300e8444387feae26fb5e35ca": {
      "model_module": "@jupyter-widgets/controls",
      "model_module_version": "1.5.0",
      "model_name": "HBoxModel",
      "state": {
       "_dom_classes": [],
       "_model_module": "@jupyter-widgets/controls",
       "_model_module_version": "1.5.0",
       "_model_name": "HBoxModel",
       "_view_count": null,
       "_view_module": "@jupyter-widgets/controls",
       "_view_module_version": "1.5.0",
       "_view_name": "HBoxView",
       "box_style": "",
       "children": [
        "IPY_MODEL_0a6edeed0a0f4523b95ce9b8414dd124",
        "IPY_MODEL_3872e74bfc1a4da2bcc871a9a3c7b366",
        "IPY_MODEL_f66e046f739440aeb3ceb3daa9565dc6"
       ],
       "layout": "IPY_MODEL_cbdde796332549c3873d4c27de89feca"
      }
     },
     "f66e046f739440aeb3ceb3daa9565dc6": {
      "model_module": "@jupyter-widgets/controls",
      "model_module_version": "1.5.0",
      "model_name": "HTMLModel",
      "state": {
       "_dom_classes": [],
       "_model_module": "@jupyter-widgets/controls",
       "_model_module_version": "1.5.0",
       "_model_name": "HTMLModel",
       "_view_count": null,
       "_view_module": "@jupyter-widgets/controls",
       "_view_module_version": "1.5.0",
       "_view_name": "HTMLView",
       "description": "",
       "description_tooltip": null,
       "layout": "IPY_MODEL_4671fd1e411b4e109f5dbf6c3d4b2bdc",
       "placeholder": "​",
       "style": "IPY_MODEL_b3dd3ee3a65d4ff28540603be012cb38",
       "value": " 21.4M/21.4M [00:00&lt;00:00, 69.5MB/s]"
      }
     }
    },
    "version_major": 2,
    "version_minor": 0
   }
  }
 },
 "nbformat": 4,
 "nbformat_minor": 5
}
