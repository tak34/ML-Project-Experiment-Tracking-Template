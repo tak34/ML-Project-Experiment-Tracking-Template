{
 "cells": [
  {
   "cell_type": "code",
   "execution_count": 13,
   "metadata": {},
   "outputs": [],
   "source": [
    "import torch\n",
    "import torch.nn.functional as F\n",
    "from torch.utils.data import DataLoader, WeightedRandomSampler\n",
    "import numpy as np\n",
    "\n",
    "class BalancedMixUp:\n",
    "    def __init__(self, alpha=0.2):\n",
    "        self.alpha = alpha\n",
    "\n",
    "    def __call__(self, x_instance, y_instance, x_class, y_class):\n",
    "        # ベータ分布からλをサンプリング\n",
    "        lam = torch.distributions.beta.Beta(self.alpha, 1).sample()\n",
    "        lam = lam.to(x_instance.device)\n",
    "        print(lam)\n",
    "\n",
    "        # 新しい合成サンプルを生成\n",
    "        # x_mixed = lam * x_instance + (1 - lam) * x_class\n",
    "        # y_mixed = lam * y_instance + (1 - lam) * y_class\n",
    "        x_mixed = lam * x_class + (1 - lam) * x_instance\n",
    "        y_mixed = lam * y_class + (1 - lam) * y_instance\n",
    "\n",
    "        return x_mixed, y_mixed\n",
    "\n",
    "def get_class_based_sampler(dataset, labels):\n",
    "    # 各クラスの頻度を計算\n",
    "    class_counts = torch.bincount(labels)\n",
    "    num_samples = len(labels)\n",
    "\n",
    "    # 各クラスのサンプリング確率を計算\n",
    "    class_weights = 1.0 / class_counts.float()\n",
    "    sample_weights = class_weights[labels]\n",
    "\n",
    "    # サンプリング用のWeightedRandomSamplerを作成\n",
    "    sampler = WeightedRandomSampler(weights=sample_weights, num_samples=num_samples, replacement=True)\n",
    "    return sampler\n",
    "\n",
    "# ダミーデータセット\n",
    "class CustomDataset(torch.utils.data.Dataset):\n",
    "    def __init__(self, data, labels):\n",
    "        self.data = data\n",
    "        self.labels = labels\n",
    "\n",
    "    def __len__(self):\n",
    "        return len(self.data)\n",
    "\n",
    "    def __getitem__(self, index):\n",
    "        return self.data[index], self.labels[index]\n"
   ]
  },
  {
   "cell_type": "code",
   "execution_count": null,
   "metadata": {},
   "outputs": [
    {
     "name": "stdout",
     "output_type": "stream",
     "text": [
      "tensor(0.0210)\n",
      "x_mixed shape: torch.Size([64, 3, 32, 32]), y_mixed shape: torch.Size([64])\n",
      "tensor(0.0002)\n",
      "x_mixed shape: torch.Size([64, 3, 32, 32]), y_mixed shape: torch.Size([64])\n",
      "tensor(0.0021)\n",
      "x_mixed shape: torch.Size([64, 3, 32, 32]), y_mixed shape: torch.Size([64])\n",
      "tensor(0.7771)\n",
      "x_mixed shape: torch.Size([64, 3, 32, 32]), y_mixed shape: torch.Size([64])\n",
      "tensor(4.4645e-05)\n",
      "x_mixed shape: torch.Size([64, 3, 32, 32]), y_mixed shape: torch.Size([64])\n",
      "tensor(5.7154e-05)\n",
      "x_mixed shape: torch.Size([64, 3, 32, 32]), y_mixed shape: torch.Size([64])\n",
      "tensor(0.0002)\n",
      "x_mixed shape: torch.Size([64, 3, 32, 32]), y_mixed shape: torch.Size([64])\n",
      "tensor(0.9691)\n",
      "x_mixed shape: torch.Size([64, 3, 32, 32]), y_mixed shape: torch.Size([64])\n",
      "tensor(0.0615)\n",
      "x_mixed shape: torch.Size([64, 3, 32, 32]), y_mixed shape: torch.Size([64])\n",
      "tensor(0.0186)\n",
      "x_mixed shape: torch.Size([64, 3, 32, 32]), y_mixed shape: torch.Size([64])\n",
      "tensor(0.0241)\n",
      "x_mixed shape: torch.Size([64, 3, 32, 32]), y_mixed shape: torch.Size([64])\n",
      "tensor(0.0540)\n",
      "x_mixed shape: torch.Size([64, 3, 32, 32]), y_mixed shape: torch.Size([64])\n",
      "tensor(0.1856)\n",
      "x_mixed shape: torch.Size([64, 3, 32, 32]), y_mixed shape: torch.Size([64])\n",
      "tensor(0.0046)\n",
      "x_mixed shape: torch.Size([64, 3, 32, 32]), y_mixed shape: torch.Size([64])\n",
      "tensor(0.8803)\n",
      "x_mixed shape: torch.Size([64, 3, 32, 32]), y_mixed shape: torch.Size([64])\n",
      "tensor(0.0003)\n",
      "x_mixed shape: torch.Size([64, 3, 32, 32]), y_mixed shape: torch.Size([64])\n"
     ]
    }
   ],
   "source": [
    "\n",
    "# データとラベルの準備\n",
    "num_classes = 2\n",
    "pos_ratio = 0.05\n",
    "neg_count = int(1024*(1-pos_ratio))\n",
    "pos_count = 1024 - neg_count\n",
    "num_samples_per_class = [neg_count, pos_count]  # 不均衡なサンプル数\n",
    "data = []\n",
    "labels = []\n",
    "\n",
    "for i, num_samples in enumerate(num_samples_per_class):\n",
    "    data.append(torch.randn(num_samples, 3, 32, 32))\n",
    "    labels.append(torch.full((num_samples,), i))\n",
    "\n",
    "data = torch.cat(data)\n",
    "labels = torch.cat(labels)\n",
    "\n",
    "# インスタンスベースのデータローダー\n",
    "dataset = CustomDataset(data, labels)\n",
    "instance_loader = DataLoader(dataset, batch_size=64, shuffle=True)\n",
    "\n",
    "# クラスベースのサンプリングによるデータローダー\n",
    "class_sampler = get_class_based_sampler(dataset, labels)\n",
    "class_loader = DataLoader(dataset, batch_size=64, sampler=class_sampler)\n",
    "\n",
    "# Balanced MixUpの適用\n",
    "mixup = BalancedMixUp(alpha=0.2)\n",
    "\n",
    "# トレーニングループでの使用例\n",
    "for (x_instance, y_instance), (x_class, y_class) in zip(instance_loader, class_loader):\n",
    "    x_mixed, y_mixed = mixup(x_instance, y_instance, x_class, y_class)\n",
    "\n",
    "    # モデルへの入力として使用\n",
    "    # output = model(x_mixed)\n",
    "    # loss = criterion(output, y_mixed)\n",
    "    # loss.backward()\n",
    "    # optimizer.step()\n",
    "\n",
    "    print(f\"x_mixed shape: {x_mixed.shape}, y_mixed shape: {y_mixed.shape}\")"
   ]
  },
  {
   "cell_type": "code",
   "execution_count": 15,
   "metadata": {},
   "outputs": [
    {
     "data": {
      "text/plain": [
       "tensor([0.0000e+00, 3.2914e-04, 3.2914e-04, 3.2914e-04, 3.2914e-04, 3.2914e-04,\n",
       "        3.2914e-04, 3.2914e-04, 0.0000e+00, 1.0000e+00, 0.0000e+00, 0.0000e+00,\n",
       "        3.2914e-04, 0.0000e+00, 3.2914e-04, 3.2914e-04, 3.2914e-04, 0.0000e+00,\n",
       "        3.2914e-04, 0.0000e+00, 0.0000e+00, 3.2914e-04, 0.0000e+00, 0.0000e+00,\n",
       "        0.0000e+00, 0.0000e+00, 3.2914e-04, 3.2914e-04, 0.0000e+00, 3.2914e-04,\n",
       "        3.2914e-04, 3.2914e-04, 3.2914e-04, 3.2914e-04, 3.2914e-04, 9.9967e-01,\n",
       "        0.0000e+00, 3.2914e-04, 0.0000e+00, 3.2914e-04, 1.0000e+00, 0.0000e+00,\n",
       "        0.0000e+00, 3.2914e-04, 0.0000e+00, 3.2914e-04, 3.2914e-04, 0.0000e+00,\n",
       "        0.0000e+00, 3.2914e-04, 1.0000e+00, 3.2914e-04, 3.2914e-04, 3.2914e-04,\n",
       "        3.2914e-04, 0.0000e+00, 0.0000e+00, 0.0000e+00, 0.0000e+00, 0.0000e+00,\n",
       "        0.0000e+00, 0.0000e+00, 1.0000e+00, 3.2914e-04])"
      ]
     },
     "execution_count": 15,
     "metadata": {},
     "output_type": "execute_result"
    }
   ],
   "source": [
    "y_mixed.squeeze()"
   ]
  },
  {
   "cell_type": "code",
   "execution_count": 16,
   "metadata": {},
   "outputs": [
    {
     "data": {
      "text/plain": [
       "tensor([0, 0, 0, 0, 0, 0, 0, 0, 0, 1, 0, 0, 0, 0, 0, 0, 0, 0, 0, 0, 0, 0, 0, 0,\n",
       "        0, 0, 0, 0, 0, 0, 0, 0, 0, 0, 0, 1, 0, 0, 0, 0, 1, 0, 0, 0, 0, 0, 0, 0,\n",
       "        0, 0, 1, 0, 0, 0, 0, 0, 0, 0, 0, 0, 0, 0, 1, 0])"
      ]
     },
     "execution_count": 16,
     "metadata": {},
     "output_type": "execute_result"
    }
   ],
   "source": [
    "y_instance.squeeze()"
   ]
  },
  {
   "cell_type": "code",
   "execution_count": 17,
   "metadata": {},
   "outputs": [
    {
     "data": {
      "text/plain": [
       "tensor([0, 1, 1, 1, 1, 1, 1, 1, 0, 1, 0, 0, 1, 0, 1, 1, 1, 0, 1, 0, 0, 1, 0, 0,\n",
       "        0, 0, 1, 1, 0, 1, 1, 1, 1, 1, 1, 0, 0, 1, 0, 1, 1, 0, 0, 1, 0, 1, 1, 0,\n",
       "        0, 1, 1, 1, 1, 1, 1, 0, 0, 0, 0, 0, 0, 0, 1, 1])"
      ]
     },
     "execution_count": 17,
     "metadata": {},
     "output_type": "execute_result"
    }
   ],
   "source": [
    "y_class.squeeze()"
   ]
  },
  {
   "cell_type": "code",
   "execution_count": 18,
   "metadata": {},
   "outputs": [
    {
     "data": {
      "image/png": "[encoded data removed]",
      "text/plain": [
       "<Figure size 720x432 with 1 Axes>"
      ]
     },
     "metadata": {
      "needs_background": "light"
     },
     "output_type": "display_data"
    }
   ],
   "source": [
    "import numpy as np\n",
    "import matplotlib.pyplot as plt\n",
    "from scipy.stats import beta\n",
    "\n",
    "# αの異なる値を設定\n",
    "alpha_values = [0.5, 1.0, 2.0, 5.0]\n",
    "x = np.linspace(0, 1, 100)\n",
    "\n",
    "# 各αに対するBeta(α, 1)の分布をプロット\n",
    "plt.figure(figsize=(10, 6))\n",
    "for alpha in alpha_values:\n",
    "    y = beta.pdf(x, alpha, 1)\n",
    "    plt.plot(x, y, label=f'α = {alpha}')\n",
    "\n",
    "plt.title('Beta(α, 1) Distribution')\n",
    "plt.xlabel('x')\n",
    "plt.ylabel('Density')\n",
    "plt.legend()\n",
    "plt.show()"
   ]
  },
  {
   "cell_type": "code",
   "execution_count": null,
   "metadata": {},
   "outputs": [],
   "source": []
  }
 ],
 "metadata": {
  "kernelspec": {
   "display_name": "env1",
   "language": "python",
   "name": "python3"
  },
  "language_info": {
   "codemirror_mode": {
    "name": "ipython",
    "version": 3
   },
   "file_extension": ".py",
   "mimetype": "text/x-python",
   "name": "python",
   "nbconvert_exporter": "python",
   "pygments_lexer": "ipython3",
   "version": "3.9.4"
  }
 },
 "nbformat": 4,
 "nbformat_minor": 2
}
