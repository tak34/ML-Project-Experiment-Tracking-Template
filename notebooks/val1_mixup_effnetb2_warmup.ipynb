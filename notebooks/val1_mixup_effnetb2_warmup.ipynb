{
 "cells": [
  {
   "cell_type": "markdown",
   "id": "8551e842",
   "metadata": {
    "papermill": {
     "duration": 0.01434,
     "end_time": "2024-08-03T11:27:24.716749",
     "exception": false,
     "start_time": "2024-08-03T11:27:24.702409",
     "status": "completed"
    },
    "tags": []
   },
   "source": [
    "# Import Required Libraries"
   ]
  },
  {
   "cell_type": "code",
   "execution_count": 1,
   "id": "17d5195f",
   "metadata": {
    "execution": {
     "iopub.execute_input": "2024-08-03T11:27:24.747014Z",
     "iopub.status.busy": "2024-08-03T11:27:24.746246Z",
     "iopub.status.idle": "2024-08-03T11:27:41.324384Z",
     "shell.execute_reply": "2024-08-03T11:27:41.323551Z"
    },
    "papermill": {
     "duration": 16.595521,
     "end_time": "2024-08-03T11:27:41.326792",
     "exception": false,
     "start_time": "2024-08-03T11:27:24.731271",
     "status": "completed"
    },
    "tags": []
   },
   "outputs": [
    {
     "name": "stderr",
     "output_type": "stream",
     "text": [
      "Failed to detect the name of this notebook, you can set it manually with the WANDB_NOTEBOOK_NAME environment variable to enable code saving.\n",
      "\u001b[34m\u001b[1mwandb\u001b[0m: Currently logged in as: \u001b[33mtrira7503\u001b[0m. Use \u001b[1m`wandb login --relogin`\u001b[0m to force relogin\n",
      "\u001b[34m\u001b[1mwandb\u001b[0m: \u001b[33mWARNING\u001b[0m If you're specifying your api key in code, ensure this code is not shared publicly.\n",
      "\u001b[34m\u001b[1mwandb\u001b[0m: \u001b[33mWARNING\u001b[0m Consider setting the WANDB_API_KEY environment variable, or running `wandb login` from the command line.\n",
      "\u001b[34m\u001b[1mwandb\u001b[0m: Appending key for api.wandb.ai to your netrc file: /root/.netrc\n"
     ]
    }
   ],
   "source": [
    "WANDB = True\n",
    "EXP_NAME = \"val1_effnetb2_mixup_warmup\"\n",
    "# EXP_NAME = \"try\"\n",
    "\n",
    "if WANDB:\n",
    "    # !pip install wandb\n",
    "    import wandb\n",
    "    import os\n",
    "    from dotenv import load_dotenv\n",
    "    load_dotenv()\n",
    "    wandb.login(key=os.environ.get(\"WANDB_API_KEY\"))"
   ]
  },
  {
   "cell_type": "code",
   "execution_count": 2,
   "id": "0b352d5a",
   "metadata": {
    "execution": {
     "iopub.execute_input": "2024-08-03T11:27:41.395258Z",
     "iopub.status.busy": "2024-08-03T11:27:41.394999Z",
     "iopub.status.idle": "2024-08-03T11:27:49.379635Z",
     "shell.execute_reply": "2024-08-03T11:27:49.378849Z"
    },
    "papermill": {
     "duration": 8.002336,
     "end_time": "2024-08-03T11:27:49.382001",
     "exception": false,
     "start_time": "2024-08-03T11:27:41.379665",
     "status": "completed"
    },
    "tags": []
   },
   "outputs": [],
   "source": [
    "import os\n",
    "import gc\n",
    "import cv2\n",
    "import math\n",
    "import copy\n",
    "import time\n",
    "import random\n",
    "import glob\n",
    "from matplotlib import pyplot as plt\n",
    "import seaborn as sns\n",
    "from PIL import Image\n",
    "\n",
    "# For data manipulation\n",
    "import numpy as np\n",
    "import pandas as pd\n",
    "\n",
    "# Pytorch Imports\n",
    "import torch\n",
    "import torch.nn as nn\n",
    "import torch.optim as optim\n",
    "import torch.nn.functional as F\n",
    "from torch.optim import lr_scheduler\n",
    "from torch.utils.data import Dataset, DataLoader\n",
    "from torch.cuda import amp\n",
    "import torchvision\n",
    "# from torcheval.metrics.functional import binary_auroc\n",
    "\n",
    "# Utils\n",
    "import joblib\n",
    "from tqdm import tqdm\n",
    "from collections import defaultdict\n",
    "\n",
    "# Sklearn Imports\n",
    "from sklearn.preprocessing import LabelEncoder\n",
    "from sklearn.model_selection import StratifiedKFold, StratifiedGroupKFold \n",
    "from sklearn.metrics import roc_auc_score\n",
    "\n",
    "# For Image Models\n",
    "import timm\n",
    "\n",
    "# Albumentations for augmentations\n",
    "import albumentations as A\n",
    "from albumentations.pytorch import ToTensorV2\n",
    "\n",
    "# For colored terminal text\n",
    "from colorama import Fore, Back, Style\n",
    "b_ = Fore.BLUE\n",
    "sr_ = Style.RESET_ALL\n",
    "\n",
    "import warnings\n",
    "warnings.filterwarnings(\"ignore\")\n",
    "\n",
    "# For descriptive error messages\n",
    "os.environ['CUDA_LAUNCH_BLOCKING'] = \"1\""
   ]
  },
  {
   "cell_type": "markdown",
   "id": "903db01e",
   "metadata": {
    "papermill": {
     "duration": 0.014258,
     "end_time": "2024-08-03T11:27:49.411099",
     "exception": false,
     "start_time": "2024-08-03T11:27:49.396841",
     "status": "completed"
    },
    "tags": []
   },
   "source": [
    "# Training Configuration"
   ]
  },
  {
   "cell_type": "code",
   "execution_count": 3,
   "id": "2b8c5e68",
   "metadata": {
    "execution": {
     "iopub.execute_input": "2024-08-03T11:27:49.441606Z",
     "iopub.status.busy": "2024-08-03T11:27:49.440684Z",
     "iopub.status.idle": "2024-08-03T11:27:49.500885Z",
     "shell.execute_reply": "2024-08-03T11:27:49.499892Z"
    },
    "papermill": {
     "duration": 0.077554,
     "end_time": "2024-08-03T11:27:49.502883",
     "exception": false,
     "start_time": "2024-08-03T11:27:49.425329",
     "status": "completed"
    },
    "tags": []
   },
   "outputs": [],
   "source": [
    "CONFIG = {\n",
    "    \"seed\": 42,\n",
    "    \"epochs\": 50,\n",
    "    # \"epochs\": 3, #######　後でなおすこと\n",
    "    \"img_size\": 320,\n",
    "    \"model_name\": \"tf_efficientnet_b2_ns\",\n",
    "    \"checkpoint_path\" : \"/kaggle/input/tf-efficientnet/pytorch/tf-efficientnet-b0/1/tf_efficientnet_b0_aa-827b6e33.pth\",\n",
    "    \"train_batch_size\": 64,\n",
    "    \"valid_batch_size\": 128,\n",
    "    \"learning_rate\": 1e-3,\n",
    "    \"scheduler\": 'CosineAnnealingLR',\n",
    "    \"min_lr\": 1e-7,\n",
    "#     \"T_max\": 10316,\n",
    "    \"weight_decay\": 1e-5,\n",
    "    \"fold\" : 0,\n",
    "    \"n_fold\": 5,\n",
    "    \"n_accumulate\": 1,\n",
    "    \"device\": torch.device(\"cuda:0\" if torch.cuda.is_available() else \"cpu\"),\n",
    "    \"use_tta\": False,\n",
    "    \"mixup_alpha\": 0.4,  # 既存のMixupのパラメータ\n",
    "    \"mixup_epochs\": 40,  # Mixupを適用するエポック数を追加\n",
    "    \"dropout_rate\": 0.2,\n",
    "    \"warmup_steps\": 45,  # Warmupのステップ数を追加\n",
    "    \"warmup_factor\": 0.02,  # 初期学習率の倍率\n",
    "    \"save_preds\": True,\n",
    "    \"save_dir\": \"../proc/preds\",\n",
    "}"
   ]
  },
  {
   "cell_type": "markdown",
   "id": "cddc65ff",
   "metadata": {
    "papermill": {
     "duration": 0.014141,
     "end_time": "2024-08-03T11:27:49.531761",
     "exception": false,
     "start_time": "2024-08-03T11:27:49.517620",
     "status": "completed"
    },
    "tags": []
   },
   "source": [
    "# Set Seed for Reproducibility"
   ]
  },
  {
   "cell_type": "code",
   "execution_count": 4,
   "id": "98b9513a",
   "metadata": {
    "execution": {
     "iopub.execute_input": "2024-08-03T11:27:49.562058Z",
     "iopub.status.busy": "2024-08-03T11:27:49.561688Z",
     "iopub.status.idle": "2024-08-03T11:27:49.570471Z",
     "shell.execute_reply": "2024-08-03T11:27:49.569784Z"
    },
    "papermill": {
     "duration": 0.026141,
     "end_time": "2024-08-03T11:27:49.572357",
     "exception": false,
     "start_time": "2024-08-03T11:27:49.546216",
     "status": "completed"
    },
    "tags": []
   },
   "outputs": [],
   "source": [
    "def set_seed(seed=42):\n",
    "    '''Sets the seed of the entire notebook so results are the same every time we run.\n",
    "    This is for REPRODUCIBILITY.'''\n",
    "    np.random.seed(seed)\n",
    "    torch.manual_seed(seed)\n",
    "    torch.cuda.manual_seed(seed)\n",
    "    # When running on the CuDNN backend, two further options must be set\n",
    "    torch.backends.cudnn.deterministic = True\n",
    "    torch.backends.cudnn.benchmark = False\n",
    "    # Set a fixed value for the hash seed\n",
    "    os.environ['PYTHONHASHSEED'] = str(seed)\n",
    "    \n",
    "set_seed(CONFIG['seed'])"
   ]
  },
  {
   "cell_type": "code",
   "execution_count": 5,
   "id": "d7c70b6f",
   "metadata": {
    "execution": {
     "iopub.execute_input": "2024-08-03T11:27:49.602533Z",
     "iopub.status.busy": "2024-08-03T11:27:49.601829Z",
     "iopub.status.idle": "2024-08-03T11:27:49.605780Z",
     "shell.execute_reply": "2024-08-03T11:27:49.604966Z"
    },
    "papermill": {
     "duration": 0.020996,
     "end_time": "2024-08-03T11:27:49.607665",
     "exception": false,
     "start_time": "2024-08-03T11:27:49.586669",
     "status": "completed"
    },
    "tags": []
   },
   "outputs": [],
   "source": [
    "ROOT_DIR = \"../raw\"\n",
    "TRAIN_DIR = f'{ROOT_DIR}/train-image/image'"
   ]
  },
  {
   "cell_type": "code",
   "execution_count": 6,
   "id": "a11c344b",
   "metadata": {
    "execution": {
     "iopub.execute_input": "2024-08-03T11:27:49.637452Z",
     "iopub.status.busy": "2024-08-03T11:27:49.637203Z",
     "iopub.status.idle": "2024-08-03T11:27:49.641108Z",
     "shell.execute_reply": "2024-08-03T11:27:49.640269Z"
    },
    "papermill": {
     "duration": 0.020939,
     "end_time": "2024-08-03T11:27:49.642937",
     "exception": false,
     "start_time": "2024-08-03T11:27:49.621998",
     "status": "completed"
    },
    "tags": []
   },
   "outputs": [],
   "source": [
    "def get_train_file_path(image_id):\n",
    "    return f\"{TRAIN_DIR}/{image_id}.jpg\""
   ]
  },
  {
   "cell_type": "markdown",
   "id": "4660cf08",
   "metadata": {
    "papermill": {
     "duration": 0.014646,
     "end_time": "2024-08-03T11:27:49.672275",
     "exception": false,
     "start_time": "2024-08-03T11:27:49.657629",
     "status": "completed"
    },
    "tags": []
   },
   "source": [
    "# Read the Data"
   ]
  },
  {
   "cell_type": "code",
   "execution_count": 7,
   "id": "bcaf087a",
   "metadata": {
    "execution": {
     "iopub.execute_input": "2024-08-03T11:27:49.703417Z",
     "iopub.status.busy": "2024-08-03T11:27:49.703087Z",
     "iopub.status.idle": "2024-08-03T11:27:53.557484Z",
     "shell.execute_reply": "2024-08-03T11:27:53.556536Z"
    },
    "papermill": {
     "duration": 3.872522,
     "end_time": "2024-08-03T11:27:53.559821",
     "exception": false,
     "start_time": "2024-08-03T11:27:49.687299",
     "status": "completed"
    },
    "tags": []
   },
   "outputs": [],
   "source": [
    "train_images = sorted(glob.glob(f\"{TRAIN_DIR}/*.jpg\"))"
   ]
  },
  {
   "cell_type": "code",
   "execution_count": 8,
   "id": "b07f48bc",
   "metadata": {
    "execution": {
     "iopub.execute_input": "2024-08-03T11:27:53.590652Z",
     "iopub.status.busy": "2024-08-03T11:27:53.590323Z",
     "iopub.status.idle": "2024-08-03T11:28:01.727632Z",
     "shell.execute_reply": "2024-08-03T11:28:01.726742Z"
    },
    "papermill": {
     "duration": 8.155275,
     "end_time": "2024-08-03T11:28:01.730168",
     "exception": false,
     "start_time": "2024-08-03T11:27:53.574893",
     "status": "completed"
    },
    "tags": []
   },
   "outputs": [
    {
     "name": "stdout",
     "output_type": "stream",
     "text": [
      "(401059, 55)\n"
     ]
    },
    {
     "data": {
      "text/html": [
       "<div>\n",
       "<style scoped>\n",
       "    .dataframe tbody tr th:only-of-type {\n",
       "        vertical-align: middle;\n",
       "    }\n",
       "\n",
       "    .dataframe tbody tr th {\n",
       "        vertical-align: top;\n",
       "    }\n",
       "\n",
       "    .dataframe thead th {\n",
       "        text-align: right;\n",
       "    }\n",
       "</style>\n",
       "<table border=\"1\" class=\"dataframe\">\n",
       "  <thead>\n",
       "    <tr style=\"text-align: right;\">\n",
       "      <th></th>\n",
       "      <th>isic_id</th>\n",
       "      <th>target</th>\n",
       "      <th>patient_id</th>\n",
       "      <th>age_approx</th>\n",
       "      <th>sex</th>\n",
       "      <th>anatom_site_general</th>\n",
       "      <th>clin_size_long_diam_mm</th>\n",
       "      <th>image_type</th>\n",
       "      <th>tbp_tile_type</th>\n",
       "      <th>tbp_lv_A</th>\n",
       "      <th>...</th>\n",
       "      <th>iddx_full</th>\n",
       "      <th>iddx_1</th>\n",
       "      <th>iddx_2</th>\n",
       "      <th>iddx_3</th>\n",
       "      <th>iddx_4</th>\n",
       "      <th>iddx_5</th>\n",
       "      <th>mel_mitotic_index</th>\n",
       "      <th>mel_thick_mm</th>\n",
       "      <th>tbp_lv_dnn_lesion_confidence</th>\n",
       "      <th>file_path</th>\n",
       "    </tr>\n",
       "  </thead>\n",
       "  <tbody>\n",
       "    <tr>\n",
       "      <th>0</th>\n",
       "      <td>ISIC_0015670</td>\n",
       "      <td>0</td>\n",
       "      <td>IP_1235828</td>\n",
       "      <td>60.0</td>\n",
       "      <td>male</td>\n",
       "      <td>lower extremity</td>\n",
       "      <td>3.04</td>\n",
       "      <td>TBP tile: close-up</td>\n",
       "      <td>3D: white</td>\n",
       "      <td>20.244422</td>\n",
       "      <td>...</td>\n",
       "      <td>Benign</td>\n",
       "      <td>Benign</td>\n",
       "      <td>NaN</td>\n",
       "      <td>NaN</td>\n",
       "      <td>NaN</td>\n",
       "      <td>NaN</td>\n",
       "      <td>NaN</td>\n",
       "      <td>NaN</td>\n",
       "      <td>97.517282</td>\n",
       "      <td>../raw/train-image/image/ISIC_0015670.jpg</td>\n",
       "    </tr>\n",
       "    <tr>\n",
       "      <th>1</th>\n",
       "      <td>ISIC_0015845</td>\n",
       "      <td>0</td>\n",
       "      <td>IP_8170065</td>\n",
       "      <td>60.0</td>\n",
       "      <td>male</td>\n",
       "      <td>head/neck</td>\n",
       "      <td>1.10</td>\n",
       "      <td>TBP tile: close-up</td>\n",
       "      <td>3D: white</td>\n",
       "      <td>31.712570</td>\n",
       "      <td>...</td>\n",
       "      <td>Benign</td>\n",
       "      <td>Benign</td>\n",
       "      <td>NaN</td>\n",
       "      <td>NaN</td>\n",
       "      <td>NaN</td>\n",
       "      <td>NaN</td>\n",
       "      <td>NaN</td>\n",
       "      <td>NaN</td>\n",
       "      <td>3.141455</td>\n",
       "      <td>../raw/train-image/image/ISIC_0015845.jpg</td>\n",
       "    </tr>\n",
       "    <tr>\n",
       "      <th>2</th>\n",
       "      <td>ISIC_0015864</td>\n",
       "      <td>0</td>\n",
       "      <td>IP_6724798</td>\n",
       "      <td>60.0</td>\n",
       "      <td>male</td>\n",
       "      <td>posterior torso</td>\n",
       "      <td>3.40</td>\n",
       "      <td>TBP tile: close-up</td>\n",
       "      <td>3D: XP</td>\n",
       "      <td>22.575830</td>\n",
       "      <td>...</td>\n",
       "      <td>Benign</td>\n",
       "      <td>Benign</td>\n",
       "      <td>NaN</td>\n",
       "      <td>NaN</td>\n",
       "      <td>NaN</td>\n",
       "      <td>NaN</td>\n",
       "      <td>NaN</td>\n",
       "      <td>NaN</td>\n",
       "      <td>99.804040</td>\n",
       "      <td>../raw/train-image/image/ISIC_0015864.jpg</td>\n",
       "    </tr>\n",
       "    <tr>\n",
       "      <th>3</th>\n",
       "      <td>ISIC_0015902</td>\n",
       "      <td>0</td>\n",
       "      <td>IP_4111386</td>\n",
       "      <td>65.0</td>\n",
       "      <td>male</td>\n",
       "      <td>anterior torso</td>\n",
       "      <td>3.22</td>\n",
       "      <td>TBP tile: close-up</td>\n",
       "      <td>3D: XP</td>\n",
       "      <td>14.242329</td>\n",
       "      <td>...</td>\n",
       "      <td>Benign</td>\n",
       "      <td>Benign</td>\n",
       "      <td>NaN</td>\n",
       "      <td>NaN</td>\n",
       "      <td>NaN</td>\n",
       "      <td>NaN</td>\n",
       "      <td>NaN</td>\n",
       "      <td>NaN</td>\n",
       "      <td>99.989998</td>\n",
       "      <td>../raw/train-image/image/ISIC_0015902.jpg</td>\n",
       "    </tr>\n",
       "    <tr>\n",
       "      <th>4</th>\n",
       "      <td>ISIC_0024200</td>\n",
       "      <td>0</td>\n",
       "      <td>IP_8313778</td>\n",
       "      <td>55.0</td>\n",
       "      <td>male</td>\n",
       "      <td>anterior torso</td>\n",
       "      <td>2.73</td>\n",
       "      <td>TBP tile: close-up</td>\n",
       "      <td>3D: white</td>\n",
       "      <td>24.725520</td>\n",
       "      <td>...</td>\n",
       "      <td>Benign</td>\n",
       "      <td>Benign</td>\n",
       "      <td>NaN</td>\n",
       "      <td>NaN</td>\n",
       "      <td>NaN</td>\n",
       "      <td>NaN</td>\n",
       "      <td>NaN</td>\n",
       "      <td>NaN</td>\n",
       "      <td>70.442510</td>\n",
       "      <td>../raw/train-image/image/ISIC_0024200.jpg</td>\n",
       "    </tr>\n",
       "    <tr>\n",
       "      <th>...</th>\n",
       "      <td>...</td>\n",
       "      <td>...</td>\n",
       "      <td>...</td>\n",
       "      <td>...</td>\n",
       "      <td>...</td>\n",
       "      <td>...</td>\n",
       "      <td>...</td>\n",
       "      <td>...</td>\n",
       "      <td>...</td>\n",
       "      <td>...</td>\n",
       "      <td>...</td>\n",
       "      <td>...</td>\n",
       "      <td>...</td>\n",
       "      <td>...</td>\n",
       "      <td>...</td>\n",
       "      <td>...</td>\n",
       "      <td>...</td>\n",
       "      <td>...</td>\n",
       "      <td>...</td>\n",
       "      <td>...</td>\n",
       "      <td>...</td>\n",
       "    </tr>\n",
       "    <tr>\n",
       "      <th>401054</th>\n",
       "      <td>ISIC_9999937</td>\n",
       "      <td>0</td>\n",
       "      <td>IP_1140263</td>\n",
       "      <td>70.0</td>\n",
       "      <td>male</td>\n",
       "      <td>anterior torso</td>\n",
       "      <td>6.80</td>\n",
       "      <td>TBP tile: close-up</td>\n",
       "      <td>3D: XP</td>\n",
       "      <td>22.574335</td>\n",
       "      <td>...</td>\n",
       "      <td>Benign</td>\n",
       "      <td>Benign</td>\n",
       "      <td>NaN</td>\n",
       "      <td>NaN</td>\n",
       "      <td>NaN</td>\n",
       "      <td>NaN</td>\n",
       "      <td>NaN</td>\n",
       "      <td>NaN</td>\n",
       "      <td>99.999988</td>\n",
       "      <td>../raw/train-image/image/ISIC_9999937.jpg</td>\n",
       "    </tr>\n",
       "    <tr>\n",
       "      <th>401055</th>\n",
       "      <td>ISIC_9999951</td>\n",
       "      <td>0</td>\n",
       "      <td>IP_5678181</td>\n",
       "      <td>60.0</td>\n",
       "      <td>male</td>\n",
       "      <td>posterior torso</td>\n",
       "      <td>3.11</td>\n",
       "      <td>TBP tile: close-up</td>\n",
       "      <td>3D: white</td>\n",
       "      <td>19.977640</td>\n",
       "      <td>...</td>\n",
       "      <td>Benign</td>\n",
       "      <td>Benign</td>\n",
       "      <td>NaN</td>\n",
       "      <td>NaN</td>\n",
       "      <td>NaN</td>\n",
       "      <td>NaN</td>\n",
       "      <td>NaN</td>\n",
       "      <td>NaN</td>\n",
       "      <td>99.999820</td>\n",
       "      <td>../raw/train-image/image/ISIC_9999951.jpg</td>\n",
       "    </tr>\n",
       "    <tr>\n",
       "      <th>401056</th>\n",
       "      <td>ISIC_9999960</td>\n",
       "      <td>0</td>\n",
       "      <td>IP_0076153</td>\n",
       "      <td>65.0</td>\n",
       "      <td>female</td>\n",
       "      <td>anterior torso</td>\n",
       "      <td>2.05</td>\n",
       "      <td>TBP tile: close-up</td>\n",
       "      <td>3D: XP</td>\n",
       "      <td>17.332567</td>\n",
       "      <td>...</td>\n",
       "      <td>Benign</td>\n",
       "      <td>Benign</td>\n",
       "      <td>NaN</td>\n",
       "      <td>NaN</td>\n",
       "      <td>NaN</td>\n",
       "      <td>NaN</td>\n",
       "      <td>NaN</td>\n",
       "      <td>NaN</td>\n",
       "      <td>99.999416</td>\n",
       "      <td>../raw/train-image/image/ISIC_9999960.jpg</td>\n",
       "    </tr>\n",
       "    <tr>\n",
       "      <th>401057</th>\n",
       "      <td>ISIC_9999964</td>\n",
       "      <td>0</td>\n",
       "      <td>IP_5231513</td>\n",
       "      <td>30.0</td>\n",
       "      <td>female</td>\n",
       "      <td>anterior torso</td>\n",
       "      <td>2.80</td>\n",
       "      <td>TBP tile: close-up</td>\n",
       "      <td>3D: XP</td>\n",
       "      <td>22.288570</td>\n",
       "      <td>...</td>\n",
       "      <td>Benign</td>\n",
       "      <td>Benign</td>\n",
       "      <td>NaN</td>\n",
       "      <td>NaN</td>\n",
       "      <td>NaN</td>\n",
       "      <td>NaN</td>\n",
       "      <td>NaN</td>\n",
       "      <td>NaN</td>\n",
       "      <td>100.000000</td>\n",
       "      <td>../raw/train-image/image/ISIC_9999964.jpg</td>\n",
       "    </tr>\n",
       "    <tr>\n",
       "      <th>401058</th>\n",
       "      <td>ISIC_9999967</td>\n",
       "      <td>0</td>\n",
       "      <td>IP_6426047</td>\n",
       "      <td>50.0</td>\n",
       "      <td>male</td>\n",
       "      <td>lower extremity</td>\n",
       "      <td>3.30</td>\n",
       "      <td>TBP tile: close-up</td>\n",
       "      <td>3D: XP</td>\n",
       "      <td>16.792900</td>\n",
       "      <td>...</td>\n",
       "      <td>Benign</td>\n",
       "      <td>Benign</td>\n",
       "      <td>NaN</td>\n",
       "      <td>NaN</td>\n",
       "      <td>NaN</td>\n",
       "      <td>NaN</td>\n",
       "      <td>NaN</td>\n",
       "      <td>NaN</td>\n",
       "      <td>99.999960</td>\n",
       "      <td>../raw/train-image/image/ISIC_9999967.jpg</td>\n",
       "    </tr>\n",
       "  </tbody>\n",
       "</table>\n",
       "<p>401059 rows × 56 columns</p>\n",
       "</div>"
      ],
      "text/plain": [
       "             isic_id  target  patient_id  age_approx     sex  \\\n",
       "0       ISIC_0015670       0  IP_1235828        60.0    male   \n",
       "1       ISIC_0015845       0  IP_8170065        60.0    male   \n",
       "2       ISIC_0015864       0  IP_6724798        60.0    male   \n",
       "3       ISIC_0015902       0  IP_4111386        65.0    male   \n",
       "4       ISIC_0024200       0  IP_8313778        55.0    male   \n",
       "...              ...     ...         ...         ...     ...   \n",
       "401054  ISIC_9999937       0  IP_1140263        70.0    male   \n",
       "401055  ISIC_9999951       0  IP_5678181        60.0    male   \n",
       "401056  ISIC_9999960       0  IP_0076153        65.0  female   \n",
       "401057  ISIC_9999964       0  IP_5231513        30.0  female   \n",
       "401058  ISIC_9999967       0  IP_6426047        50.0    male   \n",
       "\n",
       "       anatom_site_general  clin_size_long_diam_mm          image_type  \\\n",
       "0          lower extremity                    3.04  TBP tile: close-up   \n",
       "1                head/neck                    1.10  TBP tile: close-up   \n",
       "2          posterior torso                    3.40  TBP tile: close-up   \n",
       "3           anterior torso                    3.22  TBP tile: close-up   \n",
       "4           anterior torso                    2.73  TBP tile: close-up   \n",
       "...                    ...                     ...                 ...   \n",
       "401054      anterior torso                    6.80  TBP tile: close-up   \n",
       "401055     posterior torso                    3.11  TBP tile: close-up   \n",
       "401056      anterior torso                    2.05  TBP tile: close-up   \n",
       "401057      anterior torso                    2.80  TBP tile: close-up   \n",
       "401058     lower extremity                    3.30  TBP tile: close-up   \n",
       "\n",
       "       tbp_tile_type   tbp_lv_A  ...  iddx_full  iddx_1  iddx_2  iddx_3  \\\n",
       "0          3D: white  20.244422  ...     Benign  Benign     NaN     NaN   \n",
       "1          3D: white  31.712570  ...     Benign  Benign     NaN     NaN   \n",
       "2             3D: XP  22.575830  ...     Benign  Benign     NaN     NaN   \n",
       "3             3D: XP  14.242329  ...     Benign  Benign     NaN     NaN   \n",
       "4          3D: white  24.725520  ...     Benign  Benign     NaN     NaN   \n",
       "...              ...        ...  ...        ...     ...     ...     ...   \n",
       "401054        3D: XP  22.574335  ...     Benign  Benign     NaN     NaN   \n",
       "401055     3D: white  19.977640  ...     Benign  Benign     NaN     NaN   \n",
       "401056        3D: XP  17.332567  ...     Benign  Benign     NaN     NaN   \n",
       "401057        3D: XP  22.288570  ...     Benign  Benign     NaN     NaN   \n",
       "401058        3D: XP  16.792900  ...     Benign  Benign     NaN     NaN   \n",
       "\n",
       "        iddx_4  iddx_5  mel_mitotic_index  mel_thick_mm  \\\n",
       "0          NaN     NaN                NaN           NaN   \n",
       "1          NaN     NaN                NaN           NaN   \n",
       "2          NaN     NaN                NaN           NaN   \n",
       "3          NaN     NaN                NaN           NaN   \n",
       "4          NaN     NaN                NaN           NaN   \n",
       "...        ...     ...                ...           ...   \n",
       "401054     NaN     NaN                NaN           NaN   \n",
       "401055     NaN     NaN                NaN           NaN   \n",
       "401056     NaN     NaN                NaN           NaN   \n",
       "401057     NaN     NaN                NaN           NaN   \n",
       "401058     NaN     NaN                NaN           NaN   \n",
       "\n",
       "        tbp_lv_dnn_lesion_confidence  \\\n",
       "0                          97.517282   \n",
       "1                           3.141455   \n",
       "2                          99.804040   \n",
       "3                          99.989998   \n",
       "4                          70.442510   \n",
       "...                              ...   \n",
       "401054                     99.999988   \n",
       "401055                     99.999820   \n",
       "401056                     99.999416   \n",
       "401057                    100.000000   \n",
       "401058                     99.999960   \n",
       "\n",
       "                                        file_path  \n",
       "0       ../raw/train-image/image/ISIC_0015670.jpg  \n",
       "1       ../raw/train-image/image/ISIC_0015845.jpg  \n",
       "2       ../raw/train-image/image/ISIC_0015864.jpg  \n",
       "3       ../raw/train-image/image/ISIC_0015902.jpg  \n",
       "4       ../raw/train-image/image/ISIC_0024200.jpg  \n",
       "...                                           ...  \n",
       "401054  ../raw/train-image/image/ISIC_9999937.jpg  \n",
       "401055  ../raw/train-image/image/ISIC_9999951.jpg  \n",
       "401056  ../raw/train-image/image/ISIC_9999960.jpg  \n",
       "401057  ../raw/train-image/image/ISIC_9999964.jpg  \n",
       "401058  ../raw/train-image/image/ISIC_9999967.jpg  \n",
       "\n",
       "[401059 rows x 56 columns]"
      ]
     },
     "execution_count": 8,
     "metadata": {},
     "output_type": "execute_result"
    }
   ],
   "source": [
    "df = pd.read_csv(f\"{ROOT_DIR}/train-metadata.csv\")\n",
    "print(df.shape)\n",
    "df['file_path'] = df['isic_id'].apply(get_train_file_path)\n",
    "df = df[ df[\"file_path\"].isin(train_images) ].reset_index(drop=True)\n",
    "df"
   ]
  },
  {
   "cell_type": "code",
   "execution_count": 9,
   "id": "6db9a0ba",
   "metadata": {},
   "outputs": [
    {
     "data": {
      "text/html": [
       "<div>\n",
       "<style scoped>\n",
       "    .dataframe tbody tr th:only-of-type {\n",
       "        vertical-align: middle;\n",
       "    }\n",
       "\n",
       "    .dataframe tbody tr th {\n",
       "        vertical-align: top;\n",
       "    }\n",
       "\n",
       "    .dataframe thead th {\n",
       "        text-align: right;\n",
       "    }\n",
       "</style>\n",
       "<table border=\"1\" class=\"dataframe\">\n",
       "  <thead>\n",
       "    <tr style=\"text-align: right;\">\n",
       "      <th></th>\n",
       "      <th>patient_id</th>\n",
       "      <th>count_per_patient</th>\n",
       "    </tr>\n",
       "  </thead>\n",
       "  <tbody>\n",
       "    <tr>\n",
       "      <th>0</th>\n",
       "      <td>IP_5792391</td>\n",
       "      <td>1</td>\n",
       "    </tr>\n",
       "    <tr>\n",
       "      <th>1</th>\n",
       "      <td>IP_1487179</td>\n",
       "      <td>1</td>\n",
       "    </tr>\n",
       "  </tbody>\n",
       "</table>\n",
       "</div>"
      ],
      "text/plain": [
       "   patient_id  count_per_patient\n",
       "0  IP_5792391                  1\n",
       "1  IP_1487179                  1"
      ]
     },
     "execution_count": 9,
     "metadata": {},
     "output_type": "execute_result"
    }
   ],
   "source": [
    "df_patient = df.groupby(\"patient_id\")[[\"isic_id\"]].agg(\n",
    "    count_per_patient=(\"isic_id\", \"count\"), \n",
    ").sort_values(by=\"count_per_patient\").reset_index()\n",
    "df_patient.head(2)"
   ]
  },
  {
   "cell_type": "code",
   "execution_count": 10,
   "id": "c5b786f4",
   "metadata": {},
   "outputs": [
    {
     "data": {
      "text/plain": [
       "(401059, 393)"
      ]
     },
     "execution_count": 10,
     "metadata": {},
     "output_type": "execute_result"
    }
   ],
   "source": [
    "df = df.merge(df_patient, on=\"patient_id\", how=\"left\")\n",
    "df.shape[0], df.target.sum()"
   ]
  },
  {
   "cell_type": "code",
   "execution_count": 11,
   "id": "013cd69c",
   "metadata": {
    "execution": {
     "iopub.execute_input": "2024-08-03T11:28:01.762226Z",
     "iopub.status.busy": "2024-08-03T11:28:01.761517Z",
     "iopub.status.idle": "2024-08-03T11:28:01.767649Z",
     "shell.execute_reply": "2024-08-03T11:28:01.766935Z"
    },
    "papermill": {
     "duration": 0.023878,
     "end_time": "2024-08-03T11:28:01.769506",
     "exception": false,
     "start_time": "2024-08-03T11:28:01.745628",
     "status": "completed"
    },
    "tags": []
   },
   "outputs": [
    {
     "data": {
      "text/plain": [
       "(401059, 393)"
      ]
     },
     "execution_count": 11,
     "metadata": {},
     "output_type": "execute_result"
    }
   ],
   "source": [
    "df.shape[0], df.target.sum()"
   ]
  },
  {
   "cell_type": "markdown",
   "id": "561d0151",
   "metadata": {
    "papermill": {
     "duration": 0.014872,
     "end_time": "2024-08-03T11:28:01.835619",
     "exception": false,
     "start_time": "2024-08-03T11:28:01.820747",
     "status": "completed"
    },
    "tags": []
   },
   "source": [
    "# <span><h1 style = \"font-family: garamond; font-size: 40px; font-style: normal; letter-spcaing: 3px; background-color: #f6f5f5; color :#fe346e; border-radius: 100px 100px; text-align:center\">Create Folds</h1></span>"
   ]
  },
  {
   "cell_type": "code",
   "execution_count": 12,
   "id": "84a1417e",
   "metadata": {
    "execution": {
     "iopub.execute_input": "2024-08-03T11:28:01.866585Z",
     "iopub.status.busy": "2024-08-03T11:28:01.866313Z",
     "iopub.status.idle": "2024-08-03T11:28:04.760208Z",
     "shell.execute_reply": "2024-08-03T11:28:04.759287Z"
    },
    "papermill": {
     "duration": 2.911893,
     "end_time": "2024-08-03T11:28:04.762481",
     "exception": false,
     "start_time": "2024-08-03T11:28:01.850588",
     "status": "completed"
    },
    "tags": []
   },
   "outputs": [
    {
     "data": {
      "text/html": [
       "<div>\n",
       "<style scoped>\n",
       "    .dataframe tbody tr th:only-of-type {\n",
       "        vertical-align: middle;\n",
       "    }\n",
       "\n",
       "    .dataframe tbody tr th {\n",
       "        vertical-align: top;\n",
       "    }\n",
       "\n",
       "    .dataframe thead th {\n",
       "        text-align: right;\n",
       "    }\n",
       "</style>\n",
       "<table border=\"1\" class=\"dataframe\">\n",
       "  <thead>\n",
       "    <tr style=\"text-align: right;\">\n",
       "      <th></th>\n",
       "      <th>isic_id</th>\n",
       "      <th>kfold</th>\n",
       "    </tr>\n",
       "  </thead>\n",
       "  <tbody>\n",
       "    <tr>\n",
       "      <th>0</th>\n",
       "      <td>ISIC_0015670</td>\n",
       "      <td>4.0</td>\n",
       "    </tr>\n",
       "    <tr>\n",
       "      <th>1</th>\n",
       "      <td>ISIC_0015845</td>\n",
       "      <td>2.0</td>\n",
       "    </tr>\n",
       "    <tr>\n",
       "      <th>2</th>\n",
       "      <td>ISIC_0015864</td>\n",
       "      <td>1.0</td>\n",
       "    </tr>\n",
       "    <tr>\n",
       "      <th>3</th>\n",
       "      <td>ISIC_0015902</td>\n",
       "      <td>2.0</td>\n",
       "    </tr>\n",
       "    <tr>\n",
       "      <th>4</th>\n",
       "      <td>ISIC_0024200</td>\n",
       "      <td>1.0</td>\n",
       "    </tr>\n",
       "    <tr>\n",
       "      <th>...</th>\n",
       "      <td>...</td>\n",
       "      <td>...</td>\n",
       "    </tr>\n",
       "    <tr>\n",
       "      <th>401054</th>\n",
       "      <td>ISIC_9999937</td>\n",
       "      <td>1.0</td>\n",
       "    </tr>\n",
       "    <tr>\n",
       "      <th>401055</th>\n",
       "      <td>ISIC_9999951</td>\n",
       "      <td>3.0</td>\n",
       "    </tr>\n",
       "    <tr>\n",
       "      <th>401056</th>\n",
       "      <td>ISIC_9999960</td>\n",
       "      <td>0.0</td>\n",
       "    </tr>\n",
       "    <tr>\n",
       "      <th>401057</th>\n",
       "      <td>ISIC_9999964</td>\n",
       "      <td>2.0</td>\n",
       "    </tr>\n",
       "    <tr>\n",
       "      <th>401058</th>\n",
       "      <td>ISIC_9999967</td>\n",
       "      <td>3.0</td>\n",
       "    </tr>\n",
       "  </tbody>\n",
       "</table>\n",
       "<p>401059 rows × 2 columns</p>\n",
       "</div>"
      ],
      "text/plain": [
       "             isic_id  kfold\n",
       "0       ISIC_0015670    4.0\n",
       "1       ISIC_0015845    2.0\n",
       "2       ISIC_0015864    1.0\n",
       "3       ISIC_0015902    2.0\n",
       "4       ISIC_0024200    1.0\n",
       "...              ...    ...\n",
       "401054  ISIC_9999937    1.0\n",
       "401055  ISIC_9999951    3.0\n",
       "401056  ISIC_9999960    0.0\n",
       "401057  ISIC_9999964    2.0\n",
       "401058  ISIC_9999967    3.0\n",
       "\n",
       "[401059 rows x 2 columns]"
      ]
     },
     "execution_count": 12,
     "metadata": {},
     "output_type": "execute_result"
    }
   ],
   "source": [
    "sgkf = StratifiedGroupKFold(n_splits=CONFIG['n_fold'], shuffle=True, random_state=0)\n",
    "\n",
    "for fold, ( _, val_) in enumerate(sgkf.split(df, df.target, df.patient_id)):\n",
    "      df.loc[val_ , \"kfold\"] = int(fold)\n",
    "        \n",
    "# df[[\"isic_id\", \"kfold\"]].to_csv(\"df_fold.csv\", index=False)\n",
    "df[[\"isic_id\", \"kfold\"]]"
   ]
  },
  {
   "cell_type": "markdown",
   "id": "bb8dc293",
   "metadata": {
    "papermill": {
     "duration": 0.015096,
     "end_time": "2024-08-03T11:28:04.793797",
     "exception": false,
     "start_time": "2024-08-03T11:28:04.778701",
     "status": "completed"
    },
    "tags": []
   },
   "source": [
    "# <span><h1 style = \"font-family: garamond; font-size: 40px; font-style: normal; letter-spcaing: 3px; background-color: #f6f5f5; color :#fe346e; border-radius: 100px 100px; text-align:center\">Dataset Class</h1></span>"
   ]
  },
  {
   "cell_type": "code",
   "execution_count": 13,
   "id": "375a56c1",
   "metadata": {
    "execution": {
     "iopub.execute_input": "2024-08-03T11:28:04.825932Z",
     "iopub.status.busy": "2024-08-03T11:28:04.825247Z",
     "iopub.status.idle": "2024-08-03T11:28:04.837789Z",
     "shell.execute_reply": "2024-08-03T11:28:04.836967Z"
    },
    "papermill": {
     "duration": 0.030647,
     "end_time": "2024-08-03T11:28:04.839661",
     "exception": false,
     "start_time": "2024-08-03T11:28:04.809014",
     "status": "completed"
    },
    "tags": []
   },
   "outputs": [],
   "source": [
    "class ISICDataset_for_Train(Dataset):\n",
    "    def __init__(self, df, transforms=None):\n",
    "        self.df_positive = df[df[\"target\"] == 1].reset_index()\n",
    "        self.df_negative = df[df[\"target\"] == 0].reset_index()\n",
    "        self.file_names_positive = self.df_positive['file_path'].values\n",
    "        self.file_names_negative = self.df_negative['file_path'].values\n",
    "        self.targets_positive = self.df_positive['target'].values\n",
    "        self.targets_negative = self.df_negative['target'].values\n",
    "        self.transforms = transforms\n",
    "        \n",
    "    def __len__(self):\n",
    "        return len(self.df_positive) * 2\n",
    "    \n",
    "    def __getitem__(self, index):\n",
    "        if random.random() >= 0.5:\n",
    "            df = self.df_positive\n",
    "            file_names = self.file_names_positive\n",
    "            targets = self.targets_positive\n",
    "        else:\n",
    "            df = self.df_negative\n",
    "            file_names = self.file_names_negative\n",
    "            targets = self.targets_negative\n",
    "        index = index % df.shape[0]\n",
    "        \n",
    "        img_path = file_names[index]\n",
    "        img = cv2.imread(img_path)\n",
    "        img = cv2.cvtColor(img, cv2.COLOR_BGR2RGB)\n",
    "        target = targets[index]\n",
    "        \n",
    "        if self.transforms:\n",
    "            img = self.transforms(image=img)[\"image\"]\n",
    "            \n",
    "        return {\n",
    "            'image': img,\n",
    "            'target': target\n",
    "        }\n",
    "\n",
    "class ISICDataset(Dataset):\n",
    "    def __init__(self, df, transforms=None):\n",
    "        self.df = df\n",
    "        self.file_names = df['file_path'].values\n",
    "        self.targets = df['target'].values\n",
    "        self.transforms = transforms\n",
    "        \n",
    "    def __len__(self):\n",
    "        return len(self.df)\n",
    "    \n",
    "    def __getitem__(self, index):\n",
    "        img_path = self.file_names[index]\n",
    "        img = cv2.imread(img_path)\n",
    "        img = cv2.cvtColor(img, cv2.COLOR_BGR2RGB)\n",
    "        target = self.targets[index]\n",
    "        \n",
    "        if self.transforms:\n",
    "            img = self.transforms(image=img)[\"image\"]\n",
    "            \n",
    "        return {\n",
    "            'image': img,\n",
    "            'target': target\n",
    "        }"
   ]
  },
  {
   "cell_type": "markdown",
   "id": "d34a7709",
   "metadata": {
    "papermill": {
     "duration": 0.015241,
     "end_time": "2024-08-03T11:28:04.870256",
     "exception": false,
     "start_time": "2024-08-03T11:28:04.855015",
     "status": "completed"
    },
    "tags": []
   },
   "source": [
    "# <span><h1 style = \"font-family: garamond; font-size: 40px; font-style: normal; letter-spcaing: 3px; background-color: #f6f5f5; color :#fe346e; border-radius: 100px 100px; text-align:center\">Augmentations</h1></span>"
   ]
  },
  {
   "cell_type": "code",
   "execution_count": 14,
   "id": "d21d5001",
   "metadata": {},
   "outputs": [],
   "source": [
    "# Mixupを行う関数を追加\n",
    "def mixup(x: torch.Tensor, y: torch.Tensor, alpha: float = 0.4):\n",
    "    assert alpha > 0, \"alpha should be larger than 0\"\n",
    "    assert x.size(0) > 1, \"Batch size should be larger than 1\"\n",
    "\n",
    "    lam = np.random.beta(alpha, alpha)\n",
    "    rand_index = torch.randperm(x.size()[0])\n",
    "    mixed_x = lam * x + (1 - lam) * x[rand_index, :]\n",
    "    target_a, target_b = y, y[rand_index]\n",
    "    return mixed_x, target_a, target_b, lam"
   ]
  },
  {
   "cell_type": "code",
   "execution_count": 15,
   "id": "0d4c8098",
   "metadata": {
    "execution": {
     "iopub.execute_input": "2024-08-03T11:28:04.902245Z",
     "iopub.status.busy": "2024-08-03T11:28:04.901951Z",
     "iopub.status.idle": "2024-08-03T11:28:04.910761Z",
     "shell.execute_reply": "2024-08-03T11:28:04.909940Z"
    },
    "papermill": {
     "duration": 0.026706,
     "end_time": "2024-08-03T11:28:04.912624",
     "exception": false,
     "start_time": "2024-08-03T11:28:04.885918",
     "status": "completed"
    },
    "tags": []
   },
   "outputs": [],
   "source": [
    "data_transforms = {\n",
    "    \"train\": A.Compose([\n",
    "        A.Resize(CONFIG['img_size'], CONFIG['img_size']),\n",
    "        A.RandomRotate90(p=0.5),\n",
    "        A.Flip(p=0.5),\n",
    "        A.Downscale(p=0.25),\n",
    "        A.ShiftScaleRotate(shift_limit=0.1, \n",
    "                           scale_limit=0.15, \n",
    "                           rotate_limit=60, \n",
    "                           p=0.5),\n",
    "        A.HueSaturationValue(\n",
    "                hue_shift_limit=0.2, \n",
    "                sat_shift_limit=0.2, \n",
    "                val_shift_limit=0.2, \n",
    "                p=0.5\n",
    "            ),\n",
    "        A.RandomBrightnessContrast(\n",
    "                brightness_limit=(-0.1,0.1), \n",
    "                contrast_limit=(-0.1, 0.1), \n",
    "                p=0.5\n",
    "            ),\n",
    "        A.Normalize(\n",
    "                mean=[0.485, 0.456, 0.406], \n",
    "                std=[0.229, 0.224, 0.225], \n",
    "                max_pixel_value=255.0, \n",
    "                p=1.0\n",
    "            ),\n",
    "        ToTensorV2()], p=1.),\n",
    "    \n",
    "    \"valid\": A.Compose([\n",
    "        A.Resize(CONFIG['img_size'], CONFIG['img_size']),\n",
    "        A.Normalize(\n",
    "                mean=[0.485, 0.456, 0.406], \n",
    "                std=[0.229, 0.224, 0.225], \n",
    "                max_pixel_value=255.0, \n",
    "                p=1.0\n",
    "            ),\n",
    "        ToTensorV2()], p=1.)\n",
    "}"
   ]
  },
  {
   "cell_type": "markdown",
   "id": "66346540",
   "metadata": {
    "papermill": {
     "duration": 0.054133,
     "end_time": "2024-08-03T11:28:04.982208",
     "exception": false,
     "start_time": "2024-08-03T11:28:04.928075",
     "status": "completed"
    },
    "tags": []
   },
   "source": [
    "# <span><h1 style = \"font-family: garamond; font-size: 40px; font-style: normal; letter-spcaing: 3px; background-color: #f6f5f5; color :#fe346e; border-radius: 100px 100px; text-align:center\">GeM Pooling</h1></span>"
   ]
  },
  {
   "cell_type": "code",
   "execution_count": 16,
   "id": "47d952e1",
   "metadata": {
    "execution": {
     "iopub.execute_input": "2024-08-03T11:28:05.014269Z",
     "iopub.status.busy": "2024-08-03T11:28:05.013910Z",
     "iopub.status.idle": "2024-08-03T11:28:05.021473Z",
     "shell.execute_reply": "2024-08-03T11:28:05.020611Z"
    },
    "papermill": {
     "duration": 0.02579,
     "end_time": "2024-08-03T11:28:05.023334",
     "exception": false,
     "start_time": "2024-08-03T11:28:04.997544",
     "status": "completed"
    },
    "tags": []
   },
   "outputs": [],
   "source": [
    "class GeM(nn.Module):\n",
    "    def __init__(self, p=3, eps=1e-6):\n",
    "        super(GeM, self).__init__()\n",
    "        self.p = nn.Parameter(torch.ones(1)*p)\n",
    "        self.eps = eps\n",
    "\n",
    "    def forward(self, x):\n",
    "        return self.gem(x, p=self.p, eps=self.eps)\n",
    "        \n",
    "    def gem(self, x, p=3, eps=1e-6):\n",
    "        return F.avg_pool2d(x.clamp(min=eps).pow(p), (x.size(-2), x.size(-1))).pow(1./p)\n",
    "        \n",
    "    def __repr__(self):\n",
    "        return self.__class__.__name__ + \\\n",
    "                '(' + 'p=' + '{:.4f}'.format(self.p.data.tolist()[0]) + \\\n",
    "                ', ' + 'eps=' + str(self.eps) + ')'"
   ]
  },
  {
   "cell_type": "markdown",
   "id": "c6f8a4bf",
   "metadata": {
    "papermill": {
     "duration": 0.015161,
     "end_time": "2024-08-03T11:28:05.053813",
     "exception": false,
     "start_time": "2024-08-03T11:28:05.038652",
     "status": "completed"
    },
    "tags": []
   },
   "source": [
    "# <span><h1 style = \"font-family: garamond; font-size: 40px; font-style: normal; letter-spcaing: 3px; background-color: #f6f5f5; color :#fe346e; border-radius: 100px 100px; text-align:center\">Create Model</h1></span>"
   ]
  },
  {
   "cell_type": "code",
   "execution_count": 17,
   "id": "52e19a9b",
   "metadata": {
    "execution": {
     "iopub.execute_input": "2024-08-03T11:28:05.085426Z",
     "iopub.status.busy": "2024-08-03T11:28:05.085174Z",
     "iopub.status.idle": "2024-08-03T11:28:05.092235Z",
     "shell.execute_reply": "2024-08-03T11:28:05.091434Z"
    },
    "papermill": {
     "duration": 0.025077,
     "end_time": "2024-08-03T11:28:05.094158",
     "exception": false,
     "start_time": "2024-08-03T11:28:05.069081",
     "status": "completed"
    },
    "tags": []
   },
   "outputs": [],
   "source": [
    "class ISICModel(nn.Module):\n",
    "    def __init__(self, model_name, num_classes=1, pretrained=True, checkpoint_path=None, dropout_rate=CONFIG['dropout_rate']):\n",
    "        super(ISICModel, self).__init__()\n",
    "        self.model = timm.create_model(model_name, pretrained=pretrained, checkpoint_path=checkpoint_path)\n",
    "\n",
    "        in_features = self.model.classifier.in_features\n",
    "        self.model.classifier = nn.Identity()\n",
    "        self.model.global_pool = nn.Identity()\n",
    "        self.pooling = GeM()\n",
    "        self.dropout = nn.Dropout(dropout_rate)\n",
    "        self.linear = nn.Linear(in_features, num_classes)\n",
    "        self.sigmoid = nn.Sigmoid()\n",
    "\n",
    "    def forward(self, images):\n",
    "        features = self.model(images)\n",
    "        pooled_features = self.pooling(features).flatten(1)\n",
    "        dropped_features = self.dropout(pooled_features)\n",
    "        output = self.sigmoid(self.linear(dropped_features))\n",
    "        return output\n",
    "\n",
    "# class ISICModel(nn.Module):\n",
    "#     def __init__(self, model_name, num_classes=1, pretrained=True, checkpoint_path=None):\n",
    "#         super(ISICModel, self).__init__()\n",
    "#         self.model = timm.create_model(model_name, pretrained=pretrained, checkpoint_path=checkpoint_path)\n",
    "\n",
    "#         in_features = self.model.classifier.in_features\n",
    "#         self.model.classifier = nn.Identity()\n",
    "#         self.model.global_pool = nn.Identity()\n",
    "#         self.pooling = GeM()\n",
    "#         self.linear = nn.Linear(in_features, num_classes)\n",
    "#         self.sigmoid = nn.Sigmoid()\n",
    "\n",
    "#     def forward(self, images):\n",
    "#         features = self.model(images)\n",
    "#         pooled_features = self.pooling(features).flatten(1)\n",
    "#         output = self.sigmoid(self.linear(pooled_features))\n",
    "#         return output"
   ]
  },
  {
   "cell_type": "markdown",
   "id": "cdf5204a",
   "metadata": {
    "papermill": {
     "duration": 0.015472,
     "end_time": "2024-08-03T11:28:05.124849",
     "exception": false,
     "start_time": "2024-08-03T11:28:05.109377",
     "status": "completed"
    },
    "tags": []
   },
   "source": [
    "# <span><h1 style = \"font-family: garamond; font-size: 40px; font-style: normal; letter-spcaing: 3px; background-color: #f6f5f5; color :#fe346e; border-radius: 100px 100px; text-align:center\">Loss Function</h1></span>"
   ]
  },
  {
   "cell_type": "code",
   "execution_count": 18,
   "id": "c25f4ac6",
   "metadata": {
    "execution": {
     "iopub.execute_input": "2024-08-03T11:28:05.156842Z",
     "iopub.status.busy": "2024-08-03T11:28:05.156560Z",
     "iopub.status.idle": "2024-08-03T11:28:05.160848Z",
     "shell.execute_reply": "2024-08-03T11:28:05.159769Z"
    },
    "papermill": {
     "duration": 0.022538,
     "end_time": "2024-08-03T11:28:05.162710",
     "exception": false,
     "start_time": "2024-08-03T11:28:05.140172",
     "status": "completed"
    },
    "tags": []
   },
   "outputs": [],
   "source": [
    "def criterion(outputs, targets):\n",
    "    return nn.BCELoss()(outputs, targets)\n",
    "#     return nn.CrossEntropyLoss()(outputs, targets) "
   ]
  },
  {
   "cell_type": "markdown",
   "id": "03ac7888",
   "metadata": {
    "papermill": {
     "duration": 0.015327,
     "end_time": "2024-08-03T11:28:05.193462",
     "exception": false,
     "start_time": "2024-08-03T11:28:05.178135",
     "status": "completed"
    },
    "tags": []
   },
   "source": [
    "# <span><h1 style = \"font-family: garamond; font-size: 40px; font-style: normal; letter-spcaing: 3px; background-color: #f6f5f5; color :#fe346e; border-radius: 100px 100px; text-align:center\">Training Function</h1></span>"
   ]
  },
  {
   "cell_type": "code",
   "execution_count": 19,
   "id": "d663497f",
   "metadata": {
    "execution": {
     "iopub.execute_input": "2024-08-03T11:28:05.225013Z",
     "iopub.status.busy": "2024-08-03T11:28:05.224714Z",
     "iopub.status.idle": "2024-08-03T11:28:05.230523Z",
     "shell.execute_reply": "2024-08-03T11:28:05.229673Z"
    },
    "papermill": {
     "duration": 0.023777,
     "end_time": "2024-08-03T11:28:05.232475",
     "exception": false,
     "start_time": "2024-08-03T11:28:05.208698",
     "status": "completed"
    },
    "tags": []
   },
   "outputs": [],
   "source": [
    "def comp_score_list(solution: list, submission: list, min_tpr: float=0.80):\n",
    "    v_gt = np.abs(np.array(solution)-1)\n",
    "    v_pred = np.array([1.0 - x for x in submission])\n",
    "    max_fpr = abs(1-min_tpr)\n",
    "    partial_auc_scaled = roc_auc_score(v_gt, v_pred, max_fpr=max_fpr)\n",
    "    # change scale from [0.5, 1.0] to [0.5 * max_fpr**2, max_fpr]\n",
    "    # https://math.stackexchange.com/questions/914823/shift-numbers-into-a-different-range\n",
    "    partial_auc = 0.5 * max_fpr**2 + (max_fpr - 0.5 * max_fpr**2) / (1.0 - 0.5) * (partial_auc_scaled - 0.5)\n",
    "    return partial_auc"
   ]
  },
  {
   "cell_type": "code",
   "execution_count": 20,
   "id": "80d1c10f",
   "metadata": {
    "execution": {
     "iopub.execute_input": "2024-08-03T11:28:05.264227Z",
     "iopub.status.busy": "2024-08-03T11:28:05.263976Z",
     "iopub.status.idle": "2024-08-03T11:28:05.274188Z",
     "shell.execute_reply": "2024-08-03T11:28:05.273355Z"
    },
    "papermill": {
     "duration": 0.028273,
     "end_time": "2024-08-03T11:28:05.276048",
     "exception": false,
     "start_time": "2024-08-03T11:28:05.247775",
     "status": "completed"
    },
    "tags": []
   },
   "outputs": [],
   "source": [
    "def train_one_epoch(model, optimizer, scheduler, dataloader, device, epoch):\n",
    "    model.train()\n",
    "    \n",
    "    dataset_size = 0\n",
    "    running_loss = 0.0\n",
    "    \n",
    "    bar = tqdm(enumerate(dataloader), total=len(dataloader))\n",
    "    for step, data in bar:\n",
    "        images = data['image'].to(device, dtype=torch.float)\n",
    "        targets = data['target'].to(device, dtype=torch.float)\n",
    "        \n",
    "        batch_size = images.size(0)\n",
    "        \n",
    "        # Mixupを設定されたエポック数まで適用\n",
    "        if epoch <= CONFIG['mixup_epochs']:\n",
    "            mixed_images, targets_a, targets_b, lam = mixup(images, targets, alpha=CONFIG['mixup_alpha'])\n",
    "            outputs = model(mixed_images).squeeze()\n",
    "            loss = lam * criterion(outputs, targets_a) + (1 - lam) * criterion(outputs, targets_b)\n",
    "        else:\n",
    "            outputs = model(images).squeeze()\n",
    "            loss = criterion(outputs, targets)\n",
    "            \n",
    "        loss = loss / CONFIG['n_accumulate']\n",
    "            \n",
    "        loss.backward()\n",
    "    \n",
    "        if (step + 1) % CONFIG['n_accumulate'] == 0:\n",
    "            optimizer.step()\n",
    "\n",
    "            # zero the parameter gradients\n",
    "            optimizer.zero_grad()\n",
    "\n",
    "            if scheduler is not None:\n",
    "                scheduler.step()\n",
    "        \n",
    "        running_loss += (loss.item() * batch_size)\n",
    "        dataset_size += batch_size\n",
    "        \n",
    "        epoch_loss = running_loss / dataset_size\n",
    "        \n",
    "        bar.set_postfix(Epoch=epoch, Train_Loss=epoch_loss,\n",
    "                        LR=optimizer.param_groups[0]['lr'])\n",
    "    \n",
    "    gc.collect()\n",
    "    \n",
    "    return epoch_loss"
   ]
  },
  {
   "cell_type": "markdown",
   "id": "46689b26",
   "metadata": {
    "papermill": {
     "duration": 0.015334,
     "end_time": "2024-08-03T11:28:05.306685",
     "exception": false,
     "start_time": "2024-08-03T11:28:05.291351",
     "status": "completed"
    },
    "tags": []
   },
   "source": [
    "# <span><h1 style = \"font-family: garamond; font-size: 40px; font-style: normal; letter-spcaing: 3px; background-color: #f6f5f5; color :#fe346e; border-radius: 100px 100px; text-align:center\">Validation Function</h1></span>"
   ]
  },
  {
   "cell_type": "code",
   "execution_count": 21,
   "id": "3db198c8",
   "metadata": {
    "execution": {
     "iopub.execute_input": "2024-08-03T11:28:05.339023Z",
     "iopub.status.busy": "2024-08-03T11:28:05.338480Z",
     "iopub.status.idle": "2024-08-03T11:28:05.347576Z",
     "shell.execute_reply": "2024-08-03T11:28:05.346751Z"
    },
    "papermill": {
     "duration": 0.027246,
     "end_time": "2024-08-03T11:28:05.349380",
     "exception": false,
     "start_time": "2024-08-03T11:28:05.322134",
     "status": "completed"
    },
    "tags": []
   },
   "outputs": [],
   "source": [
    "@torch.inference_mode()\n",
    "def valid_one_epoch(model, dataloader, device, epoch):\n",
    "    model.eval()\n",
    "    \n",
    "    dataset_size = 0\n",
    "    running_loss = 0.0\n",
    "    running_auroc = 0.0\n",
    "    \n",
    "    # TTAのためのカウンター\n",
    "    tta_counter = 0\n",
    "    \n",
    "    # TTAのための関数を定義\n",
    "    def apply_tta(model, image):\n",
    "        outputs = []\n",
    "        \n",
    "        # オリジナル画像\n",
    "        outputs.append(model(image).squeeze())\n",
    "        \n",
    "        # 水平フリップ\n",
    "        outputs.append(model(torch.flip(image, dims=[3])).squeeze())\n",
    "        \n",
    "        # 垂直フリップ\n",
    "        outputs.append(model(torch.flip(image, dims=[2])).squeeze())\n",
    "        \n",
    "        # 90度、180度、270度回転\n",
    "        for k in [1, 2, 3]:\n",
    "            outputs.append(model(torch.rot90(image, k, dims=[2,3])).squeeze())\n",
    "        \n",
    "        return torch.stack(outputs).mean(dim=0)\n",
    "    \n",
    "    all_outputs = []\n",
    "    all_targets = []\n",
    "    \n",
    "    bar = tqdm(enumerate(dataloader), total=len(dataloader))\n",
    "    for step, data in bar:        \n",
    "        images = data['image'].to(device, dtype=torch.float)\n",
    "        targets = data['target'].to(device, dtype=torch.float)\n",
    "        \n",
    "        batch_size = images.size(0)\n",
    "\n",
    "        if CONFIG['use_tta']:\n",
    "            outputs = apply_tta(model, images).squeeze()\n",
    "        else:\n",
    "            outputs = model(images).squeeze()\n",
    "        loss = criterion(outputs, targets)\n",
    "        \n",
    "        all_outputs.extend(outputs.detach().cpu().numpy().flatten())  # 確率に変換して蓄積\n",
    "        all_targets.extend(targets.detach().cpu().numpy().flatten())  # ラベルを蓄積\n",
    "\n",
    "#         auroc = binary_auroc(input=outputs.squeeze(), target=targets).item()\n",
    "        running_loss += (loss.item() * batch_size)\n",
    "#         running_auroc  += (auroc * batch_size)\n",
    "        dataset_size += batch_size\n",
    "        \n",
    "        epoch_loss = running_loss / dataset_size\n",
    "#         epoch_auroc = running_auroc / dataset_size\n",
    "        \n",
    "        bar.set_postfix(Epoch=epoch, Valid_Loss=epoch_loss, \n",
    "                        LR=optimizer.param_groups[0]['lr'])   \n",
    "    \n",
    "    # epoch毎にauroc算出\n",
    "    epoch_auroc = comp_score_list(all_targets, all_outputs)\n",
    "    \n",
    "    gc.collect()\n",
    "    \n",
    "    return epoch_loss, epoch_auroc, all_outputs"
   ]
  },
  {
   "cell_type": "markdown",
   "id": "a8da5eda",
   "metadata": {
    "papermill": {
     "duration": 0.015163,
     "end_time": "2024-08-03T11:28:05.379846",
     "exception": false,
     "start_time": "2024-08-03T11:28:05.364683",
     "status": "completed"
    },
    "tags": []
   },
   "source": [
    "# <span><h1 style = \"font-family: garamond; font-size: 40px; font-style: normal; letter-spcaing: 3px; background-color: #f6f5f5; color :#fe346e; border-radius: 100px 100px; text-align:center\">Run Training</h1></span>"
   ]
  },
  {
   "cell_type": "code",
   "execution_count": 22,
   "id": "aeeaf279",
   "metadata": {
    "execution": {
     "iopub.execute_input": "2024-08-03T11:28:05.412103Z",
     "iopub.status.busy": "2024-08-03T11:28:05.411666Z",
     "iopub.status.idle": "2024-08-03T11:28:05.424650Z",
     "shell.execute_reply": "2024-08-03T11:28:05.423825Z"
    },
    "papermill": {
     "duration": 0.031221,
     "end_time": "2024-08-03T11:28:05.426654",
     "exception": false,
     "start_time": "2024-08-03T11:28:05.395433",
     "status": "completed"
    },
    "tags": []
   },
   "outputs": [],
   "source": [
    "def run_training(model, optimizer, scheduler, device, num_epochs, fold):\n",
    "    if torch.cuda.is_available():\n",
    "        print(\"[INFO] Using GPU: {}\\n\".format(torch.cuda.get_device_name()))\n",
    "    \n",
    "    start = time.time()\n",
    "    best_model_wts = copy.deepcopy(model.state_dict())\n",
    "    best_epoch_auroc = -np.inf\n",
    "    history = defaultdict(list)\n",
    "    save_dir = f\"training_fold{fold}\"\n",
    "    # if not os.path.exists(save_dir):\n",
    "    #     os.mkdir(save_dir)\n",
    "    df_best_pred = df.loc[df[\"kfold\"]==fold, [\"isic_id\", \"target\"]]\n",
    "    \n",
    "    for epoch in range(1, num_epochs + 1): \n",
    "        gc.collect()\n",
    "        train_epoch_loss = train_one_epoch(model, optimizer, scheduler, \n",
    "                                           dataloader=train_loader, \n",
    "                                           device=CONFIG['device'], epoch=epoch)\n",
    "        \n",
    "        val_epoch_loss, val_epoch_auroc, outputs_np = valid_one_epoch(\n",
    "            model, \n",
    "            valid_loader, \n",
    "            device=CONFIG['device'], \n",
    "            epoch=epoch\n",
    "        )\n",
    "    \n",
    "        history['Train Loss'].append(train_epoch_loss)\n",
    "        history['Valid Loss'].append(val_epoch_loss)\n",
    "        history['Valid AUROC'].append(val_epoch_auroc)\n",
    "        history['lr'].append(scheduler.get_last_lr()[0])\n",
    "        \n",
    "        # deep copy the model\n",
    "        if best_epoch_auroc <= val_epoch_auroc:\n",
    "            print(f\"{b_}Validation AUROC Improved ({best_epoch_auroc:.5f} ---> {val_epoch_auroc:.5f})\")\n",
    "            best_epoch_auroc = val_epoch_auroc\n",
    "            best_model_wts = copy.deepcopy(model.state_dict())\n",
    "            # 過去のベストモデルを削除\n",
    "#             if 'PATH' in locals():\n",
    "#                 os.remove(PATH)\n",
    "            PATH = \"training_fold{}/AUROC{:.4f}_Loss{:.4f}_epoch{:.0f}.bin\".format(fold, val_epoch_auroc, val_epoch_loss, epoch)\n",
    "\n",
    "        else:\n",
    "            print(f\"Validation pAUC80 not Improved ({val_epoch_auroc:.5f})\")\n",
    "\n",
    "        print()\n",
    "    \n",
    "    end = time.time()\n",
    "    time_elapsed = end - start\n",
    "    print('Training complete in {:.0f}h {:.0f}m {:.0f}s'.format(\n",
    "        time_elapsed // 3600, (time_elapsed % 3600) // 60, (time_elapsed % 3600) % 60))\n",
    "    print(\"Best AUROC: {:.4f}\".format(best_epoch_auroc))\n",
    "    \n",
    "    # torch.save(best_model_wts, PATH)\n",
    "    # Save a model file from the current directory\n",
    "    # print(f\"Best Model Saved{sr_}\")\n",
    "    \n",
    "    # load best model weights\n",
    "    # model.load_state_dict(best_model_wts)\n",
    "    \n",
    "    return model, history"
   ]
  },
  {
   "cell_type": "code",
   "execution_count": 23,
   "id": "4c894488",
   "metadata": {
    "execution": {
     "iopub.execute_input": "2024-08-03T11:28:05.458938Z",
     "iopub.status.busy": "2024-08-03T11:28:05.458291Z",
     "iopub.status.idle": "2024-08-03T11:28:05.463712Z",
     "shell.execute_reply": "2024-08-03T11:28:05.462920Z"
    },
    "papermill": {
     "duration": 0.023591,
     "end_time": "2024-08-03T11:28:05.465446",
     "exception": false,
     "start_time": "2024-08-03T11:28:05.441855",
     "status": "completed"
    },
    "tags": []
   },
   "outputs": [],
   "source": [
    "class WarmupScheduler:\n",
    "    def __init__(self, optimizer, warmup_steps, warmup_factor, base_scheduler):\n",
    "        self.optimizer = optimizer\n",
    "        self.warmup_steps = warmup_steps\n",
    "        self.warmup_factor = warmup_factor\n",
    "        self.base_scheduler = base_scheduler\n",
    "        self.current_step = 0\n",
    "\n",
    "    def step(self):\n",
    "        self.current_step += 1\n",
    "        if self.current_step < self.warmup_steps:\n",
    "            lr_scale = self.warmup_factor + (1 - self.warmup_factor) * (self.current_step / self.warmup_steps)\n",
    "            for param_group in self.optimizer.param_groups:\n",
    "                param_group['lr'] = lr_scale * param_group['initial_lr']\n",
    "        else:\n",
    "            self.base_scheduler.step()\n",
    "\n",
    "    def get_last_lr(self):\n",
    "        if self.current_step < self.warmup_steps:\n",
    "            lr_scale = self.warmup_factor + (1 - self.warmup_factor) * (self.current_step / self.warmup_steps)\n",
    "            return [lr_scale * param_group['initial_lr'] for param_group in self.optimizer.param_groups]\n",
    "        else:\n",
    "            return self.base_scheduler.get_last_lr()\n",
    "\n",
    "def fetch_scheduler(optimizer, T_max=None):\n",
    "    if CONFIG['scheduler'] == 'CosineAnnealingLR':\n",
    "        base_scheduler = lr_scheduler.CosineAnnealingLR(optimizer, T_max=T_max, eta_min=CONFIG['min_lr'])\n",
    "    elif CONFIG['scheduler'] == 'CosineAnnealingWarmRestarts':\n",
    "        base_scheduler = lr_scheduler.CosineAnnealingWarmRestarts(optimizer, T_0=CONFIG['T_0'], eta_min=CONFIG['min_lr'])\n",
    "    elif CONFIG['scheduler'] == None:\n",
    "        return None\n",
    "\n",
    "    return WarmupScheduler(optimizer, CONFIG['warmup_steps'], CONFIG['warmup_factor'], base_scheduler)\n"
   ]
  },
  {
   "cell_type": "code",
   "execution_count": 24,
   "id": "8d53d7a3",
   "metadata": {
    "execution": {
     "iopub.execute_input": "2024-08-03T11:28:05.497363Z",
     "iopub.status.busy": "2024-08-03T11:28:05.497124Z",
     "iopub.status.idle": "2024-08-03T11:28:05.503173Z",
     "shell.execute_reply": "2024-08-03T11:28:05.502432Z"
    },
    "papermill": {
     "duration": 0.024204,
     "end_time": "2024-08-03T11:28:05.504940",
     "exception": false,
     "start_time": "2024-08-03T11:28:05.480736",
     "status": "completed"
    },
    "tags": []
   },
   "outputs": [],
   "source": [
    "def prepare_loaders(df, fold):\n",
    "    df_train = df[df.kfold != fold].reset_index(drop=True)\n",
    "    df_valid = df[df.kfold == fold].reset_index(drop=True)\n",
    "    \n",
    "    train_dataset = ISICDataset_for_Train(df_train, transforms=data_transforms[\"train\"])\n",
    "    valid_dataset = ISICDataset(df_valid, transforms=data_transforms[\"valid\"])\n",
    "\n",
    "    train_loader = DataLoader(train_dataset, batch_size=CONFIG['train_batch_size'], \n",
    "                              num_workers=2, shuffle=True, pin_memory=True, drop_last=True)\n",
    "    valid_loader = DataLoader(valid_dataset, batch_size=CONFIG['valid_batch_size'], \n",
    "                              num_workers=2, shuffle=False, pin_memory=True)\n",
    "    \n",
    "    return train_loader, valid_loader"
   ]
  },
  {
   "cell_type": "markdown",
   "id": "dac15007",
   "metadata": {
    "papermill": {
     "duration": 0.015388,
     "end_time": "2024-08-03T11:28:05.535742",
     "exception": false,
     "start_time": "2024-08-03T11:28:05.520354",
     "status": "completed"
    },
    "tags": []
   },
   "source": [
    "# CV"
   ]
  },
  {
   "cell_type": "code",
   "execution_count": 25,
   "id": "e9855d2c",
   "metadata": {
    "execution": {
     "iopub.execute_input": "2024-08-03T11:28:05.567513Z",
     "iopub.status.busy": "2024-08-03T11:28:05.567243Z",
     "iopub.status.idle": "2024-08-03T11:28:22.193655Z",
     "shell.execute_reply": "2024-08-03T11:28:22.192720Z"
    },
    "papermill": {
     "duration": 16.644865,
     "end_time": "2024-08-03T11:28:22.195974",
     "exception": false,
     "start_time": "2024-08-03T11:28:05.551109",
     "status": "completed"
    },
    "tags": []
   },
   "outputs": [
    {
     "data": {
      "text/html": [
       "wandb version 0.17.7 is available!  To upgrade, please run:\n",
       " $ pip install wandb --upgrade"
      ],
      "text/plain": [
       "<IPython.core.display.HTML object>"
      ]
     },
     "metadata": {},
     "output_type": "display_data"
    },
    {
     "data": {
      "text/html": [
       "Tracking run with wandb version 0.17.5"
      ],
      "text/plain": [
       "<IPython.core.display.HTML object>"
      ]
     },
     "metadata": {},
     "output_type": "display_data"
    },
    {
     "data": {
      "text/html": [
       "Run data is saved locally in <code>/workspace/ML-Project-Experiment-Tracking-Template/notebooks/wandb/run-20240824_131317-gnv81yp0</code>"
      ],
      "text/plain": [
       "<IPython.core.display.HTML object>"
      ]
     },
     "metadata": {},
     "output_type": "display_data"
    },
    {
     "data": {
      "text/html": [
       "Syncing run <strong><a href='https://wandb.ai/trira7503/ISIC2024_images/runs/gnv81yp0' target=\"_blank\">val1_effnetb2_mixup_warmup</a></strong> to <a href='https://wandb.ai/trira7503/ISIC2024_images' target=\"_blank\">Weights & Biases</a> (<a href='https://wandb.me/run' target=\"_blank\">docs</a>)<br/>"
      ],
      "text/plain": [
       "<IPython.core.display.HTML object>"
      ]
     },
     "metadata": {},
     "output_type": "display_data"
    },
    {
     "data": {
      "text/html": [
       " View project at <a href='https://wandb.ai/trira7503/ISIC2024_images' target=\"_blank\">https://wandb.ai/trira7503/ISIC2024_images</a>"
      ],
      "text/plain": [
       "<IPython.core.display.HTML object>"
      ]
     },
     "metadata": {},
     "output_type": "display_data"
    },
    {
     "data": {
      "text/html": [
       " View run at <a href='https://wandb.ai/trira7503/ISIC2024_images/runs/gnv81yp0' target=\"_blank\">https://wandb.ai/trira7503/ISIC2024_images/runs/gnv81yp0</a>"
      ],
      "text/plain": [
       "<IPython.core.display.HTML object>"
      ]
     },
     "metadata": {},
     "output_type": "display_data"
    }
   ],
   "source": [
    "# wandbの初期化\n",
    "if WANDB:\n",
    "    wandb_config = {\n",
    "        # ... 既存の設定 ...\n",
    "        \"epochs\": CONFIG['epochs'],\n",
    "        \"learning_rate\": CONFIG['learning_rate'],\n",
    "        \"min_lr\": CONFIG[\"min_lr\"],\n",
    "        \"weight_decay\": CONFIG[\"weight_decay\"],\n",
    "        \"mixup_alpha\": CONFIG[\"mixup_alpha\"],\n",
    "        \"mixup_epochs\": CONFIG[\"mixup_epochs\"],  # 新しく追加\n",
    "    }\n",
    "    wandb.init(project=\"ISIC2024_images\", name=EXP_NAME, config=wandb_config)"
   ]
  },
  {
   "cell_type": "code",
   "execution_count": 26,
   "id": "6aa10e24",
   "metadata": {
    "execution": {
     "iopub.execute_input": "2024-08-03T11:28:22.229731Z",
     "iopub.status.busy": "2024-08-03T11:28:22.229444Z",
     "iopub.status.idle": "2024-08-03T12:31:30.939006Z",
     "shell.execute_reply": "2024-08-03T12:31:30.937574Z"
    },
    "papermill": {
     "duration": 3788.728657,
     "end_time": "2024-08-03T12:31:30.941160",
     "exception": false,
     "start_time": "2024-08-03T11:28:22.212503",
     "status": "completed"
    },
    "tags": []
   },
   "outputs": [
    {
     "name": "stdout",
     "output_type": "stream",
     "text": [
      "==============================\n",
      "fold 0\n",
      "==============================\n",
      "●train\n",
      "original> (306580, 58) 320 (835,)\n"
     ]
    },
    {
     "name": "stdout",
     "output_type": "stream",
     "text": [
      "filtered> (6720, 58) 320 (765,)\n",
      "●val\n",
      "original> (94479, 58) 73 (207,)\n",
      "filtered> (1533, 58) 73 (180,)\n",
      "[INFO] Using GPU: NVIDIA GeForce RTX 4090\n",
      "\n"
     ]
    },
    {
     "name": "stderr",
     "output_type": "stream",
     "text": [
      "100%|██████████| 10/10 [00:03<00:00,  2.68it/s, Epoch=1, LR=0.000238, Train_Loss=0.897]\n",
      "100%|██████████| 12/12 [00:02<00:00,  4.44it/s, Epoch=1, LR=0.000238, Valid_Loss=0.431]\n"
     ]
    },
    {
     "name": "stdout",
     "output_type": "stream",
     "text": [
      "\u001b[34mValidation AUROC Improved (-inf ---> 0.03267)\n",
      "\n"
     ]
    },
    {
     "name": "stderr",
     "output_type": "stream",
     "text": [
      "100%|██████████| 10/10 [00:02<00:00,  3.76it/s, Epoch=2, LR=0.000456, Train_Loss=0.699]\n",
      "100%|██████████| 12/12 [00:02<00:00,  5.91it/s, Epoch=2, LR=0.000456, Valid_Loss=0.573]\n"
     ]
    },
    {
     "name": "stdout",
     "output_type": "stream",
     "text": [
      "\u001b[34mValidation AUROC Improved (0.03267 ---> 0.05580)\n",
      "\n"
     ]
    },
    {
     "name": "stderr",
     "output_type": "stream",
     "text": [
      "100%|██████████| 10/10 [00:02<00:00,  3.63it/s, Epoch=3, LR=0.000673, Train_Loss=0.58]\n",
      "100%|██████████| 12/12 [00:02<00:00,  5.89it/s, Epoch=3, LR=0.000673, Valid_Loss=0.483]\n"
     ]
    },
    {
     "name": "stdout",
     "output_type": "stream",
     "text": [
      "\u001b[34mValidation AUROC Improved (0.05580 ---> 0.06685)\n",
      "\n"
     ]
    },
    {
     "name": "stderr",
     "output_type": "stream",
     "text": [
      "100%|██████████| 10/10 [00:02<00:00,  3.68it/s, Epoch=4, LR=0.000891, Train_Loss=0.516]\n",
      "100%|██████████| 12/12 [00:02<00:00,  5.82it/s, Epoch=4, LR=0.000891, Valid_Loss=0.485]\n"
     ]
    },
    {
     "name": "stdout",
     "output_type": "stream",
     "text": [
      "\u001b[34mValidation AUROC Improved (0.06685 ---> 0.09496)\n",
      "\n"
     ]
    },
    {
     "name": "stderr",
     "output_type": "stream",
     "text": [
      "100%|██████████| 10/10 [00:02<00:00,  3.66it/s, Epoch=5, LR=0.000978, Train_Loss=0.525]\n",
      "100%|██████████| 12/12 [00:02<00:00,  5.46it/s, Epoch=5, LR=0.000978, Valid_Loss=0.328]\n"
     ]
    },
    {
     "name": "stdout",
     "output_type": "stream",
     "text": [
      "\u001b[34mValidation AUROC Improved (0.09496 ---> 0.11267)\n",
      "\n"
     ]
    },
    {
     "name": "stderr",
     "output_type": "stream",
     "text": [
      "100%|██████████| 10/10 [00:02<00:00,  3.60it/s, Epoch=6, LR=0.000975, Train_Loss=0.433]\n",
      "100%|██████████| 12/12 [00:02<00:00,  5.88it/s, Epoch=6, LR=0.000975, Valid_Loss=0.315]\n"
     ]
    },
    {
     "name": "stdout",
     "output_type": "stream",
     "text": [
      "\u001b[34mValidation AUROC Improved (0.11267 ---> 0.13097)\n",
      "\n"
     ]
    },
    {
     "name": "stderr",
     "output_type": "stream",
     "text": [
      "100%|██████████| 10/10 [00:02<00:00,  3.65it/s, Epoch=7, LR=0.00097, Train_Loss=0.453]\n",
      "100%|██████████| 12/12 [00:02<00:00,  5.79it/s, Epoch=7, LR=0.00097, Valid_Loss=0.356]\n"
     ]
    },
    {
     "name": "stdout",
     "output_type": "stream",
     "text": [
      "Validation pAUC80 not Improved (0.08603)\n",
      "\n"
     ]
    },
    {
     "name": "stderr",
     "output_type": "stream",
     "text": [
      "100%|██████████| 10/10 [00:02<00:00,  3.73it/s, Epoch=8, LR=0.000963, Train_Loss=0.403]\n",
      "100%|██████████| 12/12 [00:02<00:00,  5.44it/s, Epoch=8, LR=0.000963, Valid_Loss=0.365]\n"
     ]
    },
    {
     "name": "stdout",
     "output_type": "stream",
     "text": [
      "Validation pAUC80 not Improved (0.10012)\n",
      "\n"
     ]
    },
    {
     "name": "stderr",
     "output_type": "stream",
     "text": [
      "100%|██████████| 10/10 [00:02<00:00,  3.63it/s, Epoch=9, LR=0.000954, Train_Loss=0.394]\n",
      "100%|██████████| 12/12 [00:02<00:00,  5.75it/s, Epoch=9, LR=0.000954, Valid_Loss=0.279]\n"
     ]
    },
    {
     "name": "stdout",
     "output_type": "stream",
     "text": [
      "Validation pAUC80 not Improved (0.11397)\n",
      "\n"
     ]
    },
    {
     "name": "stderr",
     "output_type": "stream",
     "text": [
      "100%|██████████| 10/10 [00:02<00:00,  3.70it/s, Epoch=10, LR=0.000942, Train_Loss=0.441]\n",
      "100%|██████████| 12/12 [00:02<00:00,  5.85it/s, Epoch=10, LR=0.000942, Valid_Loss=0.367]\n"
     ]
    },
    {
     "name": "stdout",
     "output_type": "stream",
     "text": [
      "Validation pAUC80 not Improved (0.11635)\n",
      "\n"
     ]
    },
    {
     "name": "stderr",
     "output_type": "stream",
     "text": [
      "100%|██████████| 10/10 [00:02<00:00,  3.62it/s, Epoch=11, LR=0.000928, Train_Loss=0.424]\n",
      "100%|██████████| 12/12 [00:02<00:00,  5.40it/s, Epoch=11, LR=0.000928, Valid_Loss=0.421]\n"
     ]
    },
    {
     "name": "stdout",
     "output_type": "stream",
     "text": [
      "Validation pAUC80 not Improved (0.11683)\n",
      "\n"
     ]
    },
    {
     "name": "stderr",
     "output_type": "stream",
     "text": [
      "100%|██████████| 10/10 [00:02<00:00,  3.56it/s, Epoch=12, LR=0.000912, Train_Loss=0.53]\n",
      "100%|██████████| 12/12 [00:02<00:00,  5.71it/s, Epoch=12, LR=0.000912, Valid_Loss=0.322]\n"
     ]
    },
    {
     "name": "stdout",
     "output_type": "stream",
     "text": [
      "\u001b[34mValidation AUROC Improved (0.13097 ---> 0.13143)\n",
      "\n"
     ]
    },
    {
     "name": "stderr",
     "output_type": "stream",
     "text": [
      "100%|██████████| 10/10 [00:02<00:00,  3.55it/s, Epoch=13, LR=0.000895, Train_Loss=0.393]\n",
      "100%|██████████| 12/12 [00:02<00:00,  5.66it/s, Epoch=13, LR=0.000895, Valid_Loss=0.325]\n"
     ]
    },
    {
     "name": "stdout",
     "output_type": "stream",
     "text": [
      "Validation pAUC80 not Improved (0.12697)\n",
      "\n"
     ]
    },
    {
     "name": "stderr",
     "output_type": "stream",
     "text": [
      "100%|██████████| 10/10 [00:02<00:00,  3.59it/s, Epoch=14, LR=0.000875, Train_Loss=0.422]\n",
      "100%|██████████| 12/12 [00:02<00:00,  5.59it/s, Epoch=14, LR=0.000875, Valid_Loss=0.32] \n"
     ]
    },
    {
     "name": "stdout",
     "output_type": "stream",
     "text": [
      "Validation pAUC80 not Improved (0.12573)\n",
      "\n"
     ]
    },
    {
     "name": "stderr",
     "output_type": "stream",
     "text": [
      "100%|██████████| 10/10 [00:02<00:00,  3.65it/s, Epoch=15, LR=0.000853, Train_Loss=0.409]\n",
      "100%|██████████| 12/12 [00:02<00:00,  5.53it/s, Epoch=15, LR=0.000853, Valid_Loss=0.223]\n"
     ]
    },
    {
     "name": "stdout",
     "output_type": "stream",
     "text": [
      "Validation pAUC80 not Improved (0.11748)\n",
      "\n"
     ]
    },
    {
     "name": "stderr",
     "output_type": "stream",
     "text": [
      "100%|██████████| 10/10 [00:02<00:00,  3.60it/s, Epoch=16, LR=0.00083, Train_Loss=0.308]\n",
      "100%|██████████| 12/12 [00:02<00:00,  5.40it/s, Epoch=16, LR=0.00083, Valid_Loss=0.304]\n"
     ]
    },
    {
     "name": "stdout",
     "output_type": "stream",
     "text": [
      "Validation pAUC80 not Improved (0.12196)\n",
      "\n"
     ]
    },
    {
     "name": "stderr",
     "output_type": "stream",
     "text": [
      "100%|██████████| 10/10 [00:02<00:00,  3.59it/s, Epoch=17, LR=0.000805, Train_Loss=0.352]\n",
      "100%|██████████| 12/12 [00:02<00:00,  5.64it/s, Epoch=17, LR=0.000805, Valid_Loss=0.253]\n"
     ]
    },
    {
     "name": "stdout",
     "output_type": "stream",
     "text": [
      "Validation pAUC80 not Improved (0.12600)\n",
      "\n"
     ]
    },
    {
     "name": "stderr",
     "output_type": "stream",
     "text": [
      "100%|██████████| 10/10 [00:02<00:00,  3.55it/s, Epoch=18, LR=0.000778, Train_Loss=0.368]\n",
      "100%|██████████| 12/12 [00:02<00:00,  5.57it/s, Epoch=18, LR=0.000778, Valid_Loss=0.36] \n"
     ]
    },
    {
     "name": "stdout",
     "output_type": "stream",
     "text": [
      "Validation pAUC80 not Improved (0.12283)\n",
      "\n"
     ]
    },
    {
     "name": "stderr",
     "output_type": "stream",
     "text": [
      "100%|██████████| 10/10 [00:02<00:00,  3.61it/s, Epoch=19, LR=0.00075, Train_Loss=0.311]\n",
      "100%|██████████| 12/12 [00:02<00:00,  5.55it/s, Epoch=19, LR=0.00075, Valid_Loss=0.251]\n"
     ]
    },
    {
     "name": "stdout",
     "output_type": "stream",
     "text": [
      "Validation pAUC80 not Improved (0.12796)\n",
      "\n"
     ]
    },
    {
     "name": "stderr",
     "output_type": "stream",
     "text": [
      "100%|██████████| 10/10 [00:02<00:00,  3.60it/s, Epoch=20, LR=0.000721, Train_Loss=0.25]\n",
      "100%|██████████| 12/12 [00:02<00:00,  5.46it/s, Epoch=20, LR=0.000721, Valid_Loss=0.335]\n"
     ]
    },
    {
     "name": "stdout",
     "output_type": "stream",
     "text": [
      "\u001b[34mValidation AUROC Improved (0.13143 ---> 0.14276)\n",
      "\n"
     ]
    },
    {
     "name": "stderr",
     "output_type": "stream",
     "text": [
      "100%|██████████| 10/10 [00:02<00:00,  3.56it/s, Epoch=21, LR=0.000691, Train_Loss=0.412]\n",
      "100%|██████████| 12/12 [00:02<00:00,  5.50it/s, Epoch=21, LR=0.000691, Valid_Loss=0.217]\n"
     ]
    },
    {
     "name": "stdout",
     "output_type": "stream",
     "text": [
      "Validation pAUC80 not Improved (0.12657)\n",
      "\n"
     ]
    },
    {
     "name": "stderr",
     "output_type": "stream",
     "text": [
      "100%|██████████| 10/10 [00:02<00:00,  3.61it/s, Epoch=22, LR=0.000659, Train_Loss=0.32]\n",
      "100%|██████████| 12/12 [00:02<00:00,  5.72it/s, Epoch=22, LR=0.000659, Valid_Loss=0.193]\n"
     ]
    },
    {
     "name": "stdout",
     "output_type": "stream",
     "text": [
      "Validation pAUC80 not Improved (0.12701)\n",
      "\n"
     ]
    },
    {
     "name": "stderr",
     "output_type": "stream",
     "text": [
      "100%|██████████| 10/10 [00:02<00:00,  3.59it/s, Epoch=23, LR=0.000627, Train_Loss=0.384]\n",
      "100%|██████████| 12/12 [00:02<00:00,  5.52it/s, Epoch=23, LR=0.000627, Valid_Loss=0.2]  \n"
     ]
    },
    {
     "name": "stdout",
     "output_type": "stream",
     "text": [
      "Validation pAUC80 not Improved (0.13231)\n",
      "\n"
     ]
    },
    {
     "name": "stderr",
     "output_type": "stream",
     "text": [
      "100%|██████████| 10/10 [00:02<00:00,  3.57it/s, Epoch=24, LR=0.000595, Train_Loss=0.388]\n",
      "100%|██████████| 12/12 [00:02<00:00,  5.54it/s, Epoch=24, LR=0.000595, Valid_Loss=0.354]\n"
     ]
    },
    {
     "name": "stdout",
     "output_type": "stream",
     "text": [
      "Validation pAUC80 not Improved (0.13628)\n",
      "\n"
     ]
    },
    {
     "name": "stderr",
     "output_type": "stream",
     "text": [
      "100%|██████████| 10/10 [00:02<00:00,  3.55it/s, Epoch=25, LR=0.000561, Train_Loss=0.337]\n",
      "100%|██████████| 12/12 [00:02<00:00,  5.57it/s, Epoch=25, LR=0.000561, Valid_Loss=0.211]\n"
     ]
    },
    {
     "name": "stdout",
     "output_type": "stream",
     "text": [
      "Validation pAUC80 not Improved (0.12193)\n",
      "\n"
     ]
    },
    {
     "name": "stderr",
     "output_type": "stream",
     "text": [
      "100%|██████████| 10/10 [00:02<00:00,  3.61it/s, Epoch=26, LR=0.000528, Train_Loss=0.351]\n",
      "100%|██████████| 12/12 [00:02<00:00,  5.74it/s, Epoch=26, LR=0.000528, Valid_Loss=0.217]\n"
     ]
    },
    {
     "name": "stdout",
     "output_type": "stream",
     "text": [
      "Validation pAUC80 not Improved (0.12708)\n",
      "\n"
     ]
    },
    {
     "name": "stderr",
     "output_type": "stream",
     "text": [
      "100%|██████████| 10/10 [00:02<00:00,  3.55it/s, Epoch=27, LR=0.000494, Train_Loss=0.333]\n",
      "100%|██████████| 12/12 [00:02<00:00,  5.69it/s, Epoch=27, LR=0.000494, Valid_Loss=0.224]\n"
     ]
    },
    {
     "name": "stdout",
     "output_type": "stream",
     "text": [
      "Validation pAUC80 not Improved (0.14262)\n",
      "\n"
     ]
    },
    {
     "name": "stderr",
     "output_type": "stream",
     "text": [
      "100%|██████████| 10/10 [00:02<00:00,  3.67it/s, Epoch=28, LR=0.00046, Train_Loss=0.385]\n",
      "100%|██████████| 12/12 [00:02<00:00,  5.58it/s, Epoch=28, LR=0.00046, Valid_Loss=0.203]\n"
     ]
    },
    {
     "name": "stdout",
     "output_type": "stream",
     "text": [
      "Validation pAUC80 not Improved (0.12451)\n",
      "\n"
     ]
    },
    {
     "name": "stderr",
     "output_type": "stream",
     "text": [
      "100%|██████████| 10/10 [00:02<00:00,  3.57it/s, Epoch=29, LR=0.000427, Train_Loss=0.26]\n",
      "100%|██████████| 12/12 [00:02<00:00,  5.71it/s, Epoch=29, LR=0.000427, Valid_Loss=0.28] \n"
     ]
    },
    {
     "name": "stdout",
     "output_type": "stream",
     "text": [
      "Validation pAUC80 not Improved (0.12960)\n",
      "\n"
     ]
    },
    {
     "name": "stderr",
     "output_type": "stream",
     "text": [
      "100%|██████████| 10/10 [00:02<00:00,  3.63it/s, Epoch=30, LR=0.000394, Train_Loss=0.262]\n",
      "100%|██████████| 12/12 [00:02<00:00,  5.69it/s, Epoch=30, LR=0.000394, Valid_Loss=0.217]\n"
     ]
    },
    {
     "name": "stdout",
     "output_type": "stream",
     "text": [
      "Validation pAUC80 not Improved (0.12298)\n",
      "\n"
     ]
    },
    {
     "name": "stderr",
     "output_type": "stream",
     "text": [
      "100%|██████████| 10/10 [00:02<00:00,  3.57it/s, Epoch=31, LR=0.000361, Train_Loss=0.362]\n",
      "100%|██████████| 12/12 [00:02<00:00,  5.46it/s, Epoch=31, LR=0.000361, Valid_Loss=0.25] \n"
     ]
    },
    {
     "name": "stdout",
     "output_type": "stream",
     "text": [
      "Validation pAUC80 not Improved (0.13870)\n",
      "\n"
     ]
    },
    {
     "name": "stderr",
     "output_type": "stream",
     "text": [
      "100%|██████████| 10/10 [00:02<00:00,  3.55it/s, Epoch=32, LR=0.000328, Train_Loss=0.274]\n",
      "100%|██████████| 12/12 [00:02<00:00,  5.53it/s, Epoch=32, LR=0.000328, Valid_Loss=0.246]\n"
     ]
    },
    {
     "name": "stdout",
     "output_type": "stream",
     "text": [
      "Validation pAUC80 not Improved (0.13962)\n",
      "\n"
     ]
    },
    {
     "name": "stderr",
     "output_type": "stream",
     "text": [
      "100%|██████████| 10/10 [00:02<00:00,  3.61it/s, Epoch=33, LR=0.000297, Train_Loss=0.321]\n",
      "100%|██████████| 12/12 [00:02<00:00,  5.53it/s, Epoch=33, LR=0.000297, Valid_Loss=0.248]\n"
     ]
    },
    {
     "name": "stdout",
     "output_type": "stream",
     "text": [
      "Validation pAUC80 not Improved (0.14127)\n",
      "\n"
     ]
    },
    {
     "name": "stderr",
     "output_type": "stream",
     "text": [
      "100%|██████████| 10/10 [00:02<00:00,  3.59it/s, Epoch=34, LR=0.000266, Train_Loss=0.306]\n",
      "100%|██████████| 12/12 [00:02<00:00,  5.76it/s, Epoch=34, LR=0.000266, Valid_Loss=0.215]\n"
     ]
    },
    {
     "name": "stdout",
     "output_type": "stream",
     "text": [
      "Validation pAUC80 not Improved (0.13303)\n",
      "\n"
     ]
    },
    {
     "name": "stderr",
     "output_type": "stream",
     "text": [
      "100%|██████████| 10/10 [00:02<00:00,  3.66it/s, Epoch=35, LR=0.000237, Train_Loss=0.392]\n",
      "100%|██████████| 12/12 [00:02<00:00,  5.71it/s, Epoch=35, LR=0.000237, Valid_Loss=0.286]\n"
     ]
    },
    {
     "name": "stdout",
     "output_type": "stream",
     "text": [
      "\u001b[34mValidation AUROC Improved (0.14276 ---> 0.14661)\n",
      "\n"
     ]
    },
    {
     "name": "stderr",
     "output_type": "stream",
     "text": [
      "100%|██████████| 10/10 [00:02<00:00,  3.60it/s, Epoch=36, LR=0.000209, Train_Loss=0.231]\n",
      "100%|██████████| 12/12 [00:02<00:00,  5.63it/s, Epoch=36, LR=0.000209, Valid_Loss=0.213]\n"
     ]
    },
    {
     "name": "stdout",
     "output_type": "stream",
     "text": [
      "Validation pAUC80 not Improved (0.13168)\n",
      "\n"
     ]
    },
    {
     "name": "stderr",
     "output_type": "stream",
     "text": [
      "100%|██████████| 10/10 [00:02<00:00,  3.50it/s, Epoch=37, LR=0.000182, Train_Loss=0.384]\n",
      "100%|██████████| 12/12 [00:02<00:00,  5.54it/s, Epoch=37, LR=0.000182, Valid_Loss=0.238]\n"
     ]
    },
    {
     "name": "stdout",
     "output_type": "stream",
     "text": [
      "Validation pAUC80 not Improved (0.13115)\n",
      "\n"
     ]
    },
    {
     "name": "stderr",
     "output_type": "stream",
     "text": [
      "100%|██████████| 10/10 [00:02<00:00,  3.61it/s, Epoch=38, LR=0.000156, Train_Loss=0.174]\n",
      "100%|██████████| 12/12 [00:02<00:00,  5.70it/s, Epoch=38, LR=0.000156, Valid_Loss=0.216]\n"
     ]
    },
    {
     "name": "stdout",
     "output_type": "stream",
     "text": [
      "Validation pAUC80 not Improved (0.12486)\n",
      "\n"
     ]
    },
    {
     "name": "stderr",
     "output_type": "stream",
     "text": [
      "100%|██████████| 10/10 [00:02<00:00,  3.61it/s, Epoch=39, LR=0.000132, Train_Loss=0.307]\n",
      "100%|██████████| 12/12 [00:02<00:00,  5.62it/s, Epoch=39, LR=0.000132, Valid_Loss=0.197]\n"
     ]
    },
    {
     "name": "stdout",
     "output_type": "stream",
     "text": [
      "Validation pAUC80 not Improved (0.12449)\n",
      "\n"
     ]
    },
    {
     "name": "stderr",
     "output_type": "stream",
     "text": [
      "100%|██████████| 10/10 [00:02<00:00,  3.57it/s, Epoch=40, LR=0.00011, Train_Loss=0.216]\n",
      "100%|██████████| 12/12 [00:02<00:00,  5.19it/s, Epoch=40, LR=0.00011, Valid_Loss=0.225]\n"
     ]
    },
    {
     "name": "stdout",
     "output_type": "stream",
     "text": [
      "Validation pAUC80 not Improved (0.12697)\n",
      "\n"
     ]
    },
    {
     "name": "stderr",
     "output_type": "stream",
     "text": [
      "100%|██████████| 10/10 [00:02<00:00,  3.67it/s, Epoch=41, LR=8.96e-5, Train_Loss=0.0841]\n",
      "100%|██████████| 12/12 [00:02<00:00,  5.39it/s, Epoch=41, LR=8.96e-5, Valid_Loss=0.241]\n"
     ]
    },
    {
     "name": "stdout",
     "output_type": "stream",
     "text": [
      "Validation pAUC80 not Improved (0.12774)\n",
      "\n"
     ]
    },
    {
     "name": "stderr",
     "output_type": "stream",
     "text": [
      "100%|██████████| 10/10 [00:02<00:00,  3.59it/s, Epoch=42, LR=7.11e-5, Train_Loss=0.0699]\n",
      "100%|██████████| 12/12 [00:02<00:00,  5.77it/s, Epoch=42, LR=7.11e-5, Valid_Loss=0.247]\n"
     ]
    },
    {
     "name": "stdout",
     "output_type": "stream",
     "text": [
      "Validation pAUC80 not Improved (0.12920)\n",
      "\n"
     ]
    },
    {
     "name": "stderr",
     "output_type": "stream",
     "text": [
      "100%|██████████| 10/10 [00:02<00:00,  3.61it/s, Epoch=43, LR=5.46e-5, Train_Loss=0.058]\n",
      "100%|██████████| 12/12 [00:02<00:00,  5.76it/s, Epoch=43, LR=5.46e-5, Valid_Loss=0.243]\n"
     ]
    },
    {
     "name": "stdout",
     "output_type": "stream",
     "text": [
      "Validation pAUC80 not Improved (0.12819)\n",
      "\n"
     ]
    },
    {
     "name": "stderr",
     "output_type": "stream",
     "text": [
      "100%|██████████| 10/10 [00:02<00:00,  3.56it/s, Epoch=44, LR=4.01e-5, Train_Loss=0.0576]\n",
      "100%|██████████| 12/12 [00:02<00:00,  5.79it/s, Epoch=44, LR=4.01e-5, Valid_Loss=0.228]\n"
     ]
    },
    {
     "name": "stdout",
     "output_type": "stream",
     "text": [
      "Validation pAUC80 not Improved (0.12607)\n",
      "\n"
     ]
    },
    {
     "name": "stderr",
     "output_type": "stream",
     "text": [
      "100%|██████████| 10/10 [00:02<00:00,  3.64it/s, Epoch=45, LR=2.78e-5, Train_Loss=0.058]\n",
      "100%|██████████| 12/12 [00:02<00:00,  5.83it/s, Epoch=45, LR=2.78e-5, Valid_Loss=0.231]\n"
     ]
    },
    {
     "name": "stdout",
     "output_type": "stream",
     "text": [
      "Validation pAUC80 not Improved (0.12584)\n",
      "\n"
     ]
    },
    {
     "name": "stderr",
     "output_type": "stream",
     "text": [
      "100%|██████████| 10/10 [00:02<00:00,  3.70it/s, Epoch=46, LR=1.77e-5, Train_Loss=0.0454]\n",
      "100%|██████████| 12/12 [00:02<00:00,  5.70it/s, Epoch=46, LR=1.77e-5, Valid_Loss=0.235]\n"
     ]
    },
    {
     "name": "stdout",
     "output_type": "stream",
     "text": [
      "Validation pAUC80 not Improved (0.12712)\n",
      "\n"
     ]
    },
    {
     "name": "stderr",
     "output_type": "stream",
     "text": [
      "100%|██████████| 10/10 [00:02<00:00,  3.65it/s, Epoch=47, LR=9.87e-6, Train_Loss=0.0373]\n",
      "100%|██████████| 12/12 [00:02<00:00,  5.71it/s, Epoch=47, LR=9.87e-6, Valid_Loss=0.234]\n"
     ]
    },
    {
     "name": "stdout",
     "output_type": "stream",
     "text": [
      "Validation pAUC80 not Improved (0.12598)\n",
      "\n"
     ]
    },
    {
     "name": "stderr",
     "output_type": "stream",
     "text": [
      "100%|██████████| 10/10 [00:02<00:00,  3.59it/s, Epoch=48, LR=4.3e-6, Train_Loss=0.0313]\n",
      "100%|██████████| 12/12 [00:02<00:00,  5.75it/s, Epoch=48, LR=4.3e-6, Valid_Loss=0.231]\n"
     ]
    },
    {
     "name": "stdout",
     "output_type": "stream",
     "text": [
      "Validation pAUC80 not Improved (0.12610)\n",
      "\n"
     ]
    },
    {
     "name": "stderr",
     "output_type": "stream",
     "text": [
      "100%|██████████| 10/10 [00:02<00:00,  3.60it/s, Epoch=49, LR=1.04e-6, Train_Loss=0.0363]\n",
      "100%|██████████| 12/12 [00:02<00:00,  5.90it/s, Epoch=49, LR=1.04e-6, Valid_Loss=0.232]\n"
     ]
    },
    {
     "name": "stdout",
     "output_type": "stream",
     "text": [
      "Validation pAUC80 not Improved (0.12602)\n",
      "\n"
     ]
    },
    {
     "name": "stderr",
     "output_type": "stream",
     "text": [
      "100%|██████████| 10/10 [00:02<00:00,  3.67it/s, Epoch=50, LR=1.12e-7, Train_Loss=0.0312]\n",
      "100%|██████████| 12/12 [00:02<00:00,  5.79it/s, Epoch=50, LR=1.12e-7, Valid_Loss=0.215]\n"
     ]
    },
    {
     "name": "stdout",
     "output_type": "stream",
     "text": [
      "Validation pAUC80 not Improved (0.12541)\n",
      "\n",
      "Training complete in 0h 4m 52s\n",
      "Best AUROC: 0.1466\n"
     ]
    },
    {
     "name": "stderr",
     "output_type": "stream",
     "text": [
      "100%|██████████| 739/739 [01:45<00:00,  7.04it/s]\n"
     ]
    },
    {
     "name": "stdout",
     "output_type": "stream",
     "text": [
      "fold0_pAUC (not filtered): 0.1257\n",
      "==============================\n",
      "fold 1\n",
      "==============================\n",
      "●train\n",
      "original> (315046, 58) 297 (833,)\n",
      "filtered> (6237, 58) 297 (751,)\n",
      "●val\n",
      "original> (86013, 58) 96 (209,)\n",
      "filtered> (2016, 58) 96 (195,)\n",
      "[INFO] Using GPU: NVIDIA GeForce RTX 4090\n",
      "\n"
     ]
    },
    {
     "name": "stderr",
     "output_type": "stream",
     "text": [
      "100%|██████████| 9/9 [00:02<00:00,  3.40it/s, Epoch=1, LR=0.000216, Train_Loss=0.783]\n",
      "100%|██████████| 16/16 [00:02<00:00,  5.79it/s, Epoch=1, LR=0.000216, Valid_Loss=0.452]\n"
     ]
    },
    {
     "name": "stdout",
     "output_type": "stream",
     "text": [
      "\u001b[34mValidation AUROC Improved (-inf ---> 0.04708)\n",
      "\n"
     ]
    },
    {
     "name": "stderr",
     "output_type": "stream",
     "text": [
      "100%|██████████| 9/9 [00:02<00:00,  3.51it/s, Epoch=2, LR=0.000412, Train_Loss=0.621]\n",
      "100%|██████████| 16/16 [00:02<00:00,  5.96it/s, Epoch=2, LR=0.000412, Valid_Loss=0.59] \n"
     ]
    },
    {
     "name": "stdout",
     "output_type": "stream",
     "text": [
      "\u001b[34mValidation AUROC Improved (0.04708 ---> 0.10039)\n",
      "\n"
     ]
    },
    {
     "name": "stderr",
     "output_type": "stream",
     "text": [
      "100%|██████████| 9/9 [00:02<00:00,  3.51it/s, Epoch=3, LR=0.000608, Train_Loss=0.527]\n",
      "100%|██████████| 16/16 [00:02<00:00,  5.86it/s, Epoch=3, LR=0.000608, Valid_Loss=0.384]\n"
     ]
    },
    {
     "name": "stdout",
     "output_type": "stream",
     "text": [
      "\u001b[34mValidation AUROC Improved (0.10039 ---> 0.11927)\n",
      "\n"
     ]
    },
    {
     "name": "stderr",
     "output_type": "stream",
     "text": [
      "100%|██████████| 9/9 [00:02<00:00,  3.55it/s, Epoch=4, LR=0.000804, Train_Loss=0.441]\n",
      "100%|██████████| 16/16 [00:02<00:00,  6.20it/s, Epoch=4, LR=0.000804, Valid_Loss=0.231]\n"
     ]
    },
    {
     "name": "stdout",
     "output_type": "stream",
     "text": [
      "Validation pAUC80 not Improved (0.11825)\n",
      "\n"
     ]
    },
    {
     "name": "stderr",
     "output_type": "stream",
     "text": [
      "100%|██████████| 9/9 [00:02<00:00,  3.54it/s, Epoch=5, LR=0.000978, Train_Loss=0.556]\n",
      "100%|██████████| 16/16 [00:02<00:00,  5.95it/s, Epoch=5, LR=0.000978, Valid_Loss=0.283]\n"
     ]
    },
    {
     "name": "stdout",
     "output_type": "stream",
     "text": [
      "\u001b[34mValidation AUROC Improved (0.11927 ---> 0.12476)\n",
      "\n"
     ]
    },
    {
     "name": "stderr",
     "output_type": "stream",
     "text": [
      "100%|██████████| 9/9 [00:02<00:00,  3.45it/s, Epoch=6, LR=0.000977, Train_Loss=0.545]\n",
      "100%|██████████| 16/16 [00:02<00:00,  5.88it/s, Epoch=6, LR=0.000977, Valid_Loss=0.216]\n"
     ]
    },
    {
     "name": "stdout",
     "output_type": "stream",
     "text": [
      "\u001b[34mValidation AUROC Improved (0.12476 ---> 0.13286)\n",
      "\n"
     ]
    },
    {
     "name": "stderr",
     "output_type": "stream",
     "text": [
      "100%|██████████| 9/9 [00:02<00:00,  3.54it/s, Epoch=7, LR=0.000973, Train_Loss=0.516]\n",
      "100%|██████████| 16/16 [00:02<00:00,  5.86it/s, Epoch=7, LR=0.000973, Valid_Loss=0.727]\n"
     ]
    },
    {
     "name": "stdout",
     "output_type": "stream",
     "text": [
      "\u001b[34mValidation AUROC Improved (0.13286 ---> 0.14540)\n",
      "\n"
     ]
    },
    {
     "name": "stderr",
     "output_type": "stream",
     "text": [
      "100%|██████████| 9/9 [00:02<00:00,  3.55it/s, Epoch=8, LR=0.000967, Train_Loss=0.488]\n",
      "100%|██████████| 16/16 [00:02<00:00,  6.05it/s, Epoch=8, LR=0.000967, Valid_Loss=0.285]\n"
     ]
    },
    {
     "name": "stdout",
     "output_type": "stream",
     "text": [
      "\u001b[34mValidation AUROC Improved (0.14540 ---> 0.15980)\n",
      "\n"
     ]
    },
    {
     "name": "stderr",
     "output_type": "stream",
     "text": [
      "100%|██████████| 9/9 [00:02<00:00,  3.59it/s, Epoch=9, LR=0.000958, Train_Loss=0.501]\n",
      "100%|██████████| 16/16 [00:02<00:00,  5.76it/s, Epoch=9, LR=0.000958, Valid_Loss=0.276]\n"
     ]
    },
    {
     "name": "stdout",
     "output_type": "stream",
     "text": [
      "Validation pAUC80 not Improved (0.15416)\n",
      "\n"
     ]
    },
    {
     "name": "stderr",
     "output_type": "stream",
     "text": [
      "100%|██████████| 9/9 [00:02<00:00,  3.48it/s, Epoch=10, LR=0.000947, Train_Loss=0.381]\n",
      "100%|██████████| 16/16 [00:02<00:00,  5.89it/s, Epoch=10, LR=0.000947, Valid_Loss=0.19] \n"
     ]
    },
    {
     "name": "stdout",
     "output_type": "stream",
     "text": [
      "Validation pAUC80 not Improved (0.14713)\n",
      "\n"
     ]
    },
    {
     "name": "stderr",
     "output_type": "stream",
     "text": [
      "100%|██████████| 9/9 [00:02<00:00,  3.58it/s, Epoch=11, LR=0.000934, Train_Loss=0.419]\n",
      "100%|██████████| 16/16 [00:02<00:00,  5.94it/s, Epoch=11, LR=0.000934, Valid_Loss=0.365]\n"
     ]
    },
    {
     "name": "stdout",
     "output_type": "stream",
     "text": [
      "Validation pAUC80 not Improved (0.15406)\n",
      "\n"
     ]
    },
    {
     "name": "stderr",
     "output_type": "stream",
     "text": [
      "100%|██████████| 9/9 [00:02<00:00,  3.56it/s, Epoch=12, LR=0.000919, Train_Loss=0.442]\n",
      "100%|██████████| 16/16 [00:02<00:00,  5.81it/s, Epoch=12, LR=0.000919, Valid_Loss=0.275]\n"
     ]
    },
    {
     "name": "stdout",
     "output_type": "stream",
     "text": [
      "Validation pAUC80 not Improved (0.15305)\n",
      "\n"
     ]
    },
    {
     "name": "stderr",
     "output_type": "stream",
     "text": [
      "100%|██████████| 9/9 [00:02<00:00,  3.57it/s, Epoch=13, LR=0.000902, Train_Loss=0.355]\n",
      "100%|██████████| 16/16 [00:02<00:00,  5.90it/s, Epoch=13, LR=0.000902, Valid_Loss=0.222]\n"
     ]
    },
    {
     "name": "stdout",
     "output_type": "stream",
     "text": [
      "Validation pAUC80 not Improved (0.15330)\n",
      "\n"
     ]
    },
    {
     "name": "stderr",
     "output_type": "stream",
     "text": [
      "100%|██████████| 9/9 [00:02<00:00,  3.51it/s, Epoch=14, LR=0.000883, Train_Loss=0.443]\n",
      "100%|██████████| 16/16 [00:02<00:00,  5.78it/s, Epoch=14, LR=0.000883, Valid_Loss=0.24] \n"
     ]
    },
    {
     "name": "stdout",
     "output_type": "stream",
     "text": [
      "Validation pAUC80 not Improved (0.15032)\n",
      "\n"
     ]
    },
    {
     "name": "stderr",
     "output_type": "stream",
     "text": [
      "100%|██████████| 9/9 [00:02<00:00,  3.50it/s, Epoch=15, LR=0.000861, Train_Loss=0.379]\n",
      "100%|██████████| 16/16 [00:02<00:00,  5.93it/s, Epoch=15, LR=0.000861, Valid_Loss=0.379]\n"
     ]
    },
    {
     "name": "stdout",
     "output_type": "stream",
     "text": [
      "Validation pAUC80 not Improved (0.15197)\n",
      "\n"
     ]
    },
    {
     "name": "stderr",
     "output_type": "stream",
     "text": [
      "100%|██████████| 9/9 [00:02<00:00,  3.46it/s, Epoch=16, LR=0.000838, Train_Loss=0.373]\n",
      "100%|██████████| 16/16 [00:02<00:00,  5.87it/s, Epoch=16, LR=0.000838, Valid_Loss=0.314]\n"
     ]
    },
    {
     "name": "stdout",
     "output_type": "stream",
     "text": [
      "Validation pAUC80 not Improved (0.14582)\n",
      "\n"
     ]
    },
    {
     "name": "stderr",
     "output_type": "stream",
     "text": [
      "100%|██████████| 9/9 [00:02<00:00,  3.63it/s, Epoch=17, LR=0.000814, Train_Loss=0.408]\n",
      "100%|██████████| 16/16 [00:02<00:00,  5.81it/s, Epoch=17, LR=0.000814, Valid_Loss=0.213]\n"
     ]
    },
    {
     "name": "stdout",
     "output_type": "stream",
     "text": [
      "Validation pAUC80 not Improved (0.14883)\n",
      "\n"
     ]
    },
    {
     "name": "stderr",
     "output_type": "stream",
     "text": [
      "100%|██████████| 9/9 [00:02<00:00,  3.63it/s, Epoch=18, LR=0.000787, Train_Loss=0.402]\n",
      "100%|██████████| 16/16 [00:02<00:00,  6.01it/s, Epoch=18, LR=0.000787, Valid_Loss=0.283]\n"
     ]
    },
    {
     "name": "stdout",
     "output_type": "stream",
     "text": [
      "Validation pAUC80 not Improved (0.15752)\n",
      "\n"
     ]
    },
    {
     "name": "stderr",
     "output_type": "stream",
     "text": [
      "100%|██████████| 9/9 [00:02<00:00,  3.57it/s, Epoch=19, LR=0.000759, Train_Loss=0.384]\n",
      "100%|██████████| 16/16 [00:02<00:00,  6.12it/s, Epoch=19, LR=0.000759, Valid_Loss=0.222]\n"
     ]
    },
    {
     "name": "stdout",
     "output_type": "stream",
     "text": [
      "\u001b[34mValidation AUROC Improved (0.15980 ---> 0.16154)\n",
      "\n"
     ]
    },
    {
     "name": "stderr",
     "output_type": "stream",
     "text": [
      "100%|██████████| 9/9 [00:02<00:00,  3.60it/s, Epoch=20, LR=0.00073, Train_Loss=0.367] \n",
      "100%|██████████| 16/16 [00:02<00:00,  6.05it/s, Epoch=20, LR=0.00073, Valid_Loss=0.249]\n"
     ]
    },
    {
     "name": "stdout",
     "output_type": "stream",
     "text": [
      "\u001b[34mValidation AUROC Improved (0.16154 ---> 0.16660)\n",
      "\n"
     ]
    },
    {
     "name": "stderr",
     "output_type": "stream",
     "text": [
      "100%|██████████| 9/9 [00:02<00:00,  3.59it/s, Epoch=21, LR=0.0007, Train_Loss=0.363]  \n",
      "100%|██████████| 16/16 [00:02<00:00,  6.18it/s, Epoch=21, LR=0.0007, Valid_Loss=0.205]\n"
     ]
    },
    {
     "name": "stdout",
     "output_type": "stream",
     "text": [
      "Validation pAUC80 not Improved (0.16340)\n",
      "\n"
     ]
    },
    {
     "name": "stderr",
     "output_type": "stream",
     "text": [
      "100%|██████████| 9/9 [00:02<00:00,  3.59it/s, Epoch=22, LR=0.000669, Train_Loss=0.364]\n",
      "100%|██████████| 16/16 [00:02<00:00,  6.16it/s, Epoch=22, LR=0.000669, Valid_Loss=0.221]\n"
     ]
    },
    {
     "name": "stdout",
     "output_type": "stream",
     "text": [
      "Validation pAUC80 not Improved (0.15777)\n",
      "\n"
     ]
    },
    {
     "name": "stderr",
     "output_type": "stream",
     "text": [
      "100%|██████████| 9/9 [00:02<00:00,  3.60it/s, Epoch=23, LR=0.000637, Train_Loss=0.329]\n",
      "100%|██████████| 16/16 [00:02<00:00,  6.29it/s, Epoch=23, LR=0.000637, Valid_Loss=0.174]\n"
     ]
    },
    {
     "name": "stdout",
     "output_type": "stream",
     "text": [
      "Validation pAUC80 not Improved (0.15978)\n",
      "\n"
     ]
    },
    {
     "name": "stderr",
     "output_type": "stream",
     "text": [
      "100%|██████████| 9/9 [00:02<00:00,  3.64it/s, Epoch=24, LR=0.000604, Train_Loss=0.393]\n",
      "100%|██████████| 16/16 [00:02<00:00,  6.38it/s, Epoch=24, LR=0.000604, Valid_Loss=0.348]\n"
     ]
    },
    {
     "name": "stdout",
     "output_type": "stream",
     "text": [
      "Validation pAUC80 not Improved (0.16435)\n",
      "\n"
     ]
    },
    {
     "name": "stderr",
     "output_type": "stream",
     "text": [
      "100%|██████████| 9/9 [00:02<00:00,  3.61it/s, Epoch=25, LR=0.00057, Train_Loss=0.359] \n",
      "100%|██████████| 16/16 [00:02<00:00,  6.20it/s, Epoch=25, LR=0.00057, Valid_Loss=0.333]\n"
     ]
    },
    {
     "name": "stdout",
     "output_type": "stream",
     "text": [
      "Validation pAUC80 not Improved (0.16389)\n",
      "\n"
     ]
    },
    {
     "name": "stderr",
     "output_type": "stream",
     "text": [
      "100%|██████████| 9/9 [00:02<00:00,  3.52it/s, Epoch=26, LR=0.000537, Train_Loss=0.46] \n",
      "100%|██████████| 16/16 [00:02<00:00,  6.16it/s, Epoch=26, LR=0.000537, Valid_Loss=0.244]\n"
     ]
    },
    {
     "name": "stdout",
     "output_type": "stream",
     "text": [
      "Validation pAUC80 not Improved (0.15688)\n",
      "\n"
     ]
    },
    {
     "name": "stderr",
     "output_type": "stream",
     "text": [
      "100%|██████████| 9/9 [00:02<00:00,  3.63it/s, Epoch=27, LR=0.000502, Train_Loss=0.32] \n",
      "100%|██████████| 16/16 [00:02<00:00,  6.12it/s, Epoch=27, LR=0.000502, Valid_Loss=0.358]\n"
     ]
    },
    {
     "name": "stdout",
     "output_type": "stream",
     "text": [
      "Validation pAUC80 not Improved (0.15768)\n",
      "\n"
     ]
    },
    {
     "name": "stderr",
     "output_type": "stream",
     "text": [
      "100%|██████████| 9/9 [00:02<00:00,  3.59it/s, Epoch=28, LR=0.000468, Train_Loss=0.323]\n",
      "100%|██████████| 16/16 [00:02<00:00,  6.33it/s, Epoch=28, LR=0.000468, Valid_Loss=0.197]\n"
     ]
    },
    {
     "name": "stdout",
     "output_type": "stream",
     "text": [
      "Validation pAUC80 not Improved (0.15728)\n",
      "\n"
     ]
    },
    {
     "name": "stderr",
     "output_type": "stream",
     "text": [
      "100%|██████████| 9/9 [00:02<00:00,  3.62it/s, Epoch=29, LR=0.000434, Train_Loss=0.316]\n",
      "100%|██████████| 16/16 [00:02<00:00,  5.96it/s, Epoch=29, LR=0.000434, Valid_Loss=0.271]\n"
     ]
    },
    {
     "name": "stdout",
     "output_type": "stream",
     "text": [
      "Validation pAUC80 not Improved (0.16234)\n",
      "\n"
     ]
    },
    {
     "name": "stderr",
     "output_type": "stream",
     "text": [
      "100%|██████████| 9/9 [00:02<00:00,  3.57it/s, Epoch=30, LR=0.000401, Train_Loss=0.42] \n",
      "100%|██████████| 16/16 [00:02<00:00,  6.09it/s, Epoch=30, LR=0.000401, Valid_Loss=0.257]\n"
     ]
    },
    {
     "name": "stdout",
     "output_type": "stream",
     "text": [
      "Validation pAUC80 not Improved (0.16578)\n",
      "\n"
     ]
    },
    {
     "name": "stderr",
     "output_type": "stream",
     "text": [
      "100%|██████████| 9/9 [00:02<00:00,  3.54it/s, Epoch=31, LR=0.000367, Train_Loss=0.33] \n",
      "100%|██████████| 16/16 [00:02<00:00,  5.75it/s, Epoch=31, LR=0.000367, Valid_Loss=0.201]\n"
     ]
    },
    {
     "name": "stdout",
     "output_type": "stream",
     "text": [
      "\u001b[34mValidation AUROC Improved (0.16660 ---> 0.16729)\n",
      "\n"
     ]
    },
    {
     "name": "stderr",
     "output_type": "stream",
     "text": [
      "100%|██████████| 9/9 [00:02<00:00,  3.57it/s, Epoch=32, LR=0.000334, Train_Loss=0.26] \n",
      "100%|██████████| 16/16 [00:02<00:00,  5.85it/s, Epoch=32, LR=0.000334, Valid_Loss=0.29] \n"
     ]
    },
    {
     "name": "stdout",
     "output_type": "stream",
     "text": [
      "Validation pAUC80 not Improved (0.16453)\n",
      "\n"
     ]
    },
    {
     "name": "stderr",
     "output_type": "stream",
     "text": [
      "100%|██████████| 9/9 [00:02<00:00,  3.57it/s, Epoch=33, LR=0.000302, Train_Loss=0.356]\n",
      "100%|██████████| 16/16 [00:02<00:00,  5.81it/s, Epoch=33, LR=0.000302, Valid_Loss=0.194]\n"
     ]
    },
    {
     "name": "stdout",
     "output_type": "stream",
     "text": [
      "Validation pAUC80 not Improved (0.16193)\n",
      "\n"
     ]
    },
    {
     "name": "stderr",
     "output_type": "stream",
     "text": [
      "100%|██████████| 9/9 [00:02<00:00,  3.62it/s, Epoch=34, LR=0.000271, Train_Loss=0.31] \n",
      "100%|██████████| 16/16 [00:02<00:00,  6.02it/s, Epoch=34, LR=0.000271, Valid_Loss=0.204]\n"
     ]
    },
    {
     "name": "stdout",
     "output_type": "stream",
     "text": [
      "Validation pAUC80 not Improved (0.16056)\n",
      "\n"
     ]
    },
    {
     "name": "stderr",
     "output_type": "stream",
     "text": [
      "100%|██████████| 9/9 [00:02<00:00,  3.63it/s, Epoch=35, LR=0.000241, Train_Loss=0.259]\n",
      "100%|██████████| 16/16 [00:02<00:00,  5.80it/s, Epoch=35, LR=0.000241, Valid_Loss=0.312]\n"
     ]
    },
    {
     "name": "stdout",
     "output_type": "stream",
     "text": [
      "Validation pAUC80 not Improved (0.16704)\n",
      "\n"
     ]
    },
    {
     "name": "stderr",
     "output_type": "stream",
     "text": [
      "100%|██████████| 9/9 [00:02<00:00,  3.56it/s, Epoch=36, LR=0.000213, Train_Loss=0.296]\n",
      "100%|██████████| 16/16 [00:02<00:00,  6.11it/s, Epoch=36, LR=0.000213, Valid_Loss=0.214]\n"
     ]
    },
    {
     "name": "stdout",
     "output_type": "stream",
     "text": [
      "\u001b[34mValidation AUROC Improved (0.16729 ---> 0.16829)\n",
      "\n"
     ]
    },
    {
     "name": "stderr",
     "output_type": "stream",
     "text": [
      "100%|██████████| 9/9 [00:02<00:00,  3.58it/s, Epoch=37, LR=0.000185, Train_Loss=0.375]\n",
      "100%|██████████| 16/16 [00:02<00:00,  5.94it/s, Epoch=37, LR=0.000185, Valid_Loss=0.252]\n"
     ]
    },
    {
     "name": "stdout",
     "output_type": "stream",
     "text": [
      "\u001b[34mValidation AUROC Improved (0.16829 ---> 0.17010)\n",
      "\n"
     ]
    },
    {
     "name": "stderr",
     "output_type": "stream",
     "text": [
      "100%|██████████| 9/9 [00:02<00:00,  3.51it/s, Epoch=38, LR=0.000159, Train_Loss=0.216] \n",
      "100%|██████████| 16/16 [00:02<00:00,  6.11it/s, Epoch=38, LR=0.000159, Valid_Loss=0.253]\n"
     ]
    },
    {
     "name": "stdout",
     "output_type": "stream",
     "text": [
      "\u001b[34mValidation AUROC Improved (0.17010 ---> 0.17111)\n",
      "\n"
     ]
    },
    {
     "name": "stderr",
     "output_type": "stream",
     "text": [
      "100%|██████████| 9/9 [00:02<00:00,  3.51it/s, Epoch=39, LR=0.000135, Train_Loss=0.353]\n",
      "100%|██████████| 16/16 [00:02<00:00,  5.86it/s, Epoch=39, LR=0.000135, Valid_Loss=0.255]\n"
     ]
    },
    {
     "name": "stdout",
     "output_type": "stream",
     "text": [
      "Validation pAUC80 not Improved (0.17068)\n",
      "\n"
     ]
    },
    {
     "name": "stderr",
     "output_type": "stream",
     "text": [
      "100%|██████████| 9/9 [00:02<00:00,  3.53it/s, Epoch=40, LR=0.000112, Train_Loss=0.281]\n",
      "100%|██████████| 16/16 [00:02<00:00,  5.70it/s, Epoch=40, LR=0.000112, Valid_Loss=0.192]\n"
     ]
    },
    {
     "name": "stdout",
     "output_type": "stream",
     "text": [
      "Validation pAUC80 not Improved (0.16865)\n",
      "\n"
     ]
    },
    {
     "name": "stderr",
     "output_type": "stream",
     "text": [
      "100%|██████████| 9/9 [00:02<00:00,  3.55it/s, Epoch=41, LR=9.13e-5, Train_Loss=0.103] \n",
      "100%|██████████| 16/16 [00:02<00:00,  6.06it/s, Epoch=41, LR=9.13e-5, Valid_Loss=0.181]\n"
     ]
    },
    {
     "name": "stdout",
     "output_type": "stream",
     "text": [
      "Validation pAUC80 not Improved (0.16697)\n",
      "\n"
     ]
    },
    {
     "name": "stderr",
     "output_type": "stream",
     "text": [
      "100%|██████████| 9/9 [00:02<00:00,  3.63it/s, Epoch=42, LR=7.24e-5, Train_Loss=0.0948]\n",
      "100%|██████████| 16/16 [00:02<00:00,  5.96it/s, Epoch=42, LR=7.24e-5, Valid_Loss=0.202]\n"
     ]
    },
    {
     "name": "stdout",
     "output_type": "stream",
     "text": [
      "Validation pAUC80 not Improved (0.16762)\n",
      "\n"
     ]
    },
    {
     "name": "stderr",
     "output_type": "stream",
     "text": [
      "100%|██████████| 9/9 [00:02<00:00,  3.70it/s, Epoch=43, LR=5.56e-5, Train_Loss=0.0887]\n",
      "100%|██████████| 16/16 [00:02<00:00,  5.92it/s, Epoch=43, LR=5.56e-5, Valid_Loss=0.22] \n"
     ]
    },
    {
     "name": "stdout",
     "output_type": "stream",
     "text": [
      "Validation pAUC80 not Improved (0.16750)\n",
      "\n"
     ]
    },
    {
     "name": "stderr",
     "output_type": "stream",
     "text": [
      "100%|██████████| 9/9 [00:02<00:00,  3.59it/s, Epoch=44, LR=4.09e-5, Train_Loss=0.0563]\n",
      "100%|██████████| 16/16 [00:02<00:00,  5.95it/s, Epoch=44, LR=4.09e-5, Valid_Loss=0.192]\n"
     ]
    },
    {
     "name": "stdout",
     "output_type": "stream",
     "text": [
      "Validation pAUC80 not Improved (0.16670)\n",
      "\n"
     ]
    },
    {
     "name": "stderr",
     "output_type": "stream",
     "text": [
      "100%|██████████| 9/9 [00:02<00:00,  3.53it/s, Epoch=45, LR=2.83e-5, Train_Loss=0.057] \n",
      "100%|██████████| 16/16 [00:02<00:00,  6.00it/s, Epoch=45, LR=2.83e-5, Valid_Loss=0.219]\n"
     ]
    },
    {
     "name": "stdout",
     "output_type": "stream",
     "text": [
      "Validation pAUC80 not Improved (0.16775)\n",
      "\n"
     ]
    },
    {
     "name": "stderr",
     "output_type": "stream",
     "text": [
      "100%|██████████| 9/9 [00:02<00:00,  3.58it/s, Epoch=46, LR=1.8e-5, Train_Loss=0.0608] \n",
      "100%|██████████| 16/16 [00:02<00:00,  5.99it/s, Epoch=46, LR=1.8e-5, Valid_Loss=0.215]\n"
     ]
    },
    {
     "name": "stdout",
     "output_type": "stream",
     "text": [
      "Validation pAUC80 not Improved (0.16769)\n",
      "\n"
     ]
    },
    {
     "name": "stderr",
     "output_type": "stream",
     "text": [
      "100%|██████████| 9/9 [00:02<00:00,  3.61it/s, Epoch=47, LR=1e-5, Train_Loss=0.0477]   \n",
      "100%|██████████| 16/16 [00:02<00:00,  5.80it/s, Epoch=47, LR=1e-5, Valid_Loss=0.209]\n"
     ]
    },
    {
     "name": "stdout",
     "output_type": "stream",
     "text": [
      "Validation pAUC80 not Improved (0.16763)\n",
      "\n"
     ]
    },
    {
     "name": "stderr",
     "output_type": "stream",
     "text": [
      "100%|██████████| 9/9 [00:02<00:00,  3.61it/s, Epoch=48, LR=4.35e-6, Train_Loss=0.0551]\n",
      "100%|██████████| 16/16 [00:02<00:00,  5.92it/s, Epoch=48, LR=4.35e-6, Valid_Loss=0.205]\n"
     ]
    },
    {
     "name": "stdout",
     "output_type": "stream",
     "text": [
      "Validation pAUC80 not Improved (0.16764)\n",
      "\n"
     ]
    },
    {
     "name": "stderr",
     "output_type": "stream",
     "text": [
      "100%|██████████| 9/9 [00:02<00:00,  3.58it/s, Epoch=49, LR=1.04e-6, Train_Loss=0.0599]\n",
      "100%|██████████| 16/16 [00:02<00:00,  5.90it/s, Epoch=49, LR=1.04e-6, Valid_Loss=0.188]\n"
     ]
    },
    {
     "name": "stdout",
     "output_type": "stream",
     "text": [
      "Validation pAUC80 not Improved (0.16795)\n",
      "\n"
     ]
    },
    {
     "name": "stderr",
     "output_type": "stream",
     "text": [
      "100%|██████████| 9/9 [00:02<00:00,  3.52it/s, Epoch=50, LR=1.15e-7, Train_Loss=0.0502]\n",
      "100%|██████████| 16/16 [00:02<00:00,  5.81it/s, Epoch=50, LR=1.15e-7, Valid_Loss=0.227]\n"
     ]
    },
    {
     "name": "stdout",
     "output_type": "stream",
     "text": [
      "Validation pAUC80 not Improved (0.16836)\n",
      "\n",
      "Training complete in 0h 5m 8s\n",
      "Best AUROC: 0.1711\n"
     ]
    },
    {
     "name": "stderr",
     "output_type": "stream",
     "text": [
      "100%|██████████| 672/672 [01:35<00:00,  7.03it/s]\n"
     ]
    },
    {
     "name": "stdout",
     "output_type": "stream",
     "text": [
      "fold1_pAUC (not filtered): 0.1662\n",
      "==============================\n",
      "fold 2\n",
      "==============================\n",
      "●train\n",
      "original> (326063, 58) 335 (833,)\n",
      "filtered> (7035, 58) 335 (762,)\n",
      "●val\n",
      "original> (74996, 58) 58 (209,)\n",
      "filtered> (1218, 58) 58 (186,)\n",
      "[INFO] Using GPU: NVIDIA GeForce RTX 4090\n",
      "\n"
     ]
    },
    {
     "name": "stderr",
     "output_type": "stream",
     "text": [
      "100%|██████████| 10/10 [00:02<00:00,  3.54it/s, Epoch=1, LR=0.000238, Train_Loss=0.801]\n",
      "100%|██████████| 10/10 [00:01<00:00,  5.24it/s, Epoch=1, LR=0.000238, Valid_Loss=0.396]\n"
     ]
    },
    {
     "name": "stdout",
     "output_type": "stream",
     "text": [
      "\u001b[34mValidation AUROC Improved (-inf ---> 0.04081)\n",
      "\n"
     ]
    },
    {
     "name": "stderr",
     "output_type": "stream",
     "text": [
      "100%|██████████| 10/10 [00:02<00:00,  3.52it/s, Epoch=2, LR=0.000456, Train_Loss=0.66]\n",
      "100%|██████████| 10/10 [00:01<00:00,  6.02it/s, Epoch=2, LR=0.000456, Valid_Loss=0.5] \n"
     ]
    },
    {
     "name": "stdout",
     "output_type": "stream",
     "text": [
      "\u001b[34mValidation AUROC Improved (0.04081 ---> 0.10419)\n",
      "\n"
     ]
    },
    {
     "name": "stderr",
     "output_type": "stream",
     "text": [
      "100%|██████████| 10/10 [00:02<00:00,  3.57it/s, Epoch=3, LR=0.000673, Train_Loss=0.547]\n",
      "100%|██████████| 10/10 [00:01<00:00,  5.87it/s, Epoch=3, LR=0.000673, Valid_Loss=0.28]\n"
     ]
    },
    {
     "name": "stdout",
     "output_type": "stream",
     "text": [
      "Validation pAUC80 not Improved (0.08621)\n",
      "\n"
     ]
    },
    {
     "name": "stderr",
     "output_type": "stream",
     "text": [
      "100%|██████████| 10/10 [00:02<00:00,  3.64it/s, Epoch=4, LR=0.000891, Train_Loss=0.474]\n",
      "100%|██████████| 10/10 [00:01<00:00,  5.91it/s, Epoch=4, LR=0.000891, Valid_Loss=0.782]\n"
     ]
    },
    {
     "name": "stdout",
     "output_type": "stream",
     "text": [
      "\u001b[34mValidation AUROC Improved (0.10419 ---> 0.13072)\n",
      "\n"
     ]
    },
    {
     "name": "stderr",
     "output_type": "stream",
     "text": [
      "100%|██████████| 10/10 [00:02<00:00,  3.67it/s, Epoch=5, LR=0.000978, Train_Loss=0.489]\n",
      "100%|██████████| 10/10 [00:01<00:00,  5.92it/s, Epoch=5, LR=0.000978, Valid_Loss=0.554]\n"
     ]
    },
    {
     "name": "stdout",
     "output_type": "stream",
     "text": [
      "Validation pAUC80 not Improved (0.12138)\n",
      "\n"
     ]
    },
    {
     "name": "stderr",
     "output_type": "stream",
     "text": [
      "100%|██████████| 10/10 [00:02<00:00,  3.69it/s, Epoch=6, LR=0.000975, Train_Loss=0.506]\n",
      "100%|██████████| 10/10 [00:01<00:00,  5.80it/s, Epoch=6, LR=0.000975, Valid_Loss=0.317]\n"
     ]
    },
    {
     "name": "stdout",
     "output_type": "stream",
     "text": [
      "\u001b[34mValidation AUROC Improved (0.13072 ---> 0.13119)\n",
      "\n"
     ]
    },
    {
     "name": "stderr",
     "output_type": "stream",
     "text": [
      "100%|██████████| 10/10 [00:02<00:00,  3.69it/s, Epoch=7, LR=0.00097, Train_Loss=0.527]\n",
      "100%|██████████| 10/10 [00:01<00:00,  5.76it/s, Epoch=7, LR=0.00097, Valid_Loss=0.444]\n"
     ]
    },
    {
     "name": "stdout",
     "output_type": "stream",
     "text": [
      "Validation pAUC80 not Improved (0.12297)\n",
      "\n"
     ]
    },
    {
     "name": "stderr",
     "output_type": "stream",
     "text": [
      "100%|██████████| 10/10 [00:02<00:00,  3.68it/s, Epoch=8, LR=0.000963, Train_Loss=0.461]\n",
      "100%|██████████| 10/10 [00:01<00:00,  6.12it/s, Epoch=8, LR=0.000963, Valid_Loss=0.216]\n"
     ]
    },
    {
     "name": "stdout",
     "output_type": "stream",
     "text": [
      "\u001b[34mValidation AUROC Improved (0.13119 ---> 0.14913)\n",
      "\n"
     ]
    },
    {
     "name": "stderr",
     "output_type": "stream",
     "text": [
      "100%|██████████| 10/10 [00:02<00:00,  3.60it/s, Epoch=9, LR=0.000954, Train_Loss=0.432]\n",
      "100%|██████████| 10/10 [00:01<00:00,  5.61it/s, Epoch=9, LR=0.000954, Valid_Loss=0.556]\n"
     ]
    },
    {
     "name": "stdout",
     "output_type": "stream",
     "text": [
      "Validation pAUC80 not Improved (0.12499)\n",
      "\n"
     ]
    },
    {
     "name": "stderr",
     "output_type": "stream",
     "text": [
      "100%|██████████| 10/10 [00:03<00:00,  3.24it/s, Epoch=10, LR=0.000942, Train_Loss=0.439]\n",
      "100%|██████████| 10/10 [00:01<00:00,  5.25it/s, Epoch=10, LR=0.000942, Valid_Loss=0.405]\n"
     ]
    },
    {
     "name": "stdout",
     "output_type": "stream",
     "text": [
      "Validation pAUC80 not Improved (0.14005)\n",
      "\n"
     ]
    },
    {
     "name": "stderr",
     "output_type": "stream",
     "text": [
      "100%|██████████| 10/10 [00:03<00:00,  3.09it/s, Epoch=11, LR=0.000928, Train_Loss=0.441]\n",
      "100%|██████████| 10/10 [00:01<00:00,  5.20it/s, Epoch=11, LR=0.000928, Valid_Loss=0.435]\n"
     ]
    },
    {
     "name": "stdout",
     "output_type": "stream",
     "text": [
      "Validation pAUC80 not Improved (0.14516)\n",
      "\n"
     ]
    },
    {
     "name": "stderr",
     "output_type": "stream",
     "text": [
      "100%|██████████| 10/10 [00:02<00:00,  3.54it/s, Epoch=12, LR=0.000912, Train_Loss=0.418]\n",
      "100%|██████████| 10/10 [00:01<00:00,  6.06it/s, Epoch=12, LR=0.000912, Valid_Loss=0.369]\n"
     ]
    },
    {
     "name": "stdout",
     "output_type": "stream",
     "text": [
      "Validation pAUC80 not Improved (0.14525)\n",
      "\n"
     ]
    },
    {
     "name": "stderr",
     "output_type": "stream",
     "text": [
      "100%|██████████| 10/10 [00:02<00:00,  3.65it/s, Epoch=13, LR=0.000895, Train_Loss=0.415]\n",
      "100%|██████████| 10/10 [00:01<00:00,  5.43it/s, Epoch=13, LR=0.000895, Valid_Loss=0.309]\n"
     ]
    },
    {
     "name": "stdout",
     "output_type": "stream",
     "text": [
      "Validation pAUC80 not Improved (0.13719)\n",
      "\n"
     ]
    },
    {
     "name": "stderr",
     "output_type": "stream",
     "text": [
      "100%|██████████| 10/10 [00:03<00:00,  3.13it/s, Epoch=14, LR=0.000875, Train_Loss=0.36]\n",
      "100%|██████████| 10/10 [00:01<00:00,  5.40it/s, Epoch=14, LR=0.000875, Valid_Loss=0.441]\n"
     ]
    },
    {
     "name": "stdout",
     "output_type": "stream",
     "text": [
      "Validation pAUC80 not Improved (0.13547)\n",
      "\n"
     ]
    },
    {
     "name": "stderr",
     "output_type": "stream",
     "text": [
      "100%|██████████| 10/10 [00:03<00:00,  3.16it/s, Epoch=15, LR=0.000853, Train_Loss=0.415]\n",
      "100%|██████████| 10/10 [00:01<00:00,  5.17it/s, Epoch=15, LR=0.000853, Valid_Loss=0.322]\n"
     ]
    },
    {
     "name": "stdout",
     "output_type": "stream",
     "text": [
      "Validation pAUC80 not Improved (0.13570)\n",
      "\n"
     ]
    },
    {
     "name": "stderr",
     "output_type": "stream",
     "text": [
      "100%|██████████| 10/10 [00:03<00:00,  3.10it/s, Epoch=16, LR=0.00083, Train_Loss=0.39] \n",
      "100%|██████████| 10/10 [00:01<00:00,  5.29it/s, Epoch=16, LR=0.00083, Valid_Loss=0.398]\n"
     ]
    },
    {
     "name": "stdout",
     "output_type": "stream",
     "text": [
      "Validation pAUC80 not Improved (0.13642)\n",
      "\n"
     ]
    },
    {
     "name": "stderr",
     "output_type": "stream",
     "text": [
      "100%|██████████| 10/10 [00:02<00:00,  3.47it/s, Epoch=17, LR=0.000805, Train_Loss=0.371]\n",
      "100%|██████████| 10/10 [00:01<00:00,  5.65it/s, Epoch=17, LR=0.000805, Valid_Loss=0.444]\n"
     ]
    },
    {
     "name": "stdout",
     "output_type": "stream",
     "text": [
      "Validation pAUC80 not Improved (0.14830)\n",
      "\n"
     ]
    },
    {
     "name": "stderr",
     "output_type": "stream",
     "text": [
      "100%|██████████| 10/10 [00:02<00:00,  3.68it/s, Epoch=18, LR=0.000778, Train_Loss=0.364]\n",
      "100%|██████████| 10/10 [00:01<00:00,  5.79it/s, Epoch=18, LR=0.000778, Valid_Loss=0.254]\n"
     ]
    },
    {
     "name": "stdout",
     "output_type": "stream",
     "text": [
      "Validation pAUC80 not Improved (0.12295)\n",
      "\n"
     ]
    },
    {
     "name": "stderr",
     "output_type": "stream",
     "text": [
      "100%|██████████| 10/10 [00:02<00:00,  3.57it/s, Epoch=19, LR=0.00075, Train_Loss=0.325]\n",
      "100%|██████████| 10/10 [00:01<00:00,  5.83it/s, Epoch=19, LR=0.00075, Valid_Loss=0.244]\n"
     ]
    },
    {
     "name": "stdout",
     "output_type": "stream",
     "text": [
      "\u001b[34mValidation AUROC Improved (0.14913 ---> 0.15166)\n",
      "\n"
     ]
    },
    {
     "name": "stderr",
     "output_type": "stream",
     "text": [
      "100%|██████████| 10/10 [00:02<00:00,  3.67it/s, Epoch=20, LR=0.000721, Train_Loss=0.499]\n",
      "100%|██████████| 10/10 [00:01<00:00,  6.08it/s, Epoch=20, LR=0.000721, Valid_Loss=0.359]\n"
     ]
    },
    {
     "name": "stdout",
     "output_type": "stream",
     "text": [
      "Validation pAUC80 not Improved (0.14199)\n",
      "\n"
     ]
    },
    {
     "name": "stderr",
     "output_type": "stream",
     "text": [
      "100%|██████████| 10/10 [00:02<00:00,  3.59it/s, Epoch=21, LR=0.000691, Train_Loss=0.378]\n",
      "100%|██████████| 10/10 [00:01<00:00,  5.89it/s, Epoch=21, LR=0.000691, Valid_Loss=0.345]\n"
     ]
    },
    {
     "name": "stdout",
     "output_type": "stream",
     "text": [
      "Validation pAUC80 not Improved (0.14617)\n",
      "\n"
     ]
    },
    {
     "name": "stderr",
     "output_type": "stream",
     "text": [
      "100%|██████████| 10/10 [00:02<00:00,  3.69it/s, Epoch=22, LR=0.000659, Train_Loss=0.331]\n",
      "100%|██████████| 10/10 [00:01<00:00,  5.66it/s, Epoch=22, LR=0.000659, Valid_Loss=0.325]\n"
     ]
    },
    {
     "name": "stdout",
     "output_type": "stream",
     "text": [
      "Validation pAUC80 not Improved (0.13942)\n",
      "\n"
     ]
    },
    {
     "name": "stderr",
     "output_type": "stream",
     "text": [
      "100%|██████████| 10/10 [00:02<00:00,  3.65it/s, Epoch=23, LR=0.000627, Train_Loss=0.372]\n",
      "100%|██████████| 10/10 [00:01<00:00,  5.93it/s, Epoch=23, LR=0.000627, Valid_Loss=0.232]\n"
     ]
    },
    {
     "name": "stdout",
     "output_type": "stream",
     "text": [
      "Validation pAUC80 not Improved (0.14120)\n",
      "\n"
     ]
    },
    {
     "name": "stderr",
     "output_type": "stream",
     "text": [
      "100%|██████████| 10/10 [00:02<00:00,  3.65it/s, Epoch=24, LR=0.000595, Train_Loss=0.212]\n",
      "100%|██████████| 10/10 [00:01<00:00,  5.88it/s, Epoch=24, LR=0.000595, Valid_Loss=0.365]\n"
     ]
    },
    {
     "name": "stdout",
     "output_type": "stream",
     "text": [
      "Validation pAUC80 not Improved (0.14934)\n",
      "\n"
     ]
    },
    {
     "name": "stderr",
     "output_type": "stream",
     "text": [
      "100%|██████████| 10/10 [00:02<00:00,  3.65it/s, Epoch=25, LR=0.000561, Train_Loss=0.39]\n",
      "100%|██████████| 10/10 [00:01<00:00,  5.89it/s, Epoch=25, LR=0.000561, Valid_Loss=0.315]\n"
     ]
    },
    {
     "name": "stdout",
     "output_type": "stream",
     "text": [
      "Validation pAUC80 not Improved (0.14232)\n",
      "\n"
     ]
    },
    {
     "name": "stderr",
     "output_type": "stream",
     "text": [
      "100%|██████████| 10/10 [00:02<00:00,  3.74it/s, Epoch=26, LR=0.000528, Train_Loss=0.37]\n",
      "100%|██████████| 10/10 [00:01<00:00,  6.00it/s, Epoch=26, LR=0.000528, Valid_Loss=0.338]\n"
     ]
    },
    {
     "name": "stdout",
     "output_type": "stream",
     "text": [
      "Validation pAUC80 not Improved (0.14099)\n",
      "\n"
     ]
    },
    {
     "name": "stderr",
     "output_type": "stream",
     "text": [
      "100%|██████████| 10/10 [00:02<00:00,  3.64it/s, Epoch=27, LR=0.000494, Train_Loss=0.299]\n",
      "100%|██████████| 10/10 [00:01<00:00,  5.74it/s, Epoch=27, LR=0.000494, Valid_Loss=0.392]\n"
     ]
    },
    {
     "name": "stdout",
     "output_type": "stream",
     "text": [
      "\u001b[34mValidation AUROC Improved (0.15166 ---> 0.15193)\n",
      "\n"
     ]
    },
    {
     "name": "stderr",
     "output_type": "stream",
     "text": [
      "100%|██████████| 10/10 [00:02<00:00,  3.65it/s, Epoch=28, LR=0.00046, Train_Loss=0.383]\n",
      "100%|██████████| 10/10 [00:01<00:00,  5.93it/s, Epoch=28, LR=0.00046, Valid_Loss=0.273]\n"
     ]
    },
    {
     "name": "stdout",
     "output_type": "stream",
     "text": [
      "\u001b[34mValidation AUROC Improved (0.15193 ---> 0.15689)\n",
      "\n"
     ]
    },
    {
     "name": "stderr",
     "output_type": "stream",
     "text": [
      "100%|██████████| 10/10 [00:02<00:00,  3.70it/s, Epoch=29, LR=0.000427, Train_Loss=0.307]\n",
      "100%|██████████| 10/10 [00:01<00:00,  5.95it/s, Epoch=29, LR=0.000427, Valid_Loss=0.382]\n"
     ]
    },
    {
     "name": "stdout",
     "output_type": "stream",
     "text": [
      "Validation pAUC80 not Improved (0.15301)\n",
      "\n"
     ]
    },
    {
     "name": "stderr",
     "output_type": "stream",
     "text": [
      "100%|██████████| 10/10 [00:02<00:00,  3.78it/s, Epoch=30, LR=0.000394, Train_Loss=0.407]\n",
      "100%|██████████| 10/10 [00:01<00:00,  5.89it/s, Epoch=30, LR=0.000394, Valid_Loss=0.369]\n"
     ]
    },
    {
     "name": "stdout",
     "output_type": "stream",
     "text": [
      "Validation pAUC80 not Improved (0.14906)\n",
      "\n"
     ]
    },
    {
     "name": "stderr",
     "output_type": "stream",
     "text": [
      "100%|██████████| 10/10 [00:02<00:00,  3.68it/s, Epoch=31, LR=0.000361, Train_Loss=0.31]\n",
      "100%|██████████| 10/10 [00:01<00:00,  5.87it/s, Epoch=31, LR=0.000361, Valid_Loss=0.263]\n"
     ]
    },
    {
     "name": "stdout",
     "output_type": "stream",
     "text": [
      "Validation pAUC80 not Improved (0.15261)\n",
      "\n"
     ]
    },
    {
     "name": "stderr",
     "output_type": "stream",
     "text": [
      "100%|██████████| 10/10 [00:02<00:00,  3.68it/s, Epoch=32, LR=0.000328, Train_Loss=0.272]\n",
      "100%|██████████| 10/10 [00:01<00:00,  5.95it/s, Epoch=32, LR=0.000328, Valid_Loss=0.324]\n"
     ]
    },
    {
     "name": "stdout",
     "output_type": "stream",
     "text": [
      "Validation pAUC80 not Improved (0.15598)\n",
      "\n"
     ]
    },
    {
     "name": "stderr",
     "output_type": "stream",
     "text": [
      "100%|██████████| 10/10 [00:02<00:00,  3.67it/s, Epoch=33, LR=0.000297, Train_Loss=0.395]\n",
      "100%|██████████| 10/10 [00:01<00:00,  5.80it/s, Epoch=33, LR=0.000297, Valid_Loss=0.299]\n"
     ]
    },
    {
     "name": "stdout",
     "output_type": "stream",
     "text": [
      "\u001b[34mValidation AUROC Improved (0.15689 ---> 0.15738)\n",
      "\n"
     ]
    },
    {
     "name": "stderr",
     "output_type": "stream",
     "text": [
      "100%|██████████| 10/10 [00:02<00:00,  3.67it/s, Epoch=34, LR=0.000266, Train_Loss=0.234]\n",
      "100%|██████████| 10/10 [00:01<00:00,  5.52it/s, Epoch=34, LR=0.000266, Valid_Loss=0.312]\n"
     ]
    },
    {
     "name": "stdout",
     "output_type": "stream",
     "text": [
      "\u001b[34mValidation AUROC Improved (0.15738 ---> 0.15760)\n",
      "\n"
     ]
    },
    {
     "name": "stderr",
     "output_type": "stream",
     "text": [
      "100%|██████████| 10/10 [00:02<00:00,  3.65it/s, Epoch=35, LR=0.000237, Train_Loss=0.299]\n",
      "100%|██████████| 10/10 [00:01<00:00,  5.75it/s, Epoch=35, LR=0.000237, Valid_Loss=0.32]\n"
     ]
    },
    {
     "name": "stdout",
     "output_type": "stream",
     "text": [
      "\u001b[34mValidation AUROC Improved (0.15760 ---> 0.15914)\n",
      "\n"
     ]
    },
    {
     "name": "stderr",
     "output_type": "stream",
     "text": [
      "100%|██████████| 10/10 [00:02<00:00,  3.68it/s, Epoch=36, LR=0.000209, Train_Loss=0.363]\n",
      "100%|██████████| 10/10 [00:01<00:00,  5.92it/s, Epoch=36, LR=0.000209, Valid_Loss=0.321]\n"
     ]
    },
    {
     "name": "stdout",
     "output_type": "stream",
     "text": [
      "\u001b[34mValidation AUROC Improved (0.15914 ---> 0.16198)\n",
      "\n"
     ]
    },
    {
     "name": "stderr",
     "output_type": "stream",
     "text": [
      "100%|██████████| 10/10 [00:02<00:00,  3.69it/s, Epoch=37, LR=0.000182, Train_Loss=0.213]\n",
      "100%|██████████| 10/10 [00:01<00:00,  6.00it/s, Epoch=37, LR=0.000182, Valid_Loss=0.302]\n"
     ]
    },
    {
     "name": "stdout",
     "output_type": "stream",
     "text": [
      "Validation pAUC80 not Improved (0.16127)\n",
      "\n"
     ]
    },
    {
     "name": "stderr",
     "output_type": "stream",
     "text": [
      "100%|██████████| 10/10 [00:02<00:00,  3.59it/s, Epoch=38, LR=0.000156, Train_Loss=0.244]\n",
      "100%|██████████| 10/10 [00:01<00:00,  5.84it/s, Epoch=38, LR=0.000156, Valid_Loss=0.312]\n"
     ]
    },
    {
     "name": "stdout",
     "output_type": "stream",
     "text": [
      "Validation pAUC80 not Improved (0.16037)\n",
      "\n"
     ]
    },
    {
     "name": "stderr",
     "output_type": "stream",
     "text": [
      "100%|██████████| 10/10 [00:02<00:00,  3.59it/s, Epoch=39, LR=0.000132, Train_Loss=0.316]\n",
      "100%|██████████| 10/10 [00:01<00:00,  6.12it/s, Epoch=39, LR=0.000132, Valid_Loss=0.299]\n"
     ]
    },
    {
     "name": "stdout",
     "output_type": "stream",
     "text": [
      "Validation pAUC80 not Improved (0.15828)\n",
      "\n"
     ]
    },
    {
     "name": "stderr",
     "output_type": "stream",
     "text": [
      "100%|██████████| 10/10 [00:02<00:00,  3.61it/s, Epoch=40, LR=0.00011, Train_Loss=0.388]\n",
      "100%|██████████| 10/10 [00:01<00:00,  5.77it/s, Epoch=40, LR=0.00011, Valid_Loss=0.294]\n"
     ]
    },
    {
     "name": "stdout",
     "output_type": "stream",
     "text": [
      "Validation pAUC80 not Improved (0.15411)\n",
      "\n"
     ]
    },
    {
     "name": "stderr",
     "output_type": "stream",
     "text": [
      "100%|██████████| 10/10 [00:02<00:00,  3.62it/s, Epoch=41, LR=8.96e-5, Train_Loss=0.104] \n",
      "100%|██████████| 10/10 [00:01<00:00,  6.05it/s, Epoch=41, LR=8.96e-5, Valid_Loss=0.258]\n"
     ]
    },
    {
     "name": "stdout",
     "output_type": "stream",
     "text": [
      "Validation pAUC80 not Improved (0.15551)\n",
      "\n"
     ]
    },
    {
     "name": "stderr",
     "output_type": "stream",
     "text": [
      "100%|██████████| 10/10 [00:02<00:00,  3.57it/s, Epoch=42, LR=7.11e-5, Train_Loss=0.0951]\n",
      "100%|██████████| 10/10 [00:01<00:00,  5.76it/s, Epoch=42, LR=7.11e-5, Valid_Loss=0.272]\n"
     ]
    },
    {
     "name": "stdout",
     "output_type": "stream",
     "text": [
      "Validation pAUC80 not Improved (0.15673)\n",
      "\n"
     ]
    },
    {
     "name": "stderr",
     "output_type": "stream",
     "text": [
      "100%|██████████| 10/10 [00:02<00:00,  3.58it/s, Epoch=43, LR=5.46e-5, Train_Loss=0.0658]\n",
      "100%|██████████| 10/10 [00:01<00:00,  5.90it/s, Epoch=43, LR=5.46e-5, Valid_Loss=0.319]\n"
     ]
    },
    {
     "name": "stdout",
     "output_type": "stream",
     "text": [
      "Validation pAUC80 not Improved (0.15850)\n",
      "\n"
     ]
    },
    {
     "name": "stderr",
     "output_type": "stream",
     "text": [
      "100%|██████████| 10/10 [00:02<00:00,  3.70it/s, Epoch=44, LR=4.01e-5, Train_Loss=0.0569]\n",
      "100%|██████████| 10/10 [00:01<00:00,  5.61it/s, Epoch=44, LR=4.01e-5, Valid_Loss=0.312]\n"
     ]
    },
    {
     "name": "stdout",
     "output_type": "stream",
     "text": [
      "Validation pAUC80 not Improved (0.16081)\n",
      "\n"
     ]
    },
    {
     "name": "stderr",
     "output_type": "stream",
     "text": [
      "100%|██████████| 10/10 [00:02<00:00,  3.70it/s, Epoch=45, LR=2.78e-5, Train_Loss=0.0587]\n",
      "100%|██████████| 10/10 [00:01<00:00,  6.03it/s, Epoch=45, LR=2.78e-5, Valid_Loss=0.31]\n"
     ]
    },
    {
     "name": "stdout",
     "output_type": "stream",
     "text": [
      "Validation pAUC80 not Improved (0.16112)\n",
      "\n"
     ]
    },
    {
     "name": "stderr",
     "output_type": "stream",
     "text": [
      "100%|██████████| 10/10 [00:02<00:00,  3.61it/s, Epoch=46, LR=1.77e-5, Train_Loss=0.0543]\n",
      "100%|██████████| 10/10 [00:01<00:00,  5.85it/s, Epoch=46, LR=1.77e-5, Valid_Loss=0.299]\n"
     ]
    },
    {
     "name": "stdout",
     "output_type": "stream",
     "text": [
      "Validation pAUC80 not Improved (0.16010)\n",
      "\n"
     ]
    },
    {
     "name": "stderr",
     "output_type": "stream",
     "text": [
      "100%|██████████| 10/10 [00:02<00:00,  3.63it/s, Epoch=47, LR=9.87e-6, Train_Loss=0.0551]\n",
      "100%|██████████| 10/10 [00:01<00:00,  5.98it/s, Epoch=47, LR=9.87e-6, Valid_Loss=0.358]\n"
     ]
    },
    {
     "name": "stdout",
     "output_type": "stream",
     "text": [
      "Validation pAUC80 not Improved (0.15909)\n",
      "\n"
     ]
    },
    {
     "name": "stderr",
     "output_type": "stream",
     "text": [
      "100%|██████████| 10/10 [00:02<00:00,  3.67it/s, Epoch=48, LR=4.3e-6, Train_Loss=0.0604]\n",
      "100%|██████████| 10/10 [00:01<00:00,  5.99it/s, Epoch=48, LR=4.3e-6, Valid_Loss=0.313]\n"
     ]
    },
    {
     "name": "stdout",
     "output_type": "stream",
     "text": [
      "Validation pAUC80 not Improved (0.15977)\n",
      "\n"
     ]
    },
    {
     "name": "stderr",
     "output_type": "stream",
     "text": [
      "100%|██████████| 10/10 [00:02<00:00,  3.69it/s, Epoch=49, LR=1.04e-6, Train_Loss=0.0495]\n",
      "100%|██████████| 10/10 [00:01<00:00,  6.13it/s, Epoch=49, LR=1.04e-6, Valid_Loss=0.348]\n"
     ]
    },
    {
     "name": "stdout",
     "output_type": "stream",
     "text": [
      "Validation pAUC80 not Improved (0.16004)\n",
      "\n"
     ]
    },
    {
     "name": "stderr",
     "output_type": "stream",
     "text": [
      "100%|██████████| 10/10 [00:02<00:00,  3.70it/s, Epoch=50, LR=1.12e-7, Train_Loss=0.0591]\n",
      "100%|██████████| 10/10 [00:01<00:00,  6.05it/s, Epoch=50, LR=1.12e-7, Valid_Loss=0.32]\n"
     ]
    },
    {
     "name": "stdout",
     "output_type": "stream",
     "text": [
      "Validation pAUC80 not Improved (0.16022)\n",
      "\n",
      "Training complete in 0h 4m 28s\n",
      "Best AUROC: 0.1620\n"
     ]
    },
    {
     "name": "stderr",
     "output_type": "stream",
     "text": [
      "100%|██████████| 586/586 [01:22<00:00,  7.08it/s]\n"
     ]
    },
    {
     "name": "stdout",
     "output_type": "stream",
     "text": [
      "fold2_pAUC (not filtered): 0.1588\n",
      "==============================\n",
      "fold 3\n",
      "==============================\n",
      "●train\n",
      "original> (325562, 58) 325 (833,)\n",
      "filtered> (6825, 58) 325 (764,)\n",
      "●val\n",
      "original> (75497, 58) 68 (209,)\n",
      "filtered> (1428, 58) 68 (190,)\n",
      "[INFO] Using GPU: NVIDIA GeForce RTX 4090\n",
      "\n"
     ]
    },
    {
     "name": "stderr",
     "output_type": "stream",
     "text": [
      "100%|██████████| 10/10 [00:02<00:00,  3.54it/s, Epoch=1, LR=0.000238, Train_Loss=0.764]\n",
      "100%|██████████| 12/12 [00:02<00:00,  5.76it/s, Epoch=1, LR=0.000238, Valid_Loss=0.263]\n"
     ]
    },
    {
     "name": "stdout",
     "output_type": "stream",
     "text": [
      "\u001b[34mValidation AUROC Improved (-inf ---> 0.06135)\n",
      "\n"
     ]
    },
    {
     "name": "stderr",
     "output_type": "stream",
     "text": [
      "100%|██████████| 10/10 [00:02<00:00,  3.65it/s, Epoch=2, LR=0.000456, Train_Loss=0.66]\n",
      "100%|██████████| 12/12 [00:01<00:00,  6.18it/s, Epoch=2, LR=0.000456, Valid_Loss=0.778]\n"
     ]
    },
    {
     "name": "stdout",
     "output_type": "stream",
     "text": [
      "\u001b[34mValidation AUROC Improved (0.06135 ---> 0.14503)\n",
      "\n"
     ]
    },
    {
     "name": "stderr",
     "output_type": "stream",
     "text": [
      "100%|██████████| 10/10 [00:03<00:00,  3.09it/s, Epoch=3, LR=0.000673, Train_Loss=0.483]\n",
      "100%|██████████| 12/12 [00:02<00:00,  5.72it/s, Epoch=3, LR=0.000673, Valid_Loss=0.554]\n"
     ]
    },
    {
     "name": "stdout",
     "output_type": "stream",
     "text": [
      "Validation pAUC80 not Improved (0.14144)\n",
      "\n"
     ]
    },
    {
     "name": "stderr",
     "output_type": "stream",
     "text": [
      "100%|██████████| 10/10 [00:02<00:00,  3.52it/s, Epoch=4, LR=0.000891, Train_Loss=0.476]\n",
      "100%|██████████| 12/12 [00:01<00:00,  6.28it/s, Epoch=4, LR=0.000891, Valid_Loss=0.494]\n"
     ]
    },
    {
     "name": "stdout",
     "output_type": "stream",
     "text": [
      "Validation pAUC80 not Improved (0.10419)\n",
      "\n"
     ]
    },
    {
     "name": "stderr",
     "output_type": "stream",
     "text": [
      "100%|██████████| 10/10 [00:02<00:00,  3.62it/s, Epoch=5, LR=0.000978, Train_Loss=0.518]\n",
      "100%|██████████| 12/12 [00:01<00:00,  6.25it/s, Epoch=5, LR=0.000978, Valid_Loss=0.366]\n"
     ]
    },
    {
     "name": "stdout",
     "output_type": "stream",
     "text": [
      "Validation pAUC80 not Improved (0.12570)\n",
      "\n"
     ]
    },
    {
     "name": "stderr",
     "output_type": "stream",
     "text": [
      "100%|██████████| 10/10 [00:02<00:00,  3.53it/s, Epoch=6, LR=0.000975, Train_Loss=0.499]\n",
      "100%|██████████| 12/12 [00:01<00:00,  6.38it/s, Epoch=6, LR=0.000975, Valid_Loss=0.464]\n"
     ]
    },
    {
     "name": "stdout",
     "output_type": "stream",
     "text": [
      "Validation pAUC80 not Improved (0.12631)\n",
      "\n"
     ]
    },
    {
     "name": "stderr",
     "output_type": "stream",
     "text": [
      "100%|██████████| 10/10 [00:02<00:00,  3.62it/s, Epoch=7, LR=0.00097, Train_Loss=0.442]\n",
      "100%|██████████| 12/12 [00:01<00:00,  6.52it/s, Epoch=7, LR=0.00097, Valid_Loss=0.392]\n"
     ]
    },
    {
     "name": "stdout",
     "output_type": "stream",
     "text": [
      "Validation pAUC80 not Improved (0.14172)\n",
      "\n"
     ]
    },
    {
     "name": "stderr",
     "output_type": "stream",
     "text": [
      "100%|██████████| 10/10 [00:02<00:00,  3.56it/s, Epoch=8, LR=0.000963, Train_Loss=0.455]\n",
      "100%|██████████| 12/12 [00:02<00:00,  5.65it/s, Epoch=8, LR=0.000963, Valid_Loss=0.413]\n"
     ]
    },
    {
     "name": "stdout",
     "output_type": "stream",
     "text": [
      "\u001b[34mValidation AUROC Improved (0.14503 ---> 0.14595)\n",
      "\n"
     ]
    },
    {
     "name": "stderr",
     "output_type": "stream",
     "text": [
      "100%|██████████| 10/10 [00:03<00:00,  3.16it/s, Epoch=9, LR=0.000954, Train_Loss=0.435]\n",
      "100%|██████████| 12/12 [00:01<00:00,  6.35it/s, Epoch=9, LR=0.000954, Valid_Loss=0.352]\n"
     ]
    },
    {
     "name": "stdout",
     "output_type": "stream",
     "text": [
      "Validation pAUC80 not Improved (0.14428)\n",
      "\n"
     ]
    },
    {
     "name": "stderr",
     "output_type": "stream",
     "text": [
      "100%|██████████| 10/10 [00:02<00:00,  3.65it/s, Epoch=10, LR=0.000942, Train_Loss=0.477]\n",
      "100%|██████████| 12/12 [00:01<00:00,  6.25it/s, Epoch=10, LR=0.000942, Valid_Loss=0.539]\n"
     ]
    },
    {
     "name": "stdout",
     "output_type": "stream",
     "text": [
      "\u001b[34mValidation AUROC Improved (0.14595 ---> 0.15159)\n",
      "\n"
     ]
    },
    {
     "name": "stderr",
     "output_type": "stream",
     "text": [
      "100%|██████████| 10/10 [00:02<00:00,  3.60it/s, Epoch=11, LR=0.000928, Train_Loss=0.418]\n",
      "100%|██████████| 12/12 [00:01<00:00,  6.20it/s, Epoch=11, LR=0.000928, Valid_Loss=0.551]\n"
     ]
    },
    {
     "name": "stdout",
     "output_type": "stream",
     "text": [
      "Validation pAUC80 not Improved (0.14841)\n",
      "\n"
     ]
    },
    {
     "name": "stderr",
     "output_type": "stream",
     "text": [
      "100%|██████████| 10/10 [00:02<00:00,  3.69it/s, Epoch=12, LR=0.000912, Train_Loss=0.45]\n",
      "100%|██████████| 12/12 [00:01<00:00,  6.31it/s, Epoch=12, LR=0.000912, Valid_Loss=0.303]\n"
     ]
    },
    {
     "name": "stdout",
     "output_type": "stream",
     "text": [
      "Validation pAUC80 not Improved (0.13702)\n",
      "\n"
     ]
    },
    {
     "name": "stderr",
     "output_type": "stream",
     "text": [
      "100%|██████████| 10/10 [00:02<00:00,  3.60it/s, Epoch=13, LR=0.000895, Train_Loss=0.409]\n",
      "100%|██████████| 12/12 [00:01<00:00,  6.40it/s, Epoch=13, LR=0.000895, Valid_Loss=0.44] \n"
     ]
    },
    {
     "name": "stdout",
     "output_type": "stream",
     "text": [
      "Validation pAUC80 not Improved (0.14657)\n",
      "\n"
     ]
    },
    {
     "name": "stderr",
     "output_type": "stream",
     "text": [
      "100%|██████████| 10/10 [00:02<00:00,  3.67it/s, Epoch=14, LR=0.000875, Train_Loss=0.394]\n",
      "100%|██████████| 12/12 [00:01<00:00,  6.30it/s, Epoch=14, LR=0.000875, Valid_Loss=0.451]\n"
     ]
    },
    {
     "name": "stdout",
     "output_type": "stream",
     "text": [
      "Validation pAUC80 not Improved (0.14463)\n",
      "\n"
     ]
    },
    {
     "name": "stderr",
     "output_type": "stream",
     "text": [
      "100%|██████████| 10/10 [00:02<00:00,  3.54it/s, Epoch=15, LR=0.000853, Train_Loss=0.322]\n",
      "100%|██████████| 12/12 [00:01<00:00,  6.32it/s, Epoch=15, LR=0.000853, Valid_Loss=0.249]\n"
     ]
    },
    {
     "name": "stdout",
     "output_type": "stream",
     "text": [
      "Validation pAUC80 not Improved (0.15128)\n",
      "\n"
     ]
    },
    {
     "name": "stderr",
     "output_type": "stream",
     "text": [
      "100%|██████████| 10/10 [00:02<00:00,  3.60it/s, Epoch=16, LR=0.00083, Train_Loss=0.399]\n",
      "100%|██████████| 12/12 [00:01<00:00,  6.35it/s, Epoch=16, LR=0.00083, Valid_Loss=0.377]\n"
     ]
    },
    {
     "name": "stdout",
     "output_type": "stream",
     "text": [
      "\u001b[34mValidation AUROC Improved (0.15159 ---> 0.15748)\n",
      "\n"
     ]
    },
    {
     "name": "stderr",
     "output_type": "stream",
     "text": [
      "100%|██████████| 10/10 [00:02<00:00,  3.67it/s, Epoch=17, LR=0.000805, Train_Loss=0.424]\n",
      "100%|██████████| 12/12 [00:01<00:00,  6.38it/s, Epoch=17, LR=0.000805, Valid_Loss=0.216]\n"
     ]
    },
    {
     "name": "stdout",
     "output_type": "stream",
     "text": [
      "\u001b[34mValidation AUROC Improved (0.15748 ---> 0.16047)\n",
      "\n"
     ]
    },
    {
     "name": "stderr",
     "output_type": "stream",
     "text": [
      "100%|██████████| 10/10 [00:02<00:00,  3.69it/s, Epoch=18, LR=0.000778, Train_Loss=0.427]\n",
      "100%|██████████| 12/12 [00:01<00:00,  6.40it/s, Epoch=18, LR=0.000778, Valid_Loss=0.384]\n"
     ]
    },
    {
     "name": "stdout",
     "output_type": "stream",
     "text": [
      "Validation pAUC80 not Improved (0.15619)\n",
      "\n"
     ]
    },
    {
     "name": "stderr",
     "output_type": "stream",
     "text": [
      "100%|██████████| 10/10 [00:02<00:00,  3.66it/s, Epoch=19, LR=0.00075, Train_Loss=0.367]\n",
      "100%|██████████| 12/12 [00:01<00:00,  6.22it/s, Epoch=19, LR=0.00075, Valid_Loss=0.23]\n"
     ]
    },
    {
     "name": "stdout",
     "output_type": "stream",
     "text": [
      "Validation pAUC80 not Improved (0.15308)\n",
      "\n"
     ]
    },
    {
     "name": "stderr",
     "output_type": "stream",
     "text": [
      "100%|██████████| 10/10 [00:02<00:00,  3.59it/s, Epoch=20, LR=0.000721, Train_Loss=0.405]\n",
      "100%|██████████| 12/12 [00:01<00:00,  6.41it/s, Epoch=20, LR=0.000721, Valid_Loss=0.475]\n"
     ]
    },
    {
     "name": "stdout",
     "output_type": "stream",
     "text": [
      "Validation pAUC80 not Improved (0.15708)\n",
      "\n"
     ]
    },
    {
     "name": "stderr",
     "output_type": "stream",
     "text": [
      "100%|██████████| 10/10 [00:02<00:00,  3.70it/s, Epoch=21, LR=0.000691, Train_Loss=0.463]\n",
      "100%|██████████| 12/12 [00:01<00:00,  6.20it/s, Epoch=21, LR=0.000691, Valid_Loss=0.249]\n"
     ]
    },
    {
     "name": "stdout",
     "output_type": "stream",
     "text": [
      "Validation pAUC80 not Improved (0.14148)\n",
      "\n"
     ]
    },
    {
     "name": "stderr",
     "output_type": "stream",
     "text": [
      "100%|██████████| 10/10 [00:02<00:00,  3.63it/s, Epoch=22, LR=0.000659, Train_Loss=0.402]\n",
      "100%|██████████| 12/12 [00:01<00:00,  6.00it/s, Epoch=22, LR=0.000659, Valid_Loss=0.514]\n"
     ]
    },
    {
     "name": "stdout",
     "output_type": "stream",
     "text": [
      "Validation pAUC80 not Improved (0.14638)\n",
      "\n"
     ]
    },
    {
     "name": "stderr",
     "output_type": "stream",
     "text": [
      "100%|██████████| 10/10 [00:02<00:00,  3.65it/s, Epoch=23, LR=0.000627, Train_Loss=0.281]\n",
      "100%|██████████| 12/12 [00:01<00:00,  6.36it/s, Epoch=23, LR=0.000627, Valid_Loss=0.265]\n"
     ]
    },
    {
     "name": "stdout",
     "output_type": "stream",
     "text": [
      "Validation pAUC80 not Improved (0.15271)\n",
      "\n"
     ]
    },
    {
     "name": "stderr",
     "output_type": "stream",
     "text": [
      "100%|██████████| 10/10 [00:02<00:00,  3.70it/s, Epoch=24, LR=0.000595, Train_Loss=0.4] \n",
      "100%|██████████| 12/12 [00:01<00:00,  6.12it/s, Epoch=24, LR=0.000595, Valid_Loss=0.255]\n"
     ]
    },
    {
     "name": "stdout",
     "output_type": "stream",
     "text": [
      "Validation pAUC80 not Improved (0.14564)\n",
      "\n"
     ]
    },
    {
     "name": "stderr",
     "output_type": "stream",
     "text": [
      "100%|██████████| 10/10 [00:02<00:00,  3.64it/s, Epoch=25, LR=0.000561, Train_Loss=0.428]\n",
      "100%|██████████| 12/12 [00:01<00:00,  6.06it/s, Epoch=25, LR=0.000561, Valid_Loss=0.413]\n"
     ]
    },
    {
     "name": "stdout",
     "output_type": "stream",
     "text": [
      "Validation pAUC80 not Improved (0.14487)\n",
      "\n"
     ]
    },
    {
     "name": "stderr",
     "output_type": "stream",
     "text": [
      "100%|██████████| 10/10 [00:02<00:00,  3.60it/s, Epoch=26, LR=0.000528, Train_Loss=0.345]\n",
      "100%|██████████| 12/12 [00:01<00:00,  6.31it/s, Epoch=26, LR=0.000528, Valid_Loss=0.308]\n"
     ]
    },
    {
     "name": "stdout",
     "output_type": "stream",
     "text": [
      "Validation pAUC80 not Improved (0.14944)\n",
      "\n"
     ]
    },
    {
     "name": "stderr",
     "output_type": "stream",
     "text": [
      "100%|██████████| 10/10 [00:02<00:00,  3.60it/s, Epoch=27, LR=0.000494, Train_Loss=0.274]\n",
      "100%|██████████| 12/12 [00:01<00:00,  6.19it/s, Epoch=27, LR=0.000494, Valid_Loss=0.348]\n"
     ]
    },
    {
     "name": "stdout",
     "output_type": "stream",
     "text": [
      "Validation pAUC80 not Improved (0.15370)\n",
      "\n"
     ]
    },
    {
     "name": "stderr",
     "output_type": "stream",
     "text": [
      "100%|██████████| 10/10 [00:02<00:00,  3.67it/s, Epoch=28, LR=0.00046, Train_Loss=0.314]\n",
      "100%|██████████| 12/12 [00:01<00:00,  6.32it/s, Epoch=28, LR=0.00046, Valid_Loss=0.305]\n"
     ]
    },
    {
     "name": "stdout",
     "output_type": "stream",
     "text": [
      "Validation pAUC80 not Improved (0.13799)\n",
      "\n"
     ]
    },
    {
     "name": "stderr",
     "output_type": "stream",
     "text": [
      "100%|██████████| 10/10 [00:02<00:00,  3.67it/s, Epoch=29, LR=0.000427, Train_Loss=0.371]\n",
      "100%|██████████| 12/12 [00:01<00:00,  6.24it/s, Epoch=29, LR=0.000427, Valid_Loss=0.382]\n"
     ]
    },
    {
     "name": "stdout",
     "output_type": "stream",
     "text": [
      "Validation pAUC80 not Improved (0.13641)\n",
      "\n"
     ]
    },
    {
     "name": "stderr",
     "output_type": "stream",
     "text": [
      "100%|██████████| 10/10 [00:02<00:00,  3.64it/s, Epoch=30, LR=0.000394, Train_Loss=0.45]\n",
      "100%|██████████| 12/12 [00:01<00:00,  6.03it/s, Epoch=30, LR=0.000394, Valid_Loss=0.293]\n"
     ]
    },
    {
     "name": "stdout",
     "output_type": "stream",
     "text": [
      "Validation pAUC80 not Improved (0.13529)\n",
      "\n"
     ]
    },
    {
     "name": "stderr",
     "output_type": "stream",
     "text": [
      "100%|██████████| 10/10 [00:02<00:00,  3.59it/s, Epoch=31, LR=0.000361, Train_Loss=0.247]\n",
      "100%|██████████| 12/12 [00:01<00:00,  6.36it/s, Epoch=31, LR=0.000361, Valid_Loss=0.277]\n"
     ]
    },
    {
     "name": "stdout",
     "output_type": "stream",
     "text": [
      "Validation pAUC80 not Improved (0.15955)\n",
      "\n"
     ]
    },
    {
     "name": "stderr",
     "output_type": "stream",
     "text": [
      "100%|██████████| 10/10 [00:02<00:00,  3.64it/s, Epoch=32, LR=0.000328, Train_Loss=0.319]\n",
      "100%|██████████| 12/12 [00:01<00:00,  6.07it/s, Epoch=32, LR=0.000328, Valid_Loss=0.33] \n"
     ]
    },
    {
     "name": "stdout",
     "output_type": "stream",
     "text": [
      "Validation pAUC80 not Improved (0.15926)\n",
      "\n"
     ]
    },
    {
     "name": "stderr",
     "output_type": "stream",
     "text": [
      "100%|██████████| 10/10 [00:02<00:00,  3.59it/s, Epoch=33, LR=0.000297, Train_Loss=0.271]\n",
      "100%|██████████| 12/12 [00:01<00:00,  6.34it/s, Epoch=33, LR=0.000297, Valid_Loss=0.25] \n"
     ]
    },
    {
     "name": "stdout",
     "output_type": "stream",
     "text": [
      "Validation pAUC80 not Improved (0.14442)\n",
      "\n"
     ]
    },
    {
     "name": "stderr",
     "output_type": "stream",
     "text": [
      "100%|██████████| 10/10 [00:02<00:00,  3.63it/s, Epoch=34, LR=0.000266, Train_Loss=0.335]\n",
      "100%|██████████| 12/12 [00:01<00:00,  6.44it/s, Epoch=34, LR=0.000266, Valid_Loss=0.295]\n"
     ]
    },
    {
     "name": "stdout",
     "output_type": "stream",
     "text": [
      "Validation pAUC80 not Improved (0.13376)\n",
      "\n"
     ]
    },
    {
     "name": "stderr",
     "output_type": "stream",
     "text": [
      "100%|██████████| 10/10 [00:02<00:00,  3.55it/s, Epoch=35, LR=0.000237, Train_Loss=0.385]\n",
      "100%|██████████| 12/12 [00:01<00:00,  6.07it/s, Epoch=35, LR=0.000237, Valid_Loss=0.329]\n"
     ]
    },
    {
     "name": "stdout",
     "output_type": "stream",
     "text": [
      "Validation pAUC80 not Improved (0.13861)\n",
      "\n"
     ]
    },
    {
     "name": "stderr",
     "output_type": "stream",
     "text": [
      "100%|██████████| 10/10 [00:02<00:00,  3.69it/s, Epoch=36, LR=0.000209, Train_Loss=0.271]\n",
      "100%|██████████| 12/12 [00:01<00:00,  6.05it/s, Epoch=36, LR=0.000209, Valid_Loss=0.315]\n"
     ]
    },
    {
     "name": "stdout",
     "output_type": "stream",
     "text": [
      "Validation pAUC80 not Improved (0.14825)\n",
      "\n"
     ]
    },
    {
     "name": "stderr",
     "output_type": "stream",
     "text": [
      "100%|██████████| 10/10 [00:02<00:00,  3.61it/s, Epoch=37, LR=0.000182, Train_Loss=0.313]\n",
      "100%|██████████| 12/12 [00:01<00:00,  6.33it/s, Epoch=37, LR=0.000182, Valid_Loss=0.259]\n"
     ]
    },
    {
     "name": "stdout",
     "output_type": "stream",
     "text": [
      "Validation pAUC80 not Improved (0.14808)\n",
      "\n"
     ]
    },
    {
     "name": "stderr",
     "output_type": "stream",
     "text": [
      "100%|██████████| 10/10 [00:02<00:00,  3.66it/s, Epoch=38, LR=0.000156, Train_Loss=0.392]\n",
      "100%|██████████| 12/12 [00:01<00:00,  6.22it/s, Epoch=38, LR=0.000156, Valid_Loss=0.273]\n"
     ]
    },
    {
     "name": "stdout",
     "output_type": "stream",
     "text": [
      "Validation pAUC80 not Improved (0.14193)\n",
      "\n"
     ]
    },
    {
     "name": "stderr",
     "output_type": "stream",
     "text": [
      "100%|██████████| 10/10 [00:02<00:00,  3.60it/s, Epoch=39, LR=0.000132, Train_Loss=0.224]\n",
      "100%|██████████| 12/12 [00:01<00:00,  6.13it/s, Epoch=39, LR=0.000132, Valid_Loss=0.262]\n"
     ]
    },
    {
     "name": "stdout",
     "output_type": "stream",
     "text": [
      "Validation pAUC80 not Improved (0.14215)\n",
      "\n"
     ]
    },
    {
     "name": "stderr",
     "output_type": "stream",
     "text": [
      "100%|██████████| 10/10 [00:02<00:00,  3.69it/s, Epoch=40, LR=0.00011, Train_Loss=0.253]\n",
      "100%|██████████| 12/12 [00:01<00:00,  6.54it/s, Epoch=40, LR=0.00011, Valid_Loss=0.299]\n"
     ]
    },
    {
     "name": "stdout",
     "output_type": "stream",
     "text": [
      "Validation pAUC80 not Improved (0.14320)\n",
      "\n"
     ]
    },
    {
     "name": "stderr",
     "output_type": "stream",
     "text": [
      "100%|██████████| 10/10 [00:02<00:00,  3.58it/s, Epoch=41, LR=8.96e-5, Train_Loss=0.109]\n",
      "100%|██████████| 12/12 [00:01<00:00,  6.20it/s, Epoch=41, LR=8.96e-5, Valid_Loss=0.29] \n"
     ]
    },
    {
     "name": "stdout",
     "output_type": "stream",
     "text": [
      "Validation pAUC80 not Improved (0.14915)\n",
      "\n"
     ]
    },
    {
     "name": "stderr",
     "output_type": "stream",
     "text": [
      "100%|██████████| 10/10 [00:02<00:00,  3.67it/s, Epoch=42, LR=7.11e-5, Train_Loss=0.0854]\n",
      "100%|██████████| 12/12 [00:01<00:00,  6.49it/s, Epoch=42, LR=7.11e-5, Valid_Loss=0.276]\n"
     ]
    },
    {
     "name": "stdout",
     "output_type": "stream",
     "text": [
      "Validation pAUC80 not Improved (0.15223)\n",
      "\n"
     ]
    },
    {
     "name": "stderr",
     "output_type": "stream",
     "text": [
      "100%|██████████| 10/10 [00:02<00:00,  3.64it/s, Epoch=43, LR=5.46e-5, Train_Loss=0.0835]\n",
      "100%|██████████| 12/12 [00:01<00:00,  6.47it/s, Epoch=43, LR=5.46e-5, Valid_Loss=0.301]\n"
     ]
    },
    {
     "name": "stdout",
     "output_type": "stream",
     "text": [
      "Validation pAUC80 not Improved (0.15601)\n",
      "\n"
     ]
    },
    {
     "name": "stderr",
     "output_type": "stream",
     "text": [
      "100%|██████████| 10/10 [00:02<00:00,  3.72it/s, Epoch=44, LR=4.01e-5, Train_Loss=0.0697]\n",
      "100%|██████████| 12/12 [00:01<00:00,  6.31it/s, Epoch=44, LR=4.01e-5, Valid_Loss=0.256]\n"
     ]
    },
    {
     "name": "stdout",
     "output_type": "stream",
     "text": [
      "Validation pAUC80 not Improved (0.14939)\n",
      "\n"
     ]
    },
    {
     "name": "stderr",
     "output_type": "stream",
     "text": [
      "100%|██████████| 10/10 [00:02<00:00,  3.65it/s, Epoch=45, LR=2.78e-5, Train_Loss=0.0642]\n",
      "100%|██████████| 12/12 [00:01<00:00,  6.24it/s, Epoch=45, LR=2.78e-5, Valid_Loss=0.253]\n"
     ]
    },
    {
     "name": "stdout",
     "output_type": "stream",
     "text": [
      "Validation pAUC80 not Improved (0.14930)\n",
      "\n"
     ]
    },
    {
     "name": "stderr",
     "output_type": "stream",
     "text": [
      "100%|██████████| 10/10 [00:02<00:00,  3.62it/s, Epoch=46, LR=1.77e-5, Train_Loss=0.0514]\n",
      "100%|██████████| 12/12 [00:01<00:00,  6.46it/s, Epoch=46, LR=1.77e-5, Valid_Loss=0.286]\n"
     ]
    },
    {
     "name": "stdout",
     "output_type": "stream",
     "text": [
      "Validation pAUC80 not Improved (0.14748)\n",
      "\n"
     ]
    },
    {
     "name": "stderr",
     "output_type": "stream",
     "text": [
      "100%|██████████| 10/10 [00:02<00:00,  3.71it/s, Epoch=47, LR=9.87e-6, Train_Loss=0.0613]\n",
      "100%|██████████| 12/12 [00:01<00:00,  6.15it/s, Epoch=47, LR=9.87e-6, Valid_Loss=0.297]\n"
     ]
    },
    {
     "name": "stdout",
     "output_type": "stream",
     "text": [
      "Validation pAUC80 not Improved (0.14810)\n",
      "\n"
     ]
    },
    {
     "name": "stderr",
     "output_type": "stream",
     "text": [
      "100%|██████████| 10/10 [00:02<00:00,  3.71it/s, Epoch=48, LR=4.3e-6, Train_Loss=0.0513]\n",
      "100%|██████████| 12/12 [00:02<00:00,  5.96it/s, Epoch=48, LR=4.3e-6, Valid_Loss=0.285]\n"
     ]
    },
    {
     "name": "stdout",
     "output_type": "stream",
     "text": [
      "Validation pAUC80 not Improved (0.14833)\n",
      "\n"
     ]
    },
    {
     "name": "stderr",
     "output_type": "stream",
     "text": [
      "100%|██████████| 10/10 [00:02<00:00,  3.62it/s, Epoch=49, LR=1.04e-6, Train_Loss=0.0568]\n",
      "100%|██████████| 12/12 [00:01<00:00,  6.09it/s, Epoch=49, LR=1.04e-6, Valid_Loss=0.259]\n"
     ]
    },
    {
     "name": "stdout",
     "output_type": "stream",
     "text": [
      "Validation pAUC80 not Improved (0.15160)\n",
      "\n"
     ]
    },
    {
     "name": "stderr",
     "output_type": "stream",
     "text": [
      "100%|██████████| 10/10 [00:02<00:00,  3.70it/s, Epoch=50, LR=1.12e-7, Train_Loss=0.0465]\n",
      "100%|██████████| 12/12 [00:01<00:00,  6.18it/s, Epoch=50, LR=1.12e-7, Valid_Loss=0.255]\n"
     ]
    },
    {
     "name": "stdout",
     "output_type": "stream",
     "text": [
      "Validation pAUC80 not Improved (0.14906)\n",
      "\n",
      "Training complete in 0h 4m 34s\n",
      "Best AUROC: 0.1605\n"
     ]
    },
    {
     "name": "stderr",
     "output_type": "stream",
     "text": [
      "100%|██████████| 590/590 [01:24<00:00,  6.99it/s]\n"
     ]
    },
    {
     "name": "stdout",
     "output_type": "stream",
     "text": [
      "fold3_pAUC (not filtered): 0.1495\n",
      "==============================\n",
      "fold 4\n",
      "==============================\n",
      "●train\n",
      "original> (330985, 58) 295 (834,)\n",
      "filtered> (6195, 58) 295 (740,)\n",
      "●val\n",
      "original> (70074, 58) 98 (208,)\n",
      "filtered> (2058, 58) 98 (196,)\n",
      "[INFO] Using GPU: NVIDIA GeForce RTX 4090\n",
      "\n"
     ]
    },
    {
     "name": "stderr",
     "output_type": "stream",
     "text": [
      "100%|██████████| 9/9 [00:03<00:00,  2.93it/s, Epoch=1, LR=0.000216, Train_Loss=0.988]\n",
      "100%|██████████| 17/17 [00:02<00:00,  5.73it/s, Epoch=1, LR=0.000216, Valid_Loss=0.813]\n"
     ]
    },
    {
     "name": "stdout",
     "output_type": "stream",
     "text": [
      "\u001b[34mValidation AUROC Improved (-inf ---> 0.03281)\n",
      "\n"
     ]
    },
    {
     "name": "stderr",
     "output_type": "stream",
     "text": [
      "100%|██████████| 9/9 [00:02<00:00,  3.27it/s, Epoch=2, LR=0.000412, Train_Loss=0.741]\n",
      "100%|██████████| 17/17 [00:02<00:00,  6.83it/s, Epoch=2, LR=0.000412, Valid_Loss=1]    \n"
     ]
    },
    {
     "name": "stdout",
     "output_type": "stream",
     "text": [
      "\u001b[34mValidation AUROC Improved (0.03281 ---> 0.05020)\n",
      "\n"
     ]
    },
    {
     "name": "stderr",
     "output_type": "stream",
     "text": [
      "100%|██████████| 9/9 [00:02<00:00,  3.51it/s, Epoch=3, LR=0.000608, Train_Loss=0.63] \n",
      "100%|██████████| 17/17 [00:02<00:00,  6.48it/s, Epoch=3, LR=0.000608, Valid_Loss=0.613]\n"
     ]
    },
    {
     "name": "stdout",
     "output_type": "stream",
     "text": [
      "\u001b[34mValidation AUROC Improved (0.05020 ---> 0.11314)\n",
      "\n"
     ]
    },
    {
     "name": "stderr",
     "output_type": "stream",
     "text": [
      "100%|██████████| 9/9 [00:02<00:00,  3.49it/s, Epoch=4, LR=0.000804, Train_Loss=0.547]\n",
      "100%|██████████| 17/17 [00:02<00:00,  6.62it/s, Epoch=4, LR=0.000804, Valid_Loss=0.626]\n"
     ]
    },
    {
     "name": "stdout",
     "output_type": "stream",
     "text": [
      "\u001b[34mValidation AUROC Improved (0.11314 ---> 0.11901)\n",
      "\n"
     ]
    },
    {
     "name": "stderr",
     "output_type": "stream",
     "text": [
      "100%|██████████| 9/9 [00:02<00:00,  3.53it/s, Epoch=5, LR=0.000978, Train_Loss=0.501]\n",
      "100%|██████████| 17/17 [00:02<00:00,  6.57it/s, Epoch=5, LR=0.000978, Valid_Loss=0.55] \n"
     ]
    },
    {
     "name": "stdout",
     "output_type": "stream",
     "text": [
      "\u001b[34mValidation AUROC Improved (0.11901 ---> 0.12953)\n",
      "\n"
     ]
    },
    {
     "name": "stderr",
     "output_type": "stream",
     "text": [
      "100%|██████████| 9/9 [00:02<00:00,  3.53it/s, Epoch=6, LR=0.000977, Train_Loss=0.496]\n",
      "100%|██████████| 17/17 [00:02<00:00,  6.41it/s, Epoch=6, LR=0.000977, Valid_Loss=0.657]\n"
     ]
    },
    {
     "name": "stdout",
     "output_type": "stream",
     "text": [
      "\u001b[34mValidation AUROC Improved (0.12953 ---> 0.14361)\n",
      "\n"
     ]
    },
    {
     "name": "stderr",
     "output_type": "stream",
     "text": [
      "100%|██████████| 9/9 [00:02<00:00,  3.59it/s, Epoch=7, LR=0.000973, Train_Loss=0.455]\n",
      "100%|██████████| 17/17 [00:02<00:00,  6.42it/s, Epoch=7, LR=0.000973, Valid_Loss=0.354]\n"
     ]
    },
    {
     "name": "stdout",
     "output_type": "stream",
     "text": [
      "\u001b[34mValidation AUROC Improved (0.14361 ---> 0.15193)\n",
      "\n"
     ]
    },
    {
     "name": "stderr",
     "output_type": "stream",
     "text": [
      "100%|██████████| 9/9 [00:02<00:00,  3.55it/s, Epoch=8, LR=0.000967, Train_Loss=0.489]\n",
      "100%|██████████| 17/17 [00:02<00:00,  6.57it/s, Epoch=8, LR=0.000967, Valid_Loss=0.399]\n"
     ]
    },
    {
     "name": "stdout",
     "output_type": "stream",
     "text": [
      "Validation pAUC80 not Improved (0.13586)\n",
      "\n"
     ]
    },
    {
     "name": "stderr",
     "output_type": "stream",
     "text": [
      "100%|██████████| 9/9 [00:02<00:00,  3.50it/s, Epoch=9, LR=0.000958, Train_Loss=0.476]\n",
      "100%|██████████| 17/17 [00:02<00:00,  6.65it/s, Epoch=9, LR=0.000958, Valid_Loss=0.304]\n"
     ]
    },
    {
     "name": "stdout",
     "output_type": "stream",
     "text": [
      "\u001b[34mValidation AUROC Improved (0.15193 ---> 0.15927)\n",
      "\n"
     ]
    },
    {
     "name": "stderr",
     "output_type": "stream",
     "text": [
      "100%|██████████| 9/9 [00:02<00:00,  3.52it/s, Epoch=10, LR=0.000947, Train_Loss=0.462]\n",
      "100%|██████████| 17/17 [00:02<00:00,  6.65it/s, Epoch=10, LR=0.000947, Valid_Loss=0.632]\n"
     ]
    },
    {
     "name": "stdout",
     "output_type": "stream",
     "text": [
      "\u001b[34mValidation AUROC Improved (0.15927 ---> 0.16037)\n",
      "\n"
     ]
    },
    {
     "name": "stderr",
     "output_type": "stream",
     "text": [
      "100%|██████████| 9/9 [00:02<00:00,  3.49it/s, Epoch=11, LR=0.000934, Train_Loss=0.409]\n",
      "100%|██████████| 17/17 [00:02<00:00,  6.60it/s, Epoch=11, LR=0.000934, Valid_Loss=0.176]\n"
     ]
    },
    {
     "name": "stdout",
     "output_type": "stream",
     "text": [
      "Validation pAUC80 not Improved (0.15685)\n",
      "\n"
     ]
    },
    {
     "name": "stderr",
     "output_type": "stream",
     "text": [
      "100%|██████████| 9/9 [00:02<00:00,  3.52it/s, Epoch=12, LR=0.000919, Train_Loss=0.431]\n",
      "100%|██████████| 17/17 [00:02<00:00,  6.62it/s, Epoch=12, LR=0.000919, Valid_Loss=0.497]\n"
     ]
    },
    {
     "name": "stdout",
     "output_type": "stream",
     "text": [
      "Validation pAUC80 not Improved (0.15254)\n",
      "\n"
     ]
    },
    {
     "name": "stderr",
     "output_type": "stream",
     "text": [
      "100%|██████████| 9/9 [00:02<00:00,  3.54it/s, Epoch=13, LR=0.000902, Train_Loss=0.42] \n",
      "100%|██████████| 17/17 [00:02<00:00,  6.70it/s, Epoch=13, LR=0.000902, Valid_Loss=0.322]\n"
     ]
    },
    {
     "name": "stdout",
     "output_type": "stream",
     "text": [
      "Validation pAUC80 not Improved (0.14716)\n",
      "\n"
     ]
    },
    {
     "name": "stderr",
     "output_type": "stream",
     "text": [
      "100%|██████████| 9/9 [00:02<00:00,  3.57it/s, Epoch=14, LR=0.000883, Train_Loss=0.382]\n",
      "100%|██████████| 17/17 [00:02<00:00,  6.72it/s, Epoch=14, LR=0.000883, Valid_Loss=0.28] \n"
     ]
    },
    {
     "name": "stdout",
     "output_type": "stream",
     "text": [
      "\u001b[34mValidation AUROC Improved (0.16037 ---> 0.16070)\n",
      "\n"
     ]
    },
    {
     "name": "stderr",
     "output_type": "stream",
     "text": [
      "100%|██████████| 9/9 [00:02<00:00,  3.50it/s, Epoch=15, LR=0.000861, Train_Loss=0.37] \n",
      "100%|██████████| 17/17 [00:02<00:00,  6.30it/s, Epoch=15, LR=0.000861, Valid_Loss=0.337]\n"
     ]
    },
    {
     "name": "stdout",
     "output_type": "stream",
     "text": [
      "Validation pAUC80 not Improved (0.15284)\n",
      "\n"
     ]
    },
    {
     "name": "stderr",
     "output_type": "stream",
     "text": [
      "100%|██████████| 9/9 [00:02<00:00,  3.50it/s, Epoch=16, LR=0.000838, Train_Loss=0.471]\n",
      "100%|██████████| 17/17 [00:02<00:00,  6.37it/s, Epoch=16, LR=0.000838, Valid_Loss=0.176]\n"
     ]
    },
    {
     "name": "stdout",
     "output_type": "stream",
     "text": [
      "Validation pAUC80 not Improved (0.14661)\n",
      "\n"
     ]
    },
    {
     "name": "stderr",
     "output_type": "stream",
     "text": [
      "100%|██████████| 9/9 [00:02<00:00,  3.51it/s, Epoch=17, LR=0.000814, Train_Loss=0.432]\n",
      "100%|██████████| 17/17 [00:02<00:00,  6.46it/s, Epoch=17, LR=0.000814, Valid_Loss=0.657]\n"
     ]
    },
    {
     "name": "stdout",
     "output_type": "stream",
     "text": [
      "Validation pAUC80 not Improved (0.13506)\n",
      "\n"
     ]
    },
    {
     "name": "stderr",
     "output_type": "stream",
     "text": [
      "100%|██████████| 9/9 [00:02<00:00,  3.50it/s, Epoch=18, LR=0.000787, Train_Loss=0.415]\n",
      "100%|██████████| 17/17 [00:02<00:00,  6.56it/s, Epoch=18, LR=0.000787, Valid_Loss=0.389]\n"
     ]
    },
    {
     "name": "stdout",
     "output_type": "stream",
     "text": [
      "\u001b[34mValidation AUROC Improved (0.16070 ---> 0.16137)\n",
      "\n"
     ]
    },
    {
     "name": "stderr",
     "output_type": "stream",
     "text": [
      "100%|██████████| 9/9 [00:02<00:00,  3.59it/s, Epoch=19, LR=0.000759, Train_Loss=0.333]\n",
      "100%|██████████| 17/17 [00:02<00:00,  6.54it/s, Epoch=19, LR=0.000759, Valid_Loss=0.423]\n"
     ]
    },
    {
     "name": "stdout",
     "output_type": "stream",
     "text": [
      "Validation pAUC80 not Improved (0.15693)\n",
      "\n"
     ]
    },
    {
     "name": "stderr",
     "output_type": "stream",
     "text": [
      "100%|██████████| 9/9 [00:02<00:00,  3.54it/s, Epoch=20, LR=0.00073, Train_Loss=0.36]  \n",
      "100%|██████████| 17/17 [00:02<00:00,  6.42it/s, Epoch=20, LR=0.00073, Valid_Loss=0.368]\n"
     ]
    },
    {
     "name": "stdout",
     "output_type": "stream",
     "text": [
      "Validation pAUC80 not Improved (0.15967)\n",
      "\n"
     ]
    },
    {
     "name": "stderr",
     "output_type": "stream",
     "text": [
      "100%|██████████| 9/9 [00:02<00:00,  3.55it/s, Epoch=21, LR=0.0007, Train_Loss=0.387]  \n",
      "100%|██████████| 17/17 [00:02<00:00,  6.48it/s, Epoch=21, LR=0.0007, Valid_Loss=0.331]\n"
     ]
    },
    {
     "name": "stdout",
     "output_type": "stream",
     "text": [
      "Validation pAUC80 not Improved (0.15230)\n",
      "\n"
     ]
    },
    {
     "name": "stderr",
     "output_type": "stream",
     "text": [
      "100%|██████████| 9/9 [00:02<00:00,  3.56it/s, Epoch=22, LR=0.000669, Train_Loss=0.365]\n",
      "100%|██████████| 17/17 [00:02<00:00,  6.75it/s, Epoch=22, LR=0.000669, Valid_Loss=0.387]\n"
     ]
    },
    {
     "name": "stdout",
     "output_type": "stream",
     "text": [
      "\u001b[34mValidation AUROC Improved (0.16137 ---> 0.16435)\n",
      "\n"
     ]
    },
    {
     "name": "stderr",
     "output_type": "stream",
     "text": [
      "100%|██████████| 9/9 [00:02<00:00,  3.59it/s, Epoch=23, LR=0.000637, Train_Loss=0.41] \n",
      "100%|██████████| 17/17 [00:02<00:00,  6.62it/s, Epoch=23, LR=0.000637, Valid_Loss=0.221]\n"
     ]
    },
    {
     "name": "stdout",
     "output_type": "stream",
     "text": [
      "Validation pAUC80 not Improved (0.15923)\n",
      "\n"
     ]
    },
    {
     "name": "stderr",
     "output_type": "stream",
     "text": [
      "100%|██████████| 9/9 [00:02<00:00,  3.58it/s, Epoch=24, LR=0.000604, Train_Loss=0.393]\n",
      "100%|██████████| 17/17 [00:02<00:00,  6.45it/s, Epoch=24, LR=0.000604, Valid_Loss=0.298]\n"
     ]
    },
    {
     "name": "stdout",
     "output_type": "stream",
     "text": [
      "Validation pAUC80 not Improved (0.15236)\n",
      "\n"
     ]
    },
    {
     "name": "stderr",
     "output_type": "stream",
     "text": [
      "100%|██████████| 9/9 [00:02<00:00,  3.54it/s, Epoch=25, LR=0.00057, Train_Loss=0.36]  \n",
      "100%|██████████| 17/17 [00:02<00:00,  6.27it/s, Epoch=25, LR=0.00057, Valid_Loss=0.423]\n"
     ]
    },
    {
     "name": "stdout",
     "output_type": "stream",
     "text": [
      "\u001b[34mValidation AUROC Improved (0.16435 ---> 0.16711)\n",
      "\n"
     ]
    },
    {
     "name": "stderr",
     "output_type": "stream",
     "text": [
      "100%|██████████| 9/9 [00:02<00:00,  3.55it/s, Epoch=26, LR=0.000537, Train_Loss=0.333]\n",
      "100%|██████████| 17/17 [00:02<00:00,  6.55it/s, Epoch=26, LR=0.000537, Valid_Loss=0.236]\n"
     ]
    },
    {
     "name": "stdout",
     "output_type": "stream",
     "text": [
      "Validation pAUC80 not Improved (0.16336)\n",
      "\n"
     ]
    },
    {
     "name": "stderr",
     "output_type": "stream",
     "text": [
      "100%|██████████| 9/9 [00:02<00:00,  3.48it/s, Epoch=27, LR=0.000502, Train_Loss=0.364]\n",
      "100%|██████████| 17/17 [00:02<00:00,  6.68it/s, Epoch=27, LR=0.000502, Valid_Loss=0.469]\n"
     ]
    },
    {
     "name": "stdout",
     "output_type": "stream",
     "text": [
      "Validation pAUC80 not Improved (0.16345)\n",
      "\n"
     ]
    },
    {
     "name": "stderr",
     "output_type": "stream",
     "text": [
      "100%|██████████| 9/9 [00:02<00:00,  3.62it/s, Epoch=28, LR=0.000468, Train_Loss=0.365]\n",
      "100%|██████████| 17/17 [00:02<00:00,  6.60it/s, Epoch=28, LR=0.000468, Valid_Loss=0.356]\n"
     ]
    },
    {
     "name": "stdout",
     "output_type": "stream",
     "text": [
      "Validation pAUC80 not Improved (0.15626)\n",
      "\n"
     ]
    },
    {
     "name": "stderr",
     "output_type": "stream",
     "text": [
      "100%|██████████| 9/9 [00:02<00:00,  3.66it/s, Epoch=29, LR=0.000434, Train_Loss=0.386]\n",
      "100%|██████████| 17/17 [00:02<00:00,  6.48it/s, Epoch=29, LR=0.000434, Valid_Loss=0.349]\n"
     ]
    },
    {
     "name": "stdout",
     "output_type": "stream",
     "text": [
      "Validation pAUC80 not Improved (0.15154)\n",
      "\n"
     ]
    },
    {
     "name": "stderr",
     "output_type": "stream",
     "text": [
      "100%|██████████| 9/9 [00:02<00:00,  3.57it/s, Epoch=30, LR=0.000401, Train_Loss=0.332]\n",
      "100%|██████████| 17/17 [00:02<00:00,  6.51it/s, Epoch=30, LR=0.000401, Valid_Loss=0.282]\n"
     ]
    },
    {
     "name": "stdout",
     "output_type": "stream",
     "text": [
      "Validation pAUC80 not Improved (0.15721)\n",
      "\n"
     ]
    },
    {
     "name": "stderr",
     "output_type": "stream",
     "text": [
      "100%|██████████| 9/9 [00:02<00:00,  3.62it/s, Epoch=31, LR=0.000367, Train_Loss=0.304]\n",
      "100%|██████████| 17/17 [00:02<00:00,  6.72it/s, Epoch=31, LR=0.000367, Valid_Loss=0.3]  \n"
     ]
    },
    {
     "name": "stdout",
     "output_type": "stream",
     "text": [
      "\u001b[34mValidation AUROC Improved (0.16711 ---> 0.16758)\n",
      "\n"
     ]
    },
    {
     "name": "stderr",
     "output_type": "stream",
     "text": [
      "100%|██████████| 9/9 [00:02<00:00,  3.60it/s, Epoch=32, LR=0.000334, Train_Loss=0.337]\n",
      "100%|██████████| 17/17 [00:02<00:00,  6.63it/s, Epoch=32, LR=0.000334, Valid_Loss=0.24] \n"
     ]
    },
    {
     "name": "stdout",
     "output_type": "stream",
     "text": [
      "Validation pAUC80 not Improved (0.16205)\n",
      "\n"
     ]
    },
    {
     "name": "stderr",
     "output_type": "stream",
     "text": [
      "100%|██████████| 9/9 [00:02<00:00,  3.50it/s, Epoch=33, LR=0.000302, Train_Loss=0.419]\n",
      "100%|██████████| 17/17 [00:02<00:00,  6.71it/s, Epoch=33, LR=0.000302, Valid_Loss=0.301]\n"
     ]
    },
    {
     "name": "stdout",
     "output_type": "stream",
     "text": [
      "Validation pAUC80 not Improved (0.16134)\n",
      "\n"
     ]
    },
    {
     "name": "stderr",
     "output_type": "stream",
     "text": [
      "100%|██████████| 9/9 [00:02<00:00,  3.62it/s, Epoch=34, LR=0.000271, Train_Loss=0.267]\n",
      "100%|██████████| 17/17 [00:02<00:00,  6.60it/s, Epoch=34, LR=0.000271, Valid_Loss=0.349]\n"
     ]
    },
    {
     "name": "stdout",
     "output_type": "stream",
     "text": [
      "Validation pAUC80 not Improved (0.16415)\n",
      "\n"
     ]
    },
    {
     "name": "stderr",
     "output_type": "stream",
     "text": [
      "100%|██████████| 9/9 [00:02<00:00,  3.58it/s, Epoch=35, LR=0.000241, Train_Loss=0.386]\n",
      "100%|██████████| 17/17 [00:02<00:00,  6.53it/s, Epoch=35, LR=0.000241, Valid_Loss=0.317]\n"
     ]
    },
    {
     "name": "stdout",
     "output_type": "stream",
     "text": [
      "Validation pAUC80 not Improved (0.16429)\n",
      "\n"
     ]
    },
    {
     "name": "stderr",
     "output_type": "stream",
     "text": [
      "100%|██████████| 9/9 [00:02<00:00,  3.53it/s, Epoch=36, LR=0.000213, Train_Loss=0.274]\n",
      "100%|██████████| 17/17 [00:02<00:00,  6.59it/s, Epoch=36, LR=0.000213, Valid_Loss=0.279]\n"
     ]
    },
    {
     "name": "stdout",
     "output_type": "stream",
     "text": [
      "Validation pAUC80 not Improved (0.16235)\n",
      "\n"
     ]
    },
    {
     "name": "stderr",
     "output_type": "stream",
     "text": [
      "100%|██████████| 9/9 [00:02<00:00,  3.51it/s, Epoch=37, LR=0.000185, Train_Loss=0.354]\n",
      "100%|██████████| 17/17 [00:02<00:00,  6.77it/s, Epoch=37, LR=0.000185, Valid_Loss=0.287]\n"
     ]
    },
    {
     "name": "stdout",
     "output_type": "stream",
     "text": [
      "Validation pAUC80 not Improved (0.16367)\n",
      "\n"
     ]
    },
    {
     "name": "stderr",
     "output_type": "stream",
     "text": [
      "100%|██████████| 9/9 [00:02<00:00,  3.55it/s, Epoch=38, LR=0.000159, Train_Loss=0.378]\n",
      "100%|██████████| 17/17 [00:02<00:00,  6.58it/s, Epoch=38, LR=0.000159, Valid_Loss=0.286]\n"
     ]
    },
    {
     "name": "stdout",
     "output_type": "stream",
     "text": [
      "Validation pAUC80 not Improved (0.16365)\n",
      "\n"
     ]
    },
    {
     "name": "stderr",
     "output_type": "stream",
     "text": [
      "100%|██████████| 9/9 [00:02<00:00,  3.59it/s, Epoch=39, LR=0.000135, Train_Loss=0.319]\n",
      "100%|██████████| 17/17 [00:02<00:00,  6.62it/s, Epoch=39, LR=0.000135, Valid_Loss=0.3]  \n"
     ]
    },
    {
     "name": "stdout",
     "output_type": "stream",
     "text": [
      "Validation pAUC80 not Improved (0.16299)\n",
      "\n"
     ]
    },
    {
     "name": "stderr",
     "output_type": "stream",
     "text": [
      "100%|██████████| 9/9 [00:02<00:00,  3.56it/s, Epoch=40, LR=0.000112, Train_Loss=0.361]\n",
      "100%|██████████| 17/17 [00:02<00:00,  6.48it/s, Epoch=40, LR=0.000112, Valid_Loss=0.272]\n"
     ]
    },
    {
     "name": "stdout",
     "output_type": "stream",
     "text": [
      "Validation pAUC80 not Improved (0.16330)\n",
      "\n"
     ]
    },
    {
     "name": "stderr",
     "output_type": "stream",
     "text": [
      "100%|██████████| 9/9 [00:02<00:00,  3.55it/s, Epoch=41, LR=9.13e-5, Train_Loss=0.0997]\n",
      "100%|██████████| 17/17 [00:02<00:00,  6.38it/s, Epoch=41, LR=9.13e-5, Valid_Loss=0.26] \n"
     ]
    },
    {
     "name": "stdout",
     "output_type": "stream",
     "text": [
      "Validation pAUC80 not Improved (0.16360)\n",
      "\n"
     ]
    },
    {
     "name": "stderr",
     "output_type": "stream",
     "text": [
      "100%|██████████| 9/9 [00:02<00:00,  3.59it/s, Epoch=42, LR=7.24e-5, Train_Loss=0.11]  \n",
      "100%|██████████| 17/17 [00:02<00:00,  6.44it/s, Epoch=42, LR=7.24e-5, Valid_Loss=0.264]\n"
     ]
    },
    {
     "name": "stdout",
     "output_type": "stream",
     "text": [
      "Validation pAUC80 not Improved (0.16531)\n",
      "\n"
     ]
    },
    {
     "name": "stderr",
     "output_type": "stream",
     "text": [
      "100%|██████████| 9/9 [00:02<00:00,  3.53it/s, Epoch=43, LR=5.56e-5, Train_Loss=0.0822]\n",
      "100%|██████████| 17/17 [00:02<00:00,  6.60it/s, Epoch=43, LR=5.56e-5, Valid_Loss=0.276]\n"
     ]
    },
    {
     "name": "stdout",
     "output_type": "stream",
     "text": [
      "Validation pAUC80 not Improved (0.16547)\n",
      "\n"
     ]
    },
    {
     "name": "stderr",
     "output_type": "stream",
     "text": [
      "100%|██████████| 9/9 [00:02<00:00,  3.47it/s, Epoch=44, LR=4.09e-5, Train_Loss=0.0683]\n",
      "100%|██████████| 17/17 [00:02<00:00,  6.39it/s, Epoch=44, LR=4.09e-5, Valid_Loss=0.288]\n"
     ]
    },
    {
     "name": "stdout",
     "output_type": "stream",
     "text": [
      "Validation pAUC80 not Improved (0.16590)\n",
      "\n"
     ]
    },
    {
     "name": "stderr",
     "output_type": "stream",
     "text": [
      "100%|██████████| 9/9 [00:02<00:00,  3.56it/s, Epoch=45, LR=2.83e-5, Train_Loss=0.0693]\n",
      "100%|██████████| 17/17 [00:02<00:00,  6.33it/s, Epoch=45, LR=2.83e-5, Valid_Loss=0.3]  \n"
     ]
    },
    {
     "name": "stdout",
     "output_type": "stream",
     "text": [
      "Validation pAUC80 not Improved (0.16557)\n",
      "\n"
     ]
    },
    {
     "name": "stderr",
     "output_type": "stream",
     "text": [
      "100%|██████████| 9/9 [00:02<00:00,  3.58it/s, Epoch=46, LR=1.8e-5, Train_Loss=0.0612] \n",
      "100%|██████████| 17/17 [00:02<00:00,  6.65it/s, Epoch=46, LR=1.8e-5, Valid_Loss=0.292]\n"
     ]
    },
    {
     "name": "stdout",
     "output_type": "stream",
     "text": [
      "Validation pAUC80 not Improved (0.16529)\n",
      "\n"
     ]
    },
    {
     "name": "stderr",
     "output_type": "stream",
     "text": [
      "100%|██████████| 9/9 [00:02<00:00,  3.58it/s, Epoch=47, LR=1e-5, Train_Loss=0.0489]   \n",
      "100%|██████████| 17/17 [00:02<00:00,  6.52it/s, Epoch=47, LR=1e-5, Valid_Loss=0.282]\n"
     ]
    },
    {
     "name": "stdout",
     "output_type": "stream",
     "text": [
      "Validation pAUC80 not Improved (0.16544)\n",
      "\n"
     ]
    },
    {
     "name": "stderr",
     "output_type": "stream",
     "text": [
      "100%|██████████| 9/9 [00:02<00:00,  3.62it/s, Epoch=48, LR=4.35e-6, Train_Loss=0.0571]\n",
      "100%|██████████| 17/17 [00:02<00:00,  6.73it/s, Epoch=48, LR=4.35e-6, Valid_Loss=0.254]\n"
     ]
    },
    {
     "name": "stdout",
     "output_type": "stream",
     "text": [
      "Validation pAUC80 not Improved (0.16358)\n",
      "\n"
     ]
    },
    {
     "name": "stderr",
     "output_type": "stream",
     "text": [
      "100%|██████████| 9/9 [00:02<00:00,  3.61it/s, Epoch=49, LR=1.04e-6, Train_Loss=0.0474]\n",
      "100%|██████████| 17/17 [00:02<00:00,  6.52it/s, Epoch=49, LR=1.04e-6, Valid_Loss=0.266]\n"
     ]
    },
    {
     "name": "stdout",
     "output_type": "stream",
     "text": [
      "Validation pAUC80 not Improved (0.16539)\n",
      "\n"
     ]
    },
    {
     "name": "stderr",
     "output_type": "stream",
     "text": [
      "100%|██████████| 9/9 [00:02<00:00,  3.59it/s, Epoch=50, LR=1.15e-7, Train_Loss=0.0633]\n",
      "100%|██████████| 17/17 [00:02<00:00,  6.45it/s, Epoch=50, LR=1.15e-7, Valid_Loss=0.294]\n"
     ]
    },
    {
     "name": "stdout",
     "output_type": "stream",
     "text": [
      "Validation pAUC80 not Improved (0.16587)\n",
      "\n",
      "Training complete in 0h 5m 3s\n",
      "Best AUROC: 0.1676\n"
     ]
    },
    {
     "name": "stderr",
     "output_type": "stream",
     "text": [
      "100%|██████████| 548/548 [01:16<00:00,  7.14it/s]\n"
     ]
    },
    {
     "name": "stdout",
     "output_type": "stream",
     "text": [
      "fold4_pAUC (not filtered): 0.1639\n"
     ]
    }
   ],
   "source": [
    "list_score_notFiltered = []\n",
    "list_preds = []\n",
    "for fold in range(CONFIG[\"n_fold\"]):\n",
    "    print(\"===\"*10)\n",
    "    print(f\"fold {fold}\")\n",
    "    print(\"===\"*10)\n",
    "    \n",
    "    df_train = df[df[\"kfold\"]!=fold]\n",
    "    df_val = df[df[\"kfold\"]==fold]\n",
    "\n",
    "    # trainのダウンサンプリング\n",
    "    print(\"●train\")\n",
    "    print(\"original>\", df_train.shape, df_train.target.sum(), df_train[\"patient_id\"].unique().shape)\n",
    "    df_positive = df_train[df_train[\"target\"] == 1].reset_index(drop=True)\n",
    "    df_negative = df_train[df_train[\"target\"] == 0].sample(n=df_positive.shape[0]*20, random_state=0) # ランダムに抽出\n",
    "    df_train = pd.concat([df_positive, df_negative])  # positive:negative = 1:20\n",
    "    del df_positive, df_negative\n",
    "    print(\"filtered>\", df_train.shape, df_train.target.sum(), df_train[\"patient_id\"].unique().shape)\n",
    "    \n",
    "    # valのダウンサンプリング\n",
    "    print(\"●val\")\n",
    "    print(\"original>\", df_val.shape, df_val.target.sum(), df_val[\"patient_id\"].unique().shape)\n",
    "    df_positive = df_val[df_val[\"target\"] == 1].reset_index(drop=True)\n",
    "    df_negative = df_val[df_val[\"target\"] == 0].sample(n=df_positive.shape[0]*20, random_state=0) # ランダムに抽出\n",
    "    df_val = pd.concat([df_positive, df_negative])  # positive:negative = 1:20\n",
    "    del df_positive, df_negative\n",
    "    print(\"filtered>\", df_val.shape, df_val.target.sum(), df_val[\"patient_id\"].unique().shape)\n",
    "    \n",
    "    # いったん全データ結合\n",
    "    df_fold = pd.concat((df_train, df_val)).reset_index(drop=True)\n",
    "    del df_train, df_val\n",
    "    \n",
    "    model = ISICModel(CONFIG['model_name'], pretrained=True)\n",
    "    model.to(CONFIG['device']);\n",
    "    \n",
    "    # 最後のfoldだけ勾配を記録する うまく行ってるのかよくわからん\n",
    "#     if fold==4 and WANDB:\n",
    "#         wandb.watch(model, log=\"all\", log_freq=1)\n",
    "    \n",
    "    train_loader, valid_loader = prepare_loaders(df_fold, fold=fold)\n",
    "    # optimizer = optim.AdamW(model.parameters(), lr=CONFIG['learning_rate'], \n",
    "    #                         weight_decay=CONFIG['weight_decay'])\n",
    "    optimizer = optim.Adam(model.parameters(), lr=CONFIG['learning_rate'], \n",
    "                           weight_decay=CONFIG['weight_decay'])\n",
    "    T_max = len(train_loader) * CONFIG[\"epochs\"] - CONFIG[\"warmup_steps\"]\n",
    "    scheduler = fetch_scheduler(optimizer, T_max=T_max)\n",
    "    \n",
    "    model, history = run_training(model, optimizer, scheduler,\n",
    "                                  device=CONFIG['device'],\n",
    "                                  num_epochs=CONFIG['epochs'],\n",
    "                                  fold=fold)\n",
    "    \n",
    "    history = pd.DataFrame.from_dict(history)\n",
    "    history.to_csv(f\"{CONFIG['save_dir']}/history_fold{fold}.csv\", index=False)\n",
    "\n",
    "    #########################\n",
    "    # valの全データでスコア確認\n",
    "    #########################\n",
    "    df_val = df[df[\"kfold\"]==fold]\n",
    "    df_val_pred = df_val[[\"isic_id\", \"kfold\", \"target\"]]\n",
    "    \n",
    "    valid_dataset = ISICDataset(df_val, transforms=data_transforms[\"valid\"])\n",
    "    valid_loader = DataLoader(valid_dataset, batch_size=CONFIG['valid_batch_size'], \n",
    "                              num_workers=2, shuffle=False, pin_memory=True)\n",
    "    \n",
    "    preds = []\n",
    "    with torch.no_grad():\n",
    "        bar = tqdm(enumerate(valid_loader), total=len(valid_loader))\n",
    "        for step, data in bar:        \n",
    "            images = data['image'].to(CONFIG[\"device\"], dtype=torch.float)        \n",
    "            batch_size = images.size(0)\n",
    "            outputs = model(images).squeeze()\n",
    "            preds.extend(outputs.detach().cpu().numpy().flatten())\n",
    "    \n",
    "    df_val_pred[\"preds\"] = preds\n",
    "    list_preds.append(df_val_pred)\n",
    "\n",
    "    # マルチクラス用のpAUC計算\n",
    "    epoch_pauc = comp_score_list(df_val[\"target\"].to_list(), preds)\n",
    "    print(f\"fold{fold}_pAUC (not filtered): {epoch_pauc:.4f}\")\n",
    "    list_score_notFiltered.append(epoch_pauc)\n",
    "    \n",
    "    # 不要なメモリを開放\n",
    "    del model, optimizer, scheduler, train_loader, valid_loader, history\n",
    "    torch.cuda.empty_cache()"
   ]
  },
  {
   "cell_type": "markdown",
   "id": "62360601",
   "metadata": {
    "papermill": {
     "duration": 2.046424,
     "end_time": "2024-08-03T12:31:35.026915",
     "exception": false,
     "start_time": "2024-08-03T12:31:32.980491",
     "status": "completed"
    },
    "tags": []
   },
   "source": [
    "# <span><h1 style = \"font-family: garamond; font-size: 40px; font-style: normal; letter-spcaing: 3px; background-color: #f6f5f5; color :#fe346e; border-radius: 100px 100px; text-align:center\">Logs</h1></span>"
   ]
  },
  {
   "cell_type": "code",
   "execution_count": 27,
   "id": "d5fc75d8",
   "metadata": {
    "execution": {
     "iopub.execute_input": "2024-08-03T12:31:39.064592Z",
     "iopub.status.busy": "2024-08-03T12:31:39.064224Z",
     "iopub.status.idle": "2024-08-03T12:31:39.084141Z",
     "shell.execute_reply": "2024-08-03T12:31:39.083247Z"
    },
    "papermill": {
     "duration": 2.039168,
     "end_time": "2024-08-03T12:31:39.086114",
     "exception": false,
     "start_time": "2024-08-03T12:31:37.046946",
     "status": "completed"
    },
    "tags": []
   },
   "outputs": [
    {
     "data": {
      "text/html": [
       "<div>\n",
       "<style scoped>\n",
       "    .dataframe tbody tr th:only-of-type {\n",
       "        vertical-align: middle;\n",
       "    }\n",
       "\n",
       "    .dataframe tbody tr th {\n",
       "        vertical-align: top;\n",
       "    }\n",
       "\n",
       "    .dataframe thead th {\n",
       "        text-align: right;\n",
       "    }\n",
       "</style>\n",
       "<table border=\"1\" class=\"dataframe\">\n",
       "  <thead>\n",
       "    <tr style=\"text-align: right;\">\n",
       "      <th></th>\n",
       "      <th>Train Loss</th>\n",
       "      <th>Valid Loss</th>\n",
       "      <th>Valid AUROC</th>\n",
       "      <th>lr</th>\n",
       "    </tr>\n",
       "  </thead>\n",
       "  <tbody>\n",
       "    <tr>\n",
       "      <th>0</th>\n",
       "      <td>0.896634</td>\n",
       "      <td>0.431307</td>\n",
       "      <td>0.032667</td>\n",
       "      <td>0.000238</td>\n",
       "    </tr>\n",
       "    <tr>\n",
       "      <th>1</th>\n",
       "      <td>0.699196</td>\n",
       "      <td>0.573187</td>\n",
       "      <td>0.055797</td>\n",
       "      <td>0.000456</td>\n",
       "    </tr>\n",
       "    <tr>\n",
       "      <th>2</th>\n",
       "      <td>0.579850</td>\n",
       "      <td>0.482879</td>\n",
       "      <td>0.066847</td>\n",
       "      <td>0.000673</td>\n",
       "    </tr>\n",
       "    <tr>\n",
       "      <th>3</th>\n",
       "      <td>0.516152</td>\n",
       "      <td>0.485430</td>\n",
       "      <td>0.094960</td>\n",
       "      <td>0.000891</td>\n",
       "    </tr>\n",
       "    <tr>\n",
       "      <th>4</th>\n",
       "      <td>0.524607</td>\n",
       "      <td>0.327751</td>\n",
       "      <td>0.112670</td>\n",
       "      <td>0.000978</td>\n",
       "    </tr>\n",
       "  </tbody>\n",
       "</table>\n",
       "</div>"
      ],
      "text/plain": [
       "   Train Loss  Valid Loss  Valid AUROC        lr\n",
       "0    0.896634    0.431307     0.032667  0.000238\n",
       "1    0.699196    0.573187     0.055797  0.000456\n",
       "2    0.579850    0.482879     0.066847  0.000673\n",
       "3    0.516152    0.485430     0.094960  0.000891\n",
       "4    0.524607    0.327751     0.112670  0.000978"
      ]
     },
     "execution_count": 27,
     "metadata": {},
     "output_type": "execute_result"
    }
   ],
   "source": [
    "history0 = pd.read_csv(f\"{CONFIG['save_dir']}/history_fold0.csv\")\n",
    "history1 = pd.read_csv(f\"{CONFIG['save_dir']}/history_fold1.csv\")\n",
    "history2 = pd.read_csv(f\"{CONFIG['save_dir']}/history_fold2.csv\")\n",
    "history3 = pd.read_csv(f\"{CONFIG['save_dir']}/history_fold3.csv\")\n",
    "history4 = pd.read_csv(f\"{CONFIG['save_dir']}/history_fold4.csv\")\n",
    "\n",
    "list_history = [\n",
    "    history0,\n",
    "    history1,\n",
    "    history2,\n",
    "    history3,\n",
    "    history4\n",
    "]\n",
    "\n",
    "history0.head()"
   ]
  },
  {
   "cell_type": "code",
   "execution_count": 28,
   "id": "07eebad7",
   "metadata": {
    "execution": {
     "iopub.execute_input": "2024-08-03T12:31:43.123350Z",
     "iopub.status.busy": "2024-08-03T12:31:43.122985Z",
     "iopub.status.idle": "2024-08-03T12:31:43.730109Z",
     "shell.execute_reply": "2024-08-03T12:31:43.729211Z"
    },
    "papermill": {
     "duration": 2.611967,
     "end_time": "2024-08-03T12:31:43.732974",
     "exception": false,
     "start_time": "2024-08-03T12:31:41.121007",
     "status": "completed"
    },
    "tags": []
   },
   "outputs": [
    {
     "data": {
      "image/png": "[encoded data removed]",
      "text/plain": [
       "<Figure size 1500x500 with 2 Axes>"
      ]
     },
     "metadata": {},
     "output_type": "display_data"
    }
   ],
   "source": [
    "fig, axes = plt.subplots(1, 2, figsize=(15, 5))  # 1行2列のサブプロットを作成\n",
    "\n",
    "for i, his in enumerate(list_history):\n",
    "    axes[0].plot(his[\"Train Loss\"], label=f\"fold_{i}\")  # 1つ目のサブプロットにTrain Lossを描画\n",
    "    axes[1].plot(his[\"Valid Loss\"], label=f\"fold_{i}\")  # 2つ目のサブプロットにValid Lossを描画\n",
    "\n",
    "axes[0].set_title(\"Learning Curve (Train Loss)\")\n",
    "axes[0].set_ylabel(\"Loss\")\n",
    "axes[0].set_xlabel(\"epochs\")\n",
    "axes[0].legend()\n",
    "axes[0].grid(alpha=0.2)\n",
    "# axes[0].set_ylim([0, 1])\n",
    "\n",
    "axes[1].set_title(\"Learning Curve (Valid Loss)\")\n",
    "axes[1].set_ylabel(\"Loss\")\n",
    "axes[1].set_xlabel(\"epochs\")\n",
    "axes[1].legend()\n",
    "axes[1].grid(alpha=0.2)\n",
    "# axes[1].set_ylim([0, 1])\n",
    "\n",
    "\n",
    "# PillowのImageオブジェクトに変換\n",
    "# img = Image.frombytes('RGB', fig.canvas.get_width_height(), fig.canvas.tostring_rgb())\n",
    "\n",
    "# wandbに記録\n",
    "# wandb.log({\"learning_curve_loss\": wandb.Image(img)})\n",
    "\n",
    "plt.show()"
   ]
  },
  {
   "cell_type": "code",
   "execution_count": 29,
   "id": "744ca6ad",
   "metadata": {
    "execution": {
     "iopub.execute_input": "2024-08-03T12:31:47.691678Z",
     "iopub.status.busy": "2024-08-03T12:31:47.690793Z",
     "iopub.status.idle": "2024-08-03T12:31:48.252804Z",
     "shell.execute_reply": "2024-08-03T12:31:48.251966Z"
    },
    "papermill": {
     "duration": 2.582422,
     "end_time": "2024-08-03T12:31:48.255925",
     "exception": false,
     "start_time": "2024-08-03T12:31:45.673503",
     "status": "completed"
    },
    "tags": []
   },
   "outputs": [
    {
     "data": {
      "image/png": "[encoded data removed]",
      "text/plain": [
       "<Figure size 700x500 with 1 Axes>"
      ]
     },
     "metadata": {},
     "output_type": "display_data"
    }
   ],
   "source": [
    "fig, ax = plt.subplots(figsize=(7, 5))  # 1列のサブプロットを作成\n",
    "\n",
    "for i, his in enumerate(list_history):\n",
    "    ax.plot(his[\"Valid AUROC\"], label=f\"fold_{i}\")  # Valid AUROCのみを描画\n",
    "\n",
    "ax.set_title(\"Learning Curve (Valid pAUC80)\")\n",
    "ax.set_ylabel(\"pAUC80\")\n",
    "ax.set_xlabel(\"epochs\")\n",
    "ax.legend()\n",
    "ax.grid(alpha=0.2)\n",
    "ax.set_ylim([0, 0.2])\n",
    "\n",
    "# PillowのImageオブジェクトに変換\n",
    "# img = Image.frombytes('RGB', fig.canvas.get_width_height(), fig.canvas.tostring_rgb())\n",
    "\n",
    "# # wandbに記録\n",
    "# wandb.log({\"learning_curve_pAUC80\": wandb.Image(img)})\n",
    "\n",
    "plt.show()"
   ]
  },
  {
   "cell_type": "code",
   "execution_count": 30,
   "id": "de0a4831",
   "metadata": {},
   "outputs": [],
   "source": [
    "# data = [[x, y] for (x, y) in zip(range(len(his[\"Valid AUROC\"].values)), his[\"Valid AUROC\"].values)]\n",
    "# table = wandb.Table(data=data, columns=[\"x\", \"y\"])\n",
    "# wandb.log(\n",
    "#     {\n",
    "#         \"learning_curve_pAUC80\": wandb.plot.line(\n",
    "#             table, \"x\", \"y\", title=\"Learning Curve (Valid pAUC80)\"\n",
    "#         )\n",
    "#     }\n",
    "# )"
   ]
  },
  {
   "cell_type": "code",
   "execution_count": 31,
   "id": "3ddfe8b3",
   "metadata": {
    "execution": {
     "iopub.execute_input": "2024-08-03T12:31:52.287731Z",
     "iopub.status.busy": "2024-08-03T12:31:52.287389Z",
     "iopub.status.idle": "2024-08-03T12:31:52.590722Z",
     "shell.execute_reply": "2024-08-03T12:31:52.589875Z"
    },
    "papermill": {
     "duration": 2.331263,
     "end_time": "2024-08-03T12:31:52.592665",
     "exception": false,
     "start_time": "2024-08-03T12:31:50.261402",
     "status": "completed"
    },
    "tags": []
   },
   "outputs": [
    {
     "data": {
      "image/png": "[encoded data removed]",
      "text/plain": [
       "<Figure size 700x500 with 1 Axes>"
      ]
     },
     "metadata": {},
     "output_type": "display_data"
    }
   ],
   "source": [
    "fig, ax = plt.subplots(figsize=(7, 5))\n",
    "ax.grid(alpha=0.2)\n",
    "for i, his in enumerate(list_history):\n",
    "    ax.plot(his[\"lr\"], label=f\"fold_{i}\")  # 1つ目のサブプロットにTrain Lossを描画\n",
    "\n",
    "ax.set_title(\"Learning Rate\")\n",
    "ax.set_ylabel(\"lr\")\n",
    "ax.set_xlabel(\"epochs\")\n",
    "ax.legend()\n",
    "\n",
    "plt.show()"
   ]
  },
  {
   "cell_type": "code",
   "execution_count": 32,
   "id": "f03a29e7",
   "metadata": {},
   "outputs": [],
   "source": [
    "if CONFIG[\"save_preds\"]:\n",
    "    df_pred = pd.concat(list_preds)\n",
    "    df_pred.to_csv(f\"{CONFIG['save_dir']}/df_preds_{EXP_NAME}.csv\", index=False)"
   ]
  },
  {
   "cell_type": "code",
   "execution_count": 33,
   "id": "7fc12965",
   "metadata": {
    "execution": {
     "iopub.execute_input": "2024-08-03T12:31:56.633047Z",
     "iopub.status.busy": "2024-08-03T12:31:56.632181Z",
     "iopub.status.idle": "2024-08-03T12:31:56.647971Z",
     "shell.execute_reply": "2024-08-03T12:31:56.647054Z"
    },
    "papermill": {
     "duration": 1.953919,
     "end_time": "2024-08-03T12:31:56.649765",
     "exception": false,
     "start_time": "2024-08-03T12:31:54.695846",
     "status": "completed"
    },
    "tags": []
   },
   "outputs": [
    {
     "data": {
      "text/html": [
       "<div>\n",
       "<style scoped>\n",
       "    .dataframe tbody tr th:only-of-type {\n",
       "        vertical-align: middle;\n",
       "    }\n",
       "\n",
       "    .dataframe tbody tr th {\n",
       "        vertical-align: top;\n",
       "    }\n",
       "\n",
       "    .dataframe thead th {\n",
       "        text-align: right;\n",
       "    }\n",
       "</style>\n",
       "<table border=\"1\" class=\"dataframe\">\n",
       "  <thead>\n",
       "    <tr style=\"text-align: right;\">\n",
       "      <th></th>\n",
       "      <th>pAUC80</th>\n",
       "      <th>pAUC80_notFiltered</th>\n",
       "    </tr>\n",
       "  </thead>\n",
       "  <tbody>\n",
       "    <tr>\n",
       "      <th>fold_0</th>\n",
       "      <td>0.1254</td>\n",
       "      <td>0.1257</td>\n",
       "    </tr>\n",
       "    <tr>\n",
       "      <th>fold_1</th>\n",
       "      <td>0.1684</td>\n",
       "      <td>0.1662</td>\n",
       "    </tr>\n",
       "    <tr>\n",
       "      <th>fold_2</th>\n",
       "      <td>0.1602</td>\n",
       "      <td>0.1588</td>\n",
       "    </tr>\n",
       "    <tr>\n",
       "      <th>fold_3</th>\n",
       "      <td>0.1491</td>\n",
       "      <td>0.1495</td>\n",
       "    </tr>\n",
       "    <tr>\n",
       "      <th>fold_4</th>\n",
       "      <td>0.1659</td>\n",
       "      <td>0.1639</td>\n",
       "    </tr>\n",
       "    <tr>\n",
       "      <th>mean</th>\n",
       "      <td>0.1538</td>\n",
       "      <td>0.1528</td>\n",
       "    </tr>\n",
       "    <tr>\n",
       "      <th>std</th>\n",
       "      <td>0.0143</td>\n",
       "      <td>0.0134</td>\n",
       "    </tr>\n",
       "  </tbody>\n",
       "</table>\n",
       "</div>"
      ],
      "text/plain": [
       "        pAUC80  pAUC80_notFiltered\n",
       "fold_0  0.1254              0.1257\n",
       "fold_1  0.1684              0.1662\n",
       "fold_2  0.1602              0.1588\n",
       "fold_3  0.1491              0.1495\n",
       "fold_4  0.1659              0.1639\n",
       "mean    0.1538              0.1528\n",
       "std     0.0143              0.0134"
      ]
     },
     "execution_count": 33,
     "metadata": {},
     "output_type": "execute_result"
    }
   ],
   "source": [
    "pd.options.display.precision = 4\n",
    "\n",
    "df_pauc = pd.DataFrame(columns=[\"pAUC80\"])\n",
    "for i, his in enumerate(list_history):\n",
    "    df_pauc.loc[f\"fold_{i}\", \"pAUC80\"] = his[\"Valid AUROC\"].values[-1]\n",
    "\n",
    "df_pauc[\"pAUC80_notFiltered\"] = list_score_notFiltered\n",
    "df_pauc.loc[\"mean\", \"pAUC80_notFiltered\"] = np.mean(df_pauc[\"pAUC80_notFiltered\"])\n",
    "df_pauc.loc[\"std\", \"pAUC80_notFiltered\"] = np.std(df_pauc[\"pAUC80_notFiltered\"])\n",
    "df_pauc.loc[\"mean\", \"pAUC80\"] = np.mean(df_pauc[\"pAUC80\"])\n",
    "df_pauc.loc[\"std\", \"pAUC80\"] = np.std(df_pauc[\"pAUC80\"])\n",
    "df_pauc"
   ]
  },
  {
   "cell_type": "code",
   "execution_count": 34,
   "id": "f078b046",
   "metadata": {
    "execution": {
     "iopub.execute_input": "2024-08-03T12:32:00.693866Z",
     "iopub.status.busy": "2024-08-03T12:32:00.693178Z",
     "iopub.status.idle": "2024-08-03T12:32:07.647772Z",
     "shell.execute_reply": "2024-08-03T12:32:07.647070Z"
    },
    "papermill": {
     "duration": 8.989213,
     "end_time": "2024-08-03T12:32:07.649713",
     "exception": false,
     "start_time": "2024-08-03T12:31:58.660500",
     "status": "completed"
    },
    "tags": []
   },
   "outputs": [
    {
     "data": {
      "application/vnd.jupyter.widget-view+json": {
       "model_id": "750aca1db3d94cad9243a959449256ce",
       "version_major": 2,
       "version_minor": 0
      },
      "text/plain": [
       "VBox(children=(Label(value='0.008 MB of 0.008 MB uploaded\\r'), FloatProgress(value=1.0, max=1.0)))"
      ]
     },
     "metadata": {},
     "output_type": "display_data"
    },
    {
     "data": {
      "text/html": [
       "<style>\n",
       "    table.wandb td:nth-child(1) { padding: 0 10px; text-align: left ; width: auto;} td:nth-child(2) {text-align: left ; width: 100%}\n",
       "    .wandb-row { display: flex; flex-direction: row; flex-wrap: wrap; justify-content: flex-start; width: 100% }\n",
       "    .wandb-col { display: flex; flex-direction: column; flex-basis: 100%; flex: 1; padding: 10px; }\n",
       "    </style>\n",
       "<div class=\"wandb-row\"><div class=\"wandb-col\"><h3>Run history:</h3><br/><table class=\"wandb\"><tr><td>pAUC80_fold0</td><td>▁</td></tr><tr><td>pAUC80_fold1</td><td>▁</td></tr><tr><td>pAUC80_fold2</td><td>▁</td></tr><tr><td>pAUC80_fold3</td><td>▁</td></tr><tr><td>pAUC80_fold4</td><td>▁</td></tr><tr><td>pAUC80_mean</td><td>▁</td></tr></table><br/></div><div class=\"wandb-col\"><h3>Run summary:</h3><br/><table class=\"wandb\"><tr><td>pAUC80_fold0</td><td>0.12541</td></tr><tr><td>pAUC80_fold1</td><td>0.16836</td></tr><tr><td>pAUC80_fold2</td><td>0.16022</td></tr><tr><td>pAUC80_fold3</td><td>0.14906</td></tr><tr><td>pAUC80_fold4</td><td>0.16587</td></tr><tr><td>pAUC80_mean</td><td>0.15378</td></tr></table><br/></div></div>"
      ],
      "text/plain": [
       "<IPython.core.display.HTML object>"
      ]
     },
     "metadata": {},
     "output_type": "display_data"
    },
    {
     "data": {
      "text/html": [
       " View run <strong style=\"color:#cdcd00\">val1_effnetb2_mixup_warmup</strong> at: <a href='https://wandb.ai/trira7503/ISIC2024_images/runs/gnv81yp0' target=\"_blank\">https://wandb.ai/trira7503/ISIC2024_images/runs/gnv81yp0</a><br/> View project at: <a href='https://wandb.ai/trira7503/ISIC2024_images' target=\"_blank\">https://wandb.ai/trira7503/ISIC2024_images</a><br/>Synced 5 W&B file(s), 0 media file(s), 0 artifact file(s) and 0 other file(s)"
      ],
      "text/plain": [
       "<IPython.core.display.HTML object>"
      ]
     },
     "metadata": {},
     "output_type": "display_data"
    },
    {
     "data": {
      "text/html": [
       "Find logs at: <code>./wandb/run-20240824_131317-gnv81yp0/logs</code>"
      ],
      "text/plain": [
       "<IPython.core.display.HTML object>"
      ]
     },
     "metadata": {},
     "output_type": "display_data"
    },
    {
     "data": {
      "text/html": [
       "The new W&B backend becomes opt-out in version 0.18.0; try it out with `wandb.require(\"core\")`! See https://wandb.me/wandb-core for more information."
      ],
      "text/plain": [
       "<IPython.core.display.HTML object>"
      ]
     },
     "metadata": {},
     "output_type": "display_data"
    }
   ],
   "source": [
    "if WANDB:\n",
    "    wandb.log({\"pAUC80_fold0\": df_pauc.loc[\"fold_0\", \"pAUC80\"]})\n",
    "    wandb.log({\"pAUC80_fold1\": df_pauc.loc[\"fold_1\", \"pAUC80\"]})\n",
    "    wandb.log({\"pAUC80_fold2\": df_pauc.loc[\"fold_2\", \"pAUC80\"]})\n",
    "    wandb.log({\"pAUC80_fold3\": df_pauc.loc[\"fold_3\", \"pAUC80\"]})\n",
    "    wandb.log({\"pAUC80_fold4\": df_pauc.loc[\"fold_4\", \"pAUC80\"]})\n",
    "    wandb.log({\"pAUC80_mean\": df_pauc.loc[\"mean\", \"pAUC80\"]})\n",
    "\n",
    "    wandb.finish()"
   ]
  },
  {
   "cell_type": "code",
   "execution_count": 35,
   "id": "ca5a4d27",
   "metadata": {
    "execution": {
     "iopub.execute_input": "2024-08-03T12:32:11.682771Z",
     "iopub.status.busy": "2024-08-03T12:32:11.681932Z",
     "iopub.status.idle": "2024-08-03T12:32:11.686148Z",
     "shell.execute_reply": "2024-08-03T12:32:11.685273Z"
    },
    "papermill": {
     "duration": 2.031107,
     "end_time": "2024-08-03T12:32:11.688087",
     "exception": false,
     "start_time": "2024-08-03T12:32:09.656980",
     "status": "completed"
    },
    "tags": []
   },
   "outputs": [],
   "source": [
    "# wandb.finish()"
   ]
  }
 ],
 "metadata": {
  "kaggle": {
   "accelerator": "gpu",
   "dataSources": [
    {
     "databundleVersionId": 9094797,
     "sourceId": 63056,
     "sourceType": "competition"
    },
    {
     "modelId": 312,
     "modelInstanceId": 2656,
     "sourceId": 3729,
     "sourceType": "modelInstanceVersion"
    }
   ],
   "isGpuEnabled": true,
   "isInternetEnabled": true,
   "language": "python",
   "sourceType": "notebook"
  },
  "kernelspec": {
   "display_name": "Python 3",
   "language": "python",
   "name": "python3"
  },
  "language_info": {
   "codemirror_mode": {
    "name": "ipython",
    "version": 3
   },
   "file_extension": ".py",
   "mimetype": "text/x-python",
   "name": "python",
   "nbconvert_exporter": "python",
   "pygments_lexer": "ipython3",
   "version": "3.10.12"
  },
  "papermill": {
   "default_parameters": {},
   "duration": 3899.537456,
   "end_time": "2024-08-03T12:32:21.533444",
   "environment_variables": {},
   "exception": null,
   "input_path": "__notebook__.ipynb",
   "output_path": "__notebook__.ipynb",
   "parameters": {},
   "start_time": "2024-08-03T11:27:21.995988",
   "version": "2.5.0"
  },
  "widgets": {
   "application/vnd.jupyter.widget-state+json": {
    "state": {
     "01955731ce0a4145820f7e5314bda573": {
      "model_module": "@jupyter-widgets/controls",
      "model_module_version": "1.5.0",
      "model_name": "DescriptionStyleModel",
      "state": {
       "_model_module": "@jupyter-widgets/controls",
       "_model_module_version": "1.5.0",
       "_model_name": "DescriptionStyleModel",
       "_view_count": null,
       "_view_module": "@jupyter-widgets/base",
       "_view_module_version": "1.2.0",
       "_view_name": "StyleView",
       "description_width": ""
      }
     },
     "0a6edeed0a0f4523b95ce9b8414dd124": {
      "model_module": "@jupyter-widgets/controls",
      "model_module_version": "1.5.0",
      "model_name": "HTMLModel",
      "state": {
       "_dom_classes": [],
       "_model_module": "@jupyter-widgets/controls",
       "_model_module_version": "1.5.0",
       "_model_name": "HTMLModel",
       "_view_count": null,
       "_view_module": "@jupyter-widgets/controls",
       "_view_module_version": "1.5.0",
       "_view_name": "HTMLView",
       "description": "",
       "description_tooltip": null,
       "layout": "IPY_MODEL_c078f8b3f54d44d1ba4f55e0abee593c",
       "placeholder": "​",
       "style": "IPY_MODEL_01955731ce0a4145820f7e5314bda573",
       "value": "model.safetensors: 100%"
      }
     },
     "3872e74bfc1a4da2bcc871a9a3c7b366": {
      "model_module": "@jupyter-widgets/controls",
      "model_module_version": "1.5.0",
      "model_name": "FloatProgressModel",
      "state": {
       "_dom_classes": [],
       "_model_module": "@jupyter-widgets/controls",
       "_model_module_version": "1.5.0",
       "_model_name": "FloatProgressModel",
       "_view_count": null,
       "_view_module": "@jupyter-widgets/controls",
       "_view_module_version": "1.5.0",
       "_view_name": "ProgressView",
       "bar_style": "success",
       "description": "",
       "description_tooltip": null,
       "layout": "IPY_MODEL_ee121baa37c04a78ac880ef46d5f2567",
       "max": 21355344,
       "min": 0,
       "orientation": "horizontal",
       "style": "IPY_MODEL_de6cd1dd72c44157a9b1bf360752f134",
       "value": 21355344
      }
     },
     "4671fd1e411b4e109f5dbf6c3d4b2bdc": {
      "model_module": "@jupyter-widgets/base",
      "model_module_version": "1.2.0",
      "model_name": "LayoutModel",
      "state": {
       "_model_module": "@jupyter-widgets/base",
       "_model_module_version": "1.2.0",
       "_model_name": "LayoutModel",
       "_view_count": null,
       "_view_module": "@jupyter-widgets/base",
       "_view_module_version": "1.2.0",
       "_view_name": "LayoutView",
       "align_content": null,
       "align_items": null,
       "align_self": null,
       "border": null,
       "bottom": null,
       "display": null,
       "flex": null,
       "flex_flow": null,
       "grid_area": null,
       "grid_auto_columns": null,
       "grid_auto_flow": null,
       "grid_auto_rows": null,
       "grid_column": null,
       "grid_gap": null,
       "grid_row": null,
       "grid_template_areas": null,
       "grid_template_columns": null,
       "grid_template_rows": null,
       "height": null,
       "justify_content": null,
       "justify_items": null,
       "left": null,
       "margin": null,
       "max_height": null,
       "max_width": null,
       "min_height": null,
       "min_width": null,
       "object_fit": null,
       "object_position": null,
       "order": null,
       "overflow": null,
       "overflow_x": null,
       "overflow_y": null,
       "padding": null,
       "right": null,
       "top": null,
       "visibility": null,
       "width": null
      }
     },
     "b3dd3ee3a65d4ff28540603be012cb38": {
      "model_module": "@jupyter-widgets/controls",
      "model_module_version": "1.5.0",
      "model_name": "DescriptionStyleModel",
      "state": {
       "_model_module": "@jupyter-widgets/controls",
       "_model_module_version": "1.5.0",
       "_model_name": "DescriptionStyleModel",
       "_view_count": null,
       "_view_module": "@jupyter-widgets/base",
       "_view_module_version": "1.2.0",
       "_view_name": "StyleView",
       "description_width": ""
      }
     },
     "c078f8b3f54d44d1ba4f55e0abee593c": {
      "model_module": "@jupyter-widgets/base",
      "model_module_version": "1.2.0",
      "model_name": "LayoutModel",
      "state": {
       "_model_module": "@jupyter-widgets/base",
       "_model_module_version": "1.2.0",
       "_model_name": "LayoutModel",
       "_view_count": null,
       "_view_module": "@jupyter-widgets/base",
       "_view_module_version": "1.2.0",
       "_view_name": "LayoutView",
       "align_content": null,
       "align_items": null,
       "align_self": null,
       "border": null,
       "bottom": null,
       "display": null,
       "flex": null,
       "flex_flow": null,
       "grid_area": null,
       "grid_auto_columns": null,
       "grid_auto_flow": null,
       "grid_auto_rows": null,
       "grid_column": null,
       "grid_gap": null,
       "grid_row": null,
       "grid_template_areas": null,
       "grid_template_columns": null,
       "grid_template_rows": null,
       "height": null,
       "justify_content": null,
       "justify_items": null,
       "left": null,
       "margin": null,
       "max_height": null,
       "max_width": null,
       "min_height": null,
       "min_width": null,
       "object_fit": null,
       "object_position": null,
       "order": null,
       "overflow": null,
       "overflow_x": null,
       "overflow_y": null,
       "padding": null,
       "right": null,
       "top": null,
       "visibility": null,
       "width": null
      }
     },
     "cbdde796332549c3873d4c27de89feca": {
      "model_module": "@jupyter-widgets/base",
      "model_module_version": "1.2.0",
      "model_name": "LayoutModel",
      "state": {
       "_model_module": "@jupyter-widgets/base",
       "_model_module_version": "1.2.0",
       "_model_name": "LayoutModel",
       "_view_count": null,
       "_view_module": "@jupyter-widgets/base",
       "_view_module_version": "1.2.0",
       "_view_name": "LayoutView",
       "align_content": null,
       "align_items": null,
       "align_self": null,
       "border": null,
       "bottom": null,
       "display": null,
       "flex": null,
       "flex_flow": null,
       "grid_area": null,
       "grid_auto_columns": null,
       "grid_auto_flow": null,
       "grid_auto_rows": null,
       "grid_column": null,
       "grid_gap": null,
       "grid_row": null,
       "grid_template_areas": null,
       "grid_template_columns": null,
       "grid_template_rows": null,
       "height": null,
       "justify_content": null,
       "justify_items": null,
       "left": null,
       "margin": null,
       "max_height": null,
       "max_width": null,
       "min_height": null,
       "min_width": null,
       "object_fit": null,
       "object_position": null,
       "order": null,
       "overflow": null,
       "overflow_x": null,
       "overflow_y": null,
       "padding": null,
       "right": null,
       "top": null,
       "visibility": null,
       "width": null
      }
     },
     "de6cd1dd72c44157a9b1bf360752f134": {
      "model_module": "@jupyter-widgets/controls",
      "model_module_version": "1.5.0",
      "model_name": "ProgressStyleModel",
      "state": {
       "_model_module": "@jupyter-widgets/controls",
       "_model_module_version": "1.5.0",
       "_model_name": "ProgressStyleModel",
       "_view_count": null,
       "_view_module": "@jupyter-widgets/base",
       "_view_module_version": "1.2.0",
       "_view_name": "StyleView",
       "bar_color": null,
       "description_width": ""
      }
     },
     "ee121baa37c04a78ac880ef46d5f2567": {
      "model_module": "@jupyter-widgets/base",
      "model_module_version": "1.2.0",
      "model_name": "LayoutModel",
      "state": {
       "_model_module": "@jupyter-widgets/base",
       "_model_module_version": "1.2.0",
       "_model_name": "LayoutModel",
       "_view_count": null,
       "_view_module": "@jupyter-widgets/base",
       "_view_module_version": "1.2.0",
       "_view_name": "LayoutView",
       "align_content": null,
       "align_items": null,
       "align_self": null,
       "border": null,
       "bottom": null,
       "display": null,
       "flex": null,
       "flex_flow": null,
       "grid_area": null,
       "grid_auto_columns": null,
       "grid_auto_flow": null,
       "grid_auto_rows": null,
       "grid_column": null,
       "grid_gap": null,
       "grid_row": null,
       "grid_template_areas": null,
       "grid_template_columns": null,
       "grid_template_rows": null,
       "height": null,
       "justify_content": null,
       "justify_items": null,
       "left": null,
       "margin": null,
       "max_height": null,
       "max_width": null,
       "min_height": null,
       "min_width": null,
       "object_fit": null,
       "object_position": null,
       "order": null,
       "overflow": null,
       "overflow_x": null,
       "overflow_y": null,
       "padding": null,
       "right": null,
       "top": null,
       "visibility": null,
       "width": null
      }
     },
     "f05b1c9300e8444387feae26fb5e35ca": {
      "model_module": "@jupyter-widgets/controls",
      "model_module_version": "1.5.0",
      "model_name": "HBoxModel",
      "state": {
       "_dom_classes": [],
       "_model_module": "@jupyter-widgets/controls",
       "_model_module_version": "1.5.0",
       "_model_name": "HBoxModel",
       "_view_count": null,
       "_view_module": "@jupyter-widgets/controls",
       "_view_module_version": "1.5.0",
       "_view_name": "HBoxView",
       "box_style": "",
       "children": [
        "IPY_MODEL_0a6edeed0a0f4523b95ce9b8414dd124",
        "IPY_MODEL_3872e74bfc1a4da2bcc871a9a3c7b366",
        "IPY_MODEL_f66e046f739440aeb3ceb3daa9565dc6"
       ],
       "layout": "IPY_MODEL_cbdde796332549c3873d4c27de89feca"
      }
     },
     "f66e046f739440aeb3ceb3daa9565dc6": {
      "model_module": "@jupyter-widgets/controls",
      "model_module_version": "1.5.0",
      "model_name": "HTMLModel",
      "state": {
       "_dom_classes": [],
       "_model_module": "@jupyter-widgets/controls",
       "_model_module_version": "1.5.0",
       "_model_name": "HTMLModel",
       "_view_count": null,
       "_view_module": "@jupyter-widgets/controls",
       "_view_module_version": "1.5.0",
       "_view_name": "HTMLView",
       "description": "",
       "description_tooltip": null,
       "layout": "IPY_MODEL_4671fd1e411b4e109f5dbf6c3d4b2bdc",
       "placeholder": "​",
       "style": "IPY_MODEL_b3dd3ee3a65d4ff28540603be012cb38",
       "value": " 21.4M/21.4M [00:00&lt;00:00, 69.5MB/s]"
      }
     }
    },
    "version_major": 2,
    "version_minor": 0
   }
  }
 },
 "nbformat": 4,
 "nbformat_minor": 5
}
