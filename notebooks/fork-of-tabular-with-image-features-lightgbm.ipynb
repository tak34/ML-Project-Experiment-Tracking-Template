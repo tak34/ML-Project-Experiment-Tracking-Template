{
 "cells": [
  {
   "cell_type": "markdown",
   "id": "ef463e9e",
   "metadata": {
    "papermill": {
     "duration": 0.013206,
     "end_time": "2024-08-16T05:22:02.594597",
     "exception": false,
     "start_time": "2024-08-16T05:22:02.581391",
     "status": "completed"
    },
    "tags": []
   },
   "source": [
    "This notebook is copied from https://www.kaggle.com/code/merfarukelik/tabular-with-image-features \n",
    "\n",
    "Models:\n",
    "- eva02 and efficientnetv1b0 (https://www.kaggle.com/code/motono0223/isic-tabular-model-image-model-features)\n",
    "- target_3 (https://www.kaggle.com/code/snnclsr/tabular-ensemble-lgbm-catboost\n",
    "\n",
    "\n"
   ]
  },
  {
   "cell_type": "markdown",
   "id": "2ba60177",
   "metadata": {
    "papermill": {
     "duration": 0.012246,
     "end_time": "2024-08-16T05:22:02.619590",
     "exception": false,
     "start_time": "2024-08-16T05:22:02.607344",
     "status": "completed"
    },
    "tags": []
   },
   "source": [
    "# IMPORT LIBRARIES"
   ]
  },
  {
   "cell_type": "code",
   "execution_count": 1,
   "id": "fd4e0f6f",
   "metadata": {
    "execution": {
     "iopub.execute_input": "2024-08-16T05:22:02.646140Z",
     "iopub.status.busy": "2024-08-16T05:22:02.645781Z",
     "iopub.status.idle": "2024-08-16T05:22:08.565832Z",
     "shell.execute_reply": "2024-08-16T05:22:08.564908Z"
    },
    "papermill": {
     "duration": 5.936191,
     "end_time": "2024-08-16T05:22:08.568286",
     "exception": false,
     "start_time": "2024-08-16T05:22:02.632095",
     "status": "completed"
    },
    "tags": []
   },
   "outputs": [],
   "source": [
    "import os\n",
    "from pathlib import Path\n",
    "\n",
    "import numpy as np\n",
    "import pandas as pd\n",
    "import polars as pl\n",
    "\n",
    "from sklearn.model_selection import StratifiedGroupKFold\n",
    "from sklearn.model_selection import cross_val_score\n",
    "from sklearn.preprocessing import OneHotEncoder\n",
    "from sklearn.metrics import roc_auc_score\n",
    "from sklearn.ensemble import VotingClassifier\n",
    "\n",
    "from imblearn.under_sampling import RandomUnderSampler\n",
    "from imblearn.pipeline import Pipeline\n",
    "from imblearn.over_sampling import RandomOverSampler\n",
    "\n",
    "\n",
    "import lightgbm as lgb\n",
    "import catboost as cb\n",
    "import xgboost as xgb\n",
    "\n",
    "import optuna\n",
    "from optuna.samplers import TPESampler\n",
    "\n",
    "#downsampling techniques\n",
    "# they took long time, so we use RandomUnderSampler\n",
    "from imblearn.under_sampling import NearMiss\n",
    "from imblearn.under_sampling import ClusterCentroids\n",
    "from imblearn.under_sampling import TomekLinks\n",
    "from imblearn.under_sampling import EditedNearestNeighbours\n",
    "from imblearn.pipeline import Pipeline as ImbPipeline\n",
    "from imblearn.under_sampling import NearMiss, TomekLinks\n",
    "from sklearn.impute import SimpleImputer\n",
    "\n",
    "import time\n",
    "from sklearn.feature_selection import SelectKBest, chi2, mutual_info_classif, VarianceThreshold\n",
    "\n",
    "\n"
   ]
  },
  {
   "cell_type": "markdown",
   "id": "a61eb438",
   "metadata": {
    "papermill": {
     "duration": 0.012254,
     "end_time": "2024-08-16T05:22:08.594593",
     "exception": false,
     "start_time": "2024-08-16T05:22:08.582339",
     "status": "completed"
    },
    "tags": []
   },
   "source": [
    "# IMAGE PREDICTIONS"
   ]
  },
  {
   "cell_type": "code",
   "execution_count": 2,
   "id": "b0b3f4eb",
   "metadata": {
    "execution": {
     "iopub.execute_input": "2024-08-16T05:22:08.621385Z",
     "iopub.status.busy": "2024-08-16T05:22:08.620332Z",
     "iopub.status.idle": "2024-08-16T05:22:21.880618Z",
     "shell.execute_reply": "2024-08-16T05:22:21.879292Z"
    },
    "papermill": {
     "duration": 13.276311,
     "end_time": "2024-08-16T05:22:21.883207",
     "exception": false,
     "start_time": "2024-08-16T05:22:08.606896",
     "status": "completed"
    },
    "tags": []
   },
   "outputs": [
    {
     "name": "stdout",
     "output_type": "stream",
     "text": [
      "BEST_WEIGHT = /kaggle/input/images-val4-mixup-effnetb0/training_allData/model_allData_epoch60.bin\r\n",
      "100%|█████████████████████████████████████████████| 1/1 [00:01<00:00,  1.08s/it]\r\n"
     ]
    }
   ],
   "source": [
    "#EFFNET V1B0\n",
    "!python /kaggle/input/isic-script-inference-val3-3-effnetv1b0/main.py /kaggle/input/images-val4-mixup-effnetb0/training_allData/model_allData_epoch60.bin\n",
    "!mv submission.csv submission_effnetv1b0.csv"
   ]
  },
  {
   "cell_type": "code",
   "execution_count": 3,
   "id": "ce7076e7",
   "metadata": {
    "execution": {
     "iopub.execute_input": "2024-08-16T05:22:21.911005Z",
     "iopub.status.busy": "2024-08-16T05:22:21.910671Z",
     "iopub.status.idle": "2024-08-16T05:22:21.914965Z",
     "shell.execute_reply": "2024-08-16T05:22:21.914122Z"
    },
    "papermill": {
     "duration": 0.020352,
     "end_time": "2024-08-16T05:22:21.916816",
     "exception": false,
     "start_time": "2024-08-16T05:22:21.896464",
     "status": "completed"
    },
    "tags": []
   },
   "outputs": [],
   "source": [
    "#TARGET 3\n",
    "# !python /kaggle/input/isic-2024-pl-submission-script-and-preds/pl_submission.py\n",
    "# !mv submission.csv submission_image3.csv"
   ]
  },
  {
   "cell_type": "code",
   "execution_count": 4,
   "id": "c830e6d8",
   "metadata": {
    "execution": {
     "iopub.execute_input": "2024-08-16T05:22:21.943241Z",
     "iopub.status.busy": "2024-08-16T05:22:21.942993Z",
     "iopub.status.idle": "2024-08-16T05:22:32.227492Z",
     "shell.execute_reply": "2024-08-16T05:22:32.226280Z"
    },
    "papermill": {
     "duration": 10.3004,
     "end_time": "2024-08-16T05:22:32.229906",
     "exception": false,
     "start_time": "2024-08-16T05:22:21.929506",
     "status": "completed"
    },
    "tags": []
   },
   "outputs": [
    {
     "name": "stdout",
     "output_type": "stream",
     "text": [
      "BEST_WEIGHT = /kaggle/input/images-val1-eva02/training_allData/model_allData_epoch20.bin\r\n",
      "100%|█████████████████████████████████████████████| 1/1 [00:00<00:00,  1.73it/s]\r\n"
     ]
    }
   ],
   "source": [
    "#EVA02\n",
    "!python /kaggle/input/isic-script-inference-eva02/main.py /kaggle/input/images-val1-eva02/training_allData/model_allData_epoch20.bin\n",
    "!mv submission.csv submission_eva02.csv"
   ]
  },
  {
   "cell_type": "markdown",
   "id": "3278299e",
   "metadata": {
    "papermill": {
     "duration": 0.013032,
     "end_time": "2024-08-16T05:22:32.256308",
     "exception": false,
     "start_time": "2024-08-16T05:22:32.243276",
     "status": "completed"
    },
    "tags": []
   },
   "source": [
    "# DATA PREPROCESS"
   ]
  },
  {
   "cell_type": "code",
   "execution_count": 5,
   "id": "401488d6",
   "metadata": {
    "execution": {
     "iopub.execute_input": "2024-08-16T05:22:32.284778Z",
     "iopub.status.busy": "2024-08-16T05:22:32.284421Z",
     "iopub.status.idle": "2024-08-16T05:22:32.301047Z",
     "shell.execute_reply": "2024-08-16T05:22:32.300019Z"
    },
    "papermill": {
     "duration": 0.033654,
     "end_time": "2024-08-16T05:22:32.302995",
     "exception": false,
     "start_time": "2024-08-16T05:22:32.269341",
     "status": "completed"
    },
    "tags": []
   },
   "outputs": [],
   "source": [
    "root = Path('/kaggle/input/isic-2024-challenge')\n",
    "\n",
    "train_path = root / 'train-metadata.csv'\n",
    "test_path = root / 'test-metadata.csv'\n",
    "subm_path = root / 'sample_submission.csv'\n",
    "\n",
    "id_col = 'isic_id'\n",
    "target_col = 'target'\n",
    "group_col = 'patient_id'\n",
    "\n",
    "err = 1e-5\n",
    "sampling_ratio = 0.01\n",
    "seed = 42\n",
    "\n",
    "num_cols = [\n",
    "    'age_approx',                        # Approximate age of patient at time of imaging.\n",
    "    'clin_size_long_diam_mm',            # Maximum diameter of the lesion (mm).+\n",
    "    'tbp_lv_A',                          # A inside  lesion.+\n",
    "    'tbp_lv_Aext',                       # A outside lesion.+\n",
    "    'tbp_lv_B',                          # B inside  lesion.+\n",
    "    'tbp_lv_Bext',                       # B outside lesion.+ \n",
    "    'tbp_lv_C',                          # Chroma inside  lesion.+\n",
    "    'tbp_lv_Cext',                       # Chroma outside lesion.+\n",
    "    'tbp_lv_H',                          # Hue inside the lesion; calculated as the angle of A* and B* in LAB* color space. Typical values range from 25 (red) to 75 (brown).+\n",
    "    'tbp_lv_Hext',                       # Hue outside lesion.+\n",
    "    'tbp_lv_L',                          # L inside lesion.+\n",
    "    'tbp_lv_Lext',                       # L outside lesion.+\n",
    "    'tbp_lv_areaMM2',                    # Area of lesion (mm^2).+\n",
    "    'tbp_lv_area_perim_ratio',           # Border jaggedness, the ratio between lesions perimeter and area. Circular lesions will have low values; irregular shaped lesions will have higher values. Values range 0-10.+\n",
    "    'tbp_lv_color_std_mean',             # Color irregularity, calculated as the variance of colors within the lesion's boundary.\n",
    "    'tbp_lv_deltaA',                     # Average A contrast (inside vs. outside lesion).+\n",
    "    'tbp_lv_deltaB',                     # Average B contrast (inside vs. outside lesion).+\n",
    "    'tbp_lv_deltaL',                     # Average L contrast (inside vs. outside lesion).+\n",
    "    'tbp_lv_deltaLB',                    #\n",
    "    'tbp_lv_deltaLBnorm',                # Contrast between the lesion and its immediate surrounding skin. Low contrast lesions tend to be faintly visible such as freckles; high contrast lesions tend to be those with darker pigment. Calculated as the average delta LB of the lesion relative to its immediate background in LAB* color space. Typical values range from 5.5 to 25.+\n",
    "    'tbp_lv_eccentricity',               # Eccentricity.+\n",
    "    'tbp_lv_minorAxisMM',                # Smallest lesion diameter (mm).+\n",
    "    'tbp_lv_nevi_confidence',            # Nevus confidence score (0-100 scale) is a convolutional neural network classifier estimated probability that the lesion is a nevus. The neural network was trained on approximately 57,000 lesions that were classified and labeled by a dermatologist.+,++\n",
    "    'tbp_lv_norm_border',                # Border irregularity (0-10 scale); the normalized average of border jaggedness and asymmetry.+\n",
    "    'tbp_lv_norm_color',                 # Color variation (0-10 scale); the normalized average of color asymmetry and color irregularity.+\n",
    "    'tbp_lv_perimeterMM',                # Perimeter of lesion (mm).+\n",
    "    'tbp_lv_radial_color_std_max',       # Color asymmetry, a measure of asymmetry of the spatial distribution of color within the lesion. This score is calculated by looking at the average standard deviation in LAB* color space within concentric rings originating from the lesion center. Values range 0-10.+\n",
    "    'tbp_lv_stdL',                       # Standard deviation of L inside  lesion.+\n",
    "    'tbp_lv_stdLExt',                    # Standard deviation of L outside lesion.+\n",
    "    'tbp_lv_symm_2axis',                 # Border asymmetry; a measure of asymmetry of the lesion's contour about an axis perpendicular to the lesion's most symmetric axis. Lesions with two axes of symmetry will therefore have low scores (more symmetric), while lesions with only one or zero axes of symmetry will have higher scores (less symmetric). This score is calculated by comparing opposite halves of the lesion contour over many degrees of rotation. The angle where the halves are most similar identifies the principal axis of symmetry, while the second axis of symmetry is perpendicular to the principal axis. Border asymmetry is reported as the asymmetry value about this second axis. Values range 0-10.+\n",
    "    'tbp_lv_symm_2axis_angle',           # Lesion border asymmetry angle.+\n",
    "    'tbp_lv_x',                          # X-coordinate of the lesion on 3D TBP.+\n",
    "    'tbp_lv_y',                          # Y-coordinate of the lesion on 3D TBP.+\n",
    "    'tbp_lv_z',                          # Z-coordinate of the lesion on 3D TBP.+\n",
    "]\n",
    "\n",
    "new_num_cols = [\n",
    "    'lesion_size_ratio',             # tbp_lv_minorAxisMM      / clin_size_long_diam_mm\n",
    "    'lesion_shape_index',            # tbp_lv_areaMM2          / tbp_lv_perimeterMM **2\n",
    "    'hue_contrast',                  # tbp_lv_H                - tbp_lv_Hext              abs\n",
    "    'luminance_contrast',            # tbp_lv_L                - tbp_lv_Lext              abs\n",
    "    'lesion_color_difference',       # tbp_lv_deltaA **2       + tbp_lv_deltaB **2 + tbp_lv_deltaL **2  sqrt  \n",
    "    'border_complexity',             # tbp_lv_norm_border      + tbp_lv_symm_2axis\n",
    "    'color_uniformity',              # tbp_lv_color_std_mean   / tbp_lv_radial_color_std_max\n",
    "\n",
    "    'position_distance_3d',          # tbp_lv_x **2 + tbp_lv_y **2 + tbp_lv_z **2  sqrt\n",
    "    'perimeter_to_area_ratio',       # tbp_lv_perimeterMM      / tbp_lv_areaMM2\n",
    "    'area_to_perimeter_ratio',       # tbp_lv_areaMM2          / tbp_lv_perimeterMM\n",
    "    'lesion_visibility_score',       # tbp_lv_deltaLBnorm      + tbp_lv_norm_color\n",
    "    'symmetry_border_consistency',   # tbp_lv_symm_2axis       * tbp_lv_norm_border\n",
    "    'consistency_symmetry_border',   # tbp_lv_symm_2axis       * tbp_lv_norm_border / (tbp_lv_symm_2axis + tbp_lv_norm_border)\n",
    "\n",
    "    'color_consistency',             # tbp_lv_stdL             / tbp_lv_Lext\n",
    "    'consistency_color',             # tbp_lv_stdL*tbp_lv_Lext / tbp_lv_stdL + tbp_lv_Lext\n",
    "    'size_age_interaction',          # clin_size_long_diam_mm  * age_approx\n",
    "    'hue_color_std_interaction',     # tbp_lv_H                * tbp_lv_color_std_mean\n",
    "    'lesion_severity_index',         # tbp_lv_norm_border      + tbp_lv_norm_color + tbp_lv_eccentricity / 3\n",
    "    'shape_complexity_index',        # border_complexity       + lesion_shape_index\n",
    "    'color_contrast_index',          # tbp_lv_deltaA + tbp_lv_deltaB + tbp_lv_deltaL + tbp_lv_deltaLBnorm\n",
    "\n",
    "    'log_lesion_area',               # tbp_lv_areaMM2          + 1  np.log\n",
    "    'normalized_lesion_size',        # clin_size_long_diam_mm  / age_approx\n",
    "    'mean_hue_difference',           # tbp_lv_H                + tbp_lv_Hext    / 2\n",
    "    'std_dev_contrast',              # tbp_lv_deltaA **2 + tbp_lv_deltaB **2 + tbp_lv_deltaL **2   / 3  np.sqrt\n",
    "    'color_shape_composite_index',   # tbp_lv_color_std_mean   + bp_lv_area_perim_ratio + tbp_lv_symm_2axis   / 3\n",
    "    'lesion_orientation_3d',         # tbp_lv_y                , tbp_lv_x  np.arctan2\n",
    "    'overall_color_difference',      # tbp_lv_deltaA           + tbp_lv_deltaB + tbp_lv_deltaL   / 3\n",
    "\n",
    "    'symmetry_perimeter_interaction',# tbp_lv_symm_2axis       * tbp_lv_perimeterMM\n",
    "    'comprehensive_lesion_index',    # tbp_lv_area_perim_ratio + tbp_lv_eccentricity + bp_lv_norm_color + tbp_lv_symm_2axis   / 4\n",
    "    'color_variance_ratio',          # tbp_lv_color_std_mean   / tbp_lv_stdLExt\n",
    "    'border_color_interaction',      # tbp_lv_norm_border      * tbp_lv_norm_color\n",
    "    'border_color_interaction_2',\n",
    "    'size_color_contrast_ratio',     # clin_size_long_diam_mm  / tbp_lv_deltaLBnorm\n",
    "    'age_normalized_nevi_confidence',# tbp_lv_nevi_confidence  / age_approx\n",
    "    'age_normalized_nevi_confidence_2',\n",
    "    'color_asymmetry_index',         # tbp_lv_symm_2axis       * tbp_lv_radial_color_std_max\n",
    "\n",
    "    'volume_approximation_3d',       # tbp_lv_areaMM2          * sqrt(tbp_lv_x**2 + tbp_lv_y**2 + tbp_lv_z**2)\n",
    "    'color_range',                   # abs(tbp_lv_L - tbp_lv_Lext) + abs(tbp_lv_A - tbp_lv_Aext) + abs(tbp_lv_B - tbp_lv_Bext)\n",
    "    'shape_color_consistency',       # tbp_lv_eccentricity     * tbp_lv_color_std_mean\n",
    "    'border_length_ratio',           # tbp_lv_perimeterMM      / pi * sqrt(tbp_lv_areaMM2 / pi)\n",
    "    'age_size_symmetry_index',       # age_approx              * clin_size_long_diam_mm * tbp_lv_symm_2axis\n",
    "    'index_age_size_symmetry',       # age_approx              * tbp_lv_areaMM2 * tbp_lv_symm_2axis\n",
    "]\n",
    "\n",
    "cat_cols = ['sex', 'anatom_site_general', 'tbp_tile_type', 'tbp_lv_location', 'tbp_lv_location_simple', 'attribution']\n",
    "norm_cols = [f'{col}_patient_norm' for col in num_cols + new_num_cols]\n",
    "special_cols = ['count_per_patient']\n",
    "image_cols = [\"target_effnetv1b0\",\"target_eva02\"]\n",
    "#image_cols = [\"target_3\",\"target_effnetv1b0\"]\n",
    "\n",
    "#norm_cols += image_cols\n",
    "feature_cols = num_cols + new_num_cols + cat_cols + norm_cols"
   ]
  },
  {
   "cell_type": "code",
   "execution_count": 6,
   "id": "fc77f9a6",
   "metadata": {
    "execution": {
     "iopub.execute_input": "2024-08-16T05:22:32.331821Z",
     "iopub.status.busy": "2024-08-16T05:22:32.331514Z",
     "iopub.status.idle": "2024-08-16T05:22:32.359675Z",
     "shell.execute_reply": "2024-08-16T05:22:32.358877Z"
    },
    "papermill": {
     "duration": 0.044919,
     "end_time": "2024-08-16T05:22:32.361664",
     "exception": false,
     "start_time": "2024-08-16T05:22:32.316745",
     "status": "completed"
    },
    "tags": []
   },
   "outputs": [],
   "source": [
    "def read_data(path):\n",
    "    return (\n",
    "        pl.read_csv(path)\n",
    "        .with_columns(\n",
    "            pl.col('age_approx').cast(pl.String).replace('NA', np.nan).cast(pl.Float64),\n",
    "        )\n",
    "        .with_columns(\n",
    "            pl.col(pl.Float64).fill_nan(pl.col(pl.Float64).median()), # You may want to impute test data with train\n",
    "        )\n",
    "        .with_columns(\n",
    "            lesion_size_ratio              = pl.col('tbp_lv_minorAxisMM') / pl.col('clin_size_long_diam_mm'),\n",
    "            lesion_shape_index             = pl.col('tbp_lv_areaMM2') / (pl.col('tbp_lv_perimeterMM') ** 2),\n",
    "            hue_contrast                   = (pl.col('tbp_lv_H') - pl.col('tbp_lv_Hext')).abs(),\n",
    "            luminance_contrast             = (pl.col('tbp_lv_L') - pl.col('tbp_lv_Lext')).abs(),\n",
    "            lesion_color_difference        = (pl.col('tbp_lv_deltaA') ** 2 + pl.col('tbp_lv_deltaB') ** 2 + pl.col('tbp_lv_deltaL') ** 2).sqrt(),\n",
    "            border_complexity              = pl.col('tbp_lv_norm_border') + pl.col('tbp_lv_symm_2axis'),\n",
    "            color_uniformity               = pl.col('tbp_lv_color_std_mean') / (pl.col('tbp_lv_radial_color_std_max') + err),\n",
    "        )\n",
    "        .with_columns(\n",
    "            position_distance_3d           = (pl.col('tbp_lv_x') ** 2 + pl.col('tbp_lv_y') ** 2 + pl.col('tbp_lv_z') ** 2).sqrt(),\n",
    "            perimeter_to_area_ratio        = pl.col('tbp_lv_perimeterMM') / pl.col('tbp_lv_areaMM2'),\n",
    "            area_to_perimeter_ratio        = pl.col('tbp_lv_areaMM2') / pl.col('tbp_lv_perimeterMM'),\n",
    "            lesion_visibility_score        = pl.col('tbp_lv_deltaLBnorm') + pl.col('tbp_lv_norm_color'),\n",
    "            combined_anatomical_site       = pl.col('anatom_site_general') + '_' + pl.col('tbp_lv_location'),\n",
    "            symmetry_border_consistency    = pl.col('tbp_lv_symm_2axis') * pl.col('tbp_lv_norm_border'),\n",
    "            consistency_symmetry_border    = pl.col('tbp_lv_symm_2axis') * pl.col('tbp_lv_norm_border') / (pl.col('tbp_lv_symm_2axis') + pl.col('tbp_lv_norm_border')),\n",
    "        )\n",
    "        .with_columns(\n",
    "            color_consistency              = pl.col('tbp_lv_stdL') / pl.col('tbp_lv_Lext'),\n",
    "            consistency_color              = pl.col('tbp_lv_stdL') * pl.col('tbp_lv_Lext') / (pl.col('tbp_lv_stdL') + pl.col('tbp_lv_Lext')),\n",
    "            size_age_interaction           = pl.col('clin_size_long_diam_mm') * pl.col('age_approx'),\n",
    "            hue_color_std_interaction      = pl.col('tbp_lv_H') * pl.col('tbp_lv_color_std_mean'),\n",
    "            lesion_severity_index          = (pl.col('tbp_lv_norm_border') + pl.col('tbp_lv_norm_color') + pl.col('tbp_lv_eccentricity')) / 3,\n",
    "            shape_complexity_index         = pl.col('border_complexity') + pl.col('lesion_shape_index'),\n",
    "            color_contrast_index           = pl.col('tbp_lv_deltaA') + pl.col('tbp_lv_deltaB') + pl.col('tbp_lv_deltaL') + pl.col('tbp_lv_deltaLBnorm'),\n",
    "        )\n",
    "        .with_columns(\n",
    "            log_lesion_area                = (pl.col('tbp_lv_areaMM2') + 1).log(),\n",
    "            normalized_lesion_size         = pl.col('clin_size_long_diam_mm') / pl.col('age_approx'),\n",
    "            mean_hue_difference            = (pl.col('tbp_lv_H') + pl.col('tbp_lv_Hext')) / 2,\n",
    "            std_dev_contrast               = ((pl.col('tbp_lv_deltaA') ** 2 + pl.col('tbp_lv_deltaB') ** 2 + pl.col('tbp_lv_deltaL') ** 2) / 3).sqrt(),\n",
    "            color_shape_composite_index    = (pl.col('tbp_lv_color_std_mean') + pl.col('tbp_lv_area_perim_ratio') + pl.col('tbp_lv_symm_2axis')) / 3,\n",
    "            lesion_orientation_3d          = pl.arctan2(pl.col('tbp_lv_y'), pl.col('tbp_lv_x')),\n",
    "            overall_color_difference       = (pl.col('tbp_lv_deltaA') + pl.col('tbp_lv_deltaB') + pl.col('tbp_lv_deltaL')) / 3,\n",
    "        )\n",
    "        .with_columns(\n",
    "            symmetry_perimeter_interaction = pl.col('tbp_lv_symm_2axis') * pl.col('tbp_lv_perimeterMM'),\n",
    "            comprehensive_lesion_index     = (pl.col('tbp_lv_area_perim_ratio') + pl.col('tbp_lv_eccentricity') + pl.col('tbp_lv_norm_color') + pl.col('tbp_lv_symm_2axis')) / 4,\n",
    "            color_variance_ratio           = pl.col('tbp_lv_color_std_mean') / pl.col('tbp_lv_stdLExt'),\n",
    "            border_color_interaction       = pl.col('tbp_lv_norm_border') * pl.col('tbp_lv_norm_color'),\n",
    "            border_color_interaction_2     = pl.col('tbp_lv_norm_border') * pl.col('tbp_lv_norm_color') / (pl.col('tbp_lv_norm_border') + pl.col('tbp_lv_norm_color')),\n",
    "            size_color_contrast_ratio      = pl.col('clin_size_long_diam_mm') / pl.col('tbp_lv_deltaLBnorm'),\n",
    "            age_normalized_nevi_confidence = pl.col('tbp_lv_nevi_confidence') / pl.col('age_approx'),\n",
    "            age_normalized_nevi_confidence_2 = (pl.col('clin_size_long_diam_mm')**2 + pl.col('age_approx')**2).sqrt(),\n",
    "            color_asymmetry_index          = pl.col('tbp_lv_radial_color_std_max') * pl.col('tbp_lv_symm_2axis'),\n",
    "        )\n",
    "        .with_columns(\n",
    "            volume_approximation_3d        = pl.col('tbp_lv_areaMM2') * (pl.col('tbp_lv_x')**2 + pl.col('tbp_lv_y')**2 + pl.col('tbp_lv_z')**2).sqrt(),\n",
    "            color_range                    = (pl.col('tbp_lv_L') - pl.col('tbp_lv_Lext')).abs() + (pl.col('tbp_lv_A') - pl.col('tbp_lv_Aext')).abs() + (pl.col('tbp_lv_B') - pl.col('tbp_lv_Bext')).abs(),\n",
    "            shape_color_consistency        = pl.col('tbp_lv_eccentricity') * pl.col('tbp_lv_color_std_mean'),\n",
    "            border_length_ratio            = pl.col('tbp_lv_perimeterMM') / (2 * np.pi * (pl.col('tbp_lv_areaMM2') / np.pi).sqrt()),\n",
    "            age_size_symmetry_index        = pl.col('age_approx') * pl.col('clin_size_long_diam_mm') * pl.col('tbp_lv_symm_2axis'),\n",
    "            index_age_size_symmetry        = pl.col('age_approx') * pl.col('tbp_lv_areaMM2') * pl.col('tbp_lv_symm_2axis'),\n",
    "        )\n",
    "        .with_columns(\n",
    "            ((pl.col(col) - pl.col(col).mean().over('patient_id')) / (pl.col(col).std().over('patient_id') + err)).alias(f'{col}_patient_norm') for col in (num_cols + new_num_cols)\n",
    "        )\n",
    "        .with_columns(\n",
    "            count_per_patient = pl.col('isic_id').count().over('patient_id'),\n",
    "        )\n",
    "        .with_columns(\n",
    "            pl.col(cat_cols).cast(pl.Categorical),\n",
    "        )\n",
    "        .to_pandas()\n",
    "        .set_index(id_col)\n",
    "    )"
   ]
  },
  {
   "cell_type": "code",
   "execution_count": 7,
   "id": "a8b5c977",
   "metadata": {
    "execution": {
     "iopub.execute_input": "2024-08-16T05:22:32.389298Z",
     "iopub.status.busy": "2024-08-16T05:22:32.389008Z",
     "iopub.status.idle": "2024-08-16T05:22:32.401303Z",
     "shell.execute_reply": "2024-08-16T05:22:32.400449Z"
    },
    "papermill": {
     "duration": 0.02819,
     "end_time": "2024-08-16T05:22:32.403234",
     "exception": false,
     "start_time": "2024-08-16T05:22:32.375044",
     "status": "completed"
    },
    "tags": []
   },
   "outputs": [],
   "source": [
    "def preprocess(df_train, df_test):\n",
    "    global cat_cols\n",
    "    \n",
    "    encoder = OneHotEncoder(sparse_output=False, dtype=np.int32, handle_unknown='ignore')\n",
    "    encoder.fit(df_train[cat_cols])\n",
    "    \n",
    "    new_cat_cols = [f'onehot_{i}' for i in range(len(encoder.get_feature_names_out()))]\n",
    "\n",
    "    df_train[new_cat_cols] = encoder.transform(df_train[cat_cols])\n",
    "    df_train[new_cat_cols] = df_train[new_cat_cols].astype('category')\n",
    "\n",
    "    df_test[new_cat_cols] = encoder.transform(df_test[cat_cols])\n",
    "    df_test[new_cat_cols] = df_test[new_cat_cols].astype('category')\n",
    "    \n",
    "    \n",
    "    # effnetv1b0\n",
    "    df_eff = pd.read_csv(\"/kaggle/input/sub-mod-isic-inference-val4-effnetb0/train_effnetv1b0.csv\")\n",
    "    df_eff.rename(columns={\n",
    "        \"pred_mean\": \"target_effnetv1b0\",\n",
    "#         \"pred_max\": \"pred_max_effnetv1b0\",\n",
    "#         \"pred_min\": \"pred_min_effnetv1b0\",\n",
    "#         \"pred_std\": \"pred_std_effnetv1b0\",\n",
    "    }, inplace=True)\n",
    "    df_train = df_train.merge(df_eff[[\"isic_id\", \"target_effnetv1b0\"]], on=\"isic_id\", how=\"left\")\n",
    "\n",
    "    df_eff = pd.read_csv(\"submission_effnetv1b0.csv\")\n",
    "    df_eff.rename(columns={\n",
    "        \"pred_mean\": \"target_effnetv1b0\",\n",
    "    #     \"pred_max\": \"pred_max_effnetv1b0\",\n",
    "    #     \"pred_min\": \"pred_min_effnetv1b0\",\n",
    "    #     \"pred_std\": \"pred_std_effnetv1b0\",\n",
    "    }, inplace=True)\n",
    "    df_test = df_test.merge(df_eff[[\"isic_id\", \"target_effnetv1b0\"]], on=\"isic_id\", how=\"left\")\n",
    "        \n",
    "#     # target 3\n",
    "#     df_image_3 = pd.read_csv(\"/kaggle/input/isic-2024-pl-submission-script-and-preds/train_preds.csv\")\n",
    "    \n",
    "#     df_train = df_train.reset_index(drop=True)\n",
    "#     df_image_3 = df_image_3.reset_index(drop=True)\n",
    "    \n",
    "#     df_train[\"target_3\"] = df_image_3[\"pred\"]\n",
    "    \n",
    "#     df_3 = pd.read_csv(\"submission_image3.csv\")\n",
    "    \n",
    "#     df_test = df_test.reset_index(drop=True)\n",
    "#     df_image_3 = df_image_3.reset_index(drop=True)\n",
    "    \n",
    "#     df_test[\"target_3\"] = df_3[\"target\"]\n",
    "    \n",
    "    #eva02\n",
    "    df_eva = pd.read_csv(\"/kaggle/input/mod-isic-inference-val1-eva02-for-train/train_eva02.csv\")\n",
    "    df_eva.rename(columns={\n",
    "        \"pred_mean\": \"target_eva02\",\n",
    "#         \"pred_max\": \"pred_max_effnetv1b0\",\n",
    "#         \"pred_min\": \"pred_min_effnetv1b0\",\n",
    "#         \"pred_std\": \"pred_std_effnetv1b0\",\n",
    "    }, inplace=True)\n",
    "    df_train = df_train.merge(df_eva[[\"isic_id\", \"target_eva02\"]], on=\"isic_id\", how=\"left\")\n",
    "\n",
    "    df_eva = pd.read_csv(\"submission_eva02.csv\")\n",
    "    df_eva.rename(columns={\n",
    "        \"pred_mean\": \"target_eva02\",\n",
    "    #     \"pred_max\": \"pred_max_effnetv1b0\",\n",
    "    #     \"pred_min\": \"pred_min_effnetv1b0\",\n",
    "    #     \"pred_std\": \"pred_std_effnetv1b0\",\n",
    "    }, inplace=True)\n",
    "    df_test = df_test.merge(df_eva[[\"isic_id\", \"target_eva02\"]], on=\"isic_id\", how=\"left\")\n",
    "    \n",
    "    assert df_train[[\"target_effnetv1b0\", \"target_eva02\"]].isnull().sum().sum() == 0\n",
    "    assert df_test[[\"target_effnetv1b0\", \"target_eva02\"]].isnull().sum().sum() == 0\n",
    "\n",
    "\n",
    "    for col in cat_cols:\n",
    "        feature_cols.remove(col)\n",
    "\n",
    "    feature_cols.extend(new_cat_cols)\n",
    "    cat_cols = new_cat_cols\n",
    "    \n",
    "    return df_train.reset_index(), df_test.reset_index()"
   ]
  },
  {
   "cell_type": "code",
   "execution_count": 8,
   "id": "e8c0d537",
   "metadata": {
    "execution": {
     "iopub.execute_input": "2024-08-16T05:22:32.430236Z",
     "iopub.status.busy": "2024-08-16T05:22:32.429984Z",
     "iopub.status.idle": "2024-08-16T05:22:32.435819Z",
     "shell.execute_reply": "2024-08-16T05:22:32.434994Z"
    },
    "papermill": {
     "duration": 0.021445,
     "end_time": "2024-08-16T05:22:32.437685",
     "exception": false,
     "start_time": "2024-08-16T05:22:32.416240",
     "status": "completed"
    },
    "tags": []
   },
   "outputs": [],
   "source": [
    "def custom_metric(estimator, X, y_true):\n",
    "    y_hat = estimator.predict_proba(X)[:, 1]\n",
    "    min_tpr = 0.80\n",
    "    max_fpr = abs(1 - min_tpr)\n",
    "    \n",
    "    v_gt = abs(y_true - 1)\n",
    "    v_pred = np.array([1.0 - x for x in y_hat])\n",
    "    \n",
    "    partial_auc_scaled = roc_auc_score(v_gt, v_pred, max_fpr=max_fpr)\n",
    "    partial_auc = 0.5 * max_fpr**2 + (max_fpr - 0.5 * max_fpr**2) / (1.0 - 0.5) * (partial_auc_scaled - 0.5)\n",
    "    \n",
    "    return partial_auc"
   ]
  },
  {
   "cell_type": "code",
   "execution_count": 9,
   "id": "f5da09fd",
   "metadata": {
    "execution": {
     "iopub.execute_input": "2024-08-16T05:22:32.465314Z",
     "iopub.status.busy": "2024-08-16T05:22:32.465015Z",
     "iopub.status.idle": "2024-08-16T05:22:43.224638Z",
     "shell.execute_reply": "2024-08-16T05:22:43.223512Z"
    },
    "papermill": {
     "duration": 10.776438,
     "end_time": "2024-08-16T05:22:43.227052",
     "exception": false,
     "start_time": "2024-08-16T05:22:32.450614",
     "status": "completed"
    },
    "tags": []
   },
   "outputs": [],
   "source": [
    "df_train = read_data(train_path)\n",
    "df_test = read_data(test_path)\n",
    "df_subm = pd.read_csv(subm_path, index_col=id_col)\n",
    "\n",
    "df_train, df_test = preprocess(df_train, df_test)"
   ]
  },
  {
   "cell_type": "markdown",
   "id": "5090c55c",
   "metadata": {
    "papermill": {
     "duration": 0.01365,
     "end_time": "2024-08-16T05:22:43.254560",
     "exception": false,
     "start_time": "2024-08-16T05:22:43.240910",
     "status": "completed"
    },
    "tags": []
   },
   "source": [
    "***drop least important features with feature importance(code at the last of the notebook before test predictions)***"
   ]
  },
  {
   "cell_type": "code",
   "execution_count": 10,
   "id": "51bb7330",
   "metadata": {
    "execution": {
     "iopub.execute_input": "2024-08-16T05:22:43.282391Z",
     "iopub.status.busy": "2024-08-16T05:22:43.281589Z",
     "iopub.status.idle": "2024-08-16T05:22:43.513994Z",
     "shell.execute_reply": "2024-08-16T05:22:43.513008Z"
    },
    "papermill": {
     "duration": 0.248988,
     "end_time": "2024-08-16T05:22:43.516656",
     "exception": false,
     "start_time": "2024-08-16T05:22:43.267668",
     "status": "completed"
    },
    "tags": []
   },
   "outputs": [],
   "source": [
    "#they are detected at the first run\n",
    "least_important_features = ['onehot_32', 'onehot_6', 'onehot_33', 'onehot_30', 'onehot_26', 'onehot_22', 'onehot_36', 'onehot_4']\n",
    "#they are detected after the least_important_features are removed and it has increased cv score also so I add it\n",
    "#least_important_features_2 = ['onehot_17', 'onehot_42', 'onehot_29', 'onehot_13', 'onehot_25']\n",
    "#least_important_features += least_important_features_2\n",
    "df_train.drop(columns =least_important_features,inplace = True)\n",
    "for feature in least_important_features:\n",
    "    cat_cols.remove(feature)\n",
    "    feature_cols.remove(feature)"
   ]
  },
  {
   "cell_type": "markdown",
   "id": "193c293a",
   "metadata": {
    "papermill": {
     "duration": 0.012936,
     "end_time": "2024-08-16T05:22:43.544156",
     "exception": false,
     "start_time": "2024-08-16T05:22:43.531220",
     "status": "completed"
    },
    "tags": []
   },
   "source": [
    "# 追加"
   ]
  },
  {
   "cell_type": "code",
   "execution_count": 11,
   "id": "2a57d4be",
   "metadata": {
    "execution": {
     "iopub.execute_input": "2024-08-16T05:22:43.571789Z",
     "iopub.status.busy": "2024-08-16T05:22:43.571158Z",
     "iopub.status.idle": "2024-08-16T05:22:43.581111Z",
     "shell.execute_reply": "2024-08-16T05:22:43.580420Z"
    },
    "papermill": {
     "duration": 0.025896,
     "end_time": "2024-08-16T05:22:43.583032",
     "exception": false,
     "start_time": "2024-08-16T05:22:43.557136",
     "status": "completed"
    },
    "tags": []
   },
   "outputs": [],
   "source": [
    "df_train.loc[df_train[\"age_approx_patient_norm\"]<0, \"age_approx_patient_norm\"] = -1\n",
    "df_train.loc[df_train[\"age_approx_patient_norm\"]>0, \"age_approx_patient_norm\"] = 1"
   ]
  },
  {
   "cell_type": "code",
   "execution_count": 12,
   "id": "91c428b4",
   "metadata": {
    "execution": {
     "iopub.execute_input": "2024-08-16T05:22:43.611355Z",
     "iopub.status.busy": "2024-08-16T05:22:43.610801Z",
     "iopub.status.idle": "2024-08-16T05:22:44.061631Z",
     "shell.execute_reply": "2024-08-16T05:22:44.060734Z"
    },
    "papermill": {
     "duration": 0.467108,
     "end_time": "2024-08-16T05:22:44.063741",
     "exception": false,
     "start_time": "2024-08-16T05:22:43.596633",
     "status": "completed"
    },
    "tags": []
   },
   "outputs": [
    {
     "data": {
      "text/html": [
       "<div>\n",
       "<style scoped>\n",
       "    .dataframe tbody tr th:only-of-type {\n",
       "        vertical-align: middle;\n",
       "    }\n",
       "\n",
       "    .dataframe tbody tr th {\n",
       "        vertical-align: top;\n",
       "    }\n",
       "\n",
       "    .dataframe thead th {\n",
       "        text-align: right;\n",
       "    }\n",
       "</style>\n",
       "<table border=\"1\" class=\"dataframe\">\n",
       "  <thead>\n",
       "    <tr style=\"text-align: right;\">\n",
       "      <th></th>\n",
       "      <th>index</th>\n",
       "      <th>isic_id</th>\n",
       "      <th>target</th>\n",
       "      <th>patient_id</th>\n",
       "      <th>age_approx</th>\n",
       "      <th>sex</th>\n",
       "      <th>anatom_site_general</th>\n",
       "      <th>clin_size_long_diam_mm</th>\n",
       "      <th>image_type</th>\n",
       "      <th>tbp_tile_type</th>\n",
       "      <th>...</th>\n",
       "      <th>onehot_41</th>\n",
       "      <th>onehot_42</th>\n",
       "      <th>onehot_43</th>\n",
       "      <th>onehot_44</th>\n",
       "      <th>onehot_45</th>\n",
       "      <th>onehot_46</th>\n",
       "      <th>target_effnetv1b0</th>\n",
       "      <th>target_eva02</th>\n",
       "      <th>count_patient</th>\n",
       "      <th>count_patient_bin</th>\n",
       "    </tr>\n",
       "  </thead>\n",
       "  <tbody>\n",
       "    <tr>\n",
       "      <th>0</th>\n",
       "      <td>0</td>\n",
       "      <td>ISIC_0015670</td>\n",
       "      <td>0</td>\n",
       "      <td>IP_1235828</td>\n",
       "      <td>60.0</td>\n",
       "      <td>male</td>\n",
       "      <td>lower extremity</td>\n",
       "      <td>3.04</td>\n",
       "      <td>TBP tile: close-up</td>\n",
       "      <td>3D: white</td>\n",
       "      <td>...</td>\n",
       "      <td>0</td>\n",
       "      <td>0</td>\n",
       "      <td>0</td>\n",
       "      <td>1</td>\n",
       "      <td>0</td>\n",
       "      <td>0</td>\n",
       "      <td>0.018644</td>\n",
       "      <td>0.003304</td>\n",
       "      <td>510</td>\n",
       "      <td>7</td>\n",
       "    </tr>\n",
       "    <tr>\n",
       "      <th>1</th>\n",
       "      <td>1</td>\n",
       "      <td>ISIC_0015845</td>\n",
       "      <td>0</td>\n",
       "      <td>IP_8170065</td>\n",
       "      <td>60.0</td>\n",
       "      <td>male</td>\n",
       "      <td>head/neck</td>\n",
       "      <td>1.10</td>\n",
       "      <td>TBP tile: close-up</td>\n",
       "      <td>3D: white</td>\n",
       "      <td>...</td>\n",
       "      <td>0</td>\n",
       "      <td>0</td>\n",
       "      <td>0</td>\n",
       "      <td>1</td>\n",
       "      <td>0</td>\n",
       "      <td>0</td>\n",
       "      <td>0.999987</td>\n",
       "      <td>0.813661</td>\n",
       "      <td>113</td>\n",
       "      <td>2</td>\n",
       "    </tr>\n",
       "  </tbody>\n",
       "</table>\n",
       "<p>2 rows × 219 columns</p>\n",
       "</div>"
      ],
      "text/plain": [
       "   index       isic_id  target  patient_id  age_approx   sex  \\\n",
       "0      0  ISIC_0015670       0  IP_1235828        60.0  male   \n",
       "1      1  ISIC_0015845       0  IP_8170065        60.0  male   \n",
       "\n",
       "  anatom_site_general  clin_size_long_diam_mm          image_type  \\\n",
       "0     lower extremity                    3.04  TBP tile: close-up   \n",
       "1           head/neck                    1.10  TBP tile: close-up   \n",
       "\n",
       "  tbp_tile_type  ...  onehot_41  onehot_42  onehot_43  onehot_44  onehot_45  \\\n",
       "0     3D: white  ...          0          0          0          1          0   \n",
       "1     3D: white  ...          0          0          0          1          0   \n",
       "\n",
       "   onehot_46  target_effnetv1b0  target_eva02  count_patient  \\\n",
       "0          0           0.018644      0.003304            510   \n",
       "1          0           0.999987      0.813661            113   \n",
       "\n",
       "   count_patient_bin  \n",
       "0                  7  \n",
       "1                  2  \n",
       "\n",
       "[2 rows x 219 columns]"
      ]
     },
     "metadata": {},
     "output_type": "display_data"
    },
    {
     "data": {
      "text/html": [
       "<div>\n",
       "<style scoped>\n",
       "    .dataframe tbody tr th:only-of-type {\n",
       "        vertical-align: middle;\n",
       "    }\n",
       "\n",
       "    .dataframe tbody tr th {\n",
       "        vertical-align: top;\n",
       "    }\n",
       "\n",
       "    .dataframe thead th {\n",
       "        text-align: right;\n",
       "    }\n",
       "</style>\n",
       "<table border=\"1\" class=\"dataframe\">\n",
       "  <thead>\n",
       "    <tr style=\"text-align: right;\">\n",
       "      <th></th>\n",
       "      <th>index</th>\n",
       "      <th>isic_id</th>\n",
       "      <th>patient_id</th>\n",
       "      <th>age_approx</th>\n",
       "      <th>sex</th>\n",
       "      <th>anatom_site_general</th>\n",
       "      <th>clin_size_long_diam_mm</th>\n",
       "      <th>image_type</th>\n",
       "      <th>tbp_tile_type</th>\n",
       "      <th>tbp_lv_A</th>\n",
       "      <th>...</th>\n",
       "      <th>onehot_41</th>\n",
       "      <th>onehot_42</th>\n",
       "      <th>onehot_43</th>\n",
       "      <th>onehot_44</th>\n",
       "      <th>onehot_45</th>\n",
       "      <th>onehot_46</th>\n",
       "      <th>target_effnetv1b0</th>\n",
       "      <th>target_eva02</th>\n",
       "      <th>count_patient</th>\n",
       "      <th>count_patient_bin</th>\n",
       "    </tr>\n",
       "  </thead>\n",
       "  <tbody>\n",
       "    <tr>\n",
       "      <th>0</th>\n",
       "      <td>0</td>\n",
       "      <td>ISIC_0015657</td>\n",
       "      <td>IP_6074337</td>\n",
       "      <td>45.0</td>\n",
       "      <td>male</td>\n",
       "      <td>posterior torso</td>\n",
       "      <td>2.70</td>\n",
       "      <td>TBP tile: close-up</td>\n",
       "      <td>3D: XP</td>\n",
       "      <td>22.80433</td>\n",
       "      <td>...</td>\n",
       "      <td>0</td>\n",
       "      <td>0</td>\n",
       "      <td>0</td>\n",
       "      <td>1</td>\n",
       "      <td>0</td>\n",
       "      <td>0</td>\n",
       "      <td>0.903390</td>\n",
       "      <td>0.000627</td>\n",
       "      <td>1</td>\n",
       "      <td>0</td>\n",
       "    </tr>\n",
       "    <tr>\n",
       "      <th>1</th>\n",
       "      <td>1</td>\n",
       "      <td>ISIC_0015729</td>\n",
       "      <td>IP_1664139</td>\n",
       "      <td>35.0</td>\n",
       "      <td>female</td>\n",
       "      <td>lower extremity</td>\n",
       "      <td>2.52</td>\n",
       "      <td>TBP tile: close-up</td>\n",
       "      <td>3D: XP</td>\n",
       "      <td>16.64867</td>\n",
       "      <td>...</td>\n",
       "      <td>0</td>\n",
       "      <td>0</td>\n",
       "      <td>1</td>\n",
       "      <td>0</td>\n",
       "      <td>0</td>\n",
       "      <td>0</td>\n",
       "      <td>0.009949</td>\n",
       "      <td>0.000465</td>\n",
       "      <td>1</td>\n",
       "      <td>0</td>\n",
       "    </tr>\n",
       "  </tbody>\n",
       "</table>\n",
       "<p>2 rows × 216 columns</p>\n",
       "</div>"
      ],
      "text/plain": [
       "   index       isic_id  patient_id  age_approx     sex anatom_site_general  \\\n",
       "0      0  ISIC_0015657  IP_6074337        45.0    male     posterior torso   \n",
       "1      1  ISIC_0015729  IP_1664139        35.0  female     lower extremity   \n",
       "\n",
       "   clin_size_long_diam_mm          image_type tbp_tile_type  tbp_lv_A  ...  \\\n",
       "0                    2.70  TBP tile: close-up        3D: XP  22.80433  ...   \n",
       "1                    2.52  TBP tile: close-up        3D: XP  16.64867  ...   \n",
       "\n",
       "   onehot_41  onehot_42  onehot_43  onehot_44  onehot_45  onehot_46  \\\n",
       "0          0          0          0          1          0          0   \n",
       "1          0          0          1          0          0          0   \n",
       "\n",
       "   target_effnetv1b0  target_eva02  count_patient  count_patient_bin  \n",
       "0           0.903390      0.000627              1                  0  \n",
       "1           0.009949      0.000465              1                  0  \n",
       "\n",
       "[2 rows x 216 columns]"
      ]
     },
     "metadata": {},
     "output_type": "display_data"
    }
   ],
   "source": [
    "# df_train と df_test 両方にビン分割を適用する関数\n",
    "def apply_binning(df, bins=None, is_df_test=False):\n",
    "    df_patient = df.groupby(\"patient_id\")[[\"isic_id\"]].agg(\n",
    "        count_patient=(\"isic_id\", \"count\"),\n",
    "    ).sort_values(by=\"count_patient\").reset_index()\n",
    "    \n",
    "    if is_df_test:\n",
    "        # df_train で計算した分位点を使って `count_patient_bin` を作成\n",
    "        df_patient['count_patient_bin'] = pd.cut(\n",
    "            df_patient['count_patient'], \n",
    "            bins=bins, \n",
    "            labels=False\n",
    "        )\n",
    "        # 元データにマージする\n",
    "        df = df.merge(df_patient, on=\"patient_id\", how=\"left\")\n",
    "        return df, None\n",
    "    else:\n",
    "        # `count_patient` の分位点を計算 (10 分位)\n",
    "        df_patient['count_patient_bin'], count_patient_bins = pd.qcut(\n",
    "            df_patient['count_patient'], \n",
    "            10, \n",
    "            retbins=True, \n",
    "            labels=False\n",
    "        )\n",
    "        # binの一番下と一番上の範囲を十分に広げる\n",
    "        count_patient_bins[0] = -999\n",
    "        count_patient_bins[10] = 999_999_999\n",
    "        # 元データにマージする\n",
    "        df = df.merge(df_patient, on=\"patient_id\", how=\"left\")\n",
    "        return df, count_patient_bins\n",
    "\n",
    "# df_train に適用\n",
    "df_train, count_patient_bins = apply_binning(df_train)\n",
    "\n",
    "# df_test に適用\n",
    "df_test, _ = apply_binning(\n",
    "    df_test, \n",
    "    bins=count_patient_bins,\n",
    "    is_df_test=True\n",
    ")\n",
    "\n",
    "feature_cols += ['count_patient_bin']\n",
    "\n",
    "display(df_train.head(2))\n",
    "display(df_test.head(2))"
   ]
  },
  {
   "cell_type": "markdown",
   "id": "f59ca5c6",
   "metadata": {
    "papermill": {
     "duration": 0.013302,
     "end_time": "2024-08-16T05:22:44.091672",
     "exception": false,
     "start_time": "2024-08-16T05:22:44.078370",
     "status": "completed"
    },
    "tags": []
   },
   "source": [
    "# MODEL INITIALIZATION"
   ]
  },
  {
   "cell_type": "code",
   "execution_count": 13,
   "id": "1088a6ff",
   "metadata": {
    "execution": {
     "iopub.execute_input": "2024-08-16T05:22:44.120687Z",
     "iopub.status.busy": "2024-08-16T05:22:44.120093Z",
     "iopub.status.idle": "2024-08-16T05:22:44.126200Z",
     "shell.execute_reply": "2024-08-16T05:22:44.125304Z"
    },
    "papermill": {
     "duration": 0.022974,
     "end_time": "2024-08-16T05:22:44.128184",
     "exception": false,
     "start_time": "2024-08-16T05:22:44.105210",
     "status": "completed"
    },
    "tags": []
   },
   "outputs": [],
   "source": [
    "from sklearn.base import BaseEstimator, TransformerMixin\n",
    "import copy\n",
    "\n",
    "feature_cols_without_image_cols = copy.copy(feature_cols)\n",
    "feature_cols += image_cols\n",
    "\n",
    "class SelectColumns(BaseEstimator, TransformerMixin):\n",
    "    def __init__(self, columns):\n",
    "        self.columns = columns\n",
    "    def fit(self, X, y=None):\n",
    "        return self\n",
    "    def transform(self, X):\n",
    "        return X[self.columns]"
   ]
  },
  {
   "cell_type": "code",
   "execution_count": null,
   "id": "6d57a4b7",
   "metadata": {},
   "outputs": [],
   "source": [
    "def focal_loss_lgb(y_pred, dtrain, alpha, gamma):\n",
    "\ta,g = alpha, gamma\n",
    "\ty_true = dtrain.label\n",
    "\tdef fl(x,t):\n",
    "\t\tp = 1/(1+np.exp(-x))\n",
    "\t\treturn -( a*t + (1-a)*(1-t) ) * (( 1 - ( t*p + (1-t)*(1-p)) )**g) * ( t*np.log(p)+(1-t)*np.log(1-p) )\n",
    "\tpartial_fl = lambda x: fl(x, y_true)\n",
    "\tgrad = derivative(partial_fl, y_pred, n=1, dx=1e-6)\n",
    "\thess = derivative(partial_fl, y_pred, n=2, dx=1e-6)\n",
    "\treturn grad, hess\n",
    "\n",
    "def focal_loss_lgb_eval_error(y_pred, dtrain, alpha, gamma):\n",
    "\ta,g = alpha, gamma\n",
    "\ty_true = dtrain.label\n",
    "\tp = 1/(1+np.exp(-y_pred))\n",
    "\tloss = -( a*y_true + (1-a)*(1-y_true) ) * (( 1 - ( y_true*p + (1-y_true)*(1-p)) )**g) * ( y_true*np.log(p)+(1-y_true)*np.log(1-p) )\n",
    "\treturn 'focal_loss', np.mean(loss), False"
   ]
  },
  {
   "cell_type": "code",
   "execution_count": 14,
   "id": "a5b19001",
   "metadata": {
    "execution": {
     "iopub.execute_input": "2024-08-16T05:22:44.157664Z",
     "iopub.status.busy": "2024-08-16T05:22:44.157324Z",
     "iopub.status.idle": "2024-08-16T05:22:44.164503Z",
     "shell.execute_reply": "2024-08-16T05:22:44.163676Z"
    },
    "papermill": {
     "duration": 0.024302,
     "end_time": "2024-08-16T05:22:44.166404",
     "exception": false,
     "start_time": "2024-08-16T05:22:44.142102",
     "status": "completed"
    },
    "tags": []
   },
   "outputs": [],
   "source": [
    "focal_loss = lambda x,y: focal_loss_lgb(x, y, 0.5237349272876399, 3.3284780066293664)\n",
    "\n",
    "lgb_params = {\n",
    "    'objective':        focal_loss,\n",
    "    'verbosity':        -1,\n",
    "    'n_iter':           200,\n",
    "    'boosting_type':    'gbdt',\n",
    "    'random_state':     seed,\n",
    "    'lambda_l1':        0.00235456120910182, \n",
    "    'lambda_l2':        2.942308631507106, \n",
    "    'learning_rate':    0.01818250152825126, \n",
    "    'max_depth':        8, \n",
    "    'num_leaves':       143, \n",
    "    'colsample_bytree': 0.8321087247563139, \n",
    "    'colsample_bynode': 0.5185653955242486, \n",
    "    'bagging_fraction': 0.7566629263673749, \n",
    "    'bagging_freq':     3, \n",
    "    'min_data_in_leaf': 79, \n",
    "    'scale_pos_weight': 2.7170326505640663,\n",
    "}\n",
    "\n",
    "\n",
    "sampling_ratio = 0.01\n",
    "seed =42\n",
    "\n",
    "lgb_model = Pipeline([\n",
    "    ('sampler_1', RandomOverSampler(sampling_strategy= 0.003 , random_state=seed)),\n",
    "    ('sampler_2', RandomUnderSampler(sampling_strategy=sampling_ratio, random_state=seed)),\n",
    "#     ('filter', SelectColumns(feature_cols_without_image_cols)),\n",
    "    ('classifier', lgb.LGBMClassifier(**lgb_params)),\n",
    "])"
   ]
  },
  {
   "cell_type": "code",
   "execution_count": 15,
   "id": "7f3fb382",
   "metadata": {
    "execution": {
     "iopub.execute_input": "2024-08-16T05:22:44.238919Z",
     "iopub.status.busy": "2024-08-16T05:22:44.238570Z",
     "iopub.status.idle": "2024-08-16T05:22:44.247110Z",
     "shell.execute_reply": "2024-08-16T05:22:44.246220Z"
    },
    "papermill": {
     "duration": 0.068933,
     "end_time": "2024-08-16T05:22:44.249032",
     "exception": false,
     "start_time": "2024-08-16T05:22:44.180099",
     "status": "completed"
    },
    "tags": []
   },
   "outputs": [],
   "source": [
    "cb_params = {\n",
    "    'loss_function':     'Logloss',\n",
    "    'iterations':        250,\n",
    "    'verbose':           False,\n",
    "    'random_state':      seed,\n",
    "    'max_depth':         7, \n",
    "    'learning_rate':     0.06936242010150652, \n",
    "    'scale_pos_weight':  2.6149345838209532, \n",
    "    'l2_leaf_reg':       6.216113851699493, \n",
    "    'subsample':         0.6249261779711819, \n",
    "    'min_data_in_leaf':  24,\n",
    "    'cat_features':      cat_cols,\n",
    "}\n",
    "cb_model = Pipeline([\n",
    "    ('sampler_1', RandomOverSampler(sampling_strategy= 0.003 , random_state=seed)),\n",
    "    ('sampler_2', RandomUnderSampler(sampling_strategy=sampling_ratio, random_state=seed)),\n",
    "    ('classifier', cb.CatBoostClassifier(**cb_params)),\n",
    "])"
   ]
  },
  {
   "cell_type": "code",
   "execution_count": 16,
   "id": "3e451bbe",
   "metadata": {
    "execution": {
     "iopub.execute_input": "2024-08-16T05:22:44.279717Z",
     "iopub.status.busy": "2024-08-16T05:22:44.279423Z",
     "iopub.status.idle": "2024-08-16T05:22:44.285807Z",
     "shell.execute_reply": "2024-08-16T05:22:44.284995Z"
    },
    "papermill": {
     "duration": 0.023764,
     "end_time": "2024-08-16T05:22:44.287691",
     "exception": false,
     "start_time": "2024-08-16T05:22:44.263927",
     "status": "completed"
    },
    "tags": []
   },
   "outputs": [],
   "source": [
    "xgb_params = {\n",
    "    'enable_categorical': True,\n",
    "    'tree_method':        'hist',\n",
    "    'random_state':       seed,\n",
    "    'learning_rate':      0.08501257473292347, \n",
    "    'lambda':             8.879624125465703, \n",
    "    'alpha':              0.6779926606782505, \n",
    "    'max_depth':          6, \n",
    "    'subsample':          0.6012681388711075, \n",
    "    'colsample_bytree':   0.8437772277074493, \n",
    "    'colsample_bylevel':  0.5476090898823716, \n",
    "    'colsample_bynode':   0.9928601203635129, \n",
    "    'scale_pos_weight':   3.29440313334688,\n",
    "}\n",
    "\n",
    "xgb_model = Pipeline([\n",
    "    ('sampler_1', RandomOverSampler(sampling_strategy= 0.003 , random_state=seed)),\n",
    "    ('sampler_2', RandomUnderSampler(sampling_strategy=sampling_ratio, random_state=seed)),\n",
    "    ('classifier', xgb.XGBClassifier(**xgb_params)),\n",
    "])"
   ]
  },
  {
   "cell_type": "code",
   "execution_count": 17,
   "id": "bfb7de80",
   "metadata": {
    "execution": {
     "iopub.execute_input": "2024-08-16T05:22:44.316741Z",
     "iopub.status.busy": "2024-08-16T05:22:44.316240Z",
     "iopub.status.idle": "2024-08-16T05:22:44.320547Z",
     "shell.execute_reply": "2024-08-16T05:22:44.319704Z"
    },
    "papermill": {
     "duration": 0.020884,
     "end_time": "2024-08-16T05:22:44.322440",
     "exception": false,
     "start_time": "2024-08-16T05:22:44.301556",
     "status": "completed"
    },
    "tags": []
   },
   "outputs": [],
   "source": [
    "estimator = VotingClassifier([\n",
    "    ('lgb', lgb_model), ('cb', cb_model), ('xgb', xgb_model),\n",
    "], voting='soft')"
   ]
  },
  {
   "cell_type": "markdown",
   "id": "522c431c",
   "metadata": {
    "papermill": {
     "duration": 0.013278,
     "end_time": "2024-08-16T05:22:44.349304",
     "exception": false,
     "start_time": "2024-08-16T05:22:44.336026",
     "status": "completed"
    },
    "tags": []
   },
   "source": [
    "# CROSS VALIDATION"
   ]
  },
  {
   "cell_type": "code",
   "execution_count": 18,
   "id": "42963961",
   "metadata": {
    "execution": {
     "iopub.execute_input": "2024-08-16T05:22:44.378375Z",
     "iopub.status.busy": "2024-08-16T05:22:44.377730Z",
     "iopub.status.idle": "2024-08-16T05:26:35.843683Z",
     "shell.execute_reply": "2024-08-16T05:26:35.842745Z"
    },
    "papermill": {
     "duration": 231.497491,
     "end_time": "2024-08-16T05:26:35.860504",
     "exception": false,
     "start_time": "2024-08-16T05:22:44.363013",
     "status": "completed"
    },
    "tags": []
   },
   "outputs": [
    {
     "name": "stderr",
     "output_type": "stream",
     "text": [
      "/opt/conda/lib/python3.10/site-packages/lightgbm/engine.py:172: UserWarning: Found `n_iter` in params. Will use it instead of argument\n",
      "  _log_warning(f\"Found `{alias}` in params. Will use it instead of argument\")\n",
      "/opt/conda/lib/python3.10/site-packages/lightgbm/engine.py:172: UserWarning: Found `n_iter` in params. Will use it instead of argument\n",
      "  _log_warning(f\"Found `{alias}` in params. Will use it instead of argument\")\n",
      "/opt/conda/lib/python3.10/site-packages/lightgbm/engine.py:172: UserWarning: Found `n_iter` in params. Will use it instead of argument\n",
      "  _log_warning(f\"Found `{alias}` in params. Will use it instead of argument\")\n",
      "/opt/conda/lib/python3.10/site-packages/lightgbm/engine.py:172: UserWarning: Found `n_iter` in params. Will use it instead of argument\n",
      "  _log_warning(f\"Found `{alias}` in params. Will use it instead of argument\")\n",
      "/opt/conda/lib/python3.10/site-packages/lightgbm/engine.py:172: UserWarning: Found `n_iter` in params. Will use it instead of argument\n",
      "  _log_warning(f\"Found `{alias}` in params. Will use it instead of argument\")\n"
     ]
    },
    {
     "data": {
      "text/plain": [
       "(0.17902158148317623,\n",
       " array([0.17282835, 0.17773924, 0.18760048, 0.17364203, 0.18329781]))"
      ]
     },
     "execution_count": 18,
     "metadata": {},
     "output_type": "execute_result"
    }
   ],
   "source": [
    "X = df_train[feature_cols]\n",
    "y = df_train[target_col]\n",
    "groups = df_train[group_col]\n",
    "cv = StratifiedGroupKFold(5, shuffle=True, random_state=seed)\n",
    "\n",
    "val_score = cross_val_score(\n",
    "    estimator=estimator, \n",
    "    X=X, y=y, \n",
    "    cv=cv, \n",
    "    groups=groups,\n",
    "    scoring=custom_metric,\n",
    ")\n",
    "\n",
    "np.mean(val_score), val_score\n",
    "\n",
    "\n",
    "# -------------------CV SCORES------------------------\n",
    "# RUS ==RandomUnderSampler(0.001) , ROS ==RandomOverSampler(0.003)\n",
    "# DROP NOTHING ----------------------> (0.18775) (RUS + image features(effnet+ target3))\n",
    "# DROP least_important_features -----> (0.18747) (RUS + image features(effnet+target3))\n",
    "# DROP NOTHING ----------------------> (0.17000) (ROS+RUS + no image features)\n",
    "# DROP least_important_features -----> (0.17124) (ROS+RUS + no image features)\n",
    "# DROP least_important_features+2 ---> (0.17160) (ROS+RUS + no image features)\n"
   ]
  },
  {
   "cell_type": "markdown",
   "id": "60e488b6",
   "metadata": {
    "papermill": {
     "duration": 0.014002,
     "end_time": "2024-08-16T05:26:35.888751",
     "exception": false,
     "start_time": "2024-08-16T05:26:35.874749",
     "status": "completed"
    },
    "tags": []
   },
   "source": [
    "# HYPERPARAMETER TUNING"
   ]
  },
  {
   "cell_type": "code",
   "execution_count": 19,
   "id": "69e1510c",
   "metadata": {
    "execution": {
     "iopub.execute_input": "2024-08-16T05:26:35.919917Z",
     "iopub.status.busy": "2024-08-16T05:26:35.918891Z",
     "iopub.status.idle": "2024-08-16T05:26:35.923740Z",
     "shell.execute_reply": "2024-08-16T05:26:35.922846Z"
    },
    "papermill": {
     "duration": 0.022913,
     "end_time": "2024-08-16T05:26:35.925770",
     "exception": false,
     "start_time": "2024-08-16T05:26:35.902857",
     "status": "completed"
    },
    "tags": []
   },
   "outputs": [],
   "source": [
    "DO_TUNING = False"
   ]
  },
  {
   "cell_type": "code",
   "execution_count": 20,
   "id": "d8757ecb",
   "metadata": {
    "execution": {
     "iopub.execute_input": "2024-08-16T05:26:35.956753Z",
     "iopub.status.busy": "2024-08-16T05:26:35.955899Z",
     "iopub.status.idle": "2024-08-16T05:26:35.966268Z",
     "shell.execute_reply": "2024-08-16T05:26:35.965530Z"
    },
    "papermill": {
     "duration": 0.027953,
     "end_time": "2024-08-16T05:26:35.968086",
     "exception": false,
     "start_time": "2024-08-16T05:26:35.940133",
     "status": "completed"
    },
    "tags": []
   },
   "outputs": [],
   "source": [
    "def lgb_objective(trial):\n",
    "    params = {\n",
    "        'objective':         'binary',\n",
    "        'verbosity':         -1,\n",
    "        'n_iter': 200,\n",
    "        'boosting_type':  'gbdt',\n",
    "        'lambda_l1':         trial.suggest_float('lambda_l1', 1e-3, 10.0, log=True),\n",
    "        'lambda_l2':         trial.suggest_float('lambda_l2', 1e-3, 10.0, log=True),\n",
    "        'learning_rate':     trial.suggest_float('learning_rate', 1e-2, 1e-1, log=True),\n",
    "        'max_depth':         trial.suggest_int('max_depth', 4, 8),\n",
    "        'num_leaves':        trial.suggest_int('num_leaves', 16, 256),\n",
    "        'colsample_bytree':  trial.suggest_float('colsample_bytree', 0.4, 1.0),\n",
    "        'colsample_bynode':  trial.suggest_float('colsample_bynode', 0.4, 1.0),\n",
    "        'bagging_fraction':  trial.suggest_float('bagging_fraction', 0.4, 1.0),\n",
    "        'bagging_freq':      trial.suggest_int('bagging_freq', 1, 7),\n",
    "        'min_data_in_leaf':  trial.suggest_int('min_data_in_leaf', 5, 100),\n",
    "        'scale_pos_weight' : trial.suggest_float('scale_pos_weight', 0.8, 4.0),\n",
    "    }\n",
    "\n",
    "    estimator = Pipeline([\n",
    "        ('sampler', RandomUnderSampler(sampling_strategy=sampling_ratio)),\n",
    "        ('classifier', lgb.LGBMClassifier(**params)),\n",
    "    ])\n",
    "\n",
    "    X = df_train[feature_cols]\n",
    "    y = df_train[target_col]\n",
    "    groups = df_train[group_col]\n",
    "    cv = StratifiedGroupKFold(5, shuffle=True)\n",
    "\n",
    "    val_score = cross_val_score(\n",
    "        estimator=estimator, \n",
    "        X=X, y=y, \n",
    "        cv=cv, \n",
    "        groups=groups,\n",
    "        scoring=custom_metric,\n",
    "    )\n",
    "\n",
    "    return np.mean(val_score)"
   ]
  },
  {
   "cell_type": "code",
   "execution_count": 21,
   "id": "2bc7a27d",
   "metadata": {
    "execution": {
     "iopub.execute_input": "2024-08-16T05:26:35.997871Z",
     "iopub.status.busy": "2024-08-16T05:26:35.997580Z",
     "iopub.status.idle": "2024-08-16T05:26:36.005941Z",
     "shell.execute_reply": "2024-08-16T05:26:36.005127Z"
    },
    "papermill": {
     "duration": 0.025274,
     "end_time": "2024-08-16T05:26:36.007770",
     "exception": false,
     "start_time": "2024-08-16T05:26:35.982496",
     "status": "completed"
    },
    "tags": []
   },
   "outputs": [],
   "source": [
    "def cb_objective(trial):\n",
    "    params = {\n",
    "        'loss_function':     'Logloss',\n",
    "        'iterations':        200,\n",
    "        'verbose':           False,\n",
    "        'random_state':      seed,\n",
    "        'learning_rate':     trial.suggest_float('learning_rate', 1e-2, 1e-1, log=True),\n",
    "        'max_depth':         trial.suggest_int('max_depth', 4, 8),\n",
    "        'l2_leaf_reg':       trial.suggest_float('l2_leaf_reg', 1e-3, 10.0, log=True),\n",
    "        'subsample':         trial.suggest_float('subsample', 0.4, 1.0),\n",
    "        'colsample_bylevel': trial.suggest_float('colsample_bylevel', 0.4, 1.0),\n",
    "        'min_data_in_leaf':  trial.suggest_int('min_data_in_leaf', 5, 100),\n",
    "        'scale_pos_weight':  trial.suggest_float('scale_pos_weight', 0.8, 4.0),\n",
    "        'bootstrap_type':    'Bayesian',  # Optional: depending on your use case, you may want to tune this as well\n",
    "    }\n",
    "\n",
    "    estimator = Pipeline([\n",
    "        ('sampler', RandomUnderSampler(sampling_strategy=sampling_ratio)),\n",
    "        ('classifier', cb.CatBoostClassifier(**params)),\n",
    "    ])\n",
    "\n",
    "    X = df_train[feature_cols]\n",
    "    y = df_train[target_col]\n",
    "    groups = df_train[group_col]\n",
    "    cv = StratifiedGroupKFold(5, shuffle=True)\n",
    "\n",
    "    val_score = cross_val_score(\n",
    "        estimator=estimator, \n",
    "        X=X, y=y, \n",
    "        cv=cv, \n",
    "        groups=groups,\n",
    "        scoring=custom_metric,\n",
    "    )\n",
    "\n",
    "    return np.mean(val_score)"
   ]
  },
  {
   "cell_type": "code",
   "execution_count": 22,
   "id": "69f33a67",
   "metadata": {
    "execution": {
     "iopub.execute_input": "2024-08-16T05:26:36.036846Z",
     "iopub.status.busy": "2024-08-16T05:26:36.036583Z",
     "iopub.status.idle": "2024-08-16T05:26:36.044818Z",
     "shell.execute_reply": "2024-08-16T05:26:36.044010Z"
    },
    "papermill": {
     "duration": 0.024818,
     "end_time": "2024-08-16T05:26:36.046708",
     "exception": false,
     "start_time": "2024-08-16T05:26:36.021890",
     "status": "completed"
    },
    "tags": []
   },
   "outputs": [],
   "source": [
    "def xgb_objective(trial):\n",
    "    params = {\n",
    "        'objective':          'binary:logistic',\n",
    "        'n_estimators':       200,\n",
    "        'tree_method':        'hist',\n",
    "        'random_state':       seed,\n",
    "        'learning_rate':      trial.suggest_float('learning_rate', 1e-2, 1e-1, log=True),\n",
    "        'max_depth':          trial.suggest_int('max_depth', 4, 8),\n",
    "        'lambda':             trial.suggest_float('lambda', 1e-3, 10.0, log=True),\n",
    "        'alpha':              trial.suggest_float('alpha', 1e-3, 10.0, log=True),\n",
    "        'subsample':          trial.suggest_float('subsample', 0.4, 1.0),\n",
    "        'colsample_bytree':   trial.suggest_float('colsample_bytree', 0.4, 1.0),\n",
    "        'colsample_bynode':   trial.suggest_float('colsample_bynode', 0.4, 1.0),\n",
    "        'scale_pos_weight':   trial.suggest_float('scale_pos_weight', 0.8, 4.0),\n",
    "    }\n",
    "\n",
    "    estimator = Pipeline([\n",
    "        ('sampler', RandomUnderSampler(sampling_strategy=sampling_ratio)),\n",
    "        ('classifier', xgb.XGBClassifier(**params)),\n",
    "    ])\n",
    "\n",
    "    X = df_train[feature_cols]\n",
    "    y = df_train[target_col]\n",
    "    groups = df_train[group_col]\n",
    "    cv = StratifiedGroupKFold(5, shuffle=True)\n",
    "\n",
    "    val_score = cross_val_score(\n",
    "        estimator=estimator, \n",
    "        X=X, y=y, \n",
    "        cv=cv, \n",
    "        groups=groups,\n",
    "        scoring=custom_metric,\n",
    "    )\n",
    "\n",
    "    return np.mean(val_score)"
   ]
  },
  {
   "cell_type": "code",
   "execution_count": 23,
   "id": "42b10ed6",
   "metadata": {
    "execution": {
     "iopub.execute_input": "2024-08-16T05:26:36.076298Z",
     "iopub.status.busy": "2024-08-16T05:26:36.076038Z",
     "iopub.status.idle": "2024-08-16T05:26:36.081088Z",
     "shell.execute_reply": "2024-08-16T05:26:36.080240Z"
    },
    "papermill": {
     "duration": 0.021895,
     "end_time": "2024-08-16T05:26:36.083056",
     "exception": false,
     "start_time": "2024-08-16T05:26:36.061161",
     "status": "completed"
    },
    "tags": []
   },
   "outputs": [],
   "source": [
    "if DO_TUNING:\n",
    "    # LightGBM\n",
    "    start_time = time.time()\n",
    "    study_lgb = optuna.create_study(direction='maximize', sampler=TPESampler(seed=seed))\n",
    "    study_lgb.optimize(lgb_objective, n_trials=50)\n",
    "    end_time = time.time()\n",
    "    elapsed_time_lgb = end_time - start_time\n",
    "    print(f\"LightGBM tuning took {elapsed_time_lgb:.2f} seconds.\")\n"
   ]
  },
  {
   "cell_type": "code",
   "execution_count": 24,
   "id": "6d4e292f",
   "metadata": {
    "execution": {
     "iopub.execute_input": "2024-08-16T05:26:36.112512Z",
     "iopub.status.busy": "2024-08-16T05:26:36.112227Z",
     "iopub.status.idle": "2024-08-16T05:26:36.118490Z",
     "shell.execute_reply": "2024-08-16T05:26:36.117216Z"
    },
    "papermill": {
     "duration": 0.023308,
     "end_time": "2024-08-16T05:26:36.120543",
     "exception": false,
     "start_time": "2024-08-16T05:26:36.097235",
     "status": "completed"
    },
    "tags": []
   },
   "outputs": [],
   "source": [
    "if DO_TUNING:\n",
    "    # CatBoost\n",
    "    start_time = time.time()\n",
    "    study_cb = optuna.create_study(direction='maximize', sampler=TPESampler(seed=seed))\n",
    "    study_cb.optimize(cb_objective, n_trials=50)\n",
    "    end_time = time.time()\n",
    "    elapsed_time_cb = end_time - start_time\n",
    "    print(f\"CatBoost tuning took {elapsed_time_cb:.2f} seconds.\")"
   ]
  },
  {
   "cell_type": "code",
   "execution_count": 25,
   "id": "b5529e5f",
   "metadata": {
    "execution": {
     "iopub.execute_input": "2024-08-16T05:26:36.150468Z",
     "iopub.status.busy": "2024-08-16T05:26:36.150156Z",
     "iopub.status.idle": "2024-08-16T05:26:36.155429Z",
     "shell.execute_reply": "2024-08-16T05:26:36.154530Z"
    },
    "papermill": {
     "duration": 0.022399,
     "end_time": "2024-08-16T05:26:36.157409",
     "exception": false,
     "start_time": "2024-08-16T05:26:36.135010",
     "status": "completed"
    },
    "tags": []
   },
   "outputs": [],
   "source": [
    "if DO_TUNING:\n",
    "    # XGBoost\n",
    "    start_time = time.time()\n",
    "    study_xgb = optuna.create_study(direction='maximize', sampler=TPESampler(seed=seed))\n",
    "    study_xgb.optimize(xgb_objective, n_trials=50)\n",
    "    end_time = time.time()\n",
    "    elapsed_time_xgb = end_time - start_time\n",
    "    print(f\"XGBoost tuning took {elapsed_time_xgb:.2f} seconds.\")"
   ]
  },
  {
   "cell_type": "code",
   "execution_count": 26,
   "id": "8dd33a24",
   "metadata": {
    "execution": {
     "iopub.execute_input": "2024-08-16T05:26:36.187324Z",
     "iopub.status.busy": "2024-08-16T05:26:36.186975Z",
     "iopub.status.idle": "2024-08-16T05:26:36.191482Z",
     "shell.execute_reply": "2024-08-16T05:26:36.190674Z"
    },
    "papermill": {
     "duration": 0.021806,
     "end_time": "2024-08-16T05:26:36.193463",
     "exception": false,
     "start_time": "2024-08-16T05:26:36.171657",
     "status": "completed"
    },
    "tags": []
   },
   "outputs": [],
   "source": [
    "if DO_TUNING:\n",
    "    # Print best parameters for each study\n",
    "    print(\"Best LGBM trial:\", study_lgb.best_trial)\n",
    "    print(\"Best CatBoost trial:\", study_cb.best_trial)\n",
    "    print(\"Best XGBoost trial:\", study_xgb.best_trial)"
   ]
  },
  {
   "cell_type": "markdown",
   "id": "cd97a1ee",
   "metadata": {
    "papermill": {
     "duration": 0.013912,
     "end_time": "2024-08-16T05:26:36.221606",
     "exception": false,
     "start_time": "2024-08-16T05:26:36.207694",
     "status": "completed"
    },
    "tags": []
   },
   "source": [
    "# TRAINING"
   ]
  },
  {
   "cell_type": "code",
   "execution_count": 27,
   "id": "9493bdc9",
   "metadata": {
    "execution": {
     "iopub.execute_input": "2024-08-16T05:26:36.250940Z",
     "iopub.status.busy": "2024-08-16T05:26:36.250608Z",
     "iopub.status.idle": "2024-08-16T05:27:29.317346Z",
     "shell.execute_reply": "2024-08-16T05:27:29.316390Z"
    },
    "papermill": {
     "duration": 53.099847,
     "end_time": "2024-08-16T05:27:29.335491",
     "exception": false,
     "start_time": "2024-08-16T05:26:36.235644",
     "status": "completed"
    },
    "tags": []
   },
   "outputs": [
    {
     "name": "stderr",
     "output_type": "stream",
     "text": [
      "/opt/conda/lib/python3.10/site-packages/lightgbm/engine.py:172: UserWarning: Found `n_iter` in params. Will use it instead of argument\n",
      "  _log_warning(f\"Found `{alias}` in params. Will use it instead of argument\")\n"
     ]
    },
    {
     "data": {
      "text/html": [
       "<style>#sk-container-id-1 {color: black;background-color: white;}#sk-container-id-1 pre{padding: 0;}#sk-container-id-1 div.sk-toggleable {background-color: white;}#sk-container-id-1 label.sk-toggleable__label {cursor: pointer;display: block;width: 100%;margin-bottom: 0;padding: 0.3em;box-sizing: border-box;text-align: center;}#sk-container-id-1 label.sk-toggleable__label-arrow:before {content: \"▸\";float: left;margin-right: 0.25em;color: #696969;}#sk-container-id-1 label.sk-toggleable__label-arrow:hover:before {color: black;}#sk-container-id-1 div.sk-estimator:hover label.sk-toggleable__label-arrow:before {color: black;}#sk-container-id-1 div.sk-toggleable__content {max-height: 0;max-width: 0;overflow: hidden;text-align: left;background-color: #f0f8ff;}#sk-container-id-1 div.sk-toggleable__content pre {margin: 0.2em;color: black;border-radius: 0.25em;background-color: #f0f8ff;}#sk-container-id-1 input.sk-toggleable__control:checked~div.sk-toggleable__content {max-height: 200px;max-width: 100%;overflow: auto;}#sk-container-id-1 input.sk-toggleable__control:checked~label.sk-toggleable__label-arrow:before {content: \"▾\";}#sk-container-id-1 div.sk-estimator input.sk-toggleable__control:checked~label.sk-toggleable__label {background-color: #d4ebff;}#sk-container-id-1 div.sk-label input.sk-toggleable__control:checked~label.sk-toggleable__label {background-color: #d4ebff;}#sk-container-id-1 input.sk-hidden--visually {border: 0;clip: rect(1px 1px 1px 1px);clip: rect(1px, 1px, 1px, 1px);height: 1px;margin: -1px;overflow: hidden;padding: 0;position: absolute;width: 1px;}#sk-container-id-1 div.sk-estimator {font-family: monospace;background-color: #f0f8ff;border: 1px dotted black;border-radius: 0.25em;box-sizing: border-box;margin-bottom: 0.5em;}#sk-container-id-1 div.sk-estimator:hover {background-color: #d4ebff;}#sk-container-id-1 div.sk-parallel-item::after {content: \"\";width: 100%;border-bottom: 1px solid gray;flex-grow: 1;}#sk-container-id-1 div.sk-label:hover label.sk-toggleable__label {background-color: #d4ebff;}#sk-container-id-1 div.sk-serial::before {content: \"\";position: absolute;border-left: 1px solid gray;box-sizing: border-box;top: 0;bottom: 0;left: 50%;z-index: 0;}#sk-container-id-1 div.sk-serial {display: flex;flex-direction: column;align-items: center;background-color: white;padding-right: 0.2em;padding-left: 0.2em;position: relative;}#sk-container-id-1 div.sk-item {position: relative;z-index: 1;}#sk-container-id-1 div.sk-parallel {display: flex;align-items: stretch;justify-content: center;background-color: white;position: relative;}#sk-container-id-1 div.sk-item::before, #sk-container-id-1 div.sk-parallel-item::before {content: \"\";position: absolute;border-left: 1px solid gray;box-sizing: border-box;top: 0;bottom: 0;left: 50%;z-index: -1;}#sk-container-id-1 div.sk-parallel-item {display: flex;flex-direction: column;z-index: 1;position: relative;background-color: white;}#sk-container-id-1 div.sk-parallel-item:first-child::after {align-self: flex-end;width: 50%;}#sk-container-id-1 div.sk-parallel-item:last-child::after {align-self: flex-start;width: 50%;}#sk-container-id-1 div.sk-parallel-item:only-child::after {width: 0;}#sk-container-id-1 div.sk-dashed-wrapped {border: 1px dashed gray;margin: 0 0.4em 0.5em 0.4em;box-sizing: border-box;padding-bottom: 0.4em;background-color: white;}#sk-container-id-1 div.sk-label label {font-family: monospace;font-weight: bold;display: inline-block;line-height: 1.2em;}#sk-container-id-1 div.sk-label-container {text-align: center;}#sk-container-id-1 div.sk-container {/* jupyter's `normalize.less` sets `[hidden] { display: none; }` but bootstrap.min.css set `[hidden] { display: none !important; }` so we also need the `!important` here to be able to override the default hidden behavior on the sphinx rendered scikit-learn.org. See: https://github.com/scikit-learn/scikit-learn/issues/21755 */display: inline-block !important;position: relative;}#sk-container-id-1 div.sk-text-repr-fallback {display: none;}</style><div id=\"sk-container-id-1\" class=\"sk-top-container\"><div class=\"sk-text-repr-fallback\"><pre>VotingClassifier(estimators=[(&#x27;lgb&#x27;,\n",
       "                              Pipeline(steps=[(&#x27;sampler_1&#x27;,\n",
       "                                               RandomOverSampler(random_state=42,\n",
       "                                                                 sampling_strategy=0.003)),\n",
       "                                              (&#x27;sampler_2&#x27;,\n",
       "                                               RandomUnderSampler(random_state=42,\n",
       "                                                                  sampling_strategy=0.01)),\n",
       "                                              (&#x27;classifier&#x27;,\n",
       "                                               LGBMClassifier(bagging_fraction=0.7566629263673749,\n",
       "                                                              bagging_freq=3,\n",
       "                                                              colsample_bynode=0.5185653955242486,\n",
       "                                                              colsample_bytree=0.8321087247563139,...\n",
       "                                                             importance_type=None,\n",
       "                                                             interaction_constraints=None,\n",
       "                                                             lambda=8.879624125465703,\n",
       "                                                             learning_rate=0.08501257473292347,\n",
       "                                                             max_bin=None,\n",
       "                                                             max_cat_threshold=None,\n",
       "                                                             max_cat_to_onehot=None,\n",
       "                                                             max_delta_step=None,\n",
       "                                                             max_depth=6,\n",
       "                                                             max_leaves=None,\n",
       "                                                             min_child_weight=None,\n",
       "                                                             missing=nan,\n",
       "                                                             monotone_constraints=None,\n",
       "                                                             multi_strategy=None,\n",
       "                                                             n_estimators=None,\n",
       "                                                             n_jobs=None, ...))]))],\n",
       "                 voting=&#x27;soft&#x27;)</pre><b>In a Jupyter environment, please rerun this cell to show the HTML representation or trust the notebook. <br />On GitHub, the HTML representation is unable to render, please try loading this page with nbviewer.org.</b></div><div class=\"sk-container\" hidden><div class=\"sk-item sk-dashed-wrapped\"><div class=\"sk-label-container\"><div class=\"sk-label sk-toggleable\"><input class=\"sk-toggleable__control sk-hidden--visually\" id=\"sk-estimator-id-1\" type=\"checkbox\" ><label for=\"sk-estimator-id-1\" class=\"sk-toggleable__label sk-toggleable__label-arrow\">VotingClassifier</label><div class=\"sk-toggleable__content\"><pre>VotingClassifier(estimators=[(&#x27;lgb&#x27;,\n",
       "                              Pipeline(steps=[(&#x27;sampler_1&#x27;,\n",
       "                                               RandomOverSampler(random_state=42,\n",
       "                                                                 sampling_strategy=0.003)),\n",
       "                                              (&#x27;sampler_2&#x27;,\n",
       "                                               RandomUnderSampler(random_state=42,\n",
       "                                                                  sampling_strategy=0.01)),\n",
       "                                              (&#x27;classifier&#x27;,\n",
       "                                               LGBMClassifier(bagging_fraction=0.7566629263673749,\n",
       "                                                              bagging_freq=3,\n",
       "                                                              colsample_bynode=0.5185653955242486,\n",
       "                                                              colsample_bytree=0.8321087247563139,...\n",
       "                                                             importance_type=None,\n",
       "                                                             interaction_constraints=None,\n",
       "                                                             lambda=8.879624125465703,\n",
       "                                                             learning_rate=0.08501257473292347,\n",
       "                                                             max_bin=None,\n",
       "                                                             max_cat_threshold=None,\n",
       "                                                             max_cat_to_onehot=None,\n",
       "                                                             max_delta_step=None,\n",
       "                                                             max_depth=6,\n",
       "                                                             max_leaves=None,\n",
       "                                                             min_child_weight=None,\n",
       "                                                             missing=nan,\n",
       "                                                             monotone_constraints=None,\n",
       "                                                             multi_strategy=None,\n",
       "                                                             n_estimators=None,\n",
       "                                                             n_jobs=None, ...))]))],\n",
       "                 voting=&#x27;soft&#x27;)</pre></div></div></div><div class=\"sk-parallel\"><div class=\"sk-parallel-item\"><div class=\"sk-item\"><div class=\"sk-label-container\"><div class=\"sk-label sk-toggleable\"><label>lgb</label></div></div><div class=\"sk-serial\"><div class=\"sk-item\"><div class=\"sk-serial\"><div class=\"sk-item\"><div class=\"sk-estimator sk-toggleable\"><input class=\"sk-toggleable__control sk-hidden--visually\" id=\"sk-estimator-id-2\" type=\"checkbox\" ><label for=\"sk-estimator-id-2\" class=\"sk-toggleable__label sk-toggleable__label-arrow\">RandomOverSampler</label><div class=\"sk-toggleable__content\"><pre>RandomOverSampler(random_state=42, sampling_strategy=0.003)</pre></div></div></div><div class=\"sk-item\"><div class=\"sk-estimator sk-toggleable\"><input class=\"sk-toggleable__control sk-hidden--visually\" id=\"sk-estimator-id-3\" type=\"checkbox\" ><label for=\"sk-estimator-id-3\" class=\"sk-toggleable__label sk-toggleable__label-arrow\">RandomUnderSampler</label><div class=\"sk-toggleable__content\"><pre>RandomUnderSampler(random_state=42, sampling_strategy=0.01)</pre></div></div></div><div class=\"sk-item\"><div class=\"sk-estimator sk-toggleable\"><input class=\"sk-toggleable__control sk-hidden--visually\" id=\"sk-estimator-id-4\" type=\"checkbox\" ><label for=\"sk-estimator-id-4\" class=\"sk-toggleable__label sk-toggleable__label-arrow\">LGBMClassifier</label><div class=\"sk-toggleable__content\"><pre>LGBMClassifier(bagging_fraction=0.7566629263673749, bagging_freq=3,\n",
       "               colsample_bynode=0.5185653955242486,\n",
       "               colsample_bytree=0.8321087247563139,\n",
       "               lambda_l1=0.00235456120910182, lambda_l2=2.942308631507106,\n",
       "               learning_rate=0.01818250152825126, max_depth=8,\n",
       "               min_data_in_leaf=79, n_iter=200, num_leaves=143,\n",
       "               objective=&#x27;binary&#x27;, random_state=42,\n",
       "               scale_pos_weight=2.7170326505640663, verbosity=-1)</pre></div></div></div></div></div></div></div></div><div class=\"sk-parallel-item\"><div class=\"sk-item\"><div class=\"sk-label-container\"><div class=\"sk-label sk-toggleable\"><label>cb</label></div></div><div class=\"sk-serial\"><div class=\"sk-item\"><div class=\"sk-serial\"><div class=\"sk-item\"><div class=\"sk-estimator sk-toggleable\"><input class=\"sk-toggleable__control sk-hidden--visually\" id=\"sk-estimator-id-5\" type=\"checkbox\" ><label for=\"sk-estimator-id-5\" class=\"sk-toggleable__label sk-toggleable__label-arrow\">RandomOverSampler</label><div class=\"sk-toggleable__content\"><pre>RandomOverSampler(random_state=42, sampling_strategy=0.003)</pre></div></div></div><div class=\"sk-item\"><div class=\"sk-estimator sk-toggleable\"><input class=\"sk-toggleable__control sk-hidden--visually\" id=\"sk-estimator-id-6\" type=\"checkbox\" ><label for=\"sk-estimator-id-6\" class=\"sk-toggleable__label sk-toggleable__label-arrow\">RandomUnderSampler</label><div class=\"sk-toggleable__content\"><pre>RandomUnderSampler(random_state=42, sampling_strategy=0.01)</pre></div></div></div><div class=\"sk-item\"><div class=\"sk-estimator sk-toggleable\"><input class=\"sk-toggleable__control sk-hidden--visually\" id=\"sk-estimator-id-7\" type=\"checkbox\" ><label for=\"sk-estimator-id-7\" class=\"sk-toggleable__label sk-toggleable__label-arrow\">CatBoostClassifier</label><div class=\"sk-toggleable__content\"><pre>&lt;catboost.core.CatBoostClassifier object at 0x7a49367c5270&gt;</pre></div></div></div></div></div></div></div></div><div class=\"sk-parallel-item\"><div class=\"sk-item\"><div class=\"sk-label-container\"><div class=\"sk-label sk-toggleable\"><label>xgb</label></div></div><div class=\"sk-serial\"><div class=\"sk-item\"><div class=\"sk-serial\"><div class=\"sk-item\"><div class=\"sk-estimator sk-toggleable\"><input class=\"sk-toggleable__control sk-hidden--visually\" id=\"sk-estimator-id-8\" type=\"checkbox\" ><label for=\"sk-estimator-id-8\" class=\"sk-toggleable__label sk-toggleable__label-arrow\">RandomOverSampler</label><div class=\"sk-toggleable__content\"><pre>RandomOverSampler(random_state=42, sampling_strategy=0.003)</pre></div></div></div><div class=\"sk-item\"><div class=\"sk-estimator sk-toggleable\"><input class=\"sk-toggleable__control sk-hidden--visually\" id=\"sk-estimator-id-9\" type=\"checkbox\" ><label for=\"sk-estimator-id-9\" class=\"sk-toggleable__label sk-toggleable__label-arrow\">RandomUnderSampler</label><div class=\"sk-toggleable__content\"><pre>RandomUnderSampler(random_state=42, sampling_strategy=0.01)</pre></div></div></div><div class=\"sk-item\"><div class=\"sk-estimator sk-toggleable\"><input class=\"sk-toggleable__control sk-hidden--visually\" id=\"sk-estimator-id-10\" type=\"checkbox\" ><label for=\"sk-estimator-id-10\" class=\"sk-toggleable__label sk-toggleable__label-arrow\">XGBClassifier</label><div class=\"sk-toggleable__content\"><pre>XGBClassifier(alpha=0.6779926606782505, base_score=None, booster=None,\n",
       "              callbacks=None, colsample_bylevel=0.5476090898823716,\n",
       "              colsample_bynode=0.9928601203635129,\n",
       "              colsample_bytree=0.8437772277074493, device=None,\n",
       "              early_stopping_rounds=None, enable_categorical=True,\n",
       "              eval_metric=None, feature_types=None, gamma=None,\n",
       "              grow_policy=None, importance_type=None,\n",
       "              interaction_constraints=None, lambda=8.879624125465703,\n",
       "              learning_rate=0.08501257473292347, max_bin=None,\n",
       "              max_cat_threshold=None, max_cat_to_onehot=None,\n",
       "              max_delta_step=None, max_depth=6, max_leaves=None,\n",
       "              min_child_weight=None, missing=nan, monotone_constraints=None,\n",
       "              multi_strategy=None, n_estimators=None, n_jobs=None, ...)</pre></div></div></div></div></div></div></div></div></div></div></div></div>"
      ],
      "text/plain": [
       "VotingClassifier(estimators=[('lgb',\n",
       "                              Pipeline(steps=[('sampler_1',\n",
       "                                               RandomOverSampler(random_state=42,\n",
       "                                                                 sampling_strategy=0.003)),\n",
       "                                              ('sampler_2',\n",
       "                                               RandomUnderSampler(random_state=42,\n",
       "                                                                  sampling_strategy=0.01)),\n",
       "                                              ('classifier',\n",
       "                                               LGBMClassifier(bagging_fraction=0.7566629263673749,\n",
       "                                                              bagging_freq=3,\n",
       "                                                              colsample_bynode=0.5185653955242486,\n",
       "                                                              colsample_bytree=0.8321087247563139,...\n",
       "                                                             importance_type=None,\n",
       "                                                             interaction_constraints=None,\n",
       "                                                             lambda=8.879624125465703,\n",
       "                                                             learning_rate=0.08501257473292347,\n",
       "                                                             max_bin=None,\n",
       "                                                             max_cat_threshold=None,\n",
       "                                                             max_cat_to_onehot=None,\n",
       "                                                             max_delta_step=None,\n",
       "                                                             max_depth=6,\n",
       "                                                             max_leaves=None,\n",
       "                                                             min_child_weight=None,\n",
       "                                                             missing=nan,\n",
       "                                                             monotone_constraints=None,\n",
       "                                                             multi_strategy=None,\n",
       "                                                             n_estimators=None,\n",
       "                                                             n_jobs=None, ...))]))],\n",
       "                 voting='soft')"
      ]
     },
     "execution_count": 27,
     "metadata": {},
     "output_type": "execute_result"
    }
   ],
   "source": [
    "X, y = df_train[feature_cols], df_train[target_col]\n",
    "\n",
    "estimator.fit(X, y)"
   ]
  },
  {
   "cell_type": "markdown",
   "id": "21db9002",
   "metadata": {
    "papermill": {
     "duration": 0.014523,
     "end_time": "2024-08-16T05:27:29.364716",
     "exception": false,
     "start_time": "2024-08-16T05:27:29.350193",
     "status": "completed"
    },
    "tags": []
   },
   "source": [
    "# LOOKING FOR FEATURE IMPORTANCE(lgb + xgb)"
   ]
  },
  {
   "cell_type": "code",
   "execution_count": 28,
   "id": "cde58bb1",
   "metadata": {
    "execution": {
     "iopub.execute_input": "2024-08-16T05:27:29.395940Z",
     "iopub.status.busy": "2024-08-16T05:27:29.395590Z",
     "iopub.status.idle": "2024-08-16T05:27:29.399696Z",
     "shell.execute_reply": "2024-08-16T05:27:29.398852Z"
    },
    "papermill": {
     "duration": 0.02215,
     "end_time": "2024-08-16T05:27:29.401605",
     "exception": false,
     "start_time": "2024-08-16T05:27:29.379455",
     "status": "completed"
    },
    "tags": []
   },
   "outputs": [],
   "source": [
    "DO_FEATURE_IMPORTANCE_MODELS = False"
   ]
  },
  {
   "cell_type": "code",
   "execution_count": 29,
   "id": "a6935298",
   "metadata": {
    "execution": {
     "iopub.execute_input": "2024-08-16T05:27:29.432568Z",
     "iopub.status.busy": "2024-08-16T05:27:29.432211Z",
     "iopub.status.idle": "2024-08-16T05:27:29.438648Z",
     "shell.execute_reply": "2024-08-16T05:27:29.437753Z"
    },
    "papermill": {
     "duration": 0.02416,
     "end_time": "2024-08-16T05:27:29.440432",
     "exception": false,
     "start_time": "2024-08-16T05:27:29.416272",
     "status": "completed"
    },
    "tags": []
   },
   "outputs": [],
   "source": [
    "if DO_FEATURE_IMPORTANCE_MODELS:\n",
    "    lgb_model = estimator.named_estimators_['lgb'].named_steps['classifier']\n",
    "    lgb_feature_importance = lgb_model.booster_.feature_importance(importance_type='gain')\n",
    "    lgb_feature_importance_df = pd.DataFrame({\n",
    "        'feature': X.columns,\n",
    "        'importance': lgb_feature_importance\n",
    "    }).sort_values(by='importance', ascending=False)\n",
    "\n",
    "\n",
    "    xgb_model = estimator.named_estimators_['xgb'].named_steps['classifier']\n",
    "    xgb_feature_importance = xgb_model.get_booster().get_score(importance_type='weight')\n",
    "    xgb_feature_importance_df = pd.DataFrame({\n",
    "        'feature': xgb_feature_importance.keys(),\n",
    "        'importance': xgb_feature_importance.values()\n",
    "    }).sort_values(by='importance', ascending=False)\n",
    "\n",
    "\n"
   ]
  },
  {
   "cell_type": "code",
   "execution_count": 30,
   "id": "a8110b21",
   "metadata": {
    "execution": {
     "iopub.execute_input": "2024-08-16T05:27:29.470549Z",
     "iopub.status.busy": "2024-08-16T05:27:29.470277Z",
     "iopub.status.idle": "2024-08-16T05:27:29.474132Z",
     "shell.execute_reply": "2024-08-16T05:27:29.473315Z"
    },
    "papermill": {
     "duration": 0.020963,
     "end_time": "2024-08-16T05:27:29.475896",
     "exception": false,
     "start_time": "2024-08-16T05:27:29.454933",
     "status": "completed"
    },
    "tags": []
   },
   "outputs": [],
   "source": [
    "if DO_FEATURE_IMPORTANCE_MODELS:\n",
    "\n",
    "    print(lgb_feature_importance_df)\n",
    "    print(xgb_feature_importance_df)"
   ]
  },
  {
   "cell_type": "markdown",
   "id": "860c23e4",
   "metadata": {
    "papermill": {
     "duration": 0.01434,
     "end_time": "2024-08-16T05:27:29.504681",
     "exception": false,
     "start_time": "2024-08-16T05:27:29.490341",
     "status": "completed"
    },
    "tags": []
   },
   "source": [
    "# LEAST IMPORTANT FEATURES"
   ]
  },
  {
   "cell_type": "code",
   "execution_count": 31,
   "id": "e38d17bf",
   "metadata": {
    "execution": {
     "iopub.execute_input": "2024-08-16T05:27:29.535121Z",
     "iopub.status.busy": "2024-08-16T05:27:29.534327Z",
     "iopub.status.idle": "2024-08-16T05:27:29.540020Z",
     "shell.execute_reply": "2024-08-16T05:27:29.538863Z"
    },
    "papermill": {
     "duration": 0.024328,
     "end_time": "2024-08-16T05:27:29.543347",
     "exception": false,
     "start_time": "2024-08-16T05:27:29.519019",
     "status": "completed"
    },
    "tags": []
   },
   "outputs": [],
   "source": [
    "if DO_FEATURE_IMPORTANCE_MODELS:\n",
    "\n",
    "    # Assuming lgb_feature_importance_df is already created and contains the feature importances\n",
    "    least_important_lgb = lgb_feature_importance_df.sort_values(by='importance').head(24)\n",
    "\n",
    "    print(\"Least Important Features in LightGBM:\")\n",
    "    print(least_important_lgb)\n",
    "\n",
    "    # Convert the xgb_feature_importance to a DataFrame for easier manipulation\n",
    "    least_important_xgb = xgb_feature_importance_df.sort_values(by = \"importance\").head(6)\n",
    "\n",
    "\n",
    "    print(\"\\nLeast Important Features in XGBoost:\")\n",
    "    print(least_important_xgb)"
   ]
  },
  {
   "cell_type": "code",
   "execution_count": 32,
   "id": "b77054f8",
   "metadata": {
    "execution": {
     "iopub.execute_input": "2024-08-16T05:27:29.574388Z",
     "iopub.status.busy": "2024-08-16T05:27:29.574050Z",
     "iopub.status.idle": "2024-08-16T05:27:29.579112Z",
     "shell.execute_reply": "2024-08-16T05:27:29.578268Z"
    },
    "papermill": {
     "duration": 0.022637,
     "end_time": "2024-08-16T05:27:29.580931",
     "exception": false,
     "start_time": "2024-08-16T05:27:29.558294",
     "status": "completed"
    },
    "tags": []
   },
   "outputs": [],
   "source": [
    "if DO_FEATURE_IMPORTANCE_MODELS:\n",
    "\n",
    "    # Extract the least important feature names from both LightGBM and XGBoost\n",
    "    least_important_lgb_features = least_important_lgb['feature'].tolist()\n",
    "    least_important_xgb_features = least_important_xgb['feature'].tolist()\n",
    "\n",
    "    # Find the intersection of the two lists\n",
    "    common_least_important_features = list(set(least_important_lgb_features) & set(least_important_xgb_features))\n",
    "\n",
    "    print(\"Common Least Important Features in Both LightGBM and XGBoost:\")\n",
    "    print(common_least_important_features)\n"
   ]
  },
  {
   "cell_type": "markdown",
   "id": "eb1c8761",
   "metadata": {
    "papermill": {
     "duration": 0.014748,
     "end_time": "2024-08-16T05:27:29.610352",
     "exception": false,
     "start_time": "2024-08-16T05:27:29.595604",
     "status": "completed"
    },
    "tags": []
   },
   "source": [
    "# LOOKING FOR FEATURE IMPORTANCE(Tests)"
   ]
  },
  {
   "cell_type": "code",
   "execution_count": 33,
   "id": "aed678e6",
   "metadata": {
    "execution": {
     "iopub.execute_input": "2024-08-16T05:27:29.641994Z",
     "iopub.status.busy": "2024-08-16T05:27:29.641608Z",
     "iopub.status.idle": "2024-08-16T05:27:29.645893Z",
     "shell.execute_reply": "2024-08-16T05:27:29.645000Z"
    },
    "papermill": {
     "duration": 0.022615,
     "end_time": "2024-08-16T05:27:29.647843",
     "exception": false,
     "start_time": "2024-08-16T05:27:29.625228",
     "status": "completed"
    },
    "tags": []
   },
   "outputs": [],
   "source": [
    "DO_FEATURE_IMPORTANCE_TEST = False"
   ]
  },
  {
   "cell_type": "code",
   "execution_count": 34,
   "id": "45eef7d7",
   "metadata": {
    "execution": {
     "iopub.execute_input": "2024-08-16T05:27:29.678242Z",
     "iopub.status.busy": "2024-08-16T05:27:29.677949Z",
     "iopub.status.idle": "2024-08-16T05:27:29.688814Z",
     "shell.execute_reply": "2024-08-16T05:27:29.688022Z"
    },
    "papermill": {
     "duration": 0.028135,
     "end_time": "2024-08-16T05:27:29.690693",
     "exception": false,
     "start_time": "2024-08-16T05:27:29.662558",
     "status": "completed"
    },
    "tags": []
   },
   "outputs": [],
   "source": [
    "if DO_FEATURE_IMPORTANCE_TEST:\n",
    "    X = df_train[feature_cols]\n",
    "    y = df_train[target_col]\n",
    "\n",
    "    # Separate continuous and categorical features\n",
    "    continuous_features = num_cols + norm_cols + new_num_cols\n",
    "    # Fill null values of continuous features with their median values\n",
    "    X[continuous_features] = X[continuous_features].apply(lambda x: x.fillna(x.median()))\n",
    "\n",
    "\n",
    "    # Correlation Matrix for continuous features\n",
    "    corr_matrix = df_train[continuous_features + ['target']].corr()\n",
    "    threshold = 0.01\n",
    "    relevant_features_corr = corr_matrix[abs(corr_matrix['target']) > threshold].index\n",
    "    selected_features_corr = relevant_features_corr.drop('target')\n",
    "    print(\"Selected continuous features based on correlation threshold:\")\n",
    "    print(selected_features_corr)\n",
    "    print(len(selected_features_corr))\n",
    "\n",
    "    # Chi-Square Test for categorical features\n",
    "    chi2_selector = SelectKBest(chi2, k=15)\n",
    "    chi2_selector.fit_transform(X[cat_cols], y)\n",
    "    selected_features_chi2 = X[cat_cols].columns[chi2_selector.get_support()]\n",
    "    print(\"Selected categorical features based on Chi-Square Test:\")\n",
    "    print(selected_features_chi2)\n",
    "\n",
    "    # Mutual Information for all features\n",
    "    mi_selector = SelectKBest(mutual_info_classif, k=15)\n",
    "    mi_selector.fit_transform(X, y)\n",
    "    selected_features_mi = X.columns[mi_selector.get_support()]\n",
    "    print(\"Selected features based on Mutual Information:\")\n",
    "    print(selected_features_mi)\n",
    "\n",
    "    # Variance Threshold for continuous features\n",
    "    threshold = 0.05\n",
    "    var_threshold = VarianceThreshold(threshold=threshold)\n",
    "    var_threshold.fit_transform(X[continuous_features])\n",
    "    selected_features_var = X[continuous_features].columns[var_threshold.get_support()]\n",
    "    print(\"Selected continuous features based on Variance Threshold:\")\n",
    "    print(selected_features_var)\n",
    "    print(len(selected_features_var))\n",
    "\n",
    "\n",
    "    # Combine all selected features\n",
    "    selected_features_all = set(selected_features_corr) | set(selected_features_chi2) | set(selected_features_mi) | set(selected_features_var)\n",
    "\n",
    "    # Original features\n",
    "    original_features = set(X.columns)\n",
    "\n",
    "    # Find features not selected by any method\n",
    "    least_selected_features = original_features - selected_features_all\n",
    "\n",
    "    boosting_selected_features = set()\n",
    "\n",
    "    least_selected_features_list = list(least_selected_features | boosting_selected_features)\n",
    "\n",
    "    print(least_selected_features)"
   ]
  },
  {
   "cell_type": "markdown",
   "id": "972574a5",
   "metadata": {
    "papermill": {
     "duration": 0.014193,
     "end_time": "2024-08-16T05:27:29.719602",
     "exception": false,
     "start_time": "2024-08-16T05:27:29.705409",
     "status": "completed"
    },
    "tags": []
   },
   "source": [
    "# TEST PREDICTION"
   ]
  },
  {
   "cell_type": "code",
   "execution_count": 35,
   "id": "c7a61d03",
   "metadata": {
    "execution": {
     "iopub.execute_input": "2024-08-16T05:27:29.750004Z",
     "iopub.status.busy": "2024-08-16T05:27:29.749301Z",
     "iopub.status.idle": "2024-08-16T05:27:29.842095Z",
     "shell.execute_reply": "2024-08-16T05:27:29.841230Z"
    },
    "papermill": {
     "duration": 0.110481,
     "end_time": "2024-08-16T05:27:29.844590",
     "exception": false,
     "start_time": "2024-08-16T05:27:29.734109",
     "status": "completed"
    },
    "tags": []
   },
   "outputs": [
    {
     "data": {
      "text/html": [
       "<div>\n",
       "<style scoped>\n",
       "    .dataframe tbody tr th:only-of-type {\n",
       "        vertical-align: middle;\n",
       "    }\n",
       "\n",
       "    .dataframe tbody tr th {\n",
       "        vertical-align: top;\n",
       "    }\n",
       "\n",
       "    .dataframe thead th {\n",
       "        text-align: right;\n",
       "    }\n",
       "</style>\n",
       "<table border=\"1\" class=\"dataframe\">\n",
       "  <thead>\n",
       "    <tr style=\"text-align: right;\">\n",
       "      <th></th>\n",
       "      <th>target</th>\n",
       "    </tr>\n",
       "    <tr>\n",
       "      <th>isic_id</th>\n",
       "      <th></th>\n",
       "    </tr>\n",
       "  </thead>\n",
       "  <tbody>\n",
       "    <tr>\n",
       "      <th>ISIC_0015657</th>\n",
       "      <td>0.018757</td>\n",
       "    </tr>\n",
       "    <tr>\n",
       "      <th>ISIC_0015729</th>\n",
       "      <td>0.034157</td>\n",
       "    </tr>\n",
       "    <tr>\n",
       "      <th>ISIC_0015740</th>\n",
       "      <td>0.093966</td>\n",
       "    </tr>\n",
       "  </tbody>\n",
       "</table>\n",
       "</div>"
      ],
      "text/plain": [
       "                target\n",
       "isic_id               \n",
       "ISIC_0015657  0.018757\n",
       "ISIC_0015729  0.034157\n",
       "ISIC_0015740  0.093966"
      ]
     },
     "execution_count": 35,
     "metadata": {},
     "output_type": "execute_result"
    }
   ],
   "source": [
    "df_subm['target'] = estimator.predict_proba(df_test[feature_cols])[:, 1]\n",
    "\n",
    "df_subm.to_csv('submission.csv')\n",
    "df_subm.head()"
   ]
  },
  {
   "cell_type": "code",
   "execution_count": null,
   "id": "10d058a6",
   "metadata": {
    "papermill": {
     "duration": 0.014822,
     "end_time": "2024-08-16T05:27:29.875972",
     "exception": false,
     "start_time": "2024-08-16T05:27:29.861150",
     "status": "completed"
    },
    "tags": []
   },
   "outputs": [],
   "source": []
  }
 ],
 "metadata": {
  "kaggle": {
   "accelerator": "gpu",
   "dataSources": [
    {
     "databundleVersionId": 9094797,
     "sourceId": 63056,
     "sourceType": "competition"
    },
    {
     "sourceId": 191768618,
     "sourceType": "kernelVersion"
    },
    {
     "sourceId": 191776152,
     "sourceType": "kernelVersion"
    },
    {
     "sourceId": 191797591,
     "sourceType": "kernelVersion"
    },
    {
     "sourceId": 191940917,
     "sourceType": "kernelVersion"
    },
    {
     "sourceId": 192633811,
     "sourceType": "kernelVersion"
    },
    {
     "sourceId": 192651270,
     "sourceType": "kernelVersion"
    }
   ],
   "dockerImageVersionId": 30747,
   "isGpuEnabled": true,
   "isInternetEnabled": false,
   "language": "python",
   "sourceType": "notebook"
  },
  "kernelspec": {
   "display_name": "Python 3",
   "language": "python",
   "name": "python3"
  },
  "language_info": {
   "codemirror_mode": {
    "name": "ipython",
    "version": 3
   },
   "file_extension": ".py",
   "mimetype": "text/x-python",
   "name": "python",
   "nbconvert_exporter": "python",
   "pygments_lexer": "ipython3",
   "version": "3.10.13"
  },
  "papermill": {
   "default_parameters": {},
   "duration": 330.880289,
   "end_time": "2024-08-16T05:27:30.712005",
   "environment_variables": {},
   "exception": null,
   "input_path": "__notebook__.ipynb",
   "output_path": "__notebook__.ipynb",
   "parameters": {},
   "start_time": "2024-08-16T05:21:59.831716",
   "version": "2.5.0"
  }
 },
 "nbformat": 4,
 "nbformat_minor": 5
}
