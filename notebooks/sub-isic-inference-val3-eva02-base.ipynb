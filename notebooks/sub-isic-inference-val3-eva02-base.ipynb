{
 "cells": [
  {
   "cell_type": "markdown",
   "id": "2fbff0a1",
   "metadata": {
    "papermill": {
     "duration": 0.007623,
     "end_time": "2024-08-30T04:05:02.595675",
     "exception": false,
     "start_time": "2024-08-30T04:05:02.588052",
     "status": "completed"
    },
    "tags": []
   },
   "source": [
    "# <span><h1 style = \"font-family: garamond; font-size: 40px; font-style: normal; letter-spcaing: 3px; background-color: #f6f5f5; color :#fe346e; border-radius: 100px 100px; text-align:center\">Import Required Libraries 📚</h1></span>"
   ]
  },
  {
   "cell_type": "code",
   "execution_count": 4,
   "id": "425abfad",
   "metadata": {
    "execution": {
     "iopub.execute_input": "2024-08-30T04:05:02.611308Z",
     "iopub.status.busy": "2024-08-30T04:05:02.610900Z",
     "iopub.status.idle": "2024-08-30T04:05:32.383091Z",
     "shell.execute_reply": "2024-08-30T04:05:32.382070Z"
    },
    "papermill": {
     "duration": 29.78274,
     "end_time": "2024-08-30T04:05:32.385470",
     "exception": false,
     "start_time": "2024-08-30T04:05:02.602730",
     "status": "completed"
    },
    "tags": []
   },
   "outputs": [],
   "source": [
    "import os\n",
    "import gc\n",
    "import cv2\n",
    "import math\n",
    "import copy\n",
    "import time\n",
    "import random\n",
    "import glob\n",
    "from matplotlib import pyplot as plt\n",
    "\n",
    "import h5py\n",
    "from PIL import Image\n",
    "from io import BytesIO\n",
    "\n",
    "# For data manipulation\n",
    "import numpy as np\n",
    "import pandas as pd\n",
    "\n",
    "# Pytorch Imports\n",
    "import torch\n",
    "import torch.nn as nn\n",
    "import torch.optim as optim\n",
    "import torch.nn.functional as F\n",
    "from torch.optim import lr_scheduler\n",
    "from torch.utils.data import Dataset, DataLoader\n",
    "from torch.cuda import amp\n",
    "import torchvision\n",
    "\n",
    "# Utils\n",
    "import joblib\n",
    "from tqdm import tqdm\n",
    "from collections import defaultdict\n",
    "\n",
    "# Sklearn Imports\n",
    "from sklearn.preprocessing import LabelEncoder\n",
    "from sklearn.model_selection import StratifiedKFold, StratifiedGroupKFold\n",
    "from sklearn.metrics import roc_auc_score\n",
    "\n",
    "# For Image Models\n",
    "import timm\n",
    "\n",
    "# Albumentations for augmentations\n",
    "import albumentations as A\n",
    "from albumentations.pytorch import ToTensorV2\n",
    "\n",
    "# For colored terminal text\n",
    "from colorama import Fore, Back, Style\n",
    "b_ = Fore.BLUE\n",
    "sr_ = Style.RESET_ALL\n",
    "\n",
    "import warnings\n",
    "warnings.filterwarnings(\"ignore\")\n",
    "\n",
    "# For descriptive error messages\n",
    "os.environ['CUDA_LAUNCH_BLOCKING'] = \"1\""
   ]
  },
  {
   "cell_type": "markdown",
   "id": "1fe105ba",
   "metadata": {
    "papermill": {
     "duration": 0.006932,
     "end_time": "2024-08-30T04:05:32.399770",
     "exception": false,
     "start_time": "2024-08-30T04:05:32.392838",
     "status": "completed"
    },
    "tags": []
   },
   "source": [
    "# <span><h1 style = \"font-family: garamond; font-size: 40px; font-style: normal; letter-spcaing: 3px; background-color: #f6f5f5; color :#fe346e; border-radius: 100px 100px; text-align:center\">Training Configuration ⚙️</h1></span>"
   ]
  },
  {
   "cell_type": "code",
   "execution_count": 5,
   "id": "590741dc",
   "metadata": {
    "execution": {
     "iopub.execute_input": "2024-08-30T04:05:32.416748Z",
     "iopub.status.busy": "2024-08-30T04:05:32.415652Z",
     "iopub.status.idle": "2024-08-30T04:05:32.479270Z",
     "shell.execute_reply": "2024-08-30T04:05:32.478236Z"
    },
    "papermill": {
     "duration": 0.074355,
     "end_time": "2024-08-30T04:05:32.481362",
     "exception": false,
     "start_time": "2024-08-30T04:05:32.407007",
     "status": "completed"
    },
    "tags": []
   },
   "outputs": [],
   "source": [
    "CONFIG = {\n",
    "    \"n_fold\": 5,\n",
    "    \"seed\": 42,\n",
    "    \"img_size\": 224,\n",
    "    \"model_name\": \"eva02_base_patch14_224.mim_in22k\",\n",
    "    \"valid_batch_size\": 64,\n",
    "    \"dropout_rate\": 0.2,\n",
    "    \"device\": torch.device(\"cuda:0\" if torch.cuda.is_available() else \"cpu\"),\n",
    "    \"TTA\": False,\n",
    "    \"save_dir\": \"../proc/preds\",\n",
    "    \"EXP_NAME\": \"sub-isic-inference-val3-eva02-base\"\n",
    "}"
   ]
  },
  {
   "cell_type": "markdown",
   "id": "6e10a204",
   "metadata": {
    "papermill": {
     "duration": 0.006998,
     "end_time": "2024-08-30T04:05:32.495622",
     "exception": false,
     "start_time": "2024-08-30T04:05:32.488624",
     "status": "completed"
    },
    "tags": []
   },
   "source": [
    "# <span><h1 style = \"font-family: garamond; font-size: 40px; font-style: normal; letter-spcaing: 3px; background-color: #f6f5f5; color :#fe346e; border-radius: 100px 100px; text-align:center\">Set Seed for Reproducibility</h1></span>"
   ]
  },
  {
   "cell_type": "code",
   "execution_count": 6,
   "id": "b3700db9",
   "metadata": {
    "execution": {
     "iopub.execute_input": "2024-08-30T04:05:32.512084Z",
     "iopub.status.busy": "2024-08-30T04:05:32.511120Z",
     "iopub.status.idle": "2024-08-30T04:05:32.524073Z",
     "shell.execute_reply": "2024-08-30T04:05:32.523282Z"
    },
    "papermill": {
     "duration": 0.023423,
     "end_time": "2024-08-30T04:05:32.526175",
     "exception": false,
     "start_time": "2024-08-30T04:05:32.502752",
     "status": "completed"
    },
    "tags": []
   },
   "outputs": [],
   "source": [
    "def set_seed(seed=42):\n",
    "    '''Sets the seed of the entire notebook so results are the same every time we run.\n",
    "    This is for REPRODUCIBILITY.'''\n",
    "    np.random.seed(seed)\n",
    "    torch.manual_seed(seed)\n",
    "    torch.cuda.manual_seed(seed)\n",
    "    # When running on the CuDNN backend, two further options must be set\n",
    "    torch.backends.cudnn.deterministic = True\n",
    "    torch.backends.cudnn.benchmark = False\n",
    "    # Set a fixed value for the hash seed\n",
    "    os.environ['PYTHONHASHSEED'] = str(seed)\n",
    "    \n",
    "set_seed(CONFIG['seed'])"
   ]
  },
  {
   "cell_type": "code",
   "execution_count": 7,
   "id": "13e8f702",
   "metadata": {
    "execution": {
     "iopub.execute_input": "2024-08-30T04:05:32.542751Z",
     "iopub.status.busy": "2024-08-30T04:05:32.541778Z",
     "iopub.status.idle": "2024-08-30T04:05:32.546712Z",
     "shell.execute_reply": "2024-08-30T04:05:32.545916Z"
    },
    "papermill": {
     "duration": 0.015284,
     "end_time": "2024-08-30T04:05:32.548771",
     "exception": false,
     "start_time": "2024-08-30T04:05:32.533487",
     "status": "completed"
    },
    "tags": []
   },
   "outputs": [],
   "source": [
    "ROOT_DIR = \"../raw\"\n",
    "VAL_CSV = f'{ROOT_DIR}/train-metadata.csv'\n",
    "VAL_HDF = f'{ROOT_DIR}/train-image.hdf5'\n",
    "TEST_CSV = f'{ROOT_DIR}/test-metadata.csv'\n",
    "TEST_HDF = f'{ROOT_DIR}/test-image.hdf5'\n",
    "SAMPLE = f'{ROOT_DIR}/sample_submission.csv'"
   ]
  },
  {
   "cell_type": "markdown",
   "id": "154e0ddc",
   "metadata": {
    "papermill": {
     "duration": 0.007022,
     "end_time": "2024-08-30T04:05:32.562976",
     "exception": false,
     "start_time": "2024-08-30T04:05:32.555954",
     "status": "completed"
    },
    "tags": []
   },
   "source": [
    "# <h1 style = \"font-family: garamond; font-size: 40px; font-style: normal; letter-spcaing: 3px; background-color: #f6f5f5; color :#fe346e; border-radius: 100px 100px; text-align:center\">Read the Data 📖</h1>"
   ]
  },
  {
   "cell_type": "code",
   "execution_count": 8,
   "id": "3913d6a4",
   "metadata": {
    "execution": {
     "iopub.execute_input": "2024-08-30T04:05:32.578698Z",
     "iopub.status.busy": "2024-08-30T04:05:32.578321Z",
     "iopub.status.idle": "2024-08-30T04:05:39.683938Z",
     "shell.execute_reply": "2024-08-30T04:05:39.683080Z"
    },
    "papermill": {
     "duration": 7.116041,
     "end_time": "2024-08-30T04:05:39.686025",
     "exception": false,
     "start_time": "2024-08-30T04:05:32.569984",
     "status": "completed"
    },
    "tags": []
   },
   "outputs": [],
   "source": [
    "df = pd.read_csv(VAL_CSV)\n",
    "\n",
    "# df_test = pd.read_csv(TEST_CSV)\n",
    "# df_test[\"target\"] = 0\n",
    "\n",
    "# df_sub = pd.read_csv(SAMPLE)\n",
    "# df_sub[\"target\"] = 0\n",
    "# df_sub"
   ]
  },
  {
   "cell_type": "code",
   "execution_count": 9,
   "id": "3524fc72",
   "metadata": {
    "execution": {
     "iopub.execute_input": "2024-08-30T04:05:39.702462Z",
     "iopub.status.busy": "2024-08-30T04:05:39.701674Z",
     "iopub.status.idle": "2024-08-30T04:05:42.225128Z",
     "shell.execute_reply": "2024-08-30T04:05:42.224228Z"
    },
    "papermill": {
     "duration": 2.534071,
     "end_time": "2024-08-30T04:05:42.227641",
     "exception": false,
     "start_time": "2024-08-30T04:05:39.693570",
     "status": "completed"
    },
    "tags": []
   },
   "outputs": [
    {
     "data": {
      "text/html": [
       "<div>\n",
       "<style scoped>\n",
       "    .dataframe tbody tr th:only-of-type {\n",
       "        vertical-align: middle;\n",
       "    }\n",
       "\n",
       "    .dataframe tbody tr th {\n",
       "        vertical-align: top;\n",
       "    }\n",
       "\n",
       "    .dataframe thead th {\n",
       "        text-align: right;\n",
       "    }\n",
       "</style>\n",
       "<table border=\"1\" class=\"dataframe\">\n",
       "  <thead>\n",
       "    <tr style=\"text-align: right;\">\n",
       "      <th></th>\n",
       "      <th>isic_id</th>\n",
       "      <th>target</th>\n",
       "      <th>patient_id</th>\n",
       "      <th>age_approx</th>\n",
       "      <th>sex</th>\n",
       "      <th>anatom_site_general</th>\n",
       "      <th>clin_size_long_diam_mm</th>\n",
       "      <th>image_type</th>\n",
       "      <th>tbp_tile_type</th>\n",
       "      <th>tbp_lv_A</th>\n",
       "      <th>...</th>\n",
       "      <th>iddx_full</th>\n",
       "      <th>iddx_1</th>\n",
       "      <th>iddx_2</th>\n",
       "      <th>iddx_3</th>\n",
       "      <th>iddx_4</th>\n",
       "      <th>iddx_5</th>\n",
       "      <th>mel_mitotic_index</th>\n",
       "      <th>mel_thick_mm</th>\n",
       "      <th>tbp_lv_dnn_lesion_confidence</th>\n",
       "      <th>kfold</th>\n",
       "    </tr>\n",
       "  </thead>\n",
       "  <tbody>\n",
       "    <tr>\n",
       "      <th>0</th>\n",
       "      <td>ISIC_0015670</td>\n",
       "      <td>0</td>\n",
       "      <td>IP_1235828</td>\n",
       "      <td>60.0</td>\n",
       "      <td>male</td>\n",
       "      <td>lower extremity</td>\n",
       "      <td>3.04</td>\n",
       "      <td>TBP tile: close-up</td>\n",
       "      <td>3D: white</td>\n",
       "      <td>20.244422</td>\n",
       "      <td>...</td>\n",
       "      <td>Benign</td>\n",
       "      <td>Benign</td>\n",
       "      <td>NaN</td>\n",
       "      <td>NaN</td>\n",
       "      <td>NaN</td>\n",
       "      <td>NaN</td>\n",
       "      <td>NaN</td>\n",
       "      <td>NaN</td>\n",
       "      <td>97.517282</td>\n",
       "      <td>4.0</td>\n",
       "    </tr>\n",
       "    <tr>\n",
       "      <th>1</th>\n",
       "      <td>ISIC_0015845</td>\n",
       "      <td>0</td>\n",
       "      <td>IP_8170065</td>\n",
       "      <td>60.0</td>\n",
       "      <td>male</td>\n",
       "      <td>head/neck</td>\n",
       "      <td>1.10</td>\n",
       "      <td>TBP tile: close-up</td>\n",
       "      <td>3D: white</td>\n",
       "      <td>31.712570</td>\n",
       "      <td>...</td>\n",
       "      <td>Benign</td>\n",
       "      <td>Benign</td>\n",
       "      <td>NaN</td>\n",
       "      <td>NaN</td>\n",
       "      <td>NaN</td>\n",
       "      <td>NaN</td>\n",
       "      <td>NaN</td>\n",
       "      <td>NaN</td>\n",
       "      <td>3.141455</td>\n",
       "      <td>2.0</td>\n",
       "    </tr>\n",
       "    <tr>\n",
       "      <th>2</th>\n",
       "      <td>ISIC_0015864</td>\n",
       "      <td>0</td>\n",
       "      <td>IP_6724798</td>\n",
       "      <td>60.0</td>\n",
       "      <td>male</td>\n",
       "      <td>posterior torso</td>\n",
       "      <td>3.40</td>\n",
       "      <td>TBP tile: close-up</td>\n",
       "      <td>3D: XP</td>\n",
       "      <td>22.575830</td>\n",
       "      <td>...</td>\n",
       "      <td>Benign</td>\n",
       "      <td>Benign</td>\n",
       "      <td>NaN</td>\n",
       "      <td>NaN</td>\n",
       "      <td>NaN</td>\n",
       "      <td>NaN</td>\n",
       "      <td>NaN</td>\n",
       "      <td>NaN</td>\n",
       "      <td>99.804040</td>\n",
       "      <td>1.0</td>\n",
       "    </tr>\n",
       "    <tr>\n",
       "      <th>3</th>\n",
       "      <td>ISIC_0015902</td>\n",
       "      <td>0</td>\n",
       "      <td>IP_4111386</td>\n",
       "      <td>65.0</td>\n",
       "      <td>male</td>\n",
       "      <td>anterior torso</td>\n",
       "      <td>3.22</td>\n",
       "      <td>TBP tile: close-up</td>\n",
       "      <td>3D: XP</td>\n",
       "      <td>14.242329</td>\n",
       "      <td>...</td>\n",
       "      <td>Benign</td>\n",
       "      <td>Benign</td>\n",
       "      <td>NaN</td>\n",
       "      <td>NaN</td>\n",
       "      <td>NaN</td>\n",
       "      <td>NaN</td>\n",
       "      <td>NaN</td>\n",
       "      <td>NaN</td>\n",
       "      <td>99.989998</td>\n",
       "      <td>2.0</td>\n",
       "    </tr>\n",
       "    <tr>\n",
       "      <th>4</th>\n",
       "      <td>ISIC_0024200</td>\n",
       "      <td>0</td>\n",
       "      <td>IP_8313778</td>\n",
       "      <td>55.0</td>\n",
       "      <td>male</td>\n",
       "      <td>anterior torso</td>\n",
       "      <td>2.73</td>\n",
       "      <td>TBP tile: close-up</td>\n",
       "      <td>3D: white</td>\n",
       "      <td>24.725520</td>\n",
       "      <td>...</td>\n",
       "      <td>Benign</td>\n",
       "      <td>Benign</td>\n",
       "      <td>NaN</td>\n",
       "      <td>NaN</td>\n",
       "      <td>NaN</td>\n",
       "      <td>NaN</td>\n",
       "      <td>NaN</td>\n",
       "      <td>NaN</td>\n",
       "      <td>70.442510</td>\n",
       "      <td>1.0</td>\n",
       "    </tr>\n",
       "    <tr>\n",
       "      <th>...</th>\n",
       "      <td>...</td>\n",
       "      <td>...</td>\n",
       "      <td>...</td>\n",
       "      <td>...</td>\n",
       "      <td>...</td>\n",
       "      <td>...</td>\n",
       "      <td>...</td>\n",
       "      <td>...</td>\n",
       "      <td>...</td>\n",
       "      <td>...</td>\n",
       "      <td>...</td>\n",
       "      <td>...</td>\n",
       "      <td>...</td>\n",
       "      <td>...</td>\n",
       "      <td>...</td>\n",
       "      <td>...</td>\n",
       "      <td>...</td>\n",
       "      <td>...</td>\n",
       "      <td>...</td>\n",
       "      <td>...</td>\n",
       "      <td>...</td>\n",
       "    </tr>\n",
       "    <tr>\n",
       "      <th>401054</th>\n",
       "      <td>ISIC_9999937</td>\n",
       "      <td>0</td>\n",
       "      <td>IP_1140263</td>\n",
       "      <td>70.0</td>\n",
       "      <td>male</td>\n",
       "      <td>anterior torso</td>\n",
       "      <td>6.80</td>\n",
       "      <td>TBP tile: close-up</td>\n",
       "      <td>3D: XP</td>\n",
       "      <td>22.574335</td>\n",
       "      <td>...</td>\n",
       "      <td>Benign</td>\n",
       "      <td>Benign</td>\n",
       "      <td>NaN</td>\n",
       "      <td>NaN</td>\n",
       "      <td>NaN</td>\n",
       "      <td>NaN</td>\n",
       "      <td>NaN</td>\n",
       "      <td>NaN</td>\n",
       "      <td>99.999988</td>\n",
       "      <td>1.0</td>\n",
       "    </tr>\n",
       "    <tr>\n",
       "      <th>401055</th>\n",
       "      <td>ISIC_9999951</td>\n",
       "      <td>0</td>\n",
       "      <td>IP_5678181</td>\n",
       "      <td>60.0</td>\n",
       "      <td>male</td>\n",
       "      <td>posterior torso</td>\n",
       "      <td>3.11</td>\n",
       "      <td>TBP tile: close-up</td>\n",
       "      <td>3D: white</td>\n",
       "      <td>19.977640</td>\n",
       "      <td>...</td>\n",
       "      <td>Benign</td>\n",
       "      <td>Benign</td>\n",
       "      <td>NaN</td>\n",
       "      <td>NaN</td>\n",
       "      <td>NaN</td>\n",
       "      <td>NaN</td>\n",
       "      <td>NaN</td>\n",
       "      <td>NaN</td>\n",
       "      <td>99.999820</td>\n",
       "      <td>3.0</td>\n",
       "    </tr>\n",
       "    <tr>\n",
       "      <th>401056</th>\n",
       "      <td>ISIC_9999960</td>\n",
       "      <td>0</td>\n",
       "      <td>IP_0076153</td>\n",
       "      <td>65.0</td>\n",
       "      <td>female</td>\n",
       "      <td>anterior torso</td>\n",
       "      <td>2.05</td>\n",
       "      <td>TBP tile: close-up</td>\n",
       "      <td>3D: XP</td>\n",
       "      <td>17.332567</td>\n",
       "      <td>...</td>\n",
       "      <td>Benign</td>\n",
       "      <td>Benign</td>\n",
       "      <td>NaN</td>\n",
       "      <td>NaN</td>\n",
       "      <td>NaN</td>\n",
       "      <td>NaN</td>\n",
       "      <td>NaN</td>\n",
       "      <td>NaN</td>\n",
       "      <td>99.999416</td>\n",
       "      <td>0.0</td>\n",
       "    </tr>\n",
       "    <tr>\n",
       "      <th>401057</th>\n",
       "      <td>ISIC_9999964</td>\n",
       "      <td>0</td>\n",
       "      <td>IP_5231513</td>\n",
       "      <td>30.0</td>\n",
       "      <td>female</td>\n",
       "      <td>anterior torso</td>\n",
       "      <td>2.80</td>\n",
       "      <td>TBP tile: close-up</td>\n",
       "      <td>3D: XP</td>\n",
       "      <td>22.288570</td>\n",
       "      <td>...</td>\n",
       "      <td>Benign</td>\n",
       "      <td>Benign</td>\n",
       "      <td>NaN</td>\n",
       "      <td>NaN</td>\n",
       "      <td>NaN</td>\n",
       "      <td>NaN</td>\n",
       "      <td>NaN</td>\n",
       "      <td>NaN</td>\n",
       "      <td>100.000000</td>\n",
       "      <td>2.0</td>\n",
       "    </tr>\n",
       "    <tr>\n",
       "      <th>401058</th>\n",
       "      <td>ISIC_9999967</td>\n",
       "      <td>0</td>\n",
       "      <td>IP_6426047</td>\n",
       "      <td>50.0</td>\n",
       "      <td>male</td>\n",
       "      <td>lower extremity</td>\n",
       "      <td>3.30</td>\n",
       "      <td>TBP tile: close-up</td>\n",
       "      <td>3D: XP</td>\n",
       "      <td>16.792900</td>\n",
       "      <td>...</td>\n",
       "      <td>Benign</td>\n",
       "      <td>Benign</td>\n",
       "      <td>NaN</td>\n",
       "      <td>NaN</td>\n",
       "      <td>NaN</td>\n",
       "      <td>NaN</td>\n",
       "      <td>NaN</td>\n",
       "      <td>NaN</td>\n",
       "      <td>99.999960</td>\n",
       "      <td>3.0</td>\n",
       "    </tr>\n",
       "  </tbody>\n",
       "</table>\n",
       "<p>401059 rows × 56 columns</p>\n",
       "</div>"
      ],
      "text/plain": [
       "             isic_id  target  patient_id  age_approx     sex  \\\n",
       "0       ISIC_0015670       0  IP_1235828        60.0    male   \n",
       "1       ISIC_0015845       0  IP_8170065        60.0    male   \n",
       "2       ISIC_0015864       0  IP_6724798        60.0    male   \n",
       "3       ISIC_0015902       0  IP_4111386        65.0    male   \n",
       "4       ISIC_0024200       0  IP_8313778        55.0    male   \n",
       "...              ...     ...         ...         ...     ...   \n",
       "401054  ISIC_9999937       0  IP_1140263        70.0    male   \n",
       "401055  ISIC_9999951       0  IP_5678181        60.0    male   \n",
       "401056  ISIC_9999960       0  IP_0076153        65.0  female   \n",
       "401057  ISIC_9999964       0  IP_5231513        30.0  female   \n",
       "401058  ISIC_9999967       0  IP_6426047        50.0    male   \n",
       "\n",
       "       anatom_site_general  clin_size_long_diam_mm          image_type  \\\n",
       "0          lower extremity                    3.04  TBP tile: close-up   \n",
       "1                head/neck                    1.10  TBP tile: close-up   \n",
       "2          posterior torso                    3.40  TBP tile: close-up   \n",
       "3           anterior torso                    3.22  TBP tile: close-up   \n",
       "4           anterior torso                    2.73  TBP tile: close-up   \n",
       "...                    ...                     ...                 ...   \n",
       "401054      anterior torso                    6.80  TBP tile: close-up   \n",
       "401055     posterior torso                    3.11  TBP tile: close-up   \n",
       "401056      anterior torso                    2.05  TBP tile: close-up   \n",
       "401057      anterior torso                    2.80  TBP tile: close-up   \n",
       "401058     lower extremity                    3.30  TBP tile: close-up   \n",
       "\n",
       "       tbp_tile_type   tbp_lv_A  ...  iddx_full  iddx_1  iddx_2  iddx_3  \\\n",
       "0          3D: white  20.244422  ...     Benign  Benign     NaN     NaN   \n",
       "1          3D: white  31.712570  ...     Benign  Benign     NaN     NaN   \n",
       "2             3D: XP  22.575830  ...     Benign  Benign     NaN     NaN   \n",
       "3             3D: XP  14.242329  ...     Benign  Benign     NaN     NaN   \n",
       "4          3D: white  24.725520  ...     Benign  Benign     NaN     NaN   \n",
       "...              ...        ...  ...        ...     ...     ...     ...   \n",
       "401054        3D: XP  22.574335  ...     Benign  Benign     NaN     NaN   \n",
       "401055     3D: white  19.977640  ...     Benign  Benign     NaN     NaN   \n",
       "401056        3D: XP  17.332567  ...     Benign  Benign     NaN     NaN   \n",
       "401057        3D: XP  22.288570  ...     Benign  Benign     NaN     NaN   \n",
       "401058        3D: XP  16.792900  ...     Benign  Benign     NaN     NaN   \n",
       "\n",
       "        iddx_4  iddx_5  mel_mitotic_index  mel_thick_mm  \\\n",
       "0          NaN     NaN                NaN           NaN   \n",
       "1          NaN     NaN                NaN           NaN   \n",
       "2          NaN     NaN                NaN           NaN   \n",
       "3          NaN     NaN                NaN           NaN   \n",
       "4          NaN     NaN                NaN           NaN   \n",
       "...        ...     ...                ...           ...   \n",
       "401054     NaN     NaN                NaN           NaN   \n",
       "401055     NaN     NaN                NaN           NaN   \n",
       "401056     NaN     NaN                NaN           NaN   \n",
       "401057     NaN     NaN                NaN           NaN   \n",
       "401058     NaN     NaN                NaN           NaN   \n",
       "\n",
       "        tbp_lv_dnn_lesion_confidence  kfold  \n",
       "0                          97.517282    4.0  \n",
       "1                           3.141455    2.0  \n",
       "2                          99.804040    1.0  \n",
       "3                          99.989998    2.0  \n",
       "4                          70.442510    1.0  \n",
       "...                              ...    ...  \n",
       "401054                     99.999988    1.0  \n",
       "401055                     99.999820    3.0  \n",
       "401056                     99.999416    0.0  \n",
       "401057                    100.000000    2.0  \n",
       "401058                     99.999960    3.0  \n",
       "\n",
       "[401059 rows x 56 columns]"
      ]
     },
     "execution_count": 9,
     "metadata": {},
     "output_type": "execute_result"
    }
   ],
   "source": [
    "sgkf = StratifiedGroupKFold(n_splits=CONFIG['n_fold'], shuffle=True, random_state=0)\n",
    "for fold, ( _, val_) in enumerate(sgkf.split(df, df.target, df.patient_id)):\n",
    "    df.loc[val_ , \"kfold\"] = int(fold)\n",
    "\n",
    "# df['target'] = 0 # dummy\n",
    "df"
   ]
  },
  {
   "cell_type": "markdown",
   "id": "47661da0",
   "metadata": {
    "papermill": {
     "duration": 0.007826,
     "end_time": "2024-08-30T04:05:42.243470",
     "exception": false,
     "start_time": "2024-08-30T04:05:42.235644",
     "status": "completed"
    },
    "tags": []
   },
   "source": [
    "# <span><h1 style = \"font-family: garamond; font-size: 40px; font-style: normal; letter-spcaing: 3px; background-color: #f6f5f5; color :#fe346e; border-radius: 100px 100px; text-align:center\">Dataset Class</h1></span>"
   ]
  },
  {
   "cell_type": "code",
   "execution_count": 10,
   "id": "b82f6fc2",
   "metadata": {
    "execution": {
     "iopub.execute_input": "2024-08-30T04:05:42.260668Z",
     "iopub.status.busy": "2024-08-30T04:05:42.260298Z",
     "iopub.status.idle": "2024-08-30T04:05:42.267931Z",
     "shell.execute_reply": "2024-08-30T04:05:42.267013Z"
    },
    "papermill": {
     "duration": 0.018735,
     "end_time": "2024-08-30T04:05:42.269935",
     "exception": false,
     "start_time": "2024-08-30T04:05:42.251200",
     "status": "completed"
    },
    "tags": []
   },
   "outputs": [],
   "source": [
    "class ISICDataset(Dataset):\n",
    "    def __init__(self, df, file_hdf, transforms=None):\n",
    "        self.df = df\n",
    "        self.fp_hdf = h5py.File(file_hdf, mode=\"r\")\n",
    "        self.isic_ids = df['isic_id'].values\n",
    "        self.targets = df['target'].values\n",
    "        self.transforms = transforms\n",
    "        \n",
    "    def __len__(self):\n",
    "        return len(self.isic_ids)\n",
    "    \n",
    "    def __getitem__(self, index):\n",
    "        isic_id = self.isic_ids[index]\n",
    "        img = np.array( Image.open(BytesIO(self.fp_hdf[isic_id][()])) )\n",
    "        target = self.targets[index]\n",
    "        \n",
    "        if self.transforms:\n",
    "            img = self.transforms(image=img)[\"image\"]\n",
    "            \n",
    "        return {\n",
    "            'image': img,\n",
    "            'target': target,\n",
    "        }"
   ]
  },
  {
   "cell_type": "markdown",
   "id": "46e29889",
   "metadata": {
    "papermill": {
     "duration": 0.007591,
     "end_time": "2024-08-30T04:05:42.285459",
     "exception": false,
     "start_time": "2024-08-30T04:05:42.277868",
     "status": "completed"
    },
    "tags": []
   },
   "source": [
    "# <span><h1 style = \"font-family: garamond; font-size: 40px; font-style: normal; letter-spcaing: 3px; background-color: #f6f5f5; color :#fe346e; border-radius: 100px 100px; text-align:center\">Augmentations</h1></span>"
   ]
  },
  {
   "cell_type": "code",
   "execution_count": 11,
   "id": "d1da9543",
   "metadata": {
    "execution": {
     "iopub.execute_input": "2024-08-30T04:05:42.303791Z",
     "iopub.status.busy": "2024-08-30T04:05:42.303049Z",
     "iopub.status.idle": "2024-08-30T04:05:42.311389Z",
     "shell.execute_reply": "2024-08-30T04:05:42.310466Z"
    },
    "papermill": {
     "duration": 0.020143,
     "end_time": "2024-08-30T04:05:42.313386",
     "exception": false,
     "start_time": "2024-08-30T04:05:42.293243",
     "status": "completed"
    },
    "tags": []
   },
   "outputs": [],
   "source": [
    "data_transforms = {\n",
    "    \"valid\": A.Compose([\n",
    "        A.Resize(CONFIG['img_size'], CONFIG['img_size']),\n",
    "        A.Normalize(\n",
    "                mean=[0.485, 0.456, 0.406], \n",
    "                std=[0.229, 0.224, 0.225], \n",
    "                max_pixel_value=255.0, \n",
    "                p=1.0\n",
    "            ),\n",
    "        ToTensorV2()], p=1.)\n",
    "}"
   ]
  },
  {
   "cell_type": "markdown",
   "id": "8b5ae722",
   "metadata": {
    "papermill": {
     "duration": 0.007723,
     "end_time": "2024-08-30T04:05:42.329150",
     "exception": false,
     "start_time": "2024-08-30T04:05:42.321427",
     "status": "completed"
    },
    "tags": []
   },
   "source": [
    "# <span><h1 style = \"font-family: garamond; font-size: 40px; font-style: normal; letter-spcaing: 3px; background-color: #f6f5f5; color :#fe346e; border-radius: 100px 100px; text-align:center\">GeM Pooling</h1></span>"
   ]
  },
  {
   "cell_type": "code",
   "execution_count": 12,
   "id": "fbc15cfd",
   "metadata": {
    "execution": {
     "iopub.execute_input": "2024-08-30T04:05:42.346593Z",
     "iopub.status.busy": "2024-08-30T04:05:42.345805Z",
     "iopub.status.idle": "2024-08-30T04:05:42.353836Z",
     "shell.execute_reply": "2024-08-30T04:05:42.352902Z"
    },
    "papermill": {
     "duration": 0.018966,
     "end_time": "2024-08-30T04:05:42.355853",
     "exception": false,
     "start_time": "2024-08-30T04:05:42.336887",
     "status": "completed"
    },
    "tags": []
   },
   "outputs": [],
   "source": [
    "class GeM(nn.Module):\n",
    "    def __init__(self, p=3, eps=1e-6):\n",
    "        super(GeM, self).__init__()\n",
    "        self.p = nn.Parameter(torch.ones(1)*p)\n",
    "        self.eps = eps\n",
    "\n",
    "    def forward(self, x):\n",
    "        return self.gem(x, p=self.p, eps=self.eps)\n",
    "        \n",
    "    def gem(self, x, p=3, eps=1e-6):\n",
    "        return F.avg_pool2d(x.clamp(min=eps).pow(p), (x.size(-2), x.size(-1))).pow(1./p)\n",
    "        \n",
    "    def __repr__(self):\n",
    "        return self.__class__.__name__ + \\\n",
    "                '(' + 'p=' + '{:.4f}'.format(self.p.data.tolist()[0]) + \\\n",
    "                ', ' + 'eps=' + str(self.eps) + ')'"
   ]
  },
  {
   "cell_type": "markdown",
   "id": "830f0d61",
   "metadata": {
    "papermill": {
     "duration": 0.007427,
     "end_time": "2024-08-30T04:05:42.371457",
     "exception": false,
     "start_time": "2024-08-30T04:05:42.364030",
     "status": "completed"
    },
    "tags": []
   },
   "source": [
    "# <span><h1 style = \"font-family: garamond; font-size: 40px; font-style: normal; letter-spcaing: 3px; background-color: #f6f5f5; color :#fe346e; border-radius: 100px 100px; text-align:center\">Create Model</h1></span>"
   ]
  },
  {
   "cell_type": "code",
   "execution_count": 13,
   "id": "3c40285a",
   "metadata": {
    "execution": {
     "iopub.execute_input": "2024-08-30T04:05:42.388237Z",
     "iopub.status.busy": "2024-08-30T04:05:42.387667Z",
     "iopub.status.idle": "2024-08-30T04:05:42.397168Z",
     "shell.execute_reply": "2024-08-30T04:05:42.396302Z"
    },
    "papermill": {
     "duration": 0.020094,
     "end_time": "2024-08-30T04:05:42.399174",
     "exception": false,
     "start_time": "2024-08-30T04:05:42.379080",
     "status": "completed"
    },
    "tags": []
   },
   "outputs": [],
   "source": [
    "class ISICModel(nn.Module):\n",
    "    def __init__(self, model_name, num_classes=1, pretrained=True, checkpoint_path=None, dropout_rate=CONFIG['dropout_rate']):\n",
    "        super(ISICModel, self).__init__()\n",
    "        self.model = timm.create_model(model_name, pretrained=pretrained, num_classes=num_classes)\n",
    "\n",
    "        # モデルの出力サイズを取得\n",
    "        if hasattr(self.model, 'num_features'):\n",
    "            in_features = self.model.num_features  # num_featuresで取得するモデルが多い\n",
    "        elif hasattr(self.model, 'classifier') and hasattr(self.model.classifier, 'in_features'):\n",
    "            in_features = self.model.classifier.in_features  # classifierが存在する場合\n",
    "        elif hasattr(self.model, 'fc') and hasattr(self.model.fc, 'in_features'):\n",
    "            in_features = self.model.fc.in_features  # fcが存在する場合\n",
    "        else:\n",
    "            raise AttributeError(\"Could not find the output feature size.\")\n",
    "\n",
    "        # モデルのヘッド部分をIdentityで置き換え\n",
    "        self.model.reset_classifier(0)  # timmで全結合層をリセットする簡単な方法\n",
    "\n",
    "        # 以下のノートブックを参照した\n",
    "        # https://www.kaggle.com/code/qiaoyingzhang/isic-2024-pytorch-training-baseline-swin#Modeling\n",
    "\n",
    "        # Final fully connected layer for classification\n",
    "        self.final_fc = nn.Sequential(\n",
    "            nn.Linear(in_features, 512),\n",
    "            nn.BatchNorm1d(512),\n",
    "            nn.ReLU(),\n",
    "            nn.Dropout(0.5),\n",
    "            nn.Linear(512, num_classes),\n",
    "            nn.Sigmoid()\n",
    "        )\n",
    "\n",
    "    def forward(self, images):\n",
    "        features = self.model(images)  # ここを変更\n",
    "        output = self.final_fc(features)\n",
    "        return output"
   ]
  },
  {
   "cell_type": "markdown",
   "id": "956d1b88",
   "metadata": {
    "papermill": {
     "duration": 0.007469,
     "end_time": "2024-08-30T04:05:42.414275",
     "exception": false,
     "start_time": "2024-08-30T04:05:42.406806",
     "status": "completed"
    },
    "tags": []
   },
   "source": [
    "# CV"
   ]
  },
  {
   "cell_type": "code",
   "execution_count": 14,
   "id": "4b3fa480",
   "metadata": {
    "execution": {
     "iopub.execute_input": "2024-08-30T04:05:42.431320Z",
     "iopub.status.busy": "2024-08-30T04:05:42.430531Z",
     "iopub.status.idle": "2024-08-30T04:05:42.436853Z",
     "shell.execute_reply": "2024-08-30T04:05:42.435964Z"
    },
    "papermill": {
     "duration": 0.017182,
     "end_time": "2024-08-30T04:05:42.439054",
     "exception": false,
     "start_time": "2024-08-30T04:05:42.421872",
     "status": "completed"
    },
    "tags": []
   },
   "outputs": [],
   "source": [
    "def comp_score_list(solution: list, submission: list, min_tpr: float=0.80):\n",
    "    v_gt = np.abs(np.array(solution)-1)\n",
    "    v_pred = np.array([1.0 - x for x in submission])\n",
    "    max_fpr = abs(1-min_tpr)\n",
    "    partial_auc_scaled = roc_auc_score(v_gt, v_pred, max_fpr=max_fpr)\n",
    "    # change scale from [0.5, 1.0] to [0.5 * max_fpr**2, max_fpr]\n",
    "    # https://math.stackexchange.com/questions/914823/shift-numbers-into-a-different-range\n",
    "    partial_auc = 0.5 * max_fpr**2 + (max_fpr - 0.5 * max_fpr**2) / (1.0 - 0.5) * (partial_auc_scaled - 0.5)\n",
    "    return partial_auc"
   ]
  },
  {
   "cell_type": "code",
   "execution_count": 15,
   "id": "89829123",
   "metadata": {
    "execution": {
     "iopub.execute_input": "2024-08-30T04:05:42.456724Z",
     "iopub.status.busy": "2024-08-30T04:05:42.455887Z",
     "iopub.status.idle": "2024-08-30T04:05:42.460785Z",
     "shell.execute_reply": "2024-08-30T04:05:42.459927Z"
    },
    "papermill": {
     "duration": 0.015769,
     "end_time": "2024-08-30T04:05:42.462621",
     "exception": false,
     "start_time": "2024-08-30T04:05:42.446852",
     "status": "completed"
    },
    "tags": []
   },
   "outputs": [],
   "source": [
    "list_best_weights = [\n",
    "    \"../proc/models/alldata_check_val3_eva02_base_inc-pos100/fold0_pAUC0.1511_epoch24.bin\",\n",
    "    \"../proc/models/alldata_check_val3_eva02_base_inc-pos100/fold1_pAUC0.1781_epoch24.bin\",\n",
    "    \"../proc/models/alldata_check_val3_eva02_base_inc-pos100/fold2_pAUC0.1718_epoch24.bin\",\n",
    "    \"../proc/models/alldata_check_val3_eva02_base_inc-pos100/fold3_pAUC0.1697_epoch24.bin\",\n",
    "    \"../proc/models/alldata_check_val3_eva02_base_inc-pos100/fold4_pAUC0.1799_epoch24.bin\"\n",
    "]"
   ]
  },
  {
   "cell_type": "code",
   "execution_count": 16,
   "id": "6cbb7187",
   "metadata": {
    "execution": {
     "iopub.execute_input": "2024-08-30T04:05:42.479175Z",
     "iopub.status.busy": "2024-08-30T04:05:42.478837Z",
     "iopub.status.idle": "2024-08-30T04:05:42.486398Z",
     "shell.execute_reply": "2024-08-30T04:05:42.485501Z"
    },
    "papermill": {
     "duration": 0.017992,
     "end_time": "2024-08-30T04:05:42.488382",
     "exception": false,
     "start_time": "2024-08-30T04:05:42.470390",
     "status": "completed"
    },
    "tags": []
   },
   "outputs": [],
   "source": [
    "# TTAのための関数を定義 ⇒使ってない\n",
    "def apply_tta(model, image):\n",
    "    outputs = []\n",
    "\n",
    "    # オリジナル画像\n",
    "    outputs.append(model(image).squeeze())\n",
    "\n",
    "    # 水平フリップ\n",
    "    outputs.append(model(torch.flip(image, dims=[3])).squeeze())\n",
    "\n",
    "    # 垂直フリップ\n",
    "    outputs.append(model(torch.flip(image, dims=[2])).squeeze())\n",
    "\n",
    "    # 90度、180度、270度回転\n",
    "    for k in [1, 2, 3]:\n",
    "        outputs.append(model(torch.rot90(image, k, dims=[2,3])).squeeze())\n",
    "    \n",
    "    list_return = [\n",
    "        torch.stack(outputs).mean(dim=0),\n",
    "        torch.stack(outputs).max(dim=0)[0],\n",
    "        torch.stack(outputs).min(dim=0)[0],\n",
    "        torch.stack(outputs).std(dim=0)\n",
    "    ]\n",
    "\n",
    "    return list_return"
   ]
  },
  {
   "cell_type": "code",
   "execution_count": 17,
   "id": "169d658a",
   "metadata": {
    "execution": {
     "iopub.execute_input": "2024-08-30T04:05:42.505233Z",
     "iopub.status.busy": "2024-08-30T04:05:42.504652Z",
     "iopub.status.idle": "2024-08-30T05:03:43.466637Z",
     "shell.execute_reply": "2024-08-30T05:03:43.465513Z"
    },
    "papermill": {
     "duration": 3480.972882,
     "end_time": "2024-08-30T05:03:43.469060",
     "exception": false,
     "start_time": "2024-08-30T04:05:42.496178",
     "status": "completed"
    },
    "tags": []
   },
   "outputs": [
    {
     "name": "stdout",
     "output_type": "stream",
     "text": [
      "==============================\n",
      "fold 0\n",
      "==============================\n"
     ]
    },
    {
     "name": "stderr",
     "output_type": "stream",
     "text": [
      "100%|██████████| 1477/1477 [03:25<00:00,  7.17it/s]\n"
     ]
    },
    {
     "name": "stdout",
     "output_type": "stream",
     "text": [
      "pAUC80: 0.1432\n",
      "==============================\n",
      "fold 1\n",
      "==============================\n"
     ]
    },
    {
     "name": "stderr",
     "output_type": "stream",
     "text": [
      "100%|██████████| 1344/1344 [03:07<00:00,  7.16it/s]\n"
     ]
    },
    {
     "name": "stdout",
     "output_type": "stream",
     "text": [
      "pAUC80: 0.1760\n",
      "==============================\n",
      "fold 2\n",
      "==============================\n"
     ]
    },
    {
     "name": "stderr",
     "output_type": "stream",
     "text": [
      "100%|██████████| 1172/1172 [02:42<00:00,  7.19it/s]\n"
     ]
    },
    {
     "name": "stdout",
     "output_type": "stream",
     "text": [
      "pAUC80: 0.1677\n",
      "==============================\n",
      "fold 3\n",
      "==============================\n"
     ]
    },
    {
     "name": "stderr",
     "output_type": "stream",
     "text": [
      "100%|██████████| 1180/1180 [02:44<00:00,  7.16it/s]\n"
     ]
    },
    {
     "name": "stdout",
     "output_type": "stream",
     "text": [
      "pAUC80: 0.1679\n",
      "==============================\n",
      "fold 4\n",
      "==============================\n"
     ]
    },
    {
     "name": "stderr",
     "output_type": "stream",
     "text": [
      "100%|██████████| 1095/1095 [02:33<00:00,  7.16it/s]"
     ]
    },
    {
     "name": "stdout",
     "output_type": "stream",
     "text": [
      "pAUC80: 0.1787\n"
     ]
    },
    {
     "name": "stderr",
     "output_type": "stream",
     "text": [
      "\n"
     ]
    }
   ],
   "source": [
    "list_df_pred = []\n",
    "df_score = pd.DataFrame(columns=[\"pAUC80\"])\n",
    "for fold, weight in enumerate(list_best_weights):\n",
    "    print(\"===\"*10)\n",
    "    print(f\"fold {fold}\")\n",
    "    print(\"===\"*10)\n",
    "\n",
    "    df_val = df[df[\"kfold\"]==fold]\n",
    "    df_val_pred = df_val[[\"isic_id\", \"kfold\"]]\n",
    "    \n",
    "    model = ISICModel(CONFIG['model_name'], pretrained=False)\n",
    "    model.load_state_dict(torch.load(weight))\n",
    "    model.to(CONFIG['device']);\n",
    "    \n",
    "    ##############\n",
    "    # 各foldの予測\n",
    "    ##############\n",
    "    val_dataset = ISICDataset(df_val, VAL_HDF, transforms=data_transforms[\"valid\"])\n",
    "    val_loader = DataLoader(val_dataset, batch_size=CONFIG['valid_batch_size'], \n",
    "                              num_workers=2, shuffle=False, pin_memory=True)\n",
    "    \n",
    "    preds = []\n",
    "    with torch.no_grad():\n",
    "        bar = tqdm(enumerate(val_loader), total=len(val_loader))\n",
    "        for step, data in bar:        \n",
    "            images = data['image'].to(CONFIG[\"device\"], dtype=torch.float)        \n",
    "            batch_size = images.size(0)\n",
    "            output = model(images).squeeze().detach().cpu().numpy()\n",
    "            preds.append(output)\n",
    "    df_val_pred[\"pred\"] = np.concatenate(preds).flatten()\n",
    "    list_df_pred.append(df_val_pred)\n",
    "    # valスコアの計算\n",
    "    score = comp_score_list(df_val[\"target\"].to_list(), df_val_pred[\"pred\"].to_list())\n",
    "    # スコアをDataFrameに入れておく\n",
    "    df_score.loc[f\"fold_{fold}\", \"pAUC80\"] = score\n",
    "    print(f\"pAUC80: {score:.4f}\")\n",
    "    \n",
    "    # 不要なメモリを開放\n",
    "    del model, val_dataset, val_loader\n",
    "    torch.cuda.empty_cache()\n",
    "    \n",
    "    #############\n",
    "    # testの予測\n",
    "    #############\n",
    "    # test_dataset = ISICDataset(df_test, TEST_HDF, transforms=data_transforms[\"valid\"])\n",
    "    # test_loader = DataLoader(test_dataset, batch_size=CONFIG['valid_batch_size'], \n",
    "    #                           num_workers=2, shuffle=False, pin_memory=True)\n",
    "    # preds_test = []\n",
    "    # with torch.no_grad():\n",
    "    #     bar = tqdm(enumerate(test_loader), total=len(test_loader))\n",
    "    #     for step, data in bar:        \n",
    "    #         images = data['image'].to(CONFIG[\"device\"], dtype=torch.float)        \n",
    "    #         batch_size = images.size(0)\n",
    "    #         if CONFIG[\"TTA\"]:\n",
    "    #             # with TTA\n",
    "    #             outputs = apply_tta(model, images)\n",
    "    #             preds_test.append(outputs[0].detach().cpu().numpy())\n",
    "    #         else:\n",
    "    #             # without TTA\n",
    "    #             output = model(images).squeeze().detach().cpu().numpy()\n",
    "    #             preds_test.append(output)\n",
    "    # preds_test_all = np.concatenate(preds_test).flatten()\n",
    "    # # 各foldの予測結果を順位にしてアンサンブル\n",
    "    # # 順位付け（sort orderを取得）\n",
    "    # rank = np.argsort(np.argsort(preds_test_all)) \n",
    "    # # パーセンタイル順位に変換\n",
    "    # percentile_rank = rank / (len(rank) - 1)\n",
    "    # # fold数で割ってsubのpredictionに足す\n",
    "    # df_sub[\"target\"] += percentile_rank / len(list_best_weights)\n",
    "    \n",
    "    # # 不要なメモリを開放\n",
    "    # del model, test_dataset, test_loader\n",
    "    # torch.cuda.empty_cache()"
   ]
  },
  {
   "cell_type": "code",
   "execution_count": 18,
   "id": "aa4069e0",
   "metadata": {
    "execution": {
     "iopub.execute_input": "2024-08-30T05:03:44.555980Z",
     "iopub.status.busy": "2024-08-30T05:03:44.555557Z",
     "iopub.status.idle": "2024-08-30T05:03:44.569654Z",
     "shell.execute_reply": "2024-08-30T05:03:44.568743Z"
    },
    "papermill": {
     "duration": 0.523176,
     "end_time": "2024-08-30T05:03:44.571547",
     "exception": false,
     "start_time": "2024-08-30T05:03:44.048371",
     "status": "completed"
    },
    "tags": []
   },
   "outputs": [
    {
     "data": {
      "text/html": [
       "<div>\n",
       "<style scoped>\n",
       "    .dataframe tbody tr th:only-of-type {\n",
       "        vertical-align: middle;\n",
       "    }\n",
       "\n",
       "    .dataframe tbody tr th {\n",
       "        vertical-align: top;\n",
       "    }\n",
       "\n",
       "    .dataframe thead th {\n",
       "        text-align: right;\n",
       "    }\n",
       "</style>\n",
       "<table border=\"1\" class=\"dataframe\">\n",
       "  <thead>\n",
       "    <tr style=\"text-align: right;\">\n",
       "      <th></th>\n",
       "      <th>pAUC80</th>\n",
       "    </tr>\n",
       "  </thead>\n",
       "  <tbody>\n",
       "    <tr>\n",
       "      <th>fold_0</th>\n",
       "      <td>0.143243</td>\n",
       "    </tr>\n",
       "    <tr>\n",
       "      <th>fold_1</th>\n",
       "      <td>0.175958</td>\n",
       "    </tr>\n",
       "    <tr>\n",
       "      <th>fold_2</th>\n",
       "      <td>0.167733</td>\n",
       "    </tr>\n",
       "    <tr>\n",
       "      <th>fold_3</th>\n",
       "      <td>0.167923</td>\n",
       "    </tr>\n",
       "    <tr>\n",
       "      <th>fold_4</th>\n",
       "      <td>0.178684</td>\n",
       "    </tr>\n",
       "    <tr>\n",
       "      <th>mean</th>\n",
       "      <td>0.166708</td>\n",
       "    </tr>\n",
       "    <tr>\n",
       "      <th>std</th>\n",
       "      <td>0.011417</td>\n",
       "    </tr>\n",
       "  </tbody>\n",
       "</table>\n",
       "</div>"
      ],
      "text/plain": [
       "          pAUC80\n",
       "fold_0  0.143243\n",
       "fold_1  0.175958\n",
       "fold_2  0.167733\n",
       "fold_3  0.167923\n",
       "fold_4  0.178684\n",
       "mean    0.166708\n",
       "std     0.011417"
      ]
     },
     "execution_count": 18,
     "metadata": {},
     "output_type": "execute_result"
    }
   ],
   "source": [
    "df_score.loc[\"mean\", \"pAUC80\"] = np.mean(df_score[\"pAUC80\"])\n",
    "df_score.loc[\"std\", \"pAUC80\"] = np.std(df_score[\"pAUC80\"])\n",
    "df_score"
   ]
  },
  {
   "cell_type": "code",
   "execution_count": 19,
   "id": "ea2e6398",
   "metadata": {
    "execution": {
     "iopub.execute_input": "2024-08-30T05:03:45.593139Z",
     "iopub.status.busy": "2024-08-30T05:03:45.592766Z",
     "iopub.status.idle": "2024-08-30T05:03:46.915379Z",
     "shell.execute_reply": "2024-08-30T05:03:46.914083Z"
    },
    "papermill": {
     "duration": 1.837127,
     "end_time": "2024-08-30T05:03:46.918076",
     "exception": false,
     "start_time": "2024-08-30T05:03:45.080949",
     "status": "completed"
    },
    "tags": []
   },
   "outputs": [
    {
     "data": {
      "text/html": [
       "<div>\n",
       "<style scoped>\n",
       "    .dataframe tbody tr th:only-of-type {\n",
       "        vertical-align: middle;\n",
       "    }\n",
       "\n",
       "    .dataframe tbody tr th {\n",
       "        vertical-align: top;\n",
       "    }\n",
       "\n",
       "    .dataframe thead th {\n",
       "        text-align: right;\n",
       "    }\n",
       "</style>\n",
       "<table border=\"1\" class=\"dataframe\">\n",
       "  <thead>\n",
       "    <tr style=\"text-align: right;\">\n",
       "      <th></th>\n",
       "      <th>isic_id</th>\n",
       "      <th>kfold</th>\n",
       "      <th>pred</th>\n",
       "    </tr>\n",
       "  </thead>\n",
       "  <tbody>\n",
       "    <tr>\n",
       "      <th>0</th>\n",
       "      <td>ISIC_0035502</td>\n",
       "      <td>0.0</td>\n",
       "      <td>0.966697</td>\n",
       "    </tr>\n",
       "    <tr>\n",
       "      <th>1</th>\n",
       "      <td>ISIC_0051758</td>\n",
       "      <td>0.0</td>\n",
       "      <td>0.209611</td>\n",
       "    </tr>\n",
       "    <tr>\n",
       "      <th>2</th>\n",
       "      <td>ISIC_0051958</td>\n",
       "      <td>0.0</td>\n",
       "      <td>0.387963</td>\n",
       "    </tr>\n",
       "    <tr>\n",
       "      <th>3</th>\n",
       "      <td>ISIC_0052109</td>\n",
       "      <td>0.0</td>\n",
       "      <td>0.999581</td>\n",
       "    </tr>\n",
       "    <tr>\n",
       "      <th>4</th>\n",
       "      <td>ISIC_0052122</td>\n",
       "      <td>0.0</td>\n",
       "      <td>0.533988</td>\n",
       "    </tr>\n",
       "    <tr>\n",
       "      <th>...</th>\n",
       "      <td>...</td>\n",
       "      <td>...</td>\n",
       "      <td>...</td>\n",
       "    </tr>\n",
       "    <tr>\n",
       "      <th>401054</th>\n",
       "      <td>ISIC_9999086</td>\n",
       "      <td>4.0</td>\n",
       "      <td>0.956218</td>\n",
       "    </tr>\n",
       "    <tr>\n",
       "      <th>401055</th>\n",
       "      <td>ISIC_9999106</td>\n",
       "      <td>4.0</td>\n",
       "      <td>0.111630</td>\n",
       "    </tr>\n",
       "    <tr>\n",
       "      <th>401056</th>\n",
       "      <td>ISIC_9999324</td>\n",
       "      <td>4.0</td>\n",
       "      <td>0.074352</td>\n",
       "    </tr>\n",
       "    <tr>\n",
       "      <th>401057</th>\n",
       "      <td>ISIC_9999386</td>\n",
       "      <td>4.0</td>\n",
       "      <td>0.089878</td>\n",
       "    </tr>\n",
       "    <tr>\n",
       "      <th>401058</th>\n",
       "      <td>ISIC_9999762</td>\n",
       "      <td>4.0</td>\n",
       "      <td>0.143475</td>\n",
       "    </tr>\n",
       "  </tbody>\n",
       "</table>\n",
       "<p>401059 rows × 3 columns</p>\n",
       "</div>"
      ],
      "text/plain": [
       "             isic_id  kfold      pred\n",
       "0       ISIC_0035502    0.0  0.966697\n",
       "1       ISIC_0051758    0.0  0.209611\n",
       "2       ISIC_0051958    0.0  0.387963\n",
       "3       ISIC_0052109    0.0  0.999581\n",
       "4       ISIC_0052122    0.0  0.533988\n",
       "...              ...    ...       ...\n",
       "401054  ISIC_9999086    4.0  0.956218\n",
       "401055  ISIC_9999106    4.0  0.111630\n",
       "401056  ISIC_9999324    4.0  0.074352\n",
       "401057  ISIC_9999386    4.0  0.089878\n",
       "401058  ISIC_9999762    4.0  0.143475\n",
       "\n",
       "[401059 rows x 3 columns]"
      ]
     },
     "execution_count": 19,
     "metadata": {},
     "output_type": "execute_result"
    }
   ],
   "source": [
    "df = pd.concat(list_df_pred).reset_index(drop=True)\n",
    "df.to_csv(f\"{CONFIG['save_dir']}/df_pred_{CONFIG['EXP_NAME']}.csv\", index=False)\n",
    "df"
   ]
  },
  {
   "cell_type": "code",
   "execution_count": 22,
   "id": "e883e2f2",
   "metadata": {
    "execution": {
     "iopub.execute_input": "2024-08-30T05:03:47.955653Z",
     "iopub.status.busy": "2024-08-30T05:03:47.954758Z",
     "iopub.status.idle": "2024-08-30T05:03:47.965639Z",
     "shell.execute_reply": "2024-08-30T05:03:47.964828Z"
    },
    "papermill": {
     "duration": 0.517674,
     "end_time": "2024-08-30T05:03:47.967758",
     "exception": false,
     "start_time": "2024-08-30T05:03:47.450084",
     "status": "completed"
    },
    "tags": []
   },
   "outputs": [
    {
     "data": {
      "text/html": [
       "<div>\n",
       "<style scoped>\n",
       "    .dataframe tbody tr th:only-of-type {\n",
       "        vertical-align: middle;\n",
       "    }\n",
       "\n",
       "    .dataframe tbody tr th {\n",
       "        vertical-align: top;\n",
       "    }\n",
       "\n",
       "    .dataframe thead th {\n",
       "        text-align: right;\n",
       "    }\n",
       "</style>\n",
       "<table border=\"1\" class=\"dataframe\">\n",
       "  <thead>\n",
       "    <tr style=\"text-align: right;\">\n",
       "      <th></th>\n",
       "      <th>isic_id</th>\n",
       "      <th>kfold</th>\n",
       "      <th>pred</th>\n",
       "      <th>pred_in_cv_file</th>\n",
       "    </tr>\n",
       "  </thead>\n",
       "  <tbody>\n",
       "    <tr>\n",
       "      <th>0</th>\n",
       "      <td>ISIC_0035502</td>\n",
       "      <td>0.0</td>\n",
       "      <td>0.966697</td>\n",
       "      <td>0.326116</td>\n",
       "    </tr>\n",
       "    <tr>\n",
       "      <th>1</th>\n",
       "      <td>ISIC_0051758</td>\n",
       "      <td>0.0</td>\n",
       "      <td>0.209611</td>\n",
       "      <td>0.017215</td>\n",
       "    </tr>\n",
       "    <tr>\n",
       "      <th>2</th>\n",
       "      <td>ISIC_0051958</td>\n",
       "      <td>0.0</td>\n",
       "      <td>0.387963</td>\n",
       "      <td>0.020168</td>\n",
       "    </tr>\n",
       "    <tr>\n",
       "      <th>3</th>\n",
       "      <td>ISIC_0052109</td>\n",
       "      <td>0.0</td>\n",
       "      <td>0.999581</td>\n",
       "      <td>0.848928</td>\n",
       "    </tr>\n",
       "    <tr>\n",
       "      <th>4</th>\n",
       "      <td>ISIC_0052122</td>\n",
       "      <td>0.0</td>\n",
       "      <td>0.533988</td>\n",
       "      <td>0.046321</td>\n",
       "    </tr>\n",
       "    <tr>\n",
       "      <th>...</th>\n",
       "      <td>...</td>\n",
       "      <td>...</td>\n",
       "      <td>...</td>\n",
       "      <td>...</td>\n",
       "    </tr>\n",
       "    <tr>\n",
       "      <th>401054</th>\n",
       "      <td>ISIC_9999086</td>\n",
       "      <td>4.0</td>\n",
       "      <td>0.956218</td>\n",
       "      <td>0.521258</td>\n",
       "    </tr>\n",
       "    <tr>\n",
       "      <th>401055</th>\n",
       "      <td>ISIC_9999106</td>\n",
       "      <td>4.0</td>\n",
       "      <td>0.111630</td>\n",
       "      <td>0.013161</td>\n",
       "    </tr>\n",
       "    <tr>\n",
       "      <th>401056</th>\n",
       "      <td>ISIC_9999324</td>\n",
       "      <td>4.0</td>\n",
       "      <td>0.074352</td>\n",
       "      <td>0.013531</td>\n",
       "    </tr>\n",
       "    <tr>\n",
       "      <th>401057</th>\n",
       "      <td>ISIC_9999386</td>\n",
       "      <td>4.0</td>\n",
       "      <td>0.089878</td>\n",
       "      <td>0.017888</td>\n",
       "    </tr>\n",
       "    <tr>\n",
       "      <th>401058</th>\n",
       "      <td>ISIC_9999762</td>\n",
       "      <td>4.0</td>\n",
       "      <td>0.143475</td>\n",
       "      <td>0.012293</td>\n",
       "    </tr>\n",
       "  </tbody>\n",
       "</table>\n",
       "<p>401059 rows × 4 columns</p>\n",
       "</div>"
      ],
      "text/plain": [
       "             isic_id  kfold      pred  pred_in_cv_file\n",
       "0       ISIC_0035502    0.0  0.966697         0.326116\n",
       "1       ISIC_0051758    0.0  0.209611         0.017215\n",
       "2       ISIC_0051958    0.0  0.387963         0.020168\n",
       "3       ISIC_0052109    0.0  0.999581         0.848928\n",
       "4       ISIC_0052122    0.0  0.533988         0.046321\n",
       "...              ...    ...       ...              ...\n",
       "401054  ISIC_9999086    4.0  0.956218         0.521258\n",
       "401055  ISIC_9999106    4.0  0.111630         0.013161\n",
       "401056  ISIC_9999324    4.0  0.074352         0.013531\n",
       "401057  ISIC_9999386    4.0  0.089878         0.017888\n",
       "401058  ISIC_9999762    4.0  0.143475         0.012293\n",
       "\n",
       "[401059 rows x 4 columns]"
      ]
     },
     "execution_count": 22,
     "metadata": {},
     "output_type": "execute_result"
    }
   ],
   "source": [
    "df2 = pd.read_csv(\"../proc/models/alldata_check_val3_eva02_base_inc-pos100/df_preds_alldata_check_val3_eva02_base_inc-pos100.csv\")\n",
    "df2.rename(columns={\n",
    "    \"preds\": \"pred_in_cv_file\"\n",
    "}, inplace=True)\n",
    "df = pd.merge(df, df2[[\"isic_id\", \"pred_in_cv_file\"]], on=[\"isic_id\"], how=\"left\")\n",
    "df"
   ]
  },
  {
   "cell_type": "code",
   "execution_count": 23,
   "id": "55f74147",
   "metadata": {},
   "outputs": [
    {
     "data": {
      "image/png": "[encoded data removed]",
      "text/plain": [
       "<Figure size 600x600 with 1 Axes>"
      ]
     },
     "metadata": {},
     "output_type": "display_data"
    }
   ],
   "source": [
    "fig, ax = plt.subplots(figsize=(6, 6))\n",
    "ax.grid(alpha=0.2)\n",
    "ax.scatter(df[\"pred_in_cv_file\"], df[\"pred\"], alpha=0.5)\n",
    "ax.set_xlabel(\"pred_in_cv_file\")\n",
    "ax.set_ylabel(\"pred\")\n",
    "plt.show()"
   ]
  },
  {
   "cell_type": "code",
   "execution_count": 24,
   "id": "84575f7e",
   "metadata": {},
   "outputs": [
    {
     "data": {
      "image/png": "[encoded data removed]",
      "text/plain": [
       "<Figure size 600x600 with 1 Axes>"
      ]
     },
     "metadata": {},
     "output_type": "display_data"
    }
   ],
   "source": [
    "df[\"pred_in_cv_file_rank\"] = df[\"pred_in_cv_file\"].rank(pct=True)\n",
    "df[\"pred_rank\"] = df[\"pred\"].rank(pct=True)\n",
    "fig, ax = plt.subplots(figsize=(6, 6))\n",
    "ax.grid(alpha=0.2)\n",
    "ax.scatter(df[\"pred_in_cv_file_rank\"], df[\"pred_rank\"], alpha=0.5)\n",
    "ax.set_xlabel(\"pred_in_cv_file_rank\")\n",
    "ax.set_ylabel(\"pred_rank\")\n",
    "plt.show()"
   ]
  },
  {
   "cell_type": "code",
   "execution_count": null,
   "id": "9ec6fc97",
   "metadata": {},
   "outputs": [],
   "source": []
  }
 ],
 "metadata": {
  "kaggle": {
   "accelerator": "gpu",
   "dataSources": [
    {
     "databundleVersionId": 9094797,
     "sourceId": 63056,
     "sourceType": "competition"
    },
    {
     "sourceId": 194568704,
     "sourceType": "kernelVersion"
    }
   ],
   "isGpuEnabled": true,
   "isInternetEnabled": false,
   "language": "python",
   "sourceType": "notebook"
  },
  "kernelspec": {
   "display_name": "Python 3",
   "language": "python",
   "name": "python3"
  },
  "language_info": {
   "codemirror_mode": {
    "name": "ipython",
    "version": 3
   },
   "file_extension": ".py",
   "mimetype": "text/x-python",
   "name": "python",
   "nbconvert_exporter": "python",
   "pygments_lexer": "ipython3",
   "version": "3.10.12"
  },
  "papermill": {
   "default_parameters": {},
   "duration": 3531.67658,
   "end_time": "2024-08-30T05:03:51.431640",
   "environment_variables": {},
   "exception": null,
   "input_path": "__notebook__.ipynb",
   "output_path": "__notebook__.ipynb",
   "parameters": {},
   "start_time": "2024-08-30T04:04:59.755060",
   "version": "2.6.0"
  }
 },
 "nbformat": 4,
 "nbformat_minor": 5
}
