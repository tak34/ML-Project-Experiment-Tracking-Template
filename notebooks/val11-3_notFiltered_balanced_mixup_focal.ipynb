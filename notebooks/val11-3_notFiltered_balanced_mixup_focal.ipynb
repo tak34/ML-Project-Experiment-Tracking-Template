{
 "cells": [
  {
   "cell_type": "markdown",
   "id": "8551e842",
   "metadata": {
    "papermill": {
     "duration": 0.01434,
     "end_time": "2024-08-03T11:27:24.716749",
     "exception": false,
     "start_time": "2024-08-03T11:27:24.702409",
     "status": "completed"
    },
    "tags": []
   },
   "source": [
    "# Import Required Libraries"
   ]
  },
  {
   "cell_type": "code",
   "execution_count": 1,
   "id": "17d5195f",
   "metadata": {
    "execution": {
     "iopub.execute_input": "2024-08-03T11:27:24.747014Z",
     "iopub.status.busy": "2024-08-03T11:27:24.746246Z",
     "iopub.status.idle": "2024-08-03T11:27:41.324384Z",
     "shell.execute_reply": "2024-08-03T11:27:41.323551Z"
    },
    "papermill": {
     "duration": 16.595521,
     "end_time": "2024-08-03T11:27:41.326792",
     "exception": false,
     "start_time": "2024-08-03T11:27:24.731271",
     "status": "completed"
    },
    "tags": []
   },
   "outputs": [],
   "source": [
    "WANDB = False\n",
    "EXP_NAME = \"val11-6_effnetb0_balanced_mixup\"\n",
    "# EXP_NAME = \"try\"\n",
    "\n",
    "if WANDB:\n",
    "    # !pip install wandb\n",
    "    import wandb\n",
    "    import os\n",
    "    from dotenv import load_dotenv\n",
    "    load_dotenv()\n",
    "    wandb.login(key=os.environ.get(\"WANDB_API_KEY\"))"
   ]
  },
  {
   "cell_type": "code",
   "execution_count": 2,
   "id": "0b352d5a",
   "metadata": {
    "execution": {
     "iopub.execute_input": "2024-08-03T11:27:41.395258Z",
     "iopub.status.busy": "2024-08-03T11:27:41.394999Z",
     "iopub.status.idle": "2024-08-03T11:27:49.379635Z",
     "shell.execute_reply": "2024-08-03T11:27:49.378849Z"
    },
    "papermill": {
     "duration": 8.002336,
     "end_time": "2024-08-03T11:27:49.382001",
     "exception": false,
     "start_time": "2024-08-03T11:27:41.379665",
     "status": "completed"
    },
    "tags": []
   },
   "outputs": [],
   "source": [
    "import os\n",
    "import gc\n",
    "import cv2\n",
    "import math\n",
    "import copy\n",
    "import time\n",
    "import random\n",
    "import glob\n",
    "from matplotlib import pyplot as plt\n",
    "import seaborn as sns\n",
    "from PIL import Image\n",
    "\n",
    "# For data manipulation\n",
    "import numpy as np\n",
    "import pandas as pd\n",
    "\n",
    "# Pytorch Imports\n",
    "import torch\n",
    "import torch.nn as nn\n",
    "import torch.optim as optim\n",
    "import torch.nn.functional as F\n",
    "from torch.optim import lr_scheduler\n",
    "from torch.utils.data import Dataset, DataLoader, WeightedRandomSampler\n",
    "from torch.cuda import amp\n",
    "import torchvision\n",
    "from torch.distributions.beta import Beta\n",
    "# from torcheval.metrics.functional import binary_auroc\n",
    "\n",
    "# Utils\n",
    "import joblib\n",
    "from tqdm import tqdm\n",
    "from collections import defaultdict\n",
    "\n",
    "# Sklearn Imports\n",
    "from sklearn.preprocessing import LabelEncoder\n",
    "from sklearn.model_selection import StratifiedKFold, StratifiedGroupKFold \n",
    "from sklearn.metrics import roc_auc_score\n",
    "\n",
    "# For Image Models\n",
    "import timm\n",
    "\n",
    "# Albumentations for augmentations\n",
    "import albumentations as A\n",
    "from albumentations.pytorch import ToTensorV2\n",
    "\n",
    "# For colored terminal text\n",
    "from colorama import Fore, Back, Style\n",
    "b_ = Fore.BLUE\n",
    "sr_ = Style.RESET_ALL\n",
    "\n",
    "import warnings\n",
    "warnings.filterwarnings(\"ignore\")\n",
    "\n",
    "# For descriptive error messages\n",
    "os.environ['CUDA_LAUNCH_BLOCKING'] = \"1\""
   ]
  },
  {
   "cell_type": "markdown",
   "id": "903db01e",
   "metadata": {
    "papermill": {
     "duration": 0.014258,
     "end_time": "2024-08-03T11:27:49.411099",
     "exception": false,
     "start_time": "2024-08-03T11:27:49.396841",
     "status": "completed"
    },
    "tags": []
   },
   "source": [
    "# Training Configuration"
   ]
  },
  {
   "cell_type": "code",
   "execution_count": 3,
   "id": "2b8c5e68",
   "metadata": {
    "execution": {
     "iopub.execute_input": "2024-08-03T11:27:49.441606Z",
     "iopub.status.busy": "2024-08-03T11:27:49.440684Z",
     "iopub.status.idle": "2024-08-03T11:27:49.500885Z",
     "shell.execute_reply": "2024-08-03T11:27:49.499892Z"
    },
    "papermill": {
     "duration": 0.077554,
     "end_time": "2024-08-03T11:27:49.502883",
     "exception": false,
     "start_time": "2024-08-03T11:27:49.425329",
     "status": "completed"
    },
    "tags": []
   },
   "outputs": [],
   "source": [
    "CONFIG = {\n",
    "    \"seed\": 42,\n",
    "    \"epochs\": 80,\n",
    "    # \"epochs\": 3, #######　後でなおすこと\n",
    "    \"img_size\": 224,\n",
    "    \"model_name\": \"tf_efficientnet_b0_ns\",\n",
    "    \"checkpoint_path\" : \"/kaggle/input/tf-efficientnet/pytorch/tf-efficientnet-b0/1/tf_efficientnet_b0_aa-827b6e33.pth\",\n",
    "    \"train_batch_size\": 64,\n",
    "    \"valid_batch_size\": 128,\n",
    "    \"learning_rate\": 1e-3,\n",
    "    \"scheduler\": 'CosineAnnealingLR',\n",
    "    \"min_lr\": 7e-8,\n",
    "#     \"T_max\": 10316,\n",
    "    \"weight_decay\": 1e-5,\n",
    "    \"fold\" : 0,\n",
    "    \"n_fold\": 5,\n",
    "    \"n_accumulate\": 1,\n",
    "    \"device\": torch.device(\"cuda:0\" if torch.cuda.is_available() else \"cpu\"),\n",
    "    \"save_dir\": \"../proc/val3\",\n",
    "    \"use_tta\": False,\n",
    "    \"mixup_alpha\": 1,  # 既存のMixupのパラメータ\n",
    "    \"mixup_epochs\": 60,  # Mixupを適用するエポック数を追加\n",
    "    \"focal_alpha\": 0.7,\n",
    "    \"focal_gamma\": 3,\n",
    "}"
   ]
  },
  {
   "cell_type": "markdown",
   "id": "cddc65ff",
   "metadata": {
    "papermill": {
     "duration": 0.014141,
     "end_time": "2024-08-03T11:27:49.531761",
     "exception": false,
     "start_time": "2024-08-03T11:27:49.517620",
     "status": "completed"
    },
    "tags": []
   },
   "source": [
    "# Set Seed for Reproducibility"
   ]
  },
  {
   "cell_type": "code",
   "execution_count": 4,
   "id": "98b9513a",
   "metadata": {
    "execution": {
     "iopub.execute_input": "2024-08-03T11:27:49.562058Z",
     "iopub.status.busy": "2024-08-03T11:27:49.561688Z",
     "iopub.status.idle": "2024-08-03T11:27:49.570471Z",
     "shell.execute_reply": "2024-08-03T11:27:49.569784Z"
    },
    "papermill": {
     "duration": 0.026141,
     "end_time": "2024-08-03T11:27:49.572357",
     "exception": false,
     "start_time": "2024-08-03T11:27:49.546216",
     "status": "completed"
    },
    "tags": []
   },
   "outputs": [],
   "source": [
    "def set_seed(seed=42):\n",
    "    '''Sets the seed of the entire notebook so results are the same every time we run.\n",
    "    This is for REPRODUCIBILITY.'''\n",
    "    np.random.seed(seed)\n",
    "    torch.manual_seed(seed)\n",
    "    torch.cuda.manual_seed(seed)\n",
    "    # When running on the CuDNN backend, two further options must be set\n",
    "    torch.backends.cudnn.deterministic = True\n",
    "    torch.backends.cudnn.benchmark = False\n",
    "    # Set a fixed value for the hash seed\n",
    "    os.environ['PYTHONHASHSEED'] = str(seed)\n",
    "    \n",
    "set_seed(CONFIG['seed'])"
   ]
  },
  {
   "cell_type": "code",
   "execution_count": 5,
   "id": "d7c70b6f",
   "metadata": {
    "execution": {
     "iopub.execute_input": "2024-08-03T11:27:49.602533Z",
     "iopub.status.busy": "2024-08-03T11:27:49.601829Z",
     "iopub.status.idle": "2024-08-03T11:27:49.605780Z",
     "shell.execute_reply": "2024-08-03T11:27:49.604966Z"
    },
    "papermill": {
     "duration": 0.020996,
     "end_time": "2024-08-03T11:27:49.607665",
     "exception": false,
     "start_time": "2024-08-03T11:27:49.586669",
     "status": "completed"
    },
    "tags": []
   },
   "outputs": [],
   "source": [
    "ROOT_DIR = \"../raw\"\n",
    "TRAIN_DIR = f'{ROOT_DIR}/train-image/image'"
   ]
  },
  {
   "cell_type": "code",
   "execution_count": 6,
   "id": "a11c344b",
   "metadata": {
    "execution": {
     "iopub.execute_input": "2024-08-03T11:27:49.637452Z",
     "iopub.status.busy": "2024-08-03T11:27:49.637203Z",
     "iopub.status.idle": "2024-08-03T11:27:49.641108Z",
     "shell.execute_reply": "2024-08-03T11:27:49.640269Z"
    },
    "papermill": {
     "duration": 0.020939,
     "end_time": "2024-08-03T11:27:49.642937",
     "exception": false,
     "start_time": "2024-08-03T11:27:49.621998",
     "status": "completed"
    },
    "tags": []
   },
   "outputs": [],
   "source": [
    "def get_train_file_path(image_id):\n",
    "    return f\"{TRAIN_DIR}/{image_id}.jpg\""
   ]
  },
  {
   "cell_type": "markdown",
   "id": "4660cf08",
   "metadata": {
    "papermill": {
     "duration": 0.014646,
     "end_time": "2024-08-03T11:27:49.672275",
     "exception": false,
     "start_time": "2024-08-03T11:27:49.657629",
     "status": "completed"
    },
    "tags": []
   },
   "source": [
    "# Read the Data"
   ]
  },
  {
   "cell_type": "code",
   "execution_count": 7,
   "id": "bcaf087a",
   "metadata": {
    "execution": {
     "iopub.execute_input": "2024-08-03T11:27:49.703417Z",
     "iopub.status.busy": "2024-08-03T11:27:49.703087Z",
     "iopub.status.idle": "2024-08-03T11:27:53.557484Z",
     "shell.execute_reply": "2024-08-03T11:27:53.556536Z"
    },
    "papermill": {
     "duration": 3.872522,
     "end_time": "2024-08-03T11:27:53.559821",
     "exception": false,
     "start_time": "2024-08-03T11:27:49.687299",
     "status": "completed"
    },
    "tags": []
   },
   "outputs": [],
   "source": [
    "train_images = sorted(glob.glob(f\"{TRAIN_DIR}/*.jpg\"))"
   ]
  },
  {
   "cell_type": "code",
   "execution_count": 8,
   "id": "b07f48bc",
   "metadata": {
    "execution": {
     "iopub.execute_input": "2024-08-03T11:27:53.590652Z",
     "iopub.status.busy": "2024-08-03T11:27:53.590323Z",
     "iopub.status.idle": "2024-08-03T11:28:01.727632Z",
     "shell.execute_reply": "2024-08-03T11:28:01.726742Z"
    },
    "papermill": {
     "duration": 8.155275,
     "end_time": "2024-08-03T11:28:01.730168",
     "exception": false,
     "start_time": "2024-08-03T11:27:53.574893",
     "status": "completed"
    },
    "tags": []
   },
   "outputs": [
    {
     "name": "stdout",
     "output_type": "stream",
     "text": [
      "(401059, 55)\n"
     ]
    },
    {
     "data": {
      "text/html": [
       "<div>\n",
       "<style scoped>\n",
       "    .dataframe tbody tr th:only-of-type {\n",
       "        vertical-align: middle;\n",
       "    }\n",
       "\n",
       "    .dataframe tbody tr th {\n",
       "        vertical-align: top;\n",
       "    }\n",
       "\n",
       "    .dataframe thead th {\n",
       "        text-align: right;\n",
       "    }\n",
       "</style>\n",
       "<table border=\"1\" class=\"dataframe\">\n",
       "  <thead>\n",
       "    <tr style=\"text-align: right;\">\n",
       "      <th></th>\n",
       "      <th>isic_id</th>\n",
       "      <th>target</th>\n",
       "      <th>patient_id</th>\n",
       "      <th>age_approx</th>\n",
       "      <th>sex</th>\n",
       "      <th>anatom_site_general</th>\n",
       "      <th>clin_size_long_diam_mm</th>\n",
       "      <th>image_type</th>\n",
       "      <th>tbp_tile_type</th>\n",
       "      <th>tbp_lv_A</th>\n",
       "      <th>...</th>\n",
       "      <th>iddx_full</th>\n",
       "      <th>iddx_1</th>\n",
       "      <th>iddx_2</th>\n",
       "      <th>iddx_3</th>\n",
       "      <th>iddx_4</th>\n",
       "      <th>iddx_5</th>\n",
       "      <th>mel_mitotic_index</th>\n",
       "      <th>mel_thick_mm</th>\n",
       "      <th>tbp_lv_dnn_lesion_confidence</th>\n",
       "      <th>file_path</th>\n",
       "    </tr>\n",
       "  </thead>\n",
       "  <tbody>\n",
       "    <tr>\n",
       "      <th>0</th>\n",
       "      <td>ISIC_0015670</td>\n",
       "      <td>0</td>\n",
       "      <td>IP_1235828</td>\n",
       "      <td>60.0</td>\n",
       "      <td>male</td>\n",
       "      <td>lower extremity</td>\n",
       "      <td>3.04</td>\n",
       "      <td>TBP tile: close-up</td>\n",
       "      <td>3D: white</td>\n",
       "      <td>20.244422</td>\n",
       "      <td>...</td>\n",
       "      <td>Benign</td>\n",
       "      <td>Benign</td>\n",
       "      <td>NaN</td>\n",
       "      <td>NaN</td>\n",
       "      <td>NaN</td>\n",
       "      <td>NaN</td>\n",
       "      <td>NaN</td>\n",
       "      <td>NaN</td>\n",
       "      <td>97.517282</td>\n",
       "      <td>../raw/train-image/image/ISIC_0015670.jpg</td>\n",
       "    </tr>\n",
       "    <tr>\n",
       "      <th>1</th>\n",
       "      <td>ISIC_0015845</td>\n",
       "      <td>0</td>\n",
       "      <td>IP_8170065</td>\n",
       "      <td>60.0</td>\n",
       "      <td>male</td>\n",
       "      <td>head/neck</td>\n",
       "      <td>1.10</td>\n",
       "      <td>TBP tile: close-up</td>\n",
       "      <td>3D: white</td>\n",
       "      <td>31.712570</td>\n",
       "      <td>...</td>\n",
       "      <td>Benign</td>\n",
       "      <td>Benign</td>\n",
       "      <td>NaN</td>\n",
       "      <td>NaN</td>\n",
       "      <td>NaN</td>\n",
       "      <td>NaN</td>\n",
       "      <td>NaN</td>\n",
       "      <td>NaN</td>\n",
       "      <td>3.141455</td>\n",
       "      <td>../raw/train-image/image/ISIC_0015845.jpg</td>\n",
       "    </tr>\n",
       "    <tr>\n",
       "      <th>2</th>\n",
       "      <td>ISIC_0015864</td>\n",
       "      <td>0</td>\n",
       "      <td>IP_6724798</td>\n",
       "      <td>60.0</td>\n",
       "      <td>male</td>\n",
       "      <td>posterior torso</td>\n",
       "      <td>3.40</td>\n",
       "      <td>TBP tile: close-up</td>\n",
       "      <td>3D: XP</td>\n",
       "      <td>22.575830</td>\n",
       "      <td>...</td>\n",
       "      <td>Benign</td>\n",
       "      <td>Benign</td>\n",
       "      <td>NaN</td>\n",
       "      <td>NaN</td>\n",
       "      <td>NaN</td>\n",
       "      <td>NaN</td>\n",
       "      <td>NaN</td>\n",
       "      <td>NaN</td>\n",
       "      <td>99.804040</td>\n",
       "      <td>../raw/train-image/image/ISIC_0015864.jpg</td>\n",
       "    </tr>\n",
       "    <tr>\n",
       "      <th>3</th>\n",
       "      <td>ISIC_0015902</td>\n",
       "      <td>0</td>\n",
       "      <td>IP_4111386</td>\n",
       "      <td>65.0</td>\n",
       "      <td>male</td>\n",
       "      <td>anterior torso</td>\n",
       "      <td>3.22</td>\n",
       "      <td>TBP tile: close-up</td>\n",
       "      <td>3D: XP</td>\n",
       "      <td>14.242329</td>\n",
       "      <td>...</td>\n",
       "      <td>Benign</td>\n",
       "      <td>Benign</td>\n",
       "      <td>NaN</td>\n",
       "      <td>NaN</td>\n",
       "      <td>NaN</td>\n",
       "      <td>NaN</td>\n",
       "      <td>NaN</td>\n",
       "      <td>NaN</td>\n",
       "      <td>99.989998</td>\n",
       "      <td>../raw/train-image/image/ISIC_0015902.jpg</td>\n",
       "    </tr>\n",
       "    <tr>\n",
       "      <th>4</th>\n",
       "      <td>ISIC_0024200</td>\n",
       "      <td>0</td>\n",
       "      <td>IP_8313778</td>\n",
       "      <td>55.0</td>\n",
       "      <td>male</td>\n",
       "      <td>anterior torso</td>\n",
       "      <td>2.73</td>\n",
       "      <td>TBP tile: close-up</td>\n",
       "      <td>3D: white</td>\n",
       "      <td>24.725520</td>\n",
       "      <td>...</td>\n",
       "      <td>Benign</td>\n",
       "      <td>Benign</td>\n",
       "      <td>NaN</td>\n",
       "      <td>NaN</td>\n",
       "      <td>NaN</td>\n",
       "      <td>NaN</td>\n",
       "      <td>NaN</td>\n",
       "      <td>NaN</td>\n",
       "      <td>70.442510</td>\n",
       "      <td>../raw/train-image/image/ISIC_0024200.jpg</td>\n",
       "    </tr>\n",
       "    <tr>\n",
       "      <th>...</th>\n",
       "      <td>...</td>\n",
       "      <td>...</td>\n",
       "      <td>...</td>\n",
       "      <td>...</td>\n",
       "      <td>...</td>\n",
       "      <td>...</td>\n",
       "      <td>...</td>\n",
       "      <td>...</td>\n",
       "      <td>...</td>\n",
       "      <td>...</td>\n",
       "      <td>...</td>\n",
       "      <td>...</td>\n",
       "      <td>...</td>\n",
       "      <td>...</td>\n",
       "      <td>...</td>\n",
       "      <td>...</td>\n",
       "      <td>...</td>\n",
       "      <td>...</td>\n",
       "      <td>...</td>\n",
       "      <td>...</td>\n",
       "      <td>...</td>\n",
       "    </tr>\n",
       "    <tr>\n",
       "      <th>401054</th>\n",
       "      <td>ISIC_9999937</td>\n",
       "      <td>0</td>\n",
       "      <td>IP_1140263</td>\n",
       "      <td>70.0</td>\n",
       "      <td>male</td>\n",
       "      <td>anterior torso</td>\n",
       "      <td>6.80</td>\n",
       "      <td>TBP tile: close-up</td>\n",
       "      <td>3D: XP</td>\n",
       "      <td>22.574335</td>\n",
       "      <td>...</td>\n",
       "      <td>Benign</td>\n",
       "      <td>Benign</td>\n",
       "      <td>NaN</td>\n",
       "      <td>NaN</td>\n",
       "      <td>NaN</td>\n",
       "      <td>NaN</td>\n",
       "      <td>NaN</td>\n",
       "      <td>NaN</td>\n",
       "      <td>99.999988</td>\n",
       "      <td>../raw/train-image/image/ISIC_9999937.jpg</td>\n",
       "    </tr>\n",
       "    <tr>\n",
       "      <th>401055</th>\n",
       "      <td>ISIC_9999951</td>\n",
       "      <td>0</td>\n",
       "      <td>IP_5678181</td>\n",
       "      <td>60.0</td>\n",
       "      <td>male</td>\n",
       "      <td>posterior torso</td>\n",
       "      <td>3.11</td>\n",
       "      <td>TBP tile: close-up</td>\n",
       "      <td>3D: white</td>\n",
       "      <td>19.977640</td>\n",
       "      <td>...</td>\n",
       "      <td>Benign</td>\n",
       "      <td>Benign</td>\n",
       "      <td>NaN</td>\n",
       "      <td>NaN</td>\n",
       "      <td>NaN</td>\n",
       "      <td>NaN</td>\n",
       "      <td>NaN</td>\n",
       "      <td>NaN</td>\n",
       "      <td>99.999820</td>\n",
       "      <td>../raw/train-image/image/ISIC_9999951.jpg</td>\n",
       "    </tr>\n",
       "    <tr>\n",
       "      <th>401056</th>\n",
       "      <td>ISIC_9999960</td>\n",
       "      <td>0</td>\n",
       "      <td>IP_0076153</td>\n",
       "      <td>65.0</td>\n",
       "      <td>female</td>\n",
       "      <td>anterior torso</td>\n",
       "      <td>2.05</td>\n",
       "      <td>TBP tile: close-up</td>\n",
       "      <td>3D: XP</td>\n",
       "      <td>17.332567</td>\n",
       "      <td>...</td>\n",
       "      <td>Benign</td>\n",
       "      <td>Benign</td>\n",
       "      <td>NaN</td>\n",
       "      <td>NaN</td>\n",
       "      <td>NaN</td>\n",
       "      <td>NaN</td>\n",
       "      <td>NaN</td>\n",
       "      <td>NaN</td>\n",
       "      <td>99.999416</td>\n",
       "      <td>../raw/train-image/image/ISIC_9999960.jpg</td>\n",
       "    </tr>\n",
       "    <tr>\n",
       "      <th>401057</th>\n",
       "      <td>ISIC_9999964</td>\n",
       "      <td>0</td>\n",
       "      <td>IP_5231513</td>\n",
       "      <td>30.0</td>\n",
       "      <td>female</td>\n",
       "      <td>anterior torso</td>\n",
       "      <td>2.80</td>\n",
       "      <td>TBP tile: close-up</td>\n",
       "      <td>3D: XP</td>\n",
       "      <td>22.288570</td>\n",
       "      <td>...</td>\n",
       "      <td>Benign</td>\n",
       "      <td>Benign</td>\n",
       "      <td>NaN</td>\n",
       "      <td>NaN</td>\n",
       "      <td>NaN</td>\n",
       "      <td>NaN</td>\n",
       "      <td>NaN</td>\n",
       "      <td>NaN</td>\n",
       "      <td>100.000000</td>\n",
       "      <td>../raw/train-image/image/ISIC_9999964.jpg</td>\n",
       "    </tr>\n",
       "    <tr>\n",
       "      <th>401058</th>\n",
       "      <td>ISIC_9999967</td>\n",
       "      <td>0</td>\n",
       "      <td>IP_6426047</td>\n",
       "      <td>50.0</td>\n",
       "      <td>male</td>\n",
       "      <td>lower extremity</td>\n",
       "      <td>3.30</td>\n",
       "      <td>TBP tile: close-up</td>\n",
       "      <td>3D: XP</td>\n",
       "      <td>16.792900</td>\n",
       "      <td>...</td>\n",
       "      <td>Benign</td>\n",
       "      <td>Benign</td>\n",
       "      <td>NaN</td>\n",
       "      <td>NaN</td>\n",
       "      <td>NaN</td>\n",
       "      <td>NaN</td>\n",
       "      <td>NaN</td>\n",
       "      <td>NaN</td>\n",
       "      <td>99.999960</td>\n",
       "      <td>../raw/train-image/image/ISIC_9999967.jpg</td>\n",
       "    </tr>\n",
       "  </tbody>\n",
       "</table>\n",
       "<p>401059 rows × 56 columns</p>\n",
       "</div>"
      ],
      "text/plain": [
       "             isic_id  target  patient_id  age_approx     sex  \\\n",
       "0       ISIC_0015670       0  IP_1235828        60.0    male   \n",
       "1       ISIC_0015845       0  IP_8170065        60.0    male   \n",
       "2       ISIC_0015864       0  IP_6724798        60.0    male   \n",
       "3       ISIC_0015902       0  IP_4111386        65.0    male   \n",
       "4       ISIC_0024200       0  IP_8313778        55.0    male   \n",
       "...              ...     ...         ...         ...     ...   \n",
       "401054  ISIC_9999937       0  IP_1140263        70.0    male   \n",
       "401055  ISIC_9999951       0  IP_5678181        60.0    male   \n",
       "401056  ISIC_9999960       0  IP_0076153        65.0  female   \n",
       "401057  ISIC_9999964       0  IP_5231513        30.0  female   \n",
       "401058  ISIC_9999967       0  IP_6426047        50.0    male   \n",
       "\n",
       "       anatom_site_general  clin_size_long_diam_mm          image_type  \\\n",
       "0          lower extremity                    3.04  TBP tile: close-up   \n",
       "1                head/neck                    1.10  TBP tile: close-up   \n",
       "2          posterior torso                    3.40  TBP tile: close-up   \n",
       "3           anterior torso                    3.22  TBP tile: close-up   \n",
       "4           anterior torso                    2.73  TBP tile: close-up   \n",
       "...                    ...                     ...                 ...   \n",
       "401054      anterior torso                    6.80  TBP tile: close-up   \n",
       "401055     posterior torso                    3.11  TBP tile: close-up   \n",
       "401056      anterior torso                    2.05  TBP tile: close-up   \n",
       "401057      anterior torso                    2.80  TBP tile: close-up   \n",
       "401058     lower extremity                    3.30  TBP tile: close-up   \n",
       "\n",
       "       tbp_tile_type   tbp_lv_A  ...  iddx_full  iddx_1  iddx_2  iddx_3  \\\n",
       "0          3D: white  20.244422  ...     Benign  Benign     NaN     NaN   \n",
       "1          3D: white  31.712570  ...     Benign  Benign     NaN     NaN   \n",
       "2             3D: XP  22.575830  ...     Benign  Benign     NaN     NaN   \n",
       "3             3D: XP  14.242329  ...     Benign  Benign     NaN     NaN   \n",
       "4          3D: white  24.725520  ...     Benign  Benign     NaN     NaN   \n",
       "...              ...        ...  ...        ...     ...     ...     ...   \n",
       "401054        3D: XP  22.574335  ...     Benign  Benign     NaN     NaN   \n",
       "401055     3D: white  19.977640  ...     Benign  Benign     NaN     NaN   \n",
       "401056        3D: XP  17.332567  ...     Benign  Benign     NaN     NaN   \n",
       "401057        3D: XP  22.288570  ...     Benign  Benign     NaN     NaN   \n",
       "401058        3D: XP  16.792900  ...     Benign  Benign     NaN     NaN   \n",
       "\n",
       "        iddx_4  iddx_5  mel_mitotic_index  mel_thick_mm  \\\n",
       "0          NaN     NaN                NaN           NaN   \n",
       "1          NaN     NaN                NaN           NaN   \n",
       "2          NaN     NaN                NaN           NaN   \n",
       "3          NaN     NaN                NaN           NaN   \n",
       "4          NaN     NaN                NaN           NaN   \n",
       "...        ...     ...                ...           ...   \n",
       "401054     NaN     NaN                NaN           NaN   \n",
       "401055     NaN     NaN                NaN           NaN   \n",
       "401056     NaN     NaN                NaN           NaN   \n",
       "401057     NaN     NaN                NaN           NaN   \n",
       "401058     NaN     NaN                NaN           NaN   \n",
       "\n",
       "        tbp_lv_dnn_lesion_confidence  \\\n",
       "0                          97.517282   \n",
       "1                           3.141455   \n",
       "2                          99.804040   \n",
       "3                          99.989998   \n",
       "4                          70.442510   \n",
       "...                              ...   \n",
       "401054                     99.999988   \n",
       "401055                     99.999820   \n",
       "401056                     99.999416   \n",
       "401057                    100.000000   \n",
       "401058                     99.999960   \n",
       "\n",
       "                                        file_path  \n",
       "0       ../raw/train-image/image/ISIC_0015670.jpg  \n",
       "1       ../raw/train-image/image/ISIC_0015845.jpg  \n",
       "2       ../raw/train-image/image/ISIC_0015864.jpg  \n",
       "3       ../raw/train-image/image/ISIC_0015902.jpg  \n",
       "4       ../raw/train-image/image/ISIC_0024200.jpg  \n",
       "...                                           ...  \n",
       "401054  ../raw/train-image/image/ISIC_9999937.jpg  \n",
       "401055  ../raw/train-image/image/ISIC_9999951.jpg  \n",
       "401056  ../raw/train-image/image/ISIC_9999960.jpg  \n",
       "401057  ../raw/train-image/image/ISIC_9999964.jpg  \n",
       "401058  ../raw/train-image/image/ISIC_9999967.jpg  \n",
       "\n",
       "[401059 rows x 56 columns]"
      ]
     },
     "execution_count": 8,
     "metadata": {},
     "output_type": "execute_result"
    }
   ],
   "source": [
    "df = pd.read_csv(f\"{ROOT_DIR}/train-metadata.csv\")\n",
    "print(df.shape)\n",
    "df['file_path'] = df['isic_id'].apply(get_train_file_path)\n",
    "df = df[ df[\"file_path\"].isin(train_images) ].reset_index(drop=True)\n",
    "df"
   ]
  },
  {
   "cell_type": "code",
   "execution_count": 9,
   "id": "aed76c7d",
   "metadata": {},
   "outputs": [
    {
     "data": {
      "text/html": [
       "<div>\n",
       "<style scoped>\n",
       "    .dataframe tbody tr th:only-of-type {\n",
       "        vertical-align: middle;\n",
       "    }\n",
       "\n",
       "    .dataframe tbody tr th {\n",
       "        vertical-align: top;\n",
       "    }\n",
       "\n",
       "    .dataframe thead th {\n",
       "        text-align: right;\n",
       "    }\n",
       "</style>\n",
       "<table border=\"1\" class=\"dataframe\">\n",
       "  <thead>\n",
       "    <tr style=\"text-align: right;\">\n",
       "      <th></th>\n",
       "      <th>patient_id</th>\n",
       "      <th>count_per_patient</th>\n",
       "    </tr>\n",
       "  </thead>\n",
       "  <tbody>\n",
       "    <tr>\n",
       "      <th>0</th>\n",
       "      <td>IP_5792391</td>\n",
       "      <td>1</td>\n",
       "    </tr>\n",
       "    <tr>\n",
       "      <th>1</th>\n",
       "      <td>IP_1487179</td>\n",
       "      <td>1</td>\n",
       "    </tr>\n",
       "  </tbody>\n",
       "</table>\n",
       "</div>"
      ],
      "text/plain": [
       "   patient_id  count_per_patient\n",
       "0  IP_5792391                  1\n",
       "1  IP_1487179                  1"
      ]
     },
     "execution_count": 9,
     "metadata": {},
     "output_type": "execute_result"
    }
   ],
   "source": [
    "df_patient = df.groupby(\"patient_id\")[[\"isic_id\"]].agg(\n",
    "    count_per_patient=(\"isic_id\", \"count\"), \n",
    ").sort_values(by=\"count_per_patient\").reset_index()\n",
    "df_patient.head(2)"
   ]
  },
  {
   "cell_type": "code",
   "execution_count": 10,
   "id": "013cd69c",
   "metadata": {
    "execution": {
     "iopub.execute_input": "2024-08-03T11:28:01.762226Z",
     "iopub.status.busy": "2024-08-03T11:28:01.761517Z",
     "iopub.status.idle": "2024-08-03T11:28:01.767649Z",
     "shell.execute_reply": "2024-08-03T11:28:01.766935Z"
    },
    "papermill": {
     "duration": 0.023878,
     "end_time": "2024-08-03T11:28:01.769506",
     "exception": false,
     "start_time": "2024-08-03T11:28:01.745628",
     "status": "completed"
    },
    "tags": []
   },
   "outputs": [
    {
     "data": {
      "text/plain": [
       "(401059, 393)"
      ]
     },
     "execution_count": 10,
     "metadata": {},
     "output_type": "execute_result"
    }
   ],
   "source": [
    "df = df.merge(df_patient, on=\"patient_id\", how=\"left\")\n",
    "df.shape[0], df.target.sum()"
   ]
  },
  {
   "cell_type": "markdown",
   "id": "561d0151",
   "metadata": {
    "papermill": {
     "duration": 0.014872,
     "end_time": "2024-08-03T11:28:01.835619",
     "exception": false,
     "start_time": "2024-08-03T11:28:01.820747",
     "status": "completed"
    },
    "tags": []
   },
   "source": [
    "# <span><h1 style = \"font-family: garamond; font-size: 40px; font-style: normal; letter-spcaing: 3px; background-color: #f6f5f5; color :#fe346e; border-radius: 100px 100px; text-align:center\">Create Folds</h1></span>"
   ]
  },
  {
   "cell_type": "code",
   "execution_count": 11,
   "id": "84a1417e",
   "metadata": {
    "execution": {
     "iopub.execute_input": "2024-08-03T11:28:01.866585Z",
     "iopub.status.busy": "2024-08-03T11:28:01.866313Z",
     "iopub.status.idle": "2024-08-03T11:28:04.760208Z",
     "shell.execute_reply": "2024-08-03T11:28:04.759287Z"
    },
    "papermill": {
     "duration": 2.911893,
     "end_time": "2024-08-03T11:28:04.762481",
     "exception": false,
     "start_time": "2024-08-03T11:28:01.850588",
     "status": "completed"
    },
    "tags": []
   },
   "outputs": [
    {
     "data": {
      "text/html": [
       "<div>\n",
       "<style scoped>\n",
       "    .dataframe tbody tr th:only-of-type {\n",
       "        vertical-align: middle;\n",
       "    }\n",
       "\n",
       "    .dataframe tbody tr th {\n",
       "        vertical-align: top;\n",
       "    }\n",
       "\n",
       "    .dataframe thead th {\n",
       "        text-align: right;\n",
       "    }\n",
       "</style>\n",
       "<table border=\"1\" class=\"dataframe\">\n",
       "  <thead>\n",
       "    <tr style=\"text-align: right;\">\n",
       "      <th></th>\n",
       "      <th>isic_id</th>\n",
       "      <th>kfold</th>\n",
       "    </tr>\n",
       "  </thead>\n",
       "  <tbody>\n",
       "    <tr>\n",
       "      <th>0</th>\n",
       "      <td>ISIC_0015670</td>\n",
       "      <td>4.0</td>\n",
       "    </tr>\n",
       "    <tr>\n",
       "      <th>1</th>\n",
       "      <td>ISIC_0015845</td>\n",
       "      <td>2.0</td>\n",
       "    </tr>\n",
       "    <tr>\n",
       "      <th>2</th>\n",
       "      <td>ISIC_0015864</td>\n",
       "      <td>1.0</td>\n",
       "    </tr>\n",
       "    <tr>\n",
       "      <th>3</th>\n",
       "      <td>ISIC_0015902</td>\n",
       "      <td>2.0</td>\n",
       "    </tr>\n",
       "    <tr>\n",
       "      <th>4</th>\n",
       "      <td>ISIC_0024200</td>\n",
       "      <td>1.0</td>\n",
       "    </tr>\n",
       "    <tr>\n",
       "      <th>...</th>\n",
       "      <td>...</td>\n",
       "      <td>...</td>\n",
       "    </tr>\n",
       "    <tr>\n",
       "      <th>401054</th>\n",
       "      <td>ISIC_9999937</td>\n",
       "      <td>1.0</td>\n",
       "    </tr>\n",
       "    <tr>\n",
       "      <th>401055</th>\n",
       "      <td>ISIC_9999951</td>\n",
       "      <td>3.0</td>\n",
       "    </tr>\n",
       "    <tr>\n",
       "      <th>401056</th>\n",
       "      <td>ISIC_9999960</td>\n",
       "      <td>0.0</td>\n",
       "    </tr>\n",
       "    <tr>\n",
       "      <th>401057</th>\n",
       "      <td>ISIC_9999964</td>\n",
       "      <td>2.0</td>\n",
       "    </tr>\n",
       "    <tr>\n",
       "      <th>401058</th>\n",
       "      <td>ISIC_9999967</td>\n",
       "      <td>3.0</td>\n",
       "    </tr>\n",
       "  </tbody>\n",
       "</table>\n",
       "<p>401059 rows × 2 columns</p>\n",
       "</div>"
      ],
      "text/plain": [
       "             isic_id  kfold\n",
       "0       ISIC_0015670    4.0\n",
       "1       ISIC_0015845    2.0\n",
       "2       ISIC_0015864    1.0\n",
       "3       ISIC_0015902    2.0\n",
       "4       ISIC_0024200    1.0\n",
       "...              ...    ...\n",
       "401054  ISIC_9999937    1.0\n",
       "401055  ISIC_9999951    3.0\n",
       "401056  ISIC_9999960    0.0\n",
       "401057  ISIC_9999964    2.0\n",
       "401058  ISIC_9999967    3.0\n",
       "\n",
       "[401059 rows x 2 columns]"
      ]
     },
     "execution_count": 11,
     "metadata": {},
     "output_type": "execute_result"
    }
   ],
   "source": [
    "sgkf = StratifiedGroupKFold(n_splits=CONFIG['n_fold'], shuffle=True, random_state=0)\n",
    "\n",
    "for fold, ( _, val_) in enumerate(sgkf.split(df, df.target, df.patient_id)):\n",
    "      df.loc[val_ , \"kfold\"] = int(fold)\n",
    "        \n",
    "# df[[\"isic_id\", \"kfold\"]].to_csv(\"df_fold.csv\", index=False)\n",
    "df[[\"isic_id\", \"kfold\"]]"
   ]
  },
  {
   "cell_type": "markdown",
   "id": "bb8dc293",
   "metadata": {
    "papermill": {
     "duration": 0.015096,
     "end_time": "2024-08-03T11:28:04.793797",
     "exception": false,
     "start_time": "2024-08-03T11:28:04.778701",
     "status": "completed"
    },
    "tags": []
   },
   "source": [
    "# <span><h1 style = \"font-family: garamond; font-size: 40px; font-style: normal; letter-spcaing: 3px; background-color: #f6f5f5; color :#fe346e; border-radius: 100px 100px; text-align:center\">Dataset Class</h1></span>"
   ]
  },
  {
   "cell_type": "code",
   "execution_count": 12,
   "id": "375a56c1",
   "metadata": {
    "execution": {
     "iopub.execute_input": "2024-08-03T11:28:04.825932Z",
     "iopub.status.busy": "2024-08-03T11:28:04.825247Z",
     "iopub.status.idle": "2024-08-03T11:28:04.837789Z",
     "shell.execute_reply": "2024-08-03T11:28:04.836967Z"
    },
    "papermill": {
     "duration": 0.030647,
     "end_time": "2024-08-03T11:28:04.839661",
     "exception": false,
     "start_time": "2024-08-03T11:28:04.809014",
     "status": "completed"
    },
    "tags": []
   },
   "outputs": [],
   "source": [
    "class ISICDataset_for_Train(Dataset):\n",
    "    def __init__(self, df, transforms=None):\n",
    "        self.df_positive = df[df[\"target\"] == 1].reset_index()\n",
    "        self.df_negative = df[df[\"target\"] == 0].reset_index()\n",
    "        self.file_names_positive = self.df_positive['file_path'].values\n",
    "        self.file_names_negative = self.df_negative['file_path'].values\n",
    "        self.targets_positive = self.df_positive['target'].values\n",
    "        self.targets_negative = self.df_negative['target'].values\n",
    "        self.transforms = transforms\n",
    "        \n",
    "    def __len__(self):\n",
    "        return len(self.df_positive) * 2\n",
    "    \n",
    "    def __getitem__(self, index):\n",
    "        if random.random() >= 0.9:\n",
    "            df = self.df_positive\n",
    "            file_names = self.file_names_positive\n",
    "            targets = self.targets_positive\n",
    "        else:\n",
    "            df = self.df_negative\n",
    "            file_names = self.file_names_negative\n",
    "            targets = self.targets_negative\n",
    "        index = index % df.shape[0]\n",
    "        \n",
    "        img_path = file_names[index]\n",
    "        img = cv2.imread(img_path)\n",
    "        img = cv2.cvtColor(img, cv2.COLOR_BGR2RGB)\n",
    "        target = targets[index]\n",
    "        \n",
    "        if self.transforms:\n",
    "            img = self.transforms(image=img)[\"image\"]\n",
    "            \n",
    "        return {\n",
    "            'image': img,\n",
    "            'target': target\n",
    "        }\n",
    "\n",
    "class ISICDataset(Dataset):\n",
    "    def __init__(self, df, transforms=None):\n",
    "        self.df = df\n",
    "        self.file_names = df['file_path'].values\n",
    "        self.targets = df['target'].values\n",
    "        self.transforms = transforms\n",
    "        \n",
    "    def __len__(self):\n",
    "        return len(self.df)\n",
    "    \n",
    "    def __getitem__(self, index):\n",
    "        img_path = self.file_names[index]\n",
    "        img = cv2.imread(img_path)\n",
    "        img = cv2.cvtColor(img, cv2.COLOR_BGR2RGB)\n",
    "        target = self.targets[index]\n",
    "        \n",
    "        if self.transforms:\n",
    "            img = self.transforms(image=img)[\"image\"]\n",
    "            \n",
    "        return {\n",
    "            'image': img,\n",
    "            'target': target\n",
    "        }\n",
    "    \n",
    "class ISICDataset_mixup(Dataset):\n",
    "    def __init__(self, df, transforms=None):\n",
    "        self.df = df\n",
    "        self.file_names = df['file_path'].values\n",
    "        self.targets = df['target'].values\n",
    "        self.transforms = transforms\n",
    "        \n",
    "    def __len__(self):\n",
    "        return len(self.df)\n",
    "    \n",
    "    def __getitem__(self, index):\n",
    "        img_path = self.file_names[index]\n",
    "        img = cv2.imread(img_path)\n",
    "        img = cv2.cvtColor(img, cv2.COLOR_BGR2RGB)\n",
    "        target = self.targets[index]\n",
    "        \n",
    "        if self.transforms:\n",
    "            img = self.transforms(image=img)[\"image\"]\n",
    "            \n",
    "        return img, target"
   ]
  },
  {
   "cell_type": "markdown",
   "id": "d34a7709",
   "metadata": {
    "papermill": {
     "duration": 0.015241,
     "end_time": "2024-08-03T11:28:04.870256",
     "exception": false,
     "start_time": "2024-08-03T11:28:04.855015",
     "status": "completed"
    },
    "tags": []
   },
   "source": [
    "# <span><h1 style = \"font-family: garamond; font-size: 40px; font-style: normal; letter-spcaing: 3px; background-color: #f6f5f5; color :#fe346e; border-radius: 100px 100px; text-align:center\">Augmentations</h1></span>"
   ]
  },
  {
   "cell_type": "code",
   "execution_count": 13,
   "id": "d21d5001",
   "metadata": {},
   "outputs": [],
   "source": [
    "# # Mixupを行う関数を追加\n",
    "# def mixup(x: torch.Tensor, y: torch.Tensor, alpha: float = 0.4):\n",
    "#     assert alpha > 0, \"alpha should be larger than 0\"\n",
    "#     assert x.size(0) > 1, \"Batch size should be larger than 1\"\n",
    "\n",
    "#     lam = np.random.beta(alpha, alpha)\n",
    "#     rand_index = torch.randperm(x.size()[0])\n",
    "#     mixed_x = lam * x + (1 - lam) * x[rand_index, :]\n",
    "#     target_a, target_b = y, y[rand_index]\n",
    "#     return mixed_x, target_a, target_b, lam\n",
    "\n",
    "# Balanced Mixupを行う関数を追加\n",
    "# def balanced_mixup(x, y, alpha=0.2):\n",
    "#     \"\"\"\n",
    "#     Balanced MixUp の実装\n",
    "\n",
    "#     Args:\n",
    "#         x (torch.Tensor): 入力データ (バッチサイズ, チャネル数, 高さ, 幅)\n",
    "#         y (torch.Tensor): ラベル (バッチサイズ)\n",
    "#         alpha (float): MixUp の強度を制御するハイパーパラメータ\n",
    "\n",
    "#     Returns:\n",
    "#         mixed_x (torch.Tensor): MixUp 後の入力データ\n",
    "#         mixed_y (torch.Tensor): MixUp 後のラベル\n",
    "#     \"\"\"\n",
    "\n",
    "#     batch_size = x.size(0)\n",
    "\n",
    "#     # インスタンスベースのサンプリング\n",
    "#     index_instance = torch.randperm(batch_size)\n",
    "\n",
    "#     # クラスベースのサンプリング\n",
    "#     # y が0と1のバイナリラベルを持つと仮定\n",
    "#     class0_indices = torch.where(y == 0)[0]\n",
    "#     class1_indices = torch.where(y == 1)[0]\n",
    "\n",
    "#     # 各クラスから同じ数をサンプリング\n",
    "#     sampled_class0_indices = class0_indices[torch.randint(0, len(class0_indices), (batch_size // 2,), device=x.device)]\n",
    "#     sampled_class1_indices = class1_indices[torch.randint(0, len(class1_indices), (batch_size // 2,), device=x.device)]\n",
    "\n",
    "#     # サンプリングしたインデックスを結合\n",
    "#     sampled_indices = torch.cat([sampled_class0_indices, sampled_class1_indices])\n",
    "\n",
    "#     # インデックスをシャッフル\n",
    "#     index_class = sampled_indices[torch.randperm(len(sampled_indices), device=x.device)]\n",
    "\n",
    "#     # λ（ラムダ）を Beta(α, 1) からサンプリング\n",
    "#     lam = Beta(torch.tensor([alpha], device=x.device), torch.tensor([1.0], device=x.device)).sample([batch_size])\n",
    "#     lam = torch.max(lam, 1 - lam)  # λ >= 0.5 を保証\n",
    "\n",
    "#     # MixUp\n",
    "#     mixed_x = lam.view(-1, 1, 1, 1) * x + (1 - lam).view(-1, 1, 1, 1) * x[index_class]\n",
    "#     mixed_y = lam.view(-1, 1) * F.one_hot(y.long(), num_classes=2) + (1 - lam).view(-1, 1) * F.one_hot(y[index_class].long(), num_classes=2)\n",
    "\n",
    "#     return mixed_x, mixed_y"
   ]
  },
  {
   "cell_type": "code",
   "execution_count": 14,
   "id": "ead1255f",
   "metadata": {},
   "outputs": [],
   "source": [
    "class BalancedMixUp:\n",
    "    def __init__(self, alpha=0.2):\n",
    "        self.alpha = alpha\n",
    "\n",
    "    def __call__(self, x_instance, y_instance, x_class, y_class):\n",
    "        # ベータ分布からλをサンプリング\n",
    "        lam = torch.distributions.beta.Beta(self.alpha, 1).sample()\n",
    "        lam = lam.to(x_instance.device)\n",
    "\n",
    "        # 新しい合成サンプルを生成\n",
    "        x_mixed = lam * x_instance + (1 - lam) * x_class\n",
    "        y_mixed = lam * y_instance + (1 - lam) * y_class\n",
    "        # x_mixed = lam * x_class + (1 - lam) * x_instance\n",
    "        # y_mixed = lam * y_class + (1 - lam) * y_instance\n",
    "\n",
    "        return x_mixed, y_mixed, lam\n",
    "\n",
    "def get_class_based_sampler(dataset, labels):\n",
    "    # 各クラスの頻度を計算\n",
    "    class_counts = torch.bincount(labels)\n",
    "    num_samples = len(labels)\n",
    "\n",
    "    # 各クラスのサンプリング確率を計算\n",
    "    class_weights = 1.0 / class_counts.float()\n",
    "    sample_weights = class_weights[labels]\n",
    "\n",
    "    # サンプリング用のWeightedRandomSamplerを作成\n",
    "    sampler = WeightedRandomSampler(weights=sample_weights, num_samples=num_samples, replacement=True)\n",
    "    return sampler"
   ]
  },
  {
   "cell_type": "code",
   "execution_count": 15,
   "id": "0d4c8098",
   "metadata": {
    "execution": {
     "iopub.execute_input": "2024-08-03T11:28:04.902245Z",
     "iopub.status.busy": "2024-08-03T11:28:04.901951Z",
     "iopub.status.idle": "2024-08-03T11:28:04.910761Z",
     "shell.execute_reply": "2024-08-03T11:28:04.909940Z"
    },
    "papermill": {
     "duration": 0.026706,
     "end_time": "2024-08-03T11:28:04.912624",
     "exception": false,
     "start_time": "2024-08-03T11:28:04.885918",
     "status": "completed"
    },
    "tags": []
   },
   "outputs": [],
   "source": [
    "data_transforms = {\n",
    "    \"train\": A.Compose([\n",
    "        A.Resize(CONFIG['img_size'], CONFIG['img_size']),\n",
    "        A.RandomRotate90(p=0.5),\n",
    "        A.Flip(p=0.5),\n",
    "        A.Downscale(p=0.25),\n",
    "        A.ShiftScaleRotate(shift_limit=0.1, \n",
    "                           scale_limit=0.15, \n",
    "                           rotate_limit=60, \n",
    "                           p=0.5),\n",
    "        A.HueSaturationValue(\n",
    "                hue_shift_limit=0.2, \n",
    "                sat_shift_limit=0.2, \n",
    "                val_shift_limit=0.2, \n",
    "                p=0.5\n",
    "            ),\n",
    "        A.RandomBrightnessContrast(\n",
    "                brightness_limit=(-0.1,0.1), \n",
    "                contrast_limit=(-0.1, 0.1), \n",
    "                p=0.5\n",
    "            ),\n",
    "        A.Normalize(\n",
    "                mean=[0.485, 0.456, 0.406], \n",
    "                std=[0.229, 0.224, 0.225], \n",
    "                max_pixel_value=255.0, \n",
    "                p=1.0\n",
    "            ),\n",
    "        ToTensorV2()], p=1.),\n",
    "    \n",
    "    \"valid\": A.Compose([\n",
    "        A.Resize(CONFIG['img_size'], CONFIG['img_size']),\n",
    "        A.Normalize(\n",
    "                mean=[0.485, 0.456, 0.406], \n",
    "                std=[0.229, 0.224, 0.225], \n",
    "                max_pixel_value=255.0, \n",
    "                p=1.0\n",
    "            ),\n",
    "        ToTensorV2()], p=1.)\n",
    "}"
   ]
  },
  {
   "cell_type": "markdown",
   "id": "66346540",
   "metadata": {
    "papermill": {
     "duration": 0.054133,
     "end_time": "2024-08-03T11:28:04.982208",
     "exception": false,
     "start_time": "2024-08-03T11:28:04.928075",
     "status": "completed"
    },
    "tags": []
   },
   "source": [
    "# <span><h1 style = \"font-family: garamond; font-size: 40px; font-style: normal; letter-spcaing: 3px; background-color: #f6f5f5; color :#fe346e; border-radius: 100px 100px; text-align:center\">GeM Pooling</h1></span>"
   ]
  },
  {
   "cell_type": "code",
   "execution_count": 16,
   "id": "47d952e1",
   "metadata": {
    "execution": {
     "iopub.execute_input": "2024-08-03T11:28:05.014269Z",
     "iopub.status.busy": "2024-08-03T11:28:05.013910Z",
     "iopub.status.idle": "2024-08-03T11:28:05.021473Z",
     "shell.execute_reply": "2024-08-03T11:28:05.020611Z"
    },
    "papermill": {
     "duration": 0.02579,
     "end_time": "2024-08-03T11:28:05.023334",
     "exception": false,
     "start_time": "2024-08-03T11:28:04.997544",
     "status": "completed"
    },
    "tags": []
   },
   "outputs": [],
   "source": [
    "class GeM(nn.Module):\n",
    "    def __init__(self, p=3, eps=1e-6):\n",
    "        super(GeM, self).__init__()\n",
    "        self.p = nn.Parameter(torch.ones(1)*p)\n",
    "        self.eps = eps\n",
    "\n",
    "    def forward(self, x):\n",
    "        return self.gem(x, p=self.p, eps=self.eps)\n",
    "        \n",
    "    def gem(self, x, p=3, eps=1e-6):\n",
    "        return F.avg_pool2d(x.clamp(min=eps).pow(p), (x.size(-2), x.size(-1))).pow(1./p)\n",
    "        \n",
    "    def __repr__(self):\n",
    "        return self.__class__.__name__ + \\\n",
    "                '(' + 'p=' + '{:.4f}'.format(self.p.data.tolist()[0]) + \\\n",
    "                ', ' + 'eps=' + str(self.eps) + ')'"
   ]
  },
  {
   "cell_type": "markdown",
   "id": "c6f8a4bf",
   "metadata": {
    "papermill": {
     "duration": 0.015161,
     "end_time": "2024-08-03T11:28:05.053813",
     "exception": false,
     "start_time": "2024-08-03T11:28:05.038652",
     "status": "completed"
    },
    "tags": []
   },
   "source": [
    "# <span><h1 style = \"font-family: garamond; font-size: 40px; font-style: normal; letter-spcaing: 3px; background-color: #f6f5f5; color :#fe346e; border-radius: 100px 100px; text-align:center\">Create Model</h1></span>"
   ]
  },
  {
   "cell_type": "code",
   "execution_count": 17,
   "id": "52e19a9b",
   "metadata": {
    "execution": {
     "iopub.execute_input": "2024-08-03T11:28:05.085426Z",
     "iopub.status.busy": "2024-08-03T11:28:05.085174Z",
     "iopub.status.idle": "2024-08-03T11:28:05.092235Z",
     "shell.execute_reply": "2024-08-03T11:28:05.091434Z"
    },
    "papermill": {
     "duration": 0.025077,
     "end_time": "2024-08-03T11:28:05.094158",
     "exception": false,
     "start_time": "2024-08-03T11:28:05.069081",
     "status": "completed"
    },
    "tags": []
   },
   "outputs": [],
   "source": [
    "class ISICModel(nn.Module):\n",
    "    def __init__(self, model_name, num_classes=1, pretrained=True, checkpoint_path=None):\n",
    "        super(ISICModel, self).__init__()\n",
    "        self.model = timm.create_model(model_name, pretrained=pretrained, checkpoint_path=checkpoint_path)\n",
    "\n",
    "        in_features = self.model.classifier.in_features\n",
    "        self.model.classifier = nn.Identity()\n",
    "        self.model.global_pool = nn.Identity()\n",
    "        self.pooling = GeM()\n",
    "        self.dropout = nn.Dropout(p=0.2)\n",
    "        self.linear = nn.Linear(in_features, num_classes)\n",
    "        self.sigmoid = nn.Sigmoid()\n",
    "\n",
    "    def forward(self, images):\n",
    "        features = self.model(images)\n",
    "        pooled_features = self.pooling(features).flatten(1)\n",
    "        dropped_features = self.dropout(pooled_features)\n",
    "        output = self.sigmoid(self.linear(dropped_features))\n",
    "        return output"
   ]
  },
  {
   "cell_type": "markdown",
   "id": "cdf5204a",
   "metadata": {
    "papermill": {
     "duration": 0.015472,
     "end_time": "2024-08-03T11:28:05.124849",
     "exception": false,
     "start_time": "2024-08-03T11:28:05.109377",
     "status": "completed"
    },
    "tags": []
   },
   "source": [
    "# <span><h1 style = \"font-family: garamond; font-size: 40px; font-style: normal; letter-spcaing: 3px; background-color: #f6f5f5; color :#fe346e; border-radius: 100px 100px; text-align:center\">Loss Function</h1></span>"
   ]
  },
  {
   "cell_type": "code",
   "execution_count": 18,
   "id": "c25f4ac6",
   "metadata": {
    "execution": {
     "iopub.execute_input": "2024-08-03T11:28:05.156842Z",
     "iopub.status.busy": "2024-08-03T11:28:05.156560Z",
     "iopub.status.idle": "2024-08-03T11:28:05.160848Z",
     "shell.execute_reply": "2024-08-03T11:28:05.159769Z"
    },
    "papermill": {
     "duration": 0.022538,
     "end_time": "2024-08-03T11:28:05.162710",
     "exception": false,
     "start_time": "2024-08-03T11:28:05.140172",
     "status": "completed"
    },
    "tags": []
   },
   "outputs": [],
   "source": [
    "# class FocalLoss(nn.Module):\n",
    "#     def __init__(self, alpha=0.5, gamma=2, reduction='mean'):\n",
    "#         super(FocalLoss, self).__init__()\n",
    "#         self.alpha = alpha\n",
    "#         self.gamma = gamma\n",
    "#         self.reduction = reduction\n",
    "\n",
    "#     def forward(self, inputs, targets):\n",
    "#         BCE_loss = nn.BCEWithLogitsLoss(reduction='none')(inputs, targets)\n",
    "#         pt = torch.exp(-BCE_loss)\n",
    "#         F_loss = self.alpha * (1-pt)**self.gamma * BCE_loss\n",
    "\n",
    "#         if self.reduction == 'mean':\n",
    "#             return F_loss.mean()\n",
    "#         elif self.reduction == 'sum':\n",
    "#             return F_loss.sum()\n",
    "#         else:\n",
    "#             return F_loss\n",
    "\n",
    "class FocalLoss(nn.Module):\n",
    "    def __init__(self, weight=None, alpha=0.5, gamma=2, reduction=\"mean\"):\n",
    "        super(FocalLoss, self).__init__()\n",
    "        self.alpha = alpha\n",
    "        self.gamma = gamma\n",
    "        self.reduction = reduction\n",
    "\n",
    "    def forward(self, inputs, targets, smooth=1):\n",
    "        \n",
    "        #comment out if your model contains a sigmoid or equivalent activation layer\n",
    "        inputs = F.sigmoid(inputs)       \n",
    "        \n",
    "        #flatten label and prediction tensors\n",
    "        inputs = inputs.view(-1)\n",
    "        targets = targets.view(-1)\n",
    "        \n",
    "        #first compute binary cross-entropy \n",
    "        BCE = nn.CrossEntropyLoss()(inputs, targets)\n",
    "        BCE_EXP = torch.exp(-BCE)\n",
    "        focal_loss = self.alpha * (1-BCE_EXP)**self.gamma * BCE\n",
    "\n",
    "        if self.reduction == 'mean':\n",
    "            return focal_loss.mean()\n",
    "        elif self.reduction == 'sum':\n",
    "            return focal_loss.sum()\n",
    "        else:\n",
    "            return focal_loss\n",
    "\n",
    "# focal_loss = FocalLoss(alpha=CONFIG[\"focal_alpha\"], gamma=CONFIG[\"focal_gamma\"], reduction='mean')\n",
    "\n",
    "def criterion(outputs, targets):\n",
    "    return nn.BCELoss()(outputs, targets)\n",
    "    # return nn.BCEWithLogitsLoss()(outputs, targets)\n",
    "    # return nn.CrossEntropyLoss()(outputs, targets) \n",
    "    # return FocalLoss(alpha=CONFIG[\"focal_alpha\"], gamma=CONFIG[\"focal_gamma\"])(outputs, targets)\n"
   ]
  },
  {
   "cell_type": "markdown",
   "id": "03ac7888",
   "metadata": {
    "papermill": {
     "duration": 0.015327,
     "end_time": "2024-08-03T11:28:05.193462",
     "exception": false,
     "start_time": "2024-08-03T11:28:05.178135",
     "status": "completed"
    },
    "tags": []
   },
   "source": [
    "# <span><h1 style = \"font-family: garamond; font-size: 40px; font-style: normal; letter-spcaing: 3px; background-color: #f6f5f5; color :#fe346e; border-radius: 100px 100px; text-align:center\">Training Function</h1></span>"
   ]
  },
  {
   "cell_type": "code",
   "execution_count": 19,
   "id": "d663497f",
   "metadata": {
    "execution": {
     "iopub.execute_input": "2024-08-03T11:28:05.225013Z",
     "iopub.status.busy": "2024-08-03T11:28:05.224714Z",
     "iopub.status.idle": "2024-08-03T11:28:05.230523Z",
     "shell.execute_reply": "2024-08-03T11:28:05.229673Z"
    },
    "papermill": {
     "duration": 0.023777,
     "end_time": "2024-08-03T11:28:05.232475",
     "exception": false,
     "start_time": "2024-08-03T11:28:05.208698",
     "status": "completed"
    },
    "tags": []
   },
   "outputs": [],
   "source": [
    "def comp_score_list(solution: list, submission: list, min_tpr: float=0.80):\n",
    "    v_gt = np.abs(np.array(solution)-1)\n",
    "    v_pred = np.array([1.0 - x for x in submission])\n",
    "    max_fpr = abs(1-min_tpr)\n",
    "    partial_auc_scaled = roc_auc_score(v_gt, v_pred, max_fpr=max_fpr)\n",
    "    # change scale from [0.5, 1.0] to [0.5 * max_fpr**2, max_fpr]\n",
    "    # https://math.stackexchange.com/questions/914823/shift-numbers-into-a-different-range\n",
    "    partial_auc = 0.5 * max_fpr**2 + (max_fpr - 0.5 * max_fpr**2) / (1.0 - 0.5) * (partial_auc_scaled - 0.5)\n",
    "    return partial_auc"
   ]
  },
  {
   "cell_type": "code",
   "execution_count": 20,
   "id": "80d1c10f",
   "metadata": {
    "execution": {
     "iopub.execute_input": "2024-08-03T11:28:05.264227Z",
     "iopub.status.busy": "2024-08-03T11:28:05.263976Z",
     "iopub.status.idle": "2024-08-03T11:28:05.274188Z",
     "shell.execute_reply": "2024-08-03T11:28:05.273355Z"
    },
    "papermill": {
     "duration": 0.028273,
     "end_time": "2024-08-03T11:28:05.276048",
     "exception": false,
     "start_time": "2024-08-03T11:28:05.247775",
     "status": "completed"
    },
    "tags": []
   },
   "outputs": [],
   "source": [
    "def train_one_epoch(model, optimizer, scheduler, i_loader, c_loader, device, epoch, mixup):\n",
    "    model.train()\n",
    "    \n",
    "    dataset_size = 0\n",
    "    running_loss = 0.0\n",
    "    bar = tqdm(zip(i_loader, c_loader), total=len(i_loader))\n",
    "    for step, (i_data, c_data) in enumerate(bar):\n",
    "        # Mixupを設定されたエポック数まで適用\n",
    "        if epoch <= CONFIG['mixup_epochs']:\n",
    "            x_instance, y_instance = i_data\n",
    "            x_class, y_class = c_data\n",
    "\n",
    "            x_instance = x_instance.to(device, dtype=torch.float)\n",
    "            y_instance = y_instance.to(device, dtype=torch.float)\n",
    "            x_class = x_class.to(device, dtype=torch.float)\n",
    "            y_class = y_class.to(device, dtype=torch.float)\n",
    "            images, targets, lam = mixup(x_instance, y_instance, x_class, y_class)\n",
    "            batch_size = images.size(0)\n",
    "            outputs = model(images).squeeze()\n",
    "            loss = lam * criterion(outputs, y_class) + (1 - lam) * criterion(outputs, y_instance)\n",
    "        \n",
    "        else:\n",
    "            images, targets = c_data\n",
    "            images = images.to(device, dtype=torch.float)\n",
    "            targets = targets.to(device, dtype=torch.float)\n",
    "            batch_size = images.size(0)\n",
    "            outputs = model(images).squeeze()\n",
    "            loss = criterion(outputs, targets)\n",
    "            \n",
    "        loss = loss / CONFIG['n_accumulate']\n",
    "            \n",
    "        loss.backward()\n",
    "    \n",
    "        if (step + 1) % CONFIG['n_accumulate'] == 0:\n",
    "            optimizer.step()\n",
    "\n",
    "            # zero the parameter gradients\n",
    "            optimizer.zero_grad()\n",
    "\n",
    "            if scheduler is not None:\n",
    "                scheduler.step()\n",
    "        \n",
    "        running_loss += (loss.item() * batch_size)\n",
    "        dataset_size += batch_size\n",
    "        \n",
    "        epoch_loss = running_loss / dataset_size\n",
    "        \n",
    "        bar.set_postfix(Epoch=epoch, Train_Loss=epoch_loss,\n",
    "                        LR=optimizer.param_groups[0]['lr'])\n",
    "    \n",
    "    gc.collect()\n",
    "    \n",
    "    return epoch_loss"
   ]
  },
  {
   "cell_type": "markdown",
   "id": "46689b26",
   "metadata": {
    "papermill": {
     "duration": 0.015334,
     "end_time": "2024-08-03T11:28:05.306685",
     "exception": false,
     "start_time": "2024-08-03T11:28:05.291351",
     "status": "completed"
    },
    "tags": []
   },
   "source": [
    "# <span><h1 style = \"font-family: garamond; font-size: 40px; font-style: normal; letter-spcaing: 3px; background-color: #f6f5f5; color :#fe346e; border-radius: 100px 100px; text-align:center\">Validation Function</h1></span>"
   ]
  },
  {
   "cell_type": "code",
   "execution_count": 21,
   "id": "3db198c8",
   "metadata": {
    "execution": {
     "iopub.execute_input": "2024-08-03T11:28:05.339023Z",
     "iopub.status.busy": "2024-08-03T11:28:05.338480Z",
     "iopub.status.idle": "2024-08-03T11:28:05.347576Z",
     "shell.execute_reply": "2024-08-03T11:28:05.346751Z"
    },
    "papermill": {
     "duration": 0.027246,
     "end_time": "2024-08-03T11:28:05.349380",
     "exception": false,
     "start_time": "2024-08-03T11:28:05.322134",
     "status": "completed"
    },
    "tags": []
   },
   "outputs": [],
   "source": [
    "@torch.inference_mode()\n",
    "def valid_one_epoch(model, dataloader, device, epoch):\n",
    "    model.eval()\n",
    "    \n",
    "    dataset_size = 0\n",
    "    running_loss = 0.0\n",
    "    running_auroc = 0.0\n",
    "    \n",
    "    # TTAのためのカウンター\n",
    "    tta_counter = 0\n",
    "    \n",
    "    # TTAのための関数を定義\n",
    "    def apply_tta(model, image):\n",
    "        outputs = []\n",
    "        \n",
    "        # オリジナル画像\n",
    "        outputs.append(model(image).squeeze())\n",
    "        \n",
    "        # 水平フリップ\n",
    "        outputs.append(model(torch.flip(image, dims=[3])).squeeze())\n",
    "        \n",
    "        # 垂直フリップ\n",
    "        outputs.append(model(torch.flip(image, dims=[2])).squeeze())\n",
    "        \n",
    "        # 90度、180度、270度回転\n",
    "        for k in [1, 2, 3]:\n",
    "            outputs.append(model(torch.rot90(image, k, dims=[2,3])).squeeze())\n",
    "        \n",
    "        return torch.stack(outputs).mean(dim=0)\n",
    "    \n",
    "    all_outputs = []\n",
    "    all_targets = []\n",
    "    \n",
    "    bar = tqdm(enumerate(dataloader), total=len(dataloader))\n",
    "    for step, data in bar:        \n",
    "        images = data['image'].to(device, dtype=torch.float)\n",
    "        targets = data['target'].to(device, dtype=torch.float)\n",
    "        \n",
    "        batch_size = images.size(0)\n",
    "\n",
    "        if CONFIG['use_tta']:\n",
    "            outputs = apply_tta(model, images).squeeze()\n",
    "        else:\n",
    "            outputs = model(images).squeeze()\n",
    "        loss = criterion(outputs, targets)\n",
    "        \n",
    "        all_outputs.extend(outputs.detach().cpu().numpy().flatten())  # 確率に変換して蓄積\n",
    "        all_targets.extend(targets.detach().cpu().numpy().flatten())  # ラベルを蓄積\n",
    "\n",
    "#         auroc = binary_auroc(input=outputs.squeeze(), target=targets).item()\n",
    "        running_loss += (loss.item() * batch_size)\n",
    "#         running_auroc  += (auroc * batch_size)\n",
    "        dataset_size += batch_size\n",
    "        \n",
    "        epoch_loss = running_loss / dataset_size\n",
    "#         epoch_auroc = running_auroc / dataset_size\n",
    "        \n",
    "        bar.set_postfix(Epoch=epoch, Valid_Loss=epoch_loss, \n",
    "                        LR=optimizer.param_groups[0]['lr'])   \n",
    "    \n",
    "    # epoch毎にauroc算出\n",
    "    epoch_auroc = comp_score_list(all_targets, all_outputs)\n",
    "    \n",
    "    gc.collect()\n",
    "    \n",
    "    return epoch_loss, epoch_auroc, all_outputs"
   ]
  },
  {
   "cell_type": "markdown",
   "id": "a8da5eda",
   "metadata": {
    "papermill": {
     "duration": 0.015163,
     "end_time": "2024-08-03T11:28:05.379846",
     "exception": false,
     "start_time": "2024-08-03T11:28:05.364683",
     "status": "completed"
    },
    "tags": []
   },
   "source": [
    "# <span><h1 style = \"font-family: garamond; font-size: 40px; font-style: normal; letter-spcaing: 3px; background-color: #f6f5f5; color :#fe346e; border-radius: 100px 100px; text-align:center\">Run Training</h1></span>"
   ]
  },
  {
   "cell_type": "code",
   "execution_count": 22,
   "id": "aeeaf279",
   "metadata": {
    "execution": {
     "iopub.execute_input": "2024-08-03T11:28:05.412103Z",
     "iopub.status.busy": "2024-08-03T11:28:05.411666Z",
     "iopub.status.idle": "2024-08-03T11:28:05.424650Z",
     "shell.execute_reply": "2024-08-03T11:28:05.423825Z"
    },
    "papermill": {
     "duration": 0.031221,
     "end_time": "2024-08-03T11:28:05.426654",
     "exception": false,
     "start_time": "2024-08-03T11:28:05.395433",
     "status": "completed"
    },
    "tags": []
   },
   "outputs": [],
   "source": [
    "def run_training(model, optimizer, scheduler, device, num_epochs, fold):\n",
    "    if torch.cuda.is_available():\n",
    "        print(\"[INFO] Using GPU: {}\\n\".format(torch.cuda.get_device_name()))\n",
    "    \n",
    "    start = time.time()\n",
    "    best_model_wts = copy.deepcopy(model.state_dict())\n",
    "    best_epoch_auroc = -np.inf\n",
    "    history = defaultdict(list)\n",
    "    save_dir = f\"training_fold{fold}\"\n",
    "    # if not os.path.exists(save_dir):\n",
    "    #     os.mkdir(save_dir)\n",
    "    df_best_pred = df.loc[df[\"kfold\"]==fold, [\"isic_id\", \"target\"]]\n",
    "    # Balanced MixUpの適用\n",
    "    mixup = BalancedMixUp(alpha=CONFIG['mixup_alpha'])\n",
    "    \n",
    "    for epoch in range(1, num_epochs + 1): \n",
    "        gc.collect()\n",
    "        train_epoch_loss = train_one_epoch(model, optimizer, scheduler, \n",
    "                                           i_loader=instance_loader,\n",
    "                                           c_loader=class_loader, \n",
    "                                           device=CONFIG['device'], \n",
    "                                           epoch=epoch, \n",
    "                                           mixup=mixup)\n",
    "        \n",
    "        val_epoch_loss, val_epoch_auroc, outputs_np = valid_one_epoch(\n",
    "            model, \n",
    "            valid_loader, \n",
    "            device=CONFIG['device'], \n",
    "            epoch=epoch\n",
    "        )\n",
    "    \n",
    "        history['Train Loss'].append(train_epoch_loss)\n",
    "        history['Valid Loss'].append(val_epoch_loss)\n",
    "        history['Valid AUROC'].append(val_epoch_auroc)\n",
    "        history['lr'].append( scheduler.get_lr()[0] )\n",
    "        \n",
    "        # deep copy the model\n",
    "        if best_epoch_auroc <= val_epoch_auroc:\n",
    "            print(f\"{b_}Validation AUROC Improved ({best_epoch_auroc} ---> {val_epoch_auroc})\")\n",
    "            best_epoch_auroc = val_epoch_auroc\n",
    "            best_model_wts = copy.deepcopy(model.state_dict())\n",
    "            # 過去のベストモデルを削除\n",
    "#             if 'PATH' in locals():\n",
    "#                 os.remove(PATH)\n",
    "            PATH = \"training_fold{}/AUROC{:.4f}_Loss{:.4f}_epoch{:.0f}.bin\".format(fold, val_epoch_auroc, val_epoch_loss, epoch)\n",
    "        print()\n",
    "    \n",
    "    end = time.time()\n",
    "    time_elapsed = end - start\n",
    "    print('Training complete in {:.0f}h {:.0f}m {:.0f}s'.format(\n",
    "        time_elapsed // 3600, (time_elapsed % 3600) // 60, (time_elapsed % 3600) % 60))\n",
    "    print(\"Best AUROC: {:.4f}\".format(best_epoch_auroc))\n",
    "    \n",
    "    # torch.save(best_model_wts, PATH)\n",
    "    # Save a model file from the current directory\n",
    "    # print(f\"Best Model Saved{sr_}\")\n",
    "    \n",
    "    # load best model weights\n",
    "    # model.load_state_dict(best_model_wts)\n",
    "    \n",
    "    return model, history"
   ]
  },
  {
   "cell_type": "code",
   "execution_count": 23,
   "id": "4c894488",
   "metadata": {
    "execution": {
     "iopub.execute_input": "2024-08-03T11:28:05.458938Z",
     "iopub.status.busy": "2024-08-03T11:28:05.458291Z",
     "iopub.status.idle": "2024-08-03T11:28:05.463712Z",
     "shell.execute_reply": "2024-08-03T11:28:05.462920Z"
    },
    "papermill": {
     "duration": 0.023591,
     "end_time": "2024-08-03T11:28:05.465446",
     "exception": false,
     "start_time": "2024-08-03T11:28:05.441855",
     "status": "completed"
    },
    "tags": []
   },
   "outputs": [],
   "source": [
    "def fetch_scheduler(optimizer, T_max):\n",
    "    if CONFIG['scheduler'] == 'CosineAnnealingLR':\n",
    "        scheduler = lr_scheduler.CosineAnnealingLR(optimizer,T_max=T_max, \n",
    "                                                   eta_min=CONFIG['min_lr'])\n",
    "    elif CONFIG['scheduler'] == 'CosineAnnealingWarmRestarts':\n",
    "        scheduler = lr_scheduler.CosineAnnealingWarmRestarts(optimizer,T_0=CONFIG['T_0'], \n",
    "                                                             eta_min=CONFIG['min_lr'])\n",
    "    elif CONFIG['scheduler'] == None:\n",
    "        return None\n",
    "        \n",
    "    return scheduler"
   ]
  },
  {
   "cell_type": "code",
   "execution_count": 24,
   "id": "8d53d7a3",
   "metadata": {
    "execution": {
     "iopub.execute_input": "2024-08-03T11:28:05.497363Z",
     "iopub.status.busy": "2024-08-03T11:28:05.497124Z",
     "iopub.status.idle": "2024-08-03T11:28:05.503173Z",
     "shell.execute_reply": "2024-08-03T11:28:05.502432Z"
    },
    "papermill": {
     "duration": 0.024204,
     "end_time": "2024-08-03T11:28:05.504940",
     "exception": false,
     "start_time": "2024-08-03T11:28:05.480736",
     "status": "completed"
    },
    "tags": []
   },
   "outputs": [],
   "source": [
    "def prepare_loaders(df, fold):\n",
    "    df_train = df[df.kfold != fold].reset_index(drop=True)\n",
    "    df_valid = df[df.kfold == fold].reset_index(drop=True)\n",
    "\n",
    "    # train_dataset = ISICDataset(df_train, transforms=data_transforms[\"valid\"])\n",
    "    # インスタンスベースのデータローダー\n",
    "    dataset = ISICDataset_mixup(df_train, transforms=data_transforms[\"train\"])\n",
    "    instance_loader = DataLoader(dataset, batch_size=CONFIG['train_batch_size'], \n",
    "                                 num_workers=2, shuffle=True)\n",
    "\n",
    "    # クラスベースのサンプリングによるデータローダー\n",
    "    labels = torch.tensor(df_train['target'].values)\n",
    "    class_sampler = get_class_based_sampler(dataset, labels)\n",
    "    class_loader = DataLoader(dataset, batch_size=CONFIG['train_batch_size'], \n",
    "                              num_workers=2, sampler=class_sampler)\n",
    "    # datasetの中身を確認する\n",
    "    # for i in range(5):\n",
    "    #     sample = dataset[i]\n",
    "    #     print(f\"Sample {i}:\")\n",
    "    #     print(f\"Image shape: {sample[0].shape}\")\n",
    "    #     print(f\"Target: {sample[1]}\")\n",
    "    # print()\n",
    "    # class_loaderの中身を確認する\n",
    "    # for i, (images, targets) in enumerate(instance_loader):\n",
    "    #     if i >= 5:  # 最初の5バッチのみ確認\n",
    "    #         break\n",
    "    #     print(f\"Batch {i}:\")\n",
    "    #     print(f\"Images shape: {images.shape}\")\n",
    "    #     print(f\"Targets: {targets}\")\n",
    "    # print()\n",
    "    # class_loaderの中身を確認する\n",
    "    # for i, (images, targets) in enumerate(class_loader):\n",
    "    #     if i >= 5:  # 最初の5バッチのみ確認\n",
    "    #         break\n",
    "    #     print(f\"Batch {i}:\")\n",
    "    #     print(f\"Images shape: {images.shape}\")\n",
    "    #     print(f\"Targets: {targets}\")\n",
    "\n",
    "\n",
    "    valid_dataset = ISICDataset(df_valid, transforms=data_transforms[\"valid\"])\n",
    "\n",
    "    # train_loader = DataLoader(train_dataset, batch_size=CONFIG['train_batch_size'], \n",
    "    #                           num_workers=2, shuffle=True, pin_memory=True, drop_last=True)\n",
    "    valid_loader = DataLoader(valid_dataset, batch_size=CONFIG['valid_batch_size'], \n",
    "                              num_workers=2, shuffle=False, pin_memory=True)\n",
    "    \n",
    "    return instance_loader, class_loader, valid_loader"
   ]
  },
  {
   "cell_type": "markdown",
   "id": "dac15007",
   "metadata": {
    "papermill": {
     "duration": 0.015388,
     "end_time": "2024-08-03T11:28:05.535742",
     "exception": false,
     "start_time": "2024-08-03T11:28:05.520354",
     "status": "completed"
    },
    "tags": []
   },
   "source": [
    "# CV"
   ]
  },
  {
   "cell_type": "code",
   "execution_count": 25,
   "id": "e9855d2c",
   "metadata": {
    "execution": {
     "iopub.execute_input": "2024-08-03T11:28:05.567513Z",
     "iopub.status.busy": "2024-08-03T11:28:05.567243Z",
     "iopub.status.idle": "2024-08-03T11:28:22.193655Z",
     "shell.execute_reply": "2024-08-03T11:28:22.192720Z"
    },
    "papermill": {
     "duration": 16.644865,
     "end_time": "2024-08-03T11:28:22.195974",
     "exception": false,
     "start_time": "2024-08-03T11:28:05.551109",
     "status": "completed"
    },
    "tags": []
   },
   "outputs": [],
   "source": [
    "# wandbの初期化\n",
    "if WANDB:\n",
    "    wandb_config = {\n",
    "        # ... 既存の設定 ...\n",
    "        \"epochs\": CONFIG['epochs'],\n",
    "        \"learning_rate\": CONFIG['learning_rate'],\n",
    "        \"min_lr\": CONFIG[\"min_lr\"],\n",
    "        \"weight_decay\": CONFIG[\"weight_decay\"],\n",
    "        \"mixup_alpha\": CONFIG[\"mixup_alpha\"],\n",
    "        \"mixup_epochs\": CONFIG[\"mixup_epochs\"],  # 新しく追加\n",
    "    }\n",
    "    wandb.init(project=\"ISIC2024_images2\", name=EXP_NAME, config=wandb_config)"
   ]
  },
  {
   "cell_type": "code",
   "execution_count": 26,
   "id": "6aa10e24",
   "metadata": {
    "execution": {
     "iopub.execute_input": "2024-08-03T11:28:22.229731Z",
     "iopub.status.busy": "2024-08-03T11:28:22.229444Z",
     "iopub.status.idle": "2024-08-03T12:31:30.939006Z",
     "shell.execute_reply": "2024-08-03T12:31:30.937574Z"
    },
    "papermill": {
     "duration": 3788.728657,
     "end_time": "2024-08-03T12:31:30.941160",
     "exception": false,
     "start_time": "2024-08-03T11:28:22.212503",
     "status": "completed"
    },
    "tags": []
   },
   "outputs": [
    {
     "name": "stdout",
     "output_type": "stream",
     "text": [
      "==============================\n",
      "fold 0\n",
      "==============================\n",
      "Downsample before 1st stage: 306260\n",
      "Downsample after 1st stage: 122202\n",
      "●train\n",
      "original> (306580, 58) 320 (835,)\n",
      "filtered> (3520, 58) 320 (774,)\n",
      "●val\n",
      "original> (94479, 58) 73 (207,)\n",
      "filtered> (1533, 58) 73 (180,)\n",
      "[INFO] Using GPU: NVIDIA GeForce RTX 4090\n",
      "\n"
     ]
    },
    {
     "name": "stderr",
     "output_type": "stream",
     "text": [
      "100%|██████████| 55/55 [00:08<00:00,  6.86it/s, Epoch=1, LR=0.001, Train_Loss=0.662]\n",
      "100%|██████████| 12/12 [00:01<00:00,  7.11it/s, Epoch=1, LR=0.001, Valid_Loss=0.212]\n"
     ]
    },
    {
     "name": "stdout",
     "output_type": "stream",
     "text": [
      "\u001b[34mValidation AUROC Improved (-inf ---> 0.06280352786639141)\n",
      "\n"
     ]
    },
    {
     "name": "stderr",
     "output_type": "stream",
     "text": [
      "100%|██████████| 55/55 [00:07<00:00,  7.84it/s, Epoch=2, LR=0.000998, Train_Loss=0.621]\n",
      "100%|██████████| 12/12 [00:01<00:00, 10.13it/s, Epoch=2, LR=0.000998, Valid_Loss=0.476]\n"
     ]
    },
    {
     "name": "stdout",
     "output_type": "stream",
     "text": [
      "\n"
     ]
    },
    {
     "name": "stderr",
     "output_type": "stream",
     "text": [
      "100%|██████████| 55/55 [00:07<00:00,  7.43it/s, Epoch=3, LR=0.000997, Train_Loss=0.633]\n",
      "100%|██████████| 12/12 [00:01<00:00, 10.18it/s, Epoch=3, LR=0.000997, Valid_Loss=0.474]\n"
     ]
    },
    {
     "name": "stdout",
     "output_type": "stream",
     "text": [
      "\u001b[34mValidation AUROC Improved (0.06280352786639141 ---> 0.07415650215800335)\n",
      "\n"
     ]
    },
    {
     "name": "stderr",
     "output_type": "stream",
     "text": [
      "100%|██████████| 55/55 [00:07<00:00,  7.64it/s, Epoch=4, LR=0.000994, Train_Loss=0.625]\n",
      "100%|██████████| 12/12 [00:01<00:00,  9.66it/s, Epoch=4, LR=0.000994, Valid_Loss=0.352]\n"
     ]
    },
    {
     "name": "stdout",
     "output_type": "stream",
     "text": [
      "\u001b[34mValidation AUROC Improved (0.07415650215800335 ---> 0.11225558266091196)\n",
      "\n"
     ]
    },
    {
     "name": "stderr",
     "output_type": "stream",
     "text": [
      "100%|██████████| 55/55 [00:07<00:00,  7.63it/s, Epoch=5, LR=0.00099, Train_Loss=0.627] \n",
      "100%|██████████| 12/12 [00:01<00:00, 10.40it/s, Epoch=5, LR=0.00099, Valid_Loss=0.359]\n"
     ]
    },
    {
     "name": "stdout",
     "output_type": "stream",
     "text": [
      "\n"
     ]
    },
    {
     "name": "stderr",
     "output_type": "stream",
     "text": [
      "100%|██████████| 55/55 [00:07<00:00,  7.66it/s, Epoch=6, LR=0.000986, Train_Loss=0.569]\n",
      "100%|██████████| 12/12 [00:01<00:00, 10.37it/s, Epoch=6, LR=0.000986, Valid_Loss=0.251]\n"
     ]
    },
    {
     "name": "stdout",
     "output_type": "stream",
     "text": [
      "\n"
     ]
    },
    {
     "name": "stderr",
     "output_type": "stream",
     "text": [
      "100%|██████████| 55/55 [00:07<00:00,  7.53it/s, Epoch=7, LR=0.000981, Train_Loss=0.593]\n",
      "100%|██████████| 12/12 [00:01<00:00,  9.68it/s, Epoch=7, LR=0.000981, Valid_Loss=0.325]\n"
     ]
    },
    {
     "name": "stdout",
     "output_type": "stream",
     "text": [
      "\n"
     ]
    },
    {
     "name": "stderr",
     "output_type": "stream",
     "text": [
      "100%|██████████| 55/55 [00:07<00:00,  7.50it/s, Epoch=8, LR=0.000976, Train_Loss=0.614]\n",
      "100%|██████████| 12/12 [00:01<00:00,  9.92it/s, Epoch=8, LR=0.000976, Valid_Loss=0.404]\n"
     ]
    },
    {
     "name": "stdout",
     "output_type": "stream",
     "text": [
      "\n"
     ]
    },
    {
     "name": "stderr",
     "output_type": "stream",
     "text": [
      "100%|██████████| 55/55 [00:07<00:00,  7.49it/s, Epoch=9, LR=0.000969, Train_Loss=0.557]\n",
      "100%|██████████| 12/12 [00:01<00:00,  9.97it/s, Epoch=9, LR=0.000969, Valid_Loss=0.247]\n"
     ]
    },
    {
     "name": "stdout",
     "output_type": "stream",
     "text": [
      "\n"
     ]
    },
    {
     "name": "stderr",
     "output_type": "stream",
     "text": [
      "100%|██████████| 55/55 [00:07<00:00,  7.80it/s, Epoch=10, LR=0.000962, Train_Loss=0.604]\n",
      "100%|██████████| 12/12 [00:01<00:00,  9.88it/s, Epoch=10, LR=0.000962, Valid_Loss=0.278]\n"
     ]
    },
    {
     "name": "stdout",
     "output_type": "stream",
     "text": [
      "\n"
     ]
    },
    {
     "name": "stderr",
     "output_type": "stream",
     "text": [
      "100%|██████████| 55/55 [00:07<00:00,  7.45it/s, Epoch=11, LR=0.000954, Train_Loss=0.591]\n",
      "100%|██████████| 12/12 [00:01<00:00,  9.94it/s, Epoch=11, LR=0.000954, Valid_Loss=0.265]\n"
     ]
    },
    {
     "name": "stdout",
     "output_type": "stream",
     "text": [
      "\n"
     ]
    },
    {
     "name": "stderr",
     "output_type": "stream",
     "text": [
      "100%|██████████| 55/55 [00:07<00:00,  7.66it/s, Epoch=12, LR=0.000946, Train_Loss=0.583]\n",
      "100%|██████████| 12/12 [00:01<00:00,  9.99it/s, Epoch=12, LR=0.000946, Valid_Loss=0.359]\n"
     ]
    },
    {
     "name": "stdout",
     "output_type": "stream",
     "text": [
      "\n"
     ]
    },
    {
     "name": "stderr",
     "output_type": "stream",
     "text": [
      "100%|██████████| 55/55 [00:07<00:00,  7.27it/s, Epoch=13, LR=0.000936, Train_Loss=0.625]\n",
      "100%|██████████| 12/12 [00:01<00:00,  9.73it/s, Epoch=13, LR=0.000936, Valid_Loss=0.433]\n"
     ]
    },
    {
     "name": "stdout",
     "output_type": "stream",
     "text": [
      "\n"
     ]
    },
    {
     "name": "stderr",
     "output_type": "stream",
     "text": [
      "100%|██████████| 55/55 [00:07<00:00,  7.69it/s, Epoch=14, LR=0.000926, Train_Loss=0.601]\n",
      "100%|██████████| 12/12 [00:01<00:00, 10.22it/s, Epoch=14, LR=0.000926, Valid_Loss=0.378]\n"
     ]
    },
    {
     "name": "stdout",
     "output_type": "stream",
     "text": [
      "\n"
     ]
    },
    {
     "name": "stderr",
     "output_type": "stream",
     "text": [
      "100%|██████████| 55/55 [00:07<00:00,  7.38it/s, Epoch=15, LR=0.000916, Train_Loss=0.595]\n",
      "100%|██████████| 12/12 [00:01<00:00, 10.23it/s, Epoch=15, LR=0.000916, Valid_Loss=0.353]\n"
     ]
    },
    {
     "name": "stdout",
     "output_type": "stream",
     "text": [
      "\n"
     ]
    },
    {
     "name": "stderr",
     "output_type": "stream",
     "text": [
      "100%|██████████| 55/55 [00:07<00:00,  7.24it/s, Epoch=16, LR=0.000905, Train_Loss=0.565]\n",
      "100%|██████████| 12/12 [00:01<00:00, 10.33it/s, Epoch=16, LR=0.000905, Valid_Loss=0.355]\n"
     ]
    },
    {
     "name": "stdout",
     "output_type": "stream",
     "text": [
      "\n"
     ]
    },
    {
     "name": "stderr",
     "output_type": "stream",
     "text": [
      "100%|██████████| 55/55 [00:07<00:00,  7.70it/s, Epoch=17, LR=0.000893, Train_Loss=0.569]\n",
      "100%|██████████| 12/12 [00:01<00:00,  9.96it/s, Epoch=17, LR=0.000893, Valid_Loss=0.243]\n"
     ]
    },
    {
     "name": "stdout",
     "output_type": "stream",
     "text": [
      "\n"
     ]
    },
    {
     "name": "stderr",
     "output_type": "stream",
     "text": [
      "100%|██████████| 55/55 [00:07<00:00,  7.57it/s, Epoch=18, LR=0.00088, Train_Loss=0.561] \n",
      "100%|██████████| 12/12 [00:01<00:00,  9.93it/s, Epoch=18, LR=0.00088, Valid_Loss=0.374]\n"
     ]
    },
    {
     "name": "stdout",
     "output_type": "stream",
     "text": [
      "\n"
     ]
    },
    {
     "name": "stderr",
     "output_type": "stream",
     "text": [
      "100%|██████████| 55/55 [00:07<00:00,  7.69it/s, Epoch=19, LR=0.000867, Train_Loss=0.545]\n",
      "100%|██████████| 12/12 [00:01<00:00,  9.92it/s, Epoch=19, LR=0.000867, Valid_Loss=0.287]\n"
     ]
    },
    {
     "name": "stdout",
     "output_type": "stream",
     "text": [
      "\u001b[34mValidation AUROC Improved (0.11225558266091196 ---> 0.12723587915181078)\n",
      "\n"
     ]
    },
    {
     "name": "stderr",
     "output_type": "stream",
     "text": [
      "100%|██████████| 55/55 [00:07<00:00,  7.71it/s, Epoch=20, LR=0.000854, Train_Loss=0.558]\n",
      "100%|██████████| 12/12 [00:01<00:00,  9.53it/s, Epoch=20, LR=0.000854, Valid_Loss=0.312]\n"
     ]
    },
    {
     "name": "stdout",
     "output_type": "stream",
     "text": [
      "\n"
     ]
    },
    {
     "name": "stderr",
     "output_type": "stream",
     "text": [
      "100%|██████████| 55/55 [00:07<00:00,  7.54it/s, Epoch=21, LR=0.000839, Train_Loss=0.538]\n",
      "100%|██████████| 12/12 [00:01<00:00,  9.94it/s, Epoch=21, LR=0.000839, Valid_Loss=0.251]\n"
     ]
    },
    {
     "name": "stdout",
     "output_type": "stream",
     "text": [
      "\n"
     ]
    },
    {
     "name": "stderr",
     "output_type": "stream",
     "text": [
      "100%|██████████| 55/55 [00:07<00:00,  7.70it/s, Epoch=22, LR=0.000825, Train_Loss=0.554]\n",
      "100%|██████████| 12/12 [00:01<00:00, 10.19it/s, Epoch=22, LR=0.000825, Valid_Loss=0.276]\n"
     ]
    },
    {
     "name": "stdout",
     "output_type": "stream",
     "text": [
      "\n"
     ]
    },
    {
     "name": "stderr",
     "output_type": "stream",
     "text": [
      "100%|██████████| 55/55 [00:06<00:00,  7.88it/s, Epoch=23, LR=0.00081, Train_Loss=0.58]  \n",
      "100%|██████████| 12/12 [00:01<00:00, 10.27it/s, Epoch=23, LR=0.00081, Valid_Loss=0.341]\n"
     ]
    },
    {
     "name": "stdout",
     "output_type": "stream",
     "text": [
      "\n"
     ]
    },
    {
     "name": "stderr",
     "output_type": "stream",
     "text": [
      "100%|██████████| 55/55 [00:07<00:00,  7.42it/s, Epoch=24, LR=0.000794, Train_Loss=0.541]\n",
      "100%|██████████| 12/12 [00:01<00:00, 10.09it/s, Epoch=24, LR=0.000794, Valid_Loss=0.27] \n"
     ]
    },
    {
     "name": "stdout",
     "output_type": "stream",
     "text": [
      "\n"
     ]
    },
    {
     "name": "stderr",
     "output_type": "stream",
     "text": [
      "100%|██████████| 55/55 [00:06<00:00,  7.90it/s, Epoch=25, LR=0.000778, Train_Loss=0.551]\n",
      "100%|██████████| 12/12 [00:01<00:00, 10.34it/s, Epoch=25, LR=0.000778, Valid_Loss=0.417]\n"
     ]
    },
    {
     "name": "stdout",
     "output_type": "stream",
     "text": [
      "\u001b[34mValidation AUROC Improved (0.12723587915181078 ---> 0.13444924000750608)\n",
      "\n"
     ]
    },
    {
     "name": "stderr",
     "output_type": "stream",
     "text": [
      "100%|██████████| 55/55 [00:07<00:00,  7.75it/s, Epoch=26, LR=0.000761, Train_Loss=0.542]\n",
      "100%|██████████| 12/12 [00:01<00:00, 10.14it/s, Epoch=26, LR=0.000761, Valid_Loss=0.317]\n"
     ]
    },
    {
     "name": "stdout",
     "output_type": "stream",
     "text": [
      "\n"
     ]
    },
    {
     "name": "stderr",
     "output_type": "stream",
     "text": [
      "100%|██████████| 55/55 [00:07<00:00,  7.44it/s, Epoch=27, LR=0.000744, Train_Loss=0.547]\n",
      "100%|██████████| 12/12 [00:01<00:00,  9.86it/s, Epoch=27, LR=0.000744, Valid_Loss=0.273]\n"
     ]
    },
    {
     "name": "stdout",
     "output_type": "stream",
     "text": [
      "\n"
     ]
    },
    {
     "name": "stderr",
     "output_type": "stream",
     "text": [
      "100%|██████████| 55/55 [00:07<00:00,  7.69it/s, Epoch=28, LR=0.000727, Train_Loss=0.546]\n",
      "100%|██████████| 12/12 [00:01<00:00,  9.93it/s, Epoch=28, LR=0.000727, Valid_Loss=0.32] \n"
     ]
    },
    {
     "name": "stdout",
     "output_type": "stream",
     "text": [
      "\n"
     ]
    },
    {
     "name": "stderr",
     "output_type": "stream",
     "text": [
      "100%|██████████| 55/55 [00:07<00:00,  7.65it/s, Epoch=29, LR=0.000709, Train_Loss=0.515]\n",
      "100%|██████████| 12/12 [00:01<00:00,  9.87it/s, Epoch=29, LR=0.000709, Valid_Loss=0.251]\n"
     ]
    },
    {
     "name": "stdout",
     "output_type": "stream",
     "text": [
      "\n"
     ]
    },
    {
     "name": "stderr",
     "output_type": "stream",
     "text": [
      "100%|██████████| 55/55 [00:07<00:00,  7.81it/s, Epoch=30, LR=0.000691, Train_Loss=0.567]\n",
      "100%|██████████| 12/12 [00:01<00:00, 10.04it/s, Epoch=30, LR=0.000691, Valid_Loss=0.295]\n"
     ]
    },
    {
     "name": "stdout",
     "output_type": "stream",
     "text": [
      "\n"
     ]
    },
    {
     "name": "stderr",
     "output_type": "stream",
     "text": [
      "100%|██████████| 55/55 [00:06<00:00,  7.91it/s, Epoch=31, LR=0.000673, Train_Loss=0.552]\n",
      "100%|██████████| 12/12 [00:01<00:00,  9.97it/s, Epoch=31, LR=0.000673, Valid_Loss=0.346]\n"
     ]
    },
    {
     "name": "stdout",
     "output_type": "stream",
     "text": [
      "\n"
     ]
    },
    {
     "name": "stderr",
     "output_type": "stream",
     "text": [
      "100%|██████████| 55/55 [00:06<00:00,  7.87it/s, Epoch=32, LR=0.000655, Train_Loss=0.572]\n",
      "100%|██████████| 12/12 [00:01<00:00, 10.16it/s, Epoch=32, LR=0.000655, Valid_Loss=0.338]\n"
     ]
    },
    {
     "name": "stdout",
     "output_type": "stream",
     "text": [
      "\n"
     ]
    },
    {
     "name": "stderr",
     "output_type": "stream",
     "text": [
      "100%|██████████| 55/55 [00:07<00:00,  7.35it/s, Epoch=33, LR=0.000636, Train_Loss=0.541]\n",
      "100%|██████████| 12/12 [00:01<00:00, 10.00it/s, Epoch=33, LR=0.000636, Valid_Loss=0.289]\n"
     ]
    },
    {
     "name": "stdout",
     "output_type": "stream",
     "text": [
      "\n"
     ]
    },
    {
     "name": "stderr",
     "output_type": "stream",
     "text": [
      "100%|██████████| 55/55 [00:07<00:00,  7.65it/s, Epoch=34, LR=0.000617, Train_Loss=0.517]\n",
      "100%|██████████| 12/12 [00:01<00:00, 10.01it/s, Epoch=34, LR=0.000617, Valid_Loss=0.256]\n"
     ]
    },
    {
     "name": "stdout",
     "output_type": "stream",
     "text": [
      "\n"
     ]
    },
    {
     "name": "stderr",
     "output_type": "stream",
     "text": [
      "100%|██████████| 55/55 [00:07<00:00,  7.63it/s, Epoch=35, LR=0.000598, Train_Loss=0.547]\n",
      "100%|██████████| 12/12 [00:01<00:00,  9.92it/s, Epoch=35, LR=0.000598, Valid_Loss=0.292]\n"
     ]
    },
    {
     "name": "stdout",
     "output_type": "stream",
     "text": [
      "\n"
     ]
    },
    {
     "name": "stderr",
     "output_type": "stream",
     "text": [
      "100%|██████████| 55/55 [00:07<00:00,  7.83it/s, Epoch=36, LR=0.000578, Train_Loss=0.573]\n",
      "100%|██████████| 12/12 [00:01<00:00, 10.06it/s, Epoch=36, LR=0.000578, Valid_Loss=0.27] \n"
     ]
    },
    {
     "name": "stdout",
     "output_type": "stream",
     "text": [
      "\n"
     ]
    },
    {
     "name": "stderr",
     "output_type": "stream",
     "text": [
      "100%|██████████| 55/55 [00:07<00:00,  7.84it/s, Epoch=37, LR=0.000559, Train_Loss=0.541]\n",
      "100%|██████████| 12/12 [00:01<00:00, 10.07it/s, Epoch=37, LR=0.000559, Valid_Loss=0.313]\n"
     ]
    },
    {
     "name": "stdout",
     "output_type": "stream",
     "text": [
      "\n"
     ]
    },
    {
     "name": "stderr",
     "output_type": "stream",
     "text": [
      "100%|██████████| 55/55 [00:07<00:00,  7.76it/s, Epoch=38, LR=0.000539, Train_Loss=0.553]\n",
      "100%|██████████| 12/12 [00:01<00:00, 10.18it/s, Epoch=38, LR=0.000539, Valid_Loss=0.277]\n"
     ]
    },
    {
     "name": "stdout",
     "output_type": "stream",
     "text": [
      "\n"
     ]
    },
    {
     "name": "stderr",
     "output_type": "stream",
     "text": [
      "100%|██████████| 55/55 [00:07<00:00,  7.74it/s, Epoch=39, LR=0.00052, Train_Loss=0.52]  \n",
      "100%|██████████| 12/12 [00:01<00:00,  9.62it/s, Epoch=39, LR=0.00052, Valid_Loss=0.245]\n"
     ]
    },
    {
     "name": "stdout",
     "output_type": "stream",
     "text": [
      "\n"
     ]
    },
    {
     "name": "stderr",
     "output_type": "stream",
     "text": [
      "100%|██████████| 55/55 [00:07<00:00,  7.74it/s, Epoch=40, LR=0.0005, Train_Loss=0.527]  \n",
      "100%|██████████| 12/12 [00:01<00:00,  9.71it/s, Epoch=40, LR=0.0005, Valid_Loss=0.365]\n"
     ]
    },
    {
     "name": "stdout",
     "output_type": "stream",
     "text": [
      "\n"
     ]
    },
    {
     "name": "stderr",
     "output_type": "stream",
     "text": [
      "100%|██████████| 55/55 [00:07<00:00,  7.35it/s, Epoch=41, LR=0.00048, Train_Loss=0.576] \n",
      "100%|██████████| 12/12 [00:01<00:00,  9.60it/s, Epoch=41, LR=0.00048, Valid_Loss=0.366]\n"
     ]
    },
    {
     "name": "stdout",
     "output_type": "stream",
     "text": [
      "\u001b[34mValidation AUROC Improved (0.13444924000750608 ---> 0.1358434978419966)\n",
      "\n"
     ]
    },
    {
     "name": "stderr",
     "output_type": "stream",
     "text": [
      "100%|██████████| 55/55 [00:07<00:00,  7.76it/s, Epoch=42, LR=0.000461, Train_Loss=0.507]\n",
      "100%|██████████| 12/12 [00:01<00:00,  9.84it/s, Epoch=42, LR=0.000461, Valid_Loss=0.327]\n"
     ]
    },
    {
     "name": "stdout",
     "output_type": "stream",
     "text": [
      "\n"
     ]
    },
    {
     "name": "stderr",
     "output_type": "stream",
     "text": [
      "100%|██████████| 55/55 [00:07<00:00,  7.64it/s, Epoch=43, LR=0.000441, Train_Loss=0.529]\n",
      "100%|██████████| 12/12 [00:01<00:00, 10.14it/s, Epoch=43, LR=0.000441, Valid_Loss=0.322]\n"
     ]
    },
    {
     "name": "stdout",
     "output_type": "stream",
     "text": [
      "\n"
     ]
    },
    {
     "name": "stderr",
     "output_type": "stream",
     "text": [
      "100%|██████████| 55/55 [00:06<00:00,  8.00it/s, Epoch=44, LR=0.000422, Train_Loss=0.511]\n",
      "100%|██████████| 12/12 [00:01<00:00,  9.85it/s, Epoch=44, LR=0.000422, Valid_Loss=0.265]\n"
     ]
    },
    {
     "name": "stdout",
     "output_type": "stream",
     "text": [
      "\n"
     ]
    },
    {
     "name": "stderr",
     "output_type": "stream",
     "text": [
      "100%|██████████| 55/55 [00:06<00:00,  7.97it/s, Epoch=45, LR=0.000402, Train_Loss=0.544]\n",
      "100%|██████████| 12/12 [00:01<00:00, 10.01it/s, Epoch=45, LR=0.000402, Valid_Loss=0.331]\n"
     ]
    },
    {
     "name": "stdout",
     "output_type": "stream",
     "text": [
      "\n"
     ]
    },
    {
     "name": "stderr",
     "output_type": "stream",
     "text": [
      "100%|██████████| 55/55 [00:07<00:00,  7.78it/s, Epoch=46, LR=0.000383, Train_Loss=0.523]\n",
      "100%|██████████| 12/12 [00:01<00:00, 10.44it/s, Epoch=46, LR=0.000383, Valid_Loss=0.246]\n"
     ]
    },
    {
     "name": "stdout",
     "output_type": "stream",
     "text": [
      "\n"
     ]
    },
    {
     "name": "stderr",
     "output_type": "stream",
     "text": [
      "100%|██████████| 55/55 [00:07<00:00,  7.74it/s, Epoch=47, LR=0.000364, Train_Loss=0.519]\n",
      "100%|██████████| 12/12 [00:01<00:00, 10.24it/s, Epoch=47, LR=0.000364, Valid_Loss=0.259]\n"
     ]
    },
    {
     "name": "stdout",
     "output_type": "stream",
     "text": [
      "\n"
     ]
    },
    {
     "name": "stderr",
     "output_type": "stream",
     "text": [
      "100%|██████████| 55/55 [00:07<00:00,  7.26it/s, Epoch=48, LR=0.000346, Train_Loss=0.528]\n",
      "100%|██████████| 12/12 [00:01<00:00, 10.25it/s, Epoch=48, LR=0.000346, Valid_Loss=0.279]\n"
     ]
    },
    {
     "name": "stdout",
     "output_type": "stream",
     "text": [
      "\n"
     ]
    },
    {
     "name": "stderr",
     "output_type": "stream",
     "text": [
      "100%|██████████| 55/55 [00:07<00:00,  7.72it/s, Epoch=49, LR=0.000327, Train_Loss=0.517]\n",
      "100%|██████████| 12/12 [00:01<00:00, 10.17it/s, Epoch=49, LR=0.000327, Valid_Loss=0.263]\n"
     ]
    },
    {
     "name": "stdout",
     "output_type": "stream",
     "text": [
      "\n"
     ]
    },
    {
     "name": "stderr",
     "output_type": "stream",
     "text": [
      "100%|██████████| 55/55 [00:07<00:00,  7.70it/s, Epoch=50, LR=0.000309, Train_Loss=0.514]\n",
      "100%|██████████| 12/12 [00:01<00:00, 10.10it/s, Epoch=50, LR=0.000309, Valid_Loss=0.292]\n"
     ]
    },
    {
     "name": "stdout",
     "output_type": "stream",
     "text": [
      "\n"
     ]
    },
    {
     "name": "stderr",
     "output_type": "stream",
     "text": [
      "100%|██████████| 55/55 [00:07<00:00,  7.49it/s, Epoch=51, LR=0.000291, Train_Loss=0.524]\n",
      "100%|██████████| 12/12 [00:01<00:00, 10.24it/s, Epoch=51, LR=0.000291, Valid_Loss=0.253]\n"
     ]
    },
    {
     "name": "stdout",
     "output_type": "stream",
     "text": [
      "\n"
     ]
    },
    {
     "name": "stderr",
     "output_type": "stream",
     "text": [
      "100%|██████████| 55/55 [00:07<00:00,  7.56it/s, Epoch=52, LR=0.000273, Train_Loss=0.517]\n",
      "100%|██████████| 12/12 [00:01<00:00,  9.85it/s, Epoch=52, LR=0.000273, Valid_Loss=0.243]\n"
     ]
    },
    {
     "name": "stdout",
     "output_type": "stream",
     "text": [
      "\n"
     ]
    },
    {
     "name": "stderr",
     "output_type": "stream",
     "text": [
      "100%|██████████| 55/55 [00:07<00:00,  7.69it/s, Epoch=53, LR=0.000256, Train_Loss=0.546]\n",
      "100%|██████████| 12/12 [00:01<00:00, 10.19it/s, Epoch=53, LR=0.000256, Valid_Loss=0.319]\n"
     ]
    },
    {
     "name": "stdout",
     "output_type": "stream",
     "text": [
      "\n"
     ]
    },
    {
     "name": "stderr",
     "output_type": "stream",
     "text": [
      "100%|██████████| 55/55 [00:07<00:00,  7.27it/s, Epoch=54, LR=0.000239, Train_Loss=0.49] \n",
      "100%|██████████| 12/12 [00:01<00:00,  9.91it/s, Epoch=54, LR=0.000239, Valid_Loss=0.228]\n"
     ]
    },
    {
     "name": "stdout",
     "output_type": "stream",
     "text": [
      "\n"
     ]
    },
    {
     "name": "stderr",
     "output_type": "stream",
     "text": [
      "100%|██████████| 55/55 [00:07<00:00,  7.64it/s, Epoch=55, LR=0.000222, Train_Loss=0.52] \n",
      "100%|██████████| 12/12 [00:01<00:00,  9.97it/s, Epoch=55, LR=0.000222, Valid_Loss=0.299]\n"
     ]
    },
    {
     "name": "stdout",
     "output_type": "stream",
     "text": [
      "\n"
     ]
    },
    {
     "name": "stderr",
     "output_type": "stream",
     "text": [
      "100%|██████████| 55/55 [00:07<00:00,  7.38it/s, Epoch=56, LR=0.000206, Train_Loss=0.522]\n",
      "100%|██████████| 12/12 [00:01<00:00, 10.57it/s, Epoch=56, LR=0.000206, Valid_Loss=0.243]\n"
     ]
    },
    {
     "name": "stdout",
     "output_type": "stream",
     "text": [
      "\n"
     ]
    },
    {
     "name": "stderr",
     "output_type": "stream",
     "text": [
      "100%|██████████| 55/55 [00:07<00:00,  7.61it/s, Epoch=57, LR=0.000191, Train_Loss=0.505]\n",
      "100%|██████████| 12/12 [00:01<00:00,  9.84it/s, Epoch=57, LR=0.000191, Valid_Loss=0.314]\n"
     ]
    },
    {
     "name": "stdout",
     "output_type": "stream",
     "text": [
      "\n"
     ]
    },
    {
     "name": "stderr",
     "output_type": "stream",
     "text": [
      "100%|██████████| 55/55 [00:07<00:00,  7.51it/s, Epoch=58, LR=0.000175, Train_Loss=0.52] \n",
      "100%|██████████| 12/12 [00:01<00:00,  9.76it/s, Epoch=58, LR=0.000175, Valid_Loss=0.323]\n"
     ]
    },
    {
     "name": "stdout",
     "output_type": "stream",
     "text": [
      "\n"
     ]
    },
    {
     "name": "stderr",
     "output_type": "stream",
     "text": [
      "100%|██████████| 55/55 [00:07<00:00,  7.52it/s, Epoch=59, LR=0.000161, Train_Loss=0.53] \n",
      "100%|██████████| 12/12 [00:01<00:00,  9.74it/s, Epoch=59, LR=0.000161, Valid_Loss=0.293]\n"
     ]
    },
    {
     "name": "stdout",
     "output_type": "stream",
     "text": [
      "\n"
     ]
    },
    {
     "name": "stderr",
     "output_type": "stream",
     "text": [
      "100%|██████████| 55/55 [00:07<00:00,  7.43it/s, Epoch=60, LR=0.000147, Train_Loss=0.505]\n",
      "100%|██████████| 12/12 [00:01<00:00, 10.04it/s, Epoch=60, LR=0.000147, Valid_Loss=0.308]\n"
     ]
    },
    {
     "name": "stdout",
     "output_type": "stream",
     "text": [
      "\n"
     ]
    },
    {
     "name": "stderr",
     "output_type": "stream",
     "text": [
      "100%|██████████| 55/55 [00:06<00:00,  8.20it/s, Epoch=61, LR=0.000133, Train_Loss=0.332]\n",
      "100%|██████████| 12/12 [00:01<00:00,  9.79it/s, Epoch=61, LR=0.000133, Valid_Loss=0.225]\n"
     ]
    },
    {
     "name": "stdout",
     "output_type": "stream",
     "text": [
      "\n"
     ]
    },
    {
     "name": "stderr",
     "output_type": "stream",
     "text": [
      "100%|██████████| 55/55 [00:06<00:00,  7.88it/s, Epoch=62, LR=0.00012, Train_Loss=0.186] \n",
      "100%|██████████| 12/12 [00:01<00:00,  9.95it/s, Epoch=62, LR=0.00012, Valid_Loss=0.191]\n"
     ]
    },
    {
     "name": "stdout",
     "output_type": "stream",
     "text": [
      "\n"
     ]
    },
    {
     "name": "stderr",
     "output_type": "stream",
     "text": [
      "100%|██████████| 55/55 [00:06<00:00,  8.08it/s, Epoch=63, LR=0.000107, Train_Loss=0.164]\n",
      "100%|██████████| 12/12 [00:01<00:00, 10.43it/s, Epoch=63, LR=0.000107, Valid_Loss=0.245]\n"
     ]
    },
    {
     "name": "stdout",
     "output_type": "stream",
     "text": [
      "\u001b[34mValidation AUROC Improved (0.1358434978419966 ---> 0.13627697504222175)\n",
      "\n"
     ]
    },
    {
     "name": "stderr",
     "output_type": "stream",
     "text": [
      "100%|██████████| 55/55 [00:06<00:00,  8.17it/s, Epoch=64, LR=9.56e-5, Train_Loss=0.141] \n",
      "100%|██████████| 12/12 [00:01<00:00,  9.68it/s, Epoch=64, LR=9.56e-5, Valid_Loss=0.203]\n"
     ]
    },
    {
     "name": "stdout",
     "output_type": "stream",
     "text": [
      "\n"
     ]
    },
    {
     "name": "stderr",
     "output_type": "stream",
     "text": [
      "100%|██████████| 55/55 [00:06<00:00,  8.10it/s, Epoch=65, LR=8.43e-5, Train_Loss=0.116]\n",
      "100%|██████████| 12/12 [00:01<00:00,  9.95it/s, Epoch=65, LR=8.43e-5, Valid_Loss=0.225]\n"
     ]
    },
    {
     "name": "stdout",
     "output_type": "stream",
     "text": [
      "\n"
     ]
    },
    {
     "name": "stderr",
     "output_type": "stream",
     "text": [
      "100%|██████████| 55/55 [00:06<00:00,  8.21it/s, Epoch=66, LR=7.37e-5, Train_Loss=0.122] \n",
      "100%|██████████| 12/12 [00:01<00:00,  9.89it/s, Epoch=66, LR=7.37e-5, Valid_Loss=0.19] \n"
     ]
    },
    {
     "name": "stdout",
     "output_type": "stream",
     "text": [
      "\u001b[34mValidation AUROC Improved (0.13627697504222175 ---> 0.13715143554137735)\n",
      "\n"
     ]
    },
    {
     "name": "stderr",
     "output_type": "stream",
     "text": [
      "100%|██████████| 55/55 [00:06<00:00,  8.24it/s, Epoch=67, LR=6.38e-5, Train_Loss=0.0905]\n",
      "100%|██████████| 12/12 [00:01<00:00, 10.36it/s, Epoch=67, LR=6.38e-5, Valid_Loss=0.214]\n"
     ]
    },
    {
     "name": "stdout",
     "output_type": "stream",
     "text": [
      "\n"
     ]
    },
    {
     "name": "stderr",
     "output_type": "stream",
     "text": [
      "100%|██████████| 55/55 [00:06<00:00,  8.40it/s, Epoch=68, LR=5.46e-5, Train_Loss=0.0905]\n",
      "100%|██████████| 12/12 [00:01<00:00, 10.00it/s, Epoch=68, LR=5.46e-5, Valid_Loss=0.196]\n"
     ]
    },
    {
     "name": "stdout",
     "output_type": "stream",
     "text": [
      "\n"
     ]
    },
    {
     "name": "stderr",
     "output_type": "stream",
     "text": [
      "100%|██████████| 55/55 [00:06<00:00,  8.00it/s, Epoch=69, LR=4.6e-5, Train_Loss=0.0889] \n",
      "100%|██████████| 12/12 [00:01<00:00, 10.14it/s, Epoch=69, LR=4.6e-5, Valid_Loss=0.22] \n"
     ]
    },
    {
     "name": "stdout",
     "output_type": "stream",
     "text": [
      "\n"
     ]
    },
    {
     "name": "stderr",
     "output_type": "stream",
     "text": [
      "100%|██████████| 55/55 [00:06<00:00,  8.26it/s, Epoch=70, LR=3.81e-5, Train_Loss=0.082] \n",
      "100%|██████████| 12/12 [00:01<00:00, 10.25it/s, Epoch=70, LR=3.81e-5, Valid_Loss=0.209]\n"
     ]
    },
    {
     "name": "stdout",
     "output_type": "stream",
     "text": [
      "\n"
     ]
    },
    {
     "name": "stderr",
     "output_type": "stream",
     "text": [
      "100%|██████████| 55/55 [00:06<00:00,  8.18it/s, Epoch=71, LR=3.1e-5, Train_Loss=0.0724] \n",
      "100%|██████████| 12/12 [00:01<00:00, 10.05it/s, Epoch=71, LR=3.1e-5, Valid_Loss=0.223]\n"
     ]
    },
    {
     "name": "stdout",
     "output_type": "stream",
     "text": [
      "\n"
     ]
    },
    {
     "name": "stderr",
     "output_type": "stream",
     "text": [
      "100%|██████████| 55/55 [00:06<00:00,  8.17it/s, Epoch=72, LR=2.45e-5, Train_Loss=0.083] \n",
      "100%|██████████| 12/12 [00:01<00:00,  9.84it/s, Epoch=72, LR=2.45e-5, Valid_Loss=0.206]\n"
     ]
    },
    {
     "name": "stdout",
     "output_type": "stream",
     "text": [
      "\n"
     ]
    },
    {
     "name": "stderr",
     "output_type": "stream",
     "text": [
      "100%|██████████| 55/55 [00:06<00:00,  7.94it/s, Epoch=73, LR=1.88e-5, Train_Loss=0.0744]\n",
      "100%|██████████| 12/12 [00:01<00:00, 10.23it/s, Epoch=73, LR=1.88e-5, Valid_Loss=0.203]\n"
     ]
    },
    {
     "name": "stdout",
     "output_type": "stream",
     "text": [
      "\n"
     ]
    },
    {
     "name": "stderr",
     "output_type": "stream",
     "text": [
      "100%|██████████| 55/55 [00:06<00:00,  8.22it/s, Epoch=74, LR=1.39e-5, Train_Loss=0.0634]\n",
      "100%|██████████| 12/12 [00:01<00:00,  9.92it/s, Epoch=74, LR=1.39e-5, Valid_Loss=0.209]\n"
     ]
    },
    {
     "name": "stdout",
     "output_type": "stream",
     "text": [
      "\n"
     ]
    },
    {
     "name": "stderr",
     "output_type": "stream",
     "text": [
      "100%|██████████| 55/55 [00:06<00:00,  8.26it/s, Epoch=75, LR=9.68e-6, Train_Loss=0.0737]\n",
      "100%|██████████| 12/12 [00:01<00:00, 10.05it/s, Epoch=75, LR=9.68e-6, Valid_Loss=0.205]\n"
     ]
    },
    {
     "name": "stdout",
     "output_type": "stream",
     "text": [
      "\n"
     ]
    },
    {
     "name": "stderr",
     "output_type": "stream",
     "text": [
      "100%|██████████| 55/55 [00:06<00:00,  8.19it/s, Epoch=76, LR=6.23e-6, Train_Loss=0.065] \n",
      "100%|██████████| 12/12 [00:01<00:00,  9.99it/s, Epoch=76, LR=6.23e-6, Valid_Loss=0.202]\n"
     ]
    },
    {
     "name": "stdout",
     "output_type": "stream",
     "text": [
      "\n"
     ]
    },
    {
     "name": "stderr",
     "output_type": "stream",
     "text": [
      "100%|██████████| 55/55 [00:06<00:00,  8.01it/s, Epoch=77, LR=3.54e-6, Train_Loss=0.0687]\n",
      "100%|██████████| 12/12 [00:01<00:00, 10.10it/s, Epoch=77, LR=3.54e-6, Valid_Loss=0.202]\n"
     ]
    },
    {
     "name": "stdout",
     "output_type": "stream",
     "text": [
      "\n"
     ]
    },
    {
     "name": "stderr",
     "output_type": "stream",
     "text": [
      "100%|██████████| 55/55 [00:06<00:00,  8.16it/s, Epoch=78, LR=1.61e-6, Train_Loss=0.0591]\n",
      "100%|██████████| 12/12 [00:01<00:00, 10.18it/s, Epoch=78, LR=1.61e-6, Valid_Loss=0.207]\n"
     ]
    },
    {
     "name": "stdout",
     "output_type": "stream",
     "text": [
      "\n"
     ]
    },
    {
     "name": "stderr",
     "output_type": "stream",
     "text": [
      "100%|██████████| 55/55 [00:06<00:00,  8.06it/s, Epoch=79, LR=4.55e-7, Train_Loss=0.0622]\n",
      "100%|██████████| 12/12 [00:01<00:00,  9.77it/s, Epoch=79, LR=4.55e-7, Valid_Loss=0.209]\n"
     ]
    },
    {
     "name": "stdout",
     "output_type": "stream",
     "text": [
      "\n"
     ]
    },
    {
     "name": "stderr",
     "output_type": "stream",
     "text": [
      "100%|██████████| 55/55 [00:06<00:00,  7.98it/s, Epoch=80, LR=7e-8, Train_Loss=0.0622]   \n",
      "100%|██████████| 12/12 [00:01<00:00,  9.70it/s, Epoch=80, LR=7e-8, Valid_Loss=0.211]\n"
     ]
    },
    {
     "name": "stdout",
     "output_type": "stream",
     "text": [
      "\n",
      "Training complete in 0h 12m 33s\n",
      "Best AUROC: 0.1372\n",
      "==============================\n",
      "fold 1\n",
      "==============================\n",
      "Downsample before 1st stage: 314749\n",
      "Downsample after 1st stage: 120309\n",
      "●train\n",
      "original> (315046, 58) 297 (833,)\n",
      "filtered> (3267, 58) 297 (768,)\n",
      "●val\n",
      "original> (86013, 58) 96 (209,)\n",
      "filtered> (2016, 58) 96 (195,)\n",
      "[INFO] Using GPU: NVIDIA GeForce RTX 4090\n",
      "\n"
     ]
    },
    {
     "name": "stderr",
     "output_type": "stream",
     "text": [
      "100%|██████████| 52/52 [00:06<00:00,  7.62it/s, Epoch=1, LR=0.001, Train_Loss=0.666]\n",
      "100%|██████████| 16/16 [00:01<00:00,  9.70it/s, Epoch=1, LR=0.001, Valid_Loss=0.48] \n"
     ]
    },
    {
     "name": "stdout",
     "output_type": "stream",
     "text": [
      "\u001b[34mValidation AUROC Improved (-inf ---> 0.0752853732638889)\n",
      "\n"
     ]
    },
    {
     "name": "stderr",
     "output_type": "stream",
     "text": [
      "100%|██████████| 52/52 [00:06<00:00,  7.86it/s, Epoch=2, LR=0.000998, Train_Loss=0.638]\n",
      "100%|██████████| 16/16 [00:01<00:00, 10.76it/s, Epoch=2, LR=0.000998, Valid_Loss=0.417]\n"
     ]
    },
    {
     "name": "stdout",
     "output_type": "stream",
     "text": [
      "\u001b[34mValidation AUROC Improved (0.0752853732638889 ---> 0.08055989583333331)\n",
      "\n"
     ]
    },
    {
     "name": "stderr",
     "output_type": "stream",
     "text": [
      "100%|██████████| 52/52 [00:07<00:00,  7.38it/s, Epoch=3, LR=0.000997, Train_Loss=0.645]\n",
      "100%|██████████| 16/16 [00:01<00:00, 11.27it/s, Epoch=3, LR=0.000997, Valid_Loss=0.448]\n"
     ]
    },
    {
     "name": "stdout",
     "output_type": "stream",
     "text": [
      "\n"
     ]
    },
    {
     "name": "stderr",
     "output_type": "stream",
     "text": [
      "100%|██████████| 52/52 [00:06<00:00,  7.68it/s, Epoch=4, LR=0.000994, Train_Loss=0.628]\n",
      "100%|██████████| 16/16 [00:01<00:00, 10.54it/s, Epoch=4, LR=0.000994, Valid_Loss=0.37] \n"
     ]
    },
    {
     "name": "stdout",
     "output_type": "stream",
     "text": [
      "\u001b[34mValidation AUROC Improved (0.08055989583333331 ---> 0.10326280381944444)\n",
      "\n"
     ]
    },
    {
     "name": "stderr",
     "output_type": "stream",
     "text": [
      "100%|██████████| 52/52 [00:06<00:00,  7.54it/s, Epoch=5, LR=0.00099, Train_Loss=0.6]   \n",
      "100%|██████████| 16/16 [00:01<00:00, 10.55it/s, Epoch=5, LR=0.00099, Valid_Loss=0.387]\n"
     ]
    },
    {
     "name": "stdout",
     "output_type": "stream",
     "text": [
      "\u001b[34mValidation AUROC Improved (0.10326280381944444 ---> 0.11918728298611107)\n",
      "\n"
     ]
    },
    {
     "name": "stderr",
     "output_type": "stream",
     "text": [
      "100%|██████████| 52/52 [00:06<00:00,  7.66it/s, Epoch=6, LR=0.000986, Train_Loss=0.601]\n",
      "100%|██████████| 16/16 [00:01<00:00, 10.44it/s, Epoch=6, LR=0.000986, Valid_Loss=0.416]\n"
     ]
    },
    {
     "name": "stdout",
     "output_type": "stream",
     "text": [
      "\u001b[34mValidation AUROC Improved (0.11918728298611107 ---> 0.1261751302083333)\n",
      "\n"
     ]
    },
    {
     "name": "stderr",
     "output_type": "stream",
     "text": [
      "100%|██████████| 52/52 [00:06<00:00,  7.61it/s, Epoch=7, LR=0.000981, Train_Loss=0.592]\n",
      "100%|██████████| 16/16 [00:01<00:00, 11.05it/s, Epoch=7, LR=0.000981, Valid_Loss=0.272]\n"
     ]
    },
    {
     "name": "stdout",
     "output_type": "stream",
     "text": [
      "\u001b[34mValidation AUROC Improved (0.1261751302083333 ---> 0.1409711371527777)\n",
      "\n"
     ]
    },
    {
     "name": "stderr",
     "output_type": "stream",
     "text": [
      "100%|██████████| 52/52 [00:06<00:00,  7.71it/s, Epoch=8, LR=0.000976, Train_Loss=0.606]\n",
      "100%|██████████| 16/16 [00:01<00:00, 10.52it/s, Epoch=8, LR=0.000976, Valid_Loss=0.349]\n"
     ]
    },
    {
     "name": "stdout",
     "output_type": "stream",
     "text": [
      "\n"
     ]
    },
    {
     "name": "stderr",
     "output_type": "stream",
     "text": [
      "100%|██████████| 52/52 [00:06<00:00,  7.70it/s, Epoch=9, LR=0.000969, Train_Loss=0.569]\n",
      "100%|██████████| 16/16 [00:01<00:00, 10.50it/s, Epoch=9, LR=0.000969, Valid_Loss=0.325]\n"
     ]
    },
    {
     "name": "stdout",
     "output_type": "stream",
     "text": [
      "\n"
     ]
    },
    {
     "name": "stderr",
     "output_type": "stream",
     "text": [
      "100%|██████████| 52/52 [00:06<00:00,  7.51it/s, Epoch=10, LR=0.000962, Train_Loss=0.612]\n",
      "100%|██████████| 16/16 [00:01<00:00, 10.55it/s, Epoch=10, LR=0.000962, Valid_Loss=0.446]\n"
     ]
    },
    {
     "name": "stdout",
     "output_type": "stream",
     "text": [
      "\n"
     ]
    },
    {
     "name": "stderr",
     "output_type": "stream",
     "text": [
      "100%|██████████| 52/52 [00:06<00:00,  7.52it/s, Epoch=11, LR=0.000954, Train_Loss=0.594]\n",
      "100%|██████████| 16/16 [00:01<00:00, 10.38it/s, Epoch=11, LR=0.000954, Valid_Loss=0.302]\n"
     ]
    },
    {
     "name": "stdout",
     "output_type": "stream",
     "text": [
      "\n"
     ]
    },
    {
     "name": "stderr",
     "output_type": "stream",
     "text": [
      "100%|██████████| 52/52 [00:06<00:00,  7.61it/s, Epoch=12, LR=0.000946, Train_Loss=0.561]\n",
      "100%|██████████| 16/16 [00:01<00:00, 11.01it/s, Epoch=12, LR=0.000946, Valid_Loss=0.251]\n"
     ]
    },
    {
     "name": "stdout",
     "output_type": "stream",
     "text": [
      "\n"
     ]
    },
    {
     "name": "stderr",
     "output_type": "stream",
     "text": [
      "100%|██████████| 52/52 [00:06<00:00,  7.69it/s, Epoch=13, LR=0.000936, Train_Loss=0.592]\n",
      "100%|██████████| 16/16 [00:01<00:00, 10.53it/s, Epoch=13, LR=0.000936, Valid_Loss=0.359]\n"
     ]
    },
    {
     "name": "stdout",
     "output_type": "stream",
     "text": [
      "\u001b[34mValidation AUROC Improved (0.1409711371527777 ---> 0.14408745659722222)\n",
      "\n"
     ]
    },
    {
     "name": "stderr",
     "output_type": "stream",
     "text": [
      "100%|██████████| 52/52 [00:06<00:00,  7.63it/s, Epoch=14, LR=0.000926, Train_Loss=0.581]\n",
      "100%|██████████| 16/16 [00:01<00:00, 10.56it/s, Epoch=14, LR=0.000926, Valid_Loss=0.322]\n"
     ]
    },
    {
     "name": "stdout",
     "output_type": "stream",
     "text": [
      "\u001b[34mValidation AUROC Improved (0.14408745659722222 ---> 0.14503580729166662)\n",
      "\n"
     ]
    },
    {
     "name": "stderr",
     "output_type": "stream",
     "text": [
      "100%|██████████| 52/52 [00:06<00:00,  7.55it/s, Epoch=15, LR=0.000916, Train_Loss=0.566]\n",
      "100%|██████████| 16/16 [00:01<00:00, 11.18it/s, Epoch=15, LR=0.000916, Valid_Loss=0.285]\n"
     ]
    },
    {
     "name": "stdout",
     "output_type": "stream",
     "text": [
      "\n"
     ]
    },
    {
     "name": "stderr",
     "output_type": "stream",
     "text": [
      "100%|██████████| 52/52 [00:07<00:00,  7.24it/s, Epoch=16, LR=0.000905, Train_Loss=0.536]\n",
      "100%|██████████| 16/16 [00:01<00:00, 10.57it/s, Epoch=16, LR=0.000905, Valid_Loss=0.258]\n"
     ]
    },
    {
     "name": "stdout",
     "output_type": "stream",
     "text": [
      "\n"
     ]
    },
    {
     "name": "stderr",
     "output_type": "stream",
     "text": [
      "100%|██████████| 52/52 [00:06<00:00,  7.62it/s, Epoch=17, LR=0.000893, Train_Loss=0.577]\n",
      "100%|██████████| 16/16 [00:01<00:00, 10.58it/s, Epoch=17, LR=0.000893, Valid_Loss=0.316]\n"
     ]
    },
    {
     "name": "stdout",
     "output_type": "stream",
     "text": [
      "\n"
     ]
    },
    {
     "name": "stderr",
     "output_type": "stream",
     "text": [
      "100%|██████████| 52/52 [00:06<00:00,  7.69it/s, Epoch=18, LR=0.00088, Train_Loss=0.567] \n",
      "100%|██████████| 16/16 [00:01<00:00, 10.69it/s, Epoch=18, LR=0.00088, Valid_Loss=0.222]\n"
     ]
    },
    {
     "name": "stdout",
     "output_type": "stream",
     "text": [
      "\n"
     ]
    },
    {
     "name": "stderr",
     "output_type": "stream",
     "text": [
      "100%|██████████| 52/52 [00:06<00:00,  7.61it/s, Epoch=19, LR=0.000867, Train_Loss=0.558]\n",
      "100%|██████████| 16/16 [00:01<00:00, 10.58it/s, Epoch=19, LR=0.000867, Valid_Loss=0.302]\n"
     ]
    },
    {
     "name": "stdout",
     "output_type": "stream",
     "text": [
      "\u001b[34mValidation AUROC Improved (0.14503580729166662 ---> 0.14852213541666665)\n",
      "\n"
     ]
    },
    {
     "name": "stderr",
     "output_type": "stream",
     "text": [
      "100%|██████████| 52/52 [00:06<00:00,  7.67it/s, Epoch=20, LR=0.000854, Train_Loss=0.573]\n",
      "100%|██████████| 16/16 [00:01<00:00, 10.63it/s, Epoch=20, LR=0.000854, Valid_Loss=0.365]\n"
     ]
    },
    {
     "name": "stdout",
     "output_type": "stream",
     "text": [
      "\n"
     ]
    },
    {
     "name": "stderr",
     "output_type": "stream",
     "text": [
      "100%|██████████| 52/52 [00:06<00:00,  7.70it/s, Epoch=21, LR=0.000839, Train_Loss=0.567]\n",
      "100%|██████████| 16/16 [00:01<00:00, 10.61it/s, Epoch=21, LR=0.000839, Valid_Loss=0.298]\n"
     ]
    },
    {
     "name": "stdout",
     "output_type": "stream",
     "text": [
      "\n"
     ]
    },
    {
     "name": "stderr",
     "output_type": "stream",
     "text": [
      "100%|██████████| 52/52 [00:06<00:00,  7.60it/s, Epoch=22, LR=0.000825, Train_Loss=0.582]\n",
      "100%|██████████| 16/16 [00:01<00:00, 10.58it/s, Epoch=22, LR=0.000825, Valid_Loss=0.308]\n"
     ]
    },
    {
     "name": "stdout",
     "output_type": "stream",
     "text": [
      "\n"
     ]
    },
    {
     "name": "stderr",
     "output_type": "stream",
     "text": [
      "100%|██████████| 52/52 [00:06<00:00,  7.51it/s, Epoch=23, LR=0.00081, Train_Loss=0.576] \n",
      "100%|██████████| 16/16 [00:01<00:00, 10.65it/s, Epoch=23, LR=0.00081, Valid_Loss=0.309]\n"
     ]
    },
    {
     "name": "stdout",
     "output_type": "stream",
     "text": [
      "\n"
     ]
    },
    {
     "name": "stderr",
     "output_type": "stream",
     "text": [
      "100%|██████████| 52/52 [00:06<00:00,  7.67it/s, Epoch=24, LR=0.000794, Train_Loss=0.565]\n",
      "100%|██████████| 16/16 [00:01<00:00, 10.92it/s, Epoch=24, LR=0.000794, Valid_Loss=0.227]\n"
     ]
    },
    {
     "name": "stdout",
     "output_type": "stream",
     "text": [
      "\n"
     ]
    },
    {
     "name": "stderr",
     "output_type": "stream",
     "text": [
      "100%|██████████| 52/52 [00:06<00:00,  7.70it/s, Epoch=25, LR=0.000778, Train_Loss=0.546]\n",
      "100%|██████████| 16/16 [00:01<00:00, 10.61it/s, Epoch=25, LR=0.000778, Valid_Loss=0.235]\n"
     ]
    },
    {
     "name": "stdout",
     "output_type": "stream",
     "text": [
      "\n"
     ]
    },
    {
     "name": "stderr",
     "output_type": "stream",
     "text": [
      "100%|██████████| 52/52 [00:06<00:00,  7.71it/s, Epoch=26, LR=0.000761, Train_Loss=0.582]\n",
      "100%|██████████| 16/16 [00:01<00:00, 10.79it/s, Epoch=26, LR=0.000761, Valid_Loss=0.312]\n"
     ]
    },
    {
     "name": "stdout",
     "output_type": "stream",
     "text": [
      "\n"
     ]
    },
    {
     "name": "stderr",
     "output_type": "stream",
     "text": [
      "100%|██████████| 52/52 [00:06<00:00,  7.82it/s, Epoch=27, LR=0.000744, Train_Loss=0.587]\n",
      "100%|██████████| 16/16 [00:01<00:00, 10.75it/s, Epoch=27, LR=0.000744, Valid_Loss=0.331]\n"
     ]
    },
    {
     "name": "stdout",
     "output_type": "stream",
     "text": [
      "\n"
     ]
    },
    {
     "name": "stderr",
     "output_type": "stream",
     "text": [
      "100%|██████████| 52/52 [00:06<00:00,  7.57it/s, Epoch=28, LR=0.000727, Train_Loss=0.546]\n",
      "100%|██████████| 16/16 [00:01<00:00, 10.71it/s, Epoch=28, LR=0.000727, Valid_Loss=0.314]\n"
     ]
    },
    {
     "name": "stdout",
     "output_type": "stream",
     "text": [
      "\n"
     ]
    },
    {
     "name": "stderr",
     "output_type": "stream",
     "text": [
      "100%|██████████| 52/52 [00:06<00:00,  7.61it/s, Epoch=29, LR=0.000709, Train_Loss=0.53] \n",
      "100%|██████████| 16/16 [00:01<00:00, 10.91it/s, Epoch=29, LR=0.000709, Valid_Loss=0.297]\n"
     ]
    },
    {
     "name": "stdout",
     "output_type": "stream",
     "text": [
      "\n"
     ]
    },
    {
     "name": "stderr",
     "output_type": "stream",
     "text": [
      "100%|██████████| 52/52 [00:06<00:00,  7.53it/s, Epoch=30, LR=0.000691, Train_Loss=0.547]\n",
      "100%|██████████| 16/16 [00:01<00:00, 10.64it/s, Epoch=30, LR=0.000691, Valid_Loss=0.289]\n"
     ]
    },
    {
     "name": "stdout",
     "output_type": "stream",
     "text": [
      "\u001b[34mValidation AUROC Improved (0.14852213541666665 ---> 0.1545442708333333)\n",
      "\n"
     ]
    },
    {
     "name": "stderr",
     "output_type": "stream",
     "text": [
      "100%|██████████| 52/52 [00:07<00:00,  7.43it/s, Epoch=31, LR=0.000673, Train_Loss=0.557]\n",
      "100%|██████████| 16/16 [00:01<00:00, 11.09it/s, Epoch=31, LR=0.000673, Valid_Loss=0.311]\n"
     ]
    },
    {
     "name": "stdout",
     "output_type": "stream",
     "text": [
      "\n"
     ]
    },
    {
     "name": "stderr",
     "output_type": "stream",
     "text": [
      "100%|██████████| 52/52 [00:06<00:00,  7.57it/s, Epoch=32, LR=0.000655, Train_Loss=0.59] \n",
      "100%|██████████| 16/16 [00:01<00:00, 10.83it/s, Epoch=32, LR=0.000655, Valid_Loss=0.275]\n"
     ]
    },
    {
     "name": "stdout",
     "output_type": "stream",
     "text": [
      "\n"
     ]
    },
    {
     "name": "stderr",
     "output_type": "stream",
     "text": [
      "100%|██████████| 52/52 [00:07<00:00,  7.26it/s, Epoch=33, LR=0.000636, Train_Loss=0.537]\n",
      "100%|██████████| 16/16 [00:01<00:00, 10.93it/s, Epoch=33, LR=0.000636, Valid_Loss=0.31] \n"
     ]
    },
    {
     "name": "stdout",
     "output_type": "stream",
     "text": [
      "\n"
     ]
    },
    {
     "name": "stderr",
     "output_type": "stream",
     "text": [
      "100%|██████████| 52/52 [00:06<00:00,  7.78it/s, Epoch=34, LR=0.000617, Train_Loss=0.544]\n",
      "100%|██████████| 16/16 [00:01<00:00, 11.19it/s, Epoch=34, LR=0.000617, Valid_Loss=0.248]\n"
     ]
    },
    {
     "name": "stdout",
     "output_type": "stream",
     "text": [
      "\n"
     ]
    },
    {
     "name": "stderr",
     "output_type": "stream",
     "text": [
      "100%|██████████| 52/52 [00:06<00:00,  7.80it/s, Epoch=35, LR=0.000598, Train_Loss=0.552]\n",
      "100%|██████████| 16/16 [00:01<00:00, 10.96it/s, Epoch=35, LR=0.000598, Valid_Loss=0.248]\n"
     ]
    },
    {
     "name": "stdout",
     "output_type": "stream",
     "text": [
      "\u001b[34mValidation AUROC Improved (0.1545442708333333 ---> 0.15509548611111107)\n",
      "\n"
     ]
    },
    {
     "name": "stderr",
     "output_type": "stream",
     "text": [
      "100%|██████████| 52/52 [00:06<00:00,  7.66it/s, Epoch=36, LR=0.000578, Train_Loss=0.569]\n",
      "100%|██████████| 16/16 [00:01<00:00, 10.80it/s, Epoch=36, LR=0.000578, Valid_Loss=0.333]\n"
     ]
    },
    {
     "name": "stdout",
     "output_type": "stream",
     "text": [
      "\u001b[34mValidation AUROC Improved (0.15509548611111107 ---> 0.15616427951388887)\n",
      "\n"
     ]
    },
    {
     "name": "stderr",
     "output_type": "stream",
     "text": [
      "100%|██████████| 52/52 [00:06<00:00,  7.56it/s, Epoch=37, LR=0.000559, Train_Loss=0.558]\n",
      "100%|██████████| 16/16 [00:01<00:00, 10.45it/s, Epoch=37, LR=0.000559, Valid_Loss=0.279]\n"
     ]
    },
    {
     "name": "stdout",
     "output_type": "stream",
     "text": [
      "\u001b[34mValidation AUROC Improved (0.15616427951388887 ---> 0.15761284722222219)\n",
      "\n"
     ]
    },
    {
     "name": "stderr",
     "output_type": "stream",
     "text": [
      "100%|██████████| 52/52 [00:06<00:00,  7.51it/s, Epoch=38, LR=0.000539, Train_Loss=0.529]\n",
      "100%|██████████| 16/16 [00:01<00:00, 10.61it/s, Epoch=38, LR=0.000539, Valid_Loss=0.283]\n"
     ]
    },
    {
     "name": "stdout",
     "output_type": "stream",
     "text": [
      "\n"
     ]
    },
    {
     "name": "stderr",
     "output_type": "stream",
     "text": [
      "100%|██████████| 52/52 [00:07<00:00,  7.37it/s, Epoch=39, LR=0.00052, Train_Loss=0.555] \n",
      "100%|██████████| 16/16 [00:01<00:00, 10.77it/s, Epoch=39, LR=0.00052, Valid_Loss=0.274]\n"
     ]
    },
    {
     "name": "stdout",
     "output_type": "stream",
     "text": [
      "\n"
     ]
    },
    {
     "name": "stderr",
     "output_type": "stream",
     "text": [
      "100%|██████████| 52/52 [00:06<00:00,  7.58it/s, Epoch=40, LR=0.0005, Train_Loss=0.559]  \n",
      "100%|██████████| 16/16 [00:01<00:00, 10.74it/s, Epoch=40, LR=0.0005, Valid_Loss=0.299]\n"
     ]
    },
    {
     "name": "stdout",
     "output_type": "stream",
     "text": [
      "\n"
     ]
    },
    {
     "name": "stderr",
     "output_type": "stream",
     "text": [
      "100%|██████████| 52/52 [00:07<00:00,  7.41it/s, Epoch=41, LR=0.00048, Train_Loss=0.545] \n",
      "100%|██████████| 16/16 [00:01<00:00, 10.42it/s, Epoch=41, LR=0.00048, Valid_Loss=0.263]\n"
     ]
    },
    {
     "name": "stdout",
     "output_type": "stream",
     "text": [
      "\n"
     ]
    },
    {
     "name": "stderr",
     "output_type": "stream",
     "text": [
      "100%|██████████| 52/52 [00:06<00:00,  7.84it/s, Epoch=42, LR=0.000461, Train_Loss=0.562]\n",
      "100%|██████████| 16/16 [00:01<00:00, 10.44it/s, Epoch=42, LR=0.000461, Valid_Loss=0.295]\n"
     ]
    },
    {
     "name": "stdout",
     "output_type": "stream",
     "text": [
      "\n"
     ]
    },
    {
     "name": "stderr",
     "output_type": "stream",
     "text": [
      "100%|██████████| 52/52 [00:06<00:00,  7.67it/s, Epoch=43, LR=0.000441, Train_Loss=0.561]\n",
      "100%|██████████| 16/16 [00:01<00:00, 10.78it/s, Epoch=43, LR=0.000441, Valid_Loss=0.282]\n"
     ]
    },
    {
     "name": "stdout",
     "output_type": "stream",
     "text": [
      "\n"
     ]
    },
    {
     "name": "stderr",
     "output_type": "stream",
     "text": [
      "100%|██████████| 52/52 [00:06<00:00,  7.69it/s, Epoch=44, LR=0.000422, Train_Loss=0.556]\n",
      "100%|██████████| 16/16 [00:01<00:00, 10.26it/s, Epoch=44, LR=0.000422, Valid_Loss=0.312]\n"
     ]
    },
    {
     "name": "stdout",
     "output_type": "stream",
     "text": [
      "\n"
     ]
    },
    {
     "name": "stderr",
     "output_type": "stream",
     "text": [
      "100%|██████████| 52/52 [00:06<00:00,  7.74it/s, Epoch=45, LR=0.000402, Train_Loss=0.555]\n",
      "100%|██████████| 16/16 [00:01<00:00, 10.67it/s, Epoch=45, LR=0.000402, Valid_Loss=0.274]\n"
     ]
    },
    {
     "name": "stdout",
     "output_type": "stream",
     "text": [
      "\n"
     ]
    },
    {
     "name": "stderr",
     "output_type": "stream",
     "text": [
      "100%|██████████| 52/52 [00:06<00:00,  8.00it/s, Epoch=46, LR=0.000383, Train_Loss=0.537]\n",
      "100%|██████████| 16/16 [00:01<00:00, 10.49it/s, Epoch=46, LR=0.000383, Valid_Loss=0.249]\n"
     ]
    },
    {
     "name": "stdout",
     "output_type": "stream",
     "text": [
      "\n"
     ]
    },
    {
     "name": "stderr",
     "output_type": "stream",
     "text": [
      "100%|██████████| 52/52 [00:06<00:00,  7.82it/s, Epoch=47, LR=0.000364, Train_Loss=0.554]\n",
      "100%|██████████| 16/16 [00:01<00:00, 10.77it/s, Epoch=47, LR=0.000364, Valid_Loss=0.284]\n"
     ]
    },
    {
     "name": "stdout",
     "output_type": "stream",
     "text": [
      "\n"
     ]
    },
    {
     "name": "stderr",
     "output_type": "stream",
     "text": [
      "100%|██████████| 52/52 [00:07<00:00,  7.28it/s, Epoch=48, LR=0.000346, Train_Loss=0.558]\n",
      "100%|██████████| 16/16 [00:01<00:00, 10.91it/s, Epoch=48, LR=0.000346, Valid_Loss=0.299]\n"
     ]
    },
    {
     "name": "stdout",
     "output_type": "stream",
     "text": [
      "\n"
     ]
    },
    {
     "name": "stderr",
     "output_type": "stream",
     "text": [
      "100%|██████████| 52/52 [00:06<00:00,  7.81it/s, Epoch=49, LR=0.000327, Train_Loss=0.569]\n",
      "100%|██████████| 16/16 [00:01<00:00, 10.99it/s, Epoch=49, LR=0.000327, Valid_Loss=0.325]\n"
     ]
    },
    {
     "name": "stdout",
     "output_type": "stream",
     "text": [
      "\n"
     ]
    },
    {
     "name": "stderr",
     "output_type": "stream",
     "text": [
      "100%|██████████| 52/52 [00:07<00:00,  7.36it/s, Epoch=50, LR=0.000309, Train_Loss=0.563]\n",
      "100%|██████████| 16/16 [00:01<00:00, 10.46it/s, Epoch=50, LR=0.000309, Valid_Loss=0.326]\n"
     ]
    },
    {
     "name": "stdout",
     "output_type": "stream",
     "text": [
      "\n"
     ]
    },
    {
     "name": "stderr",
     "output_type": "stream",
     "text": [
      "100%|██████████| 52/52 [00:06<00:00,  7.54it/s, Epoch=51, LR=0.000291, Train_Loss=0.534]\n",
      "100%|██████████| 16/16 [00:01<00:00, 10.72it/s, Epoch=51, LR=0.000291, Valid_Loss=0.237]\n"
     ]
    },
    {
     "name": "stdout",
     "output_type": "stream",
     "text": [
      "\n"
     ]
    },
    {
     "name": "stderr",
     "output_type": "stream",
     "text": [
      "100%|██████████| 52/52 [00:06<00:00,  7.74it/s, Epoch=52, LR=0.000273, Train_Loss=0.545]\n",
      "100%|██████████| 16/16 [00:01<00:00, 10.28it/s, Epoch=52, LR=0.000273, Valid_Loss=0.314]\n"
     ]
    },
    {
     "name": "stdout",
     "output_type": "stream",
     "text": [
      "\n"
     ]
    },
    {
     "name": "stderr",
     "output_type": "stream",
     "text": [
      "100%|██████████| 52/52 [00:06<00:00,  7.73it/s, Epoch=53, LR=0.000256, Train_Loss=0.55] \n",
      "100%|██████████| 16/16 [00:01<00:00, 10.46it/s, Epoch=53, LR=0.000256, Valid_Loss=0.259]\n"
     ]
    },
    {
     "name": "stdout",
     "output_type": "stream",
     "text": [
      "\n"
     ]
    },
    {
     "name": "stderr",
     "output_type": "stream",
     "text": [
      "100%|██████████| 52/52 [00:06<00:00,  7.80it/s, Epoch=54, LR=0.000239, Train_Loss=0.522]\n",
      "100%|██████████| 16/16 [00:01<00:00, 10.55it/s, Epoch=54, LR=0.000239, Valid_Loss=0.261]\n"
     ]
    },
    {
     "name": "stdout",
     "output_type": "stream",
     "text": [
      "\n"
     ]
    },
    {
     "name": "stderr",
     "output_type": "stream",
     "text": [
      "100%|██████████| 52/52 [00:06<00:00,  7.62it/s, Epoch=55, LR=0.000222, Train_Loss=0.526]\n",
      "100%|██████████| 16/16 [00:01<00:00, 10.48it/s, Epoch=55, LR=0.000222, Valid_Loss=0.216]\n"
     ]
    },
    {
     "name": "stdout",
     "output_type": "stream",
     "text": [
      "\n"
     ]
    },
    {
     "name": "stderr",
     "output_type": "stream",
     "text": [
      "100%|██████████| 52/52 [00:07<00:00,  7.35it/s, Epoch=56, LR=0.000206, Train_Loss=0.528]\n",
      "100%|██████████| 16/16 [00:01<00:00, 10.44it/s, Epoch=56, LR=0.000206, Valid_Loss=0.231]\n"
     ]
    },
    {
     "name": "stdout",
     "output_type": "stream",
     "text": [
      "\n"
     ]
    },
    {
     "name": "stderr",
     "output_type": "stream",
     "text": [
      "100%|██████████| 52/52 [00:06<00:00,  7.50it/s, Epoch=57, LR=0.000191, Train_Loss=0.518]\n",
      "100%|██████████| 16/16 [00:01<00:00, 11.03it/s, Epoch=57, LR=0.000191, Valid_Loss=0.253]\n"
     ]
    },
    {
     "name": "stdout",
     "output_type": "stream",
     "text": [
      "\n"
     ]
    },
    {
     "name": "stderr",
     "output_type": "stream",
     "text": [
      "100%|██████████| 52/52 [00:06<00:00,  7.72it/s, Epoch=58, LR=0.000175, Train_Loss=0.55] \n",
      "100%|██████████| 16/16 [00:01<00:00, 10.61it/s, Epoch=58, LR=0.000175, Valid_Loss=0.263]\n"
     ]
    },
    {
     "name": "stdout",
     "output_type": "stream",
     "text": [
      "\n"
     ]
    },
    {
     "name": "stderr",
     "output_type": "stream",
     "text": [
      "100%|██████████| 52/52 [00:06<00:00,  7.54it/s, Epoch=59, LR=0.000161, Train_Loss=0.543]\n",
      "100%|██████████| 16/16 [00:01<00:00, 10.88it/s, Epoch=59, LR=0.000161, Valid_Loss=0.305]\n"
     ]
    },
    {
     "name": "stdout",
     "output_type": "stream",
     "text": [
      "\n"
     ]
    },
    {
     "name": "stderr",
     "output_type": "stream",
     "text": [
      "100%|██████████| 52/52 [00:06<00:00,  7.76it/s, Epoch=60, LR=0.000147, Train_Loss=0.524]\n",
      "100%|██████████| 16/16 [00:01<00:00, 10.43it/s, Epoch=60, LR=0.000147, Valid_Loss=0.236]\n"
     ]
    },
    {
     "name": "stdout",
     "output_type": "stream",
     "text": [
      "\n"
     ]
    },
    {
     "name": "stderr",
     "output_type": "stream",
     "text": [
      "100%|██████████| 52/52 [00:06<00:00,  7.99it/s, Epoch=61, LR=0.000133, Train_Loss=0.361]\n",
      "100%|██████████| 16/16 [00:01<00:00, 11.04it/s, Epoch=61, LR=0.000133, Valid_Loss=0.31] \n"
     ]
    },
    {
     "name": "stdout",
     "output_type": "stream",
     "text": [
      "\u001b[34mValidation AUROC Improved (0.15761284722222219 ---> 0.1577994791666666)\n",
      "\n"
     ]
    },
    {
     "name": "stderr",
     "output_type": "stream",
     "text": [
      "100%|██████████| 52/52 [00:06<00:00,  8.27it/s, Epoch=62, LR=0.00012, Train_Loss=0.266] \n",
      "100%|██████████| 16/16 [00:01<00:00, 10.46it/s, Epoch=62, LR=0.00012, Valid_Loss=0.263]\n"
     ]
    },
    {
     "name": "stdout",
     "output_type": "stream",
     "text": [
      "\n"
     ]
    },
    {
     "name": "stderr",
     "output_type": "stream",
     "text": [
      "100%|██████████| 52/52 [00:06<00:00,  8.28it/s, Epoch=63, LR=0.000107, Train_Loss=0.234]\n",
      "100%|██████████| 16/16 [00:01<00:00, 10.34it/s, Epoch=63, LR=0.000107, Valid_Loss=0.233]\n"
     ]
    },
    {
     "name": "stdout",
     "output_type": "stream",
     "text": [
      "\n"
     ]
    },
    {
     "name": "stderr",
     "output_type": "stream",
     "text": [
      "100%|██████████| 52/52 [00:06<00:00,  8.39it/s, Epoch=64, LR=9.56e-5, Train_Loss=0.233] \n",
      "100%|██████████| 16/16 [00:01<00:00, 10.96it/s, Epoch=64, LR=9.56e-5, Valid_Loss=0.197]\n"
     ]
    },
    {
     "name": "stdout",
     "output_type": "stream",
     "text": [
      "\n"
     ]
    },
    {
     "name": "stderr",
     "output_type": "stream",
     "text": [
      "100%|██████████| 52/52 [00:06<00:00,  8.37it/s, Epoch=65, LR=8.43e-5, Train_Loss=0.195]\n",
      "100%|██████████| 16/16 [00:01<00:00, 10.84it/s, Epoch=65, LR=8.43e-5, Valid_Loss=0.249]\n"
     ]
    },
    {
     "name": "stdout",
     "output_type": "stream",
     "text": [
      "\n"
     ]
    },
    {
     "name": "stderr",
     "output_type": "stream",
     "text": [
      "100%|██████████| 52/52 [00:06<00:00,  8.30it/s, Epoch=66, LR=7.37e-5, Train_Loss=0.177]\n",
      "100%|██████████| 16/16 [00:01<00:00, 10.56it/s, Epoch=66, LR=7.37e-5, Valid_Loss=0.189]\n"
     ]
    },
    {
     "name": "stdout",
     "output_type": "stream",
     "text": [
      "\n"
     ]
    },
    {
     "name": "stderr",
     "output_type": "stream",
     "text": [
      "100%|██████████| 52/52 [00:06<00:00,  7.92it/s, Epoch=67, LR=6.38e-5, Train_Loss=0.17] \n",
      "100%|██████████| 16/16 [00:01<00:00, 10.50it/s, Epoch=67, LR=6.38e-5, Valid_Loss=0.219]\n"
     ]
    },
    {
     "name": "stdout",
     "output_type": "stream",
     "text": [
      "\n"
     ]
    },
    {
     "name": "stderr",
     "output_type": "stream",
     "text": [
      "100%|██████████| 52/52 [00:06<00:00,  8.06it/s, Epoch=68, LR=5.46e-5, Train_Loss=0.19] \n",
      "100%|██████████| 16/16 [00:01<00:00, 11.01it/s, Epoch=68, LR=5.46e-5, Valid_Loss=0.222]\n"
     ]
    },
    {
     "name": "stdout",
     "output_type": "stream",
     "text": [
      "\n"
     ]
    },
    {
     "name": "stderr",
     "output_type": "stream",
     "text": [
      "100%|██████████| 52/52 [00:06<00:00,  8.32it/s, Epoch=69, LR=4.6e-5, Train_Loss=0.172] \n",
      "100%|██████████| 16/16 [00:01<00:00, 10.72it/s, Epoch=69, LR=4.6e-5, Valid_Loss=0.203]\n"
     ]
    },
    {
     "name": "stdout",
     "output_type": "stream",
     "text": [
      "\n"
     ]
    },
    {
     "name": "stderr",
     "output_type": "stream",
     "text": [
      "100%|██████████| 52/52 [00:06<00:00,  8.30it/s, Epoch=70, LR=3.81e-5, Train_Loss=0.166]\n",
      "100%|██████████| 16/16 [00:01<00:00, 11.02it/s, Epoch=70, LR=3.81e-5, Valid_Loss=0.197]\n"
     ]
    },
    {
     "name": "stdout",
     "output_type": "stream",
     "text": [
      "\n"
     ]
    },
    {
     "name": "stderr",
     "output_type": "stream",
     "text": [
      "100%|██████████| 52/52 [00:06<00:00,  8.03it/s, Epoch=71, LR=3.1e-5, Train_Loss=0.149] \n",
      "100%|██████████| 16/16 [00:01<00:00, 10.68it/s, Epoch=71, LR=3.1e-5, Valid_Loss=0.213]\n"
     ]
    },
    {
     "name": "stdout",
     "output_type": "stream",
     "text": [
      "\u001b[34mValidation AUROC Improved (0.1577994791666666 ---> 0.1586686197916666)\n",
      "\n"
     ]
    },
    {
     "name": "stderr",
     "output_type": "stream",
     "text": [
      "100%|██████████| 52/52 [00:06<00:00,  8.20it/s, Epoch=72, LR=2.45e-5, Train_Loss=0.151]\n",
      "100%|██████████| 16/16 [00:01<00:00, 10.83it/s, Epoch=72, LR=2.45e-5, Valid_Loss=0.21] \n"
     ]
    },
    {
     "name": "stdout",
     "output_type": "stream",
     "text": [
      "\n"
     ]
    },
    {
     "name": "stderr",
     "output_type": "stream",
     "text": [
      "100%|██████████| 52/52 [00:06<00:00,  8.00it/s, Epoch=73, LR=1.88e-5, Train_Loss=0.14] \n",
      "100%|██████████| 16/16 [00:01<00:00, 11.01it/s, Epoch=73, LR=1.88e-5, Valid_Loss=0.201]\n"
     ]
    },
    {
     "name": "stdout",
     "output_type": "stream",
     "text": [
      "\u001b[34mValidation AUROC Improved (0.1586686197916666 ---> 0.15949761284722216)\n",
      "\n"
     ]
    },
    {
     "name": "stderr",
     "output_type": "stream",
     "text": [
      "100%|██████████| 52/52 [00:06<00:00,  8.09it/s, Epoch=74, LR=1.39e-5, Train_Loss=0.135]\n",
      "100%|██████████| 16/16 [00:01<00:00, 10.47it/s, Epoch=74, LR=1.39e-5, Valid_Loss=0.25] \n"
     ]
    },
    {
     "name": "stdout",
     "output_type": "stream",
     "text": [
      "\u001b[34mValidation AUROC Improved (0.15949761284722216 ---> 0.1597254774305555)\n",
      "\n"
     ]
    },
    {
     "name": "stderr",
     "output_type": "stream",
     "text": [
      "100%|██████████| 52/52 [00:06<00:00,  8.40it/s, Epoch=75, LR=9.68e-6, Train_Loss=0.142]\n",
      "100%|██████████| 16/16 [00:01<00:00, 10.61it/s, Epoch=75, LR=9.68e-6, Valid_Loss=0.221]\n"
     ]
    },
    {
     "name": "stdout",
     "output_type": "stream",
     "text": [
      "\n"
     ]
    },
    {
     "name": "stderr",
     "output_type": "stream",
     "text": [
      "100%|██████████| 52/52 [00:06<00:00,  8.21it/s, Epoch=76, LR=6.23e-6, Train_Loss=0.157]\n",
      "100%|██████████| 16/16 [00:01<00:00, 10.22it/s, Epoch=76, LR=6.23e-6, Valid_Loss=0.189]\n"
     ]
    },
    {
     "name": "stdout",
     "output_type": "stream",
     "text": [
      "\n"
     ]
    },
    {
     "name": "stderr",
     "output_type": "stream",
     "text": [
      "100%|██████████| 52/52 [00:06<00:00,  8.31it/s, Epoch=77, LR=3.54e-6, Train_Loss=0.138]\n",
      "100%|██████████| 16/16 [00:01<00:00, 10.43it/s, Epoch=77, LR=3.54e-6, Valid_Loss=0.18] \n"
     ]
    },
    {
     "name": "stdout",
     "output_type": "stream",
     "text": [
      "\n"
     ]
    },
    {
     "name": "stderr",
     "output_type": "stream",
     "text": [
      "100%|██████████| 52/52 [00:06<00:00,  8.57it/s, Epoch=78, LR=1.61e-6, Train_Loss=0.14] \n",
      "100%|██████████| 16/16 [00:01<00:00, 10.37it/s, Epoch=78, LR=1.61e-6, Valid_Loss=0.197]\n"
     ]
    },
    {
     "name": "stdout",
     "output_type": "stream",
     "text": [
      "\n"
     ]
    },
    {
     "name": "stderr",
     "output_type": "stream",
     "text": [
      "100%|██████████| 52/52 [00:06<00:00,  7.98it/s, Epoch=79, LR=4.55e-7, Train_Loss=0.135]\n",
      "100%|██████████| 16/16 [00:01<00:00, 11.07it/s, Epoch=79, LR=4.55e-7, Valid_Loss=0.173]\n"
     ]
    },
    {
     "name": "stdout",
     "output_type": "stream",
     "text": [
      "\n"
     ]
    },
    {
     "name": "stderr",
     "output_type": "stream",
     "text": [
      "100%|██████████| 52/52 [00:06<00:00,  8.41it/s, Epoch=80, LR=7e-8, Train_Loss=0.134]   \n",
      "100%|██████████| 16/16 [00:01<00:00, 11.26it/s, Epoch=80, LR=7e-8, Valid_Loss=0.192]\n"
     ]
    },
    {
     "name": "stdout",
     "output_type": "stream",
     "text": [
      "\n",
      "Training complete in 0h 12m 27s\n",
      "Best AUROC: 0.1597\n",
      "==============================\n",
      "fold 2\n",
      "==============================\n",
      "Downsample before 1st stage: 325728\n",
      "Downsample after 1st stage: 122412\n",
      "●train\n",
      "original> (326063, 58) 335 (833,)\n",
      "filtered> (3685, 58) 335 (776,)\n",
      "●val\n",
      "original> (74996, 58) 58 (209,)\n",
      "filtered> (1218, 58) 58 (186,)\n",
      "[INFO] Using GPU: NVIDIA GeForce RTX 4090\n",
      "\n"
     ]
    },
    {
     "name": "stderr",
     "output_type": "stream",
     "text": [
      "100%|██████████| 58/58 [00:08<00:00,  7.07it/s, Epoch=1, LR=0.001, Train_Loss=0.676]\n",
      "100%|██████████| 10/10 [00:00<00:00, 10.04it/s, Epoch=1, LR=0.001, Valid_Loss=0.262]\n"
     ]
    },
    {
     "name": "stdout",
     "output_type": "stream",
     "text": [
      "\u001b[34mValidation AUROC Improved (-inf ---> 0.0541230677764566)\n",
      "\n"
     ]
    },
    {
     "name": "stderr",
     "output_type": "stream",
     "text": [
      "100%|██████████| 58/58 [00:07<00:00,  7.81it/s, Epoch=2, LR=0.000998, Train_Loss=0.656]\n",
      "100%|██████████| 10/10 [00:00<00:00, 11.51it/s, Epoch=2, LR=0.000998, Valid_Loss=0.33]\n"
     ]
    },
    {
     "name": "stdout",
     "output_type": "stream",
     "text": [
      "\u001b[34mValidation AUROC Improved (0.0541230677764566 ---> 0.09236028537455407)\n",
      "\n"
     ]
    },
    {
     "name": "stderr",
     "output_type": "stream",
     "text": [
      "100%|██████████| 58/58 [00:07<00:00,  7.96it/s, Epoch=3, LR=0.000997, Train_Loss=0.627]\n",
      "100%|██████████| 10/10 [00:00<00:00, 11.51it/s, Epoch=3, LR=0.000997, Valid_Loss=0.392]\n"
     ]
    },
    {
     "name": "stdout",
     "output_type": "stream",
     "text": [
      "\n"
     ]
    },
    {
     "name": "stderr",
     "output_type": "stream",
     "text": [
      "100%|██████████| 58/58 [00:07<00:00,  7.62it/s, Epoch=4, LR=0.000994, Train_Loss=0.602]\n",
      "100%|██████████| 10/10 [00:00<00:00, 11.36it/s, Epoch=4, LR=0.000994, Valid_Loss=0.422]\n"
     ]
    },
    {
     "name": "stdout",
     "output_type": "stream",
     "text": [
      "\u001b[34mValidation AUROC Improved (0.09236028537455407 ---> 0.10221165279429249)\n",
      "\n"
     ]
    },
    {
     "name": "stderr",
     "output_type": "stream",
     "text": [
      "100%|██████████| 58/58 [00:07<00:00,  7.28it/s, Epoch=5, LR=0.00099, Train_Loss=0.609] \n",
      "100%|██████████| 10/10 [00:00<00:00, 11.41it/s, Epoch=5, LR=0.00099, Valid_Loss=0.26]\n"
     ]
    },
    {
     "name": "stdout",
     "output_type": "stream",
     "text": [
      "\u001b[34mValidation AUROC Improved (0.10221165279429249 ---> 0.10575505350772887)\n",
      "\n"
     ]
    },
    {
     "name": "stderr",
     "output_type": "stream",
     "text": [
      "100%|██████████| 58/58 [00:07<00:00,  7.59it/s, Epoch=6, LR=0.000986, Train_Loss=0.584]\n",
      "100%|██████████| 10/10 [00:00<00:00, 10.67it/s, Epoch=6, LR=0.000986, Valid_Loss=0.373]\n"
     ]
    },
    {
     "name": "stdout",
     "output_type": "stream",
     "text": [
      "\u001b[34mValidation AUROC Improved (0.10575505350772887 ---> 0.11608204518430439)\n",
      "\n"
     ]
    },
    {
     "name": "stderr",
     "output_type": "stream",
     "text": [
      "100%|██████████| 58/58 [00:07<00:00,  7.34it/s, Epoch=7, LR=0.000981, Train_Loss=0.62] \n",
      "100%|██████████| 10/10 [00:00<00:00, 11.48it/s, Epoch=7, LR=0.000981, Valid_Loss=0.413]\n"
     ]
    },
    {
     "name": "stdout",
     "output_type": "stream",
     "text": [
      "\n"
     ]
    },
    {
     "name": "stderr",
     "output_type": "stream",
     "text": [
      "100%|██████████| 58/58 [00:07<00:00,  7.92it/s, Epoch=8, LR=0.000976, Train_Loss=0.574]\n",
      "100%|██████████| 10/10 [00:00<00:00, 10.80it/s, Epoch=8, LR=0.000976, Valid_Loss=0.334]\n"
     ]
    },
    {
     "name": "stdout",
     "output_type": "stream",
     "text": [
      "\u001b[34mValidation AUROC Improved (0.11608204518430439 ---> 0.13078180737217593)\n",
      "\n"
     ]
    },
    {
     "name": "stderr",
     "output_type": "stream",
     "text": [
      "100%|██████████| 58/58 [00:07<00:00,  7.80it/s, Epoch=9, LR=0.000969, Train_Loss=0.602]\n",
      "100%|██████████| 10/10 [00:00<00:00, 10.84it/s, Epoch=9, LR=0.000969, Valid_Loss=0.387]\n"
     ]
    },
    {
     "name": "stdout",
     "output_type": "stream",
     "text": [
      "\u001b[34mValidation AUROC Improved (0.13078180737217593 ---> 0.13286563614744348)\n",
      "\n"
     ]
    },
    {
     "name": "stderr",
     "output_type": "stream",
     "text": [
      "100%|██████████| 58/58 [00:07<00:00,  7.57it/s, Epoch=10, LR=0.000962, Train_Loss=0.576]\n",
      "100%|██████████| 10/10 [00:00<00:00, 10.54it/s, Epoch=10, LR=0.000962, Valid_Loss=0.325]\n"
     ]
    },
    {
     "name": "stdout",
     "output_type": "stream",
     "text": [
      "\n"
     ]
    },
    {
     "name": "stderr",
     "output_type": "stream",
     "text": [
      "100%|██████████| 58/58 [00:07<00:00,  7.86it/s, Epoch=11, LR=0.000954, Train_Loss=0.572]\n",
      "100%|██████████| 10/10 [00:00<00:00, 10.64it/s, Epoch=11, LR=0.000954, Valid_Loss=0.292]\n"
     ]
    },
    {
     "name": "stdout",
     "output_type": "stream",
     "text": [
      "\u001b[34mValidation AUROC Improved (0.13286563614744348 ---> 0.13369500594530317)\n",
      "\n"
     ]
    },
    {
     "name": "stderr",
     "output_type": "stream",
     "text": [
      "100%|██████████| 58/58 [00:07<00:00,  7.76it/s, Epoch=12, LR=0.000946, Train_Loss=0.601]\n",
      "100%|██████████| 10/10 [00:00<00:00, 10.83it/s, Epoch=12, LR=0.000946, Valid_Loss=0.271]\n"
     ]
    },
    {
     "name": "stdout",
     "output_type": "stream",
     "text": [
      "\n"
     ]
    },
    {
     "name": "stderr",
     "output_type": "stream",
     "text": [
      "100%|██████████| 58/58 [00:07<00:00,  7.29it/s, Epoch=13, LR=0.000936, Train_Loss=0.602]\n",
      "100%|██████████| 10/10 [00:00<00:00, 11.30it/s, Epoch=13, LR=0.000936, Valid_Loss=0.325]\n"
     ]
    },
    {
     "name": "stdout",
     "output_type": "stream",
     "text": [
      "\n"
     ]
    },
    {
     "name": "stderr",
     "output_type": "stream",
     "text": [
      "100%|██████████| 58/58 [00:07<00:00,  7.47it/s, Epoch=14, LR=0.000926, Train_Loss=0.574]\n",
      "100%|██████████| 10/10 [00:00<00:00, 11.11it/s, Epoch=14, LR=0.000926, Valid_Loss=0.306]\n"
     ]
    },
    {
     "name": "stdout",
     "output_type": "stream",
     "text": [
      "\n"
     ]
    },
    {
     "name": "stderr",
     "output_type": "stream",
     "text": [
      "100%|██████████| 58/58 [00:07<00:00,  7.58it/s, Epoch=15, LR=0.000916, Train_Loss=0.572]\n",
      "100%|██████████| 10/10 [00:00<00:00, 11.05it/s, Epoch=15, LR=0.000916, Valid_Loss=0.299]\n"
     ]
    },
    {
     "name": "stdout",
     "output_type": "stream",
     "text": [
      "\u001b[34mValidation AUROC Improved (0.13369500594530317 ---> 0.14376634958382872)\n",
      "\n"
     ]
    },
    {
     "name": "stderr",
     "output_type": "stream",
     "text": [
      "100%|██████████| 58/58 [00:07<00:00,  7.71it/s, Epoch=16, LR=0.000905, Train_Loss=0.565]\n",
      "100%|██████████| 10/10 [00:00<00:00, 11.00it/s, Epoch=16, LR=0.000905, Valid_Loss=0.361]\n"
     ]
    },
    {
     "name": "stdout",
     "output_type": "stream",
     "text": [
      "\n"
     ]
    },
    {
     "name": "stderr",
     "output_type": "stream",
     "text": [
      "100%|██████████| 58/58 [00:07<00:00,  7.67it/s, Epoch=17, LR=0.000893, Train_Loss=0.58] \n",
      "100%|██████████| 10/10 [00:00<00:00, 11.22it/s, Epoch=17, LR=0.000893, Valid_Loss=0.365]\n"
     ]
    },
    {
     "name": "stdout",
     "output_type": "stream",
     "text": [
      "\u001b[34mValidation AUROC Improved (0.14376634958382872 ---> 0.14496135552913197)\n",
      "\n"
     ]
    },
    {
     "name": "stderr",
     "output_type": "stream",
     "text": [
      "100%|██████████| 58/58 [00:07<00:00,  7.55it/s, Epoch=18, LR=0.00088, Train_Loss=0.555] \n",
      "100%|██████████| 10/10 [00:00<00:00, 10.80it/s, Epoch=18, LR=0.00088, Valid_Loss=0.268]\n"
     ]
    },
    {
     "name": "stdout",
     "output_type": "stream",
     "text": [
      "\n"
     ]
    },
    {
     "name": "stderr",
     "output_type": "stream",
     "text": [
      "100%|██████████| 58/58 [00:07<00:00,  7.58it/s, Epoch=19, LR=0.000867, Train_Loss=0.556]\n",
      "100%|██████████| 10/10 [00:00<00:00, 10.66it/s, Epoch=19, LR=0.000867, Valid_Loss=0.342]\n"
     ]
    },
    {
     "name": "stdout",
     "output_type": "stream",
     "text": [
      "\n"
     ]
    },
    {
     "name": "stderr",
     "output_type": "stream",
     "text": [
      "100%|██████████| 58/58 [00:07<00:00,  7.32it/s, Epoch=20, LR=0.000854, Train_Loss=0.555]\n",
      "100%|██████████| 10/10 [00:00<00:00, 10.44it/s, Epoch=20, LR=0.000854, Valid_Loss=0.315]\n"
     ]
    },
    {
     "name": "stdout",
     "output_type": "stream",
     "text": [
      "\n"
     ]
    },
    {
     "name": "stderr",
     "output_type": "stream",
     "text": [
      "100%|██████████| 58/58 [00:07<00:00,  7.44it/s, Epoch=21, LR=0.000839, Train_Loss=0.538]\n",
      "100%|██████████| 10/10 [00:00<00:00, 11.02it/s, Epoch=21, LR=0.000839, Valid_Loss=0.273]\n"
     ]
    },
    {
     "name": "stdout",
     "output_type": "stream",
     "text": [
      "\n"
     ]
    },
    {
     "name": "stderr",
     "output_type": "stream",
     "text": [
      "100%|██████████| 58/58 [00:07<00:00,  7.32it/s, Epoch=22, LR=0.000825, Train_Loss=0.545]\n",
      "100%|██████████| 10/10 [00:00<00:00, 11.26it/s, Epoch=22, LR=0.000825, Valid_Loss=0.299]\n"
     ]
    },
    {
     "name": "stdout",
     "output_type": "stream",
     "text": [
      "\n"
     ]
    },
    {
     "name": "stderr",
     "output_type": "stream",
     "text": [
      "100%|██████████| 58/58 [00:07<00:00,  7.42it/s, Epoch=23, LR=0.00081, Train_Loss=0.55]  \n",
      "100%|██████████| 10/10 [00:00<00:00, 11.20it/s, Epoch=23, LR=0.00081, Valid_Loss=0.24]\n"
     ]
    },
    {
     "name": "stdout",
     "output_type": "stream",
     "text": [
      "\n"
     ]
    },
    {
     "name": "stderr",
     "output_type": "stream",
     "text": [
      "100%|██████████| 58/58 [00:07<00:00,  7.40it/s, Epoch=24, LR=0.000794, Train_Loss=0.574]\n",
      "100%|██████████| 10/10 [00:00<00:00, 10.44it/s, Epoch=24, LR=0.000794, Valid_Loss=0.289]\n"
     ]
    },
    {
     "name": "stdout",
     "output_type": "stream",
     "text": [
      "\n"
     ]
    },
    {
     "name": "stderr",
     "output_type": "stream",
     "text": [
      "100%|██████████| 58/58 [00:07<00:00,  7.72it/s, Epoch=25, LR=0.000778, Train_Loss=0.539]\n",
      "100%|██████████| 10/10 [00:00<00:00, 11.25it/s, Epoch=25, LR=0.000778, Valid_Loss=0.25]\n"
     ]
    },
    {
     "name": "stdout",
     "output_type": "stream",
     "text": [
      "\u001b[34mValidation AUROC Improved (0.14496135552913197 ---> 0.14643876337693218)\n",
      "\n"
     ]
    },
    {
     "name": "stderr",
     "output_type": "stream",
     "text": [
      "100%|██████████| 58/58 [00:07<00:00,  7.48it/s, Epoch=26, LR=0.000761, Train_Loss=0.528]\n",
      "100%|██████████| 10/10 [00:00<00:00, 10.75it/s, Epoch=26, LR=0.000761, Valid_Loss=0.296]\n"
     ]
    },
    {
     "name": "stdout",
     "output_type": "stream",
     "text": [
      "\n"
     ]
    },
    {
     "name": "stderr",
     "output_type": "stream",
     "text": [
      "100%|██████████| 58/58 [00:07<00:00,  7.30it/s, Epoch=27, LR=0.000744, Train_Loss=0.538]\n",
      "100%|██████████| 10/10 [00:00<00:00, 11.20it/s, Epoch=27, LR=0.000744, Valid_Loss=0.45]\n"
     ]
    },
    {
     "name": "stdout",
     "output_type": "stream",
     "text": [
      "\n"
     ]
    },
    {
     "name": "stderr",
     "output_type": "stream",
     "text": [
      "100%|██████████| 58/58 [00:07<00:00,  7.66it/s, Epoch=28, LR=0.000727, Train_Loss=0.522]\n",
      "100%|██████████| 10/10 [00:00<00:00, 10.87it/s, Epoch=28, LR=0.000727, Valid_Loss=0.309]\n"
     ]
    },
    {
     "name": "stdout",
     "output_type": "stream",
     "text": [
      "\n"
     ]
    },
    {
     "name": "stderr",
     "output_type": "stream",
     "text": [
      "100%|██████████| 58/58 [00:07<00:00,  7.65it/s, Epoch=29, LR=0.000709, Train_Loss=0.531]\n",
      "100%|██████████| 10/10 [00:00<00:00, 11.25it/s, Epoch=29, LR=0.000709, Valid_Loss=0.258]\n"
     ]
    },
    {
     "name": "stdout",
     "output_type": "stream",
     "text": [
      "\n"
     ]
    },
    {
     "name": "stderr",
     "output_type": "stream",
     "text": [
      "100%|██████████| 58/58 [00:07<00:00,  7.52it/s, Epoch=30, LR=0.000691, Train_Loss=0.55] \n",
      "100%|██████████| 10/10 [00:00<00:00, 10.66it/s, Epoch=30, LR=0.000691, Valid_Loss=0.295]\n"
     ]
    },
    {
     "name": "stdout",
     "output_type": "stream",
     "text": [
      "\n"
     ]
    },
    {
     "name": "stderr",
     "output_type": "stream",
     "text": [
      "100%|██████████| 58/58 [00:07<00:00,  7.82it/s, Epoch=31, LR=0.000673, Train_Loss=0.543]\n",
      "100%|██████████| 10/10 [00:00<00:00, 11.14it/s, Epoch=31, LR=0.000673, Valid_Loss=0.272]\n"
     ]
    },
    {
     "name": "stdout",
     "output_type": "stream",
     "text": [
      "\n"
     ]
    },
    {
     "name": "stderr",
     "output_type": "stream",
     "text": [
      "100%|██████████| 58/58 [00:07<00:00,  7.65it/s, Epoch=32, LR=0.000655, Train_Loss=0.555]\n",
      "100%|██████████| 10/10 [00:00<00:00, 10.18it/s, Epoch=32, LR=0.000655, Valid_Loss=0.355]\n"
     ]
    },
    {
     "name": "stdout",
     "output_type": "stream",
     "text": [
      "\n"
     ]
    },
    {
     "name": "stderr",
     "output_type": "stream",
     "text": [
      "100%|██████████| 58/58 [00:07<00:00,  7.46it/s, Epoch=33, LR=0.000636, Train_Loss=0.524]\n",
      "100%|██████████| 10/10 [00:00<00:00, 11.09it/s, Epoch=33, LR=0.000636, Valid_Loss=0.304]\n"
     ]
    },
    {
     "name": "stdout",
     "output_type": "stream",
     "text": [
      "\n"
     ]
    },
    {
     "name": "stderr",
     "output_type": "stream",
     "text": [
      "100%|██████████| 58/58 [00:07<00:00,  7.54it/s, Epoch=34, LR=0.000617, Train_Loss=0.525]\n",
      "100%|██████████| 10/10 [00:00<00:00, 10.55it/s, Epoch=34, LR=0.000617, Valid_Loss=0.282]\n"
     ]
    },
    {
     "name": "stdout",
     "output_type": "stream",
     "text": [
      "\n"
     ]
    },
    {
     "name": "stderr",
     "output_type": "stream",
     "text": [
      "100%|██████████| 58/58 [00:07<00:00,  7.52it/s, Epoch=35, LR=0.000598, Train_Loss=0.53] \n",
      "100%|██████████| 10/10 [00:00<00:00, 11.19it/s, Epoch=35, LR=0.000598, Valid_Loss=0.285]\n"
     ]
    },
    {
     "name": "stdout",
     "output_type": "stream",
     "text": [
      "\n"
     ]
    },
    {
     "name": "stderr",
     "output_type": "stream",
     "text": [
      "100%|██████████| 58/58 [00:07<00:00,  7.58it/s, Epoch=36, LR=0.000578, Train_Loss=0.531]\n",
      "100%|██████████| 10/10 [00:00<00:00, 10.41it/s, Epoch=36, LR=0.000578, Valid_Loss=0.228]\n"
     ]
    },
    {
     "name": "stdout",
     "output_type": "stream",
     "text": [
      "\n"
     ]
    },
    {
     "name": "stderr",
     "output_type": "stream",
     "text": [
      "100%|██████████| 58/58 [00:07<00:00,  7.46it/s, Epoch=37, LR=0.000559, Train_Loss=0.545]\n",
      "100%|██████████| 10/10 [00:00<00:00, 10.80it/s, Epoch=37, LR=0.000559, Valid_Loss=0.284]\n"
     ]
    },
    {
     "name": "stdout",
     "output_type": "stream",
     "text": [
      "\n"
     ]
    },
    {
     "name": "stderr",
     "output_type": "stream",
     "text": [
      "100%|██████████| 58/58 [00:07<00:00,  7.54it/s, Epoch=38, LR=0.000539, Train_Loss=0.569]\n",
      "100%|██████████| 10/10 [00:00<00:00, 11.25it/s, Epoch=38, LR=0.000539, Valid_Loss=0.314]\n"
     ]
    },
    {
     "name": "stdout",
     "output_type": "stream",
     "text": [
      "\n"
     ]
    },
    {
     "name": "stderr",
     "output_type": "stream",
     "text": [
      "100%|██████████| 58/58 [00:07<00:00,  7.45it/s, Epoch=39, LR=0.00052, Train_Loss=0.545] \n",
      "100%|██████████| 10/10 [00:00<00:00, 11.16it/s, Epoch=39, LR=0.00052, Valid_Loss=0.329]\n"
     ]
    },
    {
     "name": "stdout",
     "output_type": "stream",
     "text": [
      "\n"
     ]
    },
    {
     "name": "stderr",
     "output_type": "stream",
     "text": [
      "100%|██████████| 58/58 [00:07<00:00,  7.59it/s, Epoch=40, LR=0.0005, Train_Loss=0.531]  \n",
      "100%|██████████| 10/10 [00:00<00:00, 11.10it/s, Epoch=40, LR=0.0005, Valid_Loss=0.302]\n"
     ]
    },
    {
     "name": "stdout",
     "output_type": "stream",
     "text": [
      "\n"
     ]
    },
    {
     "name": "stderr",
     "output_type": "stream",
     "text": [
      "100%|██████████| 58/58 [00:07<00:00,  7.62it/s, Epoch=41, LR=0.00048, Train_Loss=0.524] \n",
      "100%|██████████| 10/10 [00:00<00:00, 10.97it/s, Epoch=41, LR=0.00048, Valid_Loss=0.299]\n"
     ]
    },
    {
     "name": "stdout",
     "output_type": "stream",
     "text": [
      "\u001b[34mValidation AUROC Improved (0.14643876337693218 ---> 0.15274673008323417)\n",
      "\n"
     ]
    },
    {
     "name": "stderr",
     "output_type": "stream",
     "text": [
      "100%|██████████| 58/58 [00:07<00:00,  7.63it/s, Epoch=42, LR=0.000461, Train_Loss=0.542]\n",
      "100%|██████████| 10/10 [00:00<00:00, 10.52it/s, Epoch=42, LR=0.000461, Valid_Loss=0.253]\n"
     ]
    },
    {
     "name": "stdout",
     "output_type": "stream",
     "text": [
      "\n"
     ]
    },
    {
     "name": "stderr",
     "output_type": "stream",
     "text": [
      "100%|██████████| 58/58 [00:07<00:00,  7.44it/s, Epoch=43, LR=0.000441, Train_Loss=0.531]\n",
      "100%|██████████| 10/10 [00:00<00:00, 11.13it/s, Epoch=43, LR=0.000441, Valid_Loss=0.262]\n"
     ]
    },
    {
     "name": "stdout",
     "output_type": "stream",
     "text": [
      "\n"
     ]
    },
    {
     "name": "stderr",
     "output_type": "stream",
     "text": [
      "100%|██████████| 58/58 [00:07<00:00,  7.78it/s, Epoch=44, LR=0.000422, Train_Loss=0.528]\n",
      "100%|██████████| 10/10 [00:00<00:00, 11.10it/s, Epoch=44, LR=0.000422, Valid_Loss=0.299]\n"
     ]
    },
    {
     "name": "stdout",
     "output_type": "stream",
     "text": [
      "\n"
     ]
    },
    {
     "name": "stderr",
     "output_type": "stream",
     "text": [
      "100%|██████████| 58/58 [00:07<00:00,  7.78it/s, Epoch=45, LR=0.000402, Train_Loss=0.548]\n",
      "100%|██████████| 10/10 [00:00<00:00, 10.55it/s, Epoch=45, LR=0.000402, Valid_Loss=0.311]\n"
     ]
    },
    {
     "name": "stdout",
     "output_type": "stream",
     "text": [
      "\n"
     ]
    },
    {
     "name": "stderr",
     "output_type": "stream",
     "text": [
      "100%|██████████| 58/58 [00:07<00:00,  7.70it/s, Epoch=46, LR=0.000383, Train_Loss=0.521]\n",
      "100%|██████████| 10/10 [00:00<00:00, 11.13it/s, Epoch=46, LR=0.000383, Valid_Loss=0.275]\n"
     ]
    },
    {
     "name": "stdout",
     "output_type": "stream",
     "text": [
      "\n"
     ]
    },
    {
     "name": "stderr",
     "output_type": "stream",
     "text": [
      "100%|██████████| 58/58 [00:07<00:00,  7.72it/s, Epoch=47, LR=0.000364, Train_Loss=0.535]\n",
      "100%|██████████| 10/10 [00:00<00:00, 11.33it/s, Epoch=47, LR=0.000364, Valid_Loss=0.388]\n"
     ]
    },
    {
     "name": "stdout",
     "output_type": "stream",
     "text": [
      "\n"
     ]
    },
    {
     "name": "stderr",
     "output_type": "stream",
     "text": [
      "100%|██████████| 58/58 [00:07<00:00,  7.54it/s, Epoch=48, LR=0.000346, Train_Loss=0.517]\n",
      "100%|██████████| 10/10 [00:00<00:00, 10.50it/s, Epoch=48, LR=0.000346, Valid_Loss=0.273]\n"
     ]
    },
    {
     "name": "stdout",
     "output_type": "stream",
     "text": [
      "\n"
     ]
    },
    {
     "name": "stderr",
     "output_type": "stream",
     "text": [
      "100%|██████████| 58/58 [00:07<00:00,  7.48it/s, Epoch=49, LR=0.000327, Train_Loss=0.552]\n",
      "100%|██████████| 10/10 [00:00<00:00, 10.75it/s, Epoch=49, LR=0.000327, Valid_Loss=0.271]\n"
     ]
    },
    {
     "name": "stdout",
     "output_type": "stream",
     "text": [
      "\n"
     ]
    },
    {
     "name": "stderr",
     "output_type": "stream",
     "text": [
      "100%|██████████| 58/58 [00:07<00:00,  7.65it/s, Epoch=50, LR=0.000309, Train_Loss=0.529]\n",
      "100%|██████████| 10/10 [00:00<00:00, 10.58it/s, Epoch=50, LR=0.000309, Valid_Loss=0.338]\n"
     ]
    },
    {
     "name": "stdout",
     "output_type": "stream",
     "text": [
      "\n"
     ]
    },
    {
     "name": "stderr",
     "output_type": "stream",
     "text": [
      "100%|██████████| 58/58 [00:07<00:00,  7.68it/s, Epoch=51, LR=0.000291, Train_Loss=0.525]\n",
      "100%|██████████| 10/10 [00:00<00:00, 11.21it/s, Epoch=51, LR=0.000291, Valid_Loss=0.336]\n"
     ]
    },
    {
     "name": "stdout",
     "output_type": "stream",
     "text": [
      "\n"
     ]
    },
    {
     "name": "stderr",
     "output_type": "stream",
     "text": [
      "100%|██████████| 58/58 [00:07<00:00,  7.69it/s, Epoch=52, LR=0.000273, Train_Loss=0.52] \n",
      "100%|██████████| 10/10 [00:00<00:00, 10.45it/s, Epoch=52, LR=0.000273, Valid_Loss=0.368]\n"
     ]
    },
    {
     "name": "stdout",
     "output_type": "stream",
     "text": [
      "\n"
     ]
    },
    {
     "name": "stderr",
     "output_type": "stream",
     "text": [
      "100%|██████████| 58/58 [00:07<00:00,  7.39it/s, Epoch=53, LR=0.000256, Train_Loss=0.51] \n",
      "100%|██████████| 10/10 [00:00<00:00, 10.87it/s, Epoch=53, LR=0.000256, Valid_Loss=0.275]\n"
     ]
    },
    {
     "name": "stdout",
     "output_type": "stream",
     "text": [
      "\n"
     ]
    },
    {
     "name": "stderr",
     "output_type": "stream",
     "text": [
      "100%|██████████| 58/58 [00:07<00:00,  7.67it/s, Epoch=54, LR=0.000239, Train_Loss=0.538]\n",
      "100%|██████████| 10/10 [00:00<00:00, 11.43it/s, Epoch=54, LR=0.000239, Valid_Loss=0.381]\n"
     ]
    },
    {
     "name": "stdout",
     "output_type": "stream",
     "text": [
      "\n"
     ]
    },
    {
     "name": "stderr",
     "output_type": "stream",
     "text": [
      "100%|██████████| 58/58 [00:07<00:00,  7.57it/s, Epoch=55, LR=0.000222, Train_Loss=0.523]\n",
      "100%|██████████| 10/10 [00:00<00:00, 10.49it/s, Epoch=55, LR=0.000222, Valid_Loss=0.334]\n"
     ]
    },
    {
     "name": "stdout",
     "output_type": "stream",
     "text": [
      "\n"
     ]
    },
    {
     "name": "stderr",
     "output_type": "stream",
     "text": [
      "100%|██████████| 58/58 [00:07<00:00,  7.64it/s, Epoch=56, LR=0.000206, Train_Loss=0.526]\n",
      "100%|██████████| 10/10 [00:00<00:00, 10.67it/s, Epoch=56, LR=0.000206, Valid_Loss=0.309]\n"
     ]
    },
    {
     "name": "stdout",
     "output_type": "stream",
     "text": [
      "\n"
     ]
    },
    {
     "name": "stderr",
     "output_type": "stream",
     "text": [
      "100%|██████████| 58/58 [00:08<00:00,  7.20it/s, Epoch=57, LR=0.000191, Train_Loss=0.552]\n",
      "100%|██████████| 10/10 [00:00<00:00, 11.57it/s, Epoch=57, LR=0.000191, Valid_Loss=0.283]\n"
     ]
    },
    {
     "name": "stdout",
     "output_type": "stream",
     "text": [
      "\n"
     ]
    },
    {
     "name": "stderr",
     "output_type": "stream",
     "text": [
      "100%|██████████| 58/58 [00:07<00:00,  7.63it/s, Epoch=58, LR=0.000175, Train_Loss=0.538]\n",
      "100%|██████████| 10/10 [00:00<00:00, 11.21it/s, Epoch=58, LR=0.000175, Valid_Loss=0.366]\n"
     ]
    },
    {
     "name": "stdout",
     "output_type": "stream",
     "text": [
      "\n"
     ]
    },
    {
     "name": "stderr",
     "output_type": "stream",
     "text": [
      "100%|██████████| 58/58 [00:07<00:00,  7.67it/s, Epoch=59, LR=0.000161, Train_Loss=0.545]\n",
      "100%|██████████| 10/10 [00:00<00:00, 11.60it/s, Epoch=59, LR=0.000161, Valid_Loss=0.342]\n"
     ]
    },
    {
     "name": "stdout",
     "output_type": "stream",
     "text": [
      "\n"
     ]
    },
    {
     "name": "stderr",
     "output_type": "stream",
     "text": [
      "100%|██████████| 58/58 [00:07<00:00,  7.63it/s, Epoch=60, LR=0.000147, Train_Loss=0.525]\n",
      "100%|██████████| 10/10 [00:00<00:00, 10.88it/s, Epoch=60, LR=0.000147, Valid_Loss=0.329]\n"
     ]
    },
    {
     "name": "stdout",
     "output_type": "stream",
     "text": [
      "\n"
     ]
    },
    {
     "name": "stderr",
     "output_type": "stream",
     "text": [
      "100%|██████████| 58/58 [00:07<00:00,  7.96it/s, Epoch=61, LR=0.000133, Train_Loss=0.348]\n",
      "100%|██████████| 10/10 [00:00<00:00, 11.07it/s, Epoch=61, LR=0.000133, Valid_Loss=0.345]\n"
     ]
    },
    {
     "name": "stdout",
     "output_type": "stream",
     "text": [
      "\u001b[34mValidation AUROC Improved (0.15274673008323417 ---> 0.15655172413793103)\n",
      "\n"
     ]
    },
    {
     "name": "stderr",
     "output_type": "stream",
     "text": [
      "100%|██████████| 58/58 [00:07<00:00,  8.17it/s, Epoch=62, LR=0.00012, Train_Loss=0.236] \n",
      "100%|██████████| 10/10 [00:00<00:00, 11.48it/s, Epoch=62, LR=0.00012, Valid_Loss=0.238]\n"
     ]
    },
    {
     "name": "stdout",
     "output_type": "stream",
     "text": [
      "\n"
     ]
    },
    {
     "name": "stderr",
     "output_type": "stream",
     "text": [
      "100%|██████████| 58/58 [00:07<00:00,  8.11it/s, Epoch=63, LR=0.000107, Train_Loss=0.206]\n",
      "100%|██████████| 10/10 [00:00<00:00, 11.17it/s, Epoch=63, LR=0.000107, Valid_Loss=0.309]\n"
     ]
    },
    {
     "name": "stdout",
     "output_type": "stream",
     "text": [
      "\n"
     ]
    },
    {
     "name": "stderr",
     "output_type": "stream",
     "text": [
      "100%|██████████| 58/58 [00:07<00:00,  8.24it/s, Epoch=64, LR=9.56e-5, Train_Loss=0.188] \n",
      "100%|██████████| 10/10 [00:00<00:00, 10.70it/s, Epoch=64, LR=9.56e-5, Valid_Loss=0.223]\n"
     ]
    },
    {
     "name": "stdout",
     "output_type": "stream",
     "text": [
      "\n"
     ]
    },
    {
     "name": "stderr",
     "output_type": "stream",
     "text": [
      "100%|██████████| 58/58 [00:07<00:00,  8.09it/s, Epoch=65, LR=8.43e-5, Train_Loss=0.158]\n",
      "100%|██████████| 10/10 [00:00<00:00, 11.64it/s, Epoch=65, LR=8.43e-5, Valid_Loss=0.27]\n"
     ]
    },
    {
     "name": "stdout",
     "output_type": "stream",
     "text": [
      "\n"
     ]
    },
    {
     "name": "stderr",
     "output_type": "stream",
     "text": [
      "100%|██████████| 58/58 [00:07<00:00,  8.10it/s, Epoch=66, LR=7.37e-5, Train_Loss=0.148]\n",
      "100%|██████████| 10/10 [00:00<00:00, 10.58it/s, Epoch=66, LR=7.37e-5, Valid_Loss=0.24]\n"
     ]
    },
    {
     "name": "stdout",
     "output_type": "stream",
     "text": [
      "\n"
     ]
    },
    {
     "name": "stderr",
     "output_type": "stream",
     "text": [
      "100%|██████████| 58/58 [00:07<00:00,  8.25it/s, Epoch=67, LR=6.38e-5, Train_Loss=0.143]\n",
      "100%|██████████| 10/10 [00:00<00:00, 11.30it/s, Epoch=67, LR=6.38e-5, Valid_Loss=0.277]\n"
     ]
    },
    {
     "name": "stdout",
     "output_type": "stream",
     "text": [
      "\n"
     ]
    },
    {
     "name": "stderr",
     "output_type": "stream",
     "text": [
      "100%|██████████| 58/58 [00:07<00:00,  8.10it/s, Epoch=68, LR=5.46e-5, Train_Loss=0.132]\n",
      "100%|██████████| 10/10 [00:00<00:00, 10.94it/s, Epoch=68, LR=5.46e-5, Valid_Loss=0.247]\n"
     ]
    },
    {
     "name": "stdout",
     "output_type": "stream",
     "text": [
      "\n"
     ]
    },
    {
     "name": "stderr",
     "output_type": "stream",
     "text": [
      "100%|██████████| 58/58 [00:07<00:00,  8.20it/s, Epoch=69, LR=4.6e-5, Train_Loss=0.117] \n",
      "100%|██████████| 10/10 [00:00<00:00, 10.42it/s, Epoch=69, LR=4.6e-5, Valid_Loss=0.237]\n"
     ]
    },
    {
     "name": "stdout",
     "output_type": "stream",
     "text": [
      "\n"
     ]
    },
    {
     "name": "stderr",
     "output_type": "stream",
     "text": [
      "100%|██████████| 58/58 [00:07<00:00,  7.96it/s, Epoch=70, LR=3.81e-5, Train_Loss=0.116]\n",
      "100%|██████████| 10/10 [00:00<00:00, 11.23it/s, Epoch=70, LR=3.81e-5, Valid_Loss=0.226]\n"
     ]
    },
    {
     "name": "stdout",
     "output_type": "stream",
     "text": [
      "\n"
     ]
    },
    {
     "name": "stderr",
     "output_type": "stream",
     "text": [
      "100%|██████████| 58/58 [00:07<00:00,  8.22it/s, Epoch=71, LR=3.1e-5, Train_Loss=0.104]  \n",
      "100%|██████████| 10/10 [00:00<00:00, 10.94it/s, Epoch=71, LR=3.1e-5, Valid_Loss=0.218]\n"
     ]
    },
    {
     "name": "stdout",
     "output_type": "stream",
     "text": [
      "\n"
     ]
    },
    {
     "name": "stderr",
     "output_type": "stream",
     "text": [
      "100%|██████████| 58/58 [00:07<00:00,  8.28it/s, Epoch=72, LR=2.45e-5, Train_Loss=0.0998]\n",
      "100%|██████████| 10/10 [00:00<00:00, 11.18it/s, Epoch=72, LR=2.45e-5, Valid_Loss=0.251]\n"
     ]
    },
    {
     "name": "stdout",
     "output_type": "stream",
     "text": [
      "\n"
     ]
    },
    {
     "name": "stderr",
     "output_type": "stream",
     "text": [
      "100%|██████████| 58/58 [00:07<00:00,  8.19it/s, Epoch=73, LR=1.88e-5, Train_Loss=0.111]\n",
      "100%|██████████| 10/10 [00:00<00:00, 10.62it/s, Epoch=73, LR=1.88e-5, Valid_Loss=0.232]\n"
     ]
    },
    {
     "name": "stdout",
     "output_type": "stream",
     "text": [
      "\n"
     ]
    },
    {
     "name": "stderr",
     "output_type": "stream",
     "text": [
      "100%|██████████| 58/58 [00:06<00:00,  8.37it/s, Epoch=74, LR=1.39e-5, Train_Loss=0.105] \n",
      "100%|██████████| 10/10 [00:00<00:00, 10.43it/s, Epoch=74, LR=1.39e-5, Valid_Loss=0.218]\n"
     ]
    },
    {
     "name": "stdout",
     "output_type": "stream",
     "text": [
      "\n"
     ]
    },
    {
     "name": "stderr",
     "output_type": "stream",
     "text": [
      "100%|██████████| 58/58 [00:07<00:00,  7.96it/s, Epoch=75, LR=9.68e-6, Train_Loss=0.0994]\n",
      "100%|██████████| 10/10 [00:00<00:00, 10.48it/s, Epoch=75, LR=9.68e-6, Valid_Loss=0.222]\n"
     ]
    },
    {
     "name": "stdout",
     "output_type": "stream",
     "text": [
      "\n"
     ]
    },
    {
     "name": "stderr",
     "output_type": "stream",
     "text": [
      "100%|██████████| 58/58 [00:07<00:00,  8.23it/s, Epoch=76, LR=6.23e-6, Train_Loss=0.0917]\n",
      "100%|██████████| 10/10 [00:00<00:00, 11.17it/s, Epoch=76, LR=6.23e-6, Valid_Loss=0.224]\n"
     ]
    },
    {
     "name": "stdout",
     "output_type": "stream",
     "text": [
      "\n"
     ]
    },
    {
     "name": "stderr",
     "output_type": "stream",
     "text": [
      "100%|██████████| 58/58 [00:07<00:00,  8.17it/s, Epoch=77, LR=3.54e-6, Train_Loss=0.0965]\n",
      "100%|██████████| 10/10 [00:00<00:00, 10.67it/s, Epoch=77, LR=3.54e-6, Valid_Loss=0.238]\n"
     ]
    },
    {
     "name": "stdout",
     "output_type": "stream",
     "text": [
      "\n"
     ]
    },
    {
     "name": "stderr",
     "output_type": "stream",
     "text": [
      "100%|██████████| 58/58 [00:07<00:00,  8.26it/s, Epoch=78, LR=1.61e-6, Train_Loss=0.0865]\n",
      "100%|██████████| 10/10 [00:00<00:00, 10.44it/s, Epoch=78, LR=1.61e-6, Valid_Loss=0.224]\n"
     ]
    },
    {
     "name": "stdout",
     "output_type": "stream",
     "text": [
      "\n"
     ]
    },
    {
     "name": "stderr",
     "output_type": "stream",
     "text": [
      "100%|██████████| 58/58 [00:07<00:00,  8.16it/s, Epoch=79, LR=4.55e-7, Train_Loss=0.0891]\n",
      "100%|██████████| 10/10 [00:00<00:00, 11.34it/s, Epoch=79, LR=4.55e-7, Valid_Loss=0.24]\n"
     ]
    },
    {
     "name": "stdout",
     "output_type": "stream",
     "text": [
      "\n"
     ]
    },
    {
     "name": "stderr",
     "output_type": "stream",
     "text": [
      "100%|██████████| 58/58 [00:07<00:00,  8.14it/s, Epoch=80, LR=7e-8, Train_Loss=0.0979]   \n",
      "100%|██████████| 10/10 [00:00<00:00, 10.69it/s, Epoch=80, LR=7e-8, Valid_Loss=0.225]\n"
     ]
    },
    {
     "name": "stdout",
     "output_type": "stream",
     "text": [
      "\n",
      "Training complete in 0h 12m 44s\n",
      "Best AUROC: 0.1566\n",
      "==============================\n",
      "fold 3\n",
      "==============================\n",
      "Downsample before 1st stage: 325237\n",
      "Downsample after 1st stage: 122449\n",
      "●train\n",
      "original> (325562, 58) 325 (833,)\n",
      "filtered> (3575, 58) 325 (771,)\n",
      "●val\n",
      "original> (75497, 58) 68 (209,)\n",
      "filtered> (1428, 58) 68 (190,)\n",
      "[INFO] Using GPU: NVIDIA GeForce RTX 4090\n",
      "\n"
     ]
    },
    {
     "name": "stderr",
     "output_type": "stream",
     "text": [
      "100%|██████████| 56/56 [00:07<00:00,  7.30it/s, Epoch=1, LR=0.001, Train_Loss=0.638]\n",
      "100%|██████████| 12/12 [00:01<00:00, 10.81it/s, Epoch=1, LR=0.001, Valid_Loss=0.326]\n"
     ]
    },
    {
     "name": "stdout",
     "output_type": "stream",
     "text": [
      "\u001b[34mValidation AUROC Improved (-inf ---> 0.08608131487889271)\n",
      "\n"
     ]
    },
    {
     "name": "stderr",
     "output_type": "stream",
     "text": [
      "100%|██████████| 56/56 [00:07<00:00,  7.51it/s, Epoch=2, LR=0.000998, Train_Loss=0.615]\n",
      "100%|██████████| 12/12 [00:01<00:00, 11.39it/s, Epoch=2, LR=0.000998, Valid_Loss=0.518]\n"
     ]
    },
    {
     "name": "stdout",
     "output_type": "stream",
     "text": [
      "\u001b[34mValidation AUROC Improved (0.08608131487889271 ---> 0.08743079584775082)\n",
      "\n"
     ]
    },
    {
     "name": "stderr",
     "output_type": "stream",
     "text": [
      "100%|██████████| 56/56 [00:07<00:00,  7.66it/s, Epoch=3, LR=0.000997, Train_Loss=0.629]\n",
      "100%|██████████| 12/12 [00:00<00:00, 12.26it/s, Epoch=3, LR=0.000997, Valid_Loss=0.29] \n"
     ]
    },
    {
     "name": "stdout",
     "output_type": "stream",
     "text": [
      "\u001b[34mValidation AUROC Improved (0.08743079584775082 ---> 0.10937716262975775)\n",
      "\n"
     ]
    },
    {
     "name": "stderr",
     "output_type": "stream",
     "text": [
      "100%|██████████| 56/56 [00:07<00:00,  7.68it/s, Epoch=4, LR=0.000994, Train_Loss=0.578]\n",
      "100%|██████████| 12/12 [00:01<00:00, 11.71it/s, Epoch=4, LR=0.000994, Valid_Loss=0.279]\n"
     ]
    },
    {
     "name": "stdout",
     "output_type": "stream",
     "text": [
      "\u001b[34mValidation AUROC Improved (0.10937716262975775 ---> 0.11252378892733557)\n",
      "\n"
     ]
    },
    {
     "name": "stderr",
     "output_type": "stream",
     "text": [
      "100%|██████████| 56/56 [00:07<00:00,  7.67it/s, Epoch=5, LR=0.00099, Train_Loss=0.596] \n",
      "100%|██████████| 12/12 [00:01<00:00, 11.28it/s, Epoch=5, LR=0.00099, Valid_Loss=0.325]\n"
     ]
    },
    {
     "name": "stdout",
     "output_type": "stream",
     "text": [
      "\u001b[34mValidation AUROC Improved (0.11252378892733557 ---> 0.1135229238754325)\n",
      "\n"
     ]
    },
    {
     "name": "stderr",
     "output_type": "stream",
     "text": [
      "100%|██████████| 56/56 [00:07<00:00,  7.72it/s, Epoch=6, LR=0.000986, Train_Loss=0.588]\n",
      "100%|██████████| 12/12 [00:00<00:00, 12.25it/s, Epoch=6, LR=0.000986, Valid_Loss=0.33] \n"
     ]
    },
    {
     "name": "stdout",
     "output_type": "stream",
     "text": [
      "\u001b[34mValidation AUROC Improved (0.1135229238754325 ---> 0.14172577854671278)\n",
      "\n"
     ]
    },
    {
     "name": "stderr",
     "output_type": "stream",
     "text": [
      "100%|██████████| 56/56 [00:07<00:00,  7.62it/s, Epoch=7, LR=0.000981, Train_Loss=0.572]\n",
      "100%|██████████| 12/12 [00:00<00:00, 12.36it/s, Epoch=7, LR=0.000981, Valid_Loss=0.337]\n"
     ]
    },
    {
     "name": "stdout",
     "output_type": "stream",
     "text": [
      "\n"
     ]
    },
    {
     "name": "stderr",
     "output_type": "stream",
     "text": [
      "100%|██████████| 56/56 [00:07<00:00,  7.67it/s, Epoch=8, LR=0.000976, Train_Loss=0.59] \n",
      "100%|██████████| 12/12 [00:01<00:00, 11.21it/s, Epoch=8, LR=0.000976, Valid_Loss=0.338]\n"
     ]
    },
    {
     "name": "stdout",
     "output_type": "stream",
     "text": [
      "\n"
     ]
    },
    {
     "name": "stderr",
     "output_type": "stream",
     "text": [
      "100%|██████████| 56/56 [00:07<00:00,  7.51it/s, Epoch=9, LR=0.000969, Train_Loss=0.602]\n",
      "100%|██████████| 12/12 [00:01<00:00, 11.81it/s, Epoch=9, LR=0.000969, Valid_Loss=0.378]\n"
     ]
    },
    {
     "name": "stdout",
     "output_type": "stream",
     "text": [
      "\n"
     ]
    },
    {
     "name": "stderr",
     "output_type": "stream",
     "text": [
      "100%|██████████| 56/56 [00:07<00:00,  7.70it/s, Epoch=10, LR=0.000962, Train_Loss=0.589]\n",
      "100%|██████████| 12/12 [00:00<00:00, 12.16it/s, Epoch=10, LR=0.000962, Valid_Loss=0.342]\n"
     ]
    },
    {
     "name": "stdout",
     "output_type": "stream",
     "text": [
      "\u001b[34mValidation AUROC Improved (0.14172577854671278 ---> 0.14604238754325255)\n",
      "\n"
     ]
    },
    {
     "name": "stderr",
     "output_type": "stream",
     "text": [
      "100%|██████████| 56/56 [00:07<00:00,  7.60it/s, Epoch=11, LR=0.000954, Train_Loss=0.585]\n",
      "100%|██████████| 12/12 [00:00<00:00, 12.09it/s, Epoch=11, LR=0.000954, Valid_Loss=0.406]\n"
     ]
    },
    {
     "name": "stdout",
     "output_type": "stream",
     "text": [
      "\n"
     ]
    },
    {
     "name": "stderr",
     "output_type": "stream",
     "text": [
      "100%|██████████| 56/56 [00:07<00:00,  7.55it/s, Epoch=12, LR=0.000946, Train_Loss=0.555]\n",
      "100%|██████████| 12/12 [00:01<00:00, 11.46it/s, Epoch=12, LR=0.000946, Valid_Loss=0.324]\n"
     ]
    },
    {
     "name": "stdout",
     "output_type": "stream",
     "text": [
      "\u001b[34mValidation AUROC Improved (0.14604238754325255 ---> 0.14892084775086506)\n",
      "\n"
     ]
    },
    {
     "name": "stderr",
     "output_type": "stream",
     "text": [
      "100%|██████████| 56/56 [00:07<00:00,  7.37it/s, Epoch=13, LR=0.000936, Train_Loss=0.566]\n",
      "100%|██████████| 12/12 [00:01<00:00, 11.63it/s, Epoch=13, LR=0.000936, Valid_Loss=0.331]\n"
     ]
    },
    {
     "name": "stdout",
     "output_type": "stream",
     "text": [
      "\n"
     ]
    },
    {
     "name": "stderr",
     "output_type": "stream",
     "text": [
      "100%|██████████| 56/56 [00:07<00:00,  7.26it/s, Epoch=14, LR=0.000926, Train_Loss=0.6]  \n",
      "100%|██████████| 12/12 [00:00<00:00, 12.43it/s, Epoch=14, LR=0.000926, Valid_Loss=0.367]\n"
     ]
    },
    {
     "name": "stdout",
     "output_type": "stream",
     "text": [
      "\n"
     ]
    },
    {
     "name": "stderr",
     "output_type": "stream",
     "text": [
      "100%|██████████| 56/56 [00:07<00:00,  7.61it/s, Epoch=15, LR=0.000916, Train_Loss=0.578]\n",
      "100%|██████████| 12/12 [00:01<00:00, 11.33it/s, Epoch=15, LR=0.000916, Valid_Loss=0.34] \n"
     ]
    },
    {
     "name": "stdout",
     "output_type": "stream",
     "text": [
      "\n"
     ]
    },
    {
     "name": "stderr",
     "output_type": "stream",
     "text": [
      "100%|██████████| 56/56 [00:07<00:00,  7.41it/s, Epoch=16, LR=0.000905, Train_Loss=0.568]\n",
      "100%|██████████| 12/12 [00:01<00:00, 11.69it/s, Epoch=16, LR=0.000905, Valid_Loss=0.361]\n"
     ]
    },
    {
     "name": "stdout",
     "output_type": "stream",
     "text": [
      "\n"
     ]
    },
    {
     "name": "stderr",
     "output_type": "stream",
     "text": [
      "100%|██████████| 56/56 [00:07<00:00,  7.60it/s, Epoch=17, LR=0.000893, Train_Loss=0.587]\n",
      "100%|██████████| 12/12 [00:01<00:00, 11.55it/s, Epoch=17, LR=0.000893, Valid_Loss=0.312]\n"
     ]
    },
    {
     "name": "stdout",
     "output_type": "stream",
     "text": [
      "\n"
     ]
    },
    {
     "name": "stderr",
     "output_type": "stream",
     "text": [
      "100%|██████████| 56/56 [00:07<00:00,  7.11it/s, Epoch=18, LR=0.00088, Train_Loss=0.55]  \n",
      "100%|██████████| 12/12 [00:01<00:00, 11.14it/s, Epoch=18, LR=0.00088, Valid_Loss=0.311]\n"
     ]
    },
    {
     "name": "stdout",
     "output_type": "stream",
     "text": [
      "\n"
     ]
    },
    {
     "name": "stderr",
     "output_type": "stream",
     "text": [
      "100%|██████████| 56/56 [00:07<00:00,  7.31it/s, Epoch=19, LR=0.000867, Train_Loss=0.549]\n",
      "100%|██████████| 12/12 [00:01<00:00, 11.85it/s, Epoch=19, LR=0.000867, Valid_Loss=0.297]\n"
     ]
    },
    {
     "name": "stdout",
     "output_type": "stream",
     "text": [
      "\u001b[34mValidation AUROC Improved (0.14892084775086506 ---> 0.15384515570934254)\n",
      "\n"
     ]
    },
    {
     "name": "stderr",
     "output_type": "stream",
     "text": [
      "100%|██████████| 56/56 [00:07<00:00,  7.57it/s, Epoch=20, LR=0.000854, Train_Loss=0.565]\n",
      "100%|██████████| 12/12 [00:01<00:00, 11.39it/s, Epoch=20, LR=0.000854, Valid_Loss=0.289]\n"
     ]
    },
    {
     "name": "stdout",
     "output_type": "stream",
     "text": [
      "\n"
     ]
    },
    {
     "name": "stderr",
     "output_type": "stream",
     "text": [
      "100%|██████████| 56/56 [00:07<00:00,  7.44it/s, Epoch=21, LR=0.000839, Train_Loss=0.578]\n",
      "100%|██████████| 12/12 [00:01<00:00, 11.59it/s, Epoch=21, LR=0.000839, Valid_Loss=0.395]\n"
     ]
    },
    {
     "name": "stdout",
     "output_type": "stream",
     "text": [
      "\n"
     ]
    },
    {
     "name": "stderr",
     "output_type": "stream",
     "text": [
      "100%|██████████| 56/56 [00:07<00:00,  7.05it/s, Epoch=22, LR=0.000825, Train_Loss=0.571]\n",
      "100%|██████████| 12/12 [00:01<00:00, 11.31it/s, Epoch=22, LR=0.000825, Valid_Loss=0.387]\n"
     ]
    },
    {
     "name": "stdout",
     "output_type": "stream",
     "text": [
      "\n"
     ]
    },
    {
     "name": "stderr",
     "output_type": "stream",
     "text": [
      "100%|██████████| 56/56 [00:07<00:00,  7.14it/s, Epoch=23, LR=0.00081, Train_Loss=0.559] \n",
      "100%|██████████| 12/12 [00:01<00:00, 11.40it/s, Epoch=23, LR=0.00081, Valid_Loss=0.332]\n"
     ]
    },
    {
     "name": "stdout",
     "output_type": "stream",
     "text": [
      "\n"
     ]
    },
    {
     "name": "stderr",
     "output_type": "stream",
     "text": [
      "100%|██████████| 56/56 [00:07<00:00,  7.47it/s, Epoch=24, LR=0.000794, Train_Loss=0.548]\n",
      "100%|██████████| 12/12 [00:01<00:00, 11.66it/s, Epoch=24, LR=0.000794, Valid_Loss=0.275]\n"
     ]
    },
    {
     "name": "stdout",
     "output_type": "stream",
     "text": [
      "\n"
     ]
    },
    {
     "name": "stderr",
     "output_type": "stream",
     "text": [
      "100%|██████████| 56/56 [00:07<00:00,  7.68it/s, Epoch=25, LR=0.000778, Train_Loss=0.548]\n",
      "100%|██████████| 12/12 [00:01<00:00, 11.61it/s, Epoch=25, LR=0.000778, Valid_Loss=0.278]\n"
     ]
    },
    {
     "name": "stdout",
     "output_type": "stream",
     "text": [
      "\n"
     ]
    },
    {
     "name": "stderr",
     "output_type": "stream",
     "text": [
      "100%|██████████| 56/56 [00:07<00:00,  7.55it/s, Epoch=26, LR=0.000761, Train_Loss=0.551]\n",
      "100%|██████████| 12/12 [00:01<00:00, 11.02it/s, Epoch=26, LR=0.000761, Valid_Loss=0.319]\n"
     ]
    },
    {
     "name": "stdout",
     "output_type": "stream",
     "text": [
      "\n"
     ]
    },
    {
     "name": "stderr",
     "output_type": "stream",
     "text": [
      "100%|██████████| 56/56 [00:07<00:00,  7.61it/s, Epoch=27, LR=0.000744, Train_Loss=0.549]\n",
      "100%|██████████| 12/12 [00:00<00:00, 12.32it/s, Epoch=27, LR=0.000744, Valid_Loss=0.28] \n"
     ]
    },
    {
     "name": "stdout",
     "output_type": "stream",
     "text": [
      "\n"
     ]
    },
    {
     "name": "stderr",
     "output_type": "stream",
     "text": [
      "100%|██████████| 56/56 [00:07<00:00,  7.52it/s, Epoch=28, LR=0.000727, Train_Loss=0.58] \n",
      "100%|██████████| 12/12 [00:01<00:00, 11.77it/s, Epoch=28, LR=0.000727, Valid_Loss=0.286]\n"
     ]
    },
    {
     "name": "stdout",
     "output_type": "stream",
     "text": [
      "\n"
     ]
    },
    {
     "name": "stderr",
     "output_type": "stream",
     "text": [
      "100%|██████████| 56/56 [00:07<00:00,  7.57it/s, Epoch=29, LR=0.000709, Train_Loss=0.584]\n",
      "100%|██████████| 12/12 [00:01<00:00, 11.42it/s, Epoch=29, LR=0.000709, Valid_Loss=0.382]\n"
     ]
    },
    {
     "name": "stdout",
     "output_type": "stream",
     "text": [
      "\n"
     ]
    },
    {
     "name": "stderr",
     "output_type": "stream",
     "text": [
      "100%|██████████| 56/56 [00:07<00:00,  7.64it/s, Epoch=30, LR=0.000691, Train_Loss=0.522]\n",
      "100%|██████████| 12/12 [00:01<00:00, 11.58it/s, Epoch=30, LR=0.000691, Valid_Loss=0.314]\n"
     ]
    },
    {
     "name": "stdout",
     "output_type": "stream",
     "text": [
      "\n"
     ]
    },
    {
     "name": "stderr",
     "output_type": "stream",
     "text": [
      "100%|██████████| 56/56 [00:07<00:00,  7.75it/s, Epoch=31, LR=0.000673, Train_Loss=0.541]\n",
      "100%|██████████| 12/12 [00:00<00:00, 12.30it/s, Epoch=31, LR=0.000673, Valid_Loss=0.367]\n"
     ]
    },
    {
     "name": "stdout",
     "output_type": "stream",
     "text": [
      "\n"
     ]
    },
    {
     "name": "stderr",
     "output_type": "stream",
     "text": [
      "100%|██████████| 56/56 [00:07<00:00,  7.51it/s, Epoch=32, LR=0.000655, Train_Loss=0.536]\n",
      "100%|██████████| 12/12 [00:00<00:00, 12.05it/s, Epoch=32, LR=0.000655, Valid_Loss=0.283]\n"
     ]
    },
    {
     "name": "stdout",
     "output_type": "stream",
     "text": [
      "\n"
     ]
    },
    {
     "name": "stderr",
     "output_type": "stream",
     "text": [
      "100%|██████████| 56/56 [00:07<00:00,  7.69it/s, Epoch=33, LR=0.000636, Train_Loss=0.527]\n",
      "100%|██████████| 12/12 [00:00<00:00, 12.15it/s, Epoch=33, LR=0.000636, Valid_Loss=0.233]\n"
     ]
    },
    {
     "name": "stdout",
     "output_type": "stream",
     "text": [
      "\n"
     ]
    },
    {
     "name": "stderr",
     "output_type": "stream",
     "text": [
      "100%|██████████| 56/56 [00:07<00:00,  7.48it/s, Epoch=34, LR=0.000617, Train_Loss=0.574]\n",
      "100%|██████████| 12/12 [00:00<00:00, 12.22it/s, Epoch=34, LR=0.000617, Valid_Loss=0.424]\n"
     ]
    },
    {
     "name": "stdout",
     "output_type": "stream",
     "text": [
      "\n"
     ]
    },
    {
     "name": "stderr",
     "output_type": "stream",
     "text": [
      "100%|██████████| 56/56 [00:07<00:00,  7.41it/s, Epoch=35, LR=0.000598, Train_Loss=0.56] \n",
      "100%|██████████| 12/12 [00:01<00:00, 11.74it/s, Epoch=35, LR=0.000598, Valid_Loss=0.391]\n"
     ]
    },
    {
     "name": "stdout",
     "output_type": "stream",
     "text": [
      "\n"
     ]
    },
    {
     "name": "stderr",
     "output_type": "stream",
     "text": [
      "100%|██████████| 56/56 [00:07<00:00,  7.53it/s, Epoch=36, LR=0.000578, Train_Loss=0.535]\n",
      "100%|██████████| 12/12 [00:01<00:00, 11.20it/s, Epoch=36, LR=0.000578, Valid_Loss=0.285]\n"
     ]
    },
    {
     "name": "stdout",
     "output_type": "stream",
     "text": [
      "\n"
     ]
    },
    {
     "name": "stderr",
     "output_type": "stream",
     "text": [
      "100%|██████████| 56/56 [00:07<00:00,  7.53it/s, Epoch=37, LR=0.000559, Train_Loss=0.525]\n",
      "100%|██████████| 12/12 [00:00<00:00, 12.07it/s, Epoch=37, LR=0.000559, Valid_Loss=0.328]\n"
     ]
    },
    {
     "name": "stdout",
     "output_type": "stream",
     "text": [
      "\n"
     ]
    },
    {
     "name": "stderr",
     "output_type": "stream",
     "text": [
      "100%|██████████| 56/56 [00:07<00:00,  7.56it/s, Epoch=38, LR=0.000539, Train_Loss=0.535]\n",
      "100%|██████████| 12/12 [00:01<00:00, 11.25it/s, Epoch=38, LR=0.000539, Valid_Loss=0.376]\n"
     ]
    },
    {
     "name": "stdout",
     "output_type": "stream",
     "text": [
      "\n"
     ]
    },
    {
     "name": "stderr",
     "output_type": "stream",
     "text": [
      "100%|██████████| 56/56 [00:07<00:00,  7.51it/s, Epoch=39, LR=0.00052, Train_Loss=0.548] \n",
      "100%|██████████| 12/12 [00:00<00:00, 12.20it/s, Epoch=39, LR=0.00052, Valid_Loss=0.316]\n"
     ]
    },
    {
     "name": "stdout",
     "output_type": "stream",
     "text": [
      "\n"
     ]
    },
    {
     "name": "stderr",
     "output_type": "stream",
     "text": [
      "100%|██████████| 56/56 [00:07<00:00,  7.44it/s, Epoch=40, LR=0.0005, Train_Loss=0.529]  \n",
      "100%|██████████| 12/12 [00:01<00:00, 11.62it/s, Epoch=40, LR=0.0005, Valid_Loss=0.262]\n"
     ]
    },
    {
     "name": "stdout",
     "output_type": "stream",
     "text": [
      "\n"
     ]
    },
    {
     "name": "stderr",
     "output_type": "stream",
     "text": [
      "100%|██████████| 56/56 [00:07<00:00,  7.32it/s, Epoch=41, LR=0.00048, Train_Loss=0.537] \n",
      "100%|██████████| 12/12 [00:01<00:00, 11.20it/s, Epoch=41, LR=0.00048, Valid_Loss=0.322]\n"
     ]
    },
    {
     "name": "stdout",
     "output_type": "stream",
     "text": [
      "\n"
     ]
    },
    {
     "name": "stderr",
     "output_type": "stream",
     "text": [
      "100%|██████████| 56/56 [00:07<00:00,  7.40it/s, Epoch=42, LR=0.000461, Train_Loss=0.54] \n",
      "100%|██████████| 12/12 [00:01<00:00, 11.37it/s, Epoch=42, LR=0.000461, Valid_Loss=0.269]\n"
     ]
    },
    {
     "name": "stdout",
     "output_type": "stream",
     "text": [
      "\n"
     ]
    },
    {
     "name": "stderr",
     "output_type": "stream",
     "text": [
      "100%|██████████| 56/56 [00:07<00:00,  7.50it/s, Epoch=43, LR=0.000441, Train_Loss=0.551]\n",
      "100%|██████████| 12/12 [00:01<00:00, 11.83it/s, Epoch=43, LR=0.000441, Valid_Loss=0.335]\n"
     ]
    },
    {
     "name": "stdout",
     "output_type": "stream",
     "text": [
      "\n"
     ]
    },
    {
     "name": "stderr",
     "output_type": "stream",
     "text": [
      "100%|██████████| 56/56 [00:07<00:00,  7.71it/s, Epoch=44, LR=0.000422, Train_Loss=0.542]\n",
      "100%|██████████| 12/12 [00:01<00:00, 11.63it/s, Epoch=44, LR=0.000422, Valid_Loss=0.291]\n"
     ]
    },
    {
     "name": "stdout",
     "output_type": "stream",
     "text": [
      "\n"
     ]
    },
    {
     "name": "stderr",
     "output_type": "stream",
     "text": [
      "100%|██████████| 56/56 [00:07<00:00,  7.68it/s, Epoch=45, LR=0.000402, Train_Loss=0.528]\n",
      "100%|██████████| 12/12 [00:01<00:00, 11.31it/s, Epoch=45, LR=0.000402, Valid_Loss=0.28] \n"
     ]
    },
    {
     "name": "stdout",
     "output_type": "stream",
     "text": [
      "\n"
     ]
    },
    {
     "name": "stderr",
     "output_type": "stream",
     "text": [
      "100%|██████████| 56/56 [00:07<00:00,  7.51it/s, Epoch=46, LR=0.000383, Train_Loss=0.562]\n",
      "100%|██████████| 12/12 [00:01<00:00, 11.35it/s, Epoch=46, LR=0.000383, Valid_Loss=0.325]\n"
     ]
    },
    {
     "name": "stdout",
     "output_type": "stream",
     "text": [
      "\n"
     ]
    },
    {
     "name": "stderr",
     "output_type": "stream",
     "text": [
      "100%|██████████| 56/56 [00:07<00:00,  7.54it/s, Epoch=47, LR=0.000364, Train_Loss=0.558]\n",
      "100%|██████████| 12/12 [00:00<00:00, 12.06it/s, Epoch=47, LR=0.000364, Valid_Loss=0.397]\n"
     ]
    },
    {
     "name": "stdout",
     "output_type": "stream",
     "text": [
      "\n"
     ]
    },
    {
     "name": "stderr",
     "output_type": "stream",
     "text": [
      "100%|██████████| 56/56 [00:07<00:00,  7.61it/s, Epoch=48, LR=0.000346, Train_Loss=0.54] \n",
      "100%|██████████| 12/12 [00:01<00:00, 11.58it/s, Epoch=48, LR=0.000346, Valid_Loss=0.28] \n"
     ]
    },
    {
     "name": "stdout",
     "output_type": "stream",
     "text": [
      "\n"
     ]
    },
    {
     "name": "stderr",
     "output_type": "stream",
     "text": [
      "100%|██████████| 56/56 [00:07<00:00,  7.53it/s, Epoch=49, LR=0.000327, Train_Loss=0.531]\n",
      "100%|██████████| 12/12 [00:01<00:00, 11.71it/s, Epoch=49, LR=0.000327, Valid_Loss=0.333]\n"
     ]
    },
    {
     "name": "stdout",
     "output_type": "stream",
     "text": [
      "\n"
     ]
    },
    {
     "name": "stderr",
     "output_type": "stream",
     "text": [
      "100%|██████████| 56/56 [00:07<00:00,  7.50it/s, Epoch=50, LR=0.000309, Train_Loss=0.559]\n",
      "100%|██████████| 12/12 [00:01<00:00, 11.52it/s, Epoch=50, LR=0.000309, Valid_Loss=0.349]\n"
     ]
    },
    {
     "name": "stdout",
     "output_type": "stream",
     "text": [
      "\n"
     ]
    },
    {
     "name": "stderr",
     "output_type": "stream",
     "text": [
      "100%|██████████| 56/56 [00:07<00:00,  7.43it/s, Epoch=51, LR=0.000291, Train_Loss=0.538]\n",
      "100%|██████████| 12/12 [00:00<00:00, 12.21it/s, Epoch=51, LR=0.000291, Valid_Loss=0.352]\n"
     ]
    },
    {
     "name": "stdout",
     "output_type": "stream",
     "text": [
      "\n"
     ]
    },
    {
     "name": "stderr",
     "output_type": "stream",
     "text": [
      "100%|██████████| 56/56 [00:07<00:00,  7.60it/s, Epoch=52, LR=0.000273, Train_Loss=0.551]\n",
      "100%|██████████| 12/12 [00:01<00:00, 11.36it/s, Epoch=52, LR=0.000273, Valid_Loss=0.301]\n"
     ]
    },
    {
     "name": "stdout",
     "output_type": "stream",
     "text": [
      "\u001b[34mValidation AUROC Improved (0.15384515570934254 ---> 0.15858131487889268)\n",
      "\n"
     ]
    },
    {
     "name": "stderr",
     "output_type": "stream",
     "text": [
      "100%|██████████| 56/56 [00:07<00:00,  7.45it/s, Epoch=53, LR=0.000256, Train_Loss=0.492]\n",
      "100%|██████████| 12/12 [00:00<00:00, 12.23it/s, Epoch=53, LR=0.000256, Valid_Loss=0.236]\n"
     ]
    },
    {
     "name": "stdout",
     "output_type": "stream",
     "text": [
      "\n"
     ]
    },
    {
     "name": "stderr",
     "output_type": "stream",
     "text": [
      "100%|██████████| 56/56 [00:07<00:00,  7.76it/s, Epoch=54, LR=0.000239, Train_Loss=0.551]\n",
      "100%|██████████| 12/12 [00:01<00:00, 11.44it/s, Epoch=54, LR=0.000239, Valid_Loss=0.37] \n"
     ]
    },
    {
     "name": "stdout",
     "output_type": "stream",
     "text": [
      "\n"
     ]
    },
    {
     "name": "stderr",
     "output_type": "stream",
     "text": [
      "100%|██████████| 56/56 [00:07<00:00,  7.58it/s, Epoch=55, LR=0.000222, Train_Loss=0.54] \n",
      "100%|██████████| 12/12 [00:01<00:00, 11.83it/s, Epoch=55, LR=0.000222, Valid_Loss=0.28]\n"
     ]
    },
    {
     "name": "stdout",
     "output_type": "stream",
     "text": [
      "\n"
     ]
    },
    {
     "name": "stderr",
     "output_type": "stream",
     "text": [
      "100%|██████████| 56/56 [00:07<00:00,  7.66it/s, Epoch=56, LR=0.000206, Train_Loss=0.517]\n",
      "100%|██████████| 12/12 [00:00<00:00, 12.00it/s, Epoch=56, LR=0.000206, Valid_Loss=0.348]\n"
     ]
    },
    {
     "name": "stdout",
     "output_type": "stream",
     "text": [
      "\n"
     ]
    },
    {
     "name": "stderr",
     "output_type": "stream",
     "text": [
      "100%|██████████| 56/56 [00:07<00:00,  7.52it/s, Epoch=57, LR=0.000191, Train_Loss=0.541]\n",
      "100%|██████████| 12/12 [00:01<00:00, 11.47it/s, Epoch=57, LR=0.000191, Valid_Loss=0.296]\n"
     ]
    },
    {
     "name": "stdout",
     "output_type": "stream",
     "text": [
      "\n"
     ]
    },
    {
     "name": "stderr",
     "output_type": "stream",
     "text": [
      "100%|██████████| 56/56 [00:07<00:00,  7.44it/s, Epoch=58, LR=0.000175, Train_Loss=0.533]\n",
      "100%|██████████| 12/12 [00:01<00:00, 11.43it/s, Epoch=58, LR=0.000175, Valid_Loss=0.323]\n"
     ]
    },
    {
     "name": "stdout",
     "output_type": "stream",
     "text": [
      "\n"
     ]
    },
    {
     "name": "stderr",
     "output_type": "stream",
     "text": [
      "100%|██████████| 56/56 [00:07<00:00,  7.53it/s, Epoch=59, LR=0.000161, Train_Loss=0.51] \n",
      "100%|██████████| 12/12 [00:01<00:00, 11.55it/s, Epoch=59, LR=0.000161, Valid_Loss=0.325]\n"
     ]
    },
    {
     "name": "stdout",
     "output_type": "stream",
     "text": [
      "\n"
     ]
    },
    {
     "name": "stderr",
     "output_type": "stream",
     "text": [
      "100%|██████████| 56/56 [00:07<00:00,  7.40it/s, Epoch=60, LR=0.000147, Train_Loss=0.498]\n",
      "100%|██████████| 12/12 [00:01<00:00, 11.22it/s, Epoch=60, LR=0.000147, Valid_Loss=0.213]\n"
     ]
    },
    {
     "name": "stdout",
     "output_type": "stream",
     "text": [
      "\n"
     ]
    },
    {
     "name": "stderr",
     "output_type": "stream",
     "text": [
      "100%|██████████| 56/56 [00:06<00:00,  8.14it/s, Epoch=61, LR=0.000133, Train_Loss=0.323]\n",
      "100%|██████████| 12/12 [00:01<00:00, 11.39it/s, Epoch=61, LR=0.000133, Valid_Loss=0.227]\n"
     ]
    },
    {
     "name": "stdout",
     "output_type": "stream",
     "text": [
      "\n"
     ]
    },
    {
     "name": "stderr",
     "output_type": "stream",
     "text": [
      "100%|██████████| 56/56 [00:07<00:00,  7.85it/s, Epoch=62, LR=0.00012, Train_Loss=0.19]  \n",
      "100%|██████████| 12/12 [00:00<00:00, 12.08it/s, Epoch=62, LR=0.00012, Valid_Loss=0.236]\n"
     ]
    },
    {
     "name": "stdout",
     "output_type": "stream",
     "text": [
      "\n"
     ]
    },
    {
     "name": "stderr",
     "output_type": "stream",
     "text": [
      "100%|██████████| 56/56 [00:07<00:00,  7.94it/s, Epoch=63, LR=0.000107, Train_Loss=0.173]\n",
      "100%|██████████| 12/12 [00:01<00:00, 11.54it/s, Epoch=63, LR=0.000107, Valid_Loss=0.221]\n"
     ]
    },
    {
     "name": "stdout",
     "output_type": "stream",
     "text": [
      "\n"
     ]
    },
    {
     "name": "stderr",
     "output_type": "stream",
     "text": [
      "100%|██████████| 56/56 [00:07<00:00,  7.87it/s, Epoch=64, LR=9.56e-5, Train_Loss=0.15]  \n",
      "100%|██████████| 12/12 [00:01<00:00, 11.28it/s, Epoch=64, LR=9.56e-5, Valid_Loss=0.197]\n"
     ]
    },
    {
     "name": "stdout",
     "output_type": "stream",
     "text": [
      "\n"
     ]
    },
    {
     "name": "stderr",
     "output_type": "stream",
     "text": [
      "100%|██████████| 56/56 [00:06<00:00,  8.12it/s, Epoch=65, LR=8.43e-5, Train_Loss=0.136]\n",
      "100%|██████████| 12/12 [00:01<00:00, 11.08it/s, Epoch=65, LR=8.43e-5, Valid_Loss=0.192]\n"
     ]
    },
    {
     "name": "stdout",
     "output_type": "stream",
     "text": [
      "\n"
     ]
    },
    {
     "name": "stderr",
     "output_type": "stream",
     "text": [
      "100%|██████████| 56/56 [00:06<00:00,  8.09it/s, Epoch=66, LR=7.37e-5, Train_Loss=0.114]\n",
      "100%|██████████| 12/12 [00:01<00:00, 11.49it/s, Epoch=66, LR=7.37e-5, Valid_Loss=0.192]\n"
     ]
    },
    {
     "name": "stdout",
     "output_type": "stream",
     "text": [
      "\n"
     ]
    },
    {
     "name": "stderr",
     "output_type": "stream",
     "text": [
      "100%|██████████| 56/56 [00:06<00:00,  8.16it/s, Epoch=67, LR=6.38e-5, Train_Loss=0.107]\n",
      "100%|██████████| 12/12 [00:00<00:00, 12.34it/s, Epoch=67, LR=6.38e-5, Valid_Loss=0.216]\n"
     ]
    },
    {
     "name": "stdout",
     "output_type": "stream",
     "text": [
      "\n"
     ]
    },
    {
     "name": "stderr",
     "output_type": "stream",
     "text": [
      "100%|██████████| 56/56 [00:07<00:00,  7.77it/s, Epoch=68, LR=5.46e-5, Train_Loss=0.103] \n",
      "100%|██████████| 12/12 [00:01<00:00, 11.11it/s, Epoch=68, LR=5.46e-5, Valid_Loss=0.193]\n"
     ]
    },
    {
     "name": "stdout",
     "output_type": "stream",
     "text": [
      "\n"
     ]
    },
    {
     "name": "stderr",
     "output_type": "stream",
     "text": [
      "100%|██████████| 56/56 [00:06<00:00,  8.02it/s, Epoch=69, LR=4.6e-5, Train_Loss=0.0882] \n",
      "100%|██████████| 12/12 [00:01<00:00, 11.49it/s, Epoch=69, LR=4.6e-5, Valid_Loss=0.183]\n"
     ]
    },
    {
     "name": "stdout",
     "output_type": "stream",
     "text": [
      "\n"
     ]
    },
    {
     "name": "stderr",
     "output_type": "stream",
     "text": [
      "100%|██████████| 56/56 [00:06<00:00,  8.12it/s, Epoch=70, LR=3.81e-5, Train_Loss=0.0939]\n",
      "100%|██████████| 12/12 [00:01<00:00, 11.47it/s, Epoch=70, LR=3.81e-5, Valid_Loss=0.179]\n"
     ]
    },
    {
     "name": "stdout",
     "output_type": "stream",
     "text": [
      "\n"
     ]
    },
    {
     "name": "stderr",
     "output_type": "stream",
     "text": [
      "100%|██████████| 56/56 [00:06<00:00,  8.12it/s, Epoch=71, LR=3.1e-5, Train_Loss=0.076]  \n",
      "100%|██████████| 12/12 [00:01<00:00, 11.38it/s, Epoch=71, LR=3.1e-5, Valid_Loss=0.196]\n"
     ]
    },
    {
     "name": "stdout",
     "output_type": "stream",
     "text": [
      "\n"
     ]
    },
    {
     "name": "stderr",
     "output_type": "stream",
     "text": [
      "100%|██████████| 56/56 [00:06<00:00,  8.02it/s, Epoch=72, LR=2.45e-5, Train_Loss=0.0701]\n",
      "100%|██████████| 12/12 [00:01<00:00, 11.42it/s, Epoch=72, LR=2.45e-5, Valid_Loss=0.198]\n"
     ]
    },
    {
     "name": "stdout",
     "output_type": "stream",
     "text": [
      "\n"
     ]
    },
    {
     "name": "stderr",
     "output_type": "stream",
     "text": [
      "100%|██████████| 56/56 [00:06<00:00,  8.17it/s, Epoch=73, LR=1.88e-5, Train_Loss=0.0807]\n",
      "100%|██████████| 12/12 [00:01<00:00, 11.88it/s, Epoch=73, LR=1.88e-5, Valid_Loss=0.191]\n"
     ]
    },
    {
     "name": "stdout",
     "output_type": "stream",
     "text": [
      "\n"
     ]
    },
    {
     "name": "stderr",
     "output_type": "stream",
     "text": [
      "100%|██████████| 56/56 [00:06<00:00,  8.08it/s, Epoch=74, LR=1.39e-5, Train_Loss=0.0741]\n",
      "100%|██████████| 12/12 [00:01<00:00, 11.21it/s, Epoch=74, LR=1.39e-5, Valid_Loss=0.181]\n"
     ]
    },
    {
     "name": "stdout",
     "output_type": "stream",
     "text": [
      "\n"
     ]
    },
    {
     "name": "stderr",
     "output_type": "stream",
     "text": [
      "100%|██████████| 56/56 [00:07<00:00,  7.88it/s, Epoch=75, LR=9.68e-6, Train_Loss=0.0788]\n",
      "100%|██████████| 12/12 [00:01<00:00, 11.47it/s, Epoch=75, LR=9.68e-6, Valid_Loss=0.183]\n"
     ]
    },
    {
     "name": "stdout",
     "output_type": "stream",
     "text": [
      "\n"
     ]
    },
    {
     "name": "stderr",
     "output_type": "stream",
     "text": [
      "100%|██████████| 56/56 [00:06<00:00,  8.23it/s, Epoch=76, LR=6.23e-6, Train_Loss=0.0734]\n",
      "100%|██████████| 12/12 [00:01<00:00, 11.66it/s, Epoch=76, LR=6.23e-6, Valid_Loss=0.18]\n"
     ]
    },
    {
     "name": "stdout",
     "output_type": "stream",
     "text": [
      "\n"
     ]
    },
    {
     "name": "stderr",
     "output_type": "stream",
     "text": [
      "100%|██████████| 56/56 [00:07<00:00,  7.94it/s, Epoch=77, LR=3.54e-6, Train_Loss=0.0662]\n",
      "100%|██████████| 12/12 [00:00<00:00, 12.11it/s, Epoch=77, LR=3.54e-6, Valid_Loss=0.199]\n"
     ]
    },
    {
     "name": "stdout",
     "output_type": "stream",
     "text": [
      "\n"
     ]
    },
    {
     "name": "stderr",
     "output_type": "stream",
     "text": [
      "100%|██████████| 56/56 [00:07<00:00,  7.99it/s, Epoch=78, LR=1.61e-6, Train_Loss=0.0662]\n",
      "100%|██████████| 12/12 [00:01<00:00, 11.34it/s, Epoch=78, LR=1.61e-6, Valid_Loss=0.188]\n"
     ]
    },
    {
     "name": "stdout",
     "output_type": "stream",
     "text": [
      "\n"
     ]
    },
    {
     "name": "stderr",
     "output_type": "stream",
     "text": [
      "100%|██████████| 56/56 [00:07<00:00,  7.97it/s, Epoch=79, LR=4.55e-7, Train_Loss=0.0704]\n",
      "100%|██████████| 12/12 [00:00<00:00, 12.03it/s, Epoch=79, LR=4.55e-7, Valid_Loss=0.181]\n"
     ]
    },
    {
     "name": "stdout",
     "output_type": "stream",
     "text": [
      "\n"
     ]
    },
    {
     "name": "stderr",
     "output_type": "stream",
     "text": [
      "100%|██████████| 56/56 [00:07<00:00,  7.92it/s, Epoch=80, LR=7e-8, Train_Loss=0.0787]   \n",
      "100%|██████████| 12/12 [00:01<00:00, 11.90it/s, Epoch=80, LR=7e-8, Valid_Loss=0.189]\n"
     ]
    },
    {
     "name": "stdout",
     "output_type": "stream",
     "text": [
      "\n",
      "Training complete in 0h 12m 40s\n",
      "Best AUROC: 0.1586\n",
      "==============================\n",
      "fold 4\n",
      "==============================\n",
      "Downsample before 1st stage: 330690\n",
      "Downsample after 1st stage: 121912\n",
      "●train\n",
      "original> (330985, 58) 295 (834,)\n",
      "filtered> (3245, 58) 295 (769,)\n",
      "●val\n",
      "original> (70074, 58) 98 (208,)\n",
      "filtered> (2058, 58) 98 (196,)\n",
      "[INFO] Using GPU: NVIDIA GeForce RTX 4090\n",
      "\n"
     ]
    },
    {
     "name": "stderr",
     "output_type": "stream",
     "text": [
      "100%|██████████| 51/51 [00:06<00:00,  7.31it/s, Epoch=1, LR=0.001, Train_Loss=0.736]\n",
      "100%|██████████| 17/17 [00:01<00:00, 10.29it/s, Epoch=1, LR=0.001, Valid_Loss=0.462]\n"
     ]
    },
    {
     "name": "stdout",
     "output_type": "stream",
     "text": [
      "\u001b[34mValidation AUROC Improved (-inf ---> 0.04619741774260721)\n",
      "\n"
     ]
    },
    {
     "name": "stderr",
     "output_type": "stream",
     "text": [
      "100%|██████████| 51/51 [00:06<00:00,  7.71it/s, Epoch=2, LR=0.000998, Train_Loss=0.627]\n",
      "100%|██████████| 17/17 [00:01<00:00, 11.41it/s, Epoch=2, LR=0.000998, Valid_Loss=0.364]\n"
     ]
    },
    {
     "name": "stdout",
     "output_type": "stream",
     "text": [
      "\u001b[34mValidation AUROC Improved (0.04619741774260721 ---> 0.06678050812161596)\n",
      "\n"
     ]
    },
    {
     "name": "stderr",
     "output_type": "stream",
     "text": [
      "100%|██████████| 51/51 [00:06<00:00,  7.79it/s, Epoch=3, LR=0.000997, Train_Loss=0.617]\n",
      "100%|██████████| 17/17 [00:01<00:00, 10.89it/s, Epoch=3, LR=0.000997, Valid_Loss=0.417]\n"
     ]
    },
    {
     "name": "stdout",
     "output_type": "stream",
     "text": [
      "\u001b[34mValidation AUROC Improved (0.06678050812161596 ---> 0.06849021241149517)\n",
      "\n"
     ]
    },
    {
     "name": "stderr",
     "output_type": "stream",
     "text": [
      "100%|██████████| 51/51 [00:06<00:00,  7.42it/s, Epoch=4, LR=0.000994, Train_Loss=0.618]\n",
      "100%|██████████| 17/17 [00:01<00:00, 10.99it/s, Epoch=4, LR=0.000994, Valid_Loss=0.218]\n"
     ]
    },
    {
     "name": "stdout",
     "output_type": "stream",
     "text": [
      "\u001b[34mValidation AUROC Improved (0.06849021241149517 ---> 0.07710641399416907)\n",
      "\n"
     ]
    },
    {
     "name": "stderr",
     "output_type": "stream",
     "text": [
      "100%|██████████| 51/51 [00:06<00:00,  7.68it/s, Epoch=5, LR=0.00099, Train_Loss=0.613] \n",
      "100%|██████████| 17/17 [00:01<00:00, 11.37it/s, Epoch=5, LR=0.00099, Valid_Loss=0.474]\n"
     ]
    },
    {
     "name": "stdout",
     "output_type": "stream",
     "text": [
      "\n"
     ]
    },
    {
     "name": "stderr",
     "output_type": "stream",
     "text": [
      "100%|██████████| 51/51 [00:06<00:00,  7.55it/s, Epoch=6, LR=0.000986, Train_Loss=0.599]\n",
      "100%|██████████| 17/17 [00:01<00:00, 11.30it/s, Epoch=6, LR=0.000986, Valid_Loss=0.322]\n"
     ]
    },
    {
     "name": "stdout",
     "output_type": "stream",
     "text": [
      "\u001b[34mValidation AUROC Improved (0.07710641399416907 ---> 0.10334027488546434)\n",
      "\n"
     ]
    },
    {
     "name": "stderr",
     "output_type": "stream",
     "text": [
      "100%|██████████| 51/51 [00:06<00:00,  7.57it/s, Epoch=7, LR=0.000981, Train_Loss=0.603]\n",
      "100%|██████████| 17/17 [00:01<00:00, 11.19it/s, Epoch=7, LR=0.000981, Valid_Loss=0.305]\n"
     ]
    },
    {
     "name": "stdout",
     "output_type": "stream",
     "text": [
      "\u001b[34mValidation AUROC Improved (0.10334027488546434 ---> 0.12797896709704285)\n",
      "\n"
     ]
    },
    {
     "name": "stderr",
     "output_type": "stream",
     "text": [
      "100%|██████████| 51/51 [00:06<00:00,  7.59it/s, Epoch=8, LR=0.000976, Train_Loss=0.538]\n",
      "100%|██████████| 17/17 [00:01<00:00, 11.15it/s, Epoch=8, LR=0.000976, Valid_Loss=0.28] \n"
     ]
    },
    {
     "name": "stdout",
     "output_type": "stream",
     "text": [
      "\n"
     ]
    },
    {
     "name": "stderr",
     "output_type": "stream",
     "text": [
      "100%|██████████| 51/51 [00:06<00:00,  7.60it/s, Epoch=9, LR=0.000969, Train_Loss=0.571]\n",
      "100%|██████████| 17/17 [00:01<00:00, 11.31it/s, Epoch=9, LR=0.000969, Valid_Loss=0.273]\n"
     ]
    },
    {
     "name": "stdout",
     "output_type": "stream",
     "text": [
      "\n"
     ]
    },
    {
     "name": "stderr",
     "output_type": "stream",
     "text": [
      "100%|██████████| 51/51 [00:06<00:00,  7.57it/s, Epoch=10, LR=0.000962, Train_Loss=0.601]\n",
      "100%|██████████| 17/17 [00:01<00:00, 11.36it/s, Epoch=10, LR=0.000962, Valid_Loss=0.308]\n"
     ]
    },
    {
     "name": "stdout",
     "output_type": "stream",
     "text": [
      "\u001b[34mValidation AUROC Improved (0.12797896709704285 ---> 0.14535297792586419)\n",
      "\n"
     ]
    },
    {
     "name": "stderr",
     "output_type": "stream",
     "text": [
      "100%|██████████| 51/51 [00:07<00:00,  7.28it/s, Epoch=11, LR=0.000954, Train_Loss=0.579]\n",
      "100%|██████████| 17/17 [00:01<00:00, 10.86it/s, Epoch=11, LR=0.000954, Valid_Loss=0.256]\n"
     ]
    },
    {
     "name": "stdout",
     "output_type": "stream",
     "text": [
      "\n"
     ]
    },
    {
     "name": "stderr",
     "output_type": "stream",
     "text": [
      "100%|██████████| 51/51 [00:06<00:00,  7.30it/s, Epoch=12, LR=0.000946, Train_Loss=0.547]\n",
      "100%|██████████| 17/17 [00:01<00:00, 11.41it/s, Epoch=12, LR=0.000946, Valid_Loss=0.272]\n"
     ]
    },
    {
     "name": "stdout",
     "output_type": "stream",
     "text": [
      "\n"
     ]
    },
    {
     "name": "stderr",
     "output_type": "stream",
     "text": [
      "100%|██████████| 51/51 [00:06<00:00,  7.43it/s, Epoch=13, LR=0.000936, Train_Loss=0.577]\n",
      "100%|██████████| 17/17 [00:01<00:00, 10.88it/s, Epoch=13, LR=0.000936, Valid_Loss=0.251]\n"
     ]
    },
    {
     "name": "stdout",
     "output_type": "stream",
     "text": [
      "\n"
     ]
    },
    {
     "name": "stderr",
     "output_type": "stream",
     "text": [
      "100%|██████████| 51/51 [00:06<00:00,  7.54it/s, Epoch=14, LR=0.000926, Train_Loss=0.599]\n",
      "100%|██████████| 17/17 [00:01<00:00, 10.98it/s, Epoch=14, LR=0.000926, Valid_Loss=0.37] \n"
     ]
    },
    {
     "name": "stdout",
     "output_type": "stream",
     "text": [
      "\n"
     ]
    },
    {
     "name": "stderr",
     "output_type": "stream",
     "text": [
      "100%|██████████| 51/51 [00:07<00:00,  7.26it/s, Epoch=15, LR=0.000916, Train_Loss=0.589]\n",
      "100%|██████████| 17/17 [00:01<00:00, 10.88it/s, Epoch=15, LR=0.000916, Valid_Loss=0.311]\n"
     ]
    },
    {
     "name": "stdout",
     "output_type": "stream",
     "text": [
      "\n"
     ]
    },
    {
     "name": "stderr",
     "output_type": "stream",
     "text": [
      "100%|██████████| 51/51 [00:06<00:00,  7.48it/s, Epoch=16, LR=0.000905, Train_Loss=0.585]\n",
      "100%|██████████| 17/17 [00:01<00:00, 10.93it/s, Epoch=16, LR=0.000905, Valid_Loss=0.294]\n"
     ]
    },
    {
     "name": "stdout",
     "output_type": "stream",
     "text": [
      "\u001b[34mValidation AUROC Improved (0.14535297792586419 ---> 0.14566222407330273)\n",
      "\n"
     ]
    },
    {
     "name": "stderr",
     "output_type": "stream",
     "text": [
      "100%|██████████| 51/51 [00:07<00:00,  7.18it/s, Epoch=17, LR=0.000893, Train_Loss=0.569]\n",
      "100%|██████████| 17/17 [00:01<00:00, 11.34it/s, Epoch=17, LR=0.000893, Valid_Loss=0.335]\n"
     ]
    },
    {
     "name": "stdout",
     "output_type": "stream",
     "text": [
      "\n"
     ]
    },
    {
     "name": "stderr",
     "output_type": "stream",
     "text": [
      "100%|██████████| 51/51 [00:06<00:00,  7.34it/s, Epoch=18, LR=0.00088, Train_Loss=0.565] \n",
      "100%|██████████| 17/17 [00:01<00:00, 10.98it/s, Epoch=18, LR=0.00088, Valid_Loss=0.389]\n"
     ]
    },
    {
     "name": "stdout",
     "output_type": "stream",
     "text": [
      "\n"
     ]
    },
    {
     "name": "stderr",
     "output_type": "stream",
     "text": [
      "100%|██████████| 51/51 [00:06<00:00,  7.37it/s, Epoch=19, LR=0.000867, Train_Loss=0.553]\n",
      "100%|██████████| 17/17 [00:01<00:00, 11.08it/s, Epoch=19, LR=0.000867, Valid_Loss=0.232]\n"
     ]
    },
    {
     "name": "stdout",
     "output_type": "stream",
     "text": [
      "\u001b[34mValidation AUROC Improved (0.14566222407330273 ---> 0.15229904206580588)\n",
      "\n"
     ]
    },
    {
     "name": "stderr",
     "output_type": "stream",
     "text": [
      "100%|██████████| 51/51 [00:06<00:00,  7.49it/s, Epoch=20, LR=0.000854, Train_Loss=0.578]\n",
      "100%|██████████| 17/17 [00:01<00:00, 11.27it/s, Epoch=20, LR=0.000854, Valid_Loss=0.297]\n"
     ]
    },
    {
     "name": "stdout",
     "output_type": "stream",
     "text": [
      "\n"
     ]
    },
    {
     "name": "stderr",
     "output_type": "stream",
     "text": [
      "100%|██████████| 51/51 [00:07<00:00,  7.24it/s, Epoch=21, LR=0.000839, Train_Loss=0.579]\n",
      "100%|██████████| 17/17 [00:01<00:00, 10.95it/s, Epoch=21, LR=0.000839, Valid_Loss=0.363]\n"
     ]
    },
    {
     "name": "stdout",
     "output_type": "stream",
     "text": [
      "\n"
     ]
    },
    {
     "name": "stderr",
     "output_type": "stream",
     "text": [
      "100%|██████████| 51/51 [00:06<00:00,  7.32it/s, Epoch=22, LR=0.000825, Train_Loss=0.566]\n",
      "100%|██████████| 17/17 [00:01<00:00, 10.93it/s, Epoch=22, LR=0.000825, Valid_Loss=0.265]\n"
     ]
    },
    {
     "name": "stdout",
     "output_type": "stream",
     "text": [
      "\n"
     ]
    },
    {
     "name": "stderr",
     "output_type": "stream",
     "text": [
      "100%|██████████| 51/51 [00:06<00:00,  7.31it/s, Epoch=23, LR=0.00081, Train_Loss=0.579] \n",
      "100%|██████████| 17/17 [00:01<00:00, 11.02it/s, Epoch=23, LR=0.00081, Valid_Loss=0.279]\n"
     ]
    },
    {
     "name": "stdout",
     "output_type": "stream",
     "text": [
      "\n"
     ]
    },
    {
     "name": "stderr",
     "output_type": "stream",
     "text": [
      "100%|██████████| 51/51 [00:06<00:00,  7.30it/s, Epoch=24, LR=0.000794, Train_Loss=0.549]\n",
      "100%|██████████| 17/17 [00:01<00:00, 10.74it/s, Epoch=24, LR=0.000794, Valid_Loss=0.308]\n"
     ]
    },
    {
     "name": "stdout",
     "output_type": "stream",
     "text": [
      "\n"
     ]
    },
    {
     "name": "stderr",
     "output_type": "stream",
     "text": [
      "100%|██████████| 51/51 [00:07<00:00,  7.17it/s, Epoch=25, LR=0.000778, Train_Loss=0.594]\n",
      "100%|██████████| 17/17 [00:01<00:00, 11.06it/s, Epoch=25, LR=0.000778, Valid_Loss=0.317]\n"
     ]
    },
    {
     "name": "stdout",
     "output_type": "stream",
     "text": [
      "\n"
     ]
    },
    {
     "name": "stderr",
     "output_type": "stream",
     "text": [
      "100%|██████████| 51/51 [00:06<00:00,  7.39it/s, Epoch=26, LR=0.000761, Train_Loss=0.571]\n",
      "100%|██████████| 17/17 [00:01<00:00, 11.80it/s, Epoch=26, LR=0.000761, Valid_Loss=0.315]\n"
     ]
    },
    {
     "name": "stdout",
     "output_type": "stream",
     "text": [
      "\n"
     ]
    },
    {
     "name": "stderr",
     "output_type": "stream",
     "text": [
      "100%|██████████| 51/51 [00:06<00:00,  7.53it/s, Epoch=27, LR=0.000744, Train_Loss=0.534]\n",
      "100%|██████████| 17/17 [00:01<00:00, 11.00it/s, Epoch=27, LR=0.000744, Valid_Loss=0.282]\n"
     ]
    },
    {
     "name": "stdout",
     "output_type": "stream",
     "text": [
      "\n"
     ]
    },
    {
     "name": "stderr",
     "output_type": "stream",
     "text": [
      "100%|██████████| 51/51 [00:06<00:00,  7.44it/s, Epoch=28, LR=0.000727, Train_Loss=0.582]\n",
      "100%|██████████| 17/17 [00:01<00:00, 11.01it/s, Epoch=28, LR=0.000727, Valid_Loss=0.284]\n"
     ]
    },
    {
     "name": "stdout",
     "output_type": "stream",
     "text": [
      "\n"
     ]
    },
    {
     "name": "stderr",
     "output_type": "stream",
     "text": [
      "100%|██████████| 51/51 [00:06<00:00,  7.42it/s, Epoch=29, LR=0.000709, Train_Loss=0.549]\n",
      "100%|██████████| 17/17 [00:01<00:00, 11.05it/s, Epoch=29, LR=0.000709, Valid_Loss=0.274]\n"
     ]
    },
    {
     "name": "stdout",
     "output_type": "stream",
     "text": [
      "\n"
     ]
    },
    {
     "name": "stderr",
     "output_type": "stream",
     "text": [
      "100%|██████████| 51/51 [00:06<00:00,  7.75it/s, Epoch=30, LR=0.000691, Train_Loss=0.577]\n",
      "100%|██████████| 17/17 [00:01<00:00, 11.72it/s, Epoch=30, LR=0.000691, Valid_Loss=0.295]\n"
     ]
    },
    {
     "name": "stdout",
     "output_type": "stream",
     "text": [
      "\n"
     ]
    },
    {
     "name": "stderr",
     "output_type": "stream",
     "text": [
      "100%|██████████| 51/51 [00:06<00:00,  7.54it/s, Epoch=31, LR=0.000673, Train_Loss=0.544]\n",
      "100%|██████████| 17/17 [00:01<00:00, 10.96it/s, Epoch=31, LR=0.000673, Valid_Loss=0.273]\n"
     ]
    },
    {
     "name": "stdout",
     "output_type": "stream",
     "text": [
      "\u001b[34mValidation AUROC Improved (0.15229904206580588 ---> 0.15456476468138272)\n",
      "\n"
     ]
    },
    {
     "name": "stderr",
     "output_type": "stream",
     "text": [
      "100%|██████████| 51/51 [00:06<00:00,  7.58it/s, Epoch=32, LR=0.000655, Train_Loss=0.555]\n",
      "100%|██████████| 17/17 [00:01<00:00, 11.39it/s, Epoch=32, LR=0.000655, Valid_Loss=0.251]\n"
     ]
    },
    {
     "name": "stdout",
     "output_type": "stream",
     "text": [
      "\u001b[34mValidation AUROC Improved (0.15456476468138272 ---> 0.16234173261141188)\n",
      "\n"
     ]
    },
    {
     "name": "stderr",
     "output_type": "stream",
     "text": [
      "100%|██████████| 51/51 [00:06<00:00,  7.50it/s, Epoch=33, LR=0.000636, Train_Loss=0.562]\n",
      "100%|██████████| 17/17 [00:01<00:00, 10.88it/s, Epoch=33, LR=0.000636, Valid_Loss=0.234]\n"
     ]
    },
    {
     "name": "stdout",
     "output_type": "stream",
     "text": [
      "\n"
     ]
    },
    {
     "name": "stderr",
     "output_type": "stream",
     "text": [
      "100%|██████████| 51/51 [00:06<00:00,  7.42it/s, Epoch=34, LR=0.000617, Train_Loss=0.548]\n",
      "100%|██████████| 17/17 [00:01<00:00, 10.93it/s, Epoch=34, LR=0.000617, Valid_Loss=0.288]\n"
     ]
    },
    {
     "name": "stdout",
     "output_type": "stream",
     "text": [
      "\n"
     ]
    },
    {
     "name": "stderr",
     "output_type": "stream",
     "text": [
      "100%|██████████| 51/51 [00:06<00:00,  7.38it/s, Epoch=35, LR=0.000598, Train_Loss=0.565]\n",
      "100%|██████████| 17/17 [00:01<00:00, 11.26it/s, Epoch=35, LR=0.000598, Valid_Loss=0.278]\n"
     ]
    },
    {
     "name": "stdout",
     "output_type": "stream",
     "text": [
      "\n"
     ]
    },
    {
     "name": "stderr",
     "output_type": "stream",
     "text": [
      "100%|██████████| 51/51 [00:06<00:00,  7.88it/s, Epoch=36, LR=0.000578, Train_Loss=0.568]\n",
      "100%|██████████| 17/17 [00:01<00:00, 11.37it/s, Epoch=36, LR=0.000578, Valid_Loss=0.331]\n"
     ]
    },
    {
     "name": "stdout",
     "output_type": "stream",
     "text": [
      "\n"
     ]
    },
    {
     "name": "stderr",
     "output_type": "stream",
     "text": [
      "100%|██████████| 51/51 [00:06<00:00,  7.56it/s, Epoch=37, LR=0.000559, Train_Loss=0.567]\n",
      "100%|██████████| 17/17 [00:01<00:00, 11.10it/s, Epoch=37, LR=0.000559, Valid_Loss=0.272]\n"
     ]
    },
    {
     "name": "stdout",
     "output_type": "stream",
     "text": [
      "\n"
     ]
    },
    {
     "name": "stderr",
     "output_type": "stream",
     "text": [
      "100%|██████████| 51/51 [00:06<00:00,  7.50it/s, Epoch=38, LR=0.000539, Train_Loss=0.552]\n",
      "100%|██████████| 17/17 [00:01<00:00, 10.75it/s, Epoch=38, LR=0.000539, Valid_Loss=0.282]\n"
     ]
    },
    {
     "name": "stdout",
     "output_type": "stream",
     "text": [
      "\n"
     ]
    },
    {
     "name": "stderr",
     "output_type": "stream",
     "text": [
      "100%|██████████| 51/51 [00:06<00:00,  7.57it/s, Epoch=39, LR=0.00052, Train_Loss=0.543] \n",
      "100%|██████████| 17/17 [00:01<00:00, 10.80it/s, Epoch=39, LR=0.00052, Valid_Loss=0.251]\n"
     ]
    },
    {
     "name": "stdout",
     "output_type": "stream",
     "text": [
      "\n"
     ]
    },
    {
     "name": "stderr",
     "output_type": "stream",
     "text": [
      "100%|██████████| 51/51 [00:06<00:00,  7.57it/s, Epoch=40, LR=0.0005, Train_Loss=0.543]  \n",
      "100%|██████████| 17/17 [00:01<00:00, 11.34it/s, Epoch=40, LR=0.0005, Valid_Loss=0.293]\n"
     ]
    },
    {
     "name": "stdout",
     "output_type": "stream",
     "text": [
      "\n"
     ]
    },
    {
     "name": "stderr",
     "output_type": "stream",
     "text": [
      "100%|██████████| 51/51 [00:06<00:00,  7.59it/s, Epoch=41, LR=0.00048, Train_Loss=0.545] \n",
      "100%|██████████| 17/17 [00:01<00:00, 11.37it/s, Epoch=41, LR=0.00048, Valid_Loss=0.339]\n"
     ]
    },
    {
     "name": "stdout",
     "output_type": "stream",
     "text": [
      "\n"
     ]
    },
    {
     "name": "stderr",
     "output_type": "stream",
     "text": [
      "100%|██████████| 51/51 [00:06<00:00,  7.47it/s, Epoch=42, LR=0.000461, Train_Loss=0.551]\n",
      "100%|██████████| 17/17 [00:01<00:00, 11.61it/s, Epoch=42, LR=0.000461, Valid_Loss=0.311]\n"
     ]
    },
    {
     "name": "stdout",
     "output_type": "stream",
     "text": [
      "\n"
     ]
    },
    {
     "name": "stderr",
     "output_type": "stream",
     "text": [
      "100%|██████████| 51/51 [00:06<00:00,  7.61it/s, Epoch=43, LR=0.000441, Train_Loss=0.541]\n",
      "100%|██████████| 17/17 [00:01<00:00, 11.64it/s, Epoch=43, LR=0.000441, Valid_Loss=0.284]\n"
     ]
    },
    {
     "name": "stdout",
     "output_type": "stream",
     "text": [
      "\n"
     ]
    },
    {
     "name": "stderr",
     "output_type": "stream",
     "text": [
      "100%|██████████| 51/51 [00:06<00:00,  7.34it/s, Epoch=44, LR=0.000422, Train_Loss=0.532]\n",
      "100%|██████████| 17/17 [00:01<00:00, 11.11it/s, Epoch=44, LR=0.000422, Valid_Loss=0.302]\n"
     ]
    },
    {
     "name": "stdout",
     "output_type": "stream",
     "text": [
      "\n"
     ]
    },
    {
     "name": "stderr",
     "output_type": "stream",
     "text": [
      "100%|██████████| 51/51 [00:06<00:00,  7.68it/s, Epoch=45, LR=0.000402, Train_Loss=0.548]\n",
      "100%|██████████| 17/17 [00:01<00:00, 11.00it/s, Epoch=45, LR=0.000402, Valid_Loss=0.272]\n"
     ]
    },
    {
     "name": "stdout",
     "output_type": "stream",
     "text": [
      "\n"
     ]
    },
    {
     "name": "stderr",
     "output_type": "stream",
     "text": [
      "100%|██████████| 51/51 [00:06<00:00,  7.43it/s, Epoch=46, LR=0.000383, Train_Loss=0.536]\n",
      "100%|██████████| 17/17 [00:01<00:00, 10.98it/s, Epoch=46, LR=0.000383, Valid_Loss=0.228]\n"
     ]
    },
    {
     "name": "stdout",
     "output_type": "stream",
     "text": [
      "\n"
     ]
    },
    {
     "name": "stderr",
     "output_type": "stream",
     "text": [
      "100%|██████████| 51/51 [00:06<00:00,  7.50it/s, Epoch=47, LR=0.000364, Train_Loss=0.562]\n",
      "100%|██████████| 17/17 [00:01<00:00, 11.17it/s, Epoch=47, LR=0.000364, Valid_Loss=0.32] \n"
     ]
    },
    {
     "name": "stdout",
     "output_type": "stream",
     "text": [
      "\n"
     ]
    },
    {
     "name": "stderr",
     "output_type": "stream",
     "text": [
      "100%|██████████| 51/51 [00:06<00:00,  7.63it/s, Epoch=48, LR=0.000346, Train_Loss=0.549]\n",
      "100%|██████████| 17/17 [00:01<00:00, 11.24it/s, Epoch=48, LR=0.000346, Valid_Loss=0.262]\n"
     ]
    },
    {
     "name": "stdout",
     "output_type": "stream",
     "text": [
      "\n"
     ]
    },
    {
     "name": "stderr",
     "output_type": "stream",
     "text": [
      "100%|██████████| 51/51 [00:06<00:00,  7.49it/s, Epoch=49, LR=0.000327, Train_Loss=0.517]\n",
      "100%|██████████| 17/17 [00:01<00:00, 11.15it/s, Epoch=49, LR=0.000327, Valid_Loss=0.288]\n"
     ]
    },
    {
     "name": "stdout",
     "output_type": "stream",
     "text": [
      "\n"
     ]
    },
    {
     "name": "stderr",
     "output_type": "stream",
     "text": [
      "100%|██████████| 51/51 [00:06<00:00,  7.52it/s, Epoch=50, LR=0.000309, Train_Loss=0.535]\n",
      "100%|██████████| 17/17 [00:01<00:00, 10.82it/s, Epoch=50, LR=0.000309, Valid_Loss=0.317]\n"
     ]
    },
    {
     "name": "stdout",
     "output_type": "stream",
     "text": [
      "\n"
     ]
    },
    {
     "name": "stderr",
     "output_type": "stream",
     "text": [
      "100%|██████████| 51/51 [00:06<00:00,  7.36it/s, Epoch=51, LR=0.000291, Train_Loss=0.561]\n",
      "100%|██████████| 17/17 [00:01<00:00, 11.17it/s, Epoch=51, LR=0.000291, Valid_Loss=0.271]\n"
     ]
    },
    {
     "name": "stdout",
     "output_type": "stream",
     "text": [
      "\n"
     ]
    },
    {
     "name": "stderr",
     "output_type": "stream",
     "text": [
      "100%|██████████| 51/51 [00:06<00:00,  7.54it/s, Epoch=52, LR=0.000273, Train_Loss=0.505]\n",
      "100%|██████████| 17/17 [00:01<00:00, 11.08it/s, Epoch=52, LR=0.000273, Valid_Loss=0.242]\n"
     ]
    },
    {
     "name": "stdout",
     "output_type": "stream",
     "text": [
      "\n"
     ]
    },
    {
     "name": "stderr",
     "output_type": "stream",
     "text": [
      "100%|██████████| 51/51 [00:06<00:00,  7.62it/s, Epoch=53, LR=0.000256, Train_Loss=0.521]\n",
      "100%|██████████| 17/17 [00:01<00:00, 11.39it/s, Epoch=53, LR=0.000256, Valid_Loss=0.289]\n"
     ]
    },
    {
     "name": "stdout",
     "output_type": "stream",
     "text": [
      "\n"
     ]
    },
    {
     "name": "stderr",
     "output_type": "stream",
     "text": [
      "100%|██████████| 51/51 [00:06<00:00,  7.58it/s, Epoch=54, LR=0.000239, Train_Loss=0.541]\n",
      "100%|██████████| 17/17 [00:01<00:00, 11.50it/s, Epoch=54, LR=0.000239, Valid_Loss=0.254]\n"
     ]
    },
    {
     "name": "stdout",
     "output_type": "stream",
     "text": [
      "\n"
     ]
    },
    {
     "name": "stderr",
     "output_type": "stream",
     "text": [
      "100%|██████████| 51/51 [00:07<00:00,  7.26it/s, Epoch=55, LR=0.000222, Train_Loss=0.537]\n",
      "100%|██████████| 17/17 [00:01<00:00, 11.15it/s, Epoch=55, LR=0.000222, Valid_Loss=0.251]\n"
     ]
    },
    {
     "name": "stdout",
     "output_type": "stream",
     "text": [
      "\n"
     ]
    },
    {
     "name": "stderr",
     "output_type": "stream",
     "text": [
      "100%|██████████| 51/51 [00:06<00:00,  7.50it/s, Epoch=56, LR=0.000206, Train_Loss=0.529]\n",
      "100%|██████████| 17/17 [00:01<00:00, 11.14it/s, Epoch=56, LR=0.000206, Valid_Loss=0.293]\n"
     ]
    },
    {
     "name": "stdout",
     "output_type": "stream",
     "text": [
      "\n"
     ]
    },
    {
     "name": "stderr",
     "output_type": "stream",
     "text": [
      "100%|██████████| 51/51 [00:06<00:00,  7.47it/s, Epoch=57, LR=0.000191, Train_Loss=0.529]\n",
      "100%|██████████| 17/17 [00:01<00:00, 10.99it/s, Epoch=57, LR=0.000191, Valid_Loss=0.263]\n"
     ]
    },
    {
     "name": "stdout",
     "output_type": "stream",
     "text": [
      "\n"
     ]
    },
    {
     "name": "stderr",
     "output_type": "stream",
     "text": [
      "100%|██████████| 51/51 [00:06<00:00,  7.52it/s, Epoch=58, LR=0.000175, Train_Loss=0.524]\n",
      "100%|██████████| 17/17 [00:01<00:00, 11.18it/s, Epoch=58, LR=0.000175, Valid_Loss=0.248]\n"
     ]
    },
    {
     "name": "stdout",
     "output_type": "stream",
     "text": [
      "\n"
     ]
    },
    {
     "name": "stderr",
     "output_type": "stream",
     "text": [
      "100%|██████████| 51/51 [00:06<00:00,  7.51it/s, Epoch=59, LR=0.000161, Train_Loss=0.55] \n",
      "100%|██████████| 17/17 [00:01<00:00, 11.26it/s, Epoch=59, LR=0.000161, Valid_Loss=0.283]\n"
     ]
    },
    {
     "name": "stdout",
     "output_type": "stream",
     "text": [
      "\n"
     ]
    },
    {
     "name": "stderr",
     "output_type": "stream",
     "text": [
      "100%|██████████| 51/51 [00:06<00:00,  7.54it/s, Epoch=60, LR=0.000147, Train_Loss=0.528]\n",
      "100%|██████████| 17/17 [00:01<00:00, 10.88it/s, Epoch=60, LR=0.000147, Valid_Loss=0.306]\n"
     ]
    },
    {
     "name": "stdout",
     "output_type": "stream",
     "text": [
      "\n"
     ]
    },
    {
     "name": "stderr",
     "output_type": "stream",
     "text": [
      "100%|██████████| 51/51 [00:06<00:00,  7.96it/s, Epoch=61, LR=0.000133, Train_Loss=0.316]\n",
      "100%|██████████| 17/17 [00:01<00:00, 11.24it/s, Epoch=61, LR=0.000133, Valid_Loss=0.272]\n"
     ]
    },
    {
     "name": "stdout",
     "output_type": "stream",
     "text": [
      "\n"
     ]
    },
    {
     "name": "stderr",
     "output_type": "stream",
     "text": [
      "100%|██████████| 51/51 [00:06<00:00,  8.04it/s, Epoch=62, LR=0.00012, Train_Loss=0.202] \n",
      "100%|██████████| 17/17 [00:01<00:00, 11.30it/s, Epoch=62, LR=0.00012, Valid_Loss=0.227]\n"
     ]
    },
    {
     "name": "stdout",
     "output_type": "stream",
     "text": [
      "\n"
     ]
    },
    {
     "name": "stderr",
     "output_type": "stream",
     "text": [
      "100%|██████████| 51/51 [00:06<00:00,  7.83it/s, Epoch=63, LR=0.000107, Train_Loss=0.187]\n",
      "100%|██████████| 17/17 [00:01<00:00, 11.14it/s, Epoch=63, LR=0.000107, Valid_Loss=0.186]\n"
     ]
    },
    {
     "name": "stdout",
     "output_type": "stream",
     "text": [
      "\n"
     ]
    },
    {
     "name": "stderr",
     "output_type": "stream",
     "text": [
      "100%|██████████| 51/51 [00:06<00:00,  7.82it/s, Epoch=64, LR=9.56e-5, Train_Loss=0.161] \n",
      "100%|██████████| 17/17 [00:01<00:00, 11.08it/s, Epoch=64, LR=9.56e-5, Valid_Loss=0.219]\n"
     ]
    },
    {
     "name": "stdout",
     "output_type": "stream",
     "text": [
      "\n"
     ]
    },
    {
     "name": "stderr",
     "output_type": "stream",
     "text": [
      "100%|██████████| 51/51 [00:06<00:00,  7.99it/s, Epoch=65, LR=8.43e-5, Train_Loss=0.139]\n",
      "100%|██████████| 17/17 [00:01<00:00, 10.93it/s, Epoch=65, LR=8.43e-5, Valid_Loss=0.208]\n"
     ]
    },
    {
     "name": "stdout",
     "output_type": "stream",
     "text": [
      "\n"
     ]
    },
    {
     "name": "stderr",
     "output_type": "stream",
     "text": [
      "100%|██████████| 51/51 [00:06<00:00,  7.93it/s, Epoch=66, LR=7.37e-5, Train_Loss=0.121]\n",
      "100%|██████████| 17/17 [00:01<00:00, 11.32it/s, Epoch=66, LR=7.37e-5, Valid_Loss=0.196]\n"
     ]
    },
    {
     "name": "stdout",
     "output_type": "stream",
     "text": [
      "\n"
     ]
    },
    {
     "name": "stderr",
     "output_type": "stream",
     "text": [
      "100%|██████████| 51/51 [00:06<00:00,  7.81it/s, Epoch=67, LR=6.38e-5, Train_Loss=0.136]\n",
      "100%|██████████| 17/17 [00:01<00:00, 10.86it/s, Epoch=67, LR=6.38e-5, Valid_Loss=0.213]\n"
     ]
    },
    {
     "name": "stdout",
     "output_type": "stream",
     "text": [
      "\n"
     ]
    },
    {
     "name": "stderr",
     "output_type": "stream",
     "text": [
      "100%|██████████| 51/51 [00:06<00:00,  8.29it/s, Epoch=68, LR=5.46e-5, Train_Loss=0.116]\n",
      "100%|██████████| 17/17 [00:01<00:00, 11.08it/s, Epoch=68, LR=5.46e-5, Valid_Loss=0.217]\n"
     ]
    },
    {
     "name": "stdout",
     "output_type": "stream",
     "text": [
      "\n"
     ]
    },
    {
     "name": "stderr",
     "output_type": "stream",
     "text": [
      "100%|██████████| 51/51 [00:06<00:00,  7.90it/s, Epoch=69, LR=4.6e-5, Train_Loss=0.117] \n",
      "100%|██████████| 17/17 [00:01<00:00, 11.48it/s, Epoch=69, LR=4.6e-5, Valid_Loss=0.206]\n"
     ]
    },
    {
     "name": "stdout",
     "output_type": "stream",
     "text": [
      "\n"
     ]
    },
    {
     "name": "stderr",
     "output_type": "stream",
     "text": [
      "100%|██████████| 51/51 [00:06<00:00,  8.00it/s, Epoch=70, LR=3.81e-5, Train_Loss=0.0973]\n",
      "100%|██████████| 17/17 [00:01<00:00, 11.38it/s, Epoch=70, LR=3.81e-5, Valid_Loss=0.193]\n"
     ]
    },
    {
     "name": "stdout",
     "output_type": "stream",
     "text": [
      "\n"
     ]
    },
    {
     "name": "stderr",
     "output_type": "stream",
     "text": [
      "100%|██████████| 51/51 [00:06<00:00,  8.11it/s, Epoch=71, LR=3.1e-5, Train_Loss=0.0886] \n",
      "100%|██████████| 17/17 [00:01<00:00, 11.54it/s, Epoch=71, LR=3.1e-5, Valid_Loss=0.2]  \n"
     ]
    },
    {
     "name": "stdout",
     "output_type": "stream",
     "text": [
      "\n"
     ]
    },
    {
     "name": "stderr",
     "output_type": "stream",
     "text": [
      "100%|██████████| 51/51 [00:06<00:00,  8.00it/s, Epoch=72, LR=2.45e-5, Train_Loss=0.0935]\n",
      "100%|██████████| 17/17 [00:01<00:00, 11.58it/s, Epoch=72, LR=2.45e-5, Valid_Loss=0.199]\n"
     ]
    },
    {
     "name": "stdout",
     "output_type": "stream",
     "text": [
      "\n"
     ]
    },
    {
     "name": "stderr",
     "output_type": "stream",
     "text": [
      "100%|██████████| 51/51 [00:06<00:00,  8.04it/s, Epoch=73, LR=1.88e-5, Train_Loss=0.0847]\n",
      "100%|██████████| 17/17 [00:01<00:00, 10.96it/s, Epoch=73, LR=1.88e-5, Valid_Loss=0.211]\n"
     ]
    },
    {
     "name": "stdout",
     "output_type": "stream",
     "text": [
      "\n"
     ]
    },
    {
     "name": "stderr",
     "output_type": "stream",
     "text": [
      "100%|██████████| 51/51 [00:06<00:00,  8.10it/s, Epoch=74, LR=1.39e-5, Train_Loss=0.0885]\n",
      "100%|██████████| 17/17 [00:01<00:00, 11.52it/s, Epoch=74, LR=1.39e-5, Valid_Loss=0.205]\n"
     ]
    },
    {
     "name": "stdout",
     "output_type": "stream",
     "text": [
      "\n"
     ]
    },
    {
     "name": "stderr",
     "output_type": "stream",
     "text": [
      "100%|██████████| 51/51 [00:06<00:00,  7.89it/s, Epoch=75, LR=9.68e-6, Train_Loss=0.081] \n",
      "100%|██████████| 17/17 [00:01<00:00, 10.77it/s, Epoch=75, LR=9.68e-6, Valid_Loss=0.196]\n"
     ]
    },
    {
     "name": "stdout",
     "output_type": "stream",
     "text": [
      "\n"
     ]
    },
    {
     "name": "stderr",
     "output_type": "stream",
     "text": [
      "100%|██████████| 51/51 [00:06<00:00,  7.94it/s, Epoch=76, LR=6.23e-6, Train_Loss=0.078] \n",
      "100%|██████████| 17/17 [00:01<00:00, 11.44it/s, Epoch=76, LR=6.23e-6, Valid_Loss=0.208]\n"
     ]
    },
    {
     "name": "stdout",
     "output_type": "stream",
     "text": [
      "\n"
     ]
    },
    {
     "name": "stderr",
     "output_type": "stream",
     "text": [
      "100%|██████████| 51/51 [00:06<00:00,  7.68it/s, Epoch=77, LR=3.54e-6, Train_Loss=0.0733]\n",
      "100%|██████████| 17/17 [00:01<00:00, 10.74it/s, Epoch=77, LR=3.54e-6, Valid_Loss=0.209]\n"
     ]
    },
    {
     "name": "stdout",
     "output_type": "stream",
     "text": [
      "\n"
     ]
    },
    {
     "name": "stderr",
     "output_type": "stream",
     "text": [
      "100%|██████████| 51/51 [00:06<00:00,  7.94it/s, Epoch=78, LR=1.61e-6, Train_Loss=0.0796]\n",
      "100%|██████████| 17/17 [00:01<00:00, 10.93it/s, Epoch=78, LR=1.61e-6, Valid_Loss=0.204]\n"
     ]
    },
    {
     "name": "stdout",
     "output_type": "stream",
     "text": [
      "\n"
     ]
    },
    {
     "name": "stderr",
     "output_type": "stream",
     "text": [
      "100%|██████████| 51/51 [00:06<00:00,  8.21it/s, Epoch=79, LR=4.55e-7, Train_Loss=0.0805]\n",
      "100%|██████████| 17/17 [00:01<00:00, 10.91it/s, Epoch=79, LR=4.55e-7, Valid_Loss=0.208]\n"
     ]
    },
    {
     "name": "stdout",
     "output_type": "stream",
     "text": [
      "\n"
     ]
    },
    {
     "name": "stderr",
     "output_type": "stream",
     "text": [
      "100%|██████████| 51/51 [00:06<00:00,  7.68it/s, Epoch=80, LR=7e-8, Train_Loss=0.0777]   \n",
      "100%|██████████| 17/17 [00:01<00:00, 10.81it/s, Epoch=80, LR=7e-8, Valid_Loss=0.205]\n"
     ]
    },
    {
     "name": "stdout",
     "output_type": "stream",
     "text": [
      "\n",
      "Training complete in 0h 12m 30s\n",
      "Best AUROC: 0.1623\n"
     ]
    }
   ],
   "source": [
    "list_score_notFiltered = []\n",
    "list_df_pos_pred = []\n",
    "for fold in range(CONFIG[\"n_fold\"]):\n",
    "    print(\"===\"*10)\n",
    "    print(f\"fold {fold}\")\n",
    "    print(\"===\"*10)\n",
    "    \n",
    "    df_train = df[df[\"kfold\"]!=fold]\n",
    "    df_val = df[df[\"kfold\"]==fold]\n",
    "    \n",
    "    # trainのダウンサンプリング\n",
    "    # データ数が多すぎる患者をdownsamplingしておく\n",
    "    df_negative = df_train[df_train[\"target\"] == 0]\n",
    "    print(\"Downsample before 1st stage:\", len(df_negative))\n",
    "    patient_too_much = df_negative.loc[df_negative['count_per_patient']>=200, \"patient_id\"].unique()\n",
    "    list_df_downsample1 = []\n",
    "    for patient_id in patient_too_much:\n",
    "        tmp = df_negative[df_negative[\"patient_id\"] == patient_id].sample(n=180, random_state=0)\n",
    "        list_df_downsample1.append(tmp)\n",
    "    df_negative1 = pd.concat(list_df_downsample1)\n",
    "    df_negative2 = df_negative[~df_negative[\"patient_id\"].isin(patient_too_much)]\n",
    "    df_negative = pd.concat((df_negative1, df_negative2)).reset_index(drop=True)\n",
    "    print(\"Downsample after 1st stage:\", len(df_negative))\n",
    "    del df_negative1, df_negative2\n",
    "\n",
    "    print(\"●train\")\n",
    "    print(\"original>\", df_train.shape, df_train.target.sum(), df_train[\"patient_id\"].unique().shape)\n",
    "    df_positive = df_train[df_train[\"target\"] == 1].reset_index(drop=True)\n",
    "    df_negative = df_negative.sample(n=df_positive.shape[0]*10, random_state=0) # ランダムに抽出\n",
    "    df_train = pd.concat([df_positive, df_negative])  # positive:negative = 1:20\n",
    "    del df_positive, df_negative\n",
    "    print(\"filtered>\", df_train.shape, df_train.target.sum(), df_train[\"patient_id\"].unique().shape)\n",
    "    \n",
    "    # valのダウンサンプリング\n",
    "    print(\"●val\")\n",
    "    print(\"original>\", df_val.shape, df_val.target.sum(), df_val[\"patient_id\"].unique().shape)\n",
    "    df_positive = df_val[df_val[\"target\"] == 1].reset_index(drop=True)\n",
    "    df_negative = df_val[df_val[\"target\"] == 0].sample(n=df_positive.shape[0]*20, random_state=0) # ランダムに抽出\n",
    "    df_val = pd.concat([df_positive, df_negative])  # positive:negative = 1:20\n",
    "    del df_positive, df_negative\n",
    "    print(\"filtered>\", df_val.shape, df_val.target.sum(), df_val[\"patient_id\"].unique().shape)\n",
    "    \n",
    "    # いったん全データ結合\n",
    "    df_fold = pd.concat((df_train, df_val)).reset_index(drop=True)\n",
    "    del df_train, df_val\n",
    "    \n",
    "    model = ISICModel(CONFIG['model_name'], pretrained=True)\n",
    "    model.to(CONFIG['device']);\n",
    "    \n",
    "    # 最後のfoldだけ勾配を記録する うまく行ってるのかよくわからん\n",
    "#     if fold==4 and WANDB:\n",
    "#         wandb.watch(model, log=\"all\", log_freq=1)\n",
    "    \n",
    "    instance_loader, class_loader, valid_loader = prepare_loaders(df_fold, fold=fold)\n",
    "    # optimizer = optim.AdamW(model.parameters(), lr=CONFIG['learning_rate'], \n",
    "    #                         weight_decay=CONFIG['weight_decay'])\n",
    "    optimizer = optim.Adam(model.parameters(), lr=CONFIG['learning_rate'], \n",
    "                           weight_decay=CONFIG['weight_decay'])\n",
    "    T_max = len(instance_loader) * CONFIG[\"epochs\"]\n",
    "    scheduler = fetch_scheduler(optimizer, T_max=T_max)\n",
    "    \n",
    "    model, history = run_training(model, optimizer, scheduler,\n",
    "                                  device=CONFIG['device'],\n",
    "                                  num_epochs=CONFIG['epochs'],\n",
    "                                  fold=fold)\n",
    "    \n",
    "    history = pd.DataFrame.from_dict(history)\n",
    "    history.to_csv(f\"{CONFIG['save_dir']}/history_fold{fold}.csv\", index=False)\n",
    "\n",
    "    #########################\n",
    "    # valの全データでスコア確認\n",
    "    #########################\n",
    "    # df_val = df[df[\"kfold\"]==fold]\n",
    "    # df_val_pred = df_val[[\"isic_id\", \"kfold\"]]\n",
    "    \n",
    "    # valid_dataset = ISICDataset(df_val, transforms=data_transforms[\"valid\"])\n",
    "    # valid_loader = DataLoader(valid_dataset, batch_size=CONFIG['valid_batch_size'], \n",
    "    #                           num_workers=2, shuffle=False, pin_memory=True)\n",
    "    \n",
    "    # preds = []\n",
    "    # with torch.no_grad():\n",
    "    #     bar = tqdm(enumerate(valid_loader), total=len(valid_loader))\n",
    "    #     for step, data in bar:        \n",
    "    #         images = data['image'].to(CONFIG[\"device\"], dtype=torch.float)        \n",
    "    #         batch_size = images.size(0)\n",
    "    #         outputs = model(images).squeeze()\n",
    "    #         preds.extend(outputs.detach().cpu().numpy().flatten())\n",
    "\n",
    "    # # pAUC計算\n",
    "    # epoch_pauc = comp_score_list(df_val[\"target\"].to_list(), preds)\n",
    "    # print(f\"fold{fold}_pAUC (not filtered): {epoch_pauc:.4f}\")\n",
    "    # list_score_notFiltered.append(epoch_pauc)\n",
    "\n",
    "    # # positiveの予測結果を保存しておく\n",
    "    # tmp = df_val[[\"isic_id\", \"patient_id\", \"kfold\", \"target\"]]\n",
    "    # tmp[\"pred\"] = preds\n",
    "    # list_df_pos_pred.append(tmp)\n",
    "    \n",
    "    # 不要なメモリを開放\n",
    "    del model, optimizer, scheduler, instance_loader, class_loader, valid_loader, history\n",
    "    torch.cuda.empty_cache()"
   ]
  },
  {
   "cell_type": "markdown",
   "id": "62360601",
   "metadata": {
    "papermill": {
     "duration": 2.046424,
     "end_time": "2024-08-03T12:31:35.026915",
     "exception": false,
     "start_time": "2024-08-03T12:31:32.980491",
     "status": "completed"
    },
    "tags": []
   },
   "source": [
    "# <span><h1 style = \"font-family: garamond; font-size: 40px; font-style: normal; letter-spcaing: 3px; background-color: #f6f5f5; color :#fe346e; border-radius: 100px 100px; text-align:center\">Logs</h1></span>"
   ]
  },
  {
   "cell_type": "code",
   "execution_count": 27,
   "id": "d5fc75d8",
   "metadata": {
    "execution": {
     "iopub.execute_input": "2024-08-03T12:31:39.064592Z",
     "iopub.status.busy": "2024-08-03T12:31:39.064224Z",
     "iopub.status.idle": "2024-08-03T12:31:39.084141Z",
     "shell.execute_reply": "2024-08-03T12:31:39.083247Z"
    },
    "papermill": {
     "duration": 2.039168,
     "end_time": "2024-08-03T12:31:39.086114",
     "exception": false,
     "start_time": "2024-08-03T12:31:37.046946",
     "status": "completed"
    },
    "tags": []
   },
   "outputs": [
    {
     "data": {
      "text/html": [
       "<div>\n",
       "<style scoped>\n",
       "    .dataframe tbody tr th:only-of-type {\n",
       "        vertical-align: middle;\n",
       "    }\n",
       "\n",
       "    .dataframe tbody tr th {\n",
       "        vertical-align: top;\n",
       "    }\n",
       "\n",
       "    .dataframe thead th {\n",
       "        text-align: right;\n",
       "    }\n",
       "</style>\n",
       "<table border=\"1\" class=\"dataframe\">\n",
       "  <thead>\n",
       "    <tr style=\"text-align: right;\">\n",
       "      <th></th>\n",
       "      <th>Train Loss</th>\n",
       "      <th>Valid Loss</th>\n",
       "      <th>Valid AUROC</th>\n",
       "      <th>lr</th>\n",
       "    </tr>\n",
       "  </thead>\n",
       "  <tbody>\n",
       "    <tr>\n",
       "      <th>0</th>\n",
       "      <td>0.661949</td>\n",
       "      <td>0.211972</td>\n",
       "      <td>0.062804</td>\n",
       "      <td>0.001000</td>\n",
       "    </tr>\n",
       "    <tr>\n",
       "      <th>1</th>\n",
       "      <td>0.621281</td>\n",
       "      <td>0.475771</td>\n",
       "      <td>0.038656</td>\n",
       "      <td>0.000998</td>\n",
       "    </tr>\n",
       "    <tr>\n",
       "      <th>2</th>\n",
       "      <td>0.632687</td>\n",
       "      <td>0.473923</td>\n",
       "      <td>0.074157</td>\n",
       "      <td>0.000996</td>\n",
       "    </tr>\n",
       "    <tr>\n",
       "      <th>3</th>\n",
       "      <td>0.624865</td>\n",
       "      <td>0.352287</td>\n",
       "      <td>0.112256</td>\n",
       "      <td>0.000994</td>\n",
       "    </tr>\n",
       "    <tr>\n",
       "      <th>4</th>\n",
       "      <td>0.626543</td>\n",
       "      <td>0.358996</td>\n",
       "      <td>0.089075</td>\n",
       "      <td>0.000990</td>\n",
       "    </tr>\n",
       "  </tbody>\n",
       "</table>\n",
       "</div>"
      ],
      "text/plain": [
       "   Train Loss  Valid Loss  Valid AUROC        lr\n",
       "0    0.661949    0.211972     0.062804  0.001000\n",
       "1    0.621281    0.475771     0.038656  0.000998\n",
       "2    0.632687    0.473923     0.074157  0.000996\n",
       "3    0.624865    0.352287     0.112256  0.000994\n",
       "4    0.626543    0.358996     0.089075  0.000990"
      ]
     },
     "execution_count": 27,
     "metadata": {},
     "output_type": "execute_result"
    }
   ],
   "source": [
    "history0 = pd.read_csv(f\"{CONFIG['save_dir']}/history_fold0.csv\")\n",
    "history1 = pd.read_csv(f\"{CONFIG['save_dir']}/history_fold1.csv\")\n",
    "history2 = pd.read_csv(f\"{CONFIG['save_dir']}/history_fold2.csv\")\n",
    "history3 = pd.read_csv(f\"{CONFIG['save_dir']}/history_fold3.csv\")\n",
    "history4 = pd.read_csv(f\"{CONFIG['save_dir']}/history_fold4.csv\")\n",
    "\n",
    "list_history = [\n",
    "    history0,\n",
    "    history1,\n",
    "    history2,\n",
    "    history3,\n",
    "    history4\n",
    "]\n",
    "\n",
    "history0.head()"
   ]
  },
  {
   "cell_type": "code",
   "execution_count": 28,
   "id": "07eebad7",
   "metadata": {
    "execution": {
     "iopub.execute_input": "2024-08-03T12:31:43.123350Z",
     "iopub.status.busy": "2024-08-03T12:31:43.122985Z",
     "iopub.status.idle": "2024-08-03T12:31:43.730109Z",
     "shell.execute_reply": "2024-08-03T12:31:43.729211Z"
    },
    "papermill": {
     "duration": 2.611967,
     "end_time": "2024-08-03T12:31:43.732974",
     "exception": false,
     "start_time": "2024-08-03T12:31:41.121007",
     "status": "completed"
    },
    "tags": []
   },
   "outputs": [
    {
     "data": {
      "image/png": "[encoded data removed]",
      "text/plain": [
       "<Figure size 1500x500 with 2 Axes>"
      ]
     },
     "metadata": {},
     "output_type": "display_data"
    }
   ],
   "source": [
    "fig, axes = plt.subplots(1, 2, figsize=(15, 5))  # 1行2列のサブプロットを作成\n",
    "\n",
    "for i, his in enumerate(list_history):\n",
    "    axes[0].plot(his[\"Train Loss\"], label=f\"fold_{i}\")  # 1つ目のサブプロットにTrain Lossを描画\n",
    "    axes[1].plot(his[\"Valid Loss\"], label=f\"fold_{i}\")  # 2つ目のサブプロットにValid Lossを描画\n",
    "\n",
    "axes[0].set_title(\"Learning Curve (Train Loss)\")\n",
    "axes[0].set_ylabel(\"Loss\")\n",
    "axes[0].set_xlabel(\"epochs\")\n",
    "axes[0].legend()\n",
    "axes[0].grid(alpha=0.2)\n",
    "# axes[0].set_ylim([0, 1])\n",
    "\n",
    "axes[1].set_title(\"Learning Curve (Valid Loss)\")\n",
    "axes[1].set_ylabel(\"Loss\")\n",
    "axes[1].set_xlabel(\"epochs\")\n",
    "axes[1].legend()\n",
    "axes[1].grid(alpha=0.2)\n",
    "# axes[1].set_ylim([0, 1])\n",
    "\n",
    "\n",
    "# PillowのImageオブジェクトに変換\n",
    "# img = Image.frombytes('RGB', fig.canvas.get_width_height(), fig.canvas.tostring_rgb())\n",
    "\n",
    "# wandbに記録\n",
    "# wandb.log({\"learning_curve_loss\": wandb.Image(img)})\n",
    "\n",
    "plt.show()"
   ]
  },
  {
   "cell_type": "code",
   "execution_count": 29,
   "id": "744ca6ad",
   "metadata": {
    "execution": {
     "iopub.execute_input": "2024-08-03T12:31:47.691678Z",
     "iopub.status.busy": "2024-08-03T12:31:47.690793Z",
     "iopub.status.idle": "2024-08-03T12:31:48.252804Z",
     "shell.execute_reply": "2024-08-03T12:31:48.251966Z"
    },
    "papermill": {
     "duration": 2.582422,
     "end_time": "2024-08-03T12:31:48.255925",
     "exception": false,
     "start_time": "2024-08-03T12:31:45.673503",
     "status": "completed"
    },
    "tags": []
   },
   "outputs": [
    {
     "data": {
      "image/png": "[encoded data removed]",
      "text/plain": [
       "<Figure size 700x500 with 1 Axes>"
      ]
     },
     "metadata": {},
     "output_type": "display_data"
    }
   ],
   "source": [
    "fig, ax = plt.subplots(figsize=(7, 5))  # 1列のサブプロットを作成\n",
    "\n",
    "for i, his in enumerate(list_history):\n",
    "    ax.plot(his[\"Valid AUROC\"], label=f\"fold_{i}\")  # Valid AUROCのみを描画\n",
    "\n",
    "ax.set_title(\"Learning Curve (Valid pAUC80)\")\n",
    "ax.set_ylabel(\"pAUC80\")\n",
    "ax.set_xlabel(\"epochs\")\n",
    "ax.legend()\n",
    "ax.grid(alpha=0.2)\n",
    "ax.set_ylim([0, 0.2])\n",
    "\n",
    "# PillowのImageオブジェクトに変換\n",
    "# img = Image.frombytes('RGB', fig.canvas.get_width_height(), fig.canvas.tostring_rgb())\n",
    "\n",
    "# # wandbに記録\n",
    "# wandb.log({\"learning_curve_pAUC80\": wandb.Image(img)})\n",
    "\n",
    "plt.show()"
   ]
  },
  {
   "cell_type": "code",
   "execution_count": 30,
   "id": "de0a4831",
   "metadata": {},
   "outputs": [],
   "source": [
    "if WANDB:\n",
    "    data = [[x, y] for (x, y) in zip(range(len(his[\"Valid AUROC\"].values)), his[\"Valid AUROC\"].values)]\n",
    "    table = wandb.Table(data=data, columns=[\"x\", \"y\"])\n",
    "    wandb.log(\n",
    "        {\n",
    "            \"learning_curve_pAUC80\": wandb.plot.line(\n",
    "                table, \"x\", \"y\", title=\"Learning Curve (Valid pAUC80)\"\n",
    "            )\n",
    "        }\n",
    "    )"
   ]
  },
  {
   "cell_type": "code",
   "execution_count": 31,
   "id": "3ddfe8b3",
   "metadata": {
    "execution": {
     "iopub.execute_input": "2024-08-03T12:31:52.287731Z",
     "iopub.status.busy": "2024-08-03T12:31:52.287389Z",
     "iopub.status.idle": "2024-08-03T12:31:52.590722Z",
     "shell.execute_reply": "2024-08-03T12:31:52.589875Z"
    },
    "papermill": {
     "duration": 2.331263,
     "end_time": "2024-08-03T12:31:52.592665",
     "exception": false,
     "start_time": "2024-08-03T12:31:50.261402",
     "status": "completed"
    },
    "tags": []
   },
   "outputs": [
    {
     "data": {
      "image/png": "[encoded data removed]",
      "text/plain": [
       "<Figure size 700x500 with 1 Axes>"
      ]
     },
     "metadata": {},
     "output_type": "display_data"
    }
   ],
   "source": [
    "fig, ax = plt.subplots(figsize=(7, 5))\n",
    "ax.grid(alpha=0.2)\n",
    "for i, his in enumerate(list_history):\n",
    "    ax.plot(his[\"lr\"], label=f\"fold_{i}\")  # 1つ目のサブプロットにTrain Lossを描画\n",
    "\n",
    "ax.set_title(\"Learning Rate\")\n",
    "ax.set_ylabel(\"lr\")\n",
    "ax.set_xlabel(\"epochs\")\n",
    "ax.legend()\n",
    "\n",
    "plt.show()"
   ]
  },
  {
   "cell_type": "code",
   "execution_count": 32,
   "id": "7fc12965",
   "metadata": {
    "execution": {
     "iopub.execute_input": "2024-08-03T12:31:56.633047Z",
     "iopub.status.busy": "2024-08-03T12:31:56.632181Z",
     "iopub.status.idle": "2024-08-03T12:31:56.647971Z",
     "shell.execute_reply": "2024-08-03T12:31:56.647054Z"
    },
    "papermill": {
     "duration": 1.953919,
     "end_time": "2024-08-03T12:31:56.649765",
     "exception": false,
     "start_time": "2024-08-03T12:31:54.695846",
     "status": "completed"
    },
    "tags": []
   },
   "outputs": [
    {
     "data": {
      "text/html": [
       "<div>\n",
       "<style scoped>\n",
       "    .dataframe tbody tr th:only-of-type {\n",
       "        vertical-align: middle;\n",
       "    }\n",
       "\n",
       "    .dataframe tbody tr th {\n",
       "        vertical-align: top;\n",
       "    }\n",
       "\n",
       "    .dataframe thead th {\n",
       "        text-align: right;\n",
       "    }\n",
       "</style>\n",
       "<table border=\"1\" class=\"dataframe\">\n",
       "  <thead>\n",
       "    <tr style=\"text-align: right;\">\n",
       "      <th></th>\n",
       "      <th>pAUC80</th>\n",
       "    </tr>\n",
       "  </thead>\n",
       "  <tbody>\n",
       "    <tr>\n",
       "      <th>fold_0</th>\n",
       "      <td>0.128</td>\n",
       "    </tr>\n",
       "    <tr>\n",
       "      <th>fold_1</th>\n",
       "      <td>0.1588</td>\n",
       "    </tr>\n",
       "    <tr>\n",
       "      <th>fold_2</th>\n",
       "      <td>0.1487</td>\n",
       "    </tr>\n",
       "    <tr>\n",
       "      <th>fold_3</th>\n",
       "      <td>0.1506</td>\n",
       "    </tr>\n",
       "    <tr>\n",
       "      <th>fold_4</th>\n",
       "      <td>0.1472</td>\n",
       "    </tr>\n",
       "    <tr>\n",
       "      <th>mean</th>\n",
       "      <td>0.1467</td>\n",
       "    </tr>\n",
       "    <tr>\n",
       "      <th>std</th>\n",
       "      <td>0.0093</td>\n",
       "    </tr>\n",
       "  </tbody>\n",
       "</table>\n",
       "</div>"
      ],
      "text/plain": [
       "        pAUC80\n",
       "fold_0   0.128\n",
       "fold_1  0.1588\n",
       "fold_2  0.1487\n",
       "fold_3  0.1506\n",
       "fold_4  0.1472\n",
       "mean    0.1467\n",
       "std     0.0093"
      ]
     },
     "execution_count": 32,
     "metadata": {},
     "output_type": "execute_result"
    }
   ],
   "source": [
    "pd.options.display.precision = 4\n",
    "\n",
    "df_pauc = pd.DataFrame(columns=[\"pAUC80\"])\n",
    "for i, his in enumerate(list_history):\n",
    "    df_pauc.loc[f\"fold_{i}\", \"pAUC80\"] = his[\"Valid AUROC\"].values[-1]\n",
    "\n",
    "# df_pauc[\"pAUC80_notFiltered\"] = list_score_notFiltered\n",
    "df_pauc.loc[\"mean\", \"pAUC80\"] = np.mean(df_pauc[\"pAUC80\"])\n",
    "df_pauc.loc[\"std\", \"pAUC80\"] = np.std(df_pauc[\"pAUC80\"])\n",
    "# df_pauc.loc[\"mean\", \"pAUC80_notFiltered\"] = np.mean(df_pauc[\"pAUC80_notFiltered\"])\n",
    "# df_pauc.loc[\"std\", \"pAUC80_notFiltered\"] = np.std(df_pauc[\"pAUC80_notFiltered\"])\n",
    "df_pauc"
   ]
  },
  {
   "cell_type": "code",
   "execution_count": 33,
   "id": "f078b046",
   "metadata": {
    "execution": {
     "iopub.execute_input": "2024-08-03T12:32:00.693866Z",
     "iopub.status.busy": "2024-08-03T12:32:00.693178Z",
     "iopub.status.idle": "2024-08-03T12:32:07.647772Z",
     "shell.execute_reply": "2024-08-03T12:32:07.647070Z"
    },
    "papermill": {
     "duration": 8.989213,
     "end_time": "2024-08-03T12:32:07.649713",
     "exception": false,
     "start_time": "2024-08-03T12:31:58.660500",
     "status": "completed"
    },
    "tags": []
   },
   "outputs": [],
   "source": [
    "if WANDB:\n",
    "    wandb.log({\"pAUC80_fold0\": df_pauc.loc[\"fold_0\", \"pAUC80\"]})\n",
    "    wandb.log({\"pAUC80_fold1\": df_pauc.loc[\"fold_1\", \"pAUC80\"]})\n",
    "    wandb.log({\"pAUC80_fold2\": df_pauc.loc[\"fold_2\", \"pAUC80\"]})\n",
    "    wandb.log({\"pAUC80_fold3\": df_pauc.loc[\"fold_3\", \"pAUC80\"]})\n",
    "    wandb.log({\"pAUC80_fold4\": df_pauc.loc[\"fold_4\", \"pAUC80\"]})\n",
    "    wandb.log({\"pAUC80_mean\": df_pauc.loc[\"mean\", \"pAUC80\"]})\n",
    "\n",
    "    # wandb.log({\"pAUC80_fold0_notFiltered\": df_pauc.loc[\"fold_0\", \"pAUC80_notFiltered\"]})\n",
    "    # wandb.log({\"pAUC80_fold1_notFiltered\": df_pauc.loc[\"fold_1\", \"pAUC80_notFiltered\"]})\n",
    "    # wandb.log({\"pAUC80_fold2_notFiltered\": df_pauc.loc[\"fold_2\", \"pAUC80_notFiltered\"]})\n",
    "    # wandb.log({\"pAUC80_fold3_notFiltered\": df_pauc.loc[\"fold_3\", \"pAUC80_notFiltered\"]})\n",
    "    # wandb.log({\"pAUC80_fold4_notFiltered\": df_pauc.loc[\"fold_4\", \"pAUC80_notFiltered\"]})\n",
    "    # wandb.log({\"pAUC80_mean_notFiltered\": df_pauc.loc[\"mean\", \"pAUC80_notFiltered\"]})\n",
    "\n",
    "    wandb.finish()"
   ]
  },
  {
   "cell_type": "code",
   "execution_count": 34,
   "id": "ca5a4d27",
   "metadata": {
    "execution": {
     "iopub.execute_input": "2024-08-03T12:32:11.682771Z",
     "iopub.status.busy": "2024-08-03T12:32:11.681932Z",
     "iopub.status.idle": "2024-08-03T12:32:11.686148Z",
     "shell.execute_reply": "2024-08-03T12:32:11.685273Z"
    },
    "papermill": {
     "duration": 2.031107,
     "end_time": "2024-08-03T12:32:11.688087",
     "exception": false,
     "start_time": "2024-08-03T12:32:09.656980",
     "status": "completed"
    },
    "tags": []
   },
   "outputs": [],
   "source": [
    "# wandb.finish()"
   ]
  },
  {
   "cell_type": "code",
   "execution_count": 35,
   "id": "13b092e4",
   "metadata": {},
   "outputs": [],
   "source": [
    "# for fold in range(5):\n",
    "#     score = df_pauc.loc[f\"fold_{fold}\", \"pAUC80_notFiltered\"]\n",
    "#     print(\"===\"*10)\n",
    "#     print(f\"Fold{fold} (Score: {score:.4f})\")\n",
    "#     print(\"===\"*10)\n",
    "#     tmp = list_df_pos_pred[fold].sort_values(by=\"pred\", ascending=False).reset_index(drop=True)\n",
    "#     tmp[\"Rank\"] = tmp.index\n",
    "#     tmp[\"Rank_percent\"] = 100 * tmp[\"Rank\"] / len(tmp) \n",
    "#     pos = tmp.loc[tmp[\"target\"]==1, [\"isic_id\", \"patient_id\", \"Rank\", \"Rank_percent\", \"pred\"]].reset_index(drop=True)\n",
    "#     display(pos.tail(10))\n",
    "#     print()"
   ]
  }
 ],
 "metadata": {
  "kaggle": {
   "accelerator": "gpu",
   "dataSources": [
    {
     "databundleVersionId": 9094797,
     "sourceId": 63056,
     "sourceType": "competition"
    },
    {
     "modelId": 312,
     "modelInstanceId": 2656,
     "sourceId": 3729,
     "sourceType": "modelInstanceVersion"
    }
   ],
   "isGpuEnabled": true,
   "isInternetEnabled": true,
   "language": "python",
   "sourceType": "notebook"
  },
  "kernelspec": {
   "display_name": "Python 3",
   "language": "python",
   "name": "python3"
  },
  "language_info": {
   "codemirror_mode": {
    "name": "ipython",
    "version": 3
   },
   "file_extension": ".py",
   "mimetype": "text/x-python",
   "name": "python",
   "nbconvert_exporter": "python",
   "pygments_lexer": "ipython3",
   "version": "3.10.12"
  },
  "papermill": {
   "default_parameters": {},
   "duration": 3899.537456,
   "end_time": "2024-08-03T12:32:21.533444",
   "environment_variables": {},
   "exception": null,
   "input_path": "__notebook__.ipynb",
   "output_path": "__notebook__.ipynb",
   "parameters": {},
   "start_time": "2024-08-03T11:27:21.995988",
   "version": "2.5.0"
  },
  "widgets": {
   "application/vnd.jupyter.widget-state+json": {
    "state": {
     "01955731ce0a4145820f7e5314bda573": {
      "model_module": "@jupyter-widgets/controls",
      "model_module_version": "1.5.0",
      "model_name": "DescriptionStyleModel",
      "state": {
       "_model_module": "@jupyter-widgets/controls",
       "_model_module_version": "1.5.0",
       "_model_name": "DescriptionStyleModel",
       "_view_count": null,
       "_view_module": "@jupyter-widgets/base",
       "_view_module_version": "1.2.0",
       "_view_name": "StyleView",
       "description_width": ""
      }
     },
     "0a6edeed0a0f4523b95ce9b8414dd124": {
      "model_module": "@jupyter-widgets/controls",
      "model_module_version": "1.5.0",
      "model_name": "HTMLModel",
      "state": {
       "_dom_classes": [],
       "_model_module": "@jupyter-widgets/controls",
       "_model_module_version": "1.5.0",
       "_model_name": "HTMLModel",
       "_view_count": null,
       "_view_module": "@jupyter-widgets/controls",
       "_view_module_version": "1.5.0",
       "_view_name": "HTMLView",
       "description": "",
       "description_tooltip": null,
       "layout": "IPY_MODEL_c078f8b3f54d44d1ba4f55e0abee593c",
       "placeholder": "​",
       "style": "IPY_MODEL_01955731ce0a4145820f7e5314bda573",
       "value": "model.safetensors: 100%"
      }
     },
     "3872e74bfc1a4da2bcc871a9a3c7b366": {
      "model_module": "@jupyter-widgets/controls",
      "model_module_version": "1.5.0",
      "model_name": "FloatProgressModel",
      "state": {
       "_dom_classes": [],
       "_model_module": "@jupyter-widgets/controls",
       "_model_module_version": "1.5.0",
       "_model_name": "FloatProgressModel",
       "_view_count": null,
       "_view_module": "@jupyter-widgets/controls",
       "_view_module_version": "1.5.0",
       "_view_name": "ProgressView",
       "bar_style": "success",
       "description": "",
       "description_tooltip": null,
       "layout": "IPY_MODEL_ee121baa37c04a78ac880ef46d5f2567",
       "max": 21355344,
       "min": 0,
       "orientation": "horizontal",
       "style": "IPY_MODEL_de6cd1dd72c44157a9b1bf360752f134",
       "value": 21355344
      }
     },
     "4671fd1e411b4e109f5dbf6c3d4b2bdc": {
      "model_module": "@jupyter-widgets/base",
      "model_module_version": "1.2.0",
      "model_name": "LayoutModel",
      "state": {
       "_model_module": "@jupyter-widgets/base",
       "_model_module_version": "1.2.0",
       "_model_name": "LayoutModel",
       "_view_count": null,
       "_view_module": "@jupyter-widgets/base",
       "_view_module_version": "1.2.0",
       "_view_name": "LayoutView",
       "align_content": null,
       "align_items": null,
       "align_self": null,
       "border": null,
       "bottom": null,
       "display": null,
       "flex": null,
       "flex_flow": null,
       "grid_area": null,
       "grid_auto_columns": null,
       "grid_auto_flow": null,
       "grid_auto_rows": null,
       "grid_column": null,
       "grid_gap": null,
       "grid_row": null,
       "grid_template_areas": null,
       "grid_template_columns": null,
       "grid_template_rows": null,
       "height": null,
       "justify_content": null,
       "justify_items": null,
       "left": null,
       "margin": null,
       "max_height": null,
       "max_width": null,
       "min_height": null,
       "min_width": null,
       "object_fit": null,
       "object_position": null,
       "order": null,
       "overflow": null,
       "overflow_x": null,
       "overflow_y": null,
       "padding": null,
       "right": null,
       "top": null,
       "visibility": null,
       "width": null
      }
     },
     "b3dd3ee3a65d4ff28540603be012cb38": {
      "model_module": "@jupyter-widgets/controls",
      "model_module_version": "1.5.0",
      "model_name": "DescriptionStyleModel",
      "state": {
       "_model_module": "@jupyter-widgets/controls",
       "_model_module_version": "1.5.0",
       "_model_name": "DescriptionStyleModel",
       "_view_count": null,
       "_view_module": "@jupyter-widgets/base",
       "_view_module_version": "1.2.0",
       "_view_name": "StyleView",
       "description_width": ""
      }
     },
     "c078f8b3f54d44d1ba4f55e0abee593c": {
      "model_module": "@jupyter-widgets/base",
      "model_module_version": "1.2.0",
      "model_name": "LayoutModel",
      "state": {
       "_model_module": "@jupyter-widgets/base",
       "_model_module_version": "1.2.0",
       "_model_name": "LayoutModel",
       "_view_count": null,
       "_view_module": "@jupyter-widgets/base",
       "_view_module_version": "1.2.0",
       "_view_name": "LayoutView",
       "align_content": null,
       "align_items": null,
       "align_self": null,
       "border": null,
       "bottom": null,
       "display": null,
       "flex": null,
       "flex_flow": null,
       "grid_area": null,
       "grid_auto_columns": null,
       "grid_auto_flow": null,
       "grid_auto_rows": null,
       "grid_column": null,
       "grid_gap": null,
       "grid_row": null,
       "grid_template_areas": null,
       "grid_template_columns": null,
       "grid_template_rows": null,
       "height": null,
       "justify_content": null,
       "justify_items": null,
       "left": null,
       "margin": null,
       "max_height": null,
       "max_width": null,
       "min_height": null,
       "min_width": null,
       "object_fit": null,
       "object_position": null,
       "order": null,
       "overflow": null,
       "overflow_x": null,
       "overflow_y": null,
       "padding": null,
       "right": null,
       "top": null,
       "visibility": null,
       "width": null
      }
     },
     "cbdde796332549c3873d4c27de89feca": {
      "model_module": "@jupyter-widgets/base",
      "model_module_version": "1.2.0",
      "model_name": "LayoutModel",
      "state": {
       "_model_module": "@jupyter-widgets/base",
       "_model_module_version": "1.2.0",
       "_model_name": "LayoutModel",
       "_view_count": null,
       "_view_module": "@jupyter-widgets/base",
       "_view_module_version": "1.2.0",
       "_view_name": "LayoutView",
       "align_content": null,
       "align_items": null,
       "align_self": null,
       "border": null,
       "bottom": null,
       "display": null,
       "flex": null,
       "flex_flow": null,
       "grid_area": null,
       "grid_auto_columns": null,
       "grid_auto_flow": null,
       "grid_auto_rows": null,
       "grid_column": null,
       "grid_gap": null,
       "grid_row": null,
       "grid_template_areas": null,
       "grid_template_columns": null,
       "grid_template_rows": null,
       "height": null,
       "justify_content": null,
       "justify_items": null,
       "left": null,
       "margin": null,
       "max_height": null,
       "max_width": null,
       "min_height": null,
       "min_width": null,
       "object_fit": null,
       "object_position": null,
       "order": null,
       "overflow": null,
       "overflow_x": null,
       "overflow_y": null,
       "padding": null,
       "right": null,
       "top": null,
       "visibility": null,
       "width": null
      }
     },
     "de6cd1dd72c44157a9b1bf360752f134": {
      "model_module": "@jupyter-widgets/controls",
      "model_module_version": "1.5.0",
      "model_name": "ProgressStyleModel",
      "state": {
       "_model_module": "@jupyter-widgets/controls",
       "_model_module_version": "1.5.0",
       "_model_name": "ProgressStyleModel",
       "_view_count": null,
       "_view_module": "@jupyter-widgets/base",
       "_view_module_version": "1.2.0",
       "_view_name": "StyleView",
       "bar_color": null,
       "description_width": ""
      }
     },
     "ee121baa37c04a78ac880ef46d5f2567": {
      "model_module": "@jupyter-widgets/base",
      "model_module_version": "1.2.0",
      "model_name": "LayoutModel",
      "state": {
       "_model_module": "@jupyter-widgets/base",
       "_model_module_version": "1.2.0",
       "_model_name": "LayoutModel",
       "_view_count": null,
       "_view_module": "@jupyter-widgets/base",
       "_view_module_version": "1.2.0",
       "_view_name": "LayoutView",
       "align_content": null,
       "align_items": null,
       "align_self": null,
       "border": null,
       "bottom": null,
       "display": null,
       "flex": null,
       "flex_flow": null,
       "grid_area": null,
       "grid_auto_columns": null,
       "grid_auto_flow": null,
       "grid_auto_rows": null,
       "grid_column": null,
       "grid_gap": null,
       "grid_row": null,
       "grid_template_areas": null,
       "grid_template_columns": null,
       "grid_template_rows": null,
       "height": null,
       "justify_content": null,
       "justify_items": null,
       "left": null,
       "margin": null,
       "max_height": null,
       "max_width": null,
       "min_height": null,
       "min_width": null,
       "object_fit": null,
       "object_position": null,
       "order": null,
       "overflow": null,
       "overflow_x": null,
       "overflow_y": null,
       "padding": null,
       "right": null,
       "top": null,
       "visibility": null,
       "width": null
      }
     },
     "f05b1c9300e8444387feae26fb5e35ca": {
      "model_module": "@jupyter-widgets/controls",
      "model_module_version": "1.5.0",
      "model_name": "HBoxModel",
      "state": {
       "_dom_classes": [],
       "_model_module": "@jupyter-widgets/controls",
       "_model_module_version": "1.5.0",
       "_model_name": "HBoxModel",
       "_view_count": null,
       "_view_module": "@jupyter-widgets/controls",
       "_view_module_version": "1.5.0",
       "_view_name": "HBoxView",
       "box_style": "",
       "children": [
        "IPY_MODEL_0a6edeed0a0f4523b95ce9b8414dd124",
        "IPY_MODEL_3872e74bfc1a4da2bcc871a9a3c7b366",
        "IPY_MODEL_f66e046f739440aeb3ceb3daa9565dc6"
       ],
       "layout": "IPY_MODEL_cbdde796332549c3873d4c27de89feca"
      }
     },
     "f66e046f739440aeb3ceb3daa9565dc6": {
      "model_module": "@jupyter-widgets/controls",
      "model_module_version": "1.5.0",
      "model_name": "HTMLModel",
      "state": {
       "_dom_classes": [],
       "_model_module": "@jupyter-widgets/controls",
       "_model_module_version": "1.5.0",
       "_model_name": "HTMLModel",
       "_view_count": null,
       "_view_module": "@jupyter-widgets/controls",
       "_view_module_version": "1.5.0",
       "_view_name": "HTMLView",
       "description": "",
       "description_tooltip": null,
       "layout": "IPY_MODEL_4671fd1e411b4e109f5dbf6c3d4b2bdc",
       "placeholder": "​",
       "style": "IPY_MODEL_b3dd3ee3a65d4ff28540603be012cb38",
       "value": " 21.4M/21.4M [00:00&lt;00:00, 69.5MB/s]"
      }
     }
    },
    "version_major": 2,
    "version_minor": 0
   }
  }
 },
 "nbformat": 4,
 "nbformat_minor": 5
}
